{
 "cells": [
  {
   "cell_type": "markdown",
   "metadata": {},
   "source": [
    "# Scrape BC Liquor Store Website"
   ]
  },
  {
   "cell_type": "markdown",
   "metadata": {},
   "source": [
    "### Import libraries"
   ]
  },
  {
   "cell_type": "code",
   "execution_count": 4,
   "metadata": {},
   "outputs": [],
   "source": [
    "import requests\n",
    "from bs4 import BeautifulSoup\n",
    "from selenium import webdriver\n",
    "import time\n",
    "import pandas as pd\n",
    "import re\n",
    "from tqdm import tqdm\n",
    "import csv"
   ]
  },
  {
   "cell_type": "markdown",
   "metadata": {},
   "source": [
    "### Functions to scrape information from the website"
   ]
  },
  {
   "cell_type": "code",
   "execution_count": 5,
   "metadata": {},
   "outputs": [],
   "source": [
    "def find_tags(var,begin,end):\n",
    "    price =[]\n",
    "    name=[]\n",
    "    page =[]\n",
    "    country =[]\n",
    "    sku_link = []\n",
    "    SCROLL_PAUSE_TIME = 5\n",
    "    driver = webdriver.Chrome('C:/Users/Hai Ninh/Python Learning/chromedriver')\n",
    "    \n",
    "    for pagenum in tqdm(range(begin,end)):\n",
    "        driver.get('https://www.bcliquorstores.com/product-catalogue?category=%s&sort=name.raw:asc&page=%d' % (var,pagenum))\n",
    "        driver.execute_script(\"window.scrollTo(0, document.body.scrollHeight);\")\n",
    "        time.sleep(5)\n",
    "        \n",
    "        page_source = driver.page_source\n",
    "        soup = BeautifulSoup(page_source,'html.parser')\n",
    "        \n",
    "        name_i = [i.get_text() for i in soup.find_all('h3', class_ = \"product-name\")]\n",
    "        country_i = [i.get_text() for i in soup.find_all('span', class_ = \"country-code\")]\n",
    "        sku_link_i = [i.get('href') for i in soup.find_all('a')][118:214:4]\n",
    "        price_i= [i.get_text() for i in soup.find_all('div', class_ = \"product-price\")]\n",
    "        \n",
    "        #append to the final list\n",
    "        name.append(name_i)\n",
    "        country.append(country_i)\n",
    "        sku_link.append(sku_link_i)\n",
    "        price.append(price_i)\n",
    "    \n",
    "    return name, country, sku_link, price"
   ]
  },
  {
   "cell_type": "code",
   "execution_count": 12,
   "metadata": {},
   "outputs": [
    {
     "name": "stderr",
     "output_type": "stream",
     "text": [
      "100%|██████████| 21/21 [02:00<00:00,  5.74s/it]\n"
     ]
    }
   ],
   "source": [
    "name, country, sku_link, price = find_tags('beer', 1, 22)\n",
    "name = [i for m in name for i in m]\n",
    "country = [i for m in country for i in m]\n",
    "sku_link= [i for m in sku_link for i in m][:-3]\n",
    "price= [i for m in price for i in m]"
   ]
  },
  {
   "cell_type": "code",
   "execution_count": 15,
   "metadata": {},
   "outputs": [],
   "source": [
    "df = pd.DataFrame({\"name\": name, \"country\":country, \"price\": price, \"sku_link\": sku_link})"
   ]
  },
  {
   "cell_type": "code",
   "execution_count": 16,
   "metadata": {
    "scrolled": false
   },
   "outputs": [
    {
     "data": {
      "text/html": [
       "<div>\n",
       "<style scoped>\n",
       "    .dataframe tbody tr th:only-of-type {\n",
       "        vertical-align: middle;\n",
       "    }\n",
       "\n",
       "    .dataframe tbody tr th {\n",
       "        vertical-align: top;\n",
       "    }\n",
       "\n",
       "    .dataframe thead th {\n",
       "        text-align: right;\n",
       "    }\n",
       "</style>\n",
       "<table border=\"1\" class=\"dataframe\">\n",
       "  <thead>\n",
       "    <tr style=\"text-align: right;\">\n",
       "      <th></th>\n",
       "      <th>name</th>\n",
       "      <th>country</th>\n",
       "      <th>price</th>\n",
       "      <th>sku_link</th>\n",
       "    </tr>\n",
       "  </thead>\n",
       "  <tbody>\n",
       "    <tr>\n",
       "      <th>0</th>\n",
       "      <td>33 ACRES OF LIFE LAGER</td>\n",
       "      <td>Canada</td>\n",
       "      <td>$12.29</td>\n",
       "      <td>/product/772335</td>\n",
       "    </tr>\n",
       "    <tr>\n",
       "      <th>1</th>\n",
       "      <td>33 ACRES OF NIRVANA 6 PACK</td>\n",
       "      <td>Canada</td>\n",
       "      <td>$13.49</td>\n",
       "      <td>/product/880930</td>\n",
       "    </tr>\n",
       "    <tr>\n",
       "      <th>2</th>\n",
       "      <td>33 ACRES OF OCEAN PALE ALE</td>\n",
       "      <td>Canada</td>\n",
       "      <td>$12.29</td>\n",
       "      <td>/product/837591</td>\n",
       "    </tr>\n",
       "    <tr>\n",
       "      <th>3</th>\n",
       "      <td>33 ACRES OF SUNSHINE BLANCHE</td>\n",
       "      <td>Canada</td>\n",
       "      <td>$12.29</td>\n",
       "      <td>/product/90837</td>\n",
       "    </tr>\n",
       "    <tr>\n",
       "      <th>4</th>\n",
       "      <td>33 ACRES OF SUNSHINE CAN</td>\n",
       "      <td>Canada</td>\n",
       "      <td>$21.99</td>\n",
       "      <td>/product/23859</td>\n",
       "    </tr>\n",
       "  </tbody>\n",
       "</table>\n",
       "</div>"
      ],
      "text/plain": [
       "                           name country   price         sku_link\n",
       "0        33 ACRES OF LIFE LAGER  Canada  $12.29  /product/772335\n",
       "1    33 ACRES OF NIRVANA 6 PACK  Canada  $13.49  /product/880930\n",
       "2    33 ACRES OF OCEAN PALE ALE  Canada  $12.29  /product/837591\n",
       "3  33 ACRES OF SUNSHINE BLANCHE  Canada  $12.29   /product/90837\n",
       "4      33 ACRES OF SUNSHINE CAN  Canada  $21.99   /product/23859"
      ]
     },
     "execution_count": 16,
     "metadata": {},
     "output_type": "execute_result"
    }
   ],
   "source": [
    "df = pd.read_csv('bcstores.csv')\n",
    "df.head()"
   ]
  },
  {
   "cell_type": "code",
   "execution_count": 19,
   "metadata": {},
   "outputs": [],
   "source": [
    "def product_details(links):\n",
    "   \n",
    "    alc = []\n",
    "    style = []\n",
    "    beer_type =[]\n",
    "    desc = []\n",
    "    driver = webdriver.Chrome('C:/Users/Hai Ninh/Python Learning/chromedriver')\n",
    "    \n",
    "    for sku in tqdm(links):\n",
    "        driver.get('https://www.bcliquorstores.com%s' % (sku))\n",
    "        time.sleep(5)\n",
    "        page_source = driver.page_source\n",
    "        soup = BeautifulSoup(page_source,'html.parser')\n",
    "        alc_i = [i.get_text() for i in soup.find_all('span', attrs={\"data-bind\": \"text: _source.alcoholPercentage + '%'\" })]\n",
    "        style_i = [i.get_text() for i in soup.find_all('span', attrs={\"data-bind\": \"text: _source.style\" })]\n",
    "        beer_type_i = [i.get_text() for i in soup.find_all('span', attrs={\"data-bind\": \"text: $root.FormatProductType($data._source)\" })]\n",
    "        desc_i = [i.get_text() for i in soup.find_all('span', attrs={\"data-bind\": \"text: _source.tastingDescription\" })]\n",
    "        \n",
    "        #append to the final list\n",
    "        alc.append(alc_i)\n",
    "        style.append(style_i)\n",
    "        beer_type.append(beer_type_i)\n",
    "        desc.append(desc_i)\n",
    "    \n",
    "    return alc,style,beer_type,desc"
   ]
  },
  {
   "cell_type": "code",
   "execution_count": 20,
   "metadata": {},
   "outputs": [
    {
     "name": "stderr",
     "output_type": "stream",
     "text": [
      "100%|██████████| 501/501 [48:10<00:00,  5.77s/it]\n"
     ]
    }
   ],
   "source": [
    "alc,style,beer_type,desc = product_details(df.sku_link)"
   ]
  },
  {
   "cell_type": "code",
   "execution_count": 73,
   "metadata": {},
   "outputs": [],
   "source": [
    "# alcohol by volume\n",
    "df['alc'] = [i for m in alc for i in m][0::2]\n",
    "\n",
    "# beer style\n",
    "style_final = []\n",
    "\n",
    "for i in style:\n",
    "    if i == []:\n",
    "        style_final.append(['No info','No info'])\n",
    "    else: \n",
    "        style_final.append(i)\n",
    "\n",
    "df['style'] = [i for m in style_final for i in m][0::2]\n",
    "\n",
    "# beer type\n",
    "df['beer_type'] = [i for m in beer_type for i in m][0::2]\n",
    "\n",
    "#description\n",
    "desc_final = []\n",
    "\n",
    "for i in desc:\n",
    "    if i == []:\n",
    "        desc_final.append(['No info','No info'])\n",
    "    else: \n",
    "        desc_final.append(i)\n",
    "        \n",
    "df['desc'] = [i for m in desc_final for i in m][0::2]"
   ]
  },
  {
   "cell_type": "code",
   "execution_count": 74,
   "metadata": {},
   "outputs": [
    {
     "data": {
      "text/html": [
       "<div>\n",
       "<style scoped>\n",
       "    .dataframe tbody tr th:only-of-type {\n",
       "        vertical-align: middle;\n",
       "    }\n",
       "\n",
       "    .dataframe tbody tr th {\n",
       "        vertical-align: top;\n",
       "    }\n",
       "\n",
       "    .dataframe thead th {\n",
       "        text-align: right;\n",
       "    }\n",
       "</style>\n",
       "<table border=\"1\" class=\"dataframe\">\n",
       "  <thead>\n",
       "    <tr style=\"text-align: right;\">\n",
       "      <th></th>\n",
       "      <th>name</th>\n",
       "      <th>country</th>\n",
       "      <th>price</th>\n",
       "      <th>sku_link</th>\n",
       "      <th>alc</th>\n",
       "      <th>style</th>\n",
       "      <th>beer_type</th>\n",
       "      <th>desc</th>\n",
       "    </tr>\n",
       "  </thead>\n",
       "  <tbody>\n",
       "    <tr>\n",
       "      <th>0</th>\n",
       "      <td>33 ACRES OF LIFE LAGER</td>\n",
       "      <td>Canada</td>\n",
       "      <td>$12.29</td>\n",
       "      <td>/product/772335</td>\n",
       "      <td>4.8%</td>\n",
       "      <td>California Common Or Steam</td>\n",
       "      <td>Domestic Beer - BC Craft Beer</td>\n",
       "      <td>1848, West Coast convictions of resourcefulnes...</td>\n",
       "    </tr>\n",
       "    <tr>\n",
       "      <th>1</th>\n",
       "      <td>33 ACRES OF NIRVANA 6 PACK</td>\n",
       "      <td>Canada</td>\n",
       "      <td>$13.49</td>\n",
       "      <td>/product/880930</td>\n",
       "      <td>7%</td>\n",
       "      <td>India Pale Ale</td>\n",
       "      <td>Domestic Beer - BC Craft Beer</td>\n",
       "      <td>33 Acres is one of Vancouver’s most well-loved...</td>\n",
       "    </tr>\n",
       "    <tr>\n",
       "      <th>2</th>\n",
       "      <td>33 ACRES OF OCEAN PALE ALE</td>\n",
       "      <td>Canada</td>\n",
       "      <td>$12.29</td>\n",
       "      <td>/product/837591</td>\n",
       "      <td>5.6%</td>\n",
       "      <td>Pale Ale</td>\n",
       "      <td>Domestic Beer - BC Craft Beer</td>\n",
       "      <td>A full flavoured beer integrated with a distin...</td>\n",
       "    </tr>\n",
       "    <tr>\n",
       "      <th>3</th>\n",
       "      <td>33 ACRES OF SUNSHINE BLANCHE</td>\n",
       "      <td>Canada</td>\n",
       "      <td>$12.29</td>\n",
       "      <td>/product/90837</td>\n",
       "      <td>5%</td>\n",
       "      <td>Wheat</td>\n",
       "      <td>Domestic Beer - BC Craft Beer</td>\n",
       "      <td>Thanks to summers' launching acclaims, this ro...</td>\n",
       "    </tr>\n",
       "    <tr>\n",
       "      <th>4</th>\n",
       "      <td>33 ACRES OF SUNSHINE CAN</td>\n",
       "      <td>Canada</td>\n",
       "      <td>$21.99</td>\n",
       "      <td>/product/23859</td>\n",
       "      <td>5%</td>\n",
       "      <td>Wheat</td>\n",
       "      <td>Domestic Beer - BC Craft Beer</td>\n",
       "      <td>No info</td>\n",
       "    </tr>\n",
       "  </tbody>\n",
       "</table>\n",
       "</div>"
      ],
      "text/plain": [
       "                           name country   price         sku_link   alc  \\\n",
       "0        33 ACRES OF LIFE LAGER  Canada  $12.29  /product/772335  4.8%   \n",
       "1    33 ACRES OF NIRVANA 6 PACK  Canada  $13.49  /product/880930    7%   \n",
       "2    33 ACRES OF OCEAN PALE ALE  Canada  $12.29  /product/837591  5.6%   \n",
       "3  33 ACRES OF SUNSHINE BLANCHE  Canada  $12.29   /product/90837    5%   \n",
       "4      33 ACRES OF SUNSHINE CAN  Canada  $21.99   /product/23859    5%   \n",
       "\n",
       "                        style                      beer_type  \\\n",
       "0  California Common Or Steam  Domestic Beer - BC Craft Beer   \n",
       "1              India Pale Ale  Domestic Beer - BC Craft Beer   \n",
       "2                    Pale Ale  Domestic Beer - BC Craft Beer   \n",
       "3                       Wheat  Domestic Beer - BC Craft Beer   \n",
       "4                       Wheat  Domestic Beer - BC Craft Beer   \n",
       "\n",
       "                                                desc  \n",
       "0  1848, West Coast convictions of resourcefulnes...  \n",
       "1  33 Acres is one of Vancouver’s most well-loved...  \n",
       "2  A full flavoured beer integrated with a distin...  \n",
       "3  Thanks to summers' launching acclaims, this ro...  \n",
       "4                                            No info  "
      ]
     },
     "execution_count": 74,
     "metadata": {},
     "output_type": "execute_result"
    }
   ],
   "source": [
    "df.head()"
   ]
  },
  {
   "cell_type": "code",
   "execution_count": 76,
   "metadata": {},
   "outputs": [],
   "source": [
    "# df.to_csv('bcstores.csv', index=False)"
   ]
  }
 ],
 "metadata": {
  "kernelspec": {
   "display_name": "Python 3",
   "language": "python",
   "name": "python3"
  },
  "language_info": {
   "codemirror_mode": {
    "name": "ipython",
    "version": 3
   },
   "file_extension": ".py",
   "mimetype": "text/x-python",
   "name": "python",
   "nbconvert_exporter": "python",
   "pygments_lexer": "ipython3",
   "version": "3.7.6"
  }
 },
 "nbformat": 4,
 "nbformat_minor": 2
}
