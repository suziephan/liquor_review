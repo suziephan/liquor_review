{
 "cells": [
  {
   "cell_type": "code",
   "execution_count": 2,
   "metadata": {},
   "outputs": [],
   "source": [
    "import requests\n",
    "from bs4 import BeautifulSoup\n",
    "import lxml.html\n",
    "from selenium import webdriver\n",
    "import time\n",
    "import pandas as pd\n",
    "import re\n",
    "from tqdm import tqdm\n",
    "from selenium import webdriver\n",
    "from selenium.webdriver.common.by import By\n",
    "from selenium.webdriver.support.ui import WebDriverWait\n",
    "from selenium.webdriver.support import expected_conditions as EC"
   ]
  },
  {
   "cell_type": "code",
   "execution_count": 3,
   "metadata": {},
   "outputs": [],
   "source": [
    "def scrape_more_beer(pages):\n",
    "    driver = webdriver.Chrome('/home/sam/Downloads/chromedriver')\n",
    "    url = 'https://www.beeradvocate.com/community/login/'\n",
    "    driver.get(url)\n",
    "    \n",
    "    login_element = WebDriverWait(driver, 20).until(EC.element_to_be_clickable((By.XPATH, '//form[@class=\"xenForm formOverlay\"]//dd//input[@name =\"login\"]')))\n",
    "    login_element.send_keys('HaniNguyen_1803')\n",
    "\n",
    "    pw_element = WebDriverWait(driver, 20).until(EC.element_to_be_clickable((By.XPATH, '//form[@class=\"xenForm formOverlay\"]//dl[@class =\"ctrlUnit\"]//dd//ul//li[@id = \"ctrl_pageLogin_registered_Disabler\"]//input[@name =\"password\"]')))\n",
    "    pw_element.send_keys('scrapebeer1234')\n",
    "\n",
    "    page_click = WebDriverWait(driver, 20).until(EC.element_to_be_clickable((By.XPATH, '//form[@class=\"xenForm formOverlay\"]//dl[@class =\"ctrlUnit submitUnit\"]//dd//input[@type =\"submit\"]')))\n",
    "    page_click.click()\n",
    "    \n",
    "    mnf = []\n",
    "    pro_link = []\n",
    "    product = []\n",
    "    for page_num in tqdm(range(0,pages,50)):\n",
    "        new_url = \"https://www.beeradvocate.com/user/beers/?start=%d&&ba=HaniNguyen_1803&order=dateD&view=W\" %(page_num)\n",
    "        req = driver.get(new_url)\n",
    "        driver.execute_script(\"window.scrollTo(0, document.body.scrollHeight);\")\n",
    "        time.sleep(3)\n",
    "        page_source = driver.page_source\n",
    "        soup = lxml.html.fromstring(page_source)\n",
    "        mnf_i = soup.xpath('//td[@valign =\"top\"]/a/text()')[::2]\n",
    "        pro_link_i = soup.xpath('//td[@valign =\"top\"]/a/@href')[::3]\n",
    "        product_i = soup.xpath('//td[@valign =\"top\"]/a/b/text()')\n",
    "        mnf.append(mnf_i)\n",
    "        pro_link.append(pro_link_i)\n",
    "        product.append(product_i)\n",
    "        \n",
    "    pro_link_rm_ns_ls = [ i for m in pro_link for i in m]\n",
    "    mnf_rm_ns_ls = [ i for m in mnf for i in m]\n",
    "    product_rm_ns_ls = [ i for m in product for i in m]\n",
    "    mnf = pd.DataFrame({'mnf': mnf_rm_ns_ls, \"pro_link\": pro_link_rm_ns_ls, \"product\": product_rm_ns_ls})\n",
    "    return mnf"
   ]
  },
  {
   "cell_type": "code",
   "execution_count": 34,
   "metadata": {},
   "outputs": [
    {
     "name": "stderr",
     "output_type": "stream",
     "text": [
      "100%|██████████| 2/2 [00:08<00:00,  4.06s/it]\n"
     ]
    }
   ],
   "source": [
    "mnfac = scrape_more_beer(100)"
   ]
  },
  {
   "cell_type": "code",
   "execution_count": 40,
   "metadata": {},
   "outputs": [
    {
     "data": {
      "text/html": [
       "<div>\n",
       "<style scoped>\n",
       "    .dataframe tbody tr th:only-of-type {\n",
       "        vertical-align: middle;\n",
       "    }\n",
       "\n",
       "    .dataframe tbody tr th {\n",
       "        vertical-align: top;\n",
       "    }\n",
       "\n",
       "    .dataframe thead th {\n",
       "        text-align: right;\n",
       "    }\n",
       "</style>\n",
       "<table border=\"1\" class=\"dataframe\">\n",
       "  <thead>\n",
       "    <tr style=\"text-align: right;\">\n",
       "      <th></th>\n",
       "      <th>mnf</th>\n",
       "      <th>pro_link</th>\n",
       "      <th>product</th>\n",
       "    </tr>\n",
       "  </thead>\n",
       "  <tbody>\n",
       "    <tr>\n",
       "      <th>0</th>\n",
       "      <td>Beijing Yanjing Beer Group Corporation</td>\n",
       "      <td>/beer/profile/713/2124/</td>\n",
       "      <td>Yanjing Beer</td>\n",
       "    </tr>\n",
       "    <tr>\n",
       "      <th>1</th>\n",
       "      <td>Wychwood Brewery Company Ltd</td>\n",
       "      <td>/beer/profile/160/508425/</td>\n",
       "      <td>Hobgoblin Ruby 4.5%</td>\n",
       "    </tr>\n",
       "    <tr>\n",
       "      <th>2</th>\n",
       "      <td>Widmer Brothers Brewing Company</td>\n",
       "      <td>/beer/profile/8/80302/</td>\n",
       "      <td>Omission Pale Ale (Gluten-Free)</td>\n",
       "    </tr>\n",
       "    <tr>\n",
       "      <th>3</th>\n",
       "      <td>Brouwerij Westmalle</td>\n",
       "      <td>/beer/profile/208/646/</td>\n",
       "      <td>Westmalle Trappist Tripel</td>\n",
       "    </tr>\n",
       "    <tr>\n",
       "      <th>4</th>\n",
       "      <td>Wernesgrüner Brauerei AG</td>\n",
       "      <td>/beer/profile/3966/8653/</td>\n",
       "      <td>Wernesgruner</td>\n",
       "    </tr>\n",
       "    <tr>\n",
       "      <th>...</th>\n",
       "      <td>...</td>\n",
       "      <td>...</td>\n",
       "      <td>...</td>\n",
       "    </tr>\n",
       "    <tr>\n",
       "      <th>91</th>\n",
       "      <td>Swinkels Family Brewers</td>\n",
       "      <td>/beer/profile/498/1422/</td>\n",
       "      <td>Bavaria Beer</td>\n",
       "    </tr>\n",
       "    <tr>\n",
       "      <th>92</th>\n",
       "      <td>Bard's Tale Beer Company</td>\n",
       "      <td>/beer/profile/11034/47565/</td>\n",
       "      <td>Bard's Gold</td>\n",
       "    </tr>\n",
       "    <tr>\n",
       "      <th>93</th>\n",
       "      <td>Baltika Breweries</td>\n",
       "      <td>/beer/profile/401/4695/</td>\n",
       "      <td>Baltika #7 Export</td>\n",
       "    </tr>\n",
       "    <tr>\n",
       "      <th>94</th>\n",
       "      <td>Asahi Breweries Ltd</td>\n",
       "      <td>/beer/profile/716/2779/</td>\n",
       "      <td>Asahi Super Dry</td>\n",
       "    </tr>\n",
       "    <tr>\n",
       "      <th>95</th>\n",
       "      <td>Grupo Cervezas Alhambra, SL</td>\n",
       "      <td>/beer/profile/9262/16764/</td>\n",
       "      <td>Reserva 1925</td>\n",
       "    </tr>\n",
       "  </tbody>\n",
       "</table>\n",
       "<p>96 rows × 3 columns</p>\n",
       "</div>"
      ],
      "text/plain": [
       "                                       mnf                    pro_link  \\\n",
       "0   Beijing Yanjing Beer Group Corporation     /beer/profile/713/2124/   \n",
       "1             Wychwood Brewery Company Ltd   /beer/profile/160/508425/   \n",
       "2          Widmer Brothers Brewing Company      /beer/profile/8/80302/   \n",
       "3                      Brouwerij Westmalle      /beer/profile/208/646/   \n",
       "4                 Wernesgrüner Brauerei AG    /beer/profile/3966/8653/   \n",
       "..                                     ...                         ...   \n",
       "91                 Swinkels Family Brewers     /beer/profile/498/1422/   \n",
       "92                Bard's Tale Beer Company  /beer/profile/11034/47565/   \n",
       "93                       Baltika Breweries     /beer/profile/401/4695/   \n",
       "94                     Asahi Breweries Ltd     /beer/profile/716/2779/   \n",
       "95             Grupo Cervezas Alhambra, SL   /beer/profile/9262/16764/   \n",
       "\n",
       "                            product  \n",
       "0                      Yanjing Beer  \n",
       "1               Hobgoblin Ruby 4.5%  \n",
       "2   Omission Pale Ale (Gluten-Free)  \n",
       "3         Westmalle Trappist Tripel  \n",
       "4                      Wernesgruner  \n",
       "..                              ...  \n",
       "91                     Bavaria Beer  \n",
       "92                      Bard's Gold  \n",
       "93                Baltika #7 Export  \n",
       "94                  Asahi Super Dry  \n",
       "95                     Reserva 1925  \n",
       "\n",
       "[96 rows x 3 columns]"
      ]
     },
     "execution_count": 40,
     "metadata": {},
     "output_type": "execute_result"
    }
   ],
   "source": [
    "mnfac"
   ]
  },
  {
   "cell_type": "code",
   "execution_count": 11,
   "metadata": {},
   "outputs": [],
   "source": [
    "def webstite_scrape_p2 (beer_link):\n",
    "\n",
    "    driver = webdriver.Chrome('/home/sam/Downloads/chromedriver')\n",
    "    url = 'https://www.beeradvocate.com/community/login/'\n",
    "    driver.get(url)\n",
    "    \n",
    "    login_element = WebDriverWait(driver, 20).until(EC.element_to_be_clickable((By.XPATH, '//form[@class=\"xenForm formOverlay\"]//dd//input[@name =\"login\"]')))\n",
    "    login_element.send_keys('HaniNguyen_1803')\n",
    "\n",
    "    pw_element = WebDriverWait(driver, 20).until(EC.element_to_be_clickable((By.XPATH, '//form[@class=\"xenForm formOverlay\"]//dl[@class =\"ctrlUnit\"]//dd//ul//li[@id = \"ctrl_pageLogin_registered_Disabler\"]//input[@name =\"password\"]')))\n",
    "    pw_element.send_keys('scrapebeer1234')\n",
    "\n",
    "    page_click = WebDriverWait(driver, 20).until(EC.element_to_be_clickable((By.XPATH, '//form[@class=\"xenForm formOverlay\"]//dl[@class =\"ctrlUnit submitUnit\"]//dd//input[@type =\"submit\"]')))\n",
    "    page_click.click()\n",
    "    \n",
    "    mnf =[]\n",
    "    style =[]\n",
    "    alc =[]\n",
    "    ratings = [] #number of ratings\n",
    "    avg_rating = [] \n",
    "    number_of_reviews = []\n",
    "    \n",
    "    for link in tqdm(beer_link): \n",
    "        print(link)\n",
    "        new_url = \"https://www.beeradvocate.com/\"+link\n",
    "        print(new_url)\n",
    "        driver.get(new_url)\n",
    "\n",
    "        time.sleep(5)\n",
    "        page_source = driver.page_source\n",
    "        soup = lxml.html.fromstring(page_source)\n",
    "        \n",
    "        mnf_i = soup.xpath('//dd[@class = \"beerstats\"]/a[@class = \"Tooltip\"]/text()')\n",
    "        style_i = soup.xpath('//dd[@class = \"beerstats\"]/a[@class = \"Tooltip\"]/b/text()')\n",
    "        alc_i = soup.xpath('//dd[@class = \"beerstats\"]/span[@class = \"Tooltip\"]/b/text()')\n",
    "        ratings_i= soup.xpath('//dd[@class = \"beerstats\"]/span[@class = \"ba-ratings Tooltip\"]/text()')\n",
    "        \n",
    "        avg_i = soup.xpath('//dd[@class = \"beerstats\"]/b/span[@class = \"ba-ravg Tooltip\"]/text()')\n",
    "        number_of_reviews_i = soup.xpath('//dd[@class = \"beerstats\"]/span[@class = \"ba-reviews Tooltip\"]/text()')\n",
    "        \n",
    "        mnf.append( mnf_i)\n",
    "        style.append(style_i)\n",
    "        alc.append(alc_i)\n",
    "        ratings.append(ratings_i)\n",
    "        avg_rating.append(avg_i)\n",
    "        number_of_reviews.append(number_of_reviews_i)\n",
    "\n",
    "    return mnf, style, alc, ratings, avg_rating, number_of_reviews"
   ]
  },
  {
   "cell_type": "code",
   "execution_count": 12,
   "metadata": {},
   "outputs": [
    {
     "name": "stderr",
     "output_type": "stream",
     "text": [
      "\r",
      "  0%|          | 0/96 [00:00<?, ?it/s]"
     ]
    },
    {
     "name": "stdout",
     "output_type": "stream",
     "text": [
      "/beer/profile/713/2124/\n",
      "https://www.beeradvocate.com//beer/profile/713/2124/\n"
     ]
    },
    {
     "name": "stderr",
     "output_type": "stream",
     "text": [
      "\r",
      "  1%|          | 1/96 [00:07<11:17,  7.14s/it]"
     ]
    },
    {
     "name": "stdout",
     "output_type": "stream",
     "text": [
      "/beer/profile/160/508425/\n",
      "https://www.beeradvocate.com//beer/profile/160/508425/\n"
     ]
    },
    {
     "name": "stderr",
     "output_type": "stream",
     "text": [
      "\r",
      "  2%|▏         | 2/96 [00:13<10:37,  6.79s/it]"
     ]
    },
    {
     "name": "stdout",
     "output_type": "stream",
     "text": [
      "/beer/profile/8/80302/\n",
      "https://www.beeradvocate.com//beer/profile/8/80302/\n"
     ]
    },
    {
     "name": "stderr",
     "output_type": "stream",
     "text": [
      "\r",
      "  3%|▎         | 3/96 [00:19<10:33,  6.81s/it]"
     ]
    },
    {
     "name": "stdout",
     "output_type": "stream",
     "text": [
      "/beer/profile/208/646/\n",
      "https://www.beeradvocate.com//beer/profile/208/646/\n"
     ]
    },
    {
     "name": "stderr",
     "output_type": "stream",
     "text": [
      "\r",
      "  4%|▍         | 4/96 [00:26<10:13,  6.67s/it]"
     ]
    },
    {
     "name": "stdout",
     "output_type": "stream",
     "text": [
      "/beer/profile/3966/8653/\n",
      "https://www.beeradvocate.com//beer/profile/3966/8653/\n"
     ]
    },
    {
     "name": "stderr",
     "output_type": "stream",
     "text": [
      "\r",
      "  5%|▌         | 5/96 [00:33<10:11,  6.72s/it]"
     ]
    },
    {
     "name": "stdout",
     "output_type": "stream",
     "text": [
      "/beer/profile/664/39979/\n",
      "https://www.beeradvocate.com//beer/profile/664/39979/\n"
     ]
    },
    {
     "name": "stderr",
     "output_type": "stream",
     "text": [
      "\r",
      "  6%|▋         | 6/96 [00:38<09:40,  6.46s/it]"
     ]
    },
    {
     "name": "stdout",
     "output_type": "stream",
     "text": [
      "/beer/profile/360/457060/\n",
      "https://www.beeradvocate.com//beer/profile/360/457060/\n"
     ]
    },
    {
     "name": "stderr",
     "output_type": "stream",
     "text": [
      "\r",
      "  7%|▋         | 7/96 [00:44<09:20,  6.30s/it]"
     ]
    },
    {
     "name": "stdout",
     "output_type": "stream",
     "text": [
      "/beer/profile/360/935/\n",
      "https://www.beeradvocate.com//beer/profile/360/935/\n"
     ]
    },
    {
     "name": "stderr",
     "output_type": "stream",
     "text": [
      "\r",
      "  8%|▊         | 8/96 [00:51<09:24,  6.42s/it]"
     ]
    },
    {
     "name": "stdout",
     "output_type": "stream",
     "text": [
      "/beer/profile/360/366599/\n",
      "https://www.beeradvocate.com//beer/profile/360/366599/\n"
     ]
    },
    {
     "name": "stderr",
     "output_type": "stream",
     "text": [
      "\r",
      "  9%|▉         | 9/96 [00:57<09:02,  6.23s/it]"
     ]
    },
    {
     "name": "stdout",
     "output_type": "stream",
     "text": [
      "/beer/profile/48/155/\n",
      "https://www.beeradvocate.com//beer/profile/48/155/\n"
     ]
    },
    {
     "name": "stderr",
     "output_type": "stream",
     "text": [
      "\r",
      " 10%|█         | 10/96 [01:03<08:59,  6.27s/it]"
     ]
    },
    {
     "name": "stdout",
     "output_type": "stream",
     "text": [
      "/beer/profile/1809/56934/\n",
      "https://www.beeradvocate.com//beer/profile/1809/56934/\n"
     ]
    },
    {
     "name": "stderr",
     "output_type": "stream",
     "text": [
      "\r",
      " 11%|█▏        | 11/96 [01:09<08:46,  6.20s/it]"
     ]
    },
    {
     "name": "stdout",
     "output_type": "stream",
     "text": [
      "/beer/profile/1941/5280/\n",
      "https://www.beeradvocate.com//beer/profile/1941/5280/\n"
     ]
    },
    {
     "name": "stderr",
     "output_type": "stream",
     "text": [
      "\r",
      " 12%|█▎        | 12/96 [01:16<08:53,  6.35s/it]"
     ]
    },
    {
     "name": "stdout",
     "output_type": "stream",
     "text": [
      "/beer/profile/1435/13176/\n",
      "https://www.beeradvocate.com//beer/profile/1435/13176/\n"
     ]
    },
    {
     "name": "stderr",
     "output_type": "stream",
     "text": [
      "\r",
      " 14%|█▎        | 13/96 [01:22<08:42,  6.30s/it]"
     ]
    },
    {
     "name": "stdout",
     "output_type": "stream",
     "text": [
      "/beer/profile/9033/48799/\n",
      "https://www.beeradvocate.com//beer/profile/9033/48799/\n"
     ]
    },
    {
     "name": "stderr",
     "output_type": "stream",
     "text": [
      "\r",
      " 15%|█▍        | 14/96 [01:29<09:00,  6.59s/it]"
     ]
    },
    {
     "name": "stdout",
     "output_type": "stream",
     "text": [
      "/beer/profile/281/767/\n",
      "https://www.beeradvocate.com//beer/profile/281/767/\n"
     ]
    },
    {
     "name": "stderr",
     "output_type": "stream",
     "text": [
      "\r",
      " 16%|█▌        | 15/96 [01:35<08:35,  6.37s/it]"
     ]
    },
    {
     "name": "stdout",
     "output_type": "stream",
     "text": [
      "/beer/profile/727/2176/\n",
      "https://www.beeradvocate.com//beer/profile/727/2176/\n"
     ]
    },
    {
     "name": "stderr",
     "output_type": "stream",
     "text": [
      "\r",
      " 17%|█▋        | 16/96 [01:41<08:23,  6.30s/it]"
     ]
    },
    {
     "name": "stdout",
     "output_type": "stream",
     "text": [
      "/beer/profile/817/11840/\n",
      "https://www.beeradvocate.com//beer/profile/817/11840/\n"
     ]
    },
    {
     "name": "stderr",
     "output_type": "stream",
     "text": [
      "\r",
      " 18%|█▊        | 17/96 [01:48<08:22,  6.35s/it]"
     ]
    },
    {
     "name": "stdout",
     "output_type": "stream",
     "text": [
      "/beer/profile/817/166902/\n",
      "https://www.beeradvocate.com//beer/profile/817/166902/\n"
     ]
    },
    {
     "name": "stderr",
     "output_type": "stream",
     "text": [
      "\r",
      " 19%|█▉        | 18/96 [01:54<08:10,  6.29s/it]"
     ]
    },
    {
     "name": "stdout",
     "output_type": "stream",
     "text": [
      "/beer/profile/817/68049/\n",
      "https://www.beeradvocate.com//beer/profile/817/68049/\n"
     ]
    },
    {
     "name": "stderr",
     "output_type": "stream",
     "text": [
      "\r",
      " 20%|█▉        | 19/96 [02:00<08:02,  6.27s/it]"
     ]
    },
    {
     "name": "stdout",
     "output_type": "stream",
     "text": [
      "/beer/profile/169/449/\n",
      "https://www.beeradvocate.com//beer/profile/169/449/\n"
     ]
    },
    {
     "name": "stderr",
     "output_type": "stream",
     "text": [
      "\r",
      " 21%|██        | 20/96 [02:07<07:56,  6.26s/it]"
     ]
    },
    {
     "name": "stdout",
     "output_type": "stream",
     "text": [
      "/beer/profile/915/44950/\n",
      "https://www.beeradvocate.com//beer/profile/915/44950/\n"
     ]
    },
    {
     "name": "stderr",
     "output_type": "stream",
     "text": [
      "\r",
      " 22%|██▏       | 21/96 [02:13<07:54,  6.33s/it]"
     ]
    },
    {
     "name": "stdout",
     "output_type": "stream",
     "text": [
      "/beer/profile/259/1708/\n",
      "https://www.beeradvocate.com//beer/profile/259/1708/\n"
     ]
    },
    {
     "name": "stderr",
     "output_type": "stream",
     "text": [
      "\r",
      " 23%|██▎       | 22/96 [02:19<07:44,  6.27s/it]"
     ]
    },
    {
     "name": "stdout",
     "output_type": "stream",
     "text": [
      "/beer/profile/57/2803/\n",
      "https://www.beeradvocate.com//beer/profile/57/2803/\n"
     ]
    },
    {
     "name": "stderr",
     "output_type": "stream",
     "text": [
      "\r",
      " 24%|██▍       | 23/96 [02:25<07:35,  6.24s/it]"
     ]
    },
    {
     "name": "stdout",
     "output_type": "stream",
     "text": [
      "/beer/profile/367/976/\n",
      "https://www.beeradvocate.com//beer/profile/367/976/\n"
     ]
    },
    {
     "name": "stderr",
     "output_type": "stream",
     "text": [
      "\r",
      " 25%|██▌       | 24/96 [02:32<07:29,  6.24s/it]"
     ]
    },
    {
     "name": "stdout",
     "output_type": "stream",
     "text": [
      "/beer/profile/140/276/\n",
      "https://www.beeradvocate.com//beer/profile/140/276/\n"
     ]
    },
    {
     "name": "stderr",
     "output_type": "stream",
     "text": [
      "\r",
      " 26%|██▌       | 25/96 [02:38<07:30,  6.34s/it]"
     ]
    },
    {
     "name": "stdout",
     "output_type": "stream",
     "text": [
      "/beer/profile/72/3280/\n",
      "https://www.beeradvocate.com//beer/profile/72/3280/\n"
     ]
    },
    {
     "name": "stderr",
     "output_type": "stream",
     "text": [
      "\r",
      " 27%|██▋       | 26/96 [02:44<07:17,  6.25s/it]"
     ]
    },
    {
     "name": "stdout",
     "output_type": "stream",
     "text": [
      "/beer/profile/355/5366/\n",
      "https://www.beeradvocate.com//beer/profile/355/5366/\n"
     ]
    },
    {
     "name": "stderr",
     "output_type": "stream",
     "text": [
      "\r",
      " 28%|██▊       | 27/96 [02:50<07:10,  6.24s/it]"
     ]
    },
    {
     "name": "stdout",
     "output_type": "stream",
     "text": [
      "/beer/profile/221/689/\n",
      "https://www.beeradvocate.com//beer/profile/221/689/\n"
     ]
    },
    {
     "name": "stderr",
     "output_type": "stream",
     "text": [
      "\r",
      " 29%|██▉       | 28/96 [02:56<07:00,  6.18s/it]"
     ]
    },
    {
     "name": "stdout",
     "output_type": "stream",
     "text": [
      "/beer/profile/2974/799/\n",
      "https://www.beeradvocate.com//beer/profile/2974/799/\n"
     ]
    },
    {
     "name": "stderr",
     "output_type": "stream",
     "text": [
      "\r",
      " 30%|███       | 29/96 [03:03<06:53,  6.17s/it]"
     ]
    },
    {
     "name": "stdout",
     "output_type": "stream",
     "text": [
      "/beer/profile/1/429/\n",
      "https://www.beeradvocate.com//beer/profile/1/429/\n"
     ]
    },
    {
     "name": "stderr",
     "output_type": "stream",
     "text": [
      "\r",
      " 31%|███▏      | 30/96 [03:09<06:48,  6.19s/it]"
     ]
    },
    {
     "name": "stdout",
     "output_type": "stream",
     "text": [
      "/beer/profile/2689/104672/\n",
      "https://www.beeradvocate.com//beer/profile/2689/104672/\n"
     ]
    },
    {
     "name": "stderr",
     "output_type": "stream",
     "text": [
      "\r",
      " 32%|███▏      | 31/96 [03:15<06:41,  6.18s/it]"
     ]
    },
    {
     "name": "stdout",
     "output_type": "stream",
     "text": [
      "/beer/profile/124/61555/\n",
      "https://www.beeradvocate.com//beer/profile/124/61555/\n"
     ]
    },
    {
     "name": "stderr",
     "output_type": "stream",
     "text": [
      "\r",
      " 33%|███▎      | 32/96 [03:21<06:37,  6.22s/it]"
     ]
    },
    {
     "name": "stdout",
     "output_type": "stream",
     "text": [
      "/beer/profile/124/1256/\n",
      "https://www.beeradvocate.com//beer/profile/124/1256/\n"
     ]
    },
    {
     "name": "stderr",
     "output_type": "stream",
     "text": [
      "\r",
      " 34%|███▍      | 33/96 [03:27<06:29,  6.19s/it]"
     ]
    },
    {
     "name": "stdout",
     "output_type": "stream",
     "text": [
      "/beer/profile/120/30296/\n",
      "https://www.beeradvocate.com//beer/profile/120/30296/\n"
     ]
    },
    {
     "name": "stderr",
     "output_type": "stream",
     "text": [
      "\r",
      " 35%|███▌      | 34/96 [03:34<06:26,  6.23s/it]"
     ]
    },
    {
     "name": "stdout",
     "output_type": "stream",
     "text": [
      "/beer/profile/75/2755/\n",
      "https://www.beeradvocate.com//beer/profile/75/2755/\n"
     ]
    },
    {
     "name": "stderr",
     "output_type": "stream",
     "text": [
      "\r",
      " 36%|███▋      | 35/96 [03:40<06:14,  6.14s/it]"
     ]
    },
    {
     "name": "stdout",
     "output_type": "stream",
     "text": [
      "/beer/profile/2681/6518/\n",
      "https://www.beeradvocate.com//beer/profile/2681/6518/\n"
     ]
    },
    {
     "name": "stderr",
     "output_type": "stream",
     "text": [
      "\r",
      " 38%|███▊      | 36/96 [03:46<06:09,  6.15s/it]"
     ]
    },
    {
     "name": "stdout",
     "output_type": "stream",
     "text": [
      "/beer/profile/81/639/\n",
      "https://www.beeradvocate.com//beer/profile/81/639/\n"
     ]
    },
    {
     "name": "stderr",
     "output_type": "stream",
     "text": [
      "\r",
      " 39%|███▊      | 37/96 [03:52<05:59,  6.09s/it]"
     ]
    },
    {
     "name": "stdout",
     "output_type": "stream",
     "text": [
      "/beer/profile/75/667/\n",
      "https://www.beeradvocate.com//beer/profile/75/667/\n"
     ]
    },
    {
     "name": "stderr",
     "output_type": "stream",
     "text": [
      "\r",
      " 40%|███▉      | 38/96 [03:58<05:52,  6.08s/it]"
     ]
    },
    {
     "name": "stdout",
     "output_type": "stream",
     "text": [
      "/beer/profile/203/637/\n",
      "https://www.beeradvocate.com//beer/profile/203/637/\n"
     ]
    },
    {
     "name": "stderr",
     "output_type": "stream",
     "text": [
      "\r",
      " 41%|████      | 39/96 [04:04<05:47,  6.10s/it]"
     ]
    },
    {
     "name": "stdout",
     "output_type": "stream",
     "text": [
      "/beer/profile/75/1321/\n",
      "https://www.beeradvocate.com//beer/profile/75/1321/\n"
     ]
    },
    {
     "name": "stderr",
     "output_type": "stream",
     "text": [
      "\r",
      " 42%|████▏     | 40/96 [04:10<05:43,  6.14s/it]"
     ]
    },
    {
     "name": "stdout",
     "output_type": "stream",
     "text": [
      "/beer/profile/105/580/\n",
      "https://www.beeradvocate.com//beer/profile/105/580/\n"
     ]
    },
    {
     "name": "stderr",
     "output_type": "stream",
     "text": [
      "\r",
      " 43%|████▎     | 41/96 [04:16<05:35,  6.10s/it]"
     ]
    },
    {
     "name": "stdout",
     "output_type": "stream",
     "text": [
      "/beer/profile/664/1275/\n",
      "https://www.beeradvocate.com//beer/profile/664/1275/\n"
     ]
    },
    {
     "name": "stderr",
     "output_type": "stream",
     "text": [
      "\r",
      " 44%|████▍     | 42/96 [04:23<05:37,  6.26s/it]"
     ]
    },
    {
     "name": "stdout",
     "output_type": "stream",
     "text": [
      "/beer/profile/3517/20134/\n",
      "https://www.beeradvocate.com//beer/profile/3517/20134/\n"
     ]
    },
    {
     "name": "stderr",
     "output_type": "stream",
     "text": [
      "\r",
      " 45%|████▍     | 43/96 [04:29<05:36,  6.35s/it]"
     ]
    },
    {
     "name": "stdout",
     "output_type": "stream",
     "text": [
      "/beer/profile/744/3327/\n",
      "https://www.beeradvocate.com//beer/profile/744/3327/\n"
     ]
    },
    {
     "name": "stderr",
     "output_type": "stream",
     "text": [
      "\r",
      " 46%|████▌     | 44/96 [04:35<05:25,  6.27s/it]"
     ]
    },
    {
     "name": "stdout",
     "output_type": "stream",
     "text": [
      "/beer/profile/470/2137/\n",
      "https://www.beeradvocate.com//beer/profile/470/2137/\n"
     ]
    },
    {
     "name": "stderr",
     "output_type": "stream",
     "text": [
      "\r",
      " 47%|████▋     | 45/96 [04:42<05:24,  6.37s/it]"
     ]
    },
    {
     "name": "stdout",
     "output_type": "stream",
     "text": [
      "/beer/profile/741/26368/\n",
      "https://www.beeradvocate.com//beer/profile/741/26368/\n"
     ]
    },
    {
     "name": "stderr",
     "output_type": "stream",
     "text": [
      "\r",
      " 48%|████▊     | 46/96 [04:48<05:13,  6.26s/it]"
     ]
    },
    {
     "name": "stdout",
     "output_type": "stream",
     "text": [
      "/beer/profile/220/916/\n",
      "https://www.beeradvocate.com//beer/profile/220/916/\n"
     ]
    },
    {
     "name": "stderr",
     "output_type": "stream",
     "text": [
      "\r",
      " 49%|████▉     | 47/96 [04:54<05:05,  6.24s/it]"
     ]
    },
    {
     "name": "stdout",
     "output_type": "stream",
     "text": [
      "/beer/profile/29/472478/\n",
      "https://www.beeradvocate.com//beer/profile/29/472478/\n"
     ]
    },
    {
     "name": "stderr",
     "output_type": "stream",
     "text": [
      "\r",
      " 50%|█████     | 48/96 [05:01<05:02,  6.30s/it]"
     ]
    },
    {
     "name": "stdout",
     "output_type": "stream",
     "text": [
      "/beer/profile/1498/25625/\n",
      "https://www.beeradvocate.com//beer/profile/1498/25625/\n"
     ]
    },
    {
     "name": "stderr",
     "output_type": "stream",
     "text": [
      "\r",
      " 51%|█████     | 49/96 [05:07<04:51,  6.20s/it]"
     ]
    },
    {
     "name": "stdout",
     "output_type": "stream",
     "text": [
      "/beer/profile/1498/3970/\n",
      "https://www.beeradvocate.com//beer/profile/1498/3970/\n"
     ]
    },
    {
     "name": "stderr",
     "output_type": "stream",
     "text": [
      "\r",
      " 52%|█████▏    | 50/96 [05:13<04:47,  6.26s/it]"
     ]
    },
    {
     "name": "stdout",
     "output_type": "stream",
     "text": [
      "/beer/profile/448/45385/\n",
      "https://www.beeradvocate.com//beer/profile/448/45385/\n"
     ]
    },
    {
     "name": "stderr",
     "output_type": "stream",
     "text": [
      "\r",
      " 53%|█████▎    | 51/96 [05:21<04:59,  6.66s/it]"
     ]
    },
    {
     "name": "stdout",
     "output_type": "stream",
     "text": [
      "/beer/profile/3900/4847/\n",
      "https://www.beeradvocate.com//beer/profile/3900/4847/\n"
     ]
    },
    {
     "name": "stderr",
     "output_type": "stream",
     "text": [
      "\r",
      " 54%|█████▍    | 52/96 [05:28<05:00,  6.84s/it]"
     ]
    },
    {
     "name": "stdout",
     "output_type": "stream",
     "text": [
      "/beer/profile/579/22592/\n",
      "https://www.beeradvocate.com//beer/profile/579/22592/\n"
     ]
    },
    {
     "name": "stderr",
     "output_type": "stream",
     "text": [
      "\r",
      " 55%|█████▌    | 53/96 [05:35<04:54,  6.84s/it]"
     ]
    },
    {
     "name": "stdout",
     "output_type": "stream",
     "text": [
      "/beer/profile/209/52083/\n",
      "https://www.beeradvocate.com//beer/profile/209/52083/\n"
     ]
    },
    {
     "name": "stderr",
     "output_type": "stream",
     "text": [
      "\r",
      " 56%|█████▋    | 54/96 [05:43<05:01,  7.18s/it]"
     ]
    },
    {
     "name": "stdout",
     "output_type": "stream",
     "text": [
      "/beer/profile/10272/12719/\n",
      "https://www.beeradvocate.com//beer/profile/10272/12719/\n"
     ]
    },
    {
     "name": "stderr",
     "output_type": "stream",
     "text": [
      "\r",
      " 57%|█████▋    | 55/96 [05:51<05:05,  7.45s/it]"
     ]
    },
    {
     "name": "stdout",
     "output_type": "stream",
     "text": [
      "/beer/profile/202/656/\n",
      "https://www.beeradvocate.com//beer/profile/202/656/\n"
     ]
    },
    {
     "name": "stderr",
     "output_type": "stream",
     "text": [
      "\r",
      " 58%|█████▊    | 56/96 [05:59<05:03,  7.59s/it]"
     ]
    },
    {
     "name": "stdout",
     "output_type": "stream",
     "text": [
      "/beer/profile/10272/106724/\n",
      "https://www.beeradvocate.com//beer/profile/10272/106724/\n"
     ]
    },
    {
     "name": "stderr",
     "output_type": "stream",
     "text": [
      "\r",
      " 59%|█████▉    | 57/96 [06:08<05:19,  8.19s/it]"
     ]
    },
    {
     "name": "stdout",
     "output_type": "stream",
     "text": [
      "/beer/profile/10272/463658/\n",
      "https://www.beeradvocate.com//beer/profile/10272/463658/\n"
     ]
    },
    {
     "name": "stderr",
     "output_type": "stream",
     "text": [
      "\r",
      " 60%|██████    | 58/96 [06:16<05:05,  8.03s/it]"
     ]
    },
    {
     "name": "stdout",
     "output_type": "stream",
     "text": [
      "/beer/profile/4949/52429/\n",
      "https://www.beeradvocate.com//beer/profile/4949/52429/\n"
     ]
    },
    {
     "name": "stderr",
     "output_type": "stream",
     "text": [
      "\r",
      " 61%|██████▏   | 59/96 [06:24<04:59,  8.10s/it]"
     ]
    },
    {
     "name": "stdout",
     "output_type": "stream",
     "text": [
      "/beer/profile/628/2197/\n",
      "https://www.beeradvocate.com//beer/profile/628/2197/\n"
     ]
    },
    {
     "name": "stderr",
     "output_type": "stream",
     "text": [
      "\r",
      " 62%|██████▎   | 60/96 [06:32<04:47,  7.98s/it]"
     ]
    },
    {
     "name": "stdout",
     "output_type": "stream",
     "text": [
      "/beer/profile/628/7359/\n",
      "https://www.beeradvocate.com//beer/profile/628/7359/\n"
     ]
    },
    {
     "name": "stderr",
     "output_type": "stream",
     "text": [
      "\r",
      " 64%|██████▎   | 61/96 [06:40<04:36,  7.91s/it]"
     ]
    },
    {
     "name": "stdout",
     "output_type": "stream",
     "text": [
      "/beer/profile/628/5119/\n",
      "https://www.beeradvocate.com//beer/profile/628/5119/\n"
     ]
    },
    {
     "name": "stderr",
     "output_type": "stream",
     "text": [
      "\r",
      " 65%|██████▍   | 62/96 [06:47<04:23,  7.74s/it]"
     ]
    },
    {
     "name": "stdout",
     "output_type": "stream",
     "text": [
      "/beer/profile/498/3335/\n",
      "https://www.beeradvocate.com//beer/profile/498/3335/\n"
     ]
    },
    {
     "name": "stderr",
     "output_type": "stream",
     "text": [
      "\r",
      " 66%|██████▌   | 63/96 [06:54<04:06,  7.47s/it]"
     ]
    },
    {
     "name": "stdout",
     "output_type": "stream",
     "text": [
      "/beer/profile/83/248/\n",
      "https://www.beeradvocate.com//beer/profile/83/248/\n"
     ]
    },
    {
     "name": "stderr",
     "output_type": "stream",
     "text": [
      "\r",
      " 67%|██████▋   | 64/96 [07:00<03:48,  7.15s/it]"
     ]
    },
    {
     "name": "stdout",
     "output_type": "stream",
     "text": [
      "/beer/profile/81/246/\n",
      "https://www.beeradvocate.com//beer/profile/81/246/\n"
     ]
    },
    {
     "name": "stderr",
     "output_type": "stream",
     "text": [
      "\r",
      " 68%|██████▊   | 65/96 [07:07<03:36,  7.00s/it]"
     ]
    },
    {
     "name": "stdout",
     "output_type": "stream",
     "text": [
      "/beer/profile/209/862/\n",
      "https://www.beeradvocate.com//beer/profile/209/862/\n"
     ]
    },
    {
     "name": "stderr",
     "output_type": "stream",
     "text": [
      "\r",
      " 69%|██████▉   | 66/96 [07:14<03:28,  6.94s/it]"
     ]
    },
    {
     "name": "stdout",
     "output_type": "stream",
     "text": [
      "/beer/profile/76/31425/\n",
      "https://www.beeradvocate.com//beer/profile/76/31425/\n"
     ]
    },
    {
     "name": "stderr",
     "output_type": "stream",
     "text": [
      "\r",
      " 70%|██████▉   | 67/96 [07:21<03:19,  6.89s/it]"
     ]
    },
    {
     "name": "stdout",
     "output_type": "stream",
     "text": [
      "/beer/profile/209/754/\n",
      "https://www.beeradvocate.com//beer/profile/209/754/\n"
     ]
    },
    {
     "name": "stderr",
     "output_type": "stream",
     "text": [
      "\r",
      " 71%|███████   | 68/96 [07:27<03:11,  6.85s/it]"
     ]
    },
    {
     "name": "stdout",
     "output_type": "stream",
     "text": [
      "/beer/profile/506/1426/\n",
      "https://www.beeradvocate.com//beer/profile/506/1426/\n"
     ]
    },
    {
     "name": "stderr",
     "output_type": "stream",
     "text": [
      "\r",
      " 72%|███████▏  | 69/96 [07:34<03:02,  6.77s/it]"
     ]
    },
    {
     "name": "stdout",
     "output_type": "stream",
     "text": [
      "/beer/profile/71/222/\n",
      "https://www.beeradvocate.com//beer/profile/71/222/\n"
     ]
    },
    {
     "name": "stderr",
     "output_type": "stream",
     "text": [
      "\r",
      " 73%|███████▎  | 70/96 [07:41<02:57,  6.84s/it]"
     ]
    },
    {
     "name": "stdout",
     "output_type": "stream",
     "text": [
      "/beer/profile/180/12738/\n",
      "https://www.beeradvocate.com//beer/profile/180/12738/\n"
     ]
    },
    {
     "name": "stderr",
     "output_type": "stream",
     "text": [
      "\r",
      " 74%|███████▍  | 71/96 [07:48<02:51,  6.87s/it]"
     ]
    },
    {
     "name": "stdout",
     "output_type": "stream",
     "text": [
      "/beer/profile/783/15615/\n",
      "https://www.beeradvocate.com//beer/profile/783/15615/\n"
     ]
    },
    {
     "name": "stderr",
     "output_type": "stream",
     "text": [
      "\r",
      " 75%|███████▌  | 72/96 [07:54<02:38,  6.62s/it]"
     ]
    },
    {
     "name": "stdout",
     "output_type": "stream",
     "text": [
      "/beer/profile/783/2400/\n",
      "https://www.beeradvocate.com//beer/profile/783/2400/\n"
     ]
    },
    {
     "name": "stderr",
     "output_type": "stream",
     "text": [
      "\r",
      " 76%|███████▌  | 73/96 [08:00<02:29,  6.50s/it]"
     ]
    },
    {
     "name": "stdout",
     "output_type": "stream",
     "text": [
      "/beer/profile/4949/14687/\n",
      "https://www.beeradvocate.com//beer/profile/4949/14687/\n"
     ]
    },
    {
     "name": "stderr",
     "output_type": "stream",
     "text": [
      "\r",
      " 77%|███████▋  | 74/96 [08:06<02:22,  6.47s/it]"
     ]
    },
    {
     "name": "stdout",
     "output_type": "stream",
     "text": [
      "/beer/profile/167/442/\n",
      "https://www.beeradvocate.com//beer/profile/167/442/\n"
     ]
    },
    {
     "name": "stderr",
     "output_type": "stream",
     "text": [
      "\r",
      " 78%|███████▊  | 75/96 [08:13<02:14,  6.41s/it]"
     ]
    },
    {
     "name": "stdout",
     "output_type": "stream",
     "text": [
      "/beer/profile/703/2434/\n",
      "https://www.beeradvocate.com//beer/profile/703/2434/\n"
     ]
    },
    {
     "name": "stderr",
     "output_type": "stream",
     "text": [
      "\r",
      " 79%|███████▉  | 76/96 [08:19<02:07,  6.35s/it]"
     ]
    },
    {
     "name": "stdout",
     "output_type": "stream",
     "text": [
      "/beer/profile/703/11485/\n",
      "https://www.beeradvocate.com//beer/profile/703/11485/\n"
     ]
    },
    {
     "name": "stderr",
     "output_type": "stream",
     "text": [
      "\r",
      " 80%|████████  | 77/96 [08:25<02:00,  6.34s/it]"
     ]
    },
    {
     "name": "stdout",
     "output_type": "stream",
     "text": [
      "/beer/profile/57/1907/\n",
      "https://www.beeradvocate.com//beer/profile/57/1907/\n"
     ]
    },
    {
     "name": "stderr",
     "output_type": "stream",
     "text": [
      "\r",
      " 81%|████████▏ | 78/96 [08:31<01:52,  6.26s/it]"
     ]
    },
    {
     "name": "stdout",
     "output_type": "stream",
     "text": [
      "/beer/profile/63/431606/\n",
      "https://www.beeradvocate.com//beer/profile/63/431606/\n"
     ]
    },
    {
     "name": "stderr",
     "output_type": "stream",
     "text": [
      "\r",
      " 82%|████████▏ | 79/96 [08:37<01:45,  6.21s/it]"
     ]
    },
    {
     "name": "stdout",
     "output_type": "stream",
     "text": [
      "/beer/profile/63/195/\n",
      "https://www.beeradvocate.com//beer/profile/63/195/\n"
     ]
    },
    {
     "name": "stderr",
     "output_type": "stream",
     "text": [
      "\r",
      " 83%|████████▎ | 80/96 [08:44<01:41,  6.33s/it]"
     ]
    },
    {
     "name": "stdout",
     "output_type": "stream",
     "text": [
      "/beer/profile/63/60330/\n",
      "https://www.beeradvocate.com//beer/profile/63/60330/\n"
     ]
    },
    {
     "name": "stderr",
     "output_type": "stream",
     "text": [
      "\r",
      " 84%|████████▍ | 81/96 [08:50<01:35,  6.34s/it]"
     ]
    },
    {
     "name": "stdout",
     "output_type": "stream",
     "text": [
      "/beer/profile/726/2831/\n",
      "https://www.beeradvocate.com//beer/profile/726/2831/\n"
     ]
    },
    {
     "name": "stderr",
     "output_type": "stream",
     "text": [
      "\r",
      " 85%|████████▌ | 82/96 [08:57<01:27,  6.27s/it]"
     ]
    },
    {
     "name": "stdout",
     "output_type": "stream",
     "text": [
      "/beer/profile/304/159270/\n",
      "https://www.beeradvocate.com//beer/profile/304/159270/\n"
     ]
    },
    {
     "name": "stderr",
     "output_type": "stream",
     "text": [
      "\r",
      " 86%|████████▋ | 83/96 [09:02<01:20,  6.17s/it]"
     ]
    },
    {
     "name": "stdout",
     "output_type": "stream",
     "text": [
      "/beer/profile/304/201010/\n",
      "https://www.beeradvocate.com//beer/profile/304/201010/\n"
     ]
    },
    {
     "name": "stderr",
     "output_type": "stream",
     "text": [
      "\r",
      " 88%|████████▊ | 84/96 [09:08<01:13,  6.11s/it]"
     ]
    },
    {
     "name": "stdout",
     "output_type": "stream",
     "text": [
      "/beer/profile/75/232/\n",
      "https://www.beeradvocate.com//beer/profile/75/232/\n"
     ]
    },
    {
     "name": "stderr",
     "output_type": "stream",
     "text": [
      "\r",
      " 89%|████████▊ | 85/96 [09:14<01:06,  6.08s/it]"
     ]
    },
    {
     "name": "stdout",
     "output_type": "stream",
     "text": [
      "/beer/profile/75/233/\n",
      "https://www.beeradvocate.com//beer/profile/75/233/\n"
     ]
    },
    {
     "name": "stderr",
     "output_type": "stream",
     "text": [
      "\r",
      " 90%|████████▉ | 86/96 [09:21<01:01,  6.17s/it]"
     ]
    },
    {
     "name": "stdout",
     "output_type": "stream",
     "text": [
      "/beer/profile/721/2270/\n",
      "https://www.beeradvocate.com//beer/profile/721/2270/\n"
     ]
    },
    {
     "name": "stderr",
     "output_type": "stream",
     "text": [
      "\r",
      " 91%|█████████ | 87/96 [09:27<00:55,  6.16s/it]"
     ]
    },
    {
     "name": "stdout",
     "output_type": "stream",
     "text": [
      "/beer/profile/272/750/\n",
      "https://www.beeradvocate.com//beer/profile/272/750/\n"
     ]
    },
    {
     "name": "stderr",
     "output_type": "stream",
     "text": [
      "\r",
      " 92%|█████████▏| 88/96 [09:33<00:49,  6.16s/it]"
     ]
    },
    {
     "name": "stdout",
     "output_type": "stream",
     "text": [
      "/beer/profile/23680/61914/\n",
      "https://www.beeradvocate.com//beer/profile/23680/61914/\n"
     ]
    },
    {
     "name": "stderr",
     "output_type": "stream",
     "text": [
      "\r",
      " 93%|█████████▎| 89/96 [09:39<00:43,  6.19s/it]"
     ]
    },
    {
     "name": "stdout",
     "output_type": "stream",
     "text": [
      "/beer/profile/613/1641/\n",
      "https://www.beeradvocate.com//beer/profile/613/1641/\n"
     ]
    },
    {
     "name": "stderr",
     "output_type": "stream",
     "text": [
      "\r",
      " 94%|█████████▍| 90/96 [09:45<00:36,  6.13s/it]"
     ]
    },
    {
     "name": "stdout",
     "output_type": "stream",
     "text": [
      "/beer/profile/32/2435/\n",
      "https://www.beeradvocate.com//beer/profile/32/2435/\n"
     ]
    },
    {
     "name": "stderr",
     "output_type": "stream",
     "text": [
      "\r",
      " 95%|█████████▍| 91/96 [09:51<00:30,  6.08s/it]"
     ]
    },
    {
     "name": "stdout",
     "output_type": "stream",
     "text": [
      "/beer/profile/498/1422/\n",
      "https://www.beeradvocate.com//beer/profile/498/1422/\n"
     ]
    },
    {
     "name": "stderr",
     "output_type": "stream",
     "text": [
      "\r",
      " 96%|█████████▌| 92/96 [09:58<00:24,  6.14s/it]"
     ]
    },
    {
     "name": "stdout",
     "output_type": "stream",
     "text": [
      "/beer/profile/11034/47565/\n",
      "https://www.beeradvocate.com//beer/profile/11034/47565/\n"
     ]
    },
    {
     "name": "stderr",
     "output_type": "stream",
     "text": [
      "\r",
      " 97%|█████████▋| 93/96 [10:04<00:18,  6.15s/it]"
     ]
    },
    {
     "name": "stdout",
     "output_type": "stream",
     "text": [
      "/beer/profile/401/4695/\n",
      "https://www.beeradvocate.com//beer/profile/401/4695/\n"
     ]
    },
    {
     "name": "stderr",
     "output_type": "stream",
     "text": [
      "\r",
      " 98%|█████████▊| 94/96 [10:10<00:12,  6.10s/it]"
     ]
    },
    {
     "name": "stdout",
     "output_type": "stream",
     "text": [
      "/beer/profile/716/2779/\n",
      "https://www.beeradvocate.com//beer/profile/716/2779/\n"
     ]
    },
    {
     "name": "stderr",
     "output_type": "stream",
     "text": [
      "\r",
      " 99%|█████████▉| 95/96 [10:16<00:06,  6.12s/it]"
     ]
    },
    {
     "name": "stdout",
     "output_type": "stream",
     "text": [
      "/beer/profile/9262/16764/\n",
      "https://www.beeradvocate.com//beer/profile/9262/16764/\n"
     ]
    },
    {
     "name": "stderr",
     "output_type": "stream",
     "text": [
      "100%|██████████| 96/96 [10:22<00:00,  6.49s/it]\n"
     ]
    }
   ],
   "source": [
    "mnf, style, alc, ratings, avg_rating, number_of_reviews =webstite_scrape_p2(mnf.pro_link)\n"
   ]
  },
  {
   "cell_type": "code",
   "execution_count": 13,
   "metadata": {},
   "outputs": [],
   "source": [
    "temp1 = pd.DataFrame(list(zip(mnf, style, alc, ratings, avg_rating, number_of_reviews)), columns = [\"mnf\",\"style\",\"alc\", \"ratings\", \"avg_rating\", \"number_of_reviews\"])"
   ]
  },
  {
   "cell_type": "code",
   "execution_count": 44,
   "metadata": {},
   "outputs": [],
   "source": [
    "temp1['pro_link'] =mnfac.pro_link\n",
    "temp1['beer']=mnfac['product']"
   ]
  },
  {
   "cell_type": "code",
   "execution_count": 19,
   "metadata": {},
   "outputs": [],
   "source": [
    "def webstite_scrape_p3 (beer_link, number_of_reviews):\n",
    "\n",
    "    driver = webdriver.Chrome('/home/sam/Downloads/chromedriver')\n",
    "    url = 'https://www.beeradvocate.com/community/login/'\n",
    "    driver.get(url)\n",
    "    \n",
    "    login_element = WebDriverWait(driver, 20).until(EC.element_to_be_clickable((By.XPATH, '//form[@class=\"xenForm formOverlay\"]//dd//input[@name =\"login\"]')))\n",
    "    login_element.send_keys('suzie102')\n",
    "\n",
    "    pw_element = WebDriverWait(driver, 20).until(EC.element_to_be_clickable((By.XPATH, '//form[@class=\"xenForm formOverlay\"]//dl[@class =\"ctrlUnit\"]//dd//ul//li[@id = \"ctrl_pageLogin_registered_Disabler\"]//input[@name =\"password\"]')))\n",
    "    pw_element.send_keys('Beer@addiction102')\n",
    "\n",
    "    page_click = WebDriverWait(driver, 20).until(EC.element_to_be_clickable((By.XPATH, '//form[@class=\"xenForm formOverlay\"]//dl[@class =\"ctrlUnit submitUnit\"]//dd//input[@type =\"submit\"]')))\n",
    "    page_click.click()\n",
    "\n",
    "    detail_rating = []\n",
    "    reviews =[]\n",
    "    avg_per_user =[]\n",
    "    for link, i in tqdm(zip(beer_link, number_of_reviews)): \n",
    "        for pages_i in range(0,int(i)+1,25): #site shows 25 resulst/page)        \n",
    "            new_url = \"https://www.beeradvocate.com\"+link+'?view=beer&sort=&start=%d' %(pages_i)\n",
    "            driver.get(new_url)\n",
    "            #print(driver.find_element_by_name(\"hideRatings\").is_selected())\n",
    "            #check_box = WebDriverWait(driver,20).until(EC.element_to_be_clickable((By.XPATH, '//form[@style=\"display:inline;margin:0;padding:0;\"]//input[@type = \"checkbox\"]')))#check_box.click()\n",
    "            #check_box.click()\n",
    "            time.sleep(5)\n",
    "            page_source = driver.page_source\n",
    "            soup = BeautifulSoup(page_source,'html.parser')\n",
    "        \n",
    "            detail_rating_i = [ i.get_text() for i in soup.find_all('span', class_ = \"muted\")][8::3]\n",
    "            detail_rating.append(detail_rating_i)\n",
    "            \n",
    "            reviews_i = [ i.get_text() for i in soup.find_all('div')]\n",
    "            reviews.append(reviews_i)\n",
    "            \n",
    "            avg_i = [i.get_text() for i in soup.find_all('span', class_= \"BAscore_norm\")]\n",
    "            print(new_url)\n",
    "            print(avg_i)\n",
    "            avg_per_user.append(avg_i)\n",
    "    return detail_rating, reviews, avg_per_user"
   ]
  },
  {
   "cell_type": "code",
   "execution_count": 20,
   "metadata": {},
   "outputs": [],
   "source": [
    "temp1.number_of_reviews =[ i for m in number_of_reviews for i in m]\n",
    "temp1.number_of_reviews = temp1.number_of_reviews.str.replace(\",\",\"\")"
   ]
  },
  {
   "cell_type": "code",
   "execution_count": 38,
   "metadata": {},
   "outputs": [],
   "source": [
    "temp1.mnf = temp1.mnf.apply(lambda x: x[-1] if len(x)>1 else x)"
   ]
  },
  {
   "cell_type": "code",
   "execution_count": 27,
   "metadata": {},
   "outputs": [],
   "source": [
    "temp1.to_csv('temp1.csv')"
   ]
  },
  {
   "cell_type": "code",
   "execution_count": 22,
   "metadata": {},
   "outputs": [
    {
     "name": "stderr",
     "output_type": "stream",
     "text": [
      "\r",
      "0it [00:00, ?it/s]"
     ]
    },
    {
     "name": "stdout",
     "output_type": "stream",
     "text": [
      "https://www.beeradvocate.com/beer/profile/713/2124/?view=beer&sort=&start=0\n",
      "['3.38', '3.83', '3.44', '2.44', '2.55', '2.55', '1.35', '3.28', '2.25', '3.38', '3', '3.22', '2.92', '2.81', '2.83', '2.49', '2.44', '3', '2.25', '3.12', '3', '3.4', '3.1', '2.54', '2.71']\n",
      "https://www.beeradvocate.com/beer/profile/713/2124/?view=beer&sort=&start=25\n",
      "['2.94', '2.06', '3.31', '2.11', '3.56', '2.53', '3.05', '2.7', '3.08', '2.66', '2.57', '2.08', '1.92', '2.47', '1.94', '2.65', '1.75', '2.48', '2.62', '2.68', '1.92', '2.99', '3.42', '3', '2.72']\n",
      "https://www.beeradvocate.com/beer/profile/713/2124/?view=beer&sort=&start=50\n",
      "['2.55', '2.55', '3.25', '2.44', '2.11', '2.71', '2.24', '3.46', '2.28', '2.35', '2.01', '2.76', '1.84', '2.47', '2.28', '2.74', '2.65', '1.73', '2.83', '2.78', '1.53', '2.85', '2.44', '2.53', '3.47']\n",
      "https://www.beeradvocate.com/beer/profile/713/2124/?view=beer&sort=&start=75\n",
      "['2.12', '3.05', '2.53', '2.61', '2.58', '4', '2.29', '2.95', '2.9', '2.89', '2.72', '1.88', '3.6', '1.9', '2.77', '3.4', '2.75', '3.42', '3.43', '1.85', '3.13', '2.66', '2.56', '2.73', '2.63']\n",
      "https://www.beeradvocate.com/beer/profile/713/2124/?view=beer&sort=&start=100\n",
      "['3', '3.03', '3.15', '1.48', '2.57', '2.16', '3.68', '2.98', '2.65', '2.75', '2.6', '3.12', '2.6', '3.23', '2.28', '3', '3.03', '3.36', '2.95', '2.6', '2.1', '2.41', '2.03', '2.31', '2.78']\n"
     ]
    },
    {
     "name": "stderr",
     "output_type": "stream",
     "text": [
      "\r",
      "1it [00:38, 38.97s/it]"
     ]
    },
    {
     "name": "stdout",
     "output_type": "stream",
     "text": [
      "https://www.beeradvocate.com/beer/profile/713/2124/?view=beer&sort=&start=125\n",
      "['3.1', '2.35', '1.92', '2.4', '1.9', '1.8', '2.18', '2.57', '2.5', '1.68', '2.53', '2.53', '2.03', '2.06', '3.1']\n"
     ]
    },
    {
     "name": "stderr",
     "output_type": "stream",
     "text": [
      "\r",
      "2it [00:44, 28.97s/it]"
     ]
    },
    {
     "name": "stdout",
     "output_type": "stream",
     "text": [
      "https://www.beeradvocate.com/beer/profile/160/508425/?view=beer&sort=&start=0\n",
      "[]\n",
      "https://www.beeradvocate.com/beer/profile/8/80302/?view=beer&sort=&start=0\n",
      "['3.81', '3.23', '3.36', '3.3', '3.4', '2.6', '3.47', '3.34', '3.28', '2.15', '2.49', '3.63', '3.31', '3.07', '3.34', '3.35', '3.35', '3.56', '3.35', '3.46', '3.56', '2.47', '1.74', '2.73', '2.43']\n",
      "https://www.beeradvocate.com/beer/profile/8/80302/?view=beer&sort=&start=25\n",
      "['3.58', '3.74', '2.88', '3.8', '3.83', '3.54', '4.22', '3.85', '3.73', '4.06', '2.45', '2.71', '3.61', '2.61', '3.76', '2.79', '3.47', '4.6', '2.32', '3.58', '3.4', '3.38', '4', '3.69', '5']\n",
      "https://www.beeradvocate.com/beer/profile/8/80302/?view=beer&sort=&start=50\n",
      "['3.3', '3.88', '3.07', '3.5', '3.33', '3.37', '3.58', '3.54', '3.39', '3.36', '4.09', '3.05', '3.85', '3.65', '3.17', '3.22', '4.74', '3.26', '3.47', '3.77', '3.06', '3.34', '3.03', '3.4', '3.91']\n",
      "https://www.beeradvocate.com/beer/profile/8/80302/?view=beer&sort=&start=75\n",
      "['3.98', '3.06', '3.96', '2.81', '3.75', '2.96', '3.32', '3.45', '3.21', '3.46', '1.69', '4.02', '3.19', '3.88', '3.83', '3.15', '3.63', '3.87', '3.2', '2.78', '2.63', '3.1', '2.94', '3.5', '3.08']\n",
      "https://www.beeradvocate.com/beer/profile/8/80302/?view=beer&sort=&start=100\n",
      "['3.48', '4', '3.27', '3.14', '3.99', '3.83', '3.8', '3.39', '3.88', '3.38', '3.8', '3.85', '2.88', '2.69', '4', '3.44', '3.1', '3.88', '3.5', '3.94', '3.57', '3.71', '3.53', '3.42', '3.13']\n"
     ]
    },
    {
     "name": "stderr",
     "output_type": "stream",
     "text": [
      "\r",
      "3it [01:23, 31.97s/it]"
     ]
    },
    {
     "name": "stdout",
     "output_type": "stream",
     "text": [
      "https://www.beeradvocate.com/beer/profile/8/80302/?view=beer&sort=&start=125\n",
      "['3.76', '4.12', '3.3']\n",
      "https://www.beeradvocate.com/beer/profile/208/646/?view=beer&sort=&start=0\n",
      "['4.31', '4.27', '4.33', '3.43', '4.59', '4.38', '4.38', '4.09', '4.74', '4.39', '4.47', '4.37', '4.28', '4.3', '4.24', '4.13', '4.75', '4.02', '4.04', '4.36', '4.26', '4.37', '4.24', '4.39', '4.34']\n",
      "https://www.beeradvocate.com/beer/profile/208/646/?view=beer&sort=&start=25\n",
      "['4.59', '4.31', '4.27', '4.34', '4.34', '4.13', '4.33', '3.97', '4.33', '3.71', '4.01', '4.43', '4.19', '4.22', '4.3', '3.74', '4.69', '3.97', '4.6', '3.54', '4.14', '4.39', '4.5', '4.41', '4.47']\n",
      "https://www.beeradvocate.com/beer/profile/208/646/?view=beer&sort=&start=50\n",
      "['4.43', '4.24', '2.77', '4.48', '4.23', '3.59', '4.08', '3.75', '4.34', '4.04', '4.17', '4.62', '4.81', '4.07', '4.34', '5', '3.86', '4.01', '4.43', '3.96', '4.39', '4.24', '4.25', '4.32', '4.28']\n",
      "https://www.beeradvocate.com/beer/profile/208/646/?view=beer&sort=&start=75\n",
      "['3.56', '4.19', '4.54', '4.88', '3.5', '4.84', '4.59', '4.49', '5', '4.53', '4.52', '4.15', '4.45', '4.22', '4.44', '4.84', '4.75', '3.94', '4.64', '4.73', '4.6', '3.43', '4.32', '4.07', '4.44']\n",
      "https://www.beeradvocate.com/beer/profile/208/646/?view=beer&sort=&start=100\n",
      "['3.05', '4.4', '4.25', '4.33', '4.24', '4.5', '4.25', '4.2', '4.68', '5', '4.79', '4.6', '4.02', '4.01', '3.88', '5', '3.54', '4.08', '4.39', '3.91', '4.16', '4.68', '3.5', '4.33', '4.6']\n",
      "https://www.beeradvocate.com/beer/profile/208/646/?view=beer&sort=&start=125\n",
      "['4', '4.25', '4.46', '4.41', '4.25', '4.32', '4.36', '4.38', '4.41', '4.21', '4.49', '4.24', '4.78', '3.18', '4.61', '3.18', '4.59', '3.58', '4.3', '4.38', '4.78', '4.88', '4.47', '4.47', '4.82']\n",
      "https://www.beeradvocate.com/beer/profile/208/646/?view=beer&sort=&start=150\n",
      "['4.56', '4.25', '4.74', '4.43', '4.43', '4.75', '4.59', '4.74', '4.25', '4.03', '4.34', '4.54', '3.98', '4.46', '4.18', '4.22', '4.09', '4.4', '4.32', '4.64', '4.28', '4.5', '4.25', '3.94', '4.5']\n",
      "https://www.beeradvocate.com/beer/profile/208/646/?view=beer&sort=&start=175\n",
      "['4.42', '4.68', '4.43', '4.33', '4.25', '4.07', '4.16', '3.18', '3.84', '4.61', '4.31', '4.27', '4.43', '3.59', '4.35', '4.29', '4.59', '5', '4.92', '4.71', '3.94', '3.86', '3.99', '3.68', '4.7']\n",
      "https://www.beeradvocate.com/beer/profile/208/646/?view=beer&sort=&start=200\n",
      "['4.83', '4.7', '4.81', '4.37', '4.01', '4.2', '5', '5', '4.36', '2.36', '4.11', '4.67', '4.01', '3.79', '4.23', '4.48', '3.97', '4.32', '4.15', '4.79', '4.2', '4.71', '4.58', '4.19', '4.35']\n",
      "https://www.beeradvocate.com/beer/profile/208/646/?view=beer&sort=&start=225\n",
      "['4.29', '4.7', '4.45', '4.5', '4.25', '4.25', '3.75', '5', '3.86', '4.34', '5', '4.65', '4.47', '4.5', '3.99', '4.25', '4.75', '4.32', '5', '4.5', '4.07', '4.38', '3.27', '4.53', '4.43']\n",
      "https://www.beeradvocate.com/beer/profile/208/646/?view=beer&sort=&start=250\n",
      "['4.04', '4.3', '3.51', '4.53', '4.77', '3.62', '4.38', '4.32', '4.83', '4.36', '4.01', '4.57', '4.64', '4.16', '5', '3.98', '4.35', '4.53', '5', '3.86', '4', '3.99', '4.09', '3.43', '4.34']\n",
      "https://www.beeradvocate.com/beer/profile/208/646/?view=beer&sort=&start=275\n",
      "['4.11', '4.04', '3.88', '4.41', '4.22', '5', '4.35', '4.5', '3.99', '4.19', '4.1', '3.4', '4.22', '4.4', '4.62', '4.42', '4.3', '3.92', '3.97', '4.52', '4', '4.22', '4.15', '3.75', '4.42']\n",
      "https://www.beeradvocate.com/beer/profile/208/646/?view=beer&sort=&start=300\n",
      "['4.35', '4.44', '4.5', '4.03', '4.38', '4.25', '4', '4.25', '4.43', '4.62', '3', '3.99', '4.53', '4.35', '5', '3.84', '4.49', '4.21', '4.7', '2.64', '4.73', '4.74', '4.46', '4.78', '4.49']\n",
      "https://www.beeradvocate.com/beer/profile/208/646/?view=beer&sort=&start=325\n",
      "['4.3', '4.38', '4.33', '5', '4.27', '4.3', '3.64', '4.7', '4.04', '4.03', '4.69', '4.74', '3.65', '4.28', '4.66', '4.09', '4.25', '4.59', '3.8', '4.08', '3.61', '4.08', '4.47', '4.2', '4.7']\n",
      "https://www.beeradvocate.com/beer/profile/208/646/?view=beer&sort=&start=350\n",
      "['4.68', '4.59', '4.23', '4.46', '4.37', '4.7', '4.63', '4.05', '4.08', '4.34', '4.58', '4.35', '4.41', '4.27', '4.2', '4.99', '4.77', '4.48', '4.5', '4.34', '4.35', '4.92', '4.85', '4.38', '4.4']\n",
      "https://www.beeradvocate.com/beer/profile/208/646/?view=beer&sort=&start=375\n",
      "['4.43', '4.3', '4.33', '3.45', '4.7', '4.1', '4.73', '4.47', '4.33', '4.03', '4.38', '4.12', '3.58', '4.45', '3.99', '4.58', '4.85', '4.35', '4.71', '4.35', '3.88', '3.83', '4.33', '4.3', '4.13']\n",
      "https://www.beeradvocate.com/beer/profile/208/646/?view=beer&sort=&start=400\n",
      "['3.91', '4.19', '4.18', '4.08', '4.62', '4.42', '4.12', '4.5', '4.48', '4.55', '4.68', '3.56', '3.72', '4.38', '4.65', '4.6', '4.53', '4.38', '4.36', '4.28', '4.75', '4.41', '4.25', '3.92', '4.48']\n",
      "https://www.beeradvocate.com/beer/profile/208/646/?view=beer&sort=&start=425\n",
      "['4.8', '4.35', '4.26', '4.11', '4.37', '4.03', '4.57', '4.23', '4.61', '4.21', '4.3', '4.08', '4.28', '4.61', '4.3', '4.73', '3.5', '4.95', '4.38', '4.38', '4.15', '3.16', '4.35', '4.86', '4.7']\n",
      "https://www.beeradvocate.com/beer/profile/208/646/?view=beer&sort=&start=450\n",
      "['4.85', '4.65', '4.03', '4', '4.95', '4.6', '4.25', '4.41', '5', '4.45', '4.35', '4.45', '4.56', '4.7', '4.38', '4.35', '4.25', '4.67', '3.76', '4.8', '4.08', '4.5', '4.6', '4.67', '4.47']\n",
      "https://www.beeradvocate.com/beer/profile/208/646/?view=beer&sort=&start=475\n",
      "['4.42', '3.93', '3.5', '4', '4.3', '5', '3.7', '4.52', '4.35', '3.74', '4.42', '4.3', '4.38', '4.67', '4.12', '4.5', '4.25', '4.48', '4.62', '4.58', '3.72', '4.43', '4.3', '4.88', '4.5']\n",
      "https://www.beeradvocate.com/beer/profile/208/646/?view=beer&sort=&start=500\n",
      "['4.23', '4.77', '4.22', '5', '4.65', '4.47', '3.55', '4.25', '4.58', '4.47', '4.7', '4.47', '4.38', '2.46', '4.82', '4.12', '4.46', '4.67', '4.51', '4.97', '4.38', '3.53', '4.33', '4.27', '4.23']\n",
      "https://www.beeradvocate.com/beer/profile/208/646/?view=beer&sort=&start=525\n",
      "['4.8', '4.49', '4', '4.23', '4.76', '4.03', '4.57', '4.75', '4', '4.25', '4.32', '3.94', '4.25', '4.5', '4.3', '3.93', '4.2', '4.35', '4.78', '4.3', '4.03', '4.4', '4.35', '4.57', '4.43']\n",
      "https://www.beeradvocate.com/beer/profile/208/646/?view=beer&sort=&start=550\n",
      "['4.65', '4.55', '4.15', '4', '4.95', '4.3', '4.25', '4.11', '4.3', '4.54', '4.7', '4.97', '4.77', '4.13', '4.38', '4.41', '4.46', '3.64', '4.62', '4.16', '4.62', '4.88', '4.41', '4.46', '3.88']\n",
      "https://www.beeradvocate.com/beer/profile/208/646/?view=beer&sort=&start=575\n",
      "['4.47', '4.15', '4.63', '4.3', '4.38', '5', '3.58', '4.03', '4.23', '3.77', '4.92', '4.18', '4.2', '4.42', '4.3', '4.42', '4.38', '4.08', '4.8', '4.5', '4.12', '3.51', '4.65', '4.92', '4.58']\n",
      "https://www.beeradvocate.com/beer/profile/208/646/?view=beer&sort=&start=600\n",
      "['4.83', '4.95', '4.23', '3.45', '4.05', '4.23', '4.6', '4.33', '4.42', '4.25', '4.53', '4.2', '4.51', '2.66', '4.25', '4.38', '3.61', '4.8', '5', '4.83', '4', '4.23', '4.3', '3.85', '4.13']\n",
      "https://www.beeradvocate.com/beer/profile/208/646/?view=beer&sort=&start=625\n",
      "['4.25', '4.73', '4.36', '4.32', '4.33', '4.54', '4.25', '4.5', '4.21', '4.17', '4.3', '4.08', '4.03', '4.55', '4.33', '5', '4.21', '3.97', '4.35', '4.17', '4.12', '4.11', '4.25', '4.55', '4']\n",
      "https://www.beeradvocate.com/beer/profile/208/646/?view=beer&sort=&start=650\n",
      "['4.65', '4.47', '3.64', '4.35', '4.77', '5', '4.21', '4.23', '3.78', '4.44', '4.52', '3.27', '4.07', '4.47', '4.67', '4.58', '4.5', '4.8', '4.13', '4.67', '4.25', '4.6', '4.33', '3.98', '4.38']\n",
      "https://www.beeradvocate.com/beer/profile/208/646/?view=beer&sort=&start=675\n",
      "['4.03', '4.03', '4.03', '3.59', '4.38', '4.47', '4.26', '4.48', '4.23', '4.47', '4.2', '4.41', '4.06', '4.2', '4.21', '4.82', '4.38', '3.95', '4.35', '3.66', '4.37', '4.55', '3.76', '4.13', '4']\n",
      "https://www.beeradvocate.com/beer/profile/208/646/?view=beer&sort=&start=700\n",
      "['4.22', '4.72', '4.42', '4.38', '5', '4', '4.05', '4.4', '4.11', '4', '4.35', '4.7', '4.18', '4.6', '4.82', '3.9', '4.5', '4.68', '4.48', '3.77', '3.71', '4.45', '4.53', '4.33', '3.88']\n",
      "https://www.beeradvocate.com/beer/profile/208/646/?view=beer&sort=&start=725\n",
      "['4.23', '4.32', '4.45', '4.5', '3.68', '4.85', '3.85', '4.8', '4.26', '4.45', '4.15', '3.89', '4.42', '4.33', '4.08', '4.75', '4.35', '4.05', '3.58', '3.97', '3.72', '4.17', '4.5', '3.6', '4.48']\n"
     ]
    },
    {
     "name": "stdout",
     "output_type": "stream",
     "text": [
      "https://www.beeradvocate.com/beer/profile/208/646/?view=beer&sort=&start=750\n",
      "['3.95', '4.45', '4.47', '4.2', '4.18', '4', '4.02', '4.37', '4.1', '3.6', '4.1', '4.25', '4.11', '4.05', '3.43', '4.05', '4.03', '4.38', '3.96', '4.37', '3.41', '4.73', '4.5', '4.51', '4.22']\n",
      "https://www.beeradvocate.com/beer/profile/208/646/?view=beer&sort=&start=775\n",
      "['5', '4.28', '4.4', '4.51', '4.63', '4.47', '5', '4.3', '4.1', '3.67', '3.75', '4.33', '4.13', '3.89', '4.33', '4.52', '4.38', '4.28', '3.71', '4.28', '4.03', '4.4', '3.81', '4.88', '4.18']\n",
      "https://www.beeradvocate.com/beer/profile/208/646/?view=beer&sort=&start=800\n",
      "['4.78', '4.77', '4.26', '4.38', '4.32', '4.08', '4.46', '4.1', '3.64', '3.63', '4.13', '3.42', '3.78', '4.48', '4.15', '4.14', '4.68', '4.13', '4.12', '4', '4.8', '4.37', '4.45', '4.36', '4.13']\n",
      "https://www.beeradvocate.com/beer/profile/208/646/?view=beer&sort=&start=825\n",
      "['4.03', '3.82', '3.22', '4.35', '4.58', '4.03', '4.61', '3.43', '3.85', '4.62', '4.15', '3.92', '4.5', '4.51', '4.87', '4.5', '4.33', '4.45', '4.03', '4.47', '5', '4.13', '4.1', '4.42', '4.07']\n",
      "https://www.beeradvocate.com/beer/profile/208/646/?view=beer&sort=&start=850\n",
      "['4.22', '4.2', '4.75', '4.63', '4.03', '4.48', '4.67', '4.27', '4.37', '4.47', '4.26', '3.79', '4.36', '4.13', '4.25', '4.85', '4.48', '4', '4.23', '4.22', '4.32', '4.3', '4.15', '4.12', '4.35']\n",
      "https://www.beeradvocate.com/beer/profile/208/646/?view=beer&sort=&start=875\n",
      "['4.33', '3.7', '3.6', '4.58', '3.15', '4.42', '4.01', '4.68', '4.03', '3.55', '4.73', '4.5', '4.28', '4.21', '4', '4.53', '4.75', '4.2', '4.7', '4.41', '4.53', '3.77', '4.7', '4.45', '4.3']\n",
      "https://www.beeradvocate.com/beer/profile/208/646/?view=beer&sort=&start=900\n",
      "['4.23', '4.02', '4.38', '3.73', '4.75', '4.23', '4.72', '4.08', '4.72', '4.25', '3.83', '4.28', '4.82', '4.47', '4.13', '4.7', '4.5', '4.03', '4.52', '4.6', '4.72', '4.19', '4.73', '4.12', '3.9']\n",
      "https://www.beeradvocate.com/beer/profile/208/646/?view=beer&sort=&start=925\n",
      "['4.38', '4.2', '4.03', '4.12', '4.7', '4.51', '4.11', '4.18', '3.73', '4.33', '4.64', '4.35', '4', '4.58', '4.1', '3.49', '2.59', '4.22', '3.38', '4.19', '3.98', '3.85', '4.37', '4.27', '4.68']\n",
      "https://www.beeradvocate.com/beer/profile/208/646/?view=beer&sort=&start=950\n",
      "['4', '4.33', '4.37', '4.15', '4.36', '4', '4.28', '4.2', '4.18', '4.27', '4.4', '4.65', '3.63', '4.1', '4.9', '4.08', '4.32', '4.41', '4.43', '4.38', '3.56', '3.51', '4.33', '4.25', '4.55']\n",
      "https://www.beeradvocate.com/beer/profile/208/646/?view=beer&sort=&start=975\n",
      "['4.5', '4.25', '4.27', '4.58', '4.33', '4.42', '4.53', '4.27', '4.05', '4.31', '4.08', '3.88', '4.03', '3.92', '4.55', '4.4', '4.67', '4.42', '4.5', '4.68', '4.77', '4.42', '4.34', '4.77', '4.3']\n",
      "https://www.beeradvocate.com/beer/profile/208/646/?view=beer&sort=&start=1000\n",
      "['4', '4.18', '4.47', '4.53', '4.67', '4.87', '4.1', '4.3', '4.12', '4.05', '4.48', '4.93', '4.17', '4.95', '4.18', '5', '3.65', '3.66', '4.7', '4.41', '4.43', '4.05', '4.5', '5', '4.65']\n",
      "https://www.beeradvocate.com/beer/profile/208/646/?view=beer&sort=&start=1025\n",
      "['3.88', '2.76', '4.42', '4.25', '4.72', '4.6', '4.17', '4.52', '4.47', '4.25', '4.17', '4.62', '3.83', '4.77', '4.84', '3.92', '4.3', '4.26', '4.01', '4.48', '3.44', '4.38', '4.45', '3.7', '3.96']\n",
      "https://www.beeradvocate.com/beer/profile/208/646/?view=beer&sort=&start=1050\n",
      "['3.66', '3.73', '4.38', '3.21', '4.25', '3.91', '3.96', '4.8', '4.08', '4.03', '3.73', '3.93', '4.48', '3.68', '4.48', '3.87', '4.08', '3.98', '3.33', '3.98', '4.75', '4', '4.68', '3.96', '3.51']\n",
      "https://www.beeradvocate.com/beer/profile/208/646/?view=beer&sort=&start=1075\n",
      "['3.7', '4.44', '4.36', '4.07', '3.95', '4.42', '4.35', '4', '4.15', '4.3', '4.05', '3.77', '4.16', '4.03', '3.66', '4.3', '4.32', '3.04', '3.42', '3.89', '4.48', '4.54', '4.65', '2.68', '3.98']\n",
      "https://www.beeradvocate.com/beer/profile/208/646/?view=beer&sort=&start=1100\n",
      "['4.58', '4.5', '4.53', '4.8', '4.37', '4.53', '4.42', '4.92', '4.57', '4.28', '4.75', '4.03', '4.62', '4.1', '4.42', '4.72', '4.5', '4.8', '4.35', '4.38', '4.2', '4.18', '4.17', '3.78', '3.94']\n",
      "https://www.beeradvocate.com/beer/profile/208/646/?view=beer&sort=&start=1125\n",
      "['4.35', '3.7', '4.61', '3.95', '3.78', '3.83', '4.38', '4.08', '4.35', '4.18', '3.31', '4.6', '4.35', '4.16', '4.57', '4.41', '3.23', '3.82', '4.52', '4.47', '4.47', '4.68', '4.5', '4.47', '4.1']\n",
      "https://www.beeradvocate.com/beer/profile/208/646/?view=beer&sort=&start=1150\n",
      "['4.6', '4', '4.18', '4.5', '3.68', '4.21', '3.65', '4.45', '4.95', '3.85', '3.7', '4.82', '4.7', '4.4', '4.18', '4.6', '4.72', '3.82', '4.41', '4.55', '4.85', '4.15', '4.17', '3.93', '4.9']\n",
      "https://www.beeradvocate.com/beer/profile/208/646/?view=beer&sort=&start=1175\n",
      "['3.93', '3.92', '5', '2.53', '4.32', '4.12', '4.87', '4.44', '4.3', '3.63', '4.23', '4.41', '3.68', '4.65', '4.4', '4.35', '4.42', '4.53', '4.5', '4.92', '4.65', '4.65', '4.47', '4.5', '4.67']\n",
      "https://www.beeradvocate.com/beer/profile/208/646/?view=beer&sort=&start=1200\n",
      "['4.38', '4.41', '4.73', '4.9', '3.89', '4.46', '3.9', '5', '4.35', '3.79', '3.83', '4.37', '4.33', '4.48', '4.32', '4', '3.85', '3.78', '4', '4.67', '4.75', '4.45', '4.5', '4.4', '4.54']\n",
      "https://www.beeradvocate.com/beer/profile/208/646/?view=beer&sort=&start=1225\n",
      "['4.18', '4.78', '3.86', '4.5', '4.47', '4.23', '4.45', '4.25', '4.85', '4.25', '4.75', '4.35', '4.17', '4.5', '4.08', '4.3', '4.57', '4.8', '4.3', '4.5', '4.23', '4', '4.62', '4.32', '3.8']\n",
      "https://www.beeradvocate.com/beer/profile/208/646/?view=beer&sort=&start=1250\n",
      "['4.6', '4.08', '4.85', '4.9', '4.3', '4.25', '4.8', '4.52', '4.32', '4.32', '4.03', '4.55', '4.18', '4.27', '4.92', '4.68', '2.72', '4.47', '4.28', '3.92', '4.7', '4.47', '4.15', '4.8', '4.42']\n",
      "https://www.beeradvocate.com/beer/profile/208/646/?view=beer&sort=&start=1275\n",
      "['4.37', '4.47', '3.82', '4.7', '4.67', '4.06', '4.7', '4.8', '3.33', '4.6', '4.78', '4.52', '4.52', '3.85', '2.76', '4.03', '4.06', '4.32', '3.15', '4.28', '4.53', '4.41', '4.33', '4.8', '4.35']\n",
      "https://www.beeradvocate.com/beer/profile/208/646/?view=beer&sort=&start=1300\n",
      "['3.71', '4.4', '4.35', '3.83', '3.75', '3.97', '4.7', '4.57', '3.82', '4.73', '4.47', '3.13', '4.35', '4.68', '4.75', '4.3', '4.32', '4.05', '4.38', '4', '4.25', '3.98', '3.72', '3.98', '4.47']\n",
      "https://www.beeradvocate.com/beer/profile/208/646/?view=beer&sort=&start=1325\n",
      "['4.97', '4.32', '4.3', '4.25', '4.77', '4.15', '3.88', '3.68', '4.21', '4.47', '4.23', '3.82', '4.68', '4.5', '3.27', '4.42', '4.07', '3.7', '4.55', '4.35', '4.05', '4.39', '4.03', '1.83', '3.55']\n",
      "https://www.beeradvocate.com/beer/profile/208/646/?view=beer&sort=&start=1350\n",
      "['4.22', '3.28', '3.53', '4.06', '3.21', '3.97', '4.38', '4.4', '4.21', '4.63', '4.56', '4.4', '4.38', '3.75', '4.62', '4.4', '4.13', '4.48', '4.5', '4.47', '4.45', '4.18', '4.01', '3.47', '4.14']\n",
      "https://www.beeradvocate.com/beer/profile/208/646/?view=beer&sort=&start=1375\n",
      "['3.95', '4.4', '4.08', '4.62', '4.23', '4.66', '4.28', '3.95', '4.18', '3.54', '4.85', '3.96', '4.37', '4.3', '4.33', '3.78', '4.12', '3.36', '4.26', '4.39', '4.15', '4', '4.37', '4.7', '4.37']\n",
      "https://www.beeradvocate.com/beer/profile/208/646/?view=beer&sort=&start=1400\n",
      "['3.89', '4.55', '4.38', '4.14', '4', '4.4', '4.43', '4.88', '4.65', '4.95', '4.94', '4.97', '4.77', '4', '4.54', '4.63', '4', '4.12', '3.88', '3.94', '4.13', '4.15', '4.23', '4.25', '4.12']\n",
      "https://www.beeradvocate.com/beer/profile/208/646/?view=beer&sort=&start=1425\n",
      "['4', '4.7', '4.22', '3.63', '3.82', '4', '4.15', '4.45', '4.8', '4.5', '3.68', '4.2', '4.2', '4.25', '4.82', '4.08', '3.5', '4.15', '4.63', '4.8', '4.33', '3.3', '4', '4.32', '4.4']\n",
      "https://www.beeradvocate.com/beer/profile/208/646/?view=beer&sort=&start=1450\n",
      "['3.17', '4.48', '4.26', '3.75', '4.25', '5', '4', '4.2', '4.21', '4.67', '4.59', '4.73', '3.32', '4.32', '4.3', '4.53', '4.3', '4.34', '4.05', '4.75', '4.29', '4.42', '4.15', '4.23', '3.67']\n",
      "https://www.beeradvocate.com/beer/profile/208/646/?view=beer&sort=&start=1475\n",
      "['4.25', '4.3', '3.9', '4.17', '4.16', '4.13', '4.35', '4.47', '4.28', '3.71', '3.38', '3.9', '3.24', '3.62', '4.47', '4.4', '4.4', '4.1', '4.09', '4.03', '2.73', '4.18', '4.73', '4.65', '4.05']\n",
      "https://www.beeradvocate.com/beer/profile/208/646/?view=beer&sort=&start=1500\n",
      "['4.01', '4.11', '4.06', '3.95', '4.02', '4.23', '4.42', '4.23', '2.56', '4.33', '3.66', '4.68', '3.57', '4.8', '4.95', '4.06', '3.2', '4.28', '4.75', '4.2', '4.12', '3.43', '3.88', '5', '3.7']\n"
     ]
    },
    {
     "name": "stdout",
     "output_type": "stream",
     "text": [
      "https://www.beeradvocate.com/beer/profile/208/646/?view=beer&sort=&start=1525\n",
      "['4.42', '3.91', '3.83', '3.72', '4.29', '4.63', '4.38', '4.24', '4.15', '4.2', '3.68', '4.45', '4.63', '4.25', '4.03', '3.98', '4.18', '4.78', '4.73', '4.07', '3.88', '3.77', '4.03', '4.25', '4.48']\n",
      "https://www.beeradvocate.com/beer/profile/208/646/?view=beer&sort=&start=1550\n",
      "['4.1', '4.12', '4.6', '4.77', '4.28', '4.33', '4.73', '3.78', '3.62', '4.6', '4.88', '4.88', '4.58', '4.65', '4.75', '4.89', '4.47', '3.4', '3.42', '3.21', '4.18', '3.67', '4.85', '4.48', '4.5']\n",
      "https://www.beeradvocate.com/beer/profile/208/646/?view=beer&sort=&start=1575\n",
      "['4.22', '4.34', '4.67', '4.43', '4.28', '4.82', '4.32', '4.92', '3.73', '4.35', '4.35', '4.42', '3.92', '3.46', '4.07', '4.07', '4.21', '4.33', '4', '4.45', '3.93', '4.62', '4.23', '4.67', '3.84']\n",
      "https://www.beeradvocate.com/beer/profile/208/646/?view=beer&sort=&start=1600\n",
      "['4.35', '4.38', '4.55', '4.28', '4.85', '4.38', '4.4', '4.15', '4.21', '4.23', '3.96', '3.33', '4.72', '4.14', '4.08', '4.07', '4.5', '3.85', '4.5', '4.2', '4.85', '4.17', '4.68', '4.69', '4.71']\n",
      "https://www.beeradvocate.com/beer/profile/208/646/?view=beer&sort=&start=1625\n",
      "['4.3', '4.33', '3.79', '4.65', '4.82', '3.91', '4.44', '4.8', '3.77', '4.17', '4.23', '4.1', '4.42', '4.53', '3.85', '4.47', '4.03', '4.12', '4.05', '4.39', '4.47', '4.2', '4.2', '4.7', '4.55']\n",
      "https://www.beeradvocate.com/beer/profile/208/646/?view=beer&sort=&start=1650\n",
      "['4.72', '3.13', '3.8', '4.34', '3.93', '4.43', '2.98', '4.33', '4.3', '4.7', '3.85', '2.53', '3.44', '4.92', '4.97', '4.35', '4.57', '4.28', '3.9', '4.29', '4.8', '4.06', '4.33', '4.15', '4.9']\n",
      "https://www.beeradvocate.com/beer/profile/208/646/?view=beer&sort=&start=1675\n",
      "['4.8', '4.45', '4.05', '4.27', '4.23', '4.55', '4.9', '4.55', '4.92', '4.32', '3.35', '4.08', '3.95', '4.2', '3.8', '3.52', '4.82', '4.35', '4.5', '4.6', '4.35', '4.27', '4.1', '3.62', '4.41']\n",
      "https://www.beeradvocate.com/beer/profile/208/646/?view=beer&sort=&start=1700\n",
      "['4.12', '4.32', '4.84', '4.73', '4.3', '4.18', '4.7', '4.8', '4.1', '4.37', '3.95', '4.27', '4.58', '4.55', '3.62', '4.1', '4.67', '4.4', '4.73', '3.7', '4.2', '4.28', '4.33', '4.73', '4.33']\n",
      "https://www.beeradvocate.com/beer/profile/208/646/?view=beer&sort=&start=1725\n",
      "['4.75', '4.15', '4.23', '4.25', '4.47', '2.63', '4.85', '4.75', '4.58', '4.2', '4', '4.43', '4.4', '4.25', '4.38', '4.82', '3.67', '3.75', '4.45', '4', '4.45', '4.2', '3.9', '4.22', '4.2']\n",
      "https://www.beeradvocate.com/beer/profile/208/646/?view=beer&sort=&start=1750\n",
      "['5', '4.11', '4.23', '4.48', '4.28', '4.47', '4.02', '4.75', '4.23', '3.93', '3.9', '3.97', '4.57', '4.13', '4.1', '4.26', '3.86', '4.25', '4.25', '4.15', '3.7', '4.37', '3.33', '4.7', '4.9']\n",
      "https://www.beeradvocate.com/beer/profile/208/646/?view=beer&sort=&start=1775\n",
      "['4.28', '4.27', '3.9', '4', '4.35', '3.95', '4.97', '4.7', '3.62', '4.38', '3.54', '3.97', '4.35', '4.07', '3.95', '4.85', '3.76', '4.65', '4.3', '3.5', '4.33', '4.65', '4.97', '4.12', '4.43']\n"
     ]
    },
    {
     "name": "stderr",
     "output_type": "stream",
     "text": [
      "\r",
      "4it [09:07, 161.61s/it]"
     ]
    },
    {
     "name": "stdout",
     "output_type": "stream",
     "text": [
      "https://www.beeradvocate.com/beer/profile/208/646/?view=beer&sort=&start=1800\n",
      "['3.48', '4.5', '4.35', '4.85', '4.23', '4.2', '4.7', '4.65', '4.4', '3.65', '3.91', '4.12', '4.82', '4.44', '4.32', '4.49', '3.98', '4.28', '3.85', '4.3', '4.92', '4.8']\n",
      "https://www.beeradvocate.com/beer/profile/3966/8653/?view=beer&sort=&start=0\n",
      "['3.33', '3.92', '4.18', '4.36', '4.14', '3.43', '4.03', '3.34', '3.5', '3.85', '4.13', '3.8', '2.97', '3.93', '3.79', '4.67', '3.63', '4.06', '3.89', '4.03', '2.71', '4.84', '3.74', '4.14', '4.14']\n",
      "https://www.beeradvocate.com/beer/profile/3966/8653/?view=beer&sort=&start=25\n",
      "['5', '3.29', '4.25', '3.38', '5', '4.08', '3.69', '4.87', '3.98', '4.03', '4.62', '3.22', '3.34', '5', '3.7', '3.43', '2.16', '3', '3.99', '3.71', '3.5', '4.15', '3.27', '3.75', '4.01']\n",
      "https://www.beeradvocate.com/beer/profile/3966/8653/?view=beer&sort=&start=50\n",
      "['3.52', '2.68', '2.85', '3.21', '2.75', '3.34', '3.28', '3.39', '3.95', '3.68', '2.32', '3.83', '3.65', '3.29', '3.66', '3.25', '2.94', '3.32', '3.22', '3', '2.97', '2.38', '3.62', '3.51', '3.44']\n",
      "https://www.beeradvocate.com/beer/profile/3966/8653/?view=beer&sort=&start=75\n",
      "['3.67', '4.18', '3.38', '3.26', '3.51', '2.96', '2.53', '4.15', '3.7', '3.65', '3.35', '2.7', '3.22', '3.03', '3.3', '2.84', '3.26', '3.48', '3.45', '3.35', '3.58', '3.38', '3.62', '3.36', '2.27']\n",
      "https://www.beeradvocate.com/beer/profile/3966/8653/?view=beer&sort=&start=100\n",
      "['3.83', '3.55', '2.97', '3.04', '2.98', '2.15', '3.68', '3.5', '3.3', '3.68', '3.3', '4.23', '3.2', '4.2', '3.55', '3.68', '3.3', '3.74', '3.26', '3.33', '3.63', '4.9', '3.73', '2.99', '3.6']\n",
      "https://www.beeradvocate.com/beer/profile/3966/8653/?view=beer&sort=&start=125\n",
      "['4', '3.75', '2.81', '3.03', '2.84', '3.13', '3.2', '3.62', '3.6', '2.93', '1.46', '3.6', '3.53', '4', '3.46', '2.78', '3.53', '3.48', '3.5', '3.36', '3.34', '3.68', '3.77', '3.74', '3.6']\n",
      "https://www.beeradvocate.com/beer/profile/3966/8653/?view=beer&sort=&start=150\n",
      "['3.95', '3.45', '3', '3.78', '3', '3.8', '3', '3.3', '2.75', '2.96', '4.55', '3.49', '3.9', '3.5', '4.1', '3.08', '3.32', '3.53', '3.63', '3.72', '2.37', '3.63', '3.6', '3.98', '3.92']\n",
      "https://www.beeradvocate.com/beer/profile/3966/8653/?view=beer&sort=&start=175\n",
      "['3.16', '3.2', '2.75', '3.13', '3.57', '3.85', '3.48', '3.11', '3.58', '3.18', '2.98', '3.04', '3', '2.72', '2.83', '4.1', '3.83', '2.43', '3.13', '3.49', '2.92', '4', '3.42', '3.83', '3.44']\n"
     ]
    },
    {
     "name": "stderr",
     "output_type": "stream",
     "text": [
      "\r",
      "5it [10:01, 129.36s/it]"
     ]
    },
    {
     "name": "stdout",
     "output_type": "stream",
     "text": [
      "https://www.beeradvocate.com/beer/profile/3966/8653/?view=beer&sort=&start=200\n",
      "['4', '3.67', '3.87', '3.62', '2.7', '3.19', '3.89', '3.96', '3.43', '3.95', '3.55', '3.63', '3.65', '4.3', '2.5', '3.6', '3.73', '2.83', '3.05', '2.61']\n"
     ]
    },
    {
     "name": "stderr",
     "output_type": "stream",
     "text": [
      "\r",
      "6it [10:07, 92.21s/it] "
     ]
    },
    {
     "name": "stdout",
     "output_type": "stream",
     "text": [
      "https://www.beeradvocate.com/beer/profile/664/39979/?view=beer&sort=&start=0\n",
      "['3.29', '3.23', '3.11', '3.56', '4.23', '3.18', '3.63']\n"
     ]
    },
    {
     "name": "stderr",
     "output_type": "stream",
     "text": [
      "\r",
      "7it [10:13, 66.31s/it]"
     ]
    },
    {
     "name": "stdout",
     "output_type": "stream",
     "text": [
      "https://www.beeradvocate.com/beer/profile/360/457060/?view=beer&sort=&start=0\n",
      "[]\n",
      "https://www.beeradvocate.com/beer/profile/360/935/?view=beer&sort=&start=0\n",
      "['3.76', '4.88', '4.2', '3.85', '3.53', '3.34', '3.85', '4.06', '3.37', '3.89', '3.83', '3.35', '3.37', '5', '3.34', '3.4', '3.61', '4', '4.12', '4.35', '3.89', '3.52', '3.44', '3.79', '5']\n",
      "https://www.beeradvocate.com/beer/profile/360/935/?view=beer&sort=&start=25\n",
      "['3.33', '3.2', '2.72', '3.29', '2.08', '3.42', '4.5', '3.25', '3.28', '3.56', '3.44', '4.52', '3.43', '3.74', '3.83', '3.71', '2.4', '3.5', '3.51', '3', '3.69', '3.74', '3.66', '3.58', '2.31']\n",
      "https://www.beeradvocate.com/beer/profile/360/935/?view=beer&sort=&start=50\n",
      "['3.15', '4', '4.26', '3.31', '3.26', '3.75', '4.24', '3', '3.4', '5', '2.56', '3.34', '3.27', '3.26', '3.46', '4.74', '3.41', '3.56', '3.5', '3.63', '4.03', '4.52', '3.45', '3.59', '2.97']\n",
      "https://www.beeradvocate.com/beer/profile/360/935/?view=beer&sort=&start=75\n",
      "['3.41', '3.13', '3.13', '3.07', '3.25', '2.85', '3.85', '1.95', '3.12', '3.62', '4.77', '4.07', '3.57', '3.56', '3.85', '2.65', '3.88', '3.11', '3.69', '4.18', '3.53', '2.44', '3.84', '2.9', '3.34']\n",
      "https://www.beeradvocate.com/beer/profile/360/935/?view=beer&sort=&start=100\n",
      "['3.35', '4.18', '3.99', '3.57', '3', '3.55', '3.6', '4.67', '4.11', '4.08', '2.3', '2.46', '3.76', '3.49', '3.87', '3.56', '3.49', '2.39', '3.92', '3.44', '3.56', '2.37', '4', '4.03', '3.4']\n",
      "https://www.beeradvocate.com/beer/profile/360/935/?view=beer&sort=&start=125\n",
      "['3.36', '3.45', '2.5', '3.05', '3.38', '3.91', '3.05', '3.68', '3.6', '2.88', '4.45', '3.25', '3.67', '2.35', '3.48', '4.56', '3.99', '3.75', '2.86', '2.73', '4.22', '3.6', '4.12', '3.18', '4']\n",
      "https://www.beeradvocate.com/beer/profile/360/935/?view=beer&sort=&start=150\n",
      "['3.17', '2.54', '3.66', '4.75', '3.2', '4.25', '4.1', '3.5', '4', '3.72', '3.68', '3.61', '3.99', '3.51', '3.67', '3.62', '4.08', '3.83', '3.72', '3.25', '3.48', '3.88', '4.1', '4.2', '3.54']\n",
      "https://www.beeradvocate.com/beer/profile/360/935/?view=beer&sort=&start=175\n",
      "['3', '3.43', '2.71', '3', '4.68', '3.29', '3.08', '3.12', '3.99', '3.17', '3.67', '2.11', '3.75', '3.74', '4.73', '3.64', '4.27', '3.21', '3.38', '3.05', '3.28', '4.25', '4.21', '3.34', '3.04']\n",
      "https://www.beeradvocate.com/beer/profile/360/935/?view=beer&sort=&start=200\n",
      "['3.66', '3.55', '4.5', '4.02', '3.93', '3.3', '3.36', '3.51', '2.91', '3.15', '3.79', '2.91', '3.68', '3.27', '4.08', '3.76', '4.25', '3.83', '3.66', '3.41', '3.5', '3.75', '3.53', '3.23', '4']\n",
      "https://www.beeradvocate.com/beer/profile/360/935/?view=beer&sort=&start=225\n",
      "['3.55', '3.52', '3.88', '3.46', '3.15', '3.97', '3.79', '3.29', '3', '3.33', '3.13', '4.11', '3.5', '3.72', '3.15', '2.99', '3.21', '3.01', '3.11', '3.05', '2.88', '3.58', '3.5', '3.5', '3.8']\n",
      "https://www.beeradvocate.com/beer/profile/360/935/?view=beer&sort=&start=250\n",
      "['3.27', '3.48', '3.23', '2.53', '3.5', '3.7', '3.9', '3.46', '3.5', '2.63', '3.88', '3.38', '3.46', '3.47', '3.63', '2.95', '3.36', '3.58', '3.58', '3.55', '3', '3.18', '3.11', '1.88', '3.9']\n",
      "https://www.beeradvocate.com/beer/profile/360/935/?view=beer&sort=&start=275\n",
      "['2.98', '3.75', '3.45', '3.6', '4.15', '3.6', '3.67', '3.03', '4', '3.73', '3.53', '3.61', '3.58', '3.48', '3.64', '3.37', '2.68', '3.42', '3.5', '3.47', '4.2', '3.3', '3.12', '4.88', '3.4']\n",
      "https://www.beeradvocate.com/beer/profile/360/935/?view=beer&sort=&start=300\n",
      "['3.85', '3.94', '3.88', '3.1', '3.08', '3.96', '2.96', '3.3', '2.16', '3.03', '3.23', '3.08', '3.65', '3.38', '2.48', '3.01', '2.05', '3.31', '3.56', '3.23', '3.81', '5', '1.55', '4.42', '3.3']\n",
      "https://www.beeradvocate.com/beer/profile/360/935/?view=beer&sort=&start=325\n",
      "['3.65', '3.9', '2.66', '3.68', '3.85', '3.77', '1.88', '3.29', '3.97', '2.4', '3.2', '3.08', '3.35', '2.41', '3.61', '3.89', '3.35', '3.42', '4.15', '3.3', '2.78', '3.84', '4.03', '2.18', '3.31']\n",
      "https://www.beeradvocate.com/beer/profile/360/935/?view=beer&sort=&start=350\n",
      "['3.33', '3.65', '3.57', '2.83', '2.8', '3.83', '3.1', '4.85', '3.03', '4.32', '3', '3.55', '4.03', '3.87', '3.38', '3.2', '3.13', '3.52', '3.77', '4.24', '3.12', '3.35', '3.18', '3.6', '3.6']\n",
      "https://www.beeradvocate.com/beer/profile/360/935/?view=beer&sort=&start=375\n",
      "['3.6', '3.58', '4', '3.33', '2.48', '2.5', '4.07', '3.22', '2.9', '3.33', '3.9', '3.93', '3.7', '3.9', '3.58', '3.58', '2.98', '1.73', '3', '3.66', '3.57', '3.28', '3.3', '3.7', '3.19']\n",
      "https://www.beeradvocate.com/beer/profile/360/935/?view=beer&sort=&start=400\n",
      "['3.4', '3.63', '3.75', '3.8', '2.97', '3.62', '3.85', '3.53', '3.28', '3.5', '3.71', '4.03', '3.06', '3.98', '3.3', '3.7', '3.51', '3.23', '3.1', '2.8', '3.8', '2.43', '3.27', '3.42', '3.34']\n",
      "https://www.beeradvocate.com/beer/profile/360/935/?view=beer&sort=&start=425\n",
      "['3.72', '3.13', '3.81', '3.91', '3.63', '4.4', '2.85', '3.15', '4.13', '3.5', '3.8', '3.3', '3.73', '2.75', '3.68', '2.78', '3.95', '3.34', '3.13', '3.77', '4.2', '3.28', '3.59', '3.56', '3.66']\n",
      "https://www.beeradvocate.com/beer/profile/360/935/?view=beer&sort=&start=450\n",
      "['3.35', '3.27', '3.73', '3.65', '4.3', '3.98', '3.85', '3.65', '3.6', '3.65', '3.54', '3.52', '3.94', '3.26', '4.13', '3.55', '3.6', '3.27', '3.57', '4.69', '3.36', '3.3', '3.62', '3.93', '2.73']\n",
      "https://www.beeradvocate.com/beer/profile/360/935/?view=beer&sort=&start=475\n",
      "['3.75', '3.55', '3.98', '3.36', '3.7', '3.2', '3.03', '3.67', '3.82', '2.93', '3.75', '3.37', '3.73', '3.97', '2.03', '4.35', '3.41', '3.5', '3.47', '3.75', '3', '3.6', '3.14', '3.61', '4.19']\n",
      "https://www.beeradvocate.com/beer/profile/360/935/?view=beer&sort=&start=500\n",
      "['3.03', '3.4', '4.04', '3.38', '3.52', '3.1', '3.5', '3.23', '4.12', '3.36', '4.1', '3.23', '3.8', '3.85', '3.91', '3.43', '3.8', '3.52', '3.38', '2.54', '2.88', '3.48', '3.5', '3.55', '2.64']\n",
      "https://www.beeradvocate.com/beer/profile/360/935/?view=beer&sort=&start=525\n",
      "['3.49', '3.58', '4', '3.62', '3.9', '3.53', '3.35', '3.2', '3.53', '4.01', '3.4', '4.18', '2.85', '2.63', '3.31', '3.03', '3.35', '3.09', '4', '3.52', '2.48', '2.82', '3.5', '2.08', '3.6']\n",
      "https://www.beeradvocate.com/beer/profile/360/935/?view=beer&sort=&start=550\n",
      "['3.53', '3.54', '4.09', '3.45', '3.5', '4.17', '3.43', '3.8', '2.69', '3', '3.85', '3.3', '3.69', '4', '3.24', '4.01', '2.64', '3.21', '3.03', '3.32', '2.53', '4.1', '3.22', '2.53', '3.35']\n",
      "https://www.beeradvocate.com/beer/profile/360/935/?view=beer&sort=&start=575\n",
      "['3.36', '3.69', '2.9', '3.83', '3.5', '2.8', '3.13', '4', '3.98', '3.77', '3.65', '4.13', '3.25', '3.94', '3.8', '4.1', '3.7', '3.04', '3.48', '3.97', '3.9', '3.67', '3', '3.95', '3.8']\n",
      "https://www.beeradvocate.com/beer/profile/360/935/?view=beer&sort=&start=600\n",
      "['3.33', '3.14', '3.06', '3.3', '3.35', '3.38', '3.75', '3.52', '3.03', '3.82', '2.86', '3.35', '3.62', '3.68', '3.07', '3.29', '3.43', '3.62', '3.5', '3.15', '3.81', '3.15', '3.03', '3.15', '3.32']\n",
      "https://www.beeradvocate.com/beer/profile/360/935/?view=beer&sort=&start=625\n",
      "['3.05', '2.55', '3.37', '3.15', '1.86', '3.85', '3.13', '3.18', '3.25', '3.3', '3.27', '3.64', '3.15', '2.77', '1.48', '3.4', '3.3', '2.98', '2.8', '3.3', '3.09', '3.03', '3.68', '3.36', '3.95']\n",
      "https://www.beeradvocate.com/beer/profile/360/935/?view=beer&sort=&start=650\n",
      "['3.3', '2.23', '3', '3.1', '3.76', '3.35', '3.88', '2.91', '3.7', '3.86', '3.31', '3', '3.88', '3.77', '3.33', '3.11', '3.32', '3.31', '3.73', '3.05', '2.87', '1.87', '3.47', '2.53', '3.5']\n",
      "https://www.beeradvocate.com/beer/profile/360/935/?view=beer&sort=&start=675\n",
      "['3.73', '4.1', '3.47', '3.18', '3.73', '3.98', '3.18', '3', '4.2', '3.83', '3.48', '2.6', '3.4', '3.5', '3.56', '3.67', '2.94', '3.85', '3.01', '3.78', '3.82', '2.93', '3.3', '3.09', '2.6']\n",
      "https://www.beeradvocate.com/beer/profile/360/935/?view=beer&sort=&start=700\n",
      "['3.15', '3.88', '3.41', '3.86', '4.7', '3.5', '3.55', '3.65', '3.75', '4.01', '3.88', '3.38', '3.55', '3.74', '3.9', '4.33', '3.51', '3.85', '4.23', '4.05', '3.67', '3.88', '3.33', '3.77', '3.49']\n",
      "https://www.beeradvocate.com/beer/profile/360/935/?view=beer&sort=&start=725\n",
      "['3.42', '3.77', '3.88', '3.67', '3.64', '3.65', '3.45', '4.03', '3.92', '3.57', '3.7', '3.35', '3.5', '3.35', '3.83', '4.1', '3.13', '3.9', '3.63', '3.52', '2.68', '3.53', '3.7', '3.38', '3.75']\n"
     ]
    },
    {
     "name": "stdout",
     "output_type": "stream",
     "text": [
      "https://www.beeradvocate.com/beer/profile/360/935/?view=beer&sort=&start=750\n",
      "['3.78', '3.27', '3.56', '3.62', '3.43', '3.58', '3.48', '3.73', '3.25', '4.1', '3.25', '4', '3.07', '3.45', '3', '3.34', '3.13', '4.2', '3.95', '2.85', '2.6', '3.18', '3.53', '4.4', '1.84']\n",
      "https://www.beeradvocate.com/beer/profile/360/935/?view=beer&sort=&start=775\n",
      "['3.4', '3.9', '3.45', '3.85', '3.3', '3.57', '3.25', '3.47', '3.15', '3', '3.5', '3.65', '3.81', '4', '4.03', '3.56', '3.54', '4.07', '2.86', '3.15', '3.21', '3.99', '2.78', '3.65', '3.88']\n",
      "https://www.beeradvocate.com/beer/profile/360/935/?view=beer&sort=&start=800\n",
      "['3.09', '3.33', '3.65', '3.3', '3.6', '2.77', '3', '3.89', '3.07', '3.42', '3.65', '1.97', '3.11', '4', '3.33', '3.4', '2.97', '2.55', '3.58', '3.6', '3.92', '3.96', '3.4', '2.98', '3.58']\n",
      "https://www.beeradvocate.com/beer/profile/360/935/?view=beer&sort=&start=825\n",
      "['2.48', '3.87', '4.08', '3.38', '3.68', '3.1', '3.21', '3.21', '2.72', '3.55', '3.14', '3.8', '3.35', '2', '3.56', '3.88', '3.35', '3.44', '3.42', '3.18', '2.95', '2.43', '3.28', '3.63', '3.68']\n",
      "https://www.beeradvocate.com/beer/profile/360/935/?view=beer&sort=&start=850\n",
      "['3.13', '2.83', '3.93', '3.12', '2.7', '2.59', '3.28', '3.65', '3.95', '3.55', '3.41', '4.03', '3.38', '2.88', '3.1', '3.72', '3.7', '4', '3.1', '3.25', '3.4', '3.54', '2.78', '3', '3.18']\n",
      "https://www.beeradvocate.com/beer/profile/360/935/?view=beer&sort=&start=875\n",
      "['3.05', '3.5', '3.46', '3.81', '3.23', '2.86', '2.62', '3.15', '3.92', '2.87', '3.62', '3.1', '2.45', '3.41', '3.3', '3.23', '3.3', '2.83', '2.88', '4', '3.13', '4.45', '2.72', '2.26', '3.45']\n",
      "https://www.beeradvocate.com/beer/profile/360/935/?view=beer&sort=&start=900\n",
      "['3.5', '3.15', '4', '3.95', '2.58', '3.65', '4.38', '3.18', '3.62', '2.7', '3.06', '3.5', '3.69', '4.07', '3.27', '3', '3', '3.96', '3.1', '3.6', '3.62', '4.03', '1.71', '3.31', '4.42']\n"
     ]
    },
    {
     "name": "stderr",
     "output_type": "stream",
     "text": [
      "\r",
      "8it [14:02, 115.31s/it]"
     ]
    },
    {
     "name": "stdout",
     "output_type": "stream",
     "text": [
      "https://www.beeradvocate.com/beer/profile/360/935/?view=beer&sort=&start=925\n",
      "['3.68', '3.1', '3.38', '3.1', '3.07', '3.85', '4.1', '3.87', '3.7', '4.15', '4', '2.68', '3.83', '2.95', '3', '4.18', '3.6', '3.2', '3']\n"
     ]
    },
    {
     "name": "stderr",
     "output_type": "stream",
     "text": [
      "\r",
      "9it [14:08, 82.37s/it] "
     ]
    },
    {
     "name": "stdout",
     "output_type": "stream",
     "text": [
      "https://www.beeradvocate.com/beer/profile/360/366599/?view=beer&sort=&start=0\n",
      "['3.09']\n",
      "https://www.beeradvocate.com/beer/profile/48/155/?view=beer&sort=&start=0\n",
      "['4.35', '4.2', '5', '4.41', '4.02', '4.37', '4.48', '4.63', '4.54', '4.32', '4.34', '4.5', '4.5', '4.4', '4.25', '4.12', '3.76', '5', '4.06', '3.94', '4.25', '4.17', '4.3', '5', '4.25']\n",
      "https://www.beeradvocate.com/beer/profile/48/155/?view=beer&sort=&start=25\n",
      "['4.25', '4.28', '4.33', '4.46', '4.38', '4.17', '4.42', '4.13', '4.32', '4.35', '2.51', '4.5', '4.27', '4.66', '4.65', '4.25', '4.33', '3.45', '4.68', '4.23', '4.49', '4.68', '4.69', '4.25', '3.84']\n",
      "https://www.beeradvocate.com/beer/profile/48/155/?view=beer&sort=&start=50\n",
      "['3.95', '2.69', '4.28', '3.8', '4.54', '4.19', '4.2', '4.88', '4.21', '4.27', '4.99', '4.75', '4.06', '4.78', '4.28', '4.28', '4.16', '4.21', '4.41', '4.34', '4.93', '4.14', '4.22', '4.09', '4.15']\n",
      "https://www.beeradvocate.com/beer/profile/48/155/?view=beer&sort=&start=75\n",
      "['4.32', '3.78', '4.5', '4.39', '4.16', '3.31', '4.34', '4.79', '4.5', '4.31', '4.54', '4.55', '4.94', '4.71', '4.35', '3.45', '4.84', '4.65', '4.4', '4.29', '4.29', '4.43', '4.04', '4.21', '4.23']\n",
      "https://www.beeradvocate.com/beer/profile/48/155/?view=beer&sort=&start=100\n",
      "['4.71', '4.73', '4.89', '4.39', '4.63', '4.29', '3.22', '4.1', '4.21', '4.75', '4.09', '4.25', '4.48', '4.34', '3.9', '4.23', '4.15', '4.21', '4.52', '4.63', '4.71', '4.27', '4.35', '4.79', '4.07']\n",
      "https://www.beeradvocate.com/beer/profile/48/155/?view=beer&sort=&start=125\n",
      "['4.34', '4.67', '3.33', '4.6', '4.24', '4.3', '4.34', '4.58', '4.31', '3.42', '5', '4.35', '4.68', '4.81', '4.19', '4.53', '4.3', '4.31', '3.96', '4.3', '4.18', '4.36', '4.51', '4.53', '4.44']\n",
      "https://www.beeradvocate.com/beer/profile/48/155/?view=beer&sort=&start=150\n",
      "['4.07', '4.42', '4.1', '4.11', '3.74', '2.51', '4', '4.49', '4.22', '4.02', '3.94', '4.6', '4.08', '4.3', '3.99', '4.23', '3.07', '3.99', '3.61', '4.25', '4.5', '4.58', '4.37', '4.59', '4.28']\n",
      "https://www.beeradvocate.com/beer/profile/48/155/?view=beer&sort=&start=175\n",
      "['4.2', '4.77', '4.6', '4.84', '4.39', '4.15', '4.47', '4.63', '5', '4.47', '4.84', '5', '4.12', '3.39', '4.43', '3.75', '4.51', '4.94', '3.96', '4.98', '3.75', '4.25', '5', '4.25', '4.5']\n",
      "https://www.beeradvocate.com/beer/profile/48/155/?view=beer&sort=&start=200\n",
      "['4.37', '4.27', '4.4', '4', '4.75', '3.97', '4.28', '4.96', '3.85', '4.09', '3.25', '4.1', '4.08', '4.04', '4.34', '3.68', '4.53', '4.3', '4.52', '4.13', '4.25', '4.2', '4.31', '4.59', '2.76']\n",
      "https://www.beeradvocate.com/beer/profile/48/155/?view=beer&sort=&start=225\n",
      "['4.16', '4.27', '4', '3.8', '4.49', '4.79', '4.5', '4.18', '4.19', '4.29', '4.5', '4.25', '3.96', '4.26', '4.21', '3.86', '4.47', '3.97', '4.28', '4.37', '4.53', '4.52', '4.51', '4.33', '4.2']\n",
      "https://www.beeradvocate.com/beer/profile/48/155/?view=beer&sort=&start=250\n",
      "['4.64', '4', '4.14', '4.27', '4.35', '3.98', '4.6', '4.46', '4.53', '3.89', '4.19', '4.43', '4.01', '4.62', '4.5', '3.75', '3.77', '4.32', '3.6', '4.75', '4.04', '3.92', '4.21', '4.23', '4.6']\n",
      "https://www.beeradvocate.com/beer/profile/48/155/?view=beer&sort=&start=275\n",
      "['4', '4.51', '4.35', '3.77', '4.53', '4.16', '4.75', '3.85', '4.22', '4.64', '4.26', '4.08', '4.66', '3.2', '4.21', '4.49', '4.32', '4.49', '4.63', '4.39', '4', '4.33', '4.7', '4.06', '4.73']\n",
      "https://www.beeradvocate.com/beer/profile/48/155/?view=beer&sort=&start=300\n",
      "['4.29', '4.19', '4.35', '4.72', '4.27', '4.02', '3.97', '4.5', '3.9', '4.05', '4.22', '4.33', '4.86', '3.72', '4.56', '4.37', '4.19', '3.72', '4.23', '4.9', '2.91', '3.68', '4.33', '4.4', '4.45']\n",
      "https://www.beeradvocate.com/beer/profile/48/155/?view=beer&sort=&start=325\n",
      "['4.45', '3.7', '4.48', '4.08', '4.47', '4.47', '4.8', '4.5', '4.4', '3.48', '4.06', '4.59', '4.11', '3.98', '4.87', '5', '4.47', '4.63', '4.48', '3.9', '4.85', '4.15', '4.5', '3.94', '4.13']\n",
      "https://www.beeradvocate.com/beer/profile/48/155/?view=beer&sort=&start=350\n",
      "['4.23', '4.42', '4.23', '4.03', '4.48', '4.25', '3.4', '4.39', '4.42', '3.41', '4.42', '4.75', '4.08', '4.21', '4', '4.17', '4', '3.6', '3.85', '3.92', '4.18', '4.42', '4', '4.82', '4.23']\n",
      "https://www.beeradvocate.com/beer/profile/48/155/?view=beer&sort=&start=375\n",
      "['3.47', '4.42', '4.62', '4.65', '4.15', '4.03', '4.12', '4.13', '4.15', '4.42', '4.8', '4.21', '4.5', '4.18', '3.33', '4.04', '5', '3.97', '4.08', '4.12', '3.85', '4.37', '4.2', '3.47', '4.52']\n",
      "https://www.beeradvocate.com/beer/profile/48/155/?view=beer&sort=&start=400\n",
      "['4.17', '4.73', '4', '4.7', '4.28', '4.2', '4.11', '4.2', '5', '3.89', '4.2', '3.44', '4.08', '4.38', '4.35', '4.41', '3.91', '4.67', '3.78', '4.25', '4.18', '3.53', '4.35', '4.25', '3.86']\n",
      "https://www.beeradvocate.com/beer/profile/48/155/?view=beer&sort=&start=425\n",
      "['4.45', '4.92', '4.74', '4.03', '3.53', '4.11', '5', '4.58', '3.63', '4.12', '3.97', '4.1', '4.43', '4.71', '4.39', '3.37', '3.97', '3.93', '4.75', '4.06', '4', '4.27', '4.34', '3.95', '4.03']\n",
      "https://www.beeradvocate.com/beer/profile/48/155/?view=beer&sort=&start=450\n",
      "['4.42', '4.73', '4.55', '4.74', '4.28', '4.16', '4.45', '4.03', '4.1', '4.3', '4.17', '3.68', '4.06', '3.46', '4.15', '4.15', '4.48', '3.93', '4.06', '4.18', '4', '4', '4.09', '4.7', '4.85']\n",
      "https://www.beeradvocate.com/beer/profile/48/155/?view=beer&sort=&start=475\n",
      "['4.12', '4', '4.89', '4.3', '4.15', '5', '4.41', '4.04', '4.5', '3.48', '4.2', '3.58', '3.93', '3.97', '4.66', '4.23', '4.65', '4.42', '3.97', '3.88', '4.03', '4.42', '4.32', '3.73', '3.02']\n",
      "https://www.beeradvocate.com/beer/profile/48/155/?view=beer&sort=&start=500\n",
      "['3.83', '4.08', '4.12', '2.03', '4.13', '3.56', '3.87', '4', '4.29', '4.33', '4.43', '3.9', '4.25', '3.4', '3.84', '4.1', '4.32', '4.75', '4.3', '4.22', '4.3', '3.88', '4.68', '4.15', '4.2']\n",
      "https://www.beeradvocate.com/beer/profile/48/155/?view=beer&sort=&start=525\n",
      "['4.22', '3.97', '4.2', '4.35', '3.78', '4.52', '3.88', '4.25', '4.7', '4.5', '4.1', '4.45', '3.9', '4.2', '4.05', '3.7', '3.88', '4', '4.17', '4.38', '4.57', '3.83', '4.01', '4.1', '4.5']\n",
      "https://www.beeradvocate.com/beer/profile/48/155/?view=beer&sort=&start=550\n",
      "['4.53', '3.41', '4.6', '3.43', '3.85', '4.62', '4.08', '3.65', '4.87', '4.05', '3.78', '3.97', '4.49', '4.12', '3.53', '3.97', '3.94', '4.32', '5', '4.85', '4.2', '4.3', '3.78', '4', '2.82']\n",
      "https://www.beeradvocate.com/beer/profile/48/155/?view=beer&sort=&start=575\n",
      "['4.03', '4.7', '4.24', '4.07', '4.45', '4.13', '4.17', '4.48', '3.85', '4.35', '4.25', '4.2', '4.54', '4.6', '1.99', '3.91', '4.76', '4.55', '4', '4.05', '4.05', '4.8', '4.73', '3.72', '4.05']\n",
      "https://www.beeradvocate.com/beer/profile/48/155/?view=beer&sort=&start=600\n",
      "['3.92', '4.03', '4.03', '3.93', '4.23', '3.42', '4', '4.85', '4', '3.68', '3.4', '4.12', '3.95', '4.21', '4.63', '4.02', '4.32', '4.48', '4.2', '4.12', '3.9', '4.1', '4.05', '4.23', '4.15']\n",
      "https://www.beeradvocate.com/beer/profile/48/155/?view=beer&sort=&start=625\n",
      "['4.35', '4.44', '4.36', '4.2', '4.33', '4.28', '3.9', '4.12', '4.74', '3.93', '4.08', '4.83', '3.7', '4.35', '4.73', '4.5', '4.73', '4.35', '4', '4.32', '4.2', '4.33', '4.05', '4.35', '4.35']\n",
      "https://www.beeradvocate.com/beer/profile/48/155/?view=beer&sort=&start=650\n",
      "['4.5', '4.88', '3.95', '4.71', '4.15', '3.74', '3.36', '4.05', '4.11', '4.02', '3.85', '4.37', '4.14', '3.85', '4.15', '3.75', '4.78', '4.08', '3.58', '4.54', '4.2', '3.9', '4.6', '4.35', '4.15']\n",
      "https://www.beeradvocate.com/beer/profile/48/155/?view=beer&sort=&start=675\n",
      "['4.28', '4.1', '4.16', '4.23', '4.33', '4.87', '4.12', '3.38', '4.27', '4.57', '4.25', '4.38', '4.8', '4.47', '4.28', '4.04', '3.65', '4.87', '3.43', '3.63', '4.2', '3.5', '4.78', '3.93', '3.88']\n",
      "https://www.beeradvocate.com/beer/profile/48/155/?view=beer&sort=&start=700\n",
      "['4.4', '4', '4.9', '4.33', '4.04', '4.13', '4.12', '3.69', '3.04', '4.22', '4.2', '3.92', '4.42', '4.42', '4.1', '4.41', '4.06', '3.82', '4.27', '3.9', '3.47', '4.77', '4.55', '3.9', '4.1']\n",
      "https://www.beeradvocate.com/beer/profile/48/155/?view=beer&sort=&start=725\n",
      "['4.37', '4', '3.98', '3.41', '4.37', '4.28', '3.78', '4.85', '2.08', '4.1', '4.29', '4.33', '4.2', '4.13', '4.08', '3.78', '4.08', '4.37', '4.05', '4.33', '4.12', '4.4', '3.11', '4.38', '4.65']\n",
      "https://www.beeradvocate.com/beer/profile/48/155/?view=beer&sort=&start=750\n",
      "['3.97', '4.12', '3.7', '4.3', '4.42', '4.1', '4.3', '4.32', '4.15', '3.99', '3.8', '4.11', '4.23', '4.57', '4.7', '4.4', '3.9', '4.42', '4.45', '3.8', '3.85', '3.36', '4.23', '4.7', '4.27']\n"
     ]
    },
    {
     "name": "stdout",
     "output_type": "stream",
     "text": [
      "https://www.beeradvocate.com/beer/profile/48/155/?view=beer&sort=&start=775\n",
      "['4', '4.13', '4.2', '4.37', '3.98', '4.55', '3.53', '3.69', '3.92', '4.39', '3.61', '3.8', '4', '4.42', '4.23', '4.38', '4.23', '4.35', '3.85', '4.2', '3.63', '4.47', '4.4', '4.38', '3.78']\n",
      "https://www.beeradvocate.com/beer/profile/48/155/?view=beer&sort=&start=800\n",
      "['4.2', '3.28', '4.37', '3.87', '4.3', '4.1', '4.1', '4', '4.47', '3.93', '3.03', '4.15', '3.45', '4.77', '4.25', '3.78', '3.57', '4.42', '3.73', '4.13', '3.66', '4.1', '4.2', '4.2', '4.12']\n",
      "https://www.beeradvocate.com/beer/profile/48/155/?view=beer&sort=&start=825\n",
      "['4.2', '3.8', '4.1', '4.77', '4.55', '4.33', '4.2', '4.03', '4.49', '4.15', '4.58', '4.25', '3.9', '4.37', '4.05', '4.39', '4.5', '4.18', '3.63', '4.72', '4.33', '3.74', '4.6', '4.32', '4.85']\n",
      "https://www.beeradvocate.com/beer/profile/48/155/?view=beer&sort=&start=850\n",
      "['3.45', '4', '4.23', '4.52', '3.96', '4.47', '4.08', '4.49', '3.18', '3.67', '4.62', '4.25', '4.28', '3.88', '4.68', '3.85', '3.77', '4.12', '4.1', '4.2', '4.35', '4.07', '4.74', '4.13', '4.23']\n",
      "https://www.beeradvocate.com/beer/profile/48/155/?view=beer&sort=&start=875\n",
      "['4.24', '3.85', '4.62', '4.63', '3.91', '4.68', '3.58', '2.58', '4.76', '4.3', '3.76', '4.35', '3.5', '4.25', '2.35', '3.21', '4.37', '4.46', '4.35', '4.97', '4.1', '3.55', '4.47', '4.3', '4.02']\n",
      "https://www.beeradvocate.com/beer/profile/48/155/?view=beer&sort=&start=900\n",
      "['3.58', '4.35', '4.23', '4.85', '4.58', '3.67', '4.2', '4.18', '4.57', '4.08', '3.86', '4.7', '4.75', '4.47', '3.61', '4.16', '4.42', '4.53', '4.45', '3.82', '4.05', '3.8', '4.48', '4.35', '3.93']\n",
      "https://www.beeradvocate.com/beer/profile/48/155/?view=beer&sort=&start=925\n",
      "['4.35', '3.99', '4.6', '5', '4.15', '4', '4.09', '4.55', '3.51', '4', '3.51', '3.06', '4.32', '3.95', '3.85', '4.88', '3.7', '4.46', '4.2', '3.83', '4.78', '4.5', '4.28', '4.38', '4.3']\n",
      "https://www.beeradvocate.com/beer/profile/48/155/?view=beer&sort=&start=950\n",
      "['4.32', '4.17', '4.5', '4.5', '4.58', '4.77', '4.64', '4.23', '4.97', '4.19', '4.25', '4.7', '4.6', '4.03', '4.47', '3.45', '4.92', '3.71', '4.2', '4.5', '4.08', '4.22', '4.68', '4.47', '4.6']\n",
      "https://www.beeradvocate.com/beer/profile/48/155/?view=beer&sort=&start=975\n",
      "['4.4', '4.4', '4.3', '4.05', '4.23', '3.88', '4.75', '4.32', '3.87', '4.21', '4.63', '4.44', '4.57', '4.05', '4.76', '4.33', '4.38', '4.12', '3.98', '4.3', '3.67', '4.95', '2.73', '4.5', '4.23']\n",
      "https://www.beeradvocate.com/beer/profile/48/155/?view=beer&sort=&start=1000\n",
      "['4.55', '4.38', '3.5', '3.48', '4.05', '4.04', '3.97', '4.48', '4.25', '4.18', '3.43', '2.8', '4.55', '4.23', '4.01', '4.55', '4.05', '3.89', '4.4', '4.27', '4.28', '3.78', '4.8', '4.12', '4.5']\n",
      "https://www.beeradvocate.com/beer/profile/48/155/?view=beer&sort=&start=1025\n",
      "['3.87', '4.4', '4.32', '3.58', '4.62', '3.83', '4.73', '3.56', '4.13', '4.69', '4.9', '4.5', '4.35', '4.3', '4.83', '4.37', '4.3', '4.21', '4.65', '4.38', '4.5', '3.91', '4.38', '4.15', '4.23']\n",
      "https://www.beeradvocate.com/beer/profile/48/155/?view=beer&sort=&start=1050\n",
      "['4.25', '4', '4.16', '4.73', '4.06', '3.43', '4.36', '3.82', '4.18', '3.48', '2.89', '3.72', '4.08', '4.6', '4.33', '4.08', '3.58', '4.47', '3.34', '3.52', '4.3', '4.57', '4.28', '3.12', '4.3']\n",
      "https://www.beeradvocate.com/beer/profile/48/155/?view=beer&sort=&start=1075\n",
      "['4.32', '3.78', '4.1', '3', '4.41', '4.57', '4.26', '4.2', '4.08', '4.32', '4.85', '3.7', '3.8', '4.38', '4.38', '4.4', '4.58', '3.58', '3.83', '4.59', '5', '4.41', '4.37', '4.7', '3.88']\n",
      "https://www.beeradvocate.com/beer/profile/48/155/?view=beer&sort=&start=1100\n",
      "['3.98', '4.65', '4.63', '4.9', '4', '4.35', '4.72', '4.62', '4.43', '4.42', '4.42', '4.35', '3.89', '4.47', '3.83', '3.85', '3.62', '4.58', '3.16', '4.38', '3.33', '4.28', '3.77', '4.12', '4.3']\n",
      "https://www.beeradvocate.com/beer/profile/48/155/?view=beer&sort=&start=1125\n",
      "['4.45', '4.57', '3.7', '4.5', '4.23', '3.78', '4.4', '4.32', '3.46', '4.36', '4.1', '4.2', '4.4', '4.35', '4.3', '4', '4.5', '4', '4.22', '4.23', '3.78', '3.78', '4.41', '3.85', '4.23']\n",
      "https://www.beeradvocate.com/beer/profile/48/155/?view=beer&sort=&start=1150\n",
      "['4.35', '4.06', '4.25', '4.2', '4.03', '4.5', '3.55', '3.58', '3.62', '4.34', '4.32', '4.2', '4.4', '4.75', '4.88', '4.75', '4.75', '4.78', '4.75', '4.01', '3.16', '4.23', '4.38', '4.2', '3.41']\n",
      "https://www.beeradvocate.com/beer/profile/48/155/?view=beer&sort=&start=1175\n",
      "['4.55', '2.58', '3.93', '4.2', '3.41', '4', '4.82', '3.9', '3.88', '4.02', '4.07', '4.03', '4.13', '3.71', '4.23', '4.32', '3.43', '3.92', '3.93', '4.3', '4.07', '4.32', '4', '4.75', '4.68']\n",
      "https://www.beeradvocate.com/beer/profile/48/155/?view=beer&sort=&start=1200\n",
      "['3.89', '4.25', '4.25', '4.52', '4', '4.03', '4.47', '4.14', '4.43', '4.42', '3.7', '4.32', '4.33', '4', '4.85', '3.91', '3.98', '3.45', '4.47', '4.67', '4.05', '4.65', '4.55', '4.02', '3.72']\n",
      "https://www.beeradvocate.com/beer/profile/48/155/?view=beer&sort=&start=1225\n",
      "['4.12', '4.37', '4.25', '3.84', '4.34', '4', '4.11', '4.62', '4.5', '4.45', '4.22', '4.53', '4.64', '4.48', '4.47', '4.35', '4.38', '4.18', '4.42', '4.05', '4.85', '4.65', '4.45', '4.92', '4.44']\n",
      "https://www.beeradvocate.com/beer/profile/48/155/?view=beer&sort=&start=1250\n",
      "['4.72', '4.04', '4.27', '4.6', '3.56', '4.35', '4.58', '4.83', '4.78', '4.8', '3.8', '4.35', '3.92', '3.38', '3.58', '3.38', '4.07', '4.5', '4.46', '3.7', '3.18', '3.95', '4.32', '4.67', '4.08']\n",
      "https://www.beeradvocate.com/beer/profile/48/155/?view=beer&sort=&start=1275\n",
      "['3.38', '3.98', '4.7', '4.04', '4.5', '4', '4.38', '4.1', '4.12', '4.2', '4.13', '4.3', '4.03', '4.12', '4.77', '3.67', '4.65', '3.57', '4.28', '3.43', '4.32', '4.8', '4', '3.6', '3.36']\n",
      "https://www.beeradvocate.com/beer/profile/48/155/?view=beer&sort=&start=1300\n",
      "['3.87', '3.63', '3.93', '4.23', '4.12', '3.55', '3.8', '3.85', '3.56', '4.32', '4.43', '3.57', '4.23', '4', '3.88', '4.04', '4.21', '3.92', '3.7', '3.46', '4.18', '4.72', '4.13', '3.54', '3.78']\n",
      "https://www.beeradvocate.com/beer/profile/48/155/?view=beer&sort=&start=1325\n",
      "['4.16', '4.32', '4.65', '4.3', '4.17', '4.27', '4.85', '4.28', '3.28', '3.5', '3.8', '4.28', '4.5', '4.52', '4', '4.38', '2.59', '4.11', '4.28', '4.47', '4.23', '3.73', '4', '4.5', '4.25']\n",
      "https://www.beeradvocate.com/beer/profile/48/155/?view=beer&sort=&start=1350\n",
      "['4.45', '4.43', '4.54', '4.23', '4', '3.23', '4.92', '4.23', '4.35', '2.98', '4.5', '4.32', '4.78', '4.35', '4.83', '4.46', '3.94', '5', '3.85', '4.11', '3.14', '4.23', '4.23', '4.52', '4.85']\n",
      "https://www.beeradvocate.com/beer/profile/48/155/?view=beer&sort=&start=1375\n",
      "['4.58', '4.23', '4.08', '3.9', '4.52', '3.65', '4.05', '4.12', '4.43', '4.3', '4.62', '4.47', '4.23', '3.92', '4.13', '4.65', '3.7', '4.46', '4.64', '4.65', '4.13', '4.58', '3.88', '4.15', '4.78']\n"
     ]
    },
    {
     "name": "stderr",
     "output_type": "stream",
     "text": [
      "\r",
      "10it [20:13, 167.35s/it]"
     ]
    },
    {
     "name": "stdout",
     "output_type": "stream",
     "text": [
      "https://www.beeradvocate.com/beer/profile/48/155/?view=beer&sort=&start=1400\n",
      "['4.78', '4.5', '4.31', '4.38', '4.12', '4.43', '3', '4.03', '4.63', '4.68', '4.76']\n"
     ]
    },
    {
     "name": "stderr",
     "output_type": "stream",
     "text": [
      "\r",
      "11it [20:19, 118.85s/it]"
     ]
    },
    {
     "name": "stdout",
     "output_type": "stream",
     "text": [
      "https://www.beeradvocate.com/beer/profile/1809/56934/?view=beer&sort=&start=0\n",
      "['3.15', '3.21', '3.42']\n",
      "https://www.beeradvocate.com/beer/profile/1941/5280/?view=beer&sort=&start=0\n",
      "['3.9', '4.03', '3.49', '3.53', '2.5', '3.81', '2.99', '2.8', '3.88', '3.56', '4.28', '2.85', '3.69', '4.06', '3.33', '1.88', '3.29', '3.32', '3.64', '1.65', '3.5', '3.37', '3.78', '2.79', '3.99']\n",
      "https://www.beeradvocate.com/beer/profile/1941/5280/?view=beer&sort=&start=25\n",
      "['1.89', '3.16', '2.98', '3.6', '4.08', '3.11', '3.79', '2.19', '2.88', '3.75', '3.5', '3.57', '2.06', '1.83', '2.37', '3.25', '2.15', '3.5', '3.81', '3.1', '3.15', '2.88', '2.8', '2.97', '3.84']\n",
      "https://www.beeradvocate.com/beer/profile/1941/5280/?view=beer&sort=&start=50\n",
      "['2.91', '3.15', '3.14', '3', '2.79', '3.18', '3.36', '3.05', '2.51', '4.21', '2.96', '2.63', '3.11', '3.04', '2.58', '3.35', '3.68', '4.33', '2.85', '2.35', '3.88', '2.38', '2.82', '3.03', '3.18']\n",
      "https://www.beeradvocate.com/beer/profile/1941/5280/?view=beer&sort=&start=75\n",
      "['3.25', '3.02', '3', '2.9', '2.86', '1.86', '2.58', '3.58', '2.8', '2.85', '3.43', '3.56', '3.11', '3', '3', '3.95', '2.92', '3.22', '3.48', '3.03', '2.65', '2.67', '3.28', '3', '3.2']\n",
      "https://www.beeradvocate.com/beer/profile/1941/5280/?view=beer&sort=&start=100\n",
      "['2.58', '2.16', '3.31', '2.86', '3.52', '3.44', '3.13', '3.41', '3.1', '3.4', '3', '3.15', '3', '4.23', '2.82', '2.95', '2.88', '4.16', '2.98', '3.06', '2', '3.2', '3.24', '2.83', '3.3']\n",
      "https://www.beeradvocate.com/beer/profile/1941/5280/?view=beer&sort=&start=125\n",
      "['3.41', '2.24', '3.74', '2.88', '2.7', '3.1', '2.06', '3.27', '2.13', '2.25', '3.4', '3.12', '3.48', '3.03', '2.68', '2.54', '2.77', '3.67', '3.13', '2.4', '2.95', '3.66', '3.43', '2.78', '2.53']\n",
      "https://www.beeradvocate.com/beer/profile/1941/5280/?view=beer&sort=&start=150\n",
      "['2.98', '2.55', '4.07', '2.8', '3.5', '3.08', '2.52', '2.31', '1.23', '2.4', '3.17', '3.68', '3', '2.13', '1.64', '3.48', '2.93', '3.23', '3.53', '3.34', '3.82', '3.44', '3.14', '3.7', '3.45']\n",
      "https://www.beeradvocate.com/beer/profile/1941/5280/?view=beer&sort=&start=175\n",
      "['3.33', '3.65', '3.45', '2.61', '3.01', '3.36', '3.24', '2.82', '2.78', '3.23', '2.03', '3.23', '3.57', '3.42', '2.5', '2.9', '2.66', '3.13', '3.3', '3.38', '3.35', '1.93', '3.36', '3', '3.5']\n",
      "https://www.beeradvocate.com/beer/profile/1941/5280/?view=beer&sort=&start=200\n",
      "['3.2', '3.05', '2.32', '3.18', '3.38', '3.83', '3.5', '2.88', '3.98', '3.55', '3.2', '3.43', '4.07', '3.05', '2.98', '2.53', '3', '3.47', '3.18', '1.93', '2.79', '2.23', '2.95', '2.75', '3.63']\n"
     ]
    },
    {
     "name": "stderr",
     "output_type": "stream",
     "text": [
      "\r",
      "12it [21:19, 101.19s/it]"
     ]
    },
    {
     "name": "stdout",
     "output_type": "stream",
     "text": [
      "https://www.beeradvocate.com/beer/profile/1941/5280/?view=beer&sort=&start=225\n",
      "['3.21', '3', '2.77', '2.8', '3.3', '2.58', '2.7', '4.15', '3.06', '2.32', '1.58', '3.13', '2.8', '3.8', '3.03', '3.45', '2.53', '2.52', '3']\n",
      "https://www.beeradvocate.com/beer/profile/1435/13176/?view=beer&sort=&start=0\n",
      "['3.05', '3.75', '3.22', '3.15', '3.32', '2.91', '2.59', '2.65', '2.53', '2.91', '2.97', '2.86', '2.23', '1.21', '2.59', '5', '2.79', '2.53', '3.25', '2.03', '2.2', '2.58', '2.93', '2.68', '2.95']\n",
      "https://www.beeradvocate.com/beer/profile/1435/13176/?view=beer&sort=&start=25\n",
      "['2.53', '2.84', '2.85', '2.57', '2.6', '2.91', '1.85', '2.68', '2.46', '3.12', '2.82', '1.32', '2.56', '1.86', '3.15', '2.88', '2.79', '2.06', '2.25', '3.08', '2.6', '1.5', '2.57', '2.9', '2.06']\n",
      "https://www.beeradvocate.com/beer/profile/1435/13176/?view=beer&sort=&start=50\n",
      "['2.51', '1.88', '1.91', '2.48', '2.73', '3.47', '2.81', '2.53', '2.9', '2.8', '2.26', '3.02', '1.78', '2.76', '2.5', '3', '2.88', '1.84', '2.73', '3.21', '3.48', '2.69', '2.56', '2.55', '1.34']\n",
      "https://www.beeradvocate.com/beer/profile/1435/13176/?view=beer&sort=&start=75\n",
      "['4.37', '3', '2.88', '2.53', '2.85', '2.68', '1.9', '2.33', '3.07', '3', '1.9', '2.16', '3.6', '2.55', '2.63', '2.5', '2.5', '2.58', '2.88', '2.73', '2.85', '2.07', '2.62', '1.97', '2.38']\n"
     ]
    },
    {
     "name": "stderr",
     "output_type": "stream",
     "text": [
      "\r",
      "13it [21:47, 79.32s/it] "
     ]
    },
    {
     "name": "stdout",
     "output_type": "stream",
     "text": [
      "https://www.beeradvocate.com/beer/profile/1435/13176/?view=beer&sort=&start=100\n",
      "['3.34', '2.11', '3.17', '2.95', '2.93', '2.38']\n"
     ]
    },
    {
     "name": "stderr",
     "output_type": "stream",
     "text": [
      "\r",
      "14it [21:53, 57.26s/it]"
     ]
    },
    {
     "name": "stdout",
     "output_type": "stream",
     "text": [
      "https://www.beeradvocate.com/beer/profile/9033/48799/?view=beer&sort=&start=0\n",
      "['3', '2.45', '1.71', '3.23', '2.44', '3.23', '3.07', '3.38', '3.37', '1.87', '3.12', '2.44', '3.25', '3.13', '2.62', '3.4', '2.95', '3.8', '2.88', '3.07', '2.78', '3.33', '2.68']\n",
      "https://www.beeradvocate.com/beer/profile/281/767/?view=beer&sort=&start=0\n",
      "['2.71', '3.95', '3.35', '3.05', '4.16', '3.6', '2.22', '2.85', '2.56', '3.13', '3.91', '3.4', '2.05', '2.53', '2.85', '2.38', '1.97', '2.9', '2', '3', '2.8', '3.31', '2.71', '5', '2.59']\n",
      "https://www.beeradvocate.com/beer/profile/281/767/?view=beer&sort=&start=25\n",
      "['3.88', '3.35', '3.09', '2.6', '3.68', '1.75', '2.11', '2.06', '2.7', '2.98', '3.51', '2.71', '3.23', '2.79', '3.49', '2.61', '2.89', '3', '1.47', '3.09', '2.84', '2.02', '3.04', '2.97', '2.75']\n",
      "https://www.beeradvocate.com/beer/profile/281/767/?view=beer&sort=&start=50\n",
      "['2.9', '2.5', '3.2', '2.18', '2.47', '3.13', '3.54', '2.94', '3.6', '3.65', '2.56', '2.77', '3.84', '2.33', '2.31', '3.13', '3.84', '2', '1.75', '2.5', '1.09', '2.53', '2.44', '2.71', '3.2']\n",
      "https://www.beeradvocate.com/beer/profile/281/767/?view=beer&sort=&start=75\n",
      "['2.75', '3.05', '2.7', '2.7', '2.6', '2.78', '3.1', '3.43', '4', '3.35', '2.91', '2.56', '3.71', '3.38', '4.58', '2.49', '2.99', '3.29', '3.52', '2.74', '3.37', '2.01', '4.5', '3', '4.25']\n",
      "https://www.beeradvocate.com/beer/profile/281/767/?view=beer&sort=&start=100\n",
      "['1.23', '3.5', '3.5', '2', '2.27', '2.5', '2.5', '1.22', '2.75', '1.06', '2.15', '2.66', '3.04', '2.85', '2.9', '2.12', '1.56', '2.7', '3.55', '3.35', '2.41', '3.29', '4', '3', '4.34']\n",
      "https://www.beeradvocate.com/beer/profile/281/767/?view=beer&sort=&start=125\n",
      "['2.76', '2.58', '2.69', '3.01', '2.07', '3.14', '2.91', '3.22', '3.25', '3.06', '2.23', '3.13', '2.77', '2.54', '2.22', '2.39', '2.02', '2.92', '2.36', '3.7', '3.14', '2.34', '4.22', '2.18', '1.74']\n",
      "https://www.beeradvocate.com/beer/profile/281/767/?view=beer&sort=&start=150\n",
      "['1.96', '2.67', '2.1', '2.38', '1.5', '3.38', '2.81', '2.86', '3.5', '3.11', '3', '3.76', '3.28', '3.08', '1.96', '3', '2.92', '2.73', '2.83', '2.12', '2.04', '2.37', '2.63', '1.76', '1.37']\n",
      "https://www.beeradvocate.com/beer/profile/281/767/?view=beer&sort=&start=175\n",
      "['1.7', '3.47', '2.55', '3.63', '2.26', '3.09', '2.84', '3.08', '2.8', '2.72', '3.37', '2.35', '1.33', '2.83', '2.9', '2.09', '2.73', '4', '3.17', '3.3', '2.88', '2.12', '2.66', '3.07', '1.43']\n",
      "https://www.beeradvocate.com/beer/profile/281/767/?view=beer&sort=&start=200\n",
      "['1', '2.73', '1.18', '2.11', '2.78', '3.33', '2.31', '3.17', '2.55', '3.45', '2.89', '3.08', '3.01', '2.35', '3.02', '2.64', '2.97', '2.82', '2.85', '3.06', '3', '2.06', '3.33', '3.27', '2.85']\n",
      "https://www.beeradvocate.com/beer/profile/281/767/?view=beer&sort=&start=225\n",
      "['3', '3.18', '2.65', '2.72', '3.35', '2.77', '2.77', '3.13', '2.72', '3.14', '3.86', '2.83', '2.03', '2.83', '2.85', '2.84', '3.03', '2.64', '2.8', '2.76', '3', '2.21', '3.16', '1.94', '3.75']\n",
      "https://www.beeradvocate.com/beer/profile/281/767/?view=beer&sort=&start=250\n",
      "['3.27', '3.2', '2.73', '2.41', '2.98', '3.51', '2.42', '3.2', '2.5', '2.85', '2.5', '2.88', '3.9', '4.42', '3', '2.7', '3.67', '2.53', '3.92', '2.08', '2.98', '3.21', '3.67', '2.99', '3.6']\n",
      "https://www.beeradvocate.com/beer/profile/281/767/?view=beer&sort=&start=275\n",
      "['2.6', '3.8', '3.94', '1.64', '2.5', '3.11', '2.56', '3.82', '3.05', '2.54', '2.83', '2.63', '2.7', '3.42', '3', '2.95', '2.87', '3.01', '2.31', '3.44', '3.22', '3.72', '3.98', '3.13', '3.03']\n",
      "https://www.beeradvocate.com/beer/profile/281/767/?view=beer&sort=&start=300\n",
      "['2.88', '1.65', '3.5', '2.18', '2.86', '1.75', '1.88', '2.34', '3.57', '3.59', '3.71', '2.55', '2.94', '3.38', '2.93', '2.39', '2.79', '2.67', '3.47', '2.65', '2.83', '3.38', '3.02', '2.15', '3']\n",
      "https://www.beeradvocate.com/beer/profile/281/767/?view=beer&sort=&start=325\n",
      "['3.38', '3.06', '3.25', '3.42', '2.8', '2.85', '3.08', '3.38', '2.95', '3', '2.85', '2.47', '3.47', '3.3', '2.71', '2.21', '2.71', '2.33', '2.56', '3.48', '2.39', '2.26', '2.73', '2.73', '3.34']\n",
      "https://www.beeradvocate.com/beer/profile/281/767/?view=beer&sort=&start=350\n",
      "['2.95', '3.22', '2.82', '2.4', '3.54', '2.5', '2.21', '3.39', '3.79', '2.13', '2.38', '3.85', '3.38', '2.99', '4.35', '2.68', '3.6', '2.32', '2.15', '3.1', '1.62', '2.8', '4.17', '3.66', '2.03']\n",
      "https://www.beeradvocate.com/beer/profile/281/767/?view=beer&sort=&start=375\n",
      "['3.15', '3.71', '2.83', '2.35', '3.37', '2.18', '3.43', '2.25', '1.92', '1.95', '3.47', '3.06', '3.37', '3.3', '3.64', '3.4', '3.2', '2.85', '3.55', '3.72', '2.73', '2.82', '3.91', '3.95', '3.16']\n",
      "https://www.beeradvocate.com/beer/profile/281/767/?view=beer&sort=&start=400\n",
      "['3.59', '3.04', '3.61', '3.26', '1.74', '3.12', '3.32', '2.4', '1.5', '2.6', '3.45', '2', '2.17', '2.94', '3.13', '2.65', '2.65', '2.92', '3.15', '2', '2', '2.6', '3.03', '2.46', '2.38']\n",
      "https://www.beeradvocate.com/beer/profile/281/767/?view=beer&sort=&start=425\n",
      "['1.95', '2.21', '2.8', '2.3', '3.6', '2.37', '2.88', '2.38', '2.19', '2.25', '2.76', '3.1', '3.15', '2.65', '2.48', '4.1', '3.13', '2.43', '2.26', '1.64', '2.12', '2.09', '2.66', '1.05', '2.68']\n",
      "https://www.beeradvocate.com/beer/profile/281/767/?view=beer&sort=&start=450\n",
      "['3.08', '3.28', '2.98', '3.06', '2.77', '2.08', '3.35', '2.38', '3.15', '2.94', '3.5', '3.4', '3.03', '3.03', '3.36', '3.35', '3.17', '2.54', '2.05', '2.68', '2.43', '2.93', '1.63', '2.94', '2.55']\n",
      "https://www.beeradvocate.com/beer/profile/281/767/?view=beer&sort=&start=475\n",
      "['2.8', '3.74', '3.74', '2.19', '1', '2.27', '1.27', '3.15', '2.2', '2.87', '2.1', '1.94', '2.85', '3', '3.28', '4.69', '2.85', '3.11', '2.89', '3.09', '2.89', '3.27', '2.6', '1.98', '3.2']\n",
      "https://www.beeradvocate.com/beer/profile/281/767/?view=beer&sort=&start=500\n",
      "['2.96', '2.25', '1.68', '2.41', '2.49', '2.42', '2.36', '1.75', '2.8', '2.66', '3.13', '2.25', '1.33', '1.33', '3.06', '4.07', '3.48', '1.91', '1.85', '1.8', '2.85', '1.97', '3.3', '3.18', '1.18']\n",
      "https://www.beeradvocate.com/beer/profile/281/767/?view=beer&sort=&start=525\n",
      "['3.85', '3.07', '2.97', '2.9', '2.95', '1.87', '3.79', '2.95', '1.94', '3.46', '3.35', '3.49', '2.88', '2.83', '2.86', '1.8', '3.82', '3.55', '2.76', '3.28', '2.94', '1.58', '3.22', '2.95', '1.94']\n",
      "https://www.beeradvocate.com/beer/profile/281/767/?view=beer&sort=&start=550\n",
      "['2.3', '3.13', '2.85', '2.77', '3.37', '2.41', '2.03', '2.95', '3.98', '3.45', '2.68', '2.25', '2.42', '2.66', '2.46', '3.15', '3.09', '1.97', '3.82', '2.55', '2.17', '2.96', '2.36', '2.92', '3.3']\n",
      "https://www.beeradvocate.com/beer/profile/281/767/?view=beer&sort=&start=575\n",
      "['1.96', '2.68', '2.45', '3.2', '3.35', '2.95', '2.71', '3.1', '2.82', '3', '3.38', '3.29', '2.53', '3', '2.68', '3.26', '2.25', '2.88', '1.5', '2.58', '2.83', '2.2', '2.17', '1.53', '1.86']\n",
      "https://www.beeradvocate.com/beer/profile/281/767/?view=beer&sort=&start=600\n",
      "['2.46', '1.83', '3.33', '2.97', '3.03', '3.45', '1.99', '1.68', '2.26', '2.51', '2.37', '3.24', '3.3', '3.4', '3.57', '3.4', '2.95', '3.17', '2.16', '3.33', '2.5', '2.41', '2.53', '2.38', '3.33']\n"
     ]
    },
    {
     "name": "stderr",
     "output_type": "stream",
     "text": [
      "\r",
      "15it [24:27, 86.18s/it]"
     ]
    },
    {
     "name": "stdout",
     "output_type": "stream",
     "text": [
      "https://www.beeradvocate.com/beer/profile/281/767/?view=beer&sort=&start=625\n",
      "['2.7', '3.66', '3.7', '2.13', '2.68', '2.65', '2.85', '1.38', '3.23', '2.97', '2.21', '2', '1.1', '3.38', '2.95', '3.36', '3.84', '3.7']\n",
      "https://www.beeradvocate.com/beer/profile/727/2176/?view=beer&sort=&start=0\n",
      "['3.23', '3.51', '3.44', '2.58', '3.75', '2.02', '3.03', '3.48', '2.67', '2.59', '1.19', '3.33', '3.43', '3.03', '1.87', '4.63', '3.11', '3.91', '2', '1.21', '3.38', '2.59', '3.11', '2.71', '3.03']\n",
      "https://www.beeradvocate.com/beer/profile/727/2176/?view=beer&sort=&start=25\n",
      "['3.35', '3.63', '2.94', '2.8', '3.2', '1.82', '2.82', '3.33', '3.5', '1', '3.89', '3.28', '2.71', '2.83', '2.78', '2.99', '1.93', '1.28', '1.31', '3.19', '2.76', '2.25', '2.02', '3.29', '2.78']\n",
      "https://www.beeradvocate.com/beer/profile/727/2176/?view=beer&sort=&start=50\n",
      "['3.02', '3', '3.25', '2.95', '2.47', '1.53', '3.15', '2.57', '2.55', '3.29', '2.02', '1.9', '2.23', '2.09', '2', '2.33', '3.53', '2.99', '3.16', '2.2', '3.24', '3.07', '3.28', '2.85', '1.87']\n",
      "https://www.beeradvocate.com/beer/profile/727/2176/?view=beer&sort=&start=75\n",
      "['1.29', '2.75', '2.86', '2.34', '2', '2.75', '3', '2.75', '2.35', '3.5', '3.18', '3.25', '3.5', '2.75', '3', '2.62', '2.69', '3.1', '3.17', '3', '2.91', '2.46', '1.96', '2.7', '2.05']\n",
      "https://www.beeradvocate.com/beer/profile/727/2176/?view=beer&sort=&start=100\n",
      "['2.85', '2.88', '2.03', '3.06', '1.92', '3.31', '2.86', '2.41', '2.99', '2.83', '3.05', '1.38', '2.53', '2.94', '2.84', '2.96', '2.98', '2.55', '3.16', '2.23', '2.8', '3.44', '2.62', '1.33', '1.46']\n",
      "https://www.beeradvocate.com/beer/profile/727/2176/?view=beer&sort=&start=125\n",
      "['2.96', '2.63', '2.76', '2.83', '4.75', '2.88', '2.48', '2.42', '3.32', '3.06', '2.83', '2.91', '2.39', '3.58', '2.91', '2.88', '2.47', '3.1', '3.13', '2.53', '3.3', '2.97', '2.67', '2.8', '2.9']\n",
      "https://www.beeradvocate.com/beer/profile/727/2176/?view=beer&sort=&start=150\n",
      "['3', '3', '2.28', '2.47', '3.15', '1.5', '3.68', '3.13', '3.47', '2.26', '2.88', '2.66', '2.5', '3.2', '2.88', '3.83', '1.7', '2.44', '2.91', '3.03', '1.88', '2.35', '3.18', '2.42', '3.86']\n",
      "https://www.beeradvocate.com/beer/profile/727/2176/?view=beer&sort=&start=175\n",
      "['2.72', '3.5', '3.45', '3.62', '2.63', '3.3', '3.56', '2.88', '1.87', '3.52', '1.7', '2.61', '3.04', '1.8', '2.47', '3.3', '3.08', '2.68', '2.97', '2.31', '2.74', '3.2', '3.4', '3.48', '2.75']\n",
      "https://www.beeradvocate.com/beer/profile/727/2176/?view=beer&sort=&start=200\n",
      "['2.8', '2.9', '2.63', '2.51', '2.88', '3.06', '3.25', '2.08', '2.66', '2.9', '2.71', '2.86', '2.19', '3.05', '3.98', '2.57', '2.63', '2.95', '2.53', '2.68', '3.4', '2.94', '2.68', '2.83', '2.63']\n",
      "https://www.beeradvocate.com/beer/profile/727/2176/?view=beer&sort=&start=225\n",
      "['2.1', '2.76', '3.6', '2.8', '3.68', '3.3', '3.68', '2.55', '2.85', '2.92', '2.73', '3.2', '2.56', '2.56', '3.11', '3.4', '3.72', '2.84', '1.28', '3.23', '3.11', '2.16', '3.23', '2.84', '2.85']\n",
      "https://www.beeradvocate.com/beer/profile/727/2176/?view=beer&sort=&start=250\n",
      "['3', '3.06', '3.05', '3.05', '2.7', '2.51', '2.86', '1.83', '2.57', '3.13', '3.5', '2.67', '2.43', '3.01', '3.4', '4.4', '2.65', '2.78', '3.12', '3.05', '1.97', '2.7', '2.67', '2.3', '3.07']\n",
      "https://www.beeradvocate.com/beer/profile/727/2176/?view=beer&sort=&start=275\n",
      "['3.18', '3.27', '3.03', '3.5', '2.68', '2.63', '3.83', '2.7', '2.38', '2.53', '2.48', '2.7', '1.81', '2.76', '2.88', '2.89', '2.65', '2.62', '2.87', '3.06', '3.35', '3.05', '2.75', '2.87', '3.13']\n",
      "https://www.beeradvocate.com/beer/profile/727/2176/?view=beer&sort=&start=300\n",
      "['2.35', '2.75', '3.21', '3.3', '3.57', '3.37', '3.05', '2.84', '3.68', '2.55', '3.6', '2.03', '3.53', '3', '2.62', '3.5', '3.87', '2.75', '3.57', '3.13', '2.53', '2.35', '3.5', '3.06', '2.65']\n",
      "https://www.beeradvocate.com/beer/profile/727/2176/?view=beer&sort=&start=325\n",
      "['2.17', '3.94', '1.93', '2.65', '2.63', '3.13', '2.98', '2.44', '2.48', '2.98', '2.42', '2.5', '3.27', '3.23', '3.78', '2.58', '2.58', '3', '1.71', '2.56', '2.2', '2.7', '3', '2.44', '1.83']\n",
      "https://www.beeradvocate.com/beer/profile/727/2176/?view=beer&sort=&start=350\n",
      "['1.38', '1.78', '2.55', '2.3', '2.98', '2.92', '3.45', '2.95', '2.75', '2.43', '3.68', '2.65', '3.02', '2.1', '2.32', '2.06', '2.72', '2.97', '2.63', '2.98', '2.98', '3.12', '2.6', '3.05', '2.57']\n",
      "https://www.beeradvocate.com/beer/profile/727/2176/?view=beer&sort=&start=375\n",
      "['3.06', '3.15', '2.45', '2.36', '3', '2.75', '2.79', '3.48', '2.06', '3.45', '2.83', '2.61', '1.76', '3', '2.95', '3.29', '3.29', '2.73', '2.03', '1.95', '1.57', '2.3', '2.6', '1.89', '2.08']\n",
      "https://www.beeradvocate.com/beer/profile/727/2176/?view=beer&sort=&start=400\n",
      "['2.4', '2.7', '1.87', '2.05', '1.98', '2.62', '1.85', '1.4', '2.97', '2.3', '2.5', '3.48', '3.51', '2.28', '2.01', '3.55', '2.38', '2.88', '2.77', '3.73', '3.6', '3.46', '3.35', '4.37', '2.9']\n"
     ]
    },
    {
     "name": "stderr",
     "output_type": "stream",
     "text": [
      "\r",
      "16it [26:13, 92.03s/it]"
     ]
    },
    {
     "name": "stdout",
     "output_type": "stream",
     "text": [
      "https://www.beeradvocate.com/beer/profile/727/2176/?view=beer&sort=&start=425\n",
      "['3.64', '2', '3.07', '2.79', '2.8', '2']\n",
      "https://www.beeradvocate.com/beer/profile/817/11840/?view=beer&sort=&start=0\n",
      "['3.56', '3.96', '3.75', '3.02', '3.56', '3.72', '3.8', '3.46', '3.81', '3.85', '3.2', '3.63', '3.37', '3.58', '3.66', '4.74', '3.68', '3.58', '3.61', '4.21', '3.75', '3.5', '3.72', '3.54', '3.31']\n",
      "https://www.beeradvocate.com/beer/profile/817/11840/?view=beer&sort=&start=25\n",
      "['3.57', '3.33', '3.29', '3.5', '3.22', '3.42', '3.41', '2.81', '3.03', '3.25', '3.42', '3.46', '3.4', '4.01', '3.6', '3.8', '2.98', '4.27', '3.3', '3.42', '3.7', '2.83', '3.55', '3.54', '4.37']\n",
      "https://www.beeradvocate.com/beer/profile/817/11840/?view=beer&sort=&start=50\n",
      "['3.09', '3.87', '3.58', '3.35', '3.24', '3.21', '4.44', '4.2', '3.77', '3.9', '3.85', '3.12', '3.17', '4.02', '4.77', '4.4', '4.14', '3.24', '2.99', '3.2', '3.27', '3.32', '1.68', '4.22', '1.81']\n",
      "https://www.beeradvocate.com/beer/profile/817/11840/?view=beer&sort=&start=75\n",
      "['1.79', '3.07', '1.53', '3.45', '3.24', '3.2', '2.9', '3.52', '3.41', '3.3', '3.25', '3.09', '2.5', '2.64', '2.03', '2.37', '3.6', '3.1', '3.08', '2.5', '2.23', '1.57', '3.69', '3.87', '3.1']\n"
     ]
    },
    {
     "name": "stderr",
     "output_type": "stream",
     "text": [
      "\r",
      "17it [26:42, 73.19s/it]"
     ]
    },
    {
     "name": "stdout",
     "output_type": "stream",
     "text": [
      "https://www.beeradvocate.com/beer/profile/817/11840/?view=beer&sort=&start=100\n",
      "['3.04', '3.3', '3.7', '2.67', '4.03', '2.6', '3.25', '3.24', '3.75', '3', '3.75', '3.35', '2.58', '2.18', '3.67', '3.18', '3.3', '2.73', '3.8']\n"
     ]
    },
    {
     "name": "stderr",
     "output_type": "stream",
     "text": [
      "\r",
      "18it [26:48, 53.00s/it]"
     ]
    },
    {
     "name": "stdout",
     "output_type": "stream",
     "text": [
      "https://www.beeradvocate.com/beer/profile/817/166902/?view=beer&sort=&start=0\n",
      "['3.53', '3.46', '3.97', '3.38', '3.43', '3.28', '3', '3.89', '4.15']\n",
      "https://www.beeradvocate.com/beer/profile/817/68049/?view=beer&sort=&start=0\n",
      "['4.99', '3.96', '3.9', '4.6', '4', '4.11', '3.83', '4', '1', '4.34', '4.06', '4', '3.46', '4.41', '4.99', '4.75', '3.28', '4.1', '2.12', '3.75', '3.52', '3.83', '4.1', '3.24', '3.99']\n",
      "https://www.beeradvocate.com/beer/profile/817/68049/?view=beer&sort=&start=25\n",
      "['3.22', '4.25', '3.85', '4', '3.67', '3.85', '5', '4.4', '2.54', '3.82', '3.6', '3.9', '3.84', '3.62', '3.37', '3.49', '3.78', '3.21', '3.74', '4.18', '3.5', '3.85', '3.81', '4.57', '3.8']\n",
      "https://www.beeradvocate.com/beer/profile/817/68049/?view=beer&sort=&start=50\n",
      "['3.8', '3.42', '4.9', '3.87', '4.83', '3.67', '3.94', '4.15', '4.58', '3.87', '3.94', '4', '3.97', '3.85', '3.88', '3.47', '3.97', '3.55', '3.76', '4.93', '3.67', '4.14', '3.56', '4.56', '1.6']\n",
      "https://www.beeradvocate.com/beer/profile/817/68049/?view=beer&sort=&start=75\n",
      "['3.25', '4.24', '4.28', '2.71', '3.32', '3.91', '3.71', '3.25', '3.98', '3.71', '3.74', '3.51', '4.01', '2.9', '4.1', '3.83', '4.18', '4.5', '3.73', '3.3', '3.63', '4.14', '3.49', '3.73', '3.84']\n",
      "https://www.beeradvocate.com/beer/profile/817/68049/?view=beer&sort=&start=100\n",
      "['3.54', '3.68', '4.75', '4.01', '3.66', '3.51', '3.1', '4.12', '3.58', '3.18', '4', '4', '3.59', '3.63', '3.91', '3.58', '3.29', '4.13', '4.98', '3.87', '3.49', '3.66', '3.93', '3.74', '3.8']\n",
      "https://www.beeradvocate.com/beer/profile/817/68049/?view=beer&sort=&start=125\n",
      "['3.73', '3.09', '3.91', '3.69', '3.64', '4.1', '4.21', '4.86', '3.97', '4.42', '3.09', '3.55', '3.87', '3.17', '4', '3.6', '3.47', '3.51', '3.69', '4.3', '4', '3.33', '3.5', '4.3', '3.57']\n"
     ]
    },
    {
     "name": "stderr",
     "output_type": "stream",
     "text": [
      "\r",
      "19it [27:29, 49.45s/it]"
     ]
    },
    {
     "name": "stdout",
     "output_type": "stream",
     "text": [
      "https://www.beeradvocate.com/beer/profile/817/68049/?view=beer&sort=&start=150\n",
      "['3.82', '2.65', '3.55', '3.78', '3.47', '3.5']\n",
      "https://www.beeradvocate.com/beer/profile/169/449/?view=beer&sort=&start=0\n",
      "['4.16', '4.78', '3.82', '3', '1.95', '3.48', '4.27', '3.41', '1.39', '3.33', '2.85', '2.93', '3.77', '3.82', '3.23', '2.91', '4', '3.43', '2.8', '3.72', '3.62', '3.34', '3.5', '3.71', '4.67']\n",
      "https://www.beeradvocate.com/beer/profile/169/449/?view=beer&sort=&start=25\n",
      "['4.85', '3.36', '2.94', '3.52', '3.48', '3.84', '3.08', '4.36', '3.21', '3.02', '3.03', '3.79', '2.19', '3.13', '2.82', '3.47', '2.51', '4.06', '2.12', '3.95', '3.53', '3.77', '3.35', '3.77', '3.06']\n",
      "https://www.beeradvocate.com/beer/profile/169/449/?view=beer&sort=&start=50\n",
      "['3.33', '4.29', '3.27', '3.21', '3', '2.88', '3.3', '3.4', '3.97', '4.08', '3.06', '4', '3', '2.56', '4.3', '4.26', '1.15', '1.88', '2.08', '2.94', '3.25', '3.82', '3.38', '2.71', '2.88']\n",
      "https://www.beeradvocate.com/beer/profile/169/449/?view=beer&sort=&start=75\n",
      "['2.14', '3.84', '2.49', '3.31', '2.65', '2.53', '4.04', '3.78', '3.25', '1.4', '3.11', '3.38', '3.99', '3.12', '3.19', '3.3', '2.77', '2.49', '3.4', '1.23', '2.45', '3.66', '2.35', '2.85', '3']\n",
      "https://www.beeradvocate.com/beer/profile/169/449/?view=beer&sort=&start=100\n",
      "['3.44', '3.64', '3.16', '1.95', '2.31', '3.29', '3.28', '3.07', '3.45', '4.12', '4.16', '3.71', '3.43', '3.12', '3.58', '2.92', '2.96', '2.94', '2.91', '4.13', '3.42', '2.52', '2.54', '3.73', '3.35']\n",
      "https://www.beeradvocate.com/beer/profile/169/449/?view=beer&sort=&start=125\n",
      "['3.56', '2.75', '3.79', '1.38', '3.06', '3.21', '4.84', '3.08', '3.47', '3.9', '3.5', '2.99', '2.96', '1.66', '3.39', '2.54', '3.64', '3.13', '3.43', '3.09', '3.04', '3', '2.46', '3.16', '3.28']\n",
      "https://www.beeradvocate.com/beer/profile/169/449/?view=beer&sort=&start=150\n",
      "['4.25', '3.92', '4.27', '3.66', '3.3', '2.48', '3.25', '3.88', '2.83', '3.19', '2.25', '4', '3.22', '2.48', '3.24', '3.28', '1', '2.72', '3.37', '3.13', '2.12', '3.04', '2.01', '3.03', '3.34']\n",
      "https://www.beeradvocate.com/beer/profile/169/449/?view=beer&sort=&start=175\n",
      "['2.58', '1.83', '3.63', '4.18', '4', '4.14', '2.62', '3.4', '2.57', '2.97', '3.09', '3.24', '2.98', '3.25', '3.77', '1.92', '3.1', '2.13', '1.86', '2.58', '1', '2.91', '2.5', '2.72', '3.36']\n",
      "https://www.beeradvocate.com/beer/profile/169/449/?view=beer&sort=&start=200\n",
      "['2.75', '1.97', '2.38', '2.35', '2.78', '2.26', '3.21', '2.76', '1.59', '3', '3.16', '2.84', '3.69', '1.88', '2.82', '3.09', '2.47', '2.82', '4', '3.77', '2.55', '1.38', '3.03', '3.55', '4.6']\n",
      "https://www.beeradvocate.com/beer/profile/169/449/?view=beer&sort=&start=225\n",
      "['3.25', '3.82', '2.81', '4', '3.5', '1.84', '1.5', '3.97', '3.13', '2.67', '3', '3.98', '2.32', '3.64', '3.08', '3.3', '2.08', '3.22', '3.85', '3.07', '2.65', '2.91', '3.94', '4.8', '4.26']\n",
      "https://www.beeradvocate.com/beer/profile/169/449/?view=beer&sort=&start=250\n",
      "['3.13', '3.22', '3.22', '2.78', '3.43', '3.82', '3.08', '3.47', '1.43', '3.84', '3.71', '3.37', '4.5', '2.73', '2.49', '3.32', '3.46', '2.93', '2.56', '4.26', '2.62', '2.37', '4.65', '1.92', '3.17']\n",
      "https://www.beeradvocate.com/beer/profile/169/449/?view=beer&sort=&start=275\n",
      "['2.58', '3', '2.71', '2.68', '3.36', '3.17', '3.49', '4.37', '3', '2.77', '3.13', '2.2', '4', '2.93', '3', '3.67', '3.6', '2.5', '3.25', '2.25', '2.25', '4.34', '2.92', '2.5', '2.74']\n",
      "https://www.beeradvocate.com/beer/profile/169/449/?view=beer&sort=&start=300\n",
      "['2.39', '2.75', '2.5', '3.38', '3.13', '4.2', '2.83', '3', '2.85', '2.88', '3.24', '3.67', '3.58', '4.07', '3.1', '2.42', '3.62', '3.38', '3.08', '3.49', '3.13', '3.11', '2.83', '3.13', '2.53']\n",
      "https://www.beeradvocate.com/beer/profile/169/449/?view=beer&sort=&start=325\n",
      "['3.19', '3.43', '3.91', '3.01', '4.34', '3.59', '3.08', '3.5', '3.18', '3.22', '2.67', '2.69', '3.74', '3.1', '3.04', '3.44', '3.08', '3.26', '3.16', '3.24', '3.28', '4', '2.31', '3.74', '1.52']\n",
      "https://www.beeradvocate.com/beer/profile/169/449/?view=beer&sort=&start=350\n",
      "['3.1', '3.51', '3.07', '3.73', '3.09', '2.95', '4.33', '3.13', '3.25', '4', '2.9', '2.36', '3.75', '2.99', '3.19', '2.21', '2.97', '3.39', '2.93', '3.39', '3.1', '4.59', '3.02', '3.11', '1.82']\n",
      "https://www.beeradvocate.com/beer/profile/169/449/?view=beer&sort=&start=375\n",
      "['3.83', '3.21', '2.79', '3.75', '2.28', '1.46', '3.13', '3.44', '3', '3.3', '3.5', '3.27', '3.41', '3.36', '3.35', '4.05', '3.37', '3.04', '3', '2.33', '2.56', '3.2', '1.95', '3.82', '3.28']\n",
      "https://www.beeradvocate.com/beer/profile/169/449/?view=beer&sort=&start=400\n",
      "['3.38', '2.87', '2.35', '2.83', '2.58', '2.78', '2.85', '2.9', '3.28', '3.22', '3.36', '2.96', '2.72', '2.6', '3.38', '3.13', '3.5', '2.73', '2.16', '3.62', '3.01', '2.49', '2.55', '2.91', '3.06']\n",
      "https://www.beeradvocate.com/beer/profile/169/449/?view=beer&sort=&start=425\n",
      "['2.18', '3.59', '2.5', '3.53', '3.47', '3.15', '2.41', '2.99', '3.26', '3.08', '2.31', '3.08', '3.17', '3.88', '3.28', '2.32', '2.89', '3.43', '2.91', '3.2', '2.62', '3', '2.54', '3.53', '3']\n",
      "https://www.beeradvocate.com/beer/profile/169/449/?view=beer&sort=&start=450\n",
      "['2.83', '4.2', '3.38', '3', '2.93', '2.46', '3.17', '3.23', '3.05', '2.98', '2.82', '3.91', '3.07', '2.79', '3.55', '3.16', '3', '3.75', '3.9', '2.06', '4.21', '2.38', '2.78', '1.86', '2.47']\n",
      "https://www.beeradvocate.com/beer/profile/169/449/?view=beer&sort=&start=475\n",
      "['3.2', '3.01', '2.9', '2.47', '2.33', '3.7', '4.15', '1.1', '3.11', '2.43', '2.97', '3.2', '2.53', '3.06', '2.44', '3.05', '2.99', '3.06', '3.02', '2.62', '2.63', '3.23', '3.22', '2.29', '3.89']\n",
      "https://www.beeradvocate.com/beer/profile/169/449/?view=beer&sort=&start=500\n",
      "['3.37', '3', '2.15', '3.06', '2.95', '3.62', '3.2', '3.15', '3.26', '3.08', '3.58', '3.08', '3.35', '2.93', '3.2', '3.06', '3.02', '2.4', '3.6', '2.17', '2.51', '3.06', '2.83', '2.26', '3.13']\n",
      "https://www.beeradvocate.com/beer/profile/169/449/?view=beer&sort=&start=525\n",
      "['4.2', '3.56', '3.35', '3.26', '3.11', '3.15', '3.81', '3.48', '3.14', '2.96', '2.88', '2.53', '3.78', '3.33', '3.38', '2.65', '3.16', '3', '3.1', '2.68', '3.11', '3.48', '3.21', '3', '2.98']\n",
      "https://www.beeradvocate.com/beer/profile/169/449/?view=beer&sort=&start=550\n",
      "['3.33', '3.13', '2.26', '3.18', '2.58', '3.29', '2.59', '2.88', '3.05', '3.2', '1.35', '3.18', '2.53', '1.15', '2.9', '3.1', '2.06', '3.38', '2.96', '2.46', '3.11', '3.93', '3.51', '3.11', '2.61']\n",
      "https://www.beeradvocate.com/beer/profile/169/449/?view=beer&sort=&start=575\n",
      "['2.88', '3.06', '2.05', '3.2', '3.43', '2.93', '2.61', '3.22', '2.57', '3', '2.68', '3.15', '2.98', '3.28', '3.03', '2.83', '2.75', '2.62', '2.68', '3', '3.69', '2.88', '2.84', '2', '2.93']\n",
      "https://www.beeradvocate.com/beer/profile/169/449/?view=beer&sort=&start=600\n",
      "['3.03', '3.08', '3.46', '3.56', '2.78', '3.03', '2.4', '3.25', '2.1', '2.9', '3.28', '2.96', '2.6', '3.38', '3.85', '3.27', '3.21', '3.12', '2.06', '3', '1', '3.15', '1.87', '3.16', '3.52']\n",
      "https://www.beeradvocate.com/beer/profile/169/449/?view=beer&sort=&start=625\n",
      "['2.91', '2.87', '2.55', '3.06', '3.25', '2.83', '2.09', '1.7', '2.91', '1.76', '3', '2.1', '3.33', '3.33', '2.93', '2.99', '2.05', '3.28', '3.33', '3.17', '3.36', '2.85', '3.5', '3.16', '3.32']\n",
      "https://www.beeradvocate.com/beer/profile/169/449/?view=beer&sort=&start=650\n",
      "['3.26', '2.92', '3.25', '2.83', '1.56', '3.43', '3.36', '3.05', '3.4', '2.53', '3.33', '3.09', '1.71', '2.52', '2.7', '2.91', '3.1', '2.64', '4.23', '3.03', '2.12', '2.06', '2.91', '3.14', '3.5']\n",
      "https://www.beeradvocate.com/beer/profile/169/449/?view=beer&sort=&start=675\n",
      "['2.82', '3.51', '2.83', '2.85', '2.73', '3', '3.14', '2.85', '3.08', '2.63', '3.4', '2.05', '3.14', '2.21', '3.1', '3.18', '3.3', '1.88', '2.33', '3.21', '2.8', '3.3', '2.78', '4.2', '3.3']\n",
      "https://www.beeradvocate.com/beer/profile/169/449/?view=beer&sort=&start=700\n",
      "['3.21', '2.26', '3.58', '2.68', '3.65', '4', '3.6', '3.2', '3.23', '3.16', '2.8', '2.53', '2.53', '3.13', '3.8', '3.24', '3.42', '2.87', '1.93', '2.16', '2.51', '1.43', '1.82', '2.86', '3.61']\n",
      "https://www.beeradvocate.com/beer/profile/169/449/?view=beer&sort=&start=725\n",
      "['2.63', '2.4', '2.73', '3.39', '1.45', '3.6', '2.45', '3.06', '3.3', '2.83', '2.98', '3.12', '2.95', '2.34', '3.18', '3.56', '3.1', '3.72', '2.98', '3.6', '2.95', '2.87', '3.41', '3.23', '3.52']\n"
     ]
    },
    {
     "name": "stdout",
     "output_type": "stream",
     "text": [
      "https://www.beeradvocate.com/beer/profile/169/449/?view=beer&sort=&start=750\n",
      "['3.5', '2.93', '3.2', '3.41', '3.62', '1.61', '1.58', '2.93', '2.81', '2.98', '2.88', '3.48', '3.2', '3.68', '3.87', '2.84', '3.05', '2', '2.74', '3.3', '2.06', '2.97', '2.88', '3.93', '3.13']\n",
      "https://www.beeradvocate.com/beer/profile/169/449/?view=beer&sort=&start=775\n",
      "['3', '2.55', '3.38', '2.26', '2', '3.66', '3.05', '2.03', '3.36', '3.08', '3.75', '2.93', '3.38', '4.72', '2.9', '3.03', '3.27', '3.33', '3.58', '3.1', '3.03', '3.48', '2.58', '2.47', '3.2']\n",
      "https://www.beeradvocate.com/beer/profile/169/449/?view=beer&sort=&start=800\n",
      "['2.38', '3.13', '3.03', '3.18', '4.25', '3.73', '3.08', '3.35', '1.94', '2.68', '2.94', '1.51', '1.32', '4.72', '3.22', '2.78', '3.37', '3.65', '3.26', '2.97', '3.45', '3.7', '3.85', '3.3', '2.85']\n",
      "https://www.beeradvocate.com/beer/profile/169/449/?view=beer&sort=&start=825\n",
      "['3.68', '2.81', '3.28', '3.78', '3', '2.66', '3.33', '3.34', '3.28', '3.23', '3.13', '3.33', '4.25', '3.31', '3.4', '3.62', '3.36', '2.71', '3.21', '2.56', '2.97', '4', '2.71', '3.23', '1.82']\n",
      "https://www.beeradvocate.com/beer/profile/169/449/?view=beer&sort=&start=850\n",
      "['2.5', '2.36', '3.3', '3.7', '3.1', '2.15', '3.66', '2.76', '3.16', '1.86', '3', '3.53', '3.73', '2.7', '3.45', '1.99', '2.19', '3.43', '3.18', '4', '3.1', '2.88', '3.28', '3.43', '3.6']\n",
      "https://www.beeradvocate.com/beer/profile/169/449/?view=beer&sort=&start=875\n",
      "['3.1', '3.78', '3.12', '3.79', '3.45', '3.56', '2.85', '3.38', '2.1', '2.58', '2.66', '1.81', '2.14', '1.8', '3.38', '3.19', '2.81', '3', '2.12', '2.54', '2.84', '1.87', '2.68', '2.53', '3.38']\n",
      "https://www.beeradvocate.com/beer/profile/169/449/?view=beer&sort=&start=900\n",
      "['3.65', '3.13', '3.15', '3.89', '3.03', '2.34', '3.62', '3.2', '3.63', '3.8', '2.92', '3.63', '2.66', '3.45', '3.05', '2.98', '2.88', '3.85', '3.17', '3.38', '3.5', '3.83', '3.1', '3.85', '2.73']\n",
      "https://www.beeradvocate.com/beer/profile/169/449/?view=beer&sort=&start=925\n",
      "['2.01', '3.22', '3.23', '3.32', '3.39', '3.06', '3.3', '3.61', '3.03', '2.75', '3.1', '2.15', '3.1', '2.72', '2.26', '3.03', '3.13', '2.73', '3.27', '2.79', '2.82', '2.85', '4', '2.63', '3.46']\n",
      "https://www.beeradvocate.com/beer/profile/169/449/?view=beer&sort=&start=950\n",
      "['3.18', '3.67', '3.23', '3.28', '2.94', '2.57', '4.27', '3.37', '3.88', '2.59', '3.26', '3.35', '2.6', '2.61', '2.76', '2.76', '3.8', '3.63', '3.06', '3.36', '2.6', '3.07', '3.06', '3.02', '2.85']\n",
      "https://www.beeradvocate.com/beer/profile/169/449/?view=beer&sort=&start=975\n",
      "['2.33', '3.64', '3.43', '1.92', '3', '2.73', '2.41', '2.46', '1.35', '3.06', '3.17', '2.65', '1.95', '3.46', '3.03', '2.18', '3.35', '2.59', '2.18', '2.78', '3.62', '3.55', '2.18', '3.38', '3.15']\n",
      "https://www.beeradvocate.com/beer/profile/169/449/?view=beer&sort=&start=1000\n",
      "['2.8', '3.02', '2.66', '3.29', '1.86', '2.82', '2.88', '2.73', '2.81', '3.19', '1.58', '3.11', '1.95', '3.23', '2.91', '3.6', '3.48', '3.13', '2.95', '3.18', '3.15', '3.8', '3.57', '1.76', '3.42']\n",
      "https://www.beeradvocate.com/beer/profile/169/449/?view=beer&sort=&start=1025\n",
      "['3.5', '3.78', '3.03', '3.8', '3.33', '2.43', '4', '3.87', '2.83', '3.65', '3.17', '1.95', '2.88', '3', '2.83', '2.18', '3.25', '3.27', '3', '3.31', '3.5', '2.81', '2.27', '2.98', '2.58']\n",
      "https://www.beeradvocate.com/beer/profile/169/449/?view=beer&sort=&start=1050\n",
      "['2.88', '3.06', '2.88', '2.91', '3.13', '3.42', '1.73', '2.8', '4.73', '2.02', '2.68', '3.5', '3.49', '3.55', '3.44', '3.8', '3.82', '3.2', '3.35', '3.48', '2.47', '1.71', '3.18', '3.2', '2.61']\n",
      "https://www.beeradvocate.com/beer/profile/169/449/?view=beer&sort=&start=1075\n",
      "['2.53', '3.32', '2.8', '3.3', '2.76', '2.36', '3.63', '3.52', '3.1', '3.76', '3.13', '3.12', '3.54', '3.16', '2.85', '3.31', '3.61', '3.23', '1.74', '3.28', '2.57', '3.18', '2.59', '1.36', '3.05']\n",
      "https://www.beeradvocate.com/beer/profile/169/449/?view=beer&sort=&start=1100\n",
      "['2.46', '3.1', '3.25', '2.95', '3.06', '2.78', '2.88', '3.1', '3.45', '3.48', '3.34', '3.18', '2.54', '3.42', '3.48', '2.84', '3.15', '3.26', '3.3', '3.65', '3.42', '3.24', '4.28', '3.32', '3.3']\n",
      "https://www.beeradvocate.com/beer/profile/169/449/?view=beer&sort=&start=1125\n",
      "['3', '3.18', '3.15', '2.81', '4.07', '2.89', '3.23', '3.71', '3.16', '3.1', '2.9', '2.23', '2.88', '3.06', '3.57', '2.2', '3.03', '2.56', '3', '2.38', '3.88', '3.24', '2', '4.53', '3.61']\n",
      "https://www.beeradvocate.com/beer/profile/169/449/?view=beer&sort=&start=1150\n",
      "['3.95', '3.55', '1.95', '3.55', '2.53', '3.19', '2.97', '3.48', '2.06', '2.91', '3.92', '3.01', '3.3', '3.88', '3.38', '2.98', '3', '2.38', '2.78', '1.95', '3.13', '3.5', '3.78', '4', '3.36']\n",
      "https://www.beeradvocate.com/beer/profile/169/449/?view=beer&sort=&start=1175\n",
      "['3.35', '3.55', '3.65', '2.48', '2.97', '2.83', '2.91', '3.24', '1.79', '2.85', '2.28', '2.66', '3.48', '3.26', '3.03', '3.01', '2.7', '2.97', '3.63', '3.18', '2.95', '3.38', '2.95', '2.73', '2.81']\n",
      "https://www.beeradvocate.com/beer/profile/169/449/?view=beer&sort=&start=1200\n",
      "['2.39', '3.53', '3.58', '3.43', '3.26', '3', '2.82', '3.66', '3.03', '3.53', '3.05', '3.15', '2.82', '2.69', '3.08', '2.73', '3.7', '4.25', '2.6', '3.7', '3.45', '3.3', '3.15', '2.8', '2.69']\n",
      "https://www.beeradvocate.com/beer/profile/169/449/?view=beer&sort=&start=1225\n",
      "['3.57', '4.3', '2.4', '3.06', '2.8', '3.26', '2.4', '2.28', '2.93', '2.82', '2.23', '3.05', '2.83', '3.37', '3.03', '4.1', '3.48', '3.94', '3.33', '2.96', '3.97', '3.94', '2.66', '3.53', '2.36']\n",
      "https://www.beeradvocate.com/beer/profile/169/449/?view=beer&sort=&start=1250\n",
      "['3.08', '3.52', '3.2', '3.28', '2.83', '3.55', '3.43', '2.33', '2.77', '3.05', '3.97', '3.65', '1.75', '3.7', '4', '3.59', '3.4', '4.13', '3.1', '3.1', '3.51', '2.9', '3.35', '2.85', '2.14']\n",
      "https://www.beeradvocate.com/beer/profile/169/449/?view=beer&sort=&start=1275\n",
      "['2.87', '3.15', '3.38', '3.48', '3.88', '2.88', '3', '3.08', '4.01', '2.85', '4.02', '2.62', '4.02', '3.11', '3.98', '2.98', '1.58', '3.25', '2.5', '3.33', '2.95', '4.12', '3.34', '2.01', '3.48']\n",
      "https://www.beeradvocate.com/beer/profile/169/449/?view=beer&sort=&start=1300\n",
      "['3.38', '3.13', '3.09', '4.11', '3.03', '3.65', '2.76', '3.48', '1.58', '3.55', '2.96', '3.83', '1.4', '2.42', '2.05', '3.44', '3.32', '3.46', '2.48', '2.48', '2.73', '4.7', '3.4', '2.4', '3.76']\n",
      "https://www.beeradvocate.com/beer/profile/169/449/?view=beer&sort=&start=1325\n",
      "['3.3', '4.04', '3.15', '3.23', '2.8', '4.05', '2.88', '3.25', '2.95', '2.1', '4.07', '2.73', '3.46', '2.61', '3.3', '4.18', '3.33', '2.86', '3.23', '3.35', '3.56', '2.2', '4.05', '2.98', '2.9']\n",
      "https://www.beeradvocate.com/beer/profile/169/449/?view=beer&sort=&start=1350\n",
      "['3.01', '3.15', '3.1', '2.51', '2.94', '2.96', '2.74', '3.33', '2.38', '2.4', '3.01', '3.03', '2.66', '3.6', '2.91', '2.56', '3.08', '3.06', '3.28', '3', '3.63', '3.23', '3.6', '3.38', '3.47']\n",
      "https://www.beeradvocate.com/beer/profile/169/449/?view=beer&sort=&start=1375\n",
      "['3.6', '2.68', '2.78', '2.85', '3.13', '3.51', '3.65', '2.53', '3.69', '3.77', '2.85', '4', '2.95', '3.52', '3.15', '2.93', '3.2', '2.8', '2.2', '3.4', '1.5', '4.12', '3.33', '3.34', '3.3']\n",
      "https://www.beeradvocate.com/beer/profile/169/449/?view=beer&sort=&start=1400\n",
      "['3.45', '3.68', '3.38', '3.36', '3.32', '2.56', '3.65', '3.42', '2.38', '3.38', '2.6', '2.47', '2.83', '2.76', '2.24', '3', '2.88', '3.52', '2.21', '3.03', '3.07', '3.26', '2.01', '2.8', '2.66']\n",
      "https://www.beeradvocate.com/beer/profile/169/449/?view=beer&sort=&start=1425\n",
      "['3.08', '2.76', '2.85', '2.6', '3.71', '2.74', '3.3', '4', '3.39', '3.83', '3.52', '3.47', '3.79', '3.45', '3.48', '2.78', '3.9', '2.88', '2.05', '1.22', '3.24', '3.35', '3.03', '3.16', '4']\n",
      "https://www.beeradvocate.com/beer/profile/169/449/?view=beer&sort=&start=1450\n",
      "['3.45', '3.08', '2.96', '3.33', '2.47', '3', '3.21', '3.14', '3.15', '2.24', '3.5', '3.06', '3.63', '3.56', '3.06', '3.15', '3.16', '3.99', '2.58', '2.65', '3.62', '3.16', '3.33', '3.23', '3']\n",
      "https://www.beeradvocate.com/beer/profile/169/449/?view=beer&sort=&start=1475\n",
      "['3', '3.26', '3.88', '3.6', '2.85', '2.76', '2.9', '2.85', '3.22', '3.01', '3.12', '1.28', '3', '1.77', '2.78', '3.41', '2.9', '3.13', '3.18', '3.63', '3.25', '3.3', '3.33', '3.45', '3.35']\n",
      "https://www.beeradvocate.com/beer/profile/169/449/?view=beer&sort=&start=1500\n",
      "['3.45', '2.88', '3.48', '2.66', '3.58', '3.35', '3.53', '2.89', '2.38', '3.43', '3.28', '3.16', '2.53', '3.27', '3.18', '3.35', '2.25', '3', '3.1', '3.48', '3.36', '3', '3.03', '2.03', '1.48']\n"
     ]
    },
    {
     "name": "stdout",
     "output_type": "stream",
     "text": [
      "https://www.beeradvocate.com/beer/profile/169/449/?view=beer&sort=&start=1525\n",
      "['3.2', '3.83', '3.3', '3', '2.63', '3', '3.63', '2.99', '2.87', '3.21', '2.36', '3.4', '3.16', '3.89', '3.03', '3.62', '2.83', '3.03', '3.1', '3.4', '3.8', '3.39', '2.88', '3.1', '3.35']\n",
      "https://www.beeradvocate.com/beer/profile/169/449/?view=beer&sort=&start=1550\n",
      "['3.16', '3.17', '3.28', '3.38', '2.83', '3.13', '2.73', '3.01', '3.84', '2.16', '3', '2.59', '2.4', '3.03', '2.88', '3', '2.88', '2.64', '1.75', '2.74', '1.8', '3.04', '3.9', '3.34', '2.95']\n",
      "https://www.beeradvocate.com/beer/profile/169/449/?view=beer&sort=&start=1575\n",
      "['3.11', '3.73', '2.73', '3.16', '2.3', '3.76', '3.01', '3.31', '3.64', '4', '3.38', '3.88', '4.3', '3.58', '3.53', '3.6', '3.62', '3.61', '4.14', '4.04', '3.6', '3.83', '3.51', '3.33', '3']\n"
     ]
    },
    {
     "name": "stderr",
     "output_type": "stream",
     "text": [
      "\r",
      "20it [33:57, 150.97s/it]"
     ]
    },
    {
     "name": "stdout",
     "output_type": "stream",
     "text": [
      "https://www.beeradvocate.com/beer/profile/169/449/?view=beer&sort=&start=1600\n",
      "['3.61', '3.2', '3.8', '2.81', '3.46']\n",
      "https://www.beeradvocate.com/beer/profile/915/44950/?view=beer&sort=&start=0\n",
      "['3.99', '3', '2.75', '3.06', '3.13', '3.29', '3.09', '1.93', '4.59', '3.03', '3.15', '3.79', '3.71', '3.09', '3.4', '4.03', '2.05', '2.96', '2.8', '3.55', '3.23', '2.42', '2.96', '3.03', '3.03']\n",
      "https://www.beeradvocate.com/beer/profile/915/44950/?view=beer&sort=&start=25\n",
      "['3.08', '2.74', '2.99', '2.6', '2.94', '3.18', '3.44', '3.99', '3.11', '2.59', '3.3', '3.98', '3.1', '2.26', '2.58', '3.16', '3.38', '3.91', '3.41', '2.73', '3.52', '2.74', '3.18', '2.31', '2.81']\n"
     ]
    },
    {
     "name": "stderr",
     "output_type": "stream",
     "text": [
      "\r",
      "21it [34:15, 111.05s/it]"
     ]
    },
    {
     "name": "stdout",
     "output_type": "stream",
     "text": [
      "https://www.beeradvocate.com/beer/profile/915/44950/?view=beer&sort=&start=50\n",
      "['3.48', '3.5', '1.91', '3', '1.74', '2.11']\n",
      "https://www.beeradvocate.com/beer/profile/259/1708/?view=beer&sort=&start=0\n",
      "['4.08', '4.48', '4.06', '4.27', '4.7', '4.71', '4.57', '4.41', '4.44', '4.25', '4.5', '4.87', '4.86', '3.92', '4.5', '4.77', '4.77', '4.31', '4.33', '4.87', '5', '4.25', '4.51', '4.73', '4.14']\n",
      "https://www.beeradvocate.com/beer/profile/259/1708/?view=beer&sort=&start=25\n",
      "['4.28', '4.25', '4.4', '4.55', '4.75', '4.22', '4.41', '4.43', '4.77', '4.88', '2.8', '3.5', '4.03', '4.33', '4.5', '4.49', '5', '5', '4.64', '5', '4.37', '4.5', '4.51', '4.76', '4.55']\n",
      "https://www.beeradvocate.com/beer/profile/259/1708/?view=beer&sort=&start=50\n",
      "['4.52', '4.57', '4.34', '4.7', '4.5', '4.32', '4.29', '4.56', '5', '4.69', '4.45', '4.37', '4.75', '4.34', '4.66', '3.71', '4.44', '4.7', '4.4', '4.51', '4.47', '4.74', '4.63', '4.55', '4.58']\n",
      "https://www.beeradvocate.com/beer/profile/259/1708/?view=beer&sort=&start=75\n",
      "['5', '4.51', '4.4', '4.52', '4.22', '4.08', '4.18', '4.34', '4.17', '3.74', '4.9', '4.5', '4.6', '4.47', '4.15', '4.78', '4.83', '5', '3.53', '4.84', '4.23', '4.47', '4.58', '4.36', '4.55']\n",
      "https://www.beeradvocate.com/beer/profile/259/1708/?view=beer&sort=&start=100\n",
      "['4.81', '4.58', '4.23', '4.63', '4.21', '4.8', '4.65', '4.22', '4.01', '4.37', '4.1', '4.49', '4.36', '4.05', '4.53', '4.69', '4.74', '4.23', '4.93', '4.65', '4.55', '4.33', '4.6', '4.61', '4.24']\n",
      "https://www.beeradvocate.com/beer/profile/259/1708/?view=beer&sort=&start=125\n",
      "['4.12', '3.89', '4.44', '4.56', '4.3', '4.02', '3.23', '4.74', '4.25', '4.16', '4.28', '4.46', '3.95', '4.26', '4.43', '4.7', '4.33', '4.72', '4.76', '4.77', '4.56', '4.54', '4.4', '4.2', '4.63']\n",
      "https://www.beeradvocate.com/beer/profile/259/1708/?view=beer&sort=&start=150\n",
      "['4.43', '4.42', '5', '3.57', '4.94', '4.6', '4.25', '4', '4', '4.88', '4.75', '4.2', '4.04', '4.5', '3.76', '4.34', '2.99', '4.54', '4.44', '4.44', '4', '4.47', '4.53', '4.78', '4.63']\n",
      "https://www.beeradvocate.com/beer/profile/259/1708/?view=beer&sort=&start=175\n",
      "['4', '4.71', '4.5', '4.4', '4.32', '4.37', '4.83', '5', '4.8', '4.49', '4.66', '4.09', '4.41', '4.19', '4.68', '4.4', '4.12', '4.71', '3.75', '4.11', '4.26', '4.19', '4.73', '4.51', '4.24']\n",
      "https://www.beeradvocate.com/beer/profile/259/1708/?view=beer&sort=&start=200\n",
      "['4.7', '4.02', '4.55', '4.91', '4.44', '4.52', '4.21', '4.11', '4.91', '4.23', '4.42', '4.5', '4.11', '4.42', '4.69', '4.31', '4.3', '4.31', '4.43', '4.46', '4.94', '4.93', '4.16', '3.71', '4.35']\n",
      "https://www.beeradvocate.com/beer/profile/259/1708/?view=beer&sort=&start=225\n",
      "['4.59', '4.44', '4.18', '4.46', '4.72', '4.31', '4.3', '4.59', '4.03', '4.29', '4.37', '4.78', '4.62', '4.64', '4.67', '4.79', '4.73', '4.87', '4.84', '4.31', '4.22', '4.59', '4.45', '4.6', '3.71']\n",
      "https://www.beeradvocate.com/beer/profile/259/1708/?view=beer&sort=&start=250\n",
      "['4.37', '4.49', '4.72', '4.05', '4.94', '4.33', '4.45', '4.84', '4.44', '4.84', '4.71', '3.97', '4.5', '4.42', '2.46', '4.25', '5', '4.49', '3.28', '4.5', '3.94', '5', '4.6', '5', '4.43']\n",
      "https://www.beeradvocate.com/beer/profile/259/1708/?view=beer&sort=&start=275\n",
      "['4.5', '5', '4.13', '4.65', '3.69', '4.69', '5', '4.43', '4.47', '3.61', '4.41', '2', '4.74', '4.69', '4.33', '4.09', '4.54', '3.77', '4.86', '4.84', '4.84', '4.41', '4.57', '4.75', '4.18']\n",
      "https://www.beeradvocate.com/beer/profile/259/1708/?view=beer&sort=&start=300\n",
      "['4.34', '5', '4.62', '4.44', '4.99', '4.53', '5', '4.38', '4.96', '4.68', '4.71', '4.04', '4', '4.5', '4.6', '3.96', '4.53', '4.08', '4.91', '5', '4.51', '5', '3.53', '4.05', '4.81']\n",
      "https://www.beeradvocate.com/beer/profile/259/1708/?view=beer&sort=&start=325\n",
      "['4.84', '4.35', '4.69', '4.44', '4.34', '4.33', '4.46', '4.69', '4.36', '4.99', '4.62', '4.21', '4.49', '4.72', '4.46', '4.28', '4.89', '5', '4.44', '4.13', '4.42', '4.63', '4.47', '3.47', '4.62']\n",
      "https://www.beeradvocate.com/beer/profile/259/1708/?view=beer&sort=&start=350\n",
      "['4.77', '3.74', '4.84', '4', '5', '4.56', '5', '4.61', '4.84', '4.21', '4.7', '4.66', '4.44', '4.76', '5', '4.93', '4.8', '4.69', '4.8', '4.52', '3.69', '4.21', '4.35', '4.42', '4.98']\n",
      "https://www.beeradvocate.com/beer/profile/259/1708/?view=beer&sort=&start=375\n",
      "['4.45', '3.57', '4.1', '4.65', '4.64', '4.65', '5', '4.5', '3.36', '4.46', '5', '5', '4.42', '4.64', '4.5', '4', '3.48', '4.86', '4.62', '4.5', '4.5', '4.84', '4', '4.6', '4.1']\n",
      "https://www.beeradvocate.com/beer/profile/259/1708/?view=beer&sort=&start=400\n",
      "['4.52', '4.42', '4.88', '4.5', '4.92', '4.5', '4.5', '4.4', '5', '4.83', '4.6', '4.75', '4.75', '4.25', '4.75', '3.92', '4.5', '4.37', '3.5', '4.25', '4.5', '5', '4.52', '4.71', '4.79']\n",
      "https://www.beeradvocate.com/beer/profile/259/1708/?view=beer&sort=&start=425\n",
      "['4.52', '4.15', '4.42', '4.28', '4.42', '4.11', '4.48', '4.14', '4.74', '3.82', '4.13', '4.45', '4.33', '4.16', '4.31', '4.17', '4.58', '4.37', '4.22', '4.07', '4.16', '4.36', '3.6', '4.4', '4']\n",
      "https://www.beeradvocate.com/beer/profile/259/1708/?view=beer&sort=&start=450\n",
      "['4.29', '4.96', '5', '4.44', '4.5', '4.33', '4.86', '4.98', '4.42', '4.51', '3.64', '4.57', '4.79', '4.77', '4.07', '4.65', '4.75', '4.93', '4.6', '3.92', '4.53', '5', '4.64', '4.85', '4.54']\n",
      "https://www.beeradvocate.com/beer/profile/259/1708/?view=beer&sort=&start=475\n",
      "['4.54', '4.84', '5', '4.99', '4.75', '4.76', '3.83', '4.18', '5', '4.76', '4.72', '4.46', '4.7', '4.53', '4.48', '4.95', '4.47', '4.31', '4.22', '5', '4.33', '4.35', '4.24', '4.81', '3.85']\n",
      "https://www.beeradvocate.com/beer/profile/259/1708/?view=beer&sort=&start=500\n",
      "['3.81', '4.27', '4.99', '4.69', '4.12', '4.96', '4.7', '4.54', '4.16', '4.63', '4.93', '4.48', '4.42', '4.1', '4.11', '4.53', '3.74', '4.26', '4.77', '4.43', '4.58', '4.8', '4.77', '4.26', '4.56']\n",
      "https://www.beeradvocate.com/beer/profile/259/1708/?view=beer&sort=&start=525\n",
      "['4.52', '4.03', '4.83', '3.93', '4.37', '4.34', '3.57', '3.72', '4.73', '4.63', '4.5', '4.66', '3.38', '4.59', '4.47', '4.72', '4.44', '4.85', '4.34', '4.83', '4.54', '4.8', '3.75', '4.91', '4.06']\n",
      "https://www.beeradvocate.com/beer/profile/259/1708/?view=beer&sort=&start=550\n",
      "['4.71', '4.47', '4.09', '4.5', '4.85', '4.65', '4.63', '3.92', '4.03', '4.91', '4.17', '3.99', '4.07', '4.89', '3.92', '4.25', '4.37', '4.35', '3.99', '4.59', '4.88', '4.87', '4.39', '4.35', '4.87']\n",
      "https://www.beeradvocate.com/beer/profile/259/1708/?view=beer&sort=&start=575\n",
      "['4.73', '4.41', '4.55', '4.66', '4.29', '4.65', '5', '4.38', '4.46', '4.7', '4.6', '4.15', '4.34', '4.76', '4.26', '4.67', '4.3', '4.68', '4.54', '4.34', '3.77', '4.75', '4.51', '4.33', '4.69']\n",
      "https://www.beeradvocate.com/beer/profile/259/1708/?view=beer&sort=&start=600\n",
      "['4.53', '5', '4.5', '4.67', '4.55', '3.63', '4.28', '5', '3.94', '4.72', '4.31', '4.35', '4.53', '4.58', '5', '4.32', '4.69', '3.87', '4.4', '4.45', '4.43', '4.92', '5', '4.8', '4.42']\n",
      "https://www.beeradvocate.com/beer/profile/259/1708/?view=beer&sort=&start=625\n",
      "['4.08', '5', '4.75', '4.47', '5', '5', '4.53', '4.76', '4.96', '4.81', '4.59', '4.4', '4.65', '4.16', '4.34', '3.99', '4.47', '4.39', '3.78', '4.94', '4.77', '4.46', '4.24', '4.92', '4.41']\n",
      "https://www.beeradvocate.com/beer/profile/259/1708/?view=beer&sort=&start=650\n",
      "['4', '4.25', '4.9', '4.63', '4.62', '4.5', '4.86', '4.75', '4.03', '4.32', '4.65', '4.44', '3.76', '4.05', '4.92', '4.03', '3.78', '4.2', '4.71', '4.42', '4.47', '4.62', '4.45', '4.42', '3.85']\n",
      "https://www.beeradvocate.com/beer/profile/259/1708/?view=beer&sort=&start=675\n",
      "['4.67', '4.5', '4.35', '4.62', '4.33', '4.59', '3.52', '4.36', '4.68', '4.42', '4.47', '4.43', '4.73', '4.57', '4.42', '4.45', '4.55', '4.3', '4.5', '4.42', '4.65', '4.25', '4.8', '4.78', '4.03']\n",
      "https://www.beeradvocate.com/beer/profile/259/1708/?view=beer&sort=&start=700\n",
      "['4.04', '4.12', '4.38', '4.37', '4.5', '3.97', '4.97', '3.58', '4.92', '4.08', '4.73', '4.88', '4.55', '4.62', '4.38', '5', '4.7', '4.51', '4.97', '4.18', '4.35', '4.1', '4.4', '4.45', '4.23']\n",
      "https://www.beeradvocate.com/beer/profile/259/1708/?view=beer&sort=&start=725\n",
      "['4.28', '4.05', '4.58', '3.98', '4.08', '3.7', '3.6', '4.54', '4.58', '4.38', '5', '4.21', '4.7', '4.42', '4.15', '5', '4.65', '4.23', '4.5', '4.52', '4.5', '4.47', '4.92', '4.23', '3.7']\n"
     ]
    },
    {
     "name": "stdout",
     "output_type": "stream",
     "text": [
      "https://www.beeradvocate.com/beer/profile/259/1708/?view=beer&sort=&start=750\n",
      "['4.14', '4.8', '4.47', '4.38', '4.17', '3.15', '4.63', '4.68', '4.25', '4.11', '4.6', '4.42', '4.97', '4.03', '4.38', '4.38', '4.38', '4.52', '4.52', '4.29', '5', '4.48', '4.67', '4.38', '4.44']\n",
      "https://www.beeradvocate.com/beer/profile/259/1708/?view=beer&sort=&start=775\n",
      "['4.53', '5', '4.47', '4.47', '4.52', '4.85', '4.48', '4.38', '4.77', '4.58', '4.62', '4.51', '4.66', '4.15', '4.7', '4.1', '4.92', '4.1', '4.34', '4.75', '3.53', '4.29', '4.89', '4.4', '4.85']\n",
      "https://www.beeradvocate.com/beer/profile/259/1708/?view=beer&sort=&start=800\n",
      "['4.65', '4.54', '4.8', '4.05', '4.68', '4.55', '4.8', '4.75', '4.53', '4.47', '4.5', '4.8', '4.38', '4.62', '4.38', '4.35', '4.42', '4.5', '4.45', '4.45', '4.21', '4.75', '4.45', '4.32', '4.38']\n",
      "https://www.beeradvocate.com/beer/profile/259/1708/?view=beer&sort=&start=825\n",
      "['4.47', '4.38', '4.55', '4.88', '4.9', '4.64', '4.73', '4.67', '4', '4.8', '3.98', '4.23', '4.5', '4.82', '5', '4.79', '4.43', '4.35', '4.5', '4.67', '4.75', '4.18', '4.35', '4.88', '4.3']\n",
      "https://www.beeradvocate.com/beer/profile/259/1708/?view=beer&sort=&start=850\n",
      "['4.42', '4.78', '5', '4.45', '4.67', '4.43', '4.35', '4.2', '4.84', '4.54', '4.78', '4.23', '4.29', '3.95', '4.93', '4.05', '4.67', '4.28', '3.38', '4.7', '4.5', '4.27', '4.65', '3.03', '4.38']\n",
      "https://www.beeradvocate.com/beer/profile/259/1708/?view=beer&sort=&start=875\n",
      "['4.64', '4.59', '4.32', '4.55', '4.38', '4.5', '4.5', '4.85', '4.67', '4.53', '4.4', '4.26', '4.42', '4.65', '4.4', '4.87', '4.22', '4.12', '3.46', '3.53', '4.85', '3.79', '4.5', '4.54', '4.58']\n",
      "https://www.beeradvocate.com/beer/profile/259/1708/?view=beer&sort=&start=900\n",
      "['4.92', '4.95', '4.97', '4.88', '4.4', '4.32', '4.59', '4.48', '3.55', '4.09', '4.29', '4.67', '4.47', '4.32', '4.8', '4.38', '4.42', '4.3', '3.68', '4.7', '4.3', '4.33', '4.85', '4.27', '4.38']\n",
      "https://www.beeradvocate.com/beer/profile/259/1708/?view=beer&sort=&start=925\n",
      "['3.92', '4.4', '4.37', '4.48', '4.41', '3.89', '3.97', '4.45', '4.2', '4.33', '4.33', '4.17', '4.78', '4.45', '4.32', '4.35', '4.03', '4.05', '4.1', '4.42', '3.97', '4.7', '4.07', '4.8', '4.55']\n",
      "https://www.beeradvocate.com/beer/profile/259/1708/?view=beer&sort=&start=950\n",
      "['4.75', '4.43', '4.42', '4.32', '3.43', '4.23', '4.3', '4.27', '3.81', '3.83', '4.38', '4.3', '4.92', '3.6', '4.33', '4.13', '4.6', '4.45', '4.18', '4.3', '5', '4.35', '4.47', '4.47', '4.02']\n",
      "https://www.beeradvocate.com/beer/profile/259/1708/?view=beer&sort=&start=975\n",
      "['4.22', '4.45', '4.35', '4.37', '3.8', '4.72', '4.08', '4.74', '4.75', '4.16', '4.67', '4.47', '4.23', '4.97', '4.7', '4.42', '4.38', '4.09', '3.97', '4.25', '4.5', '4.82', '4.82', '4.2', '4.13']\n",
      "https://www.beeradvocate.com/beer/profile/259/1708/?view=beer&sort=&start=1000\n",
      "['4.85', '4.8', '3.98', '4.62', '4.05', '4.05', '4.7', '3.91', '4.75', '4.21', '4.15', '4.62', '4.21', '4.55', '4.18', '5', '4.35', '4.25', '4.24', '3.4', '2.89', '4.35', '4.5', '4.7', '4.41']\n",
      "https://www.beeradvocate.com/beer/profile/259/1708/?view=beer&sort=&start=1025\n",
      "['4.25', '4.7', '4.55', '4.63', '4.82', '4.92', '4.4', '4.38', '4.58', '3.96', '4.37', '4.65', '4', '4.74', '4.1', '4.3', '4.65', '3.8', '4.64', '4.23', '4.58', '4.42', '3.83', '4.13', '4.7']\n",
      "https://www.beeradvocate.com/beer/profile/259/1708/?view=beer&sort=&start=1050\n",
      "['3.88', '4.33', '4.67', '3.68', '4.42', '4.65', '4.39', '4.82', '4.12', '4.58', '4.47', '4.21', '4.05', '4.5', '4.35', '4.42', '4.74', '4.72', '3.88', '4.83', '4.82', '4.65', '4.38', '4.46', '4.5']\n",
      "https://www.beeradvocate.com/beer/profile/259/1708/?view=beer&sort=&start=1075\n",
      "['3.51', '4.57', '4.5', '4.88', '4.4', '4.42', '4.8', '3.85', '4.94', '4.11', '4.35', '3.52', '4.95', '4.25', '4.5', '4.5', '3.65', '4.43', '4.05', '4.08', '4.41', '4.45', '4.5', '4.05', '4.13']\n",
      "https://www.beeradvocate.com/beer/profile/259/1708/?view=beer&sort=&start=1100\n",
      "['4.8', '4.08', '4.42', '4.37', '4.18', '4.06', '4.05', '4.35', '4.13', '3.93', '4.27', '4.82', '4.28', '5', '4.47', '4.03', '3.88', '3.8', '4.46', '3.31', '4.06', '4.87', '4.33', '4.52', '4.13']\n",
      "https://www.beeradvocate.com/beer/profile/259/1708/?view=beer&sort=&start=1125\n",
      "['4.67', '4.23', '5', '4.82', '4.28', '4.62', '4.28', '4.6', '4.68', '4.2', '4.15', '4.38', '4.53', '4.38', '4.85', '4.78', '4.16', '4.45', '4.3', '4.47', '4.25', '4.8', '4.47', '3.48', '4.23']\n",
      "https://www.beeradvocate.com/beer/profile/259/1708/?view=beer&sort=&start=1150\n",
      "['4.95', '5', '4.82', '4.49', '4.36', '3.96', '4.31', '4.57', '4.53', '4.32', '4.6', '4.38', '4.25', '4.6', '4', '4.57', '4.53', '4.33', '5', '4.08', '4.1', '4.12', '4.56', '4.35', '4.59']\n",
      "https://www.beeradvocate.com/beer/profile/259/1708/?view=beer&sort=&start=1175\n",
      "['4.25', '4.35', '4.58', '4.13', '4.13', '5', '4.67', '4.25', '4.35', '4.3', '4.4', '3.96', '4.52', '4.25', '4.8', '4.5', '4.2', '3.83', '4.94', '4.37', '3.55', '4.45', '4.68', '4.85', '4.37']\n",
      "https://www.beeradvocate.com/beer/profile/259/1708/?view=beer&sort=&start=1200\n",
      "['4.65', '4.32', '4.42', '4.72', '4.45', '4.2', '4.97', '4.48', '4.57', '4.52', '4.33', '4.42', '4.7', '3.88', '4.54', '3.93', '4.22', '4.42', '4.38', '4.32', '4.3', '4.1', '4.45', '4.05', '4.05']\n",
      "https://www.beeradvocate.com/beer/profile/259/1708/?view=beer&sort=&start=1225\n",
      "['4.12', '3.84', '4.6', '4.33', '4.83', '2.59', '4.75', '4.38', '5', '4.6', '4.42', '4.65', '4.78', '4.38', '4.5', '4.42', '4.38', '4.12', '3.95', '4.38', '4.42', '4.1', '4.45', '4', '4.52']\n",
      "https://www.beeradvocate.com/beer/profile/259/1708/?view=beer&sort=&start=1250\n",
      "['4.2', '3.97', '4.3', '4.37', '4.32', '4.55', '4.42', '4.47', '4.33', '4.38', '4.82', '4.79', '4.73', '4.42', '4.47', '4.33', '4.44', '4.32', '4.42', '4.05', '4.55', '3.91', '4.35', '4.35', '3.81']\n",
      "https://www.beeradvocate.com/beer/profile/259/1708/?view=beer&sort=&start=1275\n",
      "['4.05', '4.5', '4.35', '3.96', '4.13', '4.02', '4.47', '4.35', '4.2', '4.42', '4.5', '4.47', '4.01', '4.08', '4.22', '4.5', '4.43', '4.67', '4.82', '4.47', '4.38', '4.08', '4.53', '4.08', '4.8']\n",
      "https://www.beeradvocate.com/beer/profile/259/1708/?view=beer&sort=&start=1300\n",
      "['4.32', '4.65', '4.6', '4.23', '4.43', '4.31', '3.9', '4.8', '4.32', '4.5', '4.38', '4.5', '4.5', '2.78', '4.48', '3.85', '4.7', '4.48', '4.28', '4.42', '4.55', '4', '4.57', '4.19', '4.38']\n",
      "https://www.beeradvocate.com/beer/profile/259/1708/?view=beer&sort=&start=1325\n",
      "['4.42', '4.65', '4.16', '4.42', '4.5', '4.45', '4.57', '4.41', '4.3', '4.5', '4.56', '5', '4.75', '4.72', '4.35', '4.22', '4.44', '4.89', '4.05', '4.5', '4.32', '4.75', '4.41', '3.33', '4.92']\n",
      "https://www.beeradvocate.com/beer/profile/259/1708/?view=beer&sort=&start=1350\n",
      "['4.42', '4.7', '4.77', '4.35', '4.5', '4.5', '4.35', '4.95', '4.1', '4.1', '4.33', '4.22', '4', '4.22', '4.4', '4.42', '4.5', '4.23', '3.98', '4.3', '4.72', '4.45', '4.74', '4.62', '4.03']\n",
      "https://www.beeradvocate.com/beer/profile/259/1708/?view=beer&sort=&start=1375\n",
      "['3.67', '3.92', '4.7', '2.58', '4', '4.05', '4.32', '4.91', '3.2', '5', '4.48', '4.6', '3.9', '4.58', '4.35', '4.68', '4.55', '4.37', '4.37', '4.06', '4.8', '4.5', '4.53', '4.33', '4.44']\n",
      "https://www.beeradvocate.com/beer/profile/259/1708/?view=beer&sort=&start=1400\n",
      "['4.25', '4.16', '4.57', '4.42', '4.39', '4.25', '4.08', '4.32', '4.28', '4.5', '4.83', '4.33', '4.42', '4.28', '4.37', '3.92', '4.4', '4.77', '4.54', '4.26', '4.7', '4.73', '4.28', '4.45', '4.65']\n",
      "https://www.beeradvocate.com/beer/profile/259/1708/?view=beer&sort=&start=1425\n",
      "['4.43', '4.23', '4.53', '4.62', '4.4', '4.47', '4.77', '4.25', '4.72', '4.5', '4.33', '4.05', '4.63', '4.77', '4.32', '4.1', '4.57', '4.4', '4.35', '4.3', '4.42', '3.36', '4.82', '4.53', '4.21']\n",
      "https://www.beeradvocate.com/beer/profile/259/1708/?view=beer&sort=&start=1450\n",
      "['4.2', '4.56', '4.58', '4.23', '4.68', '4.67', '4.82', '4.42', '4', '4.58', '4.37', '4.03', '4.33', '4.45', '4.45', '4.42', '4.2', '5', '4.1', '4.47', '4.71', '4.67', '4.47', '4.4', '4.42']\n",
      "https://www.beeradvocate.com/beer/profile/259/1708/?view=beer&sort=&start=1475\n",
      "['4.62', '4.65', '4.62', '4.14', '4.32', '4', '4.37', '4.03', '4.5', '4.57', '4.01', '4.7', '4.47', '4.36', '4.12', '4', '4.96', '4.57', '4.45', '4.28', '4.32', '4.52', '5', '4.35', '4.53']\n",
      "https://www.beeradvocate.com/beer/profile/259/1708/?view=beer&sort=&start=1500\n",
      "['4.9', '3.94', '4.47', '4.2', '4.03', '4.45', '4.4', '4.5', '4.38', '4.68', '4.15', '4.59', '4.82', '4.75', '4.45', '4.38', '4.38', '4.43', '4', '4', '4.74', '4.48', '4.47', '4.65', '4.62']\n"
     ]
    },
    {
     "name": "stdout",
     "output_type": "stream",
     "text": [
      "https://www.beeradvocate.com/beer/profile/259/1708/?view=beer&sort=&start=1525\n",
      "['4.75', '4.46', '4.38', '4.39', '4.22', '4.33', '4.3', '4.23', '4.38', '4.97', '4.8', '4.47', '4.64', '4.4', '4.2', '3.93', '4.42', '4.35', '4.72', '4.02', '4.65', '4.15', '4.63', '4.35', '4.38']\n",
      "https://www.beeradvocate.com/beer/profile/259/1708/?view=beer&sort=&start=1550\n",
      "['4.7', '4', '4.45', '4.31', '4.94', '3.98', '4.21', '4.5', '4.89', '4.05', '4.5', '4.05', '4.4', '4.75', '3.61', '4.67', '4.53', '4.47', '4.65', '4.2', '4.67', '4.75', '4.35', '4.23', '4.35']\n",
      "https://www.beeradvocate.com/beer/profile/259/1708/?view=beer&sort=&start=1575\n",
      "['3.68', '4.27', '4.7', '4.32', '4.35', '4.33', '4.28', '4.95', '4.59', '4.33', '4.77', '4.6', '4.73', '4.45', '4', '4.25', '4.32', '4.23', '4.77', '4.92', '4.51', '4.52', '4.32', '4.5', '4.18']\n",
      "https://www.beeradvocate.com/beer/profile/259/1708/?view=beer&sort=&start=1600\n",
      "['4.45', '4.58', '4.17', '4.25', '4.08', '3.7', '4.6', '4.26', '3.98', '4.84', '4.03', '4.13', '4.68', '4.63', '5', '4.7', '4.27', '4.45', '4.37', '4.6', '4.5', '4.45', '4.42', '4.47', '4.3']\n",
      "https://www.beeradvocate.com/beer/profile/259/1708/?view=beer&sort=&start=1625\n",
      "['4.35', '4.3', '3.93', '4.6', '4.3', '4.24', '4.15', '4.64', '4.7', '4.37', '4', '4.65', '4.38', '4.47', '4.87', '4.92', '4.02', '4.52', '4', '4.15', '4.3', '4.77', '4.53', '4.6', '4.7']\n",
      "https://www.beeradvocate.com/beer/profile/259/1708/?view=beer&sort=&start=1650\n",
      "['4.7', '4.5', '4.48', '4.65', '4.84', '4.25', '4.05', '4.18', '4.44', '4.36', '4.87', '3.65', '4.22', '4.72', '4.88', '3.43', '4.4', '4.59', '3.73', '4.67', '4.43', '4.5', '3.75', '4.35', '4.97']\n",
      "https://www.beeradvocate.com/beer/profile/259/1708/?view=beer&sort=&start=1675\n",
      "['4.05', '4.5', '4.5', '4.62', '4.22', '4.57', '4.47', '5', '4.45', '3.95', '4.95', '4.7', '4.17', '4.6', '4.42', '4.23', '4.05', '4.57', '4.97', '4.52', '4.2', '4.5', '4.2', '3.02', '4.88']\n",
      "https://www.beeradvocate.com/beer/profile/259/1708/?view=beer&sort=&start=1700\n",
      "['5', '4.28', '5', '4.52', '4.07', '4.5', '4.59', '4.2', '4.4', '4.4', '4.32', '4.73', '3.66', '3.51', '4.2', '4.67', '4.6', '4.5', '4.47', '4.55', '4.48', '4', '4.07', '4.35', '4.36']\n",
      "https://www.beeradvocate.com/beer/profile/259/1708/?view=beer&sort=&start=1725\n",
      "['4.33', '4.5', '4.03', '4.41', '4.82', '4.92', '3.33', '4.2', '4.15', '4.6', '4.78', '4.76', '4.13', '4.2', '3.9', '4.95', '4.2', '4.32', '4.74', '4.37', '3.62', '4.85', '4.5', '4.38', '4.62']\n",
      "https://www.beeradvocate.com/beer/profile/259/1708/?view=beer&sort=&start=1750\n",
      "['4.75', '4.7', '4.77', '4.22', '4.7', '3.93', '4.37', '4.38', '4.32', '4.4', '4.25', '3.75', '4', '4.62', '4.44', '3.79', '4.82', '4.9', '4.45', '4.85', '4.25', '4.45', '4.52', '4.6', '4.82']\n",
      "https://www.beeradvocate.com/beer/profile/259/1708/?view=beer&sort=&start=1775\n",
      "['4.35', '5', '4.58', '4.5', '3.96', '4.82', '3.82', '3.1', '4.28', '4.82', '4.73', '4.6', '4.31', '4.43', '4.03', '4.72', '5', '4.54', '4.23', '4.8', '4.5', '4.67', '4.22', '4.35', '4.18']\n",
      "https://www.beeradvocate.com/beer/profile/259/1708/?view=beer&sort=&start=1800\n",
      "['4.21', '4.12', '4.38', '4.7', '4.62', '4.6', '4.02', '3.93', '4.65', '4.58', '4.62', '4.48', '4.48', '4.35', '4.37', '4.4', '4.63', '4.18', '4.33', '4.63', '4.8', '4.57', '4.55', '3.95', '3.53']\n",
      "https://www.beeradvocate.com/beer/profile/259/1708/?view=beer&sort=&start=1825\n",
      "['4.63', '4.78', '4.33', '4.3', '4.53', '3.9', '3.95', '4.88', '4.66', '4.35', '4.52', '4.87', '4.01', '4.4', '4.3', '4.32', '3.91', '4.97', '4.73', '4', '4.85', '4.57', '4.73', '4.37', '4.85']\n",
      "https://www.beeradvocate.com/beer/profile/259/1708/?view=beer&sort=&start=1850\n",
      "['4.73', '4.85', '4.28', '3.96', '4.38', '4.1', '4.62', '4.68', '4.48', '4.38', '4.52', '4.87', '4.58', '4.7', '4.35', '3.9', '4.4', '4.42', '3.99', '4.3', '4.52', '4.13', '4.95', '4.2', '4.43']\n",
      "https://www.beeradvocate.com/beer/profile/259/1708/?view=beer&sort=&start=1875\n",
      "['4.55', '3.48', '4.76', '4.4', '4.35', '4.01', '4.28', '4.15', '3.36', '4.53', '4', '3.81', '4.03', '3.23', '4.47', '4.6', '4.12', '4.33', '4.3', '4.11', '4.82', '4.47', '4.65', '4.65', '4.7']\n",
      "https://www.beeradvocate.com/beer/profile/259/1708/?view=beer&sort=&start=1900\n",
      "['3.9', '3.92', '3.95', '4.55', '4.82', '4.75', '3.9', '3.95', '4.1', '4.72', '4.37', '4.42', '4.3', '4.53', '4.47', '4.89', '4.28', '4.75', '4.52', '4.15', '4.62', '4.37', '4.67', '4.92', '4.92']\n",
      "https://www.beeradvocate.com/beer/profile/259/1708/?view=beer&sort=&start=1925\n",
      "['4.49', '4.6', '4.03', '4.26', '4.72', '4.02', '4.35', '4.37', '4.23', '4.45', '4', '4.23', '4.42', '4.5', '4.37', '4.77', '4.7', '4.03', '4.07', '3.75', '4.5', '4.75', '4.35', '4.68', '4.25']\n",
      "https://www.beeradvocate.com/beer/profile/259/1708/?view=beer&sort=&start=1950\n",
      "['4.37', '4.23', '4.28', '4.36', '4.25', '4.58', '4.3', '4.35', '4.78', '3.75', '4.83', '4.62', '5', '4.5', '4.3', '4.62', '4.7', '4.45', '4.45', '4.92', '4.5', '4.83', '4.8', '4.23', '4.47']\n",
      "https://www.beeradvocate.com/beer/profile/259/1708/?view=beer&sort=&start=1975\n",
      "['4.85', '4.29', '4.42', '4.2', '3.94', '4.62', '4.47', '4.5', '4.5', '4.39', '4.77', '4.15', '4.5', '4.28', '4.61', '4.43', '4.55', '4.38', '4.7', '4.17', '4.58', '4.5', '4.35', '4.26', '4.32']\n",
      "https://www.beeradvocate.com/beer/profile/259/1708/?view=beer&sort=&start=2000\n",
      "['4.05', '3.76', '4.23', '4.7', '3.85', '4.15', '4.31', '4.45', '4.64', '4', '4.74', '4.2', '4.82', '3.48', '4.33', '4.23', '4.38', '4.1', '4.31', '4.5', '3.25', '4.37', '4.8', '3.81', '4']\n",
      "https://www.beeradvocate.com/beer/profile/259/1708/?view=beer&sort=&start=2025\n",
      "['4.49', '4.47', '4.35', '3.38', '4.57', '4.18', '5', '4.03', '4.58', '4.53', '4.12', '3.92', '4.52', '4.23', '4.53', '4.15', '4.65', '3.86', '4.78', '3.93', '4.35', '4.35', '4.47', '4.67', '4.7']\n",
      "https://www.beeradvocate.com/beer/profile/259/1708/?view=beer&sort=&start=2050\n",
      "['4.48', '3.8', '4.21', '4.38', '4.18', '4.32', '4.32', '5', '4.52', '3.02', '4.68', '4', '2.98', '4.85', '4.8', '4.5', '4.03', '4.4', '4.5', '3.88', '2.38', '4.52', '4.42', '4.18', '4.48']\n",
      "https://www.beeradvocate.com/beer/profile/259/1708/?view=beer&sort=&start=2075\n",
      "['3.91', '4.01', '4.15', '4.32', '4.65', '4.6', '4.7', '4.47', '4.58', '4.64', '4.32', '4.35', '4.53', '4.3', '3.98', '4.62', '4.3', '4.8', '4.45', '4.28', '4.15', '4.88', '4.63', '4.48', '4.23']\n",
      "https://www.beeradvocate.com/beer/profile/259/1708/?view=beer&sort=&start=2100\n",
      "['4.53', '5', '4.25', '4.41', '4.73', '4.45', '3.69', '4.77', '4.42', '4.17', '5', '3.71', '4.26', '4.4', '3.8', '4.72', '4.15', '4.12', '4.68', '4.5', '4.56', '4.59', '3.45', '4.18', '4.5']\n",
      "https://www.beeradvocate.com/beer/profile/259/1708/?view=beer&sort=&start=2125\n",
      "['4.9', '4.06', '4.87', '3.75', '4.02', '3.6', '5', '4.63', '4.23', '4.42', '4.32', '4.45', '4.2', '5', '3.3', '4.12', '4.05', '4.29', '4.32', '4.38', '4.34', '4.5', '4.65', '5', '4.5']\n",
      "https://www.beeradvocate.com/beer/profile/259/1708/?view=beer&sort=&start=2150\n",
      "['4.82', '4.75', '4.9', '4.22', '4.08', '4.4', '4.32', '4.47', '4.23', '3.95', '4.78', '4.08', '4.77', '4.38', '4.35', '3.59', '4.58', '4.8', '4.4', '4.25', '4.21', '3.9', '4.35', '4.5', '4.35']\n",
      "https://www.beeradvocate.com/beer/profile/259/1708/?view=beer&sort=&start=2175\n",
      "['4.87', '4.5', '4.24', '4.67', '4.65', '4', '3.95', '4.5', '4.46', '4.31', '3.27', '4.43', '4.38', '4.52', '4.5', '4.72', '5', '4.33', '4.48', '4', '3.98', '4.75', '4.03', '4.78', '4.75']\n",
      "https://www.beeradvocate.com/beer/profile/259/1708/?view=beer&sort=&start=2200\n",
      "['4.85', '3.65', '4.23', '4.48', '4.63', '4.87', '4.67', '4.58', '4.4', '4.88', '5', '5', '3.97', '4.8', '4.7', '4.35', '4.72', '3.33', '4.55', '4.87', '3.13', '3.78', '4.38', '4.5', '4.36']\n",
      "https://www.beeradvocate.com/beer/profile/259/1708/?view=beer&sort=&start=2225\n",
      "['4.2', '3.94', '4.35', '3.48', '4.36', '4.87', '4.7', '4.47', '4.42', '4.3', '4.72', '4.88', '4.58', '4.22', '4.83', '4.5', '4.53', '3.2', '4.5', '4.08', '4.85', '4.1', '4.25', '4.43', '4.78']\n",
      "https://www.beeradvocate.com/beer/profile/259/1708/?view=beer&sort=&start=2250\n",
      "['4.35', '4', '3.9', '3.88', '4.56', '4.55', '4', '4.97', '3.85', '4.7', '4.87', '4.2', '4.85', '4.6', '3.98', '4.5', '4.5', '3.4', '4.7', '4.38', '4.3', '4.37', '4.57', '4.14', '3.97']\n",
      "https://www.beeradvocate.com/beer/profile/259/1708/?view=beer&sort=&start=2275\n",
      "['4.72', '4.5', '4.29', '4.1', '3.33', '4.25', '3.38', '4.56', '4.53', '4.38', '4.23', '4.15', '4.65', '4.23', '3.91', '4.68', '4.15', '4.13', '4.53', '4.25', '4.14', '4.83', '4.62', '4.18', '3.85']\n"
     ]
    },
    {
     "name": "stdout",
     "output_type": "stream",
     "text": [
      "https://www.beeradvocate.com/beer/profile/259/1708/?view=beer&sort=&start=2300\n",
      "['4.73', '4.62', '3.38', '4.23', '3.94', '4.43', '4.55', '4.26', '4.51', '4.42', '4.5', '4.23', '4.66', '4.67', '4.48', '4.12', '4.72', '4.68', '4.58', '4.55', '4.67', '4.68', '4.97', '4.6', '4.91']\n",
      "https://www.beeradvocate.com/beer/profile/259/1708/?view=beer&sort=&start=2325\n",
      "['4.48', '4.85', '3.24', '4.8', '4.5', '4.45', '4.72', '3.98', '4.69', '3.88', '3.92', '3.53', '3.62', '4.35', '4.3', '4.23', '4.53', '4', '3.97', '4.47', '4.65', '4.6', '4.5', '4.53', '4']\n",
      "https://www.beeradvocate.com/beer/profile/259/1708/?view=beer&sort=&start=2350\n",
      "['3.73', '4.3', '4.52', '4.07', '4.31', '4.65', '4.65', '3.93', '4.7', '3.68', '4.58', '3.87', '2.85', '4.97', '4.44', '4.2', '4.38', '3.96', '4.82', '4.48', '4.63', '4.62', '4.25', '3.46', '4.46']\n",
      "https://www.beeradvocate.com/beer/profile/259/1708/?view=beer&sort=&start=2375\n",
      "['4.52', '4.97', '4.28', '4.77', '4.62', '4.5', '4.47', '4.39', '4.48', '3.7', '4.92', '4.97', '4.5', '4.67', '4.41', '4.26', '4.73', '4.12', '4.67', '4.84', '4.5', '4.28', '4.22', '4.33', '4.26']\n",
      "https://www.beeradvocate.com/beer/profile/259/1708/?view=beer&sort=&start=2400\n",
      "['4.45', '4.72', '4.67', '4.8', '3.85', '4.45', '4.5', '4.7', '4.47', '4.17', '4', '4.62', '4.77', '4.55', '4.67', '4.7', '4.21', '4.2', '4.45', '2.87', '5', '4.79', '4.44', '4.3', '4.08']\n",
      "https://www.beeradvocate.com/beer/profile/259/1708/?view=beer&sort=&start=2425\n",
      "['4.32', '4.23', '4.38', '4.12', '4.67', '4.59', '4.43', '4.6', '4.6', '4.47', '4.53', '4.77', '4.53', '4', '4.65', '4.38', '4.33', '4.53', '3.98', '4.52', '4.22', '2.78', '4.43', '4.8', '3.73']\n",
      "https://www.beeradvocate.com/beer/profile/259/1708/?view=beer&sort=&start=2450\n",
      "['4.41', '3.98', '4.5', '4.34', '4.65', '4.5', '4.88', '5', '4.55', '4.61', '3.38', '4.2', '4.18', '4.75', '4.97', '4.82', '2', '4.06', '4.08', '4.5', '4.92', '4.6', '3.75', '4.23', '3.91']\n",
      "https://www.beeradvocate.com/beer/profile/259/1708/?view=beer&sort=&start=2475\n",
      "['3.68', '4.8', '4.45', '3.66', '4.32', '4.37', '4.48', '4.47', '4.75', '4.55', '4.03', '2.99', '3.83', '4.85', '4.05', '4.15', '4.2', '4.26', '4.25', '4.7', '4.42', '3.95', '4.55', '4.7', '5']\n",
      "https://www.beeradvocate.com/beer/profile/259/1708/?view=beer&sort=&start=2500\n",
      "['4.45', '3.86', '4.26', '4.03', '4.85', '4.7', '4.73', '4.58', '4.43', '4.65', '4.32', '4.5', '4.85', '4.57', '4.67', '3.6', '4.52', '3.58', '4.59', '4.52', '4.6', '4.73', '4.83', '4.52', '4.01']\n",
      "https://www.beeradvocate.com/beer/profile/259/1708/?view=beer&sort=&start=2525\n",
      "['3.16', '4.87', '4.28', '4.36', '4.67', '4.49', '3.91', '4.55', '3.49', '2.98', '4.9', '4.67', '4.68', '4.67', '4.25', '3.87', '4.13', '5', '4.35', '4.5', '3.39', '4.2', '4.68', '4.12', '4.32']\n",
      "https://www.beeradvocate.com/beer/profile/259/1708/?view=beer&sort=&start=2550\n",
      "['4.97', '4.05', '4.7', '4.53', '4.83', '4.47', '4.23', '4.48', '4.16', '4.68', '3.58', '3.03', '4.7', '4.2', '5', '4.83', '4.77', '4.5', '4.45', '4.7', '4.8', '4.64', '4.5', '4.31', '3.4']\n",
      "https://www.beeradvocate.com/beer/profile/259/1708/?view=beer&sort=&start=2575\n",
      "['4.45', '4.88', '4.55', '4.5', '4.6', '4.8', '4.57', '4.35', '4.05', '3.68', '4.7', '4.07', '4.7', '4.68', '4.68', '4.04', '4.5', '4.6', '4.23', '4.38', '4.78', '4.75', '4.58', '4.77', '4.75']\n",
      "https://www.beeradvocate.com/beer/profile/259/1708/?view=beer&sort=&start=2600\n",
      "['4.82', '4.85', '4.78', '4.6', '4.47', '4.75', '4.58', '4.9', '4.55', '4.87', '4.38', '5', '4.78', '4.7', '4.47', '4.94', '4.88', '4.8', '4.75', '4.4', '3.91', '4.37', '4.3', '4.27', '3.96']\n",
      "https://www.beeradvocate.com/beer/profile/259/1708/?view=beer&sort=&start=2625\n",
      "['4.38', '4.85', '4.82', '2.39', '4.44', '4.38', '4.7', '4.45', '4.87', '4.38', '4.25', '4', '4.48', '4.77', '4.5', '5', '4.73', '4.54', '4.55', '4.12', '4.24', '4.5', '4.83', '4.1', '4.25']\n",
      "https://www.beeradvocate.com/beer/profile/259/1708/?view=beer&sort=&start=2650\n",
      "['4.85', '4.73', '4.97', '4.57', '4.38', '4.73', '4.38', '4.13', '4.22', '4.43', '4.06', '4.7', '4.58', '4.65', '5', '4.73', '4.85', '4.45', '4.83', '4.7', '4.85', '4.6', '4.3', '4.7', '4.9']\n",
      "https://www.beeradvocate.com/beer/profile/259/1708/?view=beer&sort=&start=2675\n",
      "['4.6', '4.55', '4.3', '4.58', '3.68', '4.55', '4.8', '4.18', '4.25', '4.36', '4.82', '4.45', '4.42', '4.87', '4.57', '4.41', '4.8', '4.25', '4.95', '4.42', '3.83', '4.92', '4.85', '4.58', '4.38']\n",
      "https://www.beeradvocate.com/beer/profile/259/1708/?view=beer&sort=&start=2700\n",
      "['4.42', '4.75', '4.84', '4.32', '4.35', '4.97', '4.53', '4.73', '5', '4.3', '4.27', '4.58', '4.97', '4.87', '4.6', '4.65', '4.75', '3.54', '4.83', '4.4', '4.05', '4.4', '4.7', '4.52', '5']\n",
      "https://www.beeradvocate.com/beer/profile/259/1708/?view=beer&sort=&start=2725\n",
      "['5', '4.43', '3.58', '5', '4.55', '4.73', '3.65', '4.97', '4.7', '4.6', '4.88', '4.95', '4.25', '4.68', '4.23', '4.78', '4.72', '4.4', '4.83', '4.38', '4.21', '4.55', '4.45', '4.08', '4.61']\n",
      "https://www.beeradvocate.com/beer/profile/259/1708/?view=beer&sort=&start=2750\n",
      "['4.35', '4.42', '4.23', '4.2', '4.28', '4.83', '4.65', '4.2', '3.95', '4.45', '4.11', '4.23', '4.41', '4.82', '4.5', '4.97', '3.53', '4.03', '3.43', '4.62', '4.43', '4', '4.28', '3.94', '4.46']\n",
      "https://www.beeradvocate.com/beer/profile/259/1708/?view=beer&sort=&start=2775\n",
      "['4.7', '4.5', '4.25', '4.29', '4.5', '3.72', '4.85', '4.5', '4.69', '4.77', '4.9', '4.4', '4.2', '4.85', '4.37', '4.45', '4.53', '4.76', '4.75', '4.77', '4.83', '4.67', '4.67', '4.9', '4.43']\n",
      "https://www.beeradvocate.com/beer/profile/259/1708/?view=beer&sort=&start=2800\n",
      "['4.88', '4.47', '4.48', '3.88', '4.62', '4.67', '3.78', '4.85', '4.44', '4.47', '4.8', '4.48', '4.53', '4.7', '4.82', '4', '4.12', '5', '4.83', '4.2', '4.82', '4.75', '4.58', '4.67', '4.85']\n",
      "https://www.beeradvocate.com/beer/profile/259/1708/?view=beer&sort=&start=2825\n",
      "['4.38', '4.23', '4.35', '4.42', '4.1', '4.03', '4.59', '4.74', '5', '4.03', '4.5', '4.85', '4.45', '5', '4.61', '3.94', '4.7', '4.75', '4.5', '4.78', '4.82', '4.85', '4.1', '4.58', '3.75']\n",
      "https://www.beeradvocate.com/beer/profile/259/1708/?view=beer&sort=&start=2850\n",
      "['3.55', '4.97', '4.88', '4.05', '5', '4.45', '4.28', '4.18', '4.47', '4.47', '4.63', '3.55', '4.38', '4.82', '4.43', '3.45', '4.58', '4.48', '4.58', '4.63', '4.75', '4.73', '4.88', '4.73', '4']\n",
      "https://www.beeradvocate.com/beer/profile/259/1708/?view=beer&sort=&start=2875\n",
      "['4.3', '5', '2.93', '4', '4.87', '4.22', '5', '4.78', '4.8', '4.89', '4.42', '4.38', '4.5', '4.37', '4.38', '4.57', '4.47', '4.28', '4.08', '3.73', '4.33', '4.6', '4.57', '4.85', '4.4']\n"
     ]
    },
    {
     "name": "stderr",
     "output_type": "stream",
     "text": [
      "\r",
      "22it [46:00, 289.31s/it]"
     ]
    },
    {
     "name": "stdout",
     "output_type": "stream",
     "text": [
      "https://www.beeradvocate.com/beer/profile/259/1708/?view=beer&sort=&start=2900\n",
      "['4.5', '4.79', '4.95', '4.75', '4.57', '4.85', '4.77', '5', '4.92', '2.73', '4.6', '4.38', '4.55', '4.55']\n",
      "https://www.beeradvocate.com/beer/profile/57/2803/?view=beer&sort=&start=0\n",
      "['1.49', '2.01', '1.96', '3.69', '2.02', '3.83', '2.92', '1.84', '1.87', '2.87', '3.69', '1.72', '2.06', '3.24', '2.4', '2.84', '2.93', '1.56', '1.52', '2.67', '2', '3.2', '3.36', '2.31', '2.93']\n",
      "https://www.beeradvocate.com/beer/profile/57/2803/?view=beer&sort=&start=25\n",
      "['3.35', '3.45', '3.31', '2.44', '3', '2.34', '3.37', '2.92', '2.12', '2.84', '3.46', '3.25', '3.8', '3.49', '3.64', '3.25', '1.51', '1.84', '2.99', '2.06', '1.9', '2.88', '3.37', '1.85', '2.46']\n",
      "https://www.beeradvocate.com/beer/profile/57/2803/?view=beer&sort=&start=50\n",
      "['2.5', '2.19', '1.75', '2', '2.85', '3.35', '2.19', '1.49', '2.22', '3.39', '1.47', '2.41', '1.63', '2.22', '2.5', '2.37', '2.54', '2.78', '2.3', '2.4', '3.04', '2.89', '3', '3.22', '2.88']\n",
      "https://www.beeradvocate.com/beer/profile/57/2803/?view=beer&sort=&start=75\n",
      "['3.23', '2.26', '1.32', '2.26', '3.99', '2.67', '3.58', '3', '2.3', '2.12', '1', '3.74', '4', '3', '3', '2.9', '5', '2.75', '3.25', '2.56', '1.79', '3.28', '2.61', '2.27', '2.51']\n",
      "https://www.beeradvocate.com/beer/profile/57/2803/?view=beer&sort=&start=100\n",
      "['2.71', '3', '2.13', '2.79', '2.8', '2.06', '2.84', '2.75', '3', '2.13', '4.76', '3.73', '2.71', '1.71', '2.68', '1.98', '3.18', '2.09', '2.12', '2.17', '2.27', '3.09', '1.99', '1.47', '2.1']\n",
      "https://www.beeradvocate.com/beer/profile/57/2803/?view=beer&sort=&start=125\n",
      "['2.32', '2.57', '3.96', '2.28', '2.73', '2.56', '3.03', '2.05', '1.83', '2.51', '2.46', '2.41', '1.97', '1.73', '2.83', '2.58', '2.82', '1.49', '2.62', '2.26', '3.93', '3.15', '2.35', '2.5', '2.16']\n",
      "https://www.beeradvocate.com/beer/profile/57/2803/?view=beer&sort=&start=150\n",
      "['2.24', '2.38', '2.51', '2.53', '2.53', '2.95', '2.35', '2.7', '3.53', '3.08', '3.7', '2.82', '1.98', '2.43', '1.95', '1.94', '2.73', '1.83', '2.53', '2.18', '2.36', '2.56', '2.51', '3.35', '2.38']\n",
      "https://www.beeradvocate.com/beer/profile/57/2803/?view=beer&sort=&start=175\n",
      "['3.98', '2.76', '2.26', '3.13', '2.15', '3.4', '3.2', '3.74', '2.05', '1.9', '2', '1.56', '1.83', '1.41', '2.56', '2.38', '2.3', '2.74', '3.21', '3', '2.41', '2.94', '2.1', '2.33', '2.52']\n",
      "https://www.beeradvocate.com/beer/profile/57/2803/?view=beer&sort=&start=200\n",
      "['2.58', '1.85', '2', '2.18', '2.26', '2.68', '2.29', '1.84', '2.41', '2.53', '1.43', '2.85', '2.1', '2.36', '2.18', '1.86', '3.98', '1.85', '2.43', '2.53', '1.64', '2.78', '3.19', '2.66', '2.3']\n",
      "https://www.beeradvocate.com/beer/profile/57/2803/?view=beer&sort=&start=225\n",
      "['2.36', '2.55', '2.2', '2.47', '1.46', '1.86', '3.51', '1.4', '3.6', '3', '2.75', '2.18', '2.74', '3.37', '1.4', '3', '2.08', '2.23', '2.73', '2.33', '2.25', '3.57', '1.53', '4', '1.55']\n",
      "https://www.beeradvocate.com/beer/profile/57/2803/?view=beer&sort=&start=250\n",
      "['2.65', '2.56', '2.43', '2.3', '2.72', '2.21', '2.48', '2.92', '2.28', '3.35', '2.96', '2.1', '2.01', '3.26', '2.74', '1.52', '1.69', '3', '2.61', '1.23', '2.62', '2.18', '2.5', '2.83', '1.88']\n",
      "https://www.beeradvocate.com/beer/profile/57/2803/?view=beer&sort=&start=275\n",
      "['2.1', '1.86', '2.28', '2.92', '3.4', '2', '2.4', '1.88', '2.35', '3.13', '2.16', '3.2', '2.65', '2.88', '1.61', '3.48', '1.73', '2.92', '3.12', '1.86', '4.52', '2.65', '2.33', '2.77', '1.6']\n",
      "https://www.beeradvocate.com/beer/profile/57/2803/?view=beer&sort=&start=300\n",
      "['3.15', '3.42', '1.95', '4.04', '3.02', '2.3', '1.83', '2.22', '2.24', '2.45', '2.35', '1.67', '2.62', '1.8', '3.26', '2.12', '3.45', '1.35', '1.88', '3.6', '3.12', '3.3', '1.47', '1.53', '3.28']\n",
      "https://www.beeradvocate.com/beer/profile/57/2803/?view=beer&sort=&start=325\n",
      "['3.38', '3.46', '2.58', '1.93', '2.6', '1.85', '2.35', '2.53', '2.5', '1.55', '2.21', '2.55', '2.98', '1.74', '3.17', '1.73', '1.91', '2.85', '2.95', '2.5', '3.17', '1.75', '2.78', '2.5', '2.6']\n",
      "https://www.beeradvocate.com/beer/profile/57/2803/?view=beer&sort=&start=350\n",
      "['3.1', '2.6', '2.7', '2.28', '3.01', '2.9', '2.32', '2.66', '1.8', '1.82', '1.77', '1.83', '2.53', '2.77', '2.41', '2.92', '2.95', '3.88', '1.93', '3.33', '2.08', '1.13', '1.99', '2.69', '2.88']\n",
      "https://www.beeradvocate.com/beer/profile/57/2803/?view=beer&sort=&start=375\n",
      "['4.04', '1.91', '2.73', '2.66', '1.58', '1.98', '2.82', '3.15', '1.82', '2.63', '2.63', '2.13', '2.68', '3.4', '2.46', '3.63', '2.68', '2.98', '3.15', '3.12', '2.25', '2.45', '2.4', '2.62', '2.58']\n",
      "https://www.beeradvocate.com/beer/profile/57/2803/?view=beer&sort=&start=400\n",
      "['2.2', '2.77', '2.47', '2.65', '1.9', '1.92', '2.77', '2.6', '2.3', '2.6', '3.12', '2', '1.95', '1.98', '2.62', '2.28', '2.25', '2.93', '2.03', '2.8', '1.17', '1.8', '3.21', '2.04', '2.2']\n"
     ]
    },
    {
     "name": "stderr",
     "output_type": "stream",
     "text": [
      "\r",
      "23it [47:46, 234.28s/it]"
     ]
    },
    {
     "name": "stdout",
     "output_type": "stream",
     "text": [
      "https://www.beeradvocate.com/beer/profile/57/2803/?view=beer&sort=&start=425\n",
      "['1.72', '2.43', '1.36', '3.15', '1.48', '2.4', '2.4', '2.43', '3.07', '2.03']\n",
      "https://www.beeradvocate.com/beer/profile/367/976/?view=beer&sort=&start=0\n",
      "['3.56', '2.89', '3.34', '2.96', '4.28', '3.31', '3.27', '3.62', '3.19', '4.5', '3.3', '3.59', '3.8', '3.75', '3.44', '3.48', '1.83', '3.63', '3.1', '3.12', '3.62', '3.24', '3.51', '2.44', '3.13']\n",
      "https://www.beeradvocate.com/beer/profile/367/976/?view=beer&sort=&start=25\n",
      "['2.8', '3.15', '3', '4', '2.54', '3.75', '2.79', '3.25', '3.29', '3.3', '2.93', '2.96', '3.03', '3.2', '2.9', '3.33', '2.96', '2.64', '2.48', '2.76', '2.27', '3.58', '2.52', '3.2', '3.75']\n",
      "https://www.beeradvocate.com/beer/profile/367/976/?view=beer&sort=&start=50\n",
      "['3.56', '2.09', '2.21', '2.85', '3.05', '3.27', '2.51', '3.66', '3.73', '3', '2.42', '3.48', '2.73', '3.75', '4.38', '2.91', '2.66', '3.96', '3.53', '2.38', '2.11', '2.67', '2.77', '4', '3.79']\n",
      "https://www.beeradvocate.com/beer/profile/367/976/?view=beer&sort=&start=75\n",
      "['3.5', '5', '3.68', '3.77', '3.04', '1.97', '2.89', '3.23', '3.09', '2.79', '3.43', '3.38', '5', '2.56', '3.39', '2.87', '3.12', '3.35', '3.28', '2.96', '2.91', '2.65', '4.94', '4.1', '2.84']\n",
      "https://www.beeradvocate.com/beer/profile/367/976/?view=beer&sort=&start=100\n",
      "['3.3', '2.83', '3.35', '2.96', '3.63', '3.05', '3.55', '2.35', '2.83', '2.99', '4.48', '3.3', '3.3', '3.85', '3.33', '2.91', '3.4', '3.42', '3.35', '2.97', '3.63', '2.73', '2.96', '2.53', '3.29']\n",
      "https://www.beeradvocate.com/beer/profile/367/976/?view=beer&sort=&start=125\n",
      "['3.42', '2.67', '3.4', '3.34', '4.55', '3', '3.76', '2.38', '3.57', '3.27', '3.97', '3.55', '3.8', '3.95', '4', '3.3', '3.55', '3.5', '3.45', '3.35', '3.42', '3.5', '2.26', '3.83', '3.73']\n",
      "https://www.beeradvocate.com/beer/profile/367/976/?view=beer&sort=&start=150\n",
      "['2.55', '2.74', '2.96', '2.91', '2.81', '2.53', '3.49', '2.99', '2.83', '3.08', '3.27', '1.82', '3.85', '2.28', '3.38', '3.8', '2.38', '3.1', '2.7', '2.79', '3', '2.47', '2.78', '3', '2.88']\n",
      "https://www.beeradvocate.com/beer/profile/367/976/?view=beer&sort=&start=175\n",
      "['3.5', '3.23', '3.95', '2.72', '3.48', '3.08', '2.12', '2.28', '2.7', '2.75', '2.62', '3.2', '3.08', '3.72', '3.15', '4', '2.48', '2.78', '2.58', '2.85', '3.18', '2.89', '3.16', '3.1', '3.55']\n",
      "https://www.beeradvocate.com/beer/profile/367/976/?view=beer&sort=&start=200\n",
      "['3.65', '2.89', '3.41', '3.06', '2.9', '3.02', '2', '3.27', '2.9', '3.62', '3.13', '3.38', '3.5', '3.3', '2.53', '3.35', '2.89', '4.13', '3.08', '3.6', '3.45', '3.11', '3', '3.22', '1.95']\n",
      "https://www.beeradvocate.com/beer/profile/367/976/?view=beer&sort=&start=225\n",
      "['3.03', '2.75', '3.06', '3.1', '3.13', '2.85', '3.38', '3.34', '1.94', '3.36', '3.62', '2.06', '2.83', '4.04', '2.5', '2.63', '2.28', '4.06', '3', '3.6', '4.25', '3.33', '3.18', '3.88', '4.37']\n",
      "https://www.beeradvocate.com/beer/profile/367/976/?view=beer&sort=&start=250\n",
      "['2.37', '3.38', '1.8', '1.65', '3.85', '3.62', '3.65', '3.6', '2.42', '2.65', '3.22', '3.18', '3.48', '1.76', '3.48', '2.3', '2.65', '4.24', '3.55', '3.6', '3.53', '1.45', '2.92', '3.18', '3.18']\n",
      "https://www.beeradvocate.com/beer/profile/367/976/?view=beer&sort=&start=275\n",
      "['2.88', '3.3', '2.33', '3.31', '3.13', '2.95', '3.18', '1.9', '3.2', '3.82', '3.5', '3.18', '4.12', '2.96', '2.78', '3.3', '3', '2.68', '2.93', '3.49', '3.88', '2.46', '3.07', '3.2', '2.3']\n",
      "https://www.beeradvocate.com/beer/profile/367/976/?view=beer&sort=&start=300\n",
      "['3.15', '3.49', '3.68', '3.62', '3.03', '3.26', '2', '2.36', '2.78', '2.77', '3.28', '2.88', '2.82', '2.9', '3.4', '2.56', '3.03', '1.83', '3.77', '2.06', '2.3', '2', '2.93', '4.2', '2.85']\n",
      "https://www.beeradvocate.com/beer/profile/367/976/?view=beer&sort=&start=325\n",
      "['2.88', '3', '2.97', '2.92', '2.55', '3.43', '2.25', '2.08', '3.01', '2.63', '3', '3', '2.58', '2.2', '3.68', '1.61', '2.6', '3.2', '3.55', '3.45', '2.94', '3.6', '3.37', '2.63', '3.18']\n",
      "https://www.beeradvocate.com/beer/profile/367/976/?view=beer&sort=&start=350\n",
      "['2.8', '3.54', '3.22', '2.93', '3.58', '2.68', '3.2', '3.04', '3.38', '2.97', '3.08', '2.78', '3.48', '2.82', '2.98', '2.45', '3.6', '2.65', '3.33', '2.68', '3.6', '1.93', '2.56', '3.07', '2.26']\n",
      "https://www.beeradvocate.com/beer/profile/367/976/?view=beer&sort=&start=375\n",
      "['2.23', '2.73', '1.95', '3.41', '3.85', '3.42', '2.68', '3.27', '3.45', '3.14', '3', '2.48', '3.6', '4.25', '3.38', '3.08', '2.53', '2.7', '2.26', '3.4', '2.52', '3.4', '3.13', '3.09', '2.7']\n",
      "https://www.beeradvocate.com/beer/profile/367/976/?view=beer&sort=&start=400\n",
      "['1.53', '3.18', '3.35', '1.97', '3', '3.72', '2.03', '2.56', '2.97', '3.39', '2.16', '3.58', '3.43', '3.53', '3.75', '3.7', '2.32', '3.16', '3.3', '2.15', '2.35', '2.03', '2.2', '2.65', '3.4']\n",
      "https://www.beeradvocate.com/beer/profile/367/976/?view=beer&sort=&start=425\n",
      "['3.03', '3.47', '2.6', '2.15', '3.1', '3.18', '3', '3.76', '2.9', '2.53', '3.29', '2.51', '3.23', '3.1', '2.14', '2.61', '2.58', '2.36', '2.18', '2.87', '2.58', '3.32', '3.4', '2.63', '3.74']\n",
      "https://www.beeradvocate.com/beer/profile/367/976/?view=beer&sort=&start=450\n",
      "['1.66', '2.69', '2.93', '3.87', '2.6', '2.82', '3.2', '1.49', '2.21', '3.08', '3.23', '3.21', '3.35', '2.9', '2.55', '2.89', '3.1', '2.88', '1.53', '3.57', '3.58', '1.56', '1.22', '1.4', '2.58']\n",
      "https://www.beeradvocate.com/beer/profile/367/976/?view=beer&sort=&start=475\n",
      "['2.56', '2.56', '3.2', '1.36', '3.62', '2.88', '2.75', '2.61', '2.95', '2.98', '3.02', '2.71', '3', '3.65', '3.5', '2.75', '3.6', '3.25', '3.03', '4', '2.6', '3.72', '2.66', '1.94', '3.18']\n"
     ]
    },
    {
     "name": "stderr",
     "output_type": "stream",
     "text": [
      "\r",
      "24it [49:49, 200.84s/it]"
     ]
    },
    {
     "name": "stdout",
     "output_type": "stream",
     "text": [
      "https://www.beeradvocate.com/beer/profile/367/976/?view=beer&sort=&start=500\n",
      "['3.3', '3.63']\n",
      "https://www.beeradvocate.com/beer/profile/140/276/?view=beer&sort=&start=0\n",
      "['4.51', '5', '5', '3.89', '3.99', '4.05', '4.02', '3.68', '3.71', '4.07', '3.94', '4.08', '4', '4.08', '3.99', '4.34', '4.21', '3.77', '4.68', '4.23', '4.19', '4.18', '4.07', '4.32', '3.98']\n",
      "https://www.beeradvocate.com/beer/profile/140/276/?view=beer&sort=&start=25\n",
      "['4.64', '3.9', '3.88', '4.33', '4.44', '3.74', '3.84', '2.87', '4.6', '2.94', '3.35', '3.78', '4.23', '3.68', '3.9', '4.79', '3.63', '4.17', '4.13', '4.19', '3.93', '4', '4.71', '3.83', '3.52']\n",
      "https://www.beeradvocate.com/beer/profile/140/276/?view=beer&sort=&start=50\n",
      "['4.09', '4.45', '3.95', '4.92', '3.84', '3.64', '4', '4.41', '3', '3.62', '4.5', '4.18', '4.29', '4.25', '4', '4.18', '4.24', '3.93', '3.26', '4.19', '4.35', '3.94', '4.22', '4.2', '4.17']\n",
      "https://www.beeradvocate.com/beer/profile/140/276/?view=beer&sort=&start=75\n",
      "['3.49', '4.03', '3.25', '3.87', '4.34', '4.47', '3.75', '4.46', '2.97', '3.91', '4.29', '4.15', '4.81', '4.15', '4.28', '3.88', '4.04', '4.66', '5', '5', '4.65', '4.15', '4.06', '2.57', '3.78']\n",
      "https://www.beeradvocate.com/beer/profile/140/276/?view=beer&sort=&start=100\n",
      "['3.97', '4.59', '3.46', '4.08', '4.1', '4.25', '4.18', '4.17', '3.77', '5', '3.84', '4.09', '4', '4.17', '4.75', '3.75', '4.44', '4.17', '3.9', '4.21', '3.91', '3.89', '2.92', '4.3', '3.88']\n",
      "https://www.beeradvocate.com/beer/profile/140/276/?view=beer&sort=&start=125\n",
      "['4', '3.79', '4.79', '3.79', '1.95', '3.28', '3.87', '4.07', '3.74', '4.47', '4.71', '4.38', '4.19', '4.07', '4.18', '4.59', '4.93', '4.57', '4', '3.94', '4.56', '4.18', '4.43', '4.72', '4.07']\n",
      "https://www.beeradvocate.com/beer/profile/140/276/?view=beer&sort=&start=150\n",
      "['4.02', '4.31', '4.29', '4.19', '3.73', '4.31', '3', '2.95', '4.18', '3.53', '4.04', '3.74', '4', '4.82', '4.6', '4.56', '4.17', '3.81', '3.58', '4.12', '3.44', '4.93', '3.99', '4.14', '3.96']\n",
      "https://www.beeradvocate.com/beer/profile/140/276/?view=beer&sort=&start=175\n",
      "['4', '5', '3.95', '3.94', '3.9', '4.24', '3.49', '4.4', '3.8', '2.61', '4.46', '4.1', '3.46', '3.8', '4.19', '4.01', '3.39', '3.92', '4.18', '4.26', '4.57', '4.07', '5', '3.93', '3.93']\n",
      "https://www.beeradvocate.com/beer/profile/140/276/?view=beer&sort=&start=200\n",
      "['3.37', '4.04', '5', '4.12', '4.04', '4.08', '4.25', '3.94', '4.35', '4.42', '4.36', '3.93', '3.35', '3.79', '3.86', '3.96', '3.55', '4.24', '4.06', '3.95', '4.22', '3.02', '4', '4.59', '4.44']\n",
      "https://www.beeradvocate.com/beer/profile/140/276/?view=beer&sort=&start=225\n",
      "['4.14', '3.11', '4.71', '4.21', '4.11', '4.24', '4.22', '4.15', '4.25', '4.54', '4.11', '4.09', '4.61', '4.94', '3.84', '4.19', '3.94', '3.67', '2.98', '4.35', '3.94', '4.03', '4.59', '5', '4.37']\n",
      "https://www.beeradvocate.com/beer/profile/140/276/?view=beer&sort=&start=250\n",
      "['3.56', '4.51', '4.24', '3.94', '3.8', '3.88', '3.99', '4.01', '4.58', '4.12', '4.74', '4.34', '4.85', '4', '4.11', '4.87', '4.25', '4.32', '5', '3.77', '4.24', '5', '4.04', '4.39', '4.08']\n",
      "https://www.beeradvocate.com/beer/profile/140/276/?view=beer&sort=&start=275\n",
      "['3.76', '4.57', '3.39', '4.35', '4.56', '3.53', '3.85', '4.25', '4.34', '4.43', '3.73', '4.42', '4.63', '4.44', '4.15', '4.02', '4.04', '4.22', '4.16', '4.35', '3.83', '4.18', '3.99', '5', '5']\n",
      "https://www.beeradvocate.com/beer/profile/140/276/?view=beer&sort=&start=300\n",
      "['4.02', '4.21', '3.84', '3.69', '3.57', '4.1', '3.55', '3.72', '5', '3.46', '4.5', '4.78', '4.06', '3.71', '4.04', '3.94', '4.85', '3.31', '3.78', '3.94', '4.33', '4.08', '4.21', '3.84', '5']\n",
      "https://www.beeradvocate.com/beer/profile/140/276/?view=beer&sort=&start=325\n",
      "['3.68', '4.75', '4.16', '4.4', '4', '3.97', '4.06', '4.36', '5', '4.71', '3.52', '4', '4.15', '4.56', '4.55', '3.91', '4', '3.55', '4', '4.26', '4.07', '4.16', '4.1', '3.58', '4.27']\n",
      "https://www.beeradvocate.com/beer/profile/140/276/?view=beer&sort=&start=350\n",
      "['3.79', '4.86', '3.75', '4.03', '4.14', '4.15', '4.38', '3.83', '3.58', '4', '4.75', '3.94', '3.93', '4.03', '4.1', '3.88', '4.21', '3.75', '4.41', '4', '4.14', '4.42', '3.8', '3.88', '3.87']\n",
      "https://www.beeradvocate.com/beer/profile/140/276/?view=beer&sort=&start=375\n",
      "['4.03', '4.22', '4.05', '4.62', '3.4', '3.82', '4.05', '4.23', '3.92', '2.88', '5', '3.78', '3', '3.93', '3.78', '4.28', '3.93', '4.27', '4.25', '3.82', '4.31', '3.76', '4.78', '4.35', '4.62']\n",
      "https://www.beeradvocate.com/beer/profile/140/276/?view=beer&sort=&start=400\n",
      "['4.06', '4.31', '4.1', '4.18', '4.1', '4.42', '4.13', '3.94', '3.03', '4.96', '3.84', '3.6', '3.89', '3.53', '4.32', '3', '4.25', '3.98', '4.8', '4.31', '4.29', '5', '3.98', '4.31', '3.97']\n",
      "https://www.beeradvocate.com/beer/profile/140/276/?view=beer&sort=&start=425\n",
      "['4.68', '3.31', '4.64', '3.07', '4.29', '4.26', '4.13', '4.13', '3.96', '4.64', '4.44', '3.83', '3.79', '4.91', '4.79', '3.94', '4.85', '4.5', '4.31', '3.48', '4.03', '4', '3.75', '4', '4.25']\n",
      "https://www.beeradvocate.com/beer/profile/140/276/?view=beer&sort=&start=450\n",
      "['3.88', '3.91', '4.05', '3.99', '4.1', '4.29', '3.53', '4.5', '3.94', '4.08', '5', '3.98', '4.12', '3.25', '3.89', '4.25', '4.18', '3.75', '3.5', '4.25', '3.68', '3.75', '4.5', '4.11', '3.75']\n",
      "https://www.beeradvocate.com/beer/profile/140/276/?view=beer&sort=&start=475\n",
      "['2.62', '4.75', '4', '3.5', '4.18', '4', '4.11', '4.31', '5', '4.22', '4.75', '4.7', '4.25', '4.17', '4', '4', '4', '3.53', '5', '3.23', '4.5', '4.5', '4.12', '4', '3.75']\n",
      "https://www.beeradvocate.com/beer/profile/140/276/?view=beer&sort=&start=500\n",
      "['4.11', '4.5', '4', '4.35', '3.73', '3.62', '4.09', '3.88', '3.94', '3.79', '3.95', '4.11', '4.1', '4.67', '4.14', '4.09', '3.75', '4.03', '2.3', '4.03', '4.14', '3.9', '3.93', '4.13', '4.09']\n",
      "https://www.beeradvocate.com/beer/profile/140/276/?view=beer&sort=&start=525\n",
      "['4.2', '4.75', '4.99', '3.9', '4.09', '2.43', '4.03', '3.98', '4.03', '5', '4.49', '3.78', '3.77', '4.85', '4.09', '4.12', '3.88', '4.16', '3.66', '4.25', '4.17', '4.52', '4.13', '4.74', '4.04']\n",
      "https://www.beeradvocate.com/beer/profile/140/276/?view=beer&sort=&start=550\n",
      "['3.74', '3.03', '3.54', '3.55', '4.85', '4.96', '4.1', '4.11', '4.06', '4.29', '4.23', '4.18', '4.15', '4.22', '4.28', '3.83', '3.44', '4', '4.46', '3.75', '4.12', '4.15', '4.21', '4.21', '4.1']\n",
      "https://www.beeradvocate.com/beer/profile/140/276/?view=beer&sort=&start=575\n",
      "['4.3', '3.99', '4.05', '4.12', '4.13', '3.63', '3.96', '4.22', '5', '4.13', '3.94', '4.11', '4.35', '4.13', '4.31', '3.96', '4.29', '3.64', '4.28', '4.45', '4.23', '3.81', '4.59', '3.99', '3.68']\n",
      "https://www.beeradvocate.com/beer/profile/140/276/?view=beer&sort=&start=600\n",
      "['2.48', '3.98', '3.71', '4.34', '4.08', '3.63', '4.3', '2.25', '3.57', '4.1', '4', '4.27', '4.37', '3.92', '3.82', '4.09', '4.25', '4.84', '4.93', '4.2', '3.96', '4', '3.4', '4.24', '5']\n",
      "https://www.beeradvocate.com/beer/profile/140/276/?view=beer&sort=&start=625\n",
      "['3.91', '3.76', '4.6', '3.98', '3.87', '3.69', '4.03', '4.35', '3.91', '3.86', '3.6', '4.01', '4.19', '4.65', '3.91', '4.16', '4.28', '3.53', '3.84', '3.39', '4.08', '4.17', '4.04', '3.51', '3.93']\n",
      "https://www.beeradvocate.com/beer/profile/140/276/?view=beer&sort=&start=650\n",
      "['4.25', '3.94', '4.18', '4', '5', '4', '4.45', '4.56', '3.98', '3.75', '4.28', '3.78', '3.8', '3.93', '4', '3.92', '4.21', '4.28', '3.9', '3.98', '4', '3.23', '4.18', '4.44', '4.09']\n",
      "https://www.beeradvocate.com/beer/profile/140/276/?view=beer&sort=&start=675\n",
      "['4.22', '3.5', '4.16', '4', '3.94', '4.19', '3.86', '4.44', '4.3', '4.42', '3.87', '3.78', '5', '4.36', '3.56', '4.03', '3.79', '3.4', '4.86', '4.1', '4.58', '3.9', '2.9', '4.83', '3.85']\n",
      "https://www.beeradvocate.com/beer/profile/140/276/?view=beer&sort=&start=700\n",
      "['5', '3.99', '3.9', '4.34', '4.15', '4.4', '4.08', '1.66', '2.9', '4', '4.06', '4.02', '4.15', '3.74', '5', '4.5', '3.36', '4.02', '4.55', '4.04', '4.39', '3.41', '4.2', '4.33', '4.18']\n",
      "https://www.beeradvocate.com/beer/profile/140/276/?view=beer&sort=&start=725\n",
      "['3.61', '4.35', '3.88', '2.8', '3.73', '3.96', '4.13', '4', '4', '3.56', '4.11', '4.7', '3.73', '3.9', '4.53', '3.57', '4.35', '3.88', '4.11', '4.18', '4.23', '4', '3.85', '4.3', '4.25']\n",
      "https://www.beeradvocate.com/beer/profile/140/276/?view=beer&sort=&start=750\n",
      "['4.05', '4.18', '4.05', '3.82', '4.63', '3.88', '3.35', '3.97', '3.38', '3.2', '4.35', '4', '2.96', '4.15', '3.62', '4.42', '4.33', '4.08', '4.17', '4.07', '4', '4.15', '4.2', '4.27', '4']\n"
     ]
    },
    {
     "name": "stdout",
     "output_type": "stream",
     "text": [
      "https://www.beeradvocate.com/beer/profile/140/276/?view=beer&sort=&start=775\n",
      "['4', '5', '4', '4.22', '4.07', '3.83', '3.85', '4.05', '4.5', '4.82', '4.07', '4.18', '4.47', '4.12', '4.2', '3.91', '4', '3.87', '4.45', '3.91', '4.38', '4.08', '4', '4.2', '4.15']\n",
      "https://www.beeradvocate.com/beer/profile/140/276/?view=beer&sort=&start=800\n",
      "['4.29', '3.85', '4.32', '4.5', '4.5', '4.27', '4.27', '3.85', '4', '4.45', '4.39', '4.18', '5', '4.47', '3.97', '3.83', '4', '4.4', '4.8', '4.35', '3.91', '4.1', '4.4', '3.68', '3.38']\n",
      "https://www.beeradvocate.com/beer/profile/140/276/?view=beer&sort=&start=825\n",
      "['4.45', '4.92', '3.98', '4.03', '3.98', '4.1', '4.09', '4', '3.85', '4', '3.7', '3.95', '3.71', '3.79', '3.85', '4.05', '3.31', '4.03', '3.48', '4', '3.93', '4.3', '4.29', '4.23', '3.98']\n",
      "https://www.beeradvocate.com/beer/profile/140/276/?view=beer&sort=&start=850\n",
      "['4.58', '4.07', '2.65', '4', '4.2', '4', '3.92', '4.17', '3.9', '4.1', '3.73', '4.1', '4', '4.13', '4.27', '3.99', '4.45', '4.2', '3.51', '3.97', '4.42', '4.45', '4.08', '4.94', '4.08']\n",
      "https://www.beeradvocate.com/beer/profile/140/276/?view=beer&sort=&start=875\n",
      "['5', '3.63', '3.53', '3.97', '4.35', '4.45', '4.45', '4.23', '4.47', '3.71', '3.58', '4', '4.42', '2.71', '4', '3.8', '4.08', '4.13', '4', '4.63', '4.33', '4.44', '3.88', '4', '3.68']\n",
      "https://www.beeradvocate.com/beer/profile/140/276/?view=beer&sort=&start=900\n",
      "['4.17', '3.65', '4.03', '4.42', '3.88', '3.97', '3.97', '3.23', '4.7', '4', '4.08', '3.88', '4.2', '4.2', '4.65', '4.5', '4.58', '4.75', '3.65', '4.3', '4.2', '4.65', '3.73', '4.05', '4.8']\n",
      "https://www.beeradvocate.com/beer/profile/140/276/?view=beer&sort=&start=925\n",
      "['3.3', '3.7', '4.2', '2.51', '4.27', '4.42', '3.62', '4.23', '4', '2.73', '3.07', '3.71', '4.02', '3.8', '3.75', '3.75', '4.03', '4.47', '4.06', '4.15', '4.12', '3.33', '4.75', '3.94', '3.9']\n",
      "https://www.beeradvocate.com/beer/profile/140/276/?view=beer&sort=&start=950\n",
      "['3.1', '4.12', '4.2', '4.08', '3.78', '3.82', '4', '3', '4.09', '3.9', '3.45', '3.98', '4.23', '4.45', '4.35', '4.38', '5', '4', '4.3', '4.39', '3.97', '3.48', '4.08', '4.15', '4']\n",
      "https://www.beeradvocate.com/beer/profile/140/276/?view=beer&sort=&start=975\n",
      "['3.61', '4.1', '3.96', '4.23', '3.13', '3.9', '4.03', '4.72', '4.05', '4.2', '4.7', '3.83', '4.3', '4.64', '4.2', '4.23', '4.03', '3.4', '4.55', '4', '4.03', '4.13', '4.3', '4.2', '4.03']\n",
      "https://www.beeradvocate.com/beer/profile/140/276/?view=beer&sort=&start=1000\n",
      "['4.12', '3.85', '4.08', '3.13', '4.02', '4.2', '3.88', '4.22', '4.31', '4.35', '3.9', '4.05', '4.57', '4.12', '3.45', '4.04', '3.71', '4.45', '4.2', '4.1', '3.44', '4.2', '3.53', '4', '3.45']\n",
      "https://www.beeradvocate.com/beer/profile/140/276/?view=beer&sort=&start=1025\n",
      "['2.72', '4', '4.15', '3.88', '4', '3.83', '3.65', '4.5', '3.53', '3.18', '4', '4.2', '4.05', '3.83', '4.18', '3.91', '3.92', '4.18', '4.3', '3.46', '4.32', '4.2', '4.33', '3.9', '4.05']\n",
      "https://www.beeradvocate.com/beer/profile/140/276/?view=beer&sort=&start=1050\n",
      "['4.35', '4', '4.42', '3.83', '3.93', '4.55', '3.8', '3.92', '3.82', '4.46', '4.13', '3.55', '4.03', '4.18', '3.13', '3.06', '3.95', '4.1', '3.6', '4.1', '4.32', '4.5', '4.08', '4', '4.08']\n",
      "https://www.beeradvocate.com/beer/profile/140/276/?view=beer&sort=&start=1075\n",
      "['4.2', '4.5', '4.82', '3.8', '4.07', '4.5', '4.28', '3.75', '4.05', '3.9', '4.18', '4.33', '3.83', '4.1', '3.73', '3.2', '3.68', '3.88', '4.42', '4.45', '3.83', '4.33', '3.45', '3.88', '4.1']\n",
      "https://www.beeradvocate.com/beer/profile/140/276/?view=beer&sort=&start=1100\n",
      "['4.13', '4.5', '5', '3.88', '4.2', '4.2', '4.32', '3.88', '4.42', '4.17', '4.17', '4.67', '4.33', '4', '4.62', '3.58', '4.03', '4', '3.95', '3.75', '4.12', '4.75', '3.83', '3.91', '4']\n",
      "https://www.beeradvocate.com/beer/profile/140/276/?view=beer&sort=&start=1125\n",
      "['3.68', '3.47', '4.25', '4.43', '4.33', '3.88', '3.75', '4.2', '3.75', '4.1', '3.58', '3.88', '4.2', '3.83', '4.1', '3.93', '4.08', '4.47', '4.5', '4.07', '3.94', '3.8', '3.93', '4.48', '3.88']\n",
      "https://www.beeradvocate.com/beer/profile/140/276/?view=beer&sort=&start=1150\n",
      "['3.65', '4.13', '4.55', '4.38', '3.88', '3.8', '3.83', '4.47', '3.83', '3.54', '3.73', '4.88', '4.05', '3.51', '4.15', '4.2', '3.9', '4.18', '4.05', '4.33', '4.2', '3.75', '4.01', '3.29', '4']\n",
      "https://www.beeradvocate.com/beer/profile/140/276/?view=beer&sort=&start=1175\n",
      "['3.75', '4.16', '4.25', '4.35', '4.3', '3.55', '2.72', '4.13', '4.35', '4.45', '4.18', '4.2', '3.73', '5', '3.98', '4.17', '4.28', '4.1', '4.03', '4.13', '4.36', '3.85', '4.25', '4.65', '3.83']\n",
      "https://www.beeradvocate.com/beer/profile/140/276/?view=beer&sort=&start=1200\n",
      "['4.88', '4.48', '3.82', '4.66', '4', '2.98', '4.05', '4.1', '3.83', '3.98', '4.52', '4.11', '3.85', '4.15', '3.96', '4.36', '3.79', '4.76', '4.15', '3.56', '4.4', '4.5', '4.5', '4.42', '4.15']\n",
      "https://www.beeradvocate.com/beer/profile/140/276/?view=beer&sort=&start=1225\n",
      "['4', '3.64', '3.68', '3.63', '3.83', '4.14', '3.88', '4.49', '4.25', '4.08', '4.22', '4.25', '4.27', '3.75', '3.8', '4.3', '3.78', '3.73', '4.08', '4.2', '4.4', '3.95', '4.48', '4.3', '4']\n",
      "https://www.beeradvocate.com/beer/profile/140/276/?view=beer&sort=&start=1250\n",
      "['4.22', '4.11', '4.07', '4.42', '4.88', '4.33', '4.18', '4.25', '4.63', '3.95', '3.83', '4.2', '3.93', '4.1', '1.36', '3.83', '3.8', '4.1', '4.68', '4.12', '4.32', '3.93', '2.8', '2.75', '3.53']\n",
      "https://www.beeradvocate.com/beer/profile/140/276/?view=beer&sort=&start=1275\n",
      "['3.81', '4.15', '3.95', '3.81', '4.72', '3.8', '4.2', '4.33', '2.45', '3.63', '4.56', '4.08', '4.32', '4.57', '3.91', '3.44', '4.06', '4.25', '4', '3.92', '3.48', '4.45', '4.12', '4.53', '3.85']\n",
      "https://www.beeradvocate.com/beer/profile/140/276/?view=beer&sort=&start=1300\n",
      "['4.16', '4.67', '4', '3.93', '4.1', '4.05', '3.98', '3.9', '4.12', '4.63', '3.49', '3.98', '3.83', '4', '3.94', '4.05', '3.27', '4.05', '4', '4.67', '4.38', '3.72', '4.22', '4.42', '4.67']\n",
      "https://www.beeradvocate.com/beer/profile/140/276/?view=beer&sort=&start=1325\n",
      "['4.23', '3.98', '4.55', '3.98', '5', '4.15', '4.22', '3.85', '3.69', '4.2', '4.15', '3.91', '4.75', '4.43', '4.01', '4.3', '4.4', '3.6', '4.3', '3.92', '4.5', '4.63', '2.8', '4.23', '4.32']\n",
      "https://www.beeradvocate.com/beer/profile/140/276/?view=beer&sort=&start=1350\n",
      "['4', '3.72', '4.2', '4.1', '4.73', '5', '4.6', '3.98', '4.58', '4.06', '4.28', '4.97', '5', '2.2', '4.15', '4.43', '4.12', '4.7', '4.13', '4.6', '3.85', '3.78', '3.98', '4.3', '4.65']\n",
      "https://www.beeradvocate.com/beer/profile/140/276/?view=beer&sort=&start=1375\n",
      "['4.48', '4.01', '3.73', '3.86', '3.68', '4.27', '4.38', '4.75', '4.62', '4', '4.13', '4.29', '3.97', '4.31', '4.62', '3.63', '4.22', '4.1', '4.35', '4.6', '3.58', '4.2', '3.95', '3.83', '4.45']\n",
      "https://www.beeradvocate.com/beer/profile/140/276/?view=beer&sort=&start=1400\n",
      "['4.08', '4.5', '4.27', '4.19', '4.12', '3.63', '4.3', '4.15', '3.82', '4.13', '2.43', '4.08', '4.1', '4.16', '4.1', '4.4', '4.43', '4.42', '4.3', '3.85', '4.28', '4.1', '3.7', '3.55', '4.3']\n",
      "https://www.beeradvocate.com/beer/profile/140/276/?view=beer&sort=&start=1425\n",
      "['3.98', '3.08', '4.58', '4.4', '4.1', '4.52', '4.33', '4.13', '4.1', '3.58', '4.11', '4.3', '4.63', '4.3', '4.02', '4.5', '4.3', '4.07', '2.97', '4.03', '4.35', '3.93', '3.93', '4.67', '3.5']\n",
      "https://www.beeradvocate.com/beer/profile/140/276/?view=beer&sort=&start=1450\n",
      "['4.25', '3.2', '3.98', '3.74', '3.38', '4.03', '3.62', '4.22', '4.33', '4.45', '4.82', '4.28', '4.97', '4.1', '4.3', '4.15', '4.13', '4', '4.13', '3.9', '4.45', '4.12', '3.85', '4.1', '4.2']\n",
      "https://www.beeradvocate.com/beer/profile/140/276/?view=beer&sort=&start=1475\n",
      "['3.92', '4', '4.07', '4.33', '4.18', '4.11', '4.11', '3.85', '4.1', '4', '4.42', '3.93', '4.29', '4.3', '4.1', '4.21', '4.12', '4.43', '3.3', '3.15', '3.98', '3.9', '4.47', '4.21', '4.56']\n",
      "https://www.beeradvocate.com/beer/profile/140/276/?view=beer&sort=&start=1500\n",
      "['4.25', '4.02', '4.47', '4.1', '4.23', '3.85', '4.13', '4.24', '4.1', '4.18', '3.47', '4.22', '3.8', '3.94', '4.3', '4.05', '3.7', '4.3', '4.42', '4.3', '4.47', '3.78', '4.1', '3.75', '4.18']\n",
      "https://www.beeradvocate.com/beer/profile/140/276/?view=beer&sort=&start=1525\n",
      "['3.75', '4.83', '3.99', '3.86', '4.08', '4.27', '4.27', '4.4', '4.18', '4.7', '4.6', '4.33', '3.7', '4.03', '4.22', '3.78', '4', '4.15', '4.48', '4.33', '4', '3.8', '3.77', '4.15', '4']\n"
     ]
    },
    {
     "name": "stdout",
     "output_type": "stream",
     "text": [
      "https://www.beeradvocate.com/beer/profile/140/276/?view=beer&sort=&start=1550\n",
      "['4.06', '3', '3.8', '4.27', '4', '4.32', '4.2', '4.15', '3.95', '4.05', '4.15', '3.86', '4.77', '3.75', '4.3', '4.1', '4.4', '4.25', '4.47', '4.18', '4.1', '4.44', '3.82', '4.18', '4.5']\n",
      "https://www.beeradvocate.com/beer/profile/140/276/?view=beer&sort=&start=1575\n",
      "['3.91', '4.15', '4.2', '4.13', '4.06', '4.67', '4.3', '4.03', '2.8', '4.1', '4.12', '4.2', '4.08', '3.95', '4.56', '4', '3.98', '4.12', '3.72', '4.38', '4.1', '4.4', '3.92', '4.36', '4.12']\n",
      "https://www.beeradvocate.com/beer/profile/140/276/?view=beer&sort=&start=1600\n",
      "['3.88', '3.97', '4.45', '4.18', '4.34', '3.98', '4', '4.33', '3.93', '3.76', '4.02', '3.83', '4', '4.85', '3.98', '4.18', '3.88', '4.52', '3.95', '4.77', '3.86', '4.28', '3.34', '4.52', '4.27']\n",
      "https://www.beeradvocate.com/beer/profile/140/276/?view=beer&sort=&start=1625\n",
      "['4.17', '4.45', '4.3', '4.45', '4.23', '4.1', '4.64', '4.03', '4.18', '4.01', '3.15', '3.52', '4.48', '4.3', '3.98', '3.8', '4', '4.76', '4.13', '4.24', '3.95', '4.2', '4.3', '4', '3.16']\n",
      "https://www.beeradvocate.com/beer/profile/140/276/?view=beer&sort=&start=1650\n",
      "['4.1', '4.13', '3.92', '4.18', '3.53', '4.1', '2.86', '4.1', '4.3', '3.9', '4', '3.97', '2.33', '4.33', '4.47', '3.61', '4.01', '4.06', '4.5', '4.87', '4.3', '4.5', '4', '4.5', '4.3']\n",
      "https://www.beeradvocate.com/beer/profile/140/276/?view=beer&sort=&start=1675\n",
      "['3.88', '4.47', '3.85', '4.13', '4.45', '4.18', '4.17', '4.17', '3.97', '4.05', '4.1', '4.56', '4.52', '4.1', '4.23', '4.27', '3.85', '4.17', '4.05', '3.67', '3.8', '4.48', '3.16', '4.1', '4.48']\n",
      "https://www.beeradvocate.com/beer/profile/140/276/?view=beer&sort=&start=1700\n",
      "['2.96', '4.15', '4.24', '4.72', '4.2', '3.73', '3.77', '4.3', '3.85', '4.1', '4.23', '3.71', '4.35', '4.45', '3.81', '3.89', '4.1', '4.3', '3.95', '4.35', '3.76', '4.25', '3.63', '4.65', '4.3']\n",
      "https://www.beeradvocate.com/beer/profile/140/276/?view=beer&sort=&start=1725\n",
      "['3.56', '4.25', '4.06', '4.24', '3.53', '3.34', '4.27', '3.85', '4.12', '4.42', '4.3', '4.08', '4.42', '4.62', '3.86', '3.9', '3.98', '3.56', '4.35', '4.06', '4.1', '4.05', '4.2', '3.68', '4.2']\n",
      "https://www.beeradvocate.com/beer/profile/140/276/?view=beer&sort=&start=1750\n",
      "['3.98', '3.95', '3.6', '4.49', '3.43', '4.3', '4', '4.15', '4', '4.29', '4.28', '4.18', '4.13', '3.87', '4.06', '4.28', '4.2', '3.69', '4.15', '4', '4.11', '4.3', '4.12', '4.1', '3.59']\n",
      "https://www.beeradvocate.com/beer/profile/140/276/?view=beer&sort=&start=1775\n",
      "['4', '3.98', '4.1', '4.3', '3.7', '3.82', '4', '4', '3.97', '4.1', '3.8', '4.45', '3.85', '3.53', '4.3', '4.22', '3.58', '4.71', '4.52', '4.37', '4.53', '4.08', '3.95', '3.97', '3.88']\n",
      "https://www.beeradvocate.com/beer/profile/140/276/?view=beer&sort=&start=1800\n",
      "['4.48', '4.18', '3.93', '4.28', '4', '3.73', '4.05', '4.28', '4.23', '4.2', '3.98', '4.1', '4.03', '4.6', '3.56', '4.3', '4.1', '3.83', '4.18', '4.28', '4.28', '3.96', '4.4', '4.33', '3.87']\n",
      "https://www.beeradvocate.com/beer/profile/140/276/?view=beer&sort=&start=1825\n",
      "['3.78', '3.66', '3.95', '4.28', '4.38', '3.6', '3.98', '4.3', '4.17', '3.51', '4.6', '4.05', '3.03', '4', '4.23', '4.12', '4.1', '4.1', '3.87', '3', '3.78', '3.97', '3.92', '4.32', '4.53']\n",
      "https://www.beeradvocate.com/beer/profile/140/276/?view=beer&sort=&start=1850\n",
      "['4', '4.72', '4.8', '3.58', '3.72', '3.77', '4.3', '3.92', '3.95', '4.07', '4.1', '4', '4.3', '3.98', '4.11', '3.79', '4.1', '3.95', '4.31', '3.76', '3.98', '4.57', '3.88', '4.44', '3.92']\n",
      "https://www.beeradvocate.com/beer/profile/140/276/?view=beer&sort=&start=1875\n",
      "['3.3', '4.3', '4.1', '4', '4.38', '4.43', '4.13', '4.2', '3.86', '4', '4.3', '4.12', '4.4', '4.1', '4.4', '4.74', '3.96', '3.81', '4.1', '4.3', '4.3', '4.25', '3.8', '4.33', '4.75']\n",
      "https://www.beeradvocate.com/beer/profile/140/276/?view=beer&sort=&start=1900\n",
      "['4.09', '3.88', '3.98', '4.6', '4.16', '3.86', '3.8', '4.71', '4.68', '4.7', '4.47', '4.43', '4.1', '4.28', '4.15', '4.32', '4.05', '4.03', '4.43', '4.38', '4.31', '2.11', '3.95', '4.03', '3.98']\n",
      "https://www.beeradvocate.com/beer/profile/140/276/?view=beer&sort=&start=1925\n",
      "['4.55', '4.12', '3.5', '4.45', '4.22', '4.1', '4.25', '4.32', '3.34', '3.32', '3.75', '2.91', '4', '4.43', '2.2', '4.4', '3.75', '3.83', '3.36', '4.22', '3.62', '4.73', '3.68', '4.57', '3.72']\n",
      "https://www.beeradvocate.com/beer/profile/140/276/?view=beer&sort=&start=1950\n",
      "['4.57', '4.37', '3.93', '4.6', '3.28', '4.3', '3.81', '4', '4.33', '3.95', '4.37', '3.97', '3.78', '4.15', '4.45', '4.04', '4.35', '4.02', '4.09', '4.13', '3.95', '3.62', '4', '4', '4']\n",
      "https://www.beeradvocate.com/beer/profile/140/276/?view=beer&sort=&start=1975\n",
      "['4.38', '4.02', '4.5', '4.2', '4.42', '4.04', '4.7', '4.11', '3.88', '3.82', '4.25', '4.48', '4.1', '4.32', '4.42', '4.1', '4.3', '3.85', '4.32', '4.03', '3.48', '3.78', '4.68', '4.45', '2.86']\n",
      "https://www.beeradvocate.com/beer/profile/140/276/?view=beer&sort=&start=2000\n",
      "['4.1', '4.17', '4.1', '4.17', '3.88', '4.48', '3.83', '4.18', '4.1', '3.95', '4.58', '4', '4', '4.4', '3.92', '3.6', '4.3', '4.51', '4.33', '3.8', '3.85', '4.22', '4.2', '3.7', '4.1']\n",
      "https://www.beeradvocate.com/beer/profile/140/276/?view=beer&sort=&start=2025\n",
      "['4.1', '3.98', '4.6', '3.85', '4', '3.38', '4.52', '4.19', '4.1', '4.22', '4.2', '3.83', '4.29', '4.85', '4.1', '4.52', '4.1', '4.3', '4.32', '4.6', '4.3', '4.2', '4', '4.01', '4.33']\n",
      "https://www.beeradvocate.com/beer/profile/140/276/?view=beer&sort=&start=2050\n",
      "['4.2', '3.4', '4.17', '4.65', '4.42', '4.24', '4.05', '3.84', '3.95', '3.85', '3.88', '3.88', '4.2', '4.05', '3.47', '4.06', '4.3', '4.18', '4.55', '3.92', '3.55', '4.02', '4.05', '3.85', '4.1']\n",
      "https://www.beeradvocate.com/beer/profile/140/276/?view=beer&sort=&start=2075\n",
      "['4.4', '4.1', '4.4', '4.2', '4.25', '3.7', '4.12', '3.92', '4.68', '3.98', '3.97', '3.85', '3.91', '3.34', '4.13', '3.68', '4.42', '3.05', '4.2', '4.12', '3.36', '4.2', '4.3', '3.63', '4.2']\n",
      "https://www.beeradvocate.com/beer/profile/140/276/?view=beer&sort=&start=2100\n",
      "['3.77', '4', '4.07', '3.82', '4.59', '4.08', '4.05', '4.73', '4.09', '4.33', '4.22', '4.43', '4.2', '4.47', '4.37', '3.6', '4', '3.81', '4.1', '4.8', '3.81', '4.03', '4.3', '4.33', '4.12']\n",
      "https://www.beeradvocate.com/beer/profile/140/276/?view=beer&sort=&start=2125\n",
      "['4.35', '4.35', '4.42', '4.77', '4.32', '4.67', '4.2', '4.12', '4.1', '3.23', '4.4', '4', '4.23', '4.1', '3.83', '4.64', '4.35', '4.15', '4.02', '4.07', '4.15', '4.02', '4.08', '3.7', '4.47']\n",
      "https://www.beeradvocate.com/beer/profile/140/276/?view=beer&sort=&start=2150\n",
      "['4.2', '4.07', '4.16', '4.57', '4.45', '4.27', '3.8', '4.65', '4', '4.2', '3.87', '4.29', '4.2', '4.35', '3.95', '3.9', '4.42', '4.07', '4.35', '4.35', '4.95', '4.1', '4.1', '3.93', '3.7']\n",
      "https://www.beeradvocate.com/beer/profile/140/276/?view=beer&sort=&start=2175\n",
      "['4.08', '5', '4.03', '4.32', '4', '4.12', '4.35', '4.2', '4.01', '4.6', '4.18', '4.42', '4.1', '4.1', '3.89', '4.37', '4.8', '4.97', '3.95', '4.03', '4', '4.2', '4.28', '3.93', '4.3']\n",
      "https://www.beeradvocate.com/beer/profile/140/276/?view=beer&sort=&start=2200\n",
      "['4.3', '3.61', '4.47', '3.75', '3.98', '4.22', '4', '4.1', '4.37', '4.35', '4', '4.25', '4.2', '4.3', '3.6', '3.85', '4.15', '4.65', '4.12', '3.53', '3.88', '4', '4.3', '4.09', '3.92']\n",
      "https://www.beeradvocate.com/beer/profile/140/276/?view=beer&sort=&start=2225\n",
      "['4.3', '4.33', '3.95', '4.21', '4.3', '4.3', '4.22', '4.1', '4.5', '4.65', '4', '4.07', '4.2', '3.07', '4.03', '4.12', '4.25', '4.03', '4.5', '4.22', '4.05', '3.9', '4.15', '3.23', '3.95']\n",
      "https://www.beeradvocate.com/beer/profile/140/276/?view=beer&sort=&start=2250\n",
      "['4.02', '3.67', '3.48', '4', '3.58', '3.88', '1.8', '4.13', '4.1', '3.88', '3.95', '3.82', '3.95', '4.17', '3.52', '4.43', '4.42', '3.41', '4.12', '4.3', '4.45', '3.98', '3.79', '3.98', '4.18']\n",
      "https://www.beeradvocate.com/beer/profile/140/276/?view=beer&sort=&start=2275\n",
      "['3.92', '4.47', '4.97', '4.2', '4.13', '3.9', '3.9', '3.33', '4.28', '4.52', '4.3', '4.42', '3.9', '4.27', '2.91', '3.85', '3.58', '4.33', '4', '3.4', '2.87', '3.63', '4.22', '3.98', '3.88']\n",
      "https://www.beeradvocate.com/beer/profile/140/276/?view=beer&sort=&start=2300\n",
      "['2.95', '4.1', '3.85', '4.53', '3.88', '4.37', '3.58', '4.22', '4.18', '3.96', '4.3', '3.45', '4.15', '4', '4.03', '4.4', '4.42', '4.33', '4.32', '2.56', '4.2', '4.3', '3.98', '4.88', '4.1']\n"
     ]
    },
    {
     "name": "stdout",
     "output_type": "stream",
     "text": [
      "https://www.beeradvocate.com/beer/profile/140/276/?view=beer&sort=&start=2325\n",
      "['3.97', '3.65', '4.05', '3.77', '4.92', '4', '3.83', '3.7', '4', '3.28', '4.33', '3.51', '4.45', '4.34', '3.86', '3.97', '4.13', '3.79', '3.87', '4.48', '3.4', '4.08', '4.45', '4.12', '3.75']\n",
      "https://www.beeradvocate.com/beer/profile/140/276/?view=beer&sort=&start=2350\n",
      "['4.5', '4.05', '4.15', '4.15', '4.3', '4', '3.7', '3.97', '3.85', '3.91', '4', '3.43', '4.1', '4.3', '4', '3.75', '4.25', '4.32', '3.47', '3.65', '3.69', '4.4', '3.58', '3.97', '4.6']\n",
      "https://www.beeradvocate.com/beer/profile/140/276/?view=beer&sort=&start=2375\n",
      "['4.2', '4', '3.8', '4.09', '3.55', '3.73', '4', '3.94', '4.23', '3.85', '3.58', '3.96', '4.43', '3.2', '3.13', '3.68', '3.66', '3.8', '4', '3.43', '4.3', '4.2', '4', '4.12', '3.87']\n",
      "https://www.beeradvocate.com/beer/profile/140/276/?view=beer&sort=&start=2400\n",
      "['4.15', '4', '4.1', '4.17', '3.8', '3.4', '4.43', '3.98', '4.25', '2.63', '4.05', '4.12', '3.8', '4.23', '4.07', '3.98', '4', '4.05', '4.06', '4.08', '4.62', '3.51', '4.57', '4.05', '4.47']\n",
      "https://www.beeradvocate.com/beer/profile/140/276/?view=beer&sort=&start=2425\n",
      "['3.91', '3.95', '3.93', '4.47', '3.88', '4.3', '4', '3.46', '4.8', '3.8', '3.95', '4.35', '4.07', '4.13', '3.78', '4.32', '4.1', '3.95', '3.95', '4.4', '3.89', '4.03', '3.6', '4.3', '2.32']\n",
      "https://www.beeradvocate.com/beer/profile/140/276/?view=beer&sort=&start=2450\n",
      "['3.44', '4.2', '3.45', '4', '3.44', '4.55', '4', '4.4', '3.76', '4.35', '4.07', '4.07', '4.6', '3.16', '3.83', '4.6', '2.96', '4.05', '3.49', '4.43', '4', '3.8', '3.66', '4.32', '4.27']\n",
      "https://www.beeradvocate.com/beer/profile/140/276/?view=beer&sort=&start=2475\n",
      "['4.13', '4.04', '3.68', '4', '3.29', '3.87', '4.3', '3.77', '3.76', '4.15', '4.2', '3.92', '3.68', '4.1', '3.73', '4', '4.01', '3.53', '4.43', '4', '5', '3.8', '4.09', '4.07', '2.91']\n",
      "https://www.beeradvocate.com/beer/profile/140/276/?view=beer&sort=&start=2500\n",
      "['3.97', '4.2', '4.05', '4.18', '4.61', '3.9', '3.85', '3.95', '4.3', '3.88', '3.98', '3.97', '3.9', '3.62', '3.75', '4.05', '4.1', '4.33', '3.28', '3.93', '3.2', '3.79', '4.1', '4.33', '2.06']\n",
      "https://www.beeradvocate.com/beer/profile/140/276/?view=beer&sort=&start=2525\n",
      "['3.85', '3.4', '3.76', '4.12', '4.3', '4.05', '4.1', '3.54', '3.53', '4.03', '4.1', '4.3', '4.17', '4', '4.08', '4', '4.17', '4.12', '4.18', '3.36', '3.42', '3.78', '3.7', '3.02', '2.6']\n",
      "https://www.beeradvocate.com/beer/profile/140/276/?view=beer&sort=&start=2550\n",
      "['4.3', '4.4', '4.07', '4.33', '4.2', '4.64', '4.33', '4.1', '4.12', '4.5', '3.76', '4.25', '4.77', '4.1', '4.4', '4.62', '4.8', '4.47', '4.12', '4.1', '4.63', '4.03', '4.52', '4.35', '4.1']\n",
      "https://www.beeradvocate.com/beer/profile/140/276/?view=beer&sort=&start=2575\n",
      "['4.2', '4.01', '3.86', '3.9', '4.4', '4.6', '4.3', '4.5', '3.55', '4.2', '4.15', '3.86', '3.63', '4.57', '3.88', '4.36', '3.76', '4.15', '4.83', '4.27', '4.45', '4.01', '3.68', '3.97', '3.25']\n",
      "https://www.beeradvocate.com/beer/profile/140/276/?view=beer&sort=&start=2600\n",
      "['3.85', '3.28', '4', '3.48', '4.47', '4.26', '4.2', '3.88', '4.08', '4.77', '3.97', '3.58', '4.33', '3.73', '4.32', '4.52', '3.84', '4', '4.1', '3.82', '4.42', '4.4', '4.18', '4.12', '3.59']\n",
      "https://www.beeradvocate.com/beer/profile/140/276/?view=beer&sort=&start=2625\n",
      "['2.26', '4.1', '4.5', '3.63', '4.31', '4', '3.65', '4.16', '4.05', '4', '3.53', '4.33', '4.32', '4.33', '4.2', '4.8', '4', '4.3', '3.66', '4.2', '4.23', '4.22', '3.97', '3.88', '3.79']\n",
      "https://www.beeradvocate.com/beer/profile/140/276/?view=beer&sort=&start=2650\n",
      "['3.9', '4.1', '3.8', '4.12', '3.83', '4.5', '4.43', '3.68', '4.07', '4', '4.4', '4.1', '4.1', '3.95', '4.7', '3.86', '3.99', '3.97', '4.16', '4.08', '4.1', '3.91', '4.1', '3.46', '4.23']\n",
      "https://www.beeradvocate.com/beer/profile/140/276/?view=beer&sort=&start=2675\n",
      "['4.18', '3.46', '3.8', '4.27', '3.04', '4.43', '4.37', '4.4', '3.83', '4.05', '4.2', '4.05', '4.02', '3.93', '3.73', '4.25', '3.48', '3.44', '4.57', '3.45', '4.2', '4.1', '4.2', '4.08', '3.68']\n",
      "https://www.beeradvocate.com/beer/profile/140/276/?view=beer&sort=&start=2700\n",
      "['4.5', '3.67', '5', '4.07', '4.27', '4.05', '4.5', '4.5', '4.6', '3.95', '4.57', '4.08', '4.45', '4.12', '3.8', '3.28', '4.22', '4', '3.5', '3.6', '3.98', '4.1', '4.1', '3.81', '4.07']\n",
      "https://www.beeradvocate.com/beer/profile/140/276/?view=beer&sort=&start=2725\n",
      "['4', '3.75', '4', '4.37', '3.53', '4.15', '4.59', '4.67', '4.27', '3.47', '4', '4.07', '4.6', '4.42', '3.93', '4.14', '3.91', '4.15', '4.35', '3.6', '4.07', '4.1', '4.6', '4.28', '4.18']\n",
      "https://www.beeradvocate.com/beer/profile/140/276/?view=beer&sort=&start=2750\n",
      "['4.32', '4.23', '3.9', '3.82', '4.15', '3.78', '3.93', '3.83', '3.98', '3.29', '3.4', '4.18', '3.85', '4.3', '4.18', '4.2', '4.31', '4.6', '3.65', '4.21', '4.17', '4.24', '4.08', '4.03', '4.3']\n",
      "https://www.beeradvocate.com/beer/profile/140/276/?view=beer&sort=&start=2775\n",
      "['3.05', '3.96', '4.15', '4.35', '3.98', '3.94', '4.42', '3.7', '4.41', '3.83', '3.65', '4', '4.1', '4.18', '4.1', '4.4', '4.83', '3.28', '3.97', '4.03', '4', '4.23', '3.88', '4.19', '4']\n",
      "https://www.beeradvocate.com/beer/profile/140/276/?view=beer&sort=&start=2800\n",
      "['3.81', '4.3', '4.43', '3.38', '4.54', '2.8', '3.59', '4.3', '4.45', '4.06', '4.5', '4.33', '3.85', '4.2', '4.02', '3.88', '3.98', '4.21', '4.3', '3.48', '4.6', '3.42', '3.53', '4.77', '4']\n",
      "https://www.beeradvocate.com/beer/profile/140/276/?view=beer&sort=&start=2825\n",
      "['4.38', '4.1', '2.89', '3.73', '4.69', '4.3', '4', '4.28', '4.49', '4.62', '3.9', '4.3', '4.43', '3.95', '3.52', '4.33', '3.63', '3.36', '4.44', '3.91', '3.98', '4.01', '4.52', '3.89', '3.98']\n",
      "https://www.beeradvocate.com/beer/profile/140/276/?view=beer&sort=&start=2850\n",
      "['4.28', '3.65', '3.41', '3.85', '3.85', '4.2', '4.1', '4.32', '3.65', '4.22', '4.11', '4.1', '4.3', '4.3', '4.2', '3.88', '2.86', '4.12', '4.5', '3.5', '3.88', '3.95', '3.56', '3.7', '3.5']\n",
      "https://www.beeradvocate.com/beer/profile/140/276/?view=beer&sort=&start=2875\n",
      "['4.4', '4.6', '4.22', '4.74', '4.3', '4.06', '3.65', '3.82', '3.9', '3.95', '3.73', '4.02', '2.91', '3.88', '4.4', '4.44', '4.17', '4.35', '4.5', '4.33', '4.5', '4.2', '4.42', '4.15', '4.1']\n",
      "https://www.beeradvocate.com/beer/profile/140/276/?view=beer&sort=&start=2900\n",
      "['4.1', '4.1', '4', '2.74', '4.45', '4', '4.57', '4.3', '3.85', '3.61', '3.97', '4', '3.98', '4.35', '4', '3.78', '3.08', '4.42', '4.13', '4.57', '4.47', '4.44', '4.1', '4.08', '4.15']\n",
      "https://www.beeradvocate.com/beer/profile/140/276/?view=beer&sort=&start=2925\n",
      "['3.68', '4.15', '3.68', '4.07', '4.02', '4.24', '4.07', '4.33', '3.72', '3.98', '4.42', '4.22', '4.27', '4.55', '3.9', '3.71', '3.8', '3.84', '4', '4', '4.13', '3.95', '3.75', '4.08', '4.5']\n",
      "https://www.beeradvocate.com/beer/profile/140/276/?view=beer&sort=&start=2950\n",
      "['3.88', '3.4', '4.2', '4.15', '3.86', '4.32', '4.15', '4.1', '4.2', '4.22', '4.12', '3.88', '4.2', '3.91', '4', '4.15', '4', '3.93', '3.94', '3.9', '3.95', '3.88', '4.45', '3.06', '4.03']\n",
      "https://www.beeradvocate.com/beer/profile/140/276/?view=beer&sort=&start=2975\n",
      "['4.67', '4.6', '4.42', '3.95', '4.32', '3.83', '3.75', '4.5', '4.1', '4.22', '4.1', '4.07', '4.3', '3.88', '4', '4.15', '4', '4.22', '4.33', '4.18', '4.4', '3.98', '4.25', '4.42', '4.25']\n",
      "https://www.beeradvocate.com/beer/profile/140/276/?view=beer&sort=&start=3000\n",
      "['4', '4.3', '3.95', '4.2', '4.37', '3.6', '4.42', '4.4', '3.93', '4.8', '4.48', '4.08', '4.52', '3.65', '4.06', '4', '4.27', '4.54', '4.27', '3.8', '4.17', '4.3', '4.23', '4.25', '5']\n",
      "https://www.beeradvocate.com/beer/profile/140/276/?view=beer&sort=&start=3025\n",
      "['4.55', '3.5', '4.8', '4.25', '2.45', '3.4', '4.1', '4', '4.17', '4.23', '3.99', '4.13', '4.37', '4.15', '3.6', '4.08', '4', '3.65', '4.07', '3.53', '4.27', '4.03', '4.52', '4.12', '3.9']\n",
      "https://www.beeradvocate.com/beer/profile/140/276/?view=beer&sort=&start=3050\n",
      "['4.6', '4.05', '4.3', '3.24', '3.83', '4.15', '4.72', '4.3', '4.15', '4', '4.3', '3.7', '3.75', '4.38', '4.35', '4.1', '4.32', '4.23', '4.27', '2.75', '4.12', '4.01', '3.63', '4.3', '4']\n",
      "https://www.beeradvocate.com/beer/profile/140/276/?view=beer&sort=&start=3075\n",
      "['4.17', '4', '4.1', '4.3', '4.67', '4.2', '3.95', '4.07', '4.67', '4.2', '3.97', '4.2', '4', '3.88', '3.68', '4.42', '3.95', '4', '4.42', '4.41', '4.57', '4.1', '5', '4', '3.58']\n"
     ]
    },
    {
     "name": "stdout",
     "output_type": "stream",
     "text": [
      "https://www.beeradvocate.com/beer/profile/140/276/?view=beer&sort=&start=3100\n",
      "['4.09', '3.87', '4.43', '4.5', '4.6', '3.98', '4.47', '3.97', '4.22', '4.07', '4.03', '4.2', '4.25', '3.53', '4.5', '4', '4.22', '4', '4.27', '4.3', '3.53', '4.13', '4.05', '4.73', '3.7']\n",
      "https://www.beeradvocate.com/beer/profile/140/276/?view=beer&sort=&start=3125\n",
      "['4.36', '4.06', '4.42', '4.33', '4', '4.4', '4.3', '4.43', '3.92', '4.1', '4.03', '4.24', '4.3', '3.29', '3.97', '3.88', '4.05', '4.57', '4.48', '4.22', '2.97', '4.3', '4.18', '3.66', '4']\n",
      "https://www.beeradvocate.com/beer/profile/140/276/?view=beer&sort=&start=3150\n",
      "['4.35', '4.68', '4.47', '4.37', '4.58', '4.5', '4.1', '4.35', '3.6', '4.26', '3.25', '4.4', '4.42', '4.45', '4.15', '4.69', '4', '4.03', '4.08', '4.22', '4.22', '4.4', '3.15', '3.64', '3.77']\n"
     ]
    },
    {
     "name": "stderr",
     "output_type": "stream",
     "text": [
      "\r",
      "25it [1:02:35, 370.46s/it]"
     ]
    },
    {
     "name": "stdout",
     "output_type": "stream",
     "text": [
      "https://www.beeradvocate.com/beer/profile/140/276/?view=beer&sort=&start=3175\n",
      "['3.53', '4', '4', '4.76', '4.66', '4']\n",
      "https://www.beeradvocate.com/beer/profile/72/3280/?view=beer&sort=&start=0\n",
      "['3.99', '4.1', '4.71', '3.86', '4.26', '4.06', '4.19', '4.88', '3.85', '3.78', '4.06', '4.01', '4.16', '4', '3.92', '4', '3.89', '4.1', '3.5', '4.25', '3.59', '3.96', '3.77', '4.02', '3.97']\n",
      "https://www.beeradvocate.com/beer/profile/72/3280/?view=beer&sort=&start=25\n",
      "['4', '3.87', '3.65', '3.99', '4.09', '4.03', '3.61', '2.34', '4.39', '4.34', '4.04', '4.28', '4.13', '4.23', '3.94', '4.32', '3.32', '4.5', '4.1', '4', '4.24', '3.9', '4.19', '3.45', '4.06']\n",
      "https://www.beeradvocate.com/beer/profile/72/3280/?view=beer&sort=&start=50\n",
      "['4.68', '4.32', '4.4', '4.17', '4.11', '4.14', '4.4', '4.02', '4.44', '4.67', '4.72', '4.58', '4.26', '3.88', '4', '3.96', '3.98', '4.14', '3.98', '3.78', '4.05', '3.25', '4.17', '4.25', '4.25']\n",
      "https://www.beeradvocate.com/beer/profile/72/3280/?view=beer&sort=&start=75\n",
      "['4.17', '3.98', '3.92', '4.15', '4.22', '4.15', '4.38', '5', '4.25', '4.38', '3.77', '3.01', '4.54', '3.75', '4', '4.15', '3.18', '3.78', '3.54', '4', '3.68', '3.54', '4.25', '3.58', '4.36']\n",
      "https://www.beeradvocate.com/beer/profile/72/3280/?view=beer&sort=&start=100\n",
      "['4.11', '4.04', '3.99', '3.98', '4.47', '4.28', '4.12', '3.99', '3.42', '4.45', '3.96', '3.86', '4.75', '3.65', '5', '3.81', '3.9', '4.03', '3.9', '4', '4.25', '4', '4.25', '4', '3.25']\n",
      "https://www.beeradvocate.com/beer/profile/72/3280/?view=beer&sort=&start=125\n",
      "['3', '3.73', '3.75', '3.8', '4.55', '3.55', '3.6', '4.1', '3.29', '3.88', '3.92', '3.48', '3.91', '4.84', '3.8', '3.53', '4.01', '4.06', '4.04', '3.4', '3.26', '4.02', '4.08', '4.03', '3.75']\n",
      "https://www.beeradvocate.com/beer/profile/72/3280/?view=beer&sort=&start=150\n",
      "['3.52', '3.59', '3.43', '3.86', '4.4', '4.03', '3.97', '4', '4.28', '4.31', '4.09', '3.5', '4.04', '3.62', '4.04', '3.58', '3.96', '4.08', '5', '3.53', '3.75', '3.71', '4.41', '3.03', '3.99']\n",
      "https://www.beeradvocate.com/beer/profile/72/3280/?view=beer&sort=&start=175\n",
      "['3.99', '4.06', '4.14', '3.52', '3.72', '4.19', '4.11', '3.58', '4.1', '4', '4.11', '4.25', '4.06', '3.26', '4.38', '3.56', '3.38', '3.93', '4.3', '3.97', '3.78', '4.08', '3.85', '3.81', '4.81']\n",
      "https://www.beeradvocate.com/beer/profile/72/3280/?view=beer&sort=&start=200\n",
      "['4.2', '3.74', '3.97', '3.12', '4.08', '3.8', '3.95', '4.15', '4.09', '4.53', '3.65', '3.88', '4', '3.89', '3.65', '5', '3.2', '4.73', '4.13', '3.61', '3.68', '4.2', '4', '4.13', '4.12']\n",
      "https://www.beeradvocate.com/beer/profile/72/3280/?view=beer&sort=&start=225\n",
      "['4.5', '3.23', '4.25', '3.65', '4.1', '3.96', '3.78', '3.97', '3.62', '4', '3.53', '3.95', '3.62', '4.18', '3.85', '3.98', '4.07', '4.17', '3.92', '4.14', '4.05', '3.79', '3.57', '3.83', '4.55']\n",
      "https://www.beeradvocate.com/beer/profile/72/3280/?view=beer&sort=&start=250\n",
      "['4.32', '3.93', '4.03', '4', '3.75', '3.98', '4.12', '3.97', '3.79', '3.79', '3.57', '4.02', '4.09', '3.97', '4', '4.2', '4.03', '4.03', '4.2', '3.95', '3.47', '3.38', '3.97', '3.84', '4.22']\n",
      "https://www.beeradvocate.com/beer/profile/72/3280/?view=beer&sort=&start=275\n",
      "['3.98', '4.02', '3.98', '3.24', '3.92', '3.12', '3.3', '4.05', '4.05', '4', '3.77', '4.2', '4.06', '3.65', '3.56', '3.8', '4.43', '3.88', '3.95', '3.85', '3.65', '3.47', '3.66', '4.29', '3.78']\n",
      "https://www.beeradvocate.com/beer/profile/72/3280/?view=beer&sort=&start=300\n",
      "['3.97', '4.27', '4.22', '3.56', '4.17', '4.21', '4.53', '3.1', '4', '3.77', '4.42', '3.97', '4.12', '3.65', '3.89', '3.57', '4.38', '4', '3.77', '4.12', '3.92', '4.5', '3.68', '3.86', '4.47']\n",
      "https://www.beeradvocate.com/beer/profile/72/3280/?view=beer&sort=&start=325\n",
      "['4.3', '4', '2.77', '3.18', '3.75', '4.82', '3.85', '3.85', '3.83', '3.09', '3.76', '3.76', '4.75', '4.73', '3.28', '4', '4.07', '3.67', '3.5', '3.92', '4.19', '3.6', '3.3', '4.88', '3.92']\n",
      "https://www.beeradvocate.com/beer/profile/72/3280/?view=beer&sort=&start=350\n",
      "['3.48', '2.97', '3.95', '4.3', '3.8', '3.82', '3.65', '4.3', '4.3', '4.2', '3.51', '4.03', '4.2', '3.77', '3.7', '4', '4.75', '3.75', '3.8', '4.6', '4', '4.57', '4.56', '4.53', '3.98']\n",
      "https://www.beeradvocate.com/beer/profile/72/3280/?view=beer&sort=&start=375\n",
      "['3.85', '3.72', '4.1', '4.37', '4.55', '3.75', '4.22', '4.13', '4.5', '4.34', '4.26', '3.91', '4.34', '4.48', '3.53', '4.18', '4.29', '4.06', '4.57', '4.12', '3.72', '4.25', '3.34', '4.26', '4']\n",
      "https://www.beeradvocate.com/beer/profile/72/3280/?view=beer&sort=&start=400\n",
      "['4.05', '4.1', '3.63', '4', '4.13', '3.88', '3.91', '3.95', '4', '4.35', '4.22', '4.85', '3.95', '3.28', '4.35', '4.12', '4.27', '3.7', '5', '4.13', '3.87', '4', '3.9', '3.8', '3.8']\n",
      "https://www.beeradvocate.com/beer/profile/72/3280/?view=beer&sort=&start=425\n",
      "['4.52', '4.8', '3.68', '3.23', '3.95', '3.75', '4.1', '4.18', '3.38', '4.52', '4.41', '4.27', '3.69', '3.87', '4.47', '3.83', '3.63', '3.54', '4.01', '4.6', '4.07', '3.62', '3.54', '3.88', '3.78']\n",
      "https://www.beeradvocate.com/beer/profile/72/3280/?view=beer&sort=&start=450\n",
      "['3.82', '3.92', '4', '3.85', '3.92', '3.95', '4.02', '3.8', '3.77', '4.48', '3.72', '3.78', '4.51', '3.88', '3.85', '3.57', '4.25', '4.42', '4.3', '4.45', '4.33', '4.1', '3.8', '3.99', '4.88']\n",
      "https://www.beeradvocate.com/beer/profile/72/3280/?view=beer&sort=&start=475\n",
      "['4.39', '4.42', '3.26', '3.88', '2.84', '4', '4.92', '3.77', '3.91', '3.82', '4.45', '2.87', '4.25', '4.1', '4.65', '3.63', '3.97', '3.87', '4.06', '3.81', '3.88', '4.03', '3.06', '4.53', '4.23']\n",
      "https://www.beeradvocate.com/beer/profile/72/3280/?view=beer&sort=&start=500\n",
      "['4.4', '4.33', '4.35', '4.18', '4.5', '4.6', '4.45', '4.04', '3.68', '4.1', '4.05', '3.33', '3.65', '3.95', '4.37', '4.07', '3.88', '3.85', '4.15', '4.27', '3.5', '4.07', '3.65', '3.38', '4.22']\n",
      "https://www.beeradvocate.com/beer/profile/72/3280/?view=beer&sort=&start=525\n",
      "['4.3', '3.7', '3.98', '4.75', '4.5', '4.05', '4.12', '4.1', '3.92', '4.07', '4.27', '4.2', '3.03', '4.05', '3.97', '4.48', '4.07', '3.67', '4.1', '4', '4.2', '3.98', '3.7', '4.55', '4.48']\n",
      "https://www.beeradvocate.com/beer/profile/72/3280/?view=beer&sort=&start=550\n",
      "['4.1', '4.35', '4.15', '3.75', '4.12', '3.51', '4.32', '4.04', '4.03', '4.03', '4.03', '4.33', '3.88', '3.98', '4.3', '4.2', '4.5', '4.43', '3.52', '3.78', '4.08', '4.05', '4.27', '4.85', '4.53']\n",
      "https://www.beeradvocate.com/beer/profile/72/3280/?view=beer&sort=&start=575\n",
      "['4.6', '4.03', '3.97', '4.1', '3.98', '3.8', '3.56', '3.79', '4', '4.15', '3.87', '4.8', '3.95', '3.91', '3.92', '4', '4.55', '4', '3.8', '4', '4.33', '4.14', '4.2', '4.22', '3.45']\n",
      "https://www.beeradvocate.com/beer/profile/72/3280/?view=beer&sort=&start=600\n",
      "['4.03', '3.91', '4.13', '4.36', '4.9', '4.08', '4.47', '4.2', '4.05', '4.33', '4.13', '3.51', '3.38', '4.18', '4.3', '3.85', '4.07', '3.48', '3.73', '3.37', '3.87', '3.77', '3.89', '4.3', '3.75']\n",
      "https://www.beeradvocate.com/beer/profile/72/3280/?view=beer&sort=&start=625\n",
      "['3.95', '3.9', '3.9', '3.63', '3.62', '3.58', '3.88', '4.4', '4.18', '4', '4.1', '2', '3.68', '4.32', '3.43', '3.88', '3.25', '2.37', '2.4', '3.15', '3.93', '4.65', '4.14', '3.9', '4.46']\n",
      "https://www.beeradvocate.com/beer/profile/72/3280/?view=beer&sort=&start=650\n",
      "['4.22', '4.57', '3.77', '4', '4.35', '4.54', '3.88', '4.3', '4.3', '4.22', '4.25', '4', '3.05', '3.56', '3.7', '4.3', '4.36', '4', '3.88', '3.98', '3.8', '4.05', '3.68', '2.84', '2.94']\n",
      "https://www.beeradvocate.com/beer/profile/72/3280/?view=beer&sort=&start=675\n",
      "['4.17', '4.38', '4.16', '4.03', '3.73', '3.57', '3.84', '3.8', '3.45', '4.23', '3.98', '4.33', '3.75', '3.75', '4.27', '3.78', '3.52', '3.48', '4.45', '4.07', '4.1', '4.15', '4.42', '3.25', '3.95']\n",
      "https://www.beeradvocate.com/beer/profile/72/3280/?view=beer&sort=&start=700\n",
      "['3.53', '3.22', '4.25', '3.94', '3.5', '3.48', '4.07', '4.08', '4.1', '3.43', '4.17', '3.78', '4.29', '3.09', '4', '4.57', '4.45', '4.33', '3.15', '4.1', '4.35', '4.32', '4', '4.47', '3.92']\n",
      "https://www.beeradvocate.com/beer/profile/72/3280/?view=beer&sort=&start=725\n",
      "['3.55', '3.72', '3.5', '4.3', '3.73', '4.35', '4.09', '3.82', '3.9', '3.65', '4', '4.33', '4.22', '3.92', '4.08', '4.2', '4.35', '3.6', '3.9', '4.3', '4.43', '3.48', '3.85', '3.92', '4.2']\n"
     ]
    },
    {
     "name": "stdout",
     "output_type": "stream",
     "text": [
      "https://www.beeradvocate.com/beer/profile/72/3280/?view=beer&sort=&start=750\n",
      "['4', '4.21', '3.7', '4.35', '4.15', '4', '4.04', '3.35', '4.07', '3.93', '3.6', '3.91', '3.51', '3.9', '3.88', '3.68', '3.92', '3.72', '4.02', '3.8', '4.17', '3.95', '5', '3.73', '3.92']\n",
      "https://www.beeradvocate.com/beer/profile/72/3280/?view=beer&sort=&start=775\n",
      "['3.76', '3.1', '3.83', '4.27', '4.3', '3.9', '4.45', '4.6', '4.2', '3.65', '3.97', '3.27', '3.88', '4.12', '4.15', '3.75', '3.95', '4.05', '3.41', '3.48', '4.13', '3.6', '4.27', '4.35', '4.45']\n",
      "https://www.beeradvocate.com/beer/profile/72/3280/?view=beer&sort=&start=800\n",
      "['4.42', '4', '4', '4.21', '4.14', '4.12', '4.45', '3.88', '4.12', '4.7', '3.5', '4.1', '4.25', '4.35', '4.19', '4.35', '3.38', '3.79', '3.55', '4.35', '3.94', '3.65', '4.03', '3.5', '4.1']\n",
      "https://www.beeradvocate.com/beer/profile/72/3280/?view=beer&sort=&start=825\n",
      "['4.45', '3.1', '3.55', '3.81', '4', '4.15', '3.55', '4.37', '4.18', '4.1', '3.92', '4.13', '4.06', '3.37', '3.41', '3.88', '4.2', '3.82', '2.68', '3.75', '4.3', '4.03', '3.1', '4.43', '4.35']\n",
      "https://www.beeradvocate.com/beer/profile/72/3280/?view=beer&sort=&start=850\n",
      "['4.45', '4.07', '3.6', '4.2', '3.97', '4.2', '4.35', '4.83', '4.3', '4.3', '3.65', '3.75', '3.98', '3.93', '4.13', '3.88', '3.75', '4.35', '3.98', '4.05', '4.14', '4.05', '4.23', '3.28', '3.95']\n"
     ]
    },
    {
     "name": "stderr",
     "output_type": "stream",
     "text": [
      "\r",
      "26it [1:06:06, 322.63s/it]"
     ]
    },
    {
     "name": "stdout",
     "output_type": "stream",
     "text": [
      "https://www.beeradvocate.com/beer/profile/72/3280/?view=beer&sort=&start=875\n",
      "['3.58', '3.85', '3.62', '4', '3.78']\n",
      "https://www.beeradvocate.com/beer/profile/355/5366/?view=beer&sort=&start=0\n",
      "['2.52', '2.69', '1.49', '3.86', '3.87', '2.63', '2.9', '3.07', '3.48', '3.42', '2.98', '2.98', '3.71', '2.62', '2.3', '2.31', '3.14', '1.53', '3.14', '3.29', '2.84', '3.22', '3.09', '2.14', '2.65']\n",
      "https://www.beeradvocate.com/beer/profile/355/5366/?view=beer&sort=&start=25\n",
      "['2.34', '2.49', '2.79', '2.51', '2.51', '3.21', '3.02', '2.93', '2.75', '3.75', '2.88', '2.98', '2.32', '3.15', '3.09', '2.85', '2.76', '2.01', '2.63', '2.68', '2.87', '3.21', '2.63', '2.09', '1.65']\n",
      "https://www.beeradvocate.com/beer/profile/355/5366/?view=beer&sort=&start=50\n",
      "['1.84', '2.73', '4.02', '2.48', '2.49', '3.1', '3.08', '3.05', '2.78', '2.16', '3.18', '2.53', '1.92', '3.32', '2.41', '1.26', '1.7', '2.58', '1.85', '3.46', '2.73', '2.08', '2.56', '3.72', '3']\n",
      "https://www.beeradvocate.com/beer/profile/355/5366/?view=beer&sort=&start=75\n",
      "['2.91', '4.15', '3.07', '2.47', '3.43', '3', '3.41', '2.86', '3.05', '3.92', '2.54', '2.21', '2.78', '3.06', '2.92', '2.54', '3.28', '2.36', '2.98', '2.61', '2.68', '3.68', '3', '3.84', '2.32']\n"
     ]
    },
    {
     "name": "stderr",
     "output_type": "stream",
     "text": [
      "\r",
      "27it [1:06:35, 234.54s/it]"
     ]
    },
    {
     "name": "stdout",
     "output_type": "stream",
     "text": [
      "https://www.beeradvocate.com/beer/profile/355/5366/?view=beer&sort=&start=100\n",
      "['2.38', '2.88', '2.58', '2.73', '2.59', '2.68', '1.75', '3.06', '2.85', '2.43', '2.03', '2.68', '2.56', '3.65', '2']\n",
      "https://www.beeradvocate.com/beer/profile/221/689/?view=beer&sort=&start=0\n",
      "['2.29', '2.66', '2.64', '2.87', '2.02', '2.83', '3.52', '3.16', '2.71', '2.92', '2.97', '1.93', '3.03', '4.26', '1.85', '3.28', '2.89', '3.28', '3.87', '3.01', '3.15', '2.79', '3.48', '2.58', '4.46']\n",
      "https://www.beeradvocate.com/beer/profile/221/689/?view=beer&sort=&start=25\n",
      "['3.05', '4', '2.5', '2.15', '3.65', '3.87', '3', '3.94', '3.38', '3.22', '1.83', '2.08', '3.36', '5', '3.41', '2.31', '2.79', '2.18', '2.7', '3.78', '3.61', '3.28', '3.61', '3.95', '3.09']\n",
      "https://www.beeradvocate.com/beer/profile/221/689/?view=beer&sort=&start=50\n",
      "['3', '3.25', '3.68', '3.25', '2.78', '3', '2.97', '3.42', '2.45', '2.25', '2.47', '2.74', '3.57', '1.9', '3.35', '3.98', '3.52', '2.24', '3.51', '3.69', '3.7', '3', '3.22', '3.05', '2.42']\n",
      "https://www.beeradvocate.com/beer/profile/221/689/?view=beer&sort=&start=75\n",
      "['3.4', '2.02', '4.04', '2.93', '3.38', '3.92', '3.07', '3.07', '3.5', '1.96', '2.12', '3.15', '3.2', '3.2', '3.06', '3.41', '3.44', '2.34', '5', '2.66', '3.41', '3', '3.63', '2.75', '2.84']\n",
      "https://www.beeradvocate.com/beer/profile/221/689/?view=beer&sort=&start=100\n",
      "['4.21', '2.4', '3.38', '3.64', '2.84', '2.96', '2.28', '3', '3.27', '3.17', '2.81', '2.81', '2.05', '2.78', '4.88', '3.68', '3.67', '3.5', '3.16', '2.34', '2.63', '2.36', '3.04', '3.31', '3.8']\n",
      "https://www.beeradvocate.com/beer/profile/221/689/?view=beer&sort=&start=125\n",
      "['3.69', '2.28', '3.53', '1', '3.55', '3.46', '2.75', '3.81', '3.3', '3.3', '4', '2.47', '3', '2.6', '4', '3.25', '2.94', '1', '2.02', '2.1', '1.88', '3.25', '4.06', '2.79', '2.37']\n",
      "https://www.beeradvocate.com/beer/profile/221/689/?view=beer&sort=&start=150\n",
      "['3.04', '3.2', '2.8', '3.13', '3.33', '3.16', '2.5', '1.97', '2.78', '3.38', '3.58', '4.35', '2.64', '3.07', '3.63', '3.12', '3.6', '2.75', '3.17', '3.66', '2.99', '3.23', '3.76', '4', '2.84']\n",
      "https://www.beeradvocate.com/beer/profile/221/689/?view=beer&sort=&start=175\n",
      "['3.2', '2.91', '3.49', '2.89', '2.51', '1.81', '3.2', '2.61', '3', '3.96', '2.87', '3.97', '3.18', '2.82', '2.34', '3.73', '2.77', '3.5', '2.8', '4.27', '3.4', '1.76', '2.31', '3.16', '2.15']\n",
      "https://www.beeradvocate.com/beer/profile/221/689/?view=beer&sort=&start=200\n",
      "['2.48', '1.78', '2.35', '2.58', '1.44', '1.98', '3.38', '3.65', '3.13', '2.5', '3.36', '3.04', '3.14', '2.58', '2.4', '2.85', '1.05', '2.29', '3.25', '3.57', '2.91', '2.31', '2.88', '2.86', '2.31']\n",
      "https://www.beeradvocate.com/beer/profile/221/689/?view=beer&sort=&start=225\n",
      "['3.13', '2.69', '2.54', '3', '2.75', '2.75', '2.4', '2.41', '2.52', '3.23', '2.88', '3', '1.78', '2.5', '3.3', '2.8', '2.28', '3.7', '3.48', '3.52', '3.47', '2.85', '3.2', '3.37', '3.53']\n",
      "https://www.beeradvocate.com/beer/profile/221/689/?view=beer&sort=&start=250\n",
      "['2.09', '2.63', '2.7', '2.88', '3.25', '3.71', '3.35', '2.25', '1.23', '3.58', '3.18', '2.68', '2.61', '2.71', '2.99', '3.35', '3.33', '3', '2.63', '3.35', '3.2', '4.14', '3.18', '2.92', '1.93']\n",
      "https://www.beeradvocate.com/beer/profile/221/689/?view=beer&sort=&start=275\n",
      "['3', '2.75', '1.88', '3.76', '2.61', '2.46', '2.78', '3.73', '3.05', '2.68', '3', '3', '2.8', '2.85', '3.15', '2.58', '3.5', '3.53', '3.25', '3.15', '3.11', '4', '2.57', '3.61', '2.82']\n",
      "https://www.beeradvocate.com/beer/profile/221/689/?view=beer&sort=&start=300\n",
      "['3.42', '2.83', '3.1', '2.56', '2.7', '3.18', '3.15', '3.82', '3.07', '3.13', '3.78', '2.78', '3.71', '3.38', '3.6', '3.75', '2.47', '2.91', '3.84', '3.3', '2.87', '3.9', '2.85', '2.65', '3.17']\n",
      "https://www.beeradvocate.com/beer/profile/221/689/?view=beer&sort=&start=325\n",
      "['3.45', '2.65', '3.1', '2.37', '2.97', '3.03', '3.72', '3.1', '3.58', '1.67', '2.46', '2.73', '1.64', '3.4', '3.68', '3.7', '3.27', '2.98', '2.21', '2.53', '3.58', '2.97', '2.63', '3.45', '1.87']\n",
      "https://www.beeradvocate.com/beer/profile/221/689/?view=beer&sort=&start=350\n",
      "['2.6', '3.25', '3.16', '3.06', '3.43', '2.95', '3.72', '2.11', '3.08', '2.95', '2.65', '2.91', '2.86', '3', '2.31', '2.06', '2.93', '2.81', '3.51', '3.06', '2.98', '2.23', '4.14', '3.84', '2.69']\n",
      "https://www.beeradvocate.com/beer/profile/221/689/?view=beer&sort=&start=375\n",
      "['3.38', '2.85', '3.95', '3.43', '3.11', '3.77', '2.39', '3.8', '3.46', '2.8', '1.79', '3.07', '3.04', '3.74', '4.73', '3.71', '3.28', '2.38', '4.52', '3.65', '3.35', '2.31', '3.65', '3.45', '1.6']\n",
      "https://www.beeradvocate.com/beer/profile/221/689/?view=beer&sort=&start=400\n",
      "['3.42', '3.3', '3.5', '3.1', '3.61', '3.77', '3.96', '3.86', '3.77', '3.2', '3.51', '3.7', '3.09', '2.98', '3.33', '2.92', '3.69', '3.26', '3.08', '1.55', '3.43', '3.44', '3.57', '2.76', '2.7']\n",
      "https://www.beeradvocate.com/beer/profile/221/689/?view=beer&sort=&start=425\n",
      "['2.44', '3.88', '3.64', '3.44', '3.66', '3.23', '3.47', '3.02', '3.41', '3', '3.99', '2.5', '2.79', '2.49', '3.4', '3.77', '3.22', '3.24', '2.96', '3.06', '3.47', '3', '3', '3.7', '3.77']\n",
      "https://www.beeradvocate.com/beer/profile/221/689/?view=beer&sort=&start=450\n",
      "['2.11', '4.18', '4.73', '2.58', '3.57', '3.65', '3.81', '2.56', '1.84', '3.47', '3.24', '2.19', '2.2', '3.38', '3.25', '3', '3.33', '2.93', '3.33', '3.26', '2.8', '2.98', '3.53', '2.96', '3']\n",
      "https://www.beeradvocate.com/beer/profile/221/689/?view=beer&sort=&start=475\n",
      "['3.07', '1.58', '3', '3.59', '3.42', '3.82', '3.85', '3.3', '2.75', '2.94', '3.52', '3', '3.48', '3.52', '2.58', '2.78', '2.33', '3.05', '2.84', '3.18', '2.36', '3.38', '2.66', '3.18', '2.43']\n",
      "https://www.beeradvocate.com/beer/profile/221/689/?view=beer&sort=&start=500\n",
      "['2.05', '2.28', '2.88', '3.33', '3.35', '3.46', '3.55', '3.4', '2.54', '2.85', '2.83', '3.23', '3.35', '2.91', '2.68', '3.3', '1.6', '3.52', '1.79', '2.94', '3.22', '2.4', '3.55', '2.94', '3.3']\n",
      "https://www.beeradvocate.com/beer/profile/221/689/?view=beer&sort=&start=525\n",
      "['3.3', '3.67', '2.99', '2.63', '3.82', '2.87', '3.43', '1.68', '2.88', '3.57', '3.86', '3.1', '3.85', '3.9', '2.5', '3.08', '3.43', '3.03', '3.77', '2.15', '3.28', '3.72', '3.45', '2.8', '3.6']\n",
      "https://www.beeradvocate.com/beer/profile/221/689/?view=beer&sort=&start=550\n",
      "['1.85', '3.34', '2.68', '2.48', '3.47', '2.86', '3.4', '3.6', '2.88', '4.68', '3.21', '3.52', '2.93', '3.45', '2.52', '3.18', '3.12', '2.35', '2.68', '3.98', '3.37', '3.78', '3.41', '3.5', '2.86']\n",
      "https://www.beeradvocate.com/beer/profile/221/689/?view=beer&sort=&start=575\n",
      "['3.65', '2.73', '3.06', '3.32', '2.68', '2.91', '3.45', '3.35', '3.35', '3.02', '3.1', '3.1', '2.2', '1.84', '1.06', '3.55', '2.17', '2.23', '2', '3.9', '2.83', '2.56', '3.03', '2.37', '2.06']\n",
      "https://www.beeradvocate.com/beer/profile/221/689/?view=beer&sort=&start=600\n",
      "['3.05', '3.57', '2.99', '3.43', '2.8', '1.33', '3.03', '1.73', '3.15', '2.77', '3.4', '3.56', '2.88', '3.95', '3.18', '3.63', '2.38', '3.9', '3.63', '3.3', '3.16', '3.12', '2.66', '4', '3.8']\n",
      "https://www.beeradvocate.com/beer/profile/221/689/?view=beer&sort=&start=625\n",
      "['3.51', '3.73', '1.75', '2.73', '3.38', '3.5', '3', '2.36', '2.46', '3.8', '3.95', '2.56', '3.45', '2.92', '3', '2.83', '3.89', '3.07', '3.29', '3.38', '3.74', '1.87', '3.33', '3.53', '2.56']\n",
      "https://www.beeradvocate.com/beer/profile/221/689/?view=beer&sort=&start=650\n",
      "['3', '3.01', '1.85', '3.45', '3.65', '2.8', '1.87', '3.36', '3.56', '2.3', '3.64', '2.76', '3.33', '2.56', '3.22', '2.43', '3.15', '2.93', '2.83', '3.57', '2.81', '3.6', '2.92', '3.15', '2.56']\n",
      "https://www.beeradvocate.com/beer/profile/221/689/?view=beer&sort=&start=675\n",
      "['3.24', '3.07', '3', '4.15', '3.2', '3.33', '3.07', '2.21', '3.4', '3.2', '2.16', '3.59', '3.64', '3.03', '3.01', '2.63', '2.98', '3.45', '3.05', '3.2', '2.78', '2.22', '3.07', '1.43', '3.04']\n",
      "https://www.beeradvocate.com/beer/profile/221/689/?view=beer&sort=&start=700\n",
      "['3.67', '2.68', '2.68', '2.14', '4.1', '2.8', '2.74', '3', '2.05', '2.25', '3.33', '3.03', '3.1', '1.78', '2.5', '2.96', '3.04', '3.28', '3.35', '3.72', '4.73', '3.1', '2.8', '3.24', '3.9']\n",
      "https://www.beeradvocate.com/beer/profile/221/689/?view=beer&sort=&start=725\n",
      "['3.3', '2.98', '3.1', '3.16', '3.4', '2.73', '3.19', '2.43', '3.42', '3', '3.55', '2.76', '3.15', '3.99', '3.75', '3.3', '2.77', '2.88', '3.53', '2.2', '3.5', '2', '2.77', '2.8', '2.56']\n"
     ]
    },
    {
     "name": "stdout",
     "output_type": "stream",
     "text": [
      "https://www.beeradvocate.com/beer/profile/221/689/?view=beer&sort=&start=750\n",
      "['2.96', '2.98', '2.99', '3.05', '3.18', '3.13', '2.2', '2.93', '3.4', '2.94', '3', '3.75', '2.15', '3.28', '3.38', '3.53', '3.12', '2.99', '2.15', '3.4', '3.44', '2.83', '3.7', '3.82', '3']\n",
      "https://www.beeradvocate.com/beer/profile/221/689/?view=beer&sort=&start=775\n",
      "['3.4', '2.81', '2.2', '2.06', '3.22', '3.28', '2.93', '3.1', '3.54', '2.08', '3.35', '1.81', '3.23', '2.85', '3.36', '3.04', '2.95', '2.74', '2.95', '3.08', '3', '3.03', '2.88', '2.9', '2.85']\n",
      "https://www.beeradvocate.com/beer/profile/221/689/?view=beer&sort=&start=800\n",
      "['3.13', '3.53', '3.36', '3.45', '2.06', '3.48', '2.53', '2.64', '3.33', '2.25', '3.75', '3.4', '2.88', '3.6', '3.12', '2.91', '2.8', '3.61', '2.54', '3.8', '3', '2.73', '2.75', '2.45', '3.13']\n",
      "https://www.beeradvocate.com/beer/profile/221/689/?view=beer&sort=&start=825\n",
      "['3.41', '3.06', '4.15', '3.3', '2.9', '3.57', '3.1', '3.12', '2.7', '3.07', '3.18', '1.38', '2.62', '3.06', '3.56', '3.13', '3.52', '3.2', '3.1', '2.6', '2.86', '2.94', '3.37', '2.97', '2.25']\n",
      "https://www.beeradvocate.com/beer/profile/221/689/?view=beer&sort=&start=850\n",
      "['4.14', '2.91', '2.37', '1.28', '2.91', '3.5', '3.13', '1.9', '4.42', '2.55', '1.21', '2.72', '3.79', '2.9', '3.02', '2.2', '2.85', '2.69', '4.07', '2.03', '1.75', '3.18', '2.85', '3.25', '2.73']\n",
      "https://www.beeradvocate.com/beer/profile/221/689/?view=beer&sort=&start=875\n",
      "['3.1', '1.9', '3.3', '3.12', '2.92', '2.58', '3.85', '3.82', '2.46', '4.64', '2.03', '3.15', '2.9', '1.86', '3.35', '2.98', '2.28', '2.61', '3.35', '3.52', '3.28', '2.41', '3.73', '2.38', '3.3']\n",
      "https://www.beeradvocate.com/beer/profile/221/689/?view=beer&sort=&start=900\n",
      "['3.13', '1.76', '1.9', '2.91', '3.33', '3.03', '3.33', '2.92', '3.1', '3.1', '3.2', '2.9', '3.33', '3.73', '3.05', '2.95', '3.55', '3.86', '3.4', '2.26', '2.65', '3.4', '3.16', '3.48', '2.11']\n",
      "https://www.beeradvocate.com/beer/profile/221/689/?view=beer&sort=&start=925\n",
      "['3.12', '2.81', '3.25', '2.29', '3.43', '3.46', '3.47', '2.59', '3.34', '2.12', '2.58', '3.48', '2.18', '2.8', '2.28', '3.23', '3.03', '2.43', '3.83', '2.98', '2.73', '2.37', '2.65', '2.65', '2.85']\n",
      "https://www.beeradvocate.com/beer/profile/221/689/?view=beer&sort=&start=950\n",
      "['3.49', '3.18', '1.61', '3.65', '2.76', '2.12', '1.18', '3', '1.8', '2.18', '2.58', '2.51', '2.53', '2.26', '2.58', '1.85', '3.73', '2.35', '2.68', '3.08', '3.23', '1.54', '2.77', '3.48', '3.45']\n",
      "https://www.beeradvocate.com/beer/profile/221/689/?view=beer&sort=&start=975\n",
      "['2.51', '2.14', '1.88', '2.68', '2.88', '3.37', '2.58', '3.33', '2.95', '2.54', '3.76', '3.23', '2.66', '3.9', '3.55', '3.06', '2.54', '3', '3.03', '3.33', '4.02', '3.86', '2.5', '4', '2.73']\n",
      "https://www.beeradvocate.com/beer/profile/221/689/?view=beer&sort=&start=1000\n",
      "['2.4', '3.33', '3.7', '3.88', '3.95', '3.3', '2.5', '3.18', '2.84', '2.93', '3', '1.38', '3.5', '2.7', '3.05', '3.7', '3.5', '2.63', '2.3', '2.83', '2.43', '2.6', '2.56', '3.77', '3.3']\n"
     ]
    },
    {
     "name": "stderr",
     "output_type": "stream",
     "text": [
      "\r",
      "28it [1:10:46, 239.56s/it]"
     ]
    },
    {
     "name": "stdout",
     "output_type": "stream",
     "text": [
      "https://www.beeradvocate.com/beer/profile/221/689/?view=beer&sort=&start=1025\n",
      "['3.48']\n",
      "https://www.beeradvocate.com/beer/profile/2974/799/?view=beer&sort=&start=0\n",
      "['3.32', '3.75', '4.44', '4.71', '4.19', '3.67', '3.54', '3.66', '4.5', '4', '3.71', '3.5', '3.69', '3.59', '3.39', '3.1', '3.18', '3.38', '3.89', '3.42', '2.9', '3.35', '3.33', '3.69', '3.52']\n",
      "https://www.beeradvocate.com/beer/profile/2974/799/?view=beer&sort=&start=25\n",
      "['1.53', '3.51', '2.83', '3.7', '3.73', '3.88', '3.73', '3.7', '4.11', '4.94', '3.69', '3.35', '3.29', '4.27', '3.37', '4.06', '4.22', '4.25', '3.7', '4.54', '3.63', '3.75', '3.75', '4.21', '3.74']\n",
      "https://www.beeradvocate.com/beer/profile/2974/799/?view=beer&sort=&start=50\n",
      "['3.65', '3.9', '3.54', '3.93', '3.43', '4.04', '3.93', '3.69', '3.65', '3.25', '3.76', '3.74', '3.77', '4', '4.05', '3.56', '3.6', '4', '3.74', '3.46', '4.05', '1.11', '5', '3.77', '2.74']\n",
      "https://www.beeradvocate.com/beer/profile/2974/799/?view=beer&sort=&start=75\n",
      "['3.31', '4.25', '2.59', '3.15', '3.07', '3.98', '3.57', '2.97', '3.3', '3.52', '3.91', '2.68', '3.76', '3.68', '4.1', '2.51', '2.28', '3.5', '2.52', '4', '4.25', '3.88', '3.73', '3.75', '4.75']\n",
      "https://www.beeradvocate.com/beer/profile/2974/799/?view=beer&sort=&start=100\n",
      "['2.8', '3.7', '3.75', '3.9', '2.95', '3.63', '3.54', '3.31', '3.44', '3.56', '3.91', '3.81', '3.34', '2', '3.54', '3.35', '3.75', '3.79', '4.16', '5', '4.86', '3.1', '3.27', '4', '3.79']\n",
      "https://www.beeradvocate.com/beer/profile/2974/799/?view=beer&sort=&start=125\n",
      "['3.39', '3.88', '3.66', '3.55', '3.69', '3.86', '2.85', '3.43', '3.09', '3.94', '3.9', '4', '3.91', '3.99', '4.3', '3.84', '3.41', '4.47', '3.53', '4.35', '3.83', '3.6', '2.74', '3.83', '3.5']\n",
      "https://www.beeradvocate.com/beer/profile/2974/799/?view=beer&sort=&start=150\n",
      "['3.38', '3.48', '3.43', '3', '3.88', '3.13', '3.04', '3.6', '3.88', '3.75', '3.97', '3.31', '3', '3.88', '3.36', '2.96', '4.22', '4.6', '3.64', '3.92', '3.23', '4.23', '3.7', '3.83', '2.13']\n",
      "https://www.beeradvocate.com/beer/profile/2974/799/?view=beer&sort=&start=175\n",
      "['3.5', '2.97', '3.82', '3.52', '3.73', '3.75', '3.88', '2.6', '3.5', '3.61', '3.77', '4.03', '3.41', '3.36', '2.98', '3.58', '3.72', '4.13', '3.48', '3.8', '3.77', '3.63', '3.78', '3.89', '3.65']\n",
      "https://www.beeradvocate.com/beer/profile/2974/799/?view=beer&sort=&start=200\n",
      "['2.35', '3.2', '4.8', '4.35', '3.98', '3.88', '3.45', '3.7', '3.25', '3.45', '3.8', '3.72', '4.35', '3.15', '4.4', '3.2', '3.21', '3.51', '3.4', '3.68', '3.35', '3.77', '3.73', '3.55', '4']\n",
      "https://www.beeradvocate.com/beer/profile/2974/799/?view=beer&sort=&start=225\n",
      "['2.4', '2.86', '3.68', '4.85', '3', '3.74', '3.28', '3.98', '3.83', '3.76', '4', '3.86', '3.97', '3.63', '4.2', '3.48', '3.48', '3.97', '3.28', '3.56', '3.23', '3.65', '2.99', '4.12', '3.8']\n",
      "https://www.beeradvocate.com/beer/profile/2974/799/?view=beer&sort=&start=250\n",
      "['3.63', '3.62', '3.65', '4.1', '3.71', '3.65', '3.98', '3.86', '4', '3.24', '3.38', '4.38', '3.52', '2.15', '3.43', '3.76', '4.2', '3.06', '2.68', '4.05', '3.65', '3.7', '3.5', '3.71', '3.85']\n",
      "https://www.beeradvocate.com/beer/profile/2974/799/?view=beer&sort=&start=275\n",
      "['4', '3.9', '4.18', '3.17', '3.16', '4', '4.13', '4', '4.3', '3.56', '3.57', '3.95', '3.36', '3.88', '3.7', '4.53', '4.24', '3.76', '3.79', '4.42', '3.76', '3.31', '4.5', '3.65', '3.5']\n",
      "https://www.beeradvocate.com/beer/profile/2974/799/?view=beer&sort=&start=300\n",
      "['3.82', '4.87', '3.73', '4.1', '4.6', '4.42', '4', '3.2', '3.38', '3.95', '4.65', '3.73', '3.7', '2.34', '3.39', '3.8', '3.73', '3.73', '3.9', '4.03', '3.72', '3.8', '4.3', '3.53', '4.2']\n",
      "https://www.beeradvocate.com/beer/profile/2974/799/?view=beer&sort=&start=325\n",
      "['3.98', '3.64', '4.08', '2.88', '4.32', '3.86', '3.48', '3.93', '4.48', '4.76', '3.85', '3.96', '3.3', '3.62', '4.3', '3.68', '4.63', '3.9', '4.12', '3.98', '4', '3.85', '3.2', '2.14', '4.64']\n",
      "https://www.beeradvocate.com/beer/profile/2974/799/?view=beer&sort=&start=350\n",
      "['3.88', '3.42', '3.85', '3.8', '3.45', '3.41', '4', '4.53', '4.05', '3.96', '4.3', '3.97', '3.86', '3.85', '3.4', '3.78', '3.23', '2.8', '3.16', '4.03', '3.35', '4', '3.76', '3.5', '3.33']\n",
      "https://www.beeradvocate.com/beer/profile/2974/799/?view=beer&sort=&start=375\n",
      "['3.15', '3.23', '2.46', '3.73', '3.85', '3.51', '3.79', '2.78', '4.01', '3.45', '3', '3.85', '2.2', '3.48', '3.5', '3.2', '2.33', '4.25', '4.1', '3.92', '3.83', '3.2', '2.87', '3.2', '3.51']\n",
      "https://www.beeradvocate.com/beer/profile/2974/799/?view=beer&sort=&start=400\n",
      "['3.67', '4', '3.53', '3.01', '3.95', '4.2', '3.98', '2.05', '2.62', '3.08', '3.83', '3.25', '3.18', '3.12', '3.88', '4.01', '4.1', '2.77', '4.2', '3.5', '2.84', '4.38', '3.45', '3.53', '3.63']\n",
      "https://www.beeradvocate.com/beer/profile/2974/799/?view=beer&sort=&start=425\n",
      "['4.01', '3.03', '2.88', '3.78', '3.98', '3.6', '4.7', '3.51', '2.73', '3.98', '3.63', '3.81', '3.61', '3.8', '1.83', '3.69', '3.95', '2.58', '2.34', '3.12', '3.3', '4.1', '3.68', '3.51', '2.89']\n"
     ]
    },
    {
     "name": "stderr",
     "output_type": "stream",
     "text": [
      "\r",
      "29it [1:12:38, 201.27s/it]"
     ]
    },
    {
     "name": "stdout",
     "output_type": "stream",
     "text": [
      "https://www.beeradvocate.com/beer/profile/2974/799/?view=beer&sort=&start=450\n",
      "['4.12', '3.83', '2.65', '3.8', '4.1', '3.98', '4.15', '4.05', '3.45', '4.13', '4.06', '4', '3.76']\n",
      "https://www.beeradvocate.com/beer/profile/1/429/?view=beer&sort=&start=0\n",
      "['5', '3.67', '3.88', '3.65', '4.56', '4.01', '3.73', '3.65', '4.3', '4.5', '3.54', '4.51', '4.77', '4.69', '4.1', '4.49', '4.75', '4.4', '4.48', '3.63', '3.84', '4.76', '3.84', '3.98', '4.74']\n",
      "https://www.beeradvocate.com/beer/profile/1/429/?view=beer&sort=&start=25\n",
      "['3.79', '4', '3.58', '3.63', '3.75', '4.36', '3.92', '3.53', '4.94', '4.61', '3.71', '4.59', '1.68', '4.11', '2.7', '4.91', '3.97', '3.87', '4.3', '2.77', '3.79', '3.44', '4.21', '3.25', '4.21']\n",
      "https://www.beeradvocate.com/beer/profile/1/429/?view=beer&sort=&start=50\n",
      "['3.53', '5', '3.49', '3.73', '4.28', '4.2', '4.24', '4.08', '4.56', '4.03', '3.65', '3.72', '4', '3.86', '3.7', '3.24', '4.01', '4.18', '3.38', '3.94', '3.72', '5', '4.4', '4.28', '4.44']\n",
      "https://www.beeradvocate.com/beer/profile/1/429/?view=beer&sort=&start=75\n",
      "['3.75', '3.88', '4.1', '3.23', '3.33', '4', '3.85', '3.35', '4.17', '3.54', '4.06', '3.95', '3', '4.73', '3.58', '4.1', '3.71', '3.22', '3.85', '3.77', '4.28', '3.25', '3.77', '5', '4.03']\n",
      "https://www.beeradvocate.com/beer/profile/1/429/?view=beer&sort=&start=100\n",
      "['3.76', '3.93', '3.17', '3.13', '3.09', '2.92', '4.03', '3.9', '3.54', '4', '3.99', '4', '3.54', '3.77', '2.61', '3.69', '5', '4.35', '5', '4.94', '4.36', '4.56', '3.73', '4.44', '3.53']\n",
      "https://www.beeradvocate.com/beer/profile/1/429/?view=beer&sort=&start=125\n",
      "['3.69', '3.5', '4.88', '4.65', '3.84', '5', '2.74', '3.54', '3.79', '3.07', '3.28', '4.3', '3.03', '3.78', '3.88', '4.25', '2.57', '4.33', '3.32', '4.36', '4.17', '3.91', '3.83', '3.77', '3.71']\n",
      "https://www.beeradvocate.com/beer/profile/1/429/?view=beer&sort=&start=150\n",
      "['3.85', '4.1', '3.74', '3.49', '2.56', '4.18', '3.96', '4.24', '3.85', '4.63', '4.21', '3.68', '1.33', '4.33', '3.36', '3.54', '4.27', '3.8', '3.94', '3.37', '3.39', '3.83', '4.5', '4.79', '3.55']\n",
      "https://www.beeradvocate.com/beer/profile/1/429/?view=beer&sort=&start=175\n",
      "['1.98', '3.4', '4', '3.88', '4.66', '4.12', '3.3', '4', '4.22', '3.63', '4.35', '3.6', '3.47', '3.8', '4.2', '3', '3.75', '4.03', '4.03', '3.15', '4.16', '4.04', '3.79', '3.04', '3.64']\n",
      "https://www.beeradvocate.com/beer/profile/1/429/?view=beer&sort=&start=200\n",
      "['3.32', '3.62', '2.34', '3.84', '3.85', '3.79', '4.22', '3.57', '3.2', '4.08', '3.39', '3.58', '3.21', '3.4', '5', '3.44', '3.59', '4.21', '3.58', '3.07', '3.99', '3.5', '4', '4.43', '3.63']\n",
      "https://www.beeradvocate.com/beer/profile/1/429/?view=beer&sort=&start=225\n",
      "['3.7', '3.53', '3.4', '3.75', '3.53', '4', '3.09', '1.99', '3.79', '3.51', '4.12', '4.58', '3.79', '3.54', '4.04', '1.41', '4.06', '3.86', '4.07', '3.85', '3.34', '3.54', '3.18', '2.09', '3.87']\n",
      "https://www.beeradvocate.com/beer/profile/1/429/?view=beer&sort=&start=250\n",
      "['4.25', '3.62', '4.49', '3.88', '4.38', '3.69', '3.71', '4.4', '3.78', '4.25', '3.81', '1.37', '2.45', '3.43', '2.94', '3.83', '3.35', '4.12', '4.81', '4.18', '4.34', '4.14', '3.92', '3.85', '3.48']\n",
      "https://www.beeradvocate.com/beer/profile/1/429/?view=beer&sort=&start=275\n",
      "['3.88', '4', '3.5', '3.49', '2.34', '2.79', '5', '4.26', '4.59', '3.75', '3.53', '4.52', '3.77', '4.28', '4.06', '3.18', '3.18', '3.79', '4.34', '4.35', '3.53', '4', '1.81', '4.66', '3.71']\n",
      "https://www.beeradvocate.com/beer/profile/1/429/?view=beer&sort=&start=300\n",
      "['4.21', '4.1', '3.69', '4.77', '3.43', '3', '3', '3.69', '3.78', '4.13', '4.79', '4.48', '4.13', '3.7', '3.15', '3.81', '3.82', '4.66', '4.28', '2.14', '3.9', '4.3', '3.95', '4.68', '4.44']\n",
      "https://www.beeradvocate.com/beer/profile/1/429/?view=beer&sort=&start=325\n",
      "['4.45', '4.61', '3.39', '3.79', '3.64', '3.69', '3.93', '3.86', '3.4', '3.88', '3.75', '3.79', '4', '3.36', '4.75', '3', '3.75', '5', '5', '3.5', '3.52', '2.86', '4.11', '3.75', '4.54']\n",
      "https://www.beeradvocate.com/beer/profile/1/429/?view=beer&sort=&start=350\n",
      "['4.12', '3.25', '3.6', '4', '4.75', '4', '3.59', '3.35', '3.64', '3.99', '4', '3.74', '4.6', '4.74', '1.12', '4.51', '4.04', '3.99', '3.78', '3.47', '3.56', '3.21', '3.68', '4.01', '3.74']\n",
      "https://www.beeradvocate.com/beer/profile/1/429/?view=beer&sort=&start=375\n",
      "['4.05', '4.94', '3.61', '3.97', '3.85', '3.98', '4.23', '4.21', '4.96', '3.67', '4.04', '4', '3.51', '3.77', '3.97', '4.69', '3.78', '3.25', '3.48', '3.94', '5', '3.78', '3.71', '3.65', '4.15']\n",
      "https://www.beeradvocate.com/beer/profile/1/429/?view=beer&sort=&start=400\n",
      "['3.93', '4.5', '4.63', '3.48', '3.12', '3.72', '4.02', '3.98', '4.12', '4.39', '3.32', '3.93', '3.62', '4.07', '4.79', '4.5', '3.84', '2.81', '3.53', '3.46', '4.5', '3.6', '3.64', '3.65', '4.56']\n",
      "https://www.beeradvocate.com/beer/profile/1/429/?view=beer&sort=&start=425\n",
      "['3.97', '3.83', '3.52', '4.1', '4.06', '3.73', '4.08', '3.77', '3.68', '3.78', '3.48', '3.7', '2.5', '3.64', '3.59', '4.98', '3.93', '3.55', '3.6', '3.74', '4.22', '4.52', '3.09', '3.62', '3.38']\n",
      "https://www.beeradvocate.com/beer/profile/1/429/?view=beer&sort=&start=450\n",
      "['3.74', '4.01', '4.11', '3.3', '5', '4.73', '3.22', '4.06', '2.73', '4.13', '3.92', '2.98', '3.8', '3.53', '3.79', '3.8', '4.1', '4.38', '4.03', '3.73', '3.78', '4.5', '3.83', '4.94', '3.25']\n",
      "https://www.beeradvocate.com/beer/profile/1/429/?view=beer&sort=&start=475\n",
      "['4', '3.7', '4', '4.65', '4.38', '3.7', '3.65', '4.22', '3.67', '3.83', '4.55', '3.82', '3.73', '3.73', '3.15', '3.6', '3.67', '3.25', '3.77', '3.31', '3.05', '3.35', '4.15', '3.36', '3.6']\n",
      "https://www.beeradvocate.com/beer/profile/1/429/?view=beer&sort=&start=500\n",
      "['2.42', '3.65', '3.53', '3.55', '3.62', '2.96', '4.13', '3.73', '3.67', '4.02', '2.68', '3.12', '4.2', '2.89', '3.01', '3.83', '4.7', '3.42', '3.97', '3', '3.31', '3.28', '3.83', '3', '3.78']\n",
      "https://www.beeradvocate.com/beer/profile/1/429/?view=beer&sort=&start=525\n",
      "['3.94', '3.93', '3.65', '2.71', '3.98', '3.81', '3.6', '3.97', '3.68', '3.68', '3.43', '3.53', '3.63', '3.88', '2.3', '3.91', '3.62', '2.91', '3.8', '3.06', '3.52', '2.06', '3.15', '3.6', '2.81']\n",
      "https://www.beeradvocate.com/beer/profile/1/429/?view=beer&sort=&start=550\n",
      "['2.51', '3.67', '3.28', '3.31', '3.64', '3.73', '3.68', '3.55', '4', '3.75', '2.4', '4', '3.83', '3.08', '3.3', '2.19', '4.13', '3.1', '3.68', '3.85', '3.88', '3.72', '3.44', '2.74', '3.13']\n",
      "https://www.beeradvocate.com/beer/profile/1/429/?view=beer&sort=&start=575\n",
      "['3.38', '3.55', '3.41', '3.74', '4', '3.55', '4.7', '4.35', '4.53', '3.3', '3.95', '3.45', '3.85', '3.23', '3.96', '4.08', '3.58', '3.54', '4.19', '3.65', '4.04', '3.36', '3.94', '2.9', '3.56']\n",
      "https://www.beeradvocate.com/beer/profile/1/429/?view=beer&sort=&start=600\n",
      "['3.17', '3.86', '3.58', '1.32', '3.85', '3.58', '3.5', '3.39', '4.33', '4', '3.48', '3.48', '3.47', '3.97', '3.69', '3.73', '2.88', '3.73', '4.35', '3.58', '3.03', '3.34', '3.53', '3.53', '3.47']\n",
      "https://www.beeradvocate.com/beer/profile/1/429/?view=beer&sort=&start=625\n",
      "['4.41', '3.75', '3.73', '3.97', '3.14', '3.07', '3.88', '3.21', '3.5', '3.88', '3.75', '3.66', '4.19', '3.67', '3.08', '3.55', '4.33', '3.47', '3.72', '2.91', '3.45', '3.78', '3.6', '2.65', '3.88']\n",
      "https://www.beeradvocate.com/beer/profile/1/429/?view=beer&sort=&start=650\n",
      "['4', '3.7', '3.83', '4', '3.38', '3.63', '3.87', '3.3', '2.26', '3.78', '3.95', '3.85', '3.03', '3.98', '3.03', '3.78', '3.5', '4', '2.86', '3.23', '4.01', '4.27', '3.9', '4.25', '3.88']\n",
      "https://www.beeradvocate.com/beer/profile/1/429/?view=beer&sort=&start=675\n",
      "['2.5', '4.15', '4.36', '3.8', '3.23', '2.8', '3.78', '3.53', '2.4', '2.68', '3.33', '4.05', '2.36', '4.08', '4.07', '3.6', '4.8', '3.62', '3.5', '1.78', '3.65', '4.12', '3.93', '3.53', '3.88']\n",
      "https://www.beeradvocate.com/beer/profile/1/429/?view=beer&sort=&start=700\n",
      "['3.46', '4.63', '3.36', '4.24', '3.23', '4', '3.53', '3.56', '2.78', '3.92', '3.85', '3.94', '1.76', '4', '3.84', '3.9', '4', '3.79', '3', '4.27', '3.7', '4.06', '4.23', '3.33', '3.77']\n",
      "https://www.beeradvocate.com/beer/profile/1/429/?view=beer&sort=&start=725\n",
      "['4', '4.27', '4.55', '4.27', '4.02', '3.95', '4.08', '3.52', '3.63', '3.74', '3.41', '3.58', '4.2', '4.15', '4.38', '4.1', '3.75', '3.38', '3.06', '3.6', '3.63', '4.08', '4.1', '3.53', '5']\n"
     ]
    },
    {
     "name": "stdout",
     "output_type": "stream",
     "text": [
      "https://www.beeradvocate.com/beer/profile/1/429/?view=beer&sort=&start=750\n",
      "['4.5', '4.1', '4.88', '3.82', '3.47', '5', '3.54', '4.3', '4', '3.88', '3.48', '3.97', '3.52', '3.16', '2.93', '5', '3.82', '4.5', '3.65', '3.97', '3.9', '3.3', '3.15', '3.72', '4.38']\n",
      "https://www.beeradvocate.com/beer/profile/1/429/?view=beer&sort=&start=775\n",
      "['3.68', '4.1', '4.4', '3.53', '3.55', '3.93', '3.89', '3.93', '3.77', '2.79', '3.92', '3', '3.65', '1.36', '4.2', '3.63', '3.68', '3.83', '3.83', '4.07', '3.63', '3.78', '3.83', '3.15', '3.5']\n",
      "https://www.beeradvocate.com/beer/profile/1/429/?view=beer&sort=&start=800\n",
      "['4', '3.82', '3.15', '3.62', '3.02', '3.53', '3.52', '4.01', '4.82', '3.38', '3.56', '3.46', '3.26', '3.92', '3.85', '3.79', '3.75', '3.94', '3.78', '3.94', '4.22', '3.65', '4.87', '3.72', '3.68']\n",
      "https://www.beeradvocate.com/beer/profile/1/429/?view=beer&sort=&start=825\n",
      "['3.68', '3.97', '4.22', '4.17', '3.85', '3.96', '3.32', '4.05', '3.95', '3.58', '3.95', '4.18', '2.8', '3.46', '2.95', '3.39', '3.65', '3.2', '3.55', '3.6', '2.7', '2.93', '3.58', '3.85', '3.9']\n",
      "https://www.beeradvocate.com/beer/profile/1/429/?view=beer&sort=&start=850\n",
      "['3.68', '4.01', '3.98', '4.37', '3.75', '3.45', '4.38', '3.63', '4.2', '3.86', '3.12', '3.36', '3.98', '3.84', '3.95', '3.31', '3.35', '3.85', '4.03', '3.63', '2.15', '3.61', '3.73', '3.82', '3.33']\n",
      "https://www.beeradvocate.com/beer/profile/1/429/?view=beer&sort=&start=875\n",
      "['3.35', '4.55', '3.74', '3', '3.53', '3.91', '4.67', '3.41', '3.16', '4.01', '3.93', '3.59', '4.07', '3.74', '3.1', '2.74', '3.67', '3.82', '3.43', '3.65', '3.88', '4.16', '4', '3.43', '4.9']\n",
      "https://www.beeradvocate.com/beer/profile/1/429/?view=beer&sort=&start=900\n",
      "['4.33', '2.98', '4.4', '3.28', '3.6', '3.77', '4', '3.48', '3.75', '3.45', '1.77', '2.86', '3.35', '3.93', '3.44', '3.43', '3.64', '3.65', '3.31', '3.82', '3.53', '3.85', '3.86', '2.18', '4.32']\n",
      "https://www.beeradvocate.com/beer/profile/1/429/?view=beer&sort=&start=925\n",
      "['3.73', '3.55', '4.14', '3.5', '3.72', '3.28', '3.67', '3.26', '3.95', '3.3', '4.15', '3.23', '3.39', '3.58', '2.92', '3.52', '3.22', '2.31', '4', '3.6', '3.88', '3.18', '4.03', '4.16', '4.18']\n",
      "https://www.beeradvocate.com/beer/profile/1/429/?view=beer&sort=&start=950\n",
      "['3.68', '4.13', '3.45', '3.4', '4.03', '4.03', '3.87', '3.88', '4.21', '3.53', '3.6', '3.98', '3.53', '3.56', '3.67', '3.94', '3.73', '3.65', '3.62', '3.55', '3.82', '3.26', '4.08', '3.83', '4.22']\n",
      "https://www.beeradvocate.com/beer/profile/1/429/?view=beer&sort=&start=975\n",
      "['3.7', '2.34', '4', '3.88', '4.05', '4.45', '3.56', '4.76', '3.48', '4.24', '4.15', '4.37', '2.51', '3.7', '3.93', '3.78', '3.85', '3.1', '3.73', '3.2', '4', '2.89', '3.41', '3.84', '4.24']\n",
      "https://www.beeradvocate.com/beer/profile/1/429/?view=beer&sort=&start=1000\n",
      "['3.38', '3.68', '3.58', '3.16', '3.58', '4.45', '3.57', '3.62', '3.75', '3.18', '3.72', '4.03', '4.1', '4.13', '2.83', '3.35', '3.63', '3.54', '2.63', '3.43', '3.38', '3.51', '3.75', '2.53', '3.59']\n",
      "https://www.beeradvocate.com/beer/profile/1/429/?view=beer&sort=&start=1025\n",
      "['3.63', '3.48', '3.53', '3', '3.56', '3.75', '3.65', '3.87', '4.37', '4.2', '3.09', '4.29', '3.68', '3.34', '3.45', '4.26', '3.85', '3.84', '2.36', '3.99', '3.54', '2.94', '4.9', '3.92', '3.65']\n",
      "https://www.beeradvocate.com/beer/profile/1/429/?view=beer&sort=&start=1050\n",
      "['3.25', '2.78', '4.12', '2.82', '4.1', '3.98', '3.65', '3.82', '3.36', '4.66', '4.5', '3.41', '3.88', '4.22', '3.71', '3.23', '2.62', '4.23', '4.09', '2.95', '3.99', '3.41', '3.33', '4.42', '3.68']\n",
      "https://www.beeradvocate.com/beer/profile/1/429/?view=beer&sort=&start=1075\n",
      "['3.52', '3.43', '3.45', '4.2', '4', '3.83', '3.71', '3.48', '3.75', '3.67', '4.13', '3.28', '3.53', '4.03', '2.36', '3.15', '3.43', '4.02', '3.85', '4.27', '3.18', '3.33', '3.03', '4.2', '3.23']\n",
      "https://www.beeradvocate.com/beer/profile/1/429/?view=beer&sort=&start=1100\n",
      "['3.23', '3.6', '3.8', '3.91', '4.45', '3.33', '5', '3.5', '3.51', '3.7', '3.36', '4.45', '4.45', '4.3', '3.9', '3.99', '4', '3.77', '4.88', '4.04', '2.18', '4.01', '3.87', '3.58', '3.53']\n",
      "https://www.beeradvocate.com/beer/profile/1/429/?view=beer&sort=&start=1125\n",
      "['3.88', '3.08', '3.11', '3.98', '3.82', '3.97', '2.9', '4.35', '3.47', '3.63', '2.83', '4.78', '4.3', '4.02', '2.9', '3.48', '3.6', '3.97', '5', '4.15', '4.12', '3.91', '3.13', '4.26', '3.15']\n",
      "https://www.beeradvocate.com/beer/profile/1/429/?view=beer&sort=&start=1150\n",
      "['4.05', '4.3', '3.92', '4.27', '3.83', '3.93', '3.9', '3.95', '1.33', '3.85', '3.35', '4', '3.96', '3.63', '3.72', '3.38', '3.13', '2.97', '3.57', '3.83', '2.91', '3.99', '3.38', '4.45', '3.65']\n",
      "https://www.beeradvocate.com/beer/profile/1/429/?view=beer&sort=&start=1175\n",
      "['4', '3.23', '2.83', '4.22', '3.13', '2.91', '3.46', '3.1', '3.7', '3.24', '3.7', '3.78', '3.25', '3.75', '3.95', '3.73', '3.11', '3.54', '3.77', '3', '3.61', '3.9', '3.8', '3.78', '3.67']\n",
      "https://www.beeradvocate.com/beer/profile/1/429/?view=beer&sort=&start=1200\n",
      "['5', '4.07', '4.05', '4.48', '3.25', '4', '4.05', '3.56', '3.95', '4.35', '3.75', '3.1', '4.03', '4.1', '4.17', '3.58', '3.36', '4.2', '3.42', '3.06', '4.52', '3.93', '2.83', '3.3', '4.01']\n",
      "https://www.beeradvocate.com/beer/profile/1/429/?view=beer&sort=&start=1225\n",
      "['3.67', '3.5', '3.99', '2.63', '3.3', '3.69', '3.45', '3.72', '4.97', '3.9', '3.7', '3.46', '3.65', '3.5', '4.92', '3.38', '3.42', '4.1', '2.97', '4.5', '3.45', '3.76', '3.72', '3.92', '3.66']\n",
      "https://www.beeradvocate.com/beer/profile/1/429/?view=beer&sort=&start=1250\n",
      "['3.33', '3.88', '4.43', '3.53', '3.3', '4.24', '2.72', '3.6', '4', '3.08', '3.5', '3.55', '3.28', '3.18', '4.22', '4.3', '4.21', '3.15', '3.4', '3.51', '3.2', '3.95', '4', '3.01', '2.8']\n",
      "https://www.beeradvocate.com/beer/profile/1/429/?view=beer&sort=&start=1275\n",
      "['2.7', '3.76', '3.2', '4.03', '3.92', '3.8', '3.7', '3.7', '4.15', '2.9', '3.83', '4.18', '3.78', '3.75', '3.3', '3.15', '2.83', '3.35', '3.08', '4.33', '3', '3.78', '3.92', '3.51', '3.77']\n",
      "https://www.beeradvocate.com/beer/profile/1/429/?view=beer&sort=&start=1300\n",
      "['3.48', '3.29', '4.05', '3.38', '3.85', '3.26', '3.72', '3.23', '4.33', '3.68', '3.53', '3.32', '3.8', '3.44', '3.5', '3.66', '3.3', '3.73', '2.75', '3.83', '3.83', '2.18', '2.82', '2.74', '3.65']\n",
      "https://www.beeradvocate.com/beer/profile/1/429/?view=beer&sort=&start=1325\n",
      "['3.69', '4.91', '3.03', '4.64', '4.08', '2.86', '2.62', '3.73', '3.17', '2.76', '2.65', '3.08', '3.36', '4.17', '2.44', '2.74', '4.07', '3.83', '4.43', '3.03', '3.2', '3.06', '3.56', '3.81', '3.26']\n",
      "https://www.beeradvocate.com/beer/profile/1/429/?view=beer&sort=&start=1350\n",
      "['3.1', '3.23', '3.32', '3.43', '3.08', '3.76', '3.65', '3.75', '3.32', '2.7', '3.6', '3.88', '4.25', '4.3', '3.55', '3.57', '3.83', '3.58', '3.43', '3.28', '2.5', '4.59', '4.1', '4', '3.87']\n",
      "https://www.beeradvocate.com/beer/profile/1/429/?view=beer&sort=&start=1375\n",
      "['3.45', '3.72', '3.78', '3.38', '3.13', '3.16', '3.35', '3.26', '3.1', '5', '3.98', '3.87', '2.62', '2.47', '3.11', '4.47', '3.68', '3.81', '3.57', '3.95', '3.73', '2.66', '4', '2.84', '4.05']\n",
      "https://www.beeradvocate.com/beer/profile/1/429/?view=beer&sort=&start=1400\n",
      "['4.1', '4.03', '3.76', '4.48', '3.16', '4.4', '3.88', '3.8', '3.41', '4.42', '3.93', '4', '3.95', '3.65', '4', '4.07', '4.17', '3.92', '2.93', '3.29', '4.22', '4.15', '4.25', '3.95', '4.01']\n",
      "https://www.beeradvocate.com/beer/profile/1/429/?view=beer&sort=&start=1425\n",
      "['2.38', '3.21', '3.97', '3.88', '3.27', '4.18', '3.5', '4.23', '4.33', '3.03', '3.86', '3.83', '1.12', '3.9', '2.03', '3.12', '2.5', '3.75', '3.88', '3.63', '3.75', '3.9', '2.55', '4.13', '3.23']\n",
      "https://www.beeradvocate.com/beer/profile/1/429/?view=beer&sort=&start=1450\n",
      "['3.05', '3.6', '3.38', '3.8', '3.78', '3.87', '3.27', '3.73', '3.41', '4.03', '4.18', '4.03', '3.6', '3.89', '3.88', '3.92', '3.22', '2.97', '3.95', '4.45', '3.92', '3.91', '4.48', '3.46', '4.11']\n",
      "https://www.beeradvocate.com/beer/profile/1/429/?view=beer&sort=&start=1475\n",
      "['3.38', '3.98', '4.84', '4.31', '3.07', '3.75', '3.7', '2.66', '3.1', '3.91', '2.98', '5', '3.43', '3.68', '3.77', '3.57', '3.2', '3.26', '3.11', '4.74', '2.73', '3.59', '2.63', '4.17', '3.88']\n",
      "https://www.beeradvocate.com/beer/profile/1/429/?view=beer&sort=&start=1500\n",
      "['3.75', '3.9', '3.4', '4.03', '4', '3.75', '3.8', '4.05', '3.71', '3.23', '3.9', '4.18', '3.51', '3.58', '3', '3.59', '2.76', '3.72', '2.59', '3.03', '3.83', '3.73', '1.48', '4.79', '3.38']\n"
     ]
    },
    {
     "name": "stdout",
     "output_type": "stream",
     "text": [
      "https://www.beeradvocate.com/beer/profile/1/429/?view=beer&sort=&start=1525\n",
      "['4.01', '4', '3.92', '3.28', '3.98', '4.22', '3.26', '4.12', '3.11', '3.6', '4.15', '4.4', '2.83', '3.78', '3.68', '1.96', '3.51', '4.2', '2.23', '3.95', '3.5', '4.05', '3.85', '3.03', '3.5']\n",
      "https://www.beeradvocate.com/beer/profile/1/429/?view=beer&sort=&start=1550\n",
      "['3.98', '3.63', '3.5', '3.19', '3.01', '3.14', '4.23', '4.73', '4.28', '4', '3.8', '2.89', '3.63', '3.21', '3.49', '3.26', '2.75', '3.92', '3.68', '3.72', '4.1', '3.5', '3.8', '3.46', '3.49']\n",
      "https://www.beeradvocate.com/beer/profile/1/429/?view=beer&sort=&start=1575\n",
      "['2.26', '3.78', '4.3', '2.79', '3.28', '4.08', '3.17', '4.13', '2.46', '4.13', '4.42', '4.48', '4.3', '3.94', '4.25', '4.12', '3.36', '4.69', '4.35', '1.06', '4.3', '3.53', '3.47', '4.45', '3.59']\n"
     ]
    },
    {
     "name": "stderr",
     "output_type": "stream",
     "text": [
      "\r",
      "30it [1:18:59, 255.33s/it]"
     ]
    },
    {
     "name": "stdout",
     "output_type": "stream",
     "text": [
      "https://www.beeradvocate.com/beer/profile/1/429/?view=beer&sort=&start=1600\n",
      "['4.23', '3.45', '3.41', '4.4', '3.97', '4.35', '3.8', '3.95', '4.33', '2.85', '4', '3.44', '3.48', '3.91', '3.93', '4.42', '3.63', '3.7', '4.76', '4.84', '3.26']\n"
     ]
    },
    {
     "name": "stderr",
     "output_type": "stream",
     "text": [
      "\r",
      "31it [1:19:05, 180.46s/it]"
     ]
    },
    {
     "name": "stdout",
     "output_type": "stream",
     "text": [
      "https://www.beeradvocate.com/beer/profile/2689/104672/?view=beer&sort=&start=0\n",
      "['1.14', '2.06', '3.07', '4.22', '2.4', '3.39', '2.97', '3.59']\n",
      "https://www.beeradvocate.com/beer/profile/124/61555/?view=beer&sort=&start=0\n",
      "['3.59', '4.19', '3.97', '3.71', '3.63', '3.77', '4.07', '4.31', '3.87', '3.83', '3.75', '4.18', '3.57', '4.87', '3.58', '4.04', '3.68', '4.11', '4.03', '3.54', '3.93', '4.43', '4.23', '4.29', '3.72']\n",
      "https://www.beeradvocate.com/beer/profile/124/61555/?view=beer&sort=&start=25\n",
      "['4.03', '3.65', '3.85', '4.18', '3.75', '3.82', '3.96', '3.68', '3', '4.19', '3.99', '3.95', '3.79', '3.23', '4', '3.71', '3.95', '4', '3.84', '4.24', '3.66', '3.46', '4', '3.93', '4.09']\n",
      "https://www.beeradvocate.com/beer/profile/124/61555/?view=beer&sort=&start=50\n",
      "['4.3', '4.09', '3.62', '5', '3.97', '3.89', '4.07', '4.21', '2.6', '4.16', '3.96', '3.69', '3.84', '4.33', '3.57', '3.72', '4.16', '4.16', '4.09', '3.28', '3.47', '4.82', '4.02', '4.28', '3.52']\n",
      "https://www.beeradvocate.com/beer/profile/124/61555/?view=beer&sort=&start=75\n",
      "['3.61', '4.41', '3.93', '3.74', '4.33', '3.98', '4.02', '4.5', '4.44', '4.25', '3.93', '3.99', '4.25', '3.91', '4', '4.1', '4.25', '2.95', '2.83', '4.1', '4.03', '3.96', '4.5', '4.43', '3.62']\n",
      "https://www.beeradvocate.com/beer/profile/124/61555/?view=beer&sort=&start=100\n",
      "['3.32', '4.26', '4.36', '3.68', '3.61', '3', '3.46', '3.23', '3.2', '3.71', '3.89', '3.7', '3.85', '4.03', '4.38', '3.43', '3.73', '4.27', '3.94', '4.13', '3.36', '3.18', '3.42', '3.12', '3.5']\n",
      "https://www.beeradvocate.com/beer/profile/124/61555/?view=beer&sort=&start=125\n",
      "['3.86', '3.43', '4.68', '3.63', '4.03', '3.5', '4.09', '3.74', '3.56', '3.85', '3', '3.96', '3.88', '3.65', '3.71', '2.99', '4', '4.17', '3.99', '3.73', '4.22', '3.5', '4.04', '2.42', '3.65']\n",
      "https://www.beeradvocate.com/beer/profile/124/61555/?view=beer&sort=&start=150\n",
      "['4.18', '3.58', '3.01', '3.24', '4.59', '3.44', '3.36', '4.23', '3.88', '4.54', '3.78', '3.52', '3.68', '3.45', '2.56', '3.88', '3.98', '4.4', '3.53', '4.05', '4.02', '4', '3.45', '4', '3.83']\n",
      "https://www.beeradvocate.com/beer/profile/124/61555/?view=beer&sort=&start=175\n",
      "['3.16', '2.26', '3.62', '4.03', '4.26', '3.7', '4', '3.91', '4.75', '3.62', '3.75', '4', '3.59', '3.77', '3.83', '3.75', '4.73', '4.08', '4.48', '4.62', '4.54', '4.37', '3.98', '4.08', '3.98']\n",
      "https://www.beeradvocate.com/beer/profile/124/61555/?view=beer&sort=&start=200\n",
      "['3.63', '3.85', '3.95', '3.28', '3.41', '4.13', '3.88', '3.2', '3.8', '4.07', '4.4', '4.27', '4.08', '4.17', '4.15', '4.33', '3.85', '4.53', '3.68', '3.73', '3.86', '3.95', '3.16', '3.65', '4.13']\n",
      "https://www.beeradvocate.com/beer/profile/124/61555/?view=beer&sort=&start=225\n",
      "['3.45', '2.72', '4.48', '4.01', '3.71', '3.98', '3.68', '4.2', '4.57', '4.08', '3.87', '4.13', '4.07', '4.07', '4.3', '3.98', '4.13', '3.83', '3.78', '3.56', '4.45', '3.63', '3.66', '3.88', '4.63']\n"
     ]
    },
    {
     "name": "stderr",
     "output_type": "stream",
     "text": [
      "\r",
      "32it [1:20:11, 146.02s/it]"
     ]
    },
    {
     "name": "stdout",
     "output_type": "stream",
     "text": [
      "https://www.beeradvocate.com/beer/profile/124/61555/?view=beer&sort=&start=250\n",
      "['3.92', '3.92', '3.88', '3.68', '4', '4.18', '3.93', '3.77', '3.41', '3.88', '3.88', '2.65']\n",
      "https://www.beeradvocate.com/beer/profile/124/1256/?view=beer&sort=&start=0\n",
      "['3.93', '4', '4.67', '4.12', '4.17', '3.64', '1.7', '4.06', '4.16', '4.01', '4.07', '4.02', '4.08', '4.26', '4.35', '4.5', '3.83', '4.17', '4.29', '3.92', '3.84', '3.85', '4.7', '4.13', '4.5']\n",
      "https://www.beeradvocate.com/beer/profile/124/1256/?view=beer&sort=&start=25\n",
      "['3.87', '4.02', '4.12', '4.23', '4.08', '4.38', '4.34', '2.75', '4.14', '4.03', '4.1', '4.09', '4.42', '4.93', '4.12', '3.75', '4.03', '4.29', '3.69', '4.1', '4.49', '4.29', '4.01', '4.01', '3.42']\n",
      "https://www.beeradvocate.com/beer/profile/124/1256/?view=beer&sort=&start=50\n",
      "['4.1', '4.21', '4.3', '4.24', '3.75', '4.13', '4.11', '3.82', '4.03', '4.15', '3.59', '4.06', '4.04', '3.86', '3.84', '3.94', '4.54', '4.25', '3.94', '4.12', '3.79', '4.07', '4.02', '4.42', '4.21']\n",
      "https://www.beeradvocate.com/beer/profile/124/1256/?view=beer&sort=&start=75\n",
      "['2.75', '3.81', '3.99', '4.59', '3.72', '3.52', '4.29', '4.08', '3.75', '4.05', '3.78', '4.17', '4', '4.6', '3.76', '4.12', '3.84', '3.79', '2.8', '4', '4.12', '4.11', '4.09', '3.38', '3.91']\n",
      "https://www.beeradvocate.com/beer/profile/124/1256/?view=beer&sort=&start=100\n",
      "['3.73', '4.18', '3.8', '4.31', '4.13', '4.12', '3.87', '4.05', '4.61', '4', '4.42', '4.34', '4.12', '3.1', '3.73', '4.19', '4.39', '4.74', '4.01', '2.97', '4.16', '4.25', '4.04', '3.65', '3.99']\n",
      "https://www.beeradvocate.com/beer/profile/124/1256/?view=beer&sort=&start=125\n",
      "['4.52', '4.14', '4.86', '3.5', '4.02', '4.08', '4.03', '4.31', '3.87', '4.25', '3.55', '3.76', '4.06', '3.88', '3.99', '4.02', '3.92', '3.6', '4.68', '4.05', '4.03', '4.24', '4.21', '4.15', '3.89']\n",
      "https://www.beeradvocate.com/beer/profile/124/1256/?view=beer&sort=&start=150\n",
      "['4.08', '2.6', '4.18', '4.09', '4.68', '4.11', '3.94', '4.04', '3.99', '4', '4.75', '4.5', '4.36', '4.69', '3.86', '4.71', '4.54', '4.23', '4.74', '4.19', '4.85', '3.85', '4.34', '4.33', '4.32']\n",
      "https://www.beeradvocate.com/beer/profile/124/1256/?view=beer&sort=&start=175\n",
      "['3.52', '4.43', '4.66', '5', '4.25', '4.66', '4.25', '3.5', '4.03', '3.77', '3.67', '3.99', '4.62', '4.25', '3.92', '4.58', '4.27', '3.48', '5', '4.94', '4.69', '4.08', '4.61', '4.19', '3.9']\n",
      "https://www.beeradvocate.com/beer/profile/124/1256/?view=beer&sort=&start=200\n",
      "['4', '4.27', '3.25', '3.83', '4.5', '3.87', '4.25', '3.65', '4', '4', '3.5', '4.25', '4.05', '5', '3.25', '4', '4.3', '3.93', '4.7', '4.11', '4.02', '4.07', '4.3', '3.94', '3.74']\n",
      "https://www.beeradvocate.com/beer/profile/124/1256/?view=beer&sort=&start=225\n",
      "['4.15', '3.49', '4.2', '3.64', '3.84', '3.81', '4.27', '4.28', '4.39', '4.05', '4.05', '3.94', '5', '3.32', '5', '3.74', '3.6', '3.96', '3.5', '3.47', '3.31', '3.98', '3.81', '4.16', '3.67']\n",
      "https://www.beeradvocate.com/beer/profile/124/1256/?view=beer&sort=&start=250\n",
      "['3.61', '4.65', '4.36', '3.49', '4', '4.05', '3.96', '4.13', '4.5', '4.16', '4.63', '4.66', '4.41', '4.04', '4.14', '2.69', '3.98', '3.22', '4.25', '4.26', '4.25', '4.01', '3.78', '3.99', '3.65']\n",
      "https://www.beeradvocate.com/beer/profile/124/1256/?view=beer&sort=&start=275\n",
      "['4.85', '4.25', '4', '4.55', '4.05', '3.77', '3.78', '4.51', '3.53', '5', '4.45', '3.51', '4.02', '4.06', '2.94', '4.21', '4', '4.03', '4.07', '3.65', '4.23', '3.68', '4.17', '4.19', '4']\n",
      "https://www.beeradvocate.com/beer/profile/124/1256/?view=beer&sort=&start=300\n",
      "['4.15', '4.32', '4.3', '3.74', '3.97', '4.05', '4.05', '4', '4.77', '4.56', '3.88', '4.47', '4.74', '4.05', '3.78', '4', '4.66', '4.67', '5', '4.13', '4.25', '4.38', '3.29', '4.05', '3.9']\n",
      "https://www.beeradvocate.com/beer/profile/124/1256/?view=beer&sort=&start=325\n",
      "['4.3', '4.03', '3.58', '3.45', '3.88', '3.85', '4.03', '4.24', '4.15', '4.3', '4.42', '4.05', '3.2', '4.12', '4', '4', '4.2', '4.03', '3.36', '3.91', '4.08', '4.27', '3.45', '4.33', '3.83']\n",
      "https://www.beeradvocate.com/beer/profile/124/1256/?view=beer&sort=&start=350\n",
      "['3.95', '4.67', '3.27', '4.5', '3.75', '4.67', '4.32', '4', '4', '4.18', '3.62', '3.88', '4', '4.29', '3.44', '3.98', '3.54', '3.38', '3.85', '4.06', '4.28', '3.95', '4.28', '3.38', '4.26']\n",
      "https://www.beeradvocate.com/beer/profile/124/1256/?view=beer&sort=&start=375\n",
      "['4.5', '4.57', '4.65', '2.66', '4.25', '2.55', '4.28', '4.17', '4.36', '3.09', '4.56', '3.75', '4.17', '3.88', '3.11', '3.97', '4.5', '3.83', '4.12', '3.01', '3.83', '3.83', '4.8', '3.75', '4.11']\n",
      "https://www.beeradvocate.com/beer/profile/124/1256/?view=beer&sort=&start=400\n",
      "['4', '4.42', '3.38', '4.18', '4.08', '4', '3.96', '4.11', '3.88', '4.05', '4.18', '3.83', '3.61', '3.93', '4.03', '4.5', '4.3', '3.56', '3.72', '4.28', '3.58', '3.73', '3.6', '3.86', '4.82']\n",
      "https://www.beeradvocate.com/beer/profile/124/1256/?view=beer&sort=&start=425\n",
      "['4', '3.98', '3.12', '4.05', '3.71', '4.36', '4.16', '3.45', '4.13', '4.23', '4.35', '4.18', '4.03', '4.06', '4.21', '3.77', '4.08', '3.86', '3.88', '4.15', '4.48', '4.2', '3.96', '3.8', '3.94']\n",
      "https://www.beeradvocate.com/beer/profile/124/1256/?view=beer&sort=&start=450\n",
      "['3.91', '3.27', '3.65', '4.28', '3.41', '4.77', '4.11', '4.12', '4', '4', '3.98', '4.03', '4', '3.81', '2.68', '4.38', '4.12', '3.87', '3.42', '4.1', '4', '3.95', '3.82', '5', '4.03']\n",
      "https://www.beeradvocate.com/beer/profile/124/1256/?view=beer&sort=&start=475\n",
      "['2.63', '3.6', '4.14', '4.12', '3.98', '4', '4.45', '4.6', '3.48', '3.91', '4.22', '4.47', '3.72', '4.25', '4.2', '3.66', '3.92', '3.75', '4', '4.1', '4.05', '4', '3.57', '3.95', '3.61']\n",
      "https://www.beeradvocate.com/beer/profile/124/1256/?view=beer&sort=&start=500\n",
      "['4.2', '4.13', '3.97', '4.92', '4.13', '3.41', '3.69', '3.03', '4.4', '3.83', '4.23', '3.87', '3.97', '3.98', '3.83', '5', '4.13', '4.18', '4.1', '3.53', '4.3', '3.87', '2.79', '3.42', '4.05']\n",
      "https://www.beeradvocate.com/beer/profile/124/1256/?view=beer&sort=&start=525\n",
      "['4.3', '4.43', '3.64', '4.3', '4.38', '4.78', '3.74', '4.6', '3.61', '4.43', '3.93', '4.01', '3.82', '4.03', '4.03', '4', '4.13', '3.98', '3.92', '3.86', '4.1', '4.08', '4.1', '3.43', '4.03']\n",
      "https://www.beeradvocate.com/beer/profile/124/1256/?view=beer&sort=&start=550\n",
      "['4.3', '4.13', '3.61', '4.18', '4.13', '3.98', '3.61', '3.66', '4.67', '3.3', '4.39', '3.91', '4.08', '3.71', '4.45', '4.78', '3.8', '4.16', '4.18', '4', '4.13', '4.13', '3.85', '4.57', '3.5']\n",
      "https://www.beeradvocate.com/beer/profile/124/1256/?view=beer&sort=&start=575\n",
      "['4.18', '3.55', '3.48', '4.04', '4.33', '4.37', '4.33', '4.28', '4.5', '4.2', '4.27', '4.03', '4.03', '3.75', '3.57', '4.5', '4.45', '4.13', '4.65', '4.22', '3.21', '4.53', '4.55', '4', '3.71']\n",
      "https://www.beeradvocate.com/beer/profile/124/1256/?view=beer&sort=&start=600\n",
      "['3.75', '3.83', '3.76', '3.88', '4.15', '3.98', '4.15', '4.3', '3.93', '3.51', '4.12', '4.08', '4.1', '3.87', '3.98', '4.5', '3.93', '4.03', '3.98', '4.42', '3.88', '3.84', '3.45', '3.83', '4.23']\n",
      "https://www.beeradvocate.com/beer/profile/124/1256/?view=beer&sort=&start=625\n",
      "['4.42', '3.65', '3.07', '4.2', '3.65', '3.85', '4.51', '3.42', '3.98', '4.42', '3.53', '4.1', '4', '4.5', '3.86', '4.23', '4.1', '4.37', '4.2', '3.92', '4.37', '4.33', '3.98', '3.68', '3.12']\n",
      "https://www.beeradvocate.com/beer/profile/124/1256/?view=beer&sort=&start=650\n",
      "['4.12', '4.2', '4.05', '4.41', '4.45', '3.95', '4.68', '3.95', '4.15', '3.7', '4.11', '3.66', '4.4', '3.8', '4.24', '4.21', '4.1', '3.62', '4.38', '3.72', '3.93', '3.63', '3.71', '2.77', '2.41']\n",
      "https://www.beeradvocate.com/beer/profile/124/1256/?view=beer&sort=&start=675\n",
      "['4.19', '3.06', '4.11', '4.37', '3.88', '4', '3.75', '4.3', '4.04', '4.28', '4.03', '3.56', '3.38', '3.32', '4.2', '4.33', '4', '4.15', '4.42', '3.35', '4.12', '3.95', '4.4', '4.3', '4.32']\n",
      "https://www.beeradvocate.com/beer/profile/124/1256/?view=beer&sort=&start=700\n",
      "['4', '4', '4.3', '3.36', '3.5', '4.1', '3.98', '3.63', '3.83', '3.93', '4.38', '3.5', '4.05', '4.16', '3.65', '3.7', '4.33', '4', '3.65', '4.22', '4.1', '4.17', '3.88', '3.22', '4']\n",
      "https://www.beeradvocate.com/beer/profile/124/1256/?view=beer&sort=&start=725\n",
      "['4.07', '4.13', '4.01', '4.22', '4.56', '4.12', '4.1', '3.45', '4.48', '3.63', '3.93', '4.1', '4.18', '4.28', '4', '4.33', '3.82', '4.13', '3.68', '3.76', '4.02', '4.22', '4.58', '3.75', '4.19']\n"
     ]
    },
    {
     "name": "stdout",
     "output_type": "stream",
     "text": [
      "https://www.beeradvocate.com/beer/profile/124/1256/?view=beer&sort=&start=750\n",
      "['3.75', '4.57', '4.34', '4.23', '4.08', '3.99', '4.27', '4.42', '4', '4.02', '4.3', '4.08', '3.35', '4.3', '3.46', '4.41', '4.32', '4.53', '3.72', '4.13', '4.92', '3.95', '4.92', '3.57', '3.85']\n",
      "https://www.beeradvocate.com/beer/profile/124/1256/?view=beer&sort=&start=775\n",
      "['4.12', '4', '3.85', '3.8', '3.85', '2.81', '2.98', '3.93', '4', '3.84', '4.35', '3.35', '3.41', '3.92', '4.1', '4.18', '3.73', '4', '3.88', '3.46', '3.82', '3.68', '3.88', '4.1', '4.19']\n",
      "https://www.beeradvocate.com/beer/profile/124/1256/?view=beer&sort=&start=800\n",
      "['3.91', '4.05', '4.43', '4.25', '4.48', '4.13', '4.44', '4.23', '4.08', '3.98', '4.3', '3.9', '4.5', '4.15', '3.77', '4.3', '3.6', '4.13', '3.68', '4.49', '4', '4.18', '4.8', '4.63', '3.78']\n",
      "https://www.beeradvocate.com/beer/profile/124/1256/?view=beer&sort=&start=825\n",
      "['3.78', '3.8', '3.35', '3.2', '3.65', '3.63', '4.03', '4.62', '4.22', '3.68', '4.33', '4.08', '4', '3.75', '4', '4.08', '4.1', '4.1', '3.98', '4.45', '4.2', '4.13', '4.13', '3.97', '3.87']\n",
      "https://www.beeradvocate.com/beer/profile/124/1256/?view=beer&sort=&start=850\n",
      "['3.8', '4.8', '4.08', '3.98', '4.1', '3.56', '4.16', '3.25', '4.58', '4.23', '3.58', '3.18', '4.3', '3.95', '4.32', '4', '4.32', '4', '4.27', '4.47', '3.98', '3.17', '4.1', '4.05', '4.1']\n",
      "https://www.beeradvocate.com/beer/profile/124/1256/?view=beer&sort=&start=875\n",
      "['3.48', '3.78', '3.91', '4.1', '3.43', '3.83', '4.31', '3.8', '4', '3.58', '4.28', '3.95', '3.56', '3.78', '4.03', '3.78', '4.37', '3.95', '4.3', '4.23', '4.2', '4.33', '3.68', '4', '3.88']\n",
      "https://www.beeradvocate.com/beer/profile/124/1256/?view=beer&sort=&start=900\n",
      "['4.32', '3.78', '3.62', '3.67', '3.88', '4.8', '3.77', '4.02', '3.32', '3.95', '3.85', '4.23', '4.25', '3.97', '4.3', '3.62', '4.08', '4', '4.31', '4.17', '4', '4', '4.03', '5', '4.18']\n",
      "https://www.beeradvocate.com/beer/profile/124/1256/?view=beer&sort=&start=925\n",
      "['4', '4.33', '4.45', '3.6', '3.83', '3.7', '4.2', '3.88', '3.91', '4.15', '4.28', '4.03', '4.23', '3.97', '4.03', '4.03', '4.1', '4.05', '4.06', '4.18', '3.83', '4.43', '4.2', '4.63', '4.08']\n",
      "https://www.beeradvocate.com/beer/profile/124/1256/?view=beer&sort=&start=950\n",
      "['4.53', '4.7', '4.28', '3.75', '4.28', '4.03', '3.6', '3.18', '3.88', '4.44', '3.13', '3.49', '3.41', '4.28', '3.38', '4.13', '4.28', '2.83', '3.95', '3.63', '3.88', '3.71', '4.27', '4.03', '3.72']\n",
      "https://www.beeradvocate.com/beer/profile/124/1256/?view=beer&sort=&start=975\n",
      "['4.33', '4.2', '4.25', '4.19', '3.76', '4.08', '4.03', '4.28', '3.82', '2.98', '4', '4.2', '3.7', '4.92', '4.08', '4.88', '4.42', '3.83', '4.52', '4.42', '3.63', '3.85', '4', '3.8', '4.2']\n",
      "https://www.beeradvocate.com/beer/profile/124/1256/?view=beer&sort=&start=1000\n",
      "['4.41', '4.5', '4.12', '3.84', '4.52', '3.2', '4.27', '4.33', '3.18', '3.87', '4.18', '3.94', '4.22', '3.91', '3.85', '4.18', '3.85', '4.1', '4.35', '4.42', '4', '4.53', '4.33', '3.66', '4.15']\n",
      "https://www.beeradvocate.com/beer/profile/124/1256/?view=beer&sort=&start=1025\n",
      "['4.13', '4.02', '4.14', '4.65', '4.52', '4.13', '4.47', '4', '4.2', '4.08', '4.62', '4.27', '3.6', '3.92', '4.3', '3.5', '4.4', '4.1', '4.12', '3.87', '4.27', '3.38', '3.9', '3.86', '3.77']\n",
      "https://www.beeradvocate.com/beer/profile/124/1256/?view=beer&sort=&start=1050\n",
      "['4.75', '3.83', '4.12', '3.73', '3.68', '4.13', '3.04', '4', '4.12', '4.6', '4', '4.22', '3.53', '3.75', '5', '4', '4.08', '4.1', '3.92', '3.5', '3.08', '4.25', '4.27', '4.4', '3.65']\n",
      "https://www.beeradvocate.com/beer/profile/124/1256/?view=beer&sort=&start=1075\n",
      "['4', '3.92', '3.68', '4.13', '3.55', '4.63', '4.4', '4.51', '3.58', '4.8', '4.45', '4.2', '4.13', '3.95', '2.4', '4.46', '3.36', '4.05', '4.12', '3.11', '4', '4.8', '4', '4.08', '3.4']\n",
      "https://www.beeradvocate.com/beer/profile/124/1256/?view=beer&sort=&start=1100\n",
      "['3.63', '4.6', '3.15', '4.45', '3.4', '4.72', '4.45', '4.15', '3.9', '4.32', '4.3', '4.43', '3.93', '3.91', '4.13', '3.96', '4.16', '4.25', '4.22', '4.35', '3.95', '3.6', '3.6', '4.15', '4']\n",
      "https://www.beeradvocate.com/beer/profile/124/1256/?view=beer&sort=&start=1125\n",
      "['4.1', '3.92', '4.29', '4.12', '4.15', '3.95', '3.75', '4.07', '3.64', '4.31', '3.86', '3.73', '4.08', '4.63', '4.33', '4.06', '3.27', '3.53', '3.75', '3.91', '3.62', '4.3', '4.92', '3.91', '4.2']\n",
      "https://www.beeradvocate.com/beer/profile/124/1256/?view=beer&sort=&start=1150\n",
      "['4.23', '3.41', '4.1', '3.85', '3.45', '3.97', '4.1', '3.83', '4.43', '4.3', '4.18', '4.62', '4.23', '4.8', '3.61', '4.46', '4.55', '4.25', '4.35', '4', '4.45', '4.3', '4.25', '4', '3.67']\n",
      "https://www.beeradvocate.com/beer/profile/124/1256/?view=beer&sort=&start=1175\n",
      "['4.34', '4.04', '4.35', '4.25', '4.23', '4.01', '3.78', '4.3', '4.33', '4.2', '4.34', '2.62', '3.95', '4.47', '4.29', '4.6', '4.6', '4.43', '4.28', '3.97', '4.3', '3.9', '4.34', '4.32', '4.08']\n",
      "https://www.beeradvocate.com/beer/profile/124/1256/?view=beer&sort=&start=1200\n",
      "['4.38', '4.57', '3.71', '4.18', '4.38', '3.78', '4.1', '4.23', '4.63', '4.25', '4.05', '4.43', '4.65', '4', '3.76', '4.23', '3.56', '4.16', '4.03', '4.39', '4.1', '4', '3.66', '4.47', '4.45']\n",
      "https://www.beeradvocate.com/beer/profile/124/1256/?view=beer&sort=&start=1225\n",
      "['4.17', '3.93', '4.3', '4.22', '2.86', '4', '4.2', '3.41', '3.62', '5', '3.63', '3.95', '3.37', '3.91', '4.3', '4.27', '4.3', '3.95', '4.43', '4.3', '4.35', '5', '3.68', '4.5', '4.13']\n",
      "https://www.beeradvocate.com/beer/profile/124/1256/?view=beer&sort=&start=1250\n",
      "['4.46', '4.58', '4.33', '4.83', '4.41', '3.92', '4.38', '4.3', '4.56', '3.88', '4.48', '4.09', '3.97', '4', '3.97', '3.98', '4.03', '4.32', '4.2', '4.6', '4.13', '4.13', '3.85', '4.8', '4.23']\n",
      "https://www.beeradvocate.com/beer/profile/124/1256/?view=beer&sort=&start=1275\n",
      "['4.65', '4.23', '4.8', '3.19', '4.28', '4.62', '4.13', '4.28', '4.12', '3.99', '3.83', '4.3', '3.79', '3.31', '4.03', '4.52', '4.3', '4.23', '4.35', '3.88', '4.2', '4.1', '4.5', '4.2', '4.23']\n",
      "https://www.beeradvocate.com/beer/profile/124/1256/?view=beer&sort=&start=1300\n",
      "['3.9', '4.63', '3.88', '4.55', '3.43', '3.88', '3.95', '4.55', '3.32', '3.77', '3.69', '3.92', '4.3', '4', '3.7', '4.1', '4.23', '4.35', '4.15', '3.8', '4', '4.05', '4', '4.3', '4.55']\n",
      "https://www.beeradvocate.com/beer/profile/124/1256/?view=beer&sort=&start=1325\n",
      "['4.15', '4.18', '3.85', '4.62', '4.25', '3.46', '4.88', '4.68', '3.2', '4.4', '4.8', '4.13', '4.5', '4.87', '3.68', '3.58', '3.98', '4.12', '4.27', '4.47', '4.28', '4.37', '4.07', '2.34', '3.68']\n",
      "https://www.beeradvocate.com/beer/profile/124/1256/?view=beer&sort=&start=1350\n",
      "['2.9', '4.36', '4.45', '4.35', '4.48', '4.55', '3.97', '4.41', '3.57', '4.38', '4.5', '4.35', '4.25', '4.1', '4.62', '3.95', '4.46', '4.23', '4.25', '4.35', '3.18', '4.83', '4.3', '3.63', '4.03']\n",
      "https://www.beeradvocate.com/beer/profile/124/1256/?view=beer&sort=&start=1375\n",
      "['4.58', '4.22', '4.57', '4.5', '4.5', '3.94', '4.17', '4.58', '4.25', '4.13', '4.58', '4.13', '4.3', '4.3', '4.72', '3.91', '4.32', '4.67', '4.42', '3.83', '4', '4.6', '4.4', '4.72', '4.92']\n",
      "https://www.beeradvocate.com/beer/profile/124/1256/?view=beer&sort=&start=1400\n",
      "['3.98', '4.14', '4.45', '4.33', '4.22', '3.88', '4.25', '4.48', '4.5', '4.57', '3.38', '4.47', '3.8', '4.33', '4.05', '4.83', '4.03', '4.27', '4.95', '4.92', '5', '4', '3.92', '4', '4.23']\n",
      "https://www.beeradvocate.com/beer/profile/124/1256/?view=beer&sort=&start=1425\n",
      "['4.07', '4.48', '3.88', '4.72', '4.32', '3.78', '4.8', '3.87', '4.06', '3.76', '4.7', '4.95', '4.15', '4', '3.8', '3.25', '4.47', '4.8', '4.43', '4.3', '4.68', '3.88', '4.35', '4.15', '3.48']\n"
     ]
    },
    {
     "name": "stderr",
     "output_type": "stream",
     "text": [
      "\r",
      "33it [1:25:54, 205.15s/it]"
     ]
    },
    {
     "name": "stdout",
     "output_type": "stream",
     "text": [
      "https://www.beeradvocate.com/beer/profile/124/1256/?view=beer&sort=&start=1450\n",
      "['3.7', '4.31', '4.13', '4.45']\n"
     ]
    },
    {
     "name": "stderr",
     "output_type": "stream",
     "text": [
      "\r",
      "34it [1:26:00, 145.34s/it]"
     ]
    },
    {
     "name": "stdout",
     "output_type": "stream",
     "text": [
      "https://www.beeradvocate.com/beer/profile/120/30296/?view=beer&sort=&start=0\n",
      "['2.86', '3.68', '3.38', '2.24', '1.25', '2.57', '3.18', '3.29', '4.07', '3.88', '4.13', '2.75', '4', '2.31', '3.53', '3.04', '4.08', '4.32', '3.28', '3.52', '3.57', '3.15', '3.6', '3.75']\n",
      "https://www.beeradvocate.com/beer/profile/75/2755/?view=beer&sort=&start=0\n",
      "['3.35', '1.73', '2.85', '2.36', '3.06', '3.18', '2.3', '3.83', '1.72', '3.63', '3.39', '4.34', '3.28', '3.38', '2.76', '3.79', '3.99', '1.75', '3.58', '3.17', '3.47', '5', '2.6', '3.07', '2.53']\n",
      "https://www.beeradvocate.com/beer/profile/75/2755/?view=beer&sort=&start=25\n",
      "['2.5', '2.82', '1.66', '2.17', '4.09', '2.78', '3.72', '5', '2.68', '2.52', '3.5', '3.43', '3.08', '3.4', '3.02', '3.28', '2.5', '2.42', '3.03', '3.3', '2.74', '2.69', '2.44', '2.26', '2.86']\n",
      "https://www.beeradvocate.com/beer/profile/75/2755/?view=beer&sort=&start=50\n",
      "['3.25', '3.02', '3.5', '3.25', '4.01', '2.59', '3.25', '2.78', '2.16', '3.52', '3.45', '3.18', '2.67', '2.89', '2', '3.46', '2.32', '2.69', '2.79', '2.28', '2.12', '3.29', '5', '2.72', '2.07']\n",
      "https://www.beeradvocate.com/beer/profile/75/2755/?view=beer&sort=&start=75\n",
      "['3.99', '3.01', '3.25', '2.76', '4.96', '3.64', '4.21', '2.71', '2.17', '2.78', '2.5', '1.06', '2.75', '3.35', '2.69', '3.71', '2.52', '2.51', '1.76', '2.46', '2.75', '2.51', '3.17', '1.68', '3.75']\n",
      "https://www.beeradvocate.com/beer/profile/75/2755/?view=beer&sort=&start=100\n",
      "['3.29', '3.78', '3.22', '3.14', '2.3', '4.24', '2.5', '2.65', '1.53', '2.55', '2.98', '3.47', '3.82', '2.81', '1.66', '2.63', '2.06', '2.17', '2.61', '2.47', '3.92', '2.35', '3.73', '2.28', '1.12']\n",
      "https://www.beeradvocate.com/beer/profile/75/2755/?view=beer&sort=&start=125\n",
      "['2.79', '2.81', '4.24', '2.4', '2.33', '3.71', '2.12', '2.75', '2.25', '2.8', '4.5', '3.25', '3.25', '3.75', '3.06', '3.25', '3.08', '2.72', '2.92', '1.53', '2.58', '2.22', '2.93', '1.58', '2.65']\n",
      "https://www.beeradvocate.com/beer/profile/75/2755/?view=beer&sort=&start=150\n",
      "['2.9', '3.1', '3.21', '1.87', '2.03', '2.76', '2.53', '2.76', '3.37', '3.33', '3.33', '3.46', '3.67', '2.14', '3', '2.31', '2.45', '3.25', '2.65', '2.81', '4.75', '3.5', '2.64', '2.24', '2.21']\n",
      "https://www.beeradvocate.com/beer/profile/75/2755/?view=beer&sort=&start=175\n",
      "['1.55', '3.48', '5', '2.73', '4.61', '3', '2.82', '2.88', '2.46', '3', '2.07', '3.05', '2.81', '1.08', '4.97', '3', '2.3', '2.63', '4.34', '2.4', '2.8', '2.3', '2.13', '2.16', '1.94']\n",
      "https://www.beeradvocate.com/beer/profile/75/2755/?view=beer&sort=&start=200\n",
      "['2.53', '3.02', '2.16', '2.61', '1.96', '2.3', '2.03', '2.43', '2.22', '2', '1.3', '2.84', '2.22', '2.92', '2.19', '1.93', '2.38', '1.98', '3.05', '2.27', '2.78', '2.01', '2.25', '3.2', '3.11']\n",
      "https://www.beeradvocate.com/beer/profile/75/2755/?view=beer&sort=&start=225\n",
      "['2.42', '2.67', '2.98', '2.85', '2.76', '2.3', '3.35', '2.72', '2.68', '2.58', '3.53', '2.66', '2.6', '1.28', '2.41', '1.95', '2.97', '1.75', '2.65', '3.48', '3.23', '1.34', '2.5', '2.06', '2.2']\n",
      "https://www.beeradvocate.com/beer/profile/75/2755/?view=beer&sort=&start=250\n",
      "['2.43', '2.55', '3.87', '2.83', '2.75', '1.87', '2.7', '1.48', '2.88', '2.44', '2.85', '2.65', '3.07', '3.55', '2.24', '2.4', '2.6', '2.47', '4.04', '2.84', '2.12', '2.6', '2.28', '3.12', '2.03']\n",
      "https://www.beeradvocate.com/beer/profile/75/2755/?view=beer&sort=&start=275\n",
      "['3.36', '3.27', '3.08', '4', '2.16', '3.05', '2.3', '2.52', '2.97', '2.71', '1.98', '3.39', '3.6', '3.12', '3', '2.16', '1.87', '2.62', '2.71', '1.9', '2.61', '3.45', '1.82', '3.6', '1.8']\n",
      "https://www.beeradvocate.com/beer/profile/75/2755/?view=beer&sort=&start=300\n",
      "['3.72', '3.4', '2.25', '2.64', '2.47', '3.2', '2.88', '3.24', '3.6', '3.07', '2.1', '2.5', '2.88', '2.65', '2.49', '3.13', '4.29', '3.06', '2.14', '2.19', '1.21', '2.5', '2.65', '2.12', '1.6']\n",
      "https://www.beeradvocate.com/beer/profile/75/2755/?view=beer&sort=&start=325\n",
      "['1.92', '2.62', '2.73', '1.48', '3.48', '2.42', '2.5', '2.38', '1.6', '2.65', '3.15', '2.68', '3.15', '3.45', '3.2', '2.64', '2.53', '2.33', '3.29', '2.73', '1.97', '2.96', '2.8', '2.36', '3.28']\n",
      "https://www.beeradvocate.com/beer/profile/75/2755/?view=beer&sort=&start=350\n",
      "['3.13', '2.25', '2.47', '2.85', '2.4', '1.58', '2.7', '2.61', '2.65', '2.73', '3.3', '1.79', '3.59', '2.51', '3.3', '2.91', '2.45', '2.73', '2.23', '3.6', '2.52', '2.8', '3.3', '3.12', '3.05']\n",
      "https://www.beeradvocate.com/beer/profile/75/2755/?view=beer&sort=&start=375\n",
      "['3.3', '2.33', '3.22', '3.37', '2.2', '3.45', '2.52', '2.08', '1.5', '2.49', '2.97', '2.77', '1.8', '3.9', '2.9', '3.28', '1.88', '3.02', '2.69', '2.25', '2.35', '2.28', '2.88', '2.13', '2.87']\n",
      "https://www.beeradvocate.com/beer/profile/75/2755/?view=beer&sort=&start=400\n",
      "['2.55', '3.22', '2.8', '2.78', '1.71', '3', '1.37', '2.73', '2.3', '2.04', '3.75', '2.6', '2.75', '2.71', '2.15', '1.25', '2.5', '3.85', '2.17', '4.23', '3.15', '2.45', '1.68', '1.35', '2.55']\n",
      "https://www.beeradvocate.com/beer/profile/75/2755/?view=beer&sort=&start=425\n",
      "['2.78', '2.1', '2.3', '2.68', '1.86', '2.31', '2.73', '1.44', '2.73', '2.86', '1.58', '2.5', '2.25', '2.42', '3.76', '2.26', '3.08', '2.45', '2.08', '2.06', '3.4', '1.88', '2.47', '3.2', '3']\n",
      "https://www.beeradvocate.com/beer/profile/75/2755/?view=beer&sort=&start=450\n",
      "['3.1', '3.15', '3.03', '2.18', '2.78', '2', '2.63', '3.79', '2.77', '2.46', '2.53', '2.55', '3.03', '3.14', '2.48', '2.05', '2.32', '1.6', '3', '1.08', '2.8', '2.35', '3.2', '2.54', '2.23']\n",
      "https://www.beeradvocate.com/beer/profile/75/2755/?view=beer&sort=&start=475\n",
      "['2.5', '2.91', '2.91', '3.22', '2.53', '3.13', '2.4', '2.82', '3.05', '2.48', '3.39', '3.04', '3.3', '3.12', '2.1', '2.63', '2.51', '3', '2.45', '2.36', '2.3', '2.83', '2.64', '2.55', '2.83']\n",
      "https://www.beeradvocate.com/beer/profile/75/2755/?view=beer&sort=&start=500\n",
      "['3.25', '2.53', '3.75', '2.75', '1.68', '1.3', '3.8', '2.57', '2.28', '2.76', '2.45', '1.92', '1.98', '1.8', '3.97', '3.15', '4.15', '2.65', '3.04', '2.47', '2.97', '2.71', '2.88', '2.43', '2.3']\n",
      "https://www.beeradvocate.com/beer/profile/75/2755/?view=beer&sort=&start=525\n",
      "['2.68', '2.95', '1.44', '2.53', '2.97', '2.28', '2.6', '1.83', '2.86', '3.03', '2.06', '3.07', '2.71', '3.47', '3.35', '2.85', '2.08', '2.5', '2.4', '2.83', '1.9', '2.62', '2.43', '2.25', '2.03']\n",
      "https://www.beeradvocate.com/beer/profile/75/2755/?view=beer&sort=&start=550\n",
      "['1.43', '3.25', '3.45', '3.23', '2.13', '2.26', '1.59', '3.52', '1.62', '1.92', '1.76', '3.2', '2.03', '1.21', '2.53', '2.79', '3.03', '2.06', '2.02', '3.02', '3.45', '3.37', '2.25', '2.65', '2.12']\n"
     ]
    },
    {
     "name": "stderr",
     "output_type": "stream",
     "text": [
      "\r",
      "35it [1:28:19, 143.47s/it]"
     ]
    },
    {
     "name": "stdout",
     "output_type": "stream",
     "text": [
      "https://www.beeradvocate.com/beer/profile/75/2755/?view=beer&sort=&start=575\n",
      "['1.91', '2.46', '2.83', '3.3', '2.7', '2.42', '2.63', '1.98', '2.98', '2.63', '2.68', '3.18', '1.96', '2.75', '2.99', '3.4', '2.44', '2.73', '2.42', '3.1', '3.08', '2.84']\n",
      "https://www.beeradvocate.com/beer/profile/2681/6518/?view=beer&sort=&start=0\n",
      "['4.22', '3.53', '3.99', '3.86', '5', '3.43', '4.79', '4', '4.04', '3.79', '4.19', '3.74', '3.75', '4.06', '4.21', '3.87', '3.5', '4.44', '4.18', '3.67', '2.81', '4.67', '3.72', '4.44', '3.79']\n",
      "https://www.beeradvocate.com/beer/profile/2681/6518/?view=beer&sort=&start=25\n",
      "['4', '3.79', '2.89', '3.75', '3.9', '3.74', '3.6', '3.93', '3.88', '4.51', '3.73', '3.97', '4.38', '3.84', '3.65', '3.77', '4.04', '3.53', '4.06', '3.77', '3.77', '4.15', '3.82', '3.73', '1.52']\n",
      "https://www.beeradvocate.com/beer/profile/2681/6518/?view=beer&sort=&start=50\n",
      "['3', '3.99', '4.25', '3.66', '4.63', '4.38', '4', '3.87', '3.92', '3.84', '5', '4.27', '3.88', '4.22', '3.77', '5', '3.85', '4.25', '3.73', '4.37', '4.3', '3.87', '4.05', '3.62', '3.87']\n",
      "https://www.beeradvocate.com/beer/profile/2681/6518/?view=beer&sort=&start=75\n",
      "['3.87', '3.83', '3.88', '4.03', '3.73', '4.39', '3.31', '3.81', '4', '3.81', '3.65', '3.84', '3.84', '3.83', '4', '4.12', '4.14', '3.93', '2.83', '3.56', '4.29', '3.71', '4.51', '3.72', '3.45']\n",
      "https://www.beeradvocate.com/beer/profile/2681/6518/?view=beer&sort=&start=100\n",
      "['3.94', '3.9', '3.32', '4.19', '3.63', '4.69', '3.27', '3.56', '1.92', '3.67', '3.14', '3.39', '3', '3.97', '3.25', '4.11', '3.6', '3.64', '4.03', '4.25', '3.5', '3.82', '3.77', '4.33', '3.43']\n",
      "https://www.beeradvocate.com/beer/profile/2681/6518/?view=beer&sort=&start=125\n",
      "['4.02', '4.19', '4.98', '3.85', '3.88', '3.96', '5', '4.5', '4', '3.76', '4.3', '3.65', '3.43', '3.37', '3.88', '3.95', '3.96', '4.21', '4.37', '3.94', '4.46', '4.44', '3.72', '3.85', '4.68']\n",
      "https://www.beeradvocate.com/beer/profile/2681/6518/?view=beer&sort=&start=150\n",
      "['4.49', '4.22', '2.27', '3.71', '4.19', '4.34', '3.93', '3.44', '3.98', '4.06', '3.52', '4.06', '3.4', '3.85', '3.95', '4.18', '3.99', '3.09', '3.26', '4.81', '4.5', '4.08', '4.17', '4.15', '4.36']\n",
      "https://www.beeradvocate.com/beer/profile/2681/6518/?view=beer&sort=&start=175\n",
      "['4.25', '3.72', '4.03', '3.24', '3.93', '3.89', '3.92', '4.15', '4.08', '4.25', '3.49', '3.87', '3.86', '3.33', '3.77', '4.34', '3.41', '3.99', '3.51', '2.19', '3.03', '3.86', '3.96', '3.83', '4.68']\n",
      "https://www.beeradvocate.com/beer/profile/2681/6518/?view=beer&sort=&start=200\n",
      "['4.03', '3.83', '4.74', '3.8', '3.83', '3.56', '3', '3.77', '3.98', '4.03', '3.38', '3.24', '3.63', '3.25', '2.2', '3.73', '4.19', '3.56', '3.95', '4', '3.94', '3.99', '3.75', '3.97', '3.24']\n",
      "https://www.beeradvocate.com/beer/profile/2681/6518/?view=beer&sort=&start=225\n",
      "['4.37', '4.39', '4.6', '3.88', '3.75', '3.62', '3.75', '4.19', '4.25', '3.75', '4.07', '4', '3.91', '4.21', '4.44', '4.18', '4.69', '4.1', '3.76', '4.03', '3.85', '4', '3.91', '4.17', '4.24']\n",
      "https://www.beeradvocate.com/beer/profile/2681/6518/?view=beer&sort=&start=250\n",
      "['3.62', '3.93', '3.71', '3.89', '3.71', '3.48', '3.41', '4.28', '4.76', '3.92', '3.99', '2.77', '4.43', '4.5', '4.07', '3.81', '4.41', '3.75', '3.86', '3.79', '3.85', '4.14', '3.82', '3.58', '4.03']\n",
      "https://www.beeradvocate.com/beer/profile/2681/6518/?view=beer&sort=&start=275\n",
      "['3.5', '3.3', '3.53', '3.83', '4', '3.88', '4.15', '3.81', '4.43', '3.42', '4.21', '4.19', '3.71', '3.8', '3.84', '3.84', '3.9', '3.97', '3.99', '4.5', '3.9', '5', '5', '3.9', '4.12']\n",
      "https://www.beeradvocate.com/beer/profile/2681/6518/?view=beer&sort=&start=300\n",
      "['4.04', '4.5', '3.75', '3.9', '3.98', '3.5', '3.75', '4.5', '4.02', '4.25', '3.75', '3.91', '3.79', '3.88', '4', '4', '4.24', '4', '3.52', '4', '4', '4.25', '3.45', '4.03', '4.27']\n",
      "https://www.beeradvocate.com/beer/profile/2681/6518/?view=beer&sort=&start=325\n",
      "['4.17', '4.16', '4.28', '4.6', '3.89', '4', '3.86', '3.93', '3.85', '3.67', '3.88', '3.73', '4.16', '3.94', '3.79', '2.47', '4.2', '4.57', '4.2', '3.75', '4.17', '4', '1.8', '3.5', '3.65']\n",
      "https://www.beeradvocate.com/beer/profile/2681/6518/?view=beer&sort=&start=350\n",
      "['3.72', '4.23', '3.66', '4.03', '3.84', '3.82', '3.76', '4.18', '4', '3.68', '4.17', '4.07', '4.75', '4.54', '4.04', '3.76', '4.5', '3.85', '4.56', '3.77', '3.92', '3.93', '3.79', '4.21', '4.45']\n",
      "https://www.beeradvocate.com/beer/profile/2681/6518/?view=beer&sort=&start=375\n",
      "['4.14', '3.81', '4.11', '3.68', '3.71', '4.06', '3.21', '3.2', '4', '4.28', '3.65', '3.94', '4.03', '3.84', '4.6', '3.81', '3.77', '4.09', '3.47', '4.15', '4.28', '4.15', '4.09', '4.25', '3.92']\n",
      "https://www.beeradvocate.com/beer/profile/2681/6518/?view=beer&sort=&start=400\n",
      "['1.76', '4.21', '3.74', '4.34', '4.19', '3.54', '3.56', '3.83', '4.21', '3.72', '4.46', '3.92', '3.45', '3.79', '4.46', '1', '3.95', '3.42', '4.45', '4.41', '3.62', '3.77', '3.58', '3.25', '3.84']\n",
      "https://www.beeradvocate.com/beer/profile/2681/6518/?view=beer&sort=&start=425\n",
      "['3.72', '4.14', '3.73', '4.5', '3.82', '3.49', '3.35', '3.99', '3.6', '3.32', '2.75', '3.76', '3.9', '3.78', '3.66', '3.9', '3.77', '4.17', '4.12', '2.75', '3.9', '3.79', '3.98', '3.46', '4.11']\n",
      "https://www.beeradvocate.com/beer/profile/2681/6518/?view=beer&sort=&start=450\n",
      "['3.87', '4.88', '4.02', '3.83', '4.02', '4.32', '4.1', '4.1', '3.61', '4.15', '3.77', '3.69', '3.72', '3.56', '3.91', '3.61', '4.39', '4.14', '3.53', '3.9', '3.94', '3.91', '4.15', '4.04', '4.13']\n",
      "https://www.beeradvocate.com/beer/profile/2681/6518/?view=beer&sort=&start=475\n",
      "['3.83', '4.23', '3.85', '3.99', '3.8', '3.99', '3.96', '3.9', '4.14', '4.17', '3.68', '4.16', '3.6', '4.2', '3.02', '3.92', '4.46', '3.9', '3.73', '4.02', '4.5', '4.23', '3.64', '4.68', '4']\n",
      "https://www.beeradvocate.com/beer/profile/2681/6518/?view=beer&sort=&start=500\n",
      "['4.11', '3.7', '3.74', '4', '4.18', '3.99', '4.06', '4.44', '3.68', '4.03', '4.2', '4.07', '4.06', '4.6', '3.96', '3.96', '4.24', '4.26', '3.92', '4', '4.1', '3.98', '4.04', '4.21', '4']\n",
      "https://www.beeradvocate.com/beer/profile/2681/6518/?view=beer&sort=&start=525\n",
      "['3.86', '3.71', '4.68', '4.04', '4.1', '4.37', '3.78', '4.19', '4.12', '3.37', '4.5', '3.13', '3.89', '4.12', '4.63', '3.66', '3.89', '3.97', '3.89', '4.1', '3.65', '4', '4.04', '3.64', '4.11']\n",
      "https://www.beeradvocate.com/beer/profile/2681/6518/?view=beer&sort=&start=550\n",
      "['4', '3.73', '3.57', '4.2', '4.39', '4', '3.88', '4.18', '3.88', '4.08', '3.88', '3.78', '4.15', '3.53', '3.87', '4', '4.03', '3.93', '4.5', '4', '3.88', '4.33', '4.5', '3', '4.04']\n",
      "https://www.beeradvocate.com/beer/profile/2681/6518/?view=beer&sort=&start=575\n",
      "['3.53', '3.34', '3.79', '3.67', '3.88', '3.67', '4.08', '4.5', '4.67', '4', '4.03', '3.9', '4.42', '3.27', '3.97', '4.42', '3.51', '3.88', '3.51', '4.13', '3.88', '4.38', '4', '3.08', '3.08']\n",
      "https://www.beeradvocate.com/beer/profile/2681/6518/?view=beer&sort=&start=600\n",
      "['3.8', '3.63', '3.58', '3.98', '3.63', '3.73', '3.92', '4.42', '3.91', '3.91', '3.71', '4.03', '3.91', '3.75', '3.62', '4', '3.88', '3.48', '4.42', '3.71', '3.88', '4.42', '4.15', '4', '3.66']\n",
      "https://www.beeradvocate.com/beer/profile/2681/6518/?view=beer&sort=&start=625\n",
      "['4.4', '4.08', '4.03', '3.63', '3.28', '2.13', '3.51', '3.88', '3.79', '4.23', '4', '3.35', '3.86', '3.93', '3.95', '3.51', '3.83', '3.68', '3.96', '3.95', '3.36', '4.25', '4', '4.52', '4']\n",
      "https://www.beeradvocate.com/beer/profile/2681/6518/?view=beer&sort=&start=650\n",
      "['4', '3.77', '4.5', '3.25', '4', '3.49', '4.83', '3.75', '3.67', '3.5', '3.66', '3.55', '4.28', '4.2', '3.56', '3.85', '4.45', '3.85', '4.29', '3.8', '4', '3.98', '3.21', '4', '3.8']\n",
      "https://www.beeradvocate.com/beer/profile/2681/6518/?view=beer&sort=&start=675\n",
      "['3.56', '4.5', '4.1', '4.09', '4.12', '3.83', '3.53', '4.35', '4.1', '3.73', '4', '2.88', '4.07', '4.05', '4.14', '4.2', '4.53', '3.68', '4.23', '4.33', '4.17', '4.42', '3.94', '4', '3.81']\n",
      "https://www.beeradvocate.com/beer/profile/2681/6518/?view=beer&sort=&start=700\n",
      "['4.13', '3.7', '4', '3.89', '3.28', '3.44', '3.77', '4.06', '3.7', '3.68', '4.47', '4.07', '3.6', '4.06', '3.89', '4.06', '4.1', '3.18', '3.9', '3.91', '4.26', '4', '3.08', '3.88', '4.2']\n",
      "https://www.beeradvocate.com/beer/profile/2681/6518/?view=beer&sort=&start=725\n",
      "['4.03', '4.1', '3.61', '4.05', '4', '4.11', '3.89', '3.92', '3.83', '4.54', '3.88', '4.71', '4.42', '3.06', '4.32', '3.68', '4.07', '3.97', '4.12', '3.56', '4.18', '3.32', '3.85', '3.58', '4']\n"
     ]
    },
    {
     "name": "stdout",
     "output_type": "stream",
     "text": [
      "https://www.beeradvocate.com/beer/profile/2681/6518/?view=beer&sort=&start=750\n",
      "['3.82', '3.85', '4.27', '4', '4.33', '3.95', '4.06', '3.51', '3.48', '3.88', '4.68', '3.8', '4.05', '3.85', '3.86', '4.1', '3.95', '4.85', '3.8', '3.95', '4', '4.05', '4', '4.2', '4.42']\n",
      "https://www.beeradvocate.com/beer/profile/2681/6518/?view=beer&sort=&start=775\n",
      "['3.8', '4.42', '3.75', '4.1', '4.33', '4.5', '4.12', '4.28', '3.53', '4.02', '3.8', '4.2', '3.82', '4.09', '4', '3.73', '3.79', '4.38', '3.58', '4.12', '3.92', '3.92', '4.42', '4.23', '2.93']\n",
      "https://www.beeradvocate.com/beer/profile/2681/6518/?view=beer&sort=&start=800\n",
      "['4.2', '4.39', '4.58', '4.25', '3.93', '3.9', '4.2', '3.97', '3.8', '4.23', '4.35', '4.17', '4.23', '2.6', '3.82', '4.05', '4.3', '4.2', '3.58', '4.2', '4.38', '4.5', '3.78', '3.55', '4']\n",
      "https://www.beeradvocate.com/beer/profile/2681/6518/?view=beer&sort=&start=825\n",
      "['4.18', '3.58', '3.8', '3.75', '3.76', '4.05', '3.88', '4.11', '4.38', '4.15', '4', '3.43', '4.08', '3.53', '4.25', '3.92', '3.59', '4.15', '4.05', '4.15', '4.3', '4.44', '2.84', '3.8', '3.68']\n",
      "https://www.beeradvocate.com/beer/profile/2681/6518/?view=beer&sort=&start=850\n",
      "['4.23', '4.12', '3.88', '3.48', '4.35', '4', '3.85', '4.08', '3.83', '4.2', '3.55', '4', '3.83', '3.91', '3.85', '4.13', '4', '3.8', '4', '3.98', '3.56', '4.07', '4', '4.18', '3.8']\n",
      "https://www.beeradvocate.com/beer/profile/2681/6518/?view=beer&sort=&start=875\n",
      "['4.15', '4', '4.33', '4.6', '3.73', '3.8', '4.33', '3.83', '3.45', '4.18', '4.55', '4', '3.58', '4.25', '3.31', '4.18', '4.44', '4', '3.85', '3.83', '4.2', '3.88', '3.31', '3.97', '3.91']\n",
      "https://www.beeradvocate.com/beer/profile/2681/6518/?view=beer&sort=&start=900\n",
      "['3.24', '3.6', '3.8', '3', '3.79', '3.69', '3.87', '3.08', '3.88', '3.95', '4.28', '3.86', '3.8', '4.07', '4.15', '3.68', '3.77', '4', '3.8', '4.1', '4.84', '3.9', '3.85', '3.6', '3.97']\n",
      "https://www.beeradvocate.com/beer/profile/2681/6518/?view=beer&sort=&start=925\n",
      "['3.81', '3.73', '3.71', '3.16', '4.13', '4.27', '4.05', '3.9', '4.33', '4.17', '4.23', '3.74', '3.63', '3.76', '3.91', '3.68', '4.06', '4.13', '4.01', '4.2', '4.2', '3.5', '3.5', '3.77', '3.93']\n",
      "https://www.beeradvocate.com/beer/profile/2681/6518/?view=beer&sort=&start=950\n",
      "['4', '3.42', '3.45', '4.03', '3.75', '3.23', '3.55', '4.57', '3.58', '3.83', '4.08', '4.1', '4.1', '3.95', '4.37', '3.92', '3.25', '3.36', '3.97', '4.03', '4.05', '3.85', '3.8', '4.02', '3.92']\n",
      "https://www.beeradvocate.com/beer/profile/2681/6518/?view=beer&sort=&start=975\n",
      "['4', '3.93', '4.22', '3.98', '3.98', '3.7', '3.7', '4.03', '3.97', '3.85', '2.83', '3.68', '3.35', '3.58', '3.82', '3.88', '3.8', '3.8', '3.8', '3.9', '4.5', '4.23', '3.48', '4.73', '4.1']\n",
      "https://www.beeradvocate.com/beer/profile/2681/6518/?view=beer&sort=&start=1000\n",
      "['4.27', '3.83', '3.62', '3.38', '3.92', '4.29', '4.3', '4.4', '4.42', '4', '4.2', '2.83', '3.87', '3.56', '3.85', '3.9', '3.7', '3.91', '4.05', '4.38', '3.98', '4.32', '4.1', '4.07', '4.35']\n",
      "https://www.beeradvocate.com/beer/profile/2681/6518/?view=beer&sort=&start=1025\n",
      "['3.98', '3.92', '4.24', '4.17', '3.95', '3.46', '4.1', '4.21', '4.03', '3.46', '4.42', '4.25', '4.42', '4.23', '3.98', '4.05', '3.8', '3.6', '3.78', '4.25', '3.95', '4.17', '4.12', '4.13', '3.7']\n",
      "https://www.beeradvocate.com/beer/profile/2681/6518/?view=beer&sort=&start=1050\n",
      "['4.4', '4.63', '3.19', '3.75', '4.3', '4', '3.88', '3.03', '4.3', '4.14', '4.13', '4.4', '3.88', '4.22', '3.45', '4.23', '4.02', '4.19', '3.9', '4.3', '3.9', '2.8', '4.5', '4', '4.17']\n",
      "https://www.beeradvocate.com/beer/profile/2681/6518/?view=beer&sort=&start=1075\n",
      "['4.15', '4.03', '3.91', '4.3', '4.23', '4.22', '3.88', '4.25', '4.45', '4.18', '5', '3.92', '4', '3.85', '4.2', '3.92', '4.03', '4.35', '3.88', '3.67', '3.82', '4.5', '4.06', '4.37', '3.83']\n",
      "https://www.beeradvocate.com/beer/profile/2681/6518/?view=beer&sort=&start=1100\n",
      "['3.88', '4', '4.13', '4.32', '4.6', '4.17', '4', '3.66', '3.37', '3.93', '4', '3.88', '3.8', '4.23', '3.95', '4.19', '3.94', '3.83', '4.12', '3.74', '4', '3.73', '4.01', '3.95', '4.07']\n",
      "https://www.beeradvocate.com/beer/profile/2681/6518/?view=beer&sort=&start=1125\n",
      "['3.67', '4.13', '3.51', '3.96', '3.76', '3.29', '4.07', '3.98', '3.5', '4.1', '4', '4.15', '4.43', '4.42', '3.5', '3.93', '3.52', '3.73', '4.88', '4.22', '3.61', '3.85', '3.23', '4.08', '3.85']\n",
      "https://www.beeradvocate.com/beer/profile/2681/6518/?view=beer&sort=&start=1150\n",
      "['4.13', '4', '4.35', '3.63', '4.25', '3.98', '3.8', '3.85', '4.43', '4.6', '3.91', '4.42', '4.04', '3.88', '4', '4.52', '3.75', '4', '3.85', '4.14', '4.22', '3.68', '4.14', '2.61', '3.88']\n",
      "https://www.beeradvocate.com/beer/profile/2681/6518/?view=beer&sort=&start=1175\n",
      "['4.78', '3.9', '4.45', '3.85', '4.28', '4.25', '4', '4.2', '3.73', '4.32', '3.72', '4.05', '4', '4.22', '4.22', '4.1', '3.98', '3.7', '3.46', '4.27', '3.8', '3.85', '3.88', '4.05', '4']\n",
      "https://www.beeradvocate.com/beer/profile/2681/6518/?view=beer&sort=&start=1200\n",
      "['3.95', '3.88', '3.93', '4.12', '4.2', '4', '3.92', '4.57', '3.58', '4', '3.98', '4.19', '4.13', '3.8', '4.25', '3.87', '1.28', '4.1', '2.85', '5', '3.36', '4.05', '3.95', '3.78', '4.08']\n",
      "https://www.beeradvocate.com/beer/profile/2681/6518/?view=beer&sort=&start=1225\n",
      "['3.8', '4.6', '3.97', '3.62', '4.22', '3.97', '3.9', '4', '3.92', '4.13', '2.88', '4.45', '4.45', '4.18', '3.81', '4.15', '4.2', '3.96', '3.83', '4.25', '4.22', '4.13', '4.73', '4.11', '3.53']\n",
      "https://www.beeradvocate.com/beer/profile/2681/6518/?view=beer&sort=&start=1250\n",
      "['4.3', '3.88', '4.17', '3.76', '4.02', '3.35', '4.17', '4.5', '4.3', '4.3', '3.38', '4.03', '3.46', '4.45', '3.95', '4.35', '4.1', '3.95', '3.87', '4', '3.98', '3.67', '3.58', '4.05', '3.58']\n",
      "https://www.beeradvocate.com/beer/profile/2681/6518/?view=beer&sort=&start=1275\n",
      "['3.91', '4', '3.01', '3.45', '4', '4.18', '4', '4.08', '3.23', '3', '4.12', '4.1', '3.73', '4.05', '3.27', '3.8', '4.03', '4.75', '4.32', '4.05', '4.34', '4.64', '4.35', '4.3', '3.48']\n",
      "https://www.beeradvocate.com/beer/profile/2681/6518/?view=beer&sort=&start=1300\n",
      "['4', '3.72', '4.33', '4.27', '3.58', '4.5', '4.67', '4.29', '4.08', '4.37', '4', '3.71', '2.93', '4.1', '4.25', '3.98', '3.81', '2.94', '4.12', '4', '3', '4.51', '4.1', '3.75', '3.92']\n",
      "https://www.beeradvocate.com/beer/profile/2681/6518/?view=beer&sort=&start=1325\n",
      "['4.42', '3.78', '4.11', '3.94', '4.18', '4.45', '3.9', '3.86', '3.83', '3.05', '4.18', '4.25', '3.85', '4.1', '4.06', '4.37', '4.54', '3.9', '4.54', '3.98', '3.62', '3.62', '4.32', '3.91', '3.23']\n",
      "https://www.beeradvocate.com/beer/profile/2681/6518/?view=beer&sort=&start=1350\n",
      "['3.9', '4.83', '3.63', '3.85', '3.76', '4.2', '4.32', '4.75', '3.66', '3.91', '3.55', '3.03', '4.05', '4.28', '4.1', '3.87', '3.83', '4.35', '3.83', '3.78', '3.85', '4.1', '4.37', '3.7', '3.88']\n",
      "https://www.beeradvocate.com/beer/profile/2681/6518/?view=beer&sort=&start=1375\n",
      "['3.81', '4.5', '4.07', '3.91', '4.18', '4', '4.3', '3.76', '4.27', '4.13', '3.4', '3.28', '4.45', '3.85', '4', '4.28', '3.41', '3.95', '3.95', '3.18', '3.21', '4.06', '4.1', '3.03', '4.27']\n",
      "https://www.beeradvocate.com/beer/profile/2681/6518/?view=beer&sort=&start=1400\n",
      "['3.65', '4.28', '3.95', '4.25', '3.95', '4', '3.08', '3.48', '4.47', '4', '4.12', '3.48', '4.4', '3.18', '4.3', '4', '4.24', '4.42', '3.53', '3.53', '3.21', '4.03', '4', '3.7', '3.63']\n",
      "https://www.beeradvocate.com/beer/profile/2681/6518/?view=beer&sort=&start=1425\n",
      "['3.61', '3.83', '4.05', '3.73', '3.97', '4.65', '3.37', '3.8', '4.27', '4.22', '3.97', '4.22', '4.33', '3.62', '4.18', '3.97', '3.9', '3.98', '4', '3.2', '4.13', '3.68', '4.27', '4.36', '3.8']\n",
      "https://www.beeradvocate.com/beer/profile/2681/6518/?view=beer&sort=&start=1450\n",
      "['3.5', '3.6', '3.88', '3.91', '3.83', '4.07', '4.6', '4.32', '4.32', '3.88', '4.25', '3.84', '3.99', '4.1', '3.83', '4.03', '4.18', '4.07', '3.88', '4', '3.85', '4.8', '4', '4', '3.93']\n",
      "https://www.beeradvocate.com/beer/profile/2681/6518/?view=beer&sort=&start=1475\n",
      "['4.17', '4.15', '3.71', '4.27', '4.4', '4', '4.15', '4.62', '4.03', '3.9', '4.32', '3.98', '4.57', '4.35', '3.47', '4.22', '3.72', '3.97', '4.13', '3.8', '4', '4.3', '4.07', '5', '4.3']\n",
      "https://www.beeradvocate.com/beer/profile/2681/6518/?view=beer&sort=&start=1500\n",
      "['3.95', '4.1', '3.96', '3.9', '4', '3.95', '4.13', '3.83', '4.22', '4.1', '4.3', '4.45', '3.75', '4.32', '3.79', '4.46', '4.1', '4.27', '4.32', '4.35', '4.12', '3.7', '4.15', '3.9', '4.35']\n"
     ]
    },
    {
     "name": "stdout",
     "output_type": "stream",
     "text": [
      "https://www.beeradvocate.com/beer/profile/2681/6518/?view=beer&sort=&start=1525\n",
      "['4.17', '3.48', '4.5', '4.13', '3.35', '4', '4.33', '4.08', '4.23', '3.39', '4.1', '4.52', '3.81', '3.23', '3.23', '4.37', '4.21', '3.62', '3.73', '4.8', '3.78', '4.39', '4.18', '3.97', '4.33']\n",
      "https://www.beeradvocate.com/beer/profile/2681/6518/?view=beer&sort=&start=1550\n",
      "['4', '3.97', '4.38', '4.02', '3.5', '4.35', '4.39', '4.68', '4.17', '3.96', '3.98', '4.2', '4.15', '3.51', '4.22', '4.05', '4', '4.62', '3.9', '3.8', '4.25', '3.52', '3.88', '4.02', '3.68']\n",
      "https://www.beeradvocate.com/beer/profile/2681/6518/?view=beer&sort=&start=1575\n",
      "['4', '4.32', '4.07', '4', '4.1', '3.78', '3.44', '4.02', '3.42', '3.98', '3.79', '4.27', '3.97', '4.24', '4.25', '4.28', '4.1', '4.3', '4.12', '4.15', '4.05', '4.04', '3.5', '4.15', '4.27']\n",
      "https://www.beeradvocate.com/beer/profile/2681/6518/?view=beer&sort=&start=1600\n",
      "['4.33', '4.2', '4.15', '4.2', '3.83', '4.52', '3.69', '3.82', '3.3', '3.53', '3.45', '3.83', '3.93', '4.52', '4.02', '3.97', '4.08', '2.47', '3.56', '3.5', '2.91', '4.38', '3.4', '4.08', '3.98']\n",
      "https://www.beeradvocate.com/beer/profile/2681/6518/?view=beer&sort=&start=1625\n",
      "['3.89', '2.46', '4.01', '3.4', '2.12', '4.32', '3.63', '3.7', '3.95', '3.6', '3.73', '3.7', '3.8', '2.4', '3.33', '4.02', '4.35', '4', '4.32', '3.97', '4.5', '2.97', '3.74', '4.03', '4.01']\n",
      "https://www.beeradvocate.com/beer/profile/2681/6518/?view=beer&sort=&start=1650\n",
      "['3.16', '2.32', '4.12', '4', '4.1', '3.78', '4.1', '3.83', '3.72', '3.92', '4.07', '4.52', '4.19', '3.67', '4.55', '4.3', '3.62', '3.85', '3.8', '4.03', '3.95', '3.5', '3.18', '3.92', '4.2']\n",
      "https://www.beeradvocate.com/beer/profile/2681/6518/?view=beer&sort=&start=1675\n",
      "['3.48', '2.79', '4.1', '4.13', '4', '4.5', '2.07', '4.03', '4.8', '4.62', '3.92', '3.98', '3.95', '3.41', '3.03', '4.07', '3.73', '3.18', '3.88', '4.22', '4.13', '3.02', '4.07', '4.37', '4.15']\n",
      "https://www.beeradvocate.com/beer/profile/2681/6518/?view=beer&sort=&start=1700\n",
      "['2.46', '4.27', '4.57', '3.8', '4', '3.06', '3.2', '4.42', '4.1', '3.57', '3.3', '3.8', '3.95', '3.97', '4', '3.75', '3.27', '3.93', '3.5', '3.98', '2.98', '4.52', '3.68', '3.48', '3.88']\n",
      "https://www.beeradvocate.com/beer/profile/2681/6518/?view=beer&sort=&start=1725\n",
      "['3.75', '3.5', '3.97', '4.42', '4.5', '3.7', '3.25', '4', '4.32', '3.8', '4.2', '4.5', '3.97', '4.25', '4.3', '4.42', '4', '4.06', '4.37', '4.25', '4.35', '3.8', '4.38', '4.13', '4.18']\n",
      "https://www.beeradvocate.com/beer/profile/2681/6518/?view=beer&sort=&start=1750\n",
      "['4', '3.65', '2.89', '4.15', '4.55', '3.45', '3.63', '4.25', '3.92', '3.74', '4.23', '4.75', '2.88', '4.07', '4.01', '3.97', '4.13', '2.3', '4.48', '4.28', '4.58', '4.33', '3.88', '4.01', '4.15']\n",
      "https://www.beeradvocate.com/beer/profile/2681/6518/?view=beer&sort=&start=1775\n",
      "['4.6', '3.91', '4.2', '4.55', '4.36', '4.52', '4.25', '3.71', '4.12', '4.23', '4.03', '3.88', '4.47', '4', '3.65', '3.68', '4.28', '4.1', '4.08', '3.53', '3.6', '4.15', '3.88', '4.2', '3.63']\n",
      "https://www.beeradvocate.com/beer/profile/2681/6518/?view=beer&sort=&start=1800\n",
      "['4.3', '4.12', '3.78', '4.26', '3.98', '3.95', '3.16', '4.4', '4.3', '4.3', '3.63', '3.9', '4', '4.57', '4.42', '3.65', '4.35', '4.1', '4.3', '3.27', '3.63', '3.83', '3.41', '4.07', '3.6']\n",
      "https://www.beeradvocate.com/beer/profile/2681/6518/?view=beer&sort=&start=1825\n",
      "['2.96', '4.1', '3.79', '4.17', '4.13', '4.18', '3.83', '4.88', '4', '3.93', '4', '4.1', '4.13', '3.83', '4.3', '3.44', '4.06', '4.7', '3.75', '3.56', '3.95', '4.1', '3.61', '4.22', '4.42']\n",
      "https://www.beeradvocate.com/beer/profile/2681/6518/?view=beer&sort=&start=1850\n",
      "['3.88', '4.2', '4.03', '4.42', '3.67', '3.7', '4.16', '3.8', '3.8', '4.2', '4.2', '4.1', '3.97', '4.6', '3.67', '4.33', '4.5', '3.6', '4.15', '4', '3.6', '4.33', '3.8', '3.95', '4.13']\n",
      "https://www.beeradvocate.com/beer/profile/2681/6518/?view=beer&sort=&start=1875\n",
      "['4.45', '4.23', '3.92', '3.6', '3.92', '3.1', '3.83', '4.28', '4.6', '3.74', '4.24', '4.05', '4.38', '4.31', '4.25', '4.33', '3.2', '3.97', '4.33', '4', '4.56', '3.85', '4.15', '4', '3.38']\n",
      "https://www.beeradvocate.com/beer/profile/2681/6518/?view=beer&sort=&start=1900\n",
      "['4.23', '4.48', '3.85', '3.77', '4.49', '3.75', '4.18', '4', '3.6', '3.8', '3.73', '4.35', '4.55', '3.69', '4.1', '3.83', '4.1', '3.92', '4', '3.98', '2.72', '3.96', '3.88', '3.58', '3.79']\n",
      "https://www.beeradvocate.com/beer/profile/2681/6518/?view=beer&sort=&start=1925\n",
      "['4.83', '4', '4.3', '4.55', '4.38', '3.97', '4.07', '4.08', '3.85', '3.83', '4.19', '4.3', '3.27', '4.15', '4.12', '3.92', '4.92', '3.98', '3.65', '3.97', '4.1', '4.13', '3.75', '4.35', '4.2']\n",
      "https://www.beeradvocate.com/beer/profile/2681/6518/?view=beer&sort=&start=1950\n",
      "['3.97', '4.1', '4.33', '3.9', '4.08', '2.98', '4.3', '3.68', '4.1', '4', '3.8', '2.84', '3.58', '3.71', '4.1', '4.13', '4.17', '4.05', '4.32', '4.1', '3.92', '3.88', '4.28', '3.73', '3.5']\n",
      "https://www.beeradvocate.com/beer/profile/2681/6518/?view=beer&sort=&start=1975\n",
      "['2.78', '3.77', '3.68', '4.63', '3.28', '4.13', '4.05', '3.78', '4.03', '4.15', '3.78', '4.92', '4.22', '4.32', '3.98', '2.76', '3.36', '4.19', '4.1', '4.43', '3.85', '4.29', '4.43', '3.3', '4.07']\n",
      "https://www.beeradvocate.com/beer/profile/2681/6518/?view=beer&sort=&start=2000\n",
      "['3.82', '4', '4.15', '3.83', '3.69', '3.3', '4.2', '3.66', '2.73', '4.17', '4.03', '3.65', '3.83', '3.68', '3.83', '4.41', '3.8', '4.35', '4', '4.22', '4.57', '4.15', '4.5', '3.62', '4']\n",
      "https://www.beeradvocate.com/beer/profile/2681/6518/?view=beer&sort=&start=2025\n",
      "['4.33', '4.03', '4.52', '4.22', '4', '4', '3.26', '3.92', '3.97', '4.07', '3.88', '4.42', '4.17', '2.67', '4.29', '4.33', '4.32', '4', '3.67', '4', '3.92', '3.8', '3.94', '3.93', '3.71']\n"
     ]
    },
    {
     "name": "stderr",
     "output_type": "stream",
     "text": [
      "\r",
      "36it [1:36:30, 247.67s/it]"
     ]
    },
    {
     "name": "stdout",
     "output_type": "stream",
     "text": [
      "https://www.beeradvocate.com/beer/profile/2681/6518/?view=beer&sort=&start=2050\n",
      "['3.95', '4', '4.22', '3.85', '3.87', '3.8', '3.7', '3.65', '4.12', '3.92', '4.07', '3.83']\n",
      "https://www.beeradvocate.com/beer/profile/81/639/?view=beer&sort=&start=0\n",
      "['5', '5', '3.35', '3.84', '3.14', '4.27', '3.52', '3.81', '3.47', '3.34', '3.04', '2.94', '1.6', '3.28', '3.08', '4.09', '2.75', '3.27', '2.6', '4', '1.71', '1', '3.71', '3.89', '3.55']\n",
      "https://www.beeradvocate.com/beer/profile/81/639/?view=beer&sort=&start=25\n",
      "['3.9', '1.65', '3.87', '3.39', '5', '3.24', '2.75', '3.29', '3.56', '4', '4.22', '3.16', '3.87', '2.24', '3.6', '4.25', '3.15', '3.65', '3.25', '1.72', '3.33', '2.88', '3.9', '3.76', '3.47']\n",
      "https://www.beeradvocate.com/beer/profile/81/639/?view=beer&sort=&start=50\n",
      "['3.38', '3.34', '2.81', '3.49', '3.52', '3.61', '3.08', '2.56', '3.26', '1.68', '3.96', '3.65', '3.25', '3.9', '3.88', '3.4', '3.46', '2.37', '3.68', '3.75', '2.28', '3.39', '2.51', '2.76', '2.76']\n",
      "https://www.beeradvocate.com/beer/profile/81/639/?view=beer&sort=&start=75\n",
      "['2.96', '2.87', '3.43', '2.75', '2.76', '2.69', '2.52', '4', '2.98', '3.54', '3.41', '3', '3.11', '2.5', '2.66', '3.69', '2.36', '2.29', '3', '2.49', '3.36', '2', '3.12', '3.1', '3.82']\n",
      "https://www.beeradvocate.com/beer/profile/81/639/?view=beer&sort=&start=100\n",
      "['3.01', '2.4', '3.25', '3.2', '3.47', '3.46', '3.76', '2.38', '1.36', '3.38', '2.92', '4.27', '2.58', '3.41', '3.6', '3.02', '3.23', '3.49', '2.95', '4.16', '2.46', '3.59', '3.25', '3.4', '3.12']\n",
      "https://www.beeradvocate.com/beer/profile/81/639/?view=beer&sort=&start=125\n",
      "['3.14', '3.56', '3.25', '3.19', '2.93', '3.03', '3.5', '3.02', '4.23', '3.5', '1.91', '3.66', '3.91', '4.15', '4.35', '3.48', '4.76', '3.36', '3.12', '3.16', '3.31', '3.74', '3.38', '3.83', '5']\n",
      "https://www.beeradvocate.com/beer/profile/81/639/?view=beer&sort=&start=150\n",
      "['2.1', '4.67', '4.7', '3.74', '3.68', '2.75', '3.25', '3.13', '3.86', '3.42', '3.38', '1.63', '4.64', '3.65', '2.5', '3.1', '2.69', '3.05', '2.97', '3.08', '4', '4.25', '4.5', '3.53', '3.75']\n",
      "https://www.beeradvocate.com/beer/profile/81/639/?view=beer&sort=&start=175\n",
      "['3.73', '3', '3', '3.11', '3', '3.75', '3.85', '3.5', '4', '2.5', '2.5', '3.5', '2', '2.66', '3.24', '4.7', '1', '3.26', '1.24', '3.43', '3.29', '2.67', '2.59', '3.13', '2.79']\n",
      "https://www.beeradvocate.com/beer/profile/81/639/?view=beer&sort=&start=200\n",
      "['2.73', '2.28', '2.87', '3.64', '4.72', '3.93', '3.41', '3.86', '3.63', '3.34', '4.5', '3.61', '4.71', '3.2', '3.39', '3.02', '3.32', '2.54', '3.05', '4.13', '3.17', '3.48', '3.37', '3.33', '3.42']\n",
      "https://www.beeradvocate.com/beer/profile/81/639/?view=beer&sort=&start=225\n",
      "['3.12', '4.8', '3.99', '5', '3.26', '2.18', '3.07', '2.63', '3.22', '4.31', '3.41', '2.14', '3.04', '2.56', '3.75', '3.85', '3.61', '3.76', '3.39', '3.05', '2.99', '3.07', '2.7', '2.64', '2.87']\n",
      "https://www.beeradvocate.com/beer/profile/81/639/?view=beer&sort=&start=250\n",
      "['2.54', '3.25', '3', '2.68', '2.03', '3.62', '3.57', '3.22', '3.19', '2.81', '1.81', '4.17', '4.01', '3.34', '3.06', '1.17', '3.22', '3.14', '3.01', '2.7', '2.76', '3.15', '2.64', '1.64', '3.75']\n",
      "https://www.beeradvocate.com/beer/profile/81/639/?view=beer&sort=&start=275\n",
      "['3.43', '3.52', '3.23', '3.33', '3.5', '3.39', '3.38', '2.98', '2.83', '2.23', '4.41', '3.33', '3.45', '3.3', '4.03', '3.36', '2.7', '3.72', '3.26', '3.5', '3.83', '2.55', '4.16', '3.4', '2.29']\n",
      "https://www.beeradvocate.com/beer/profile/81/639/?view=beer&sort=&start=300\n",
      "['3.5', '3.28', '3.2', '3.92', '2.64', '3.67', '3.13', '3.3', '4.15', '3.57', '2.43', '3.18', '2.93', '2.6', '4.22', '2.03', '4.23', '3.18', '3.5', '3.58', '1.98', '1.03', '3.05', '3.51', '3.5']\n",
      "https://www.beeradvocate.com/beer/profile/81/639/?view=beer&sort=&start=325\n",
      "['3.22', '3.49', '4.16', '2.63', '3.24', '3.45', '2.74', '2.84', '3.96', '3.75', '3.47', '4.06', '3.06', '2.74', '3.56', '3.15', '3', '3.7', '3.8', '3.65', '4.33', '3.35', '3', '2.28', '2.99']\n",
      "https://www.beeradvocate.com/beer/profile/81/639/?view=beer&sort=&start=350\n",
      "['2.2', '1.97', '3.38', '2.64', '4', '4.26', '3.45', '2.59', '3.15', '2.96', '3.4', '3.06', '2.28', '2.88', '2.99', '2.28', '3.2', '2.29', '2.14', '1.91', '4.2', '3.91', '1.66', '3.01', '2.98']\n",
      "https://www.beeradvocate.com/beer/profile/81/639/?view=beer&sort=&start=375\n",
      "['3.38', '2.97', '3.16', '3.2', '4', '3', '3.53', '2.84', '3.7', '2.92', '3.78', '3.16', '2.98', '3.03', '3.36', '2.98', '3.83', '3.91', '2.76', '3.85', '2.96', '3.61', '3.14', '3.63', '3.32']\n",
      "https://www.beeradvocate.com/beer/profile/81/639/?view=beer&sort=&start=400\n",
      "['4.07', '3.58', '2.91', '2.6', '2.71', '3.37', '3.42', '2.78', '2.95', '2.62', '3.19', '4.5', '3.3', '2.77', '3.67', '3.43', '3.33', '2.44', '4', '3.14', '3.85', '3.4', '3.15', '2.36', '3.88']\n",
      "https://www.beeradvocate.com/beer/profile/81/639/?view=beer&sort=&start=425\n",
      "['3.86', '3.27', '2.6', '3.56', '3.9', '2.99', '3.02', '3.58', '4.1', '3.13', '3.67', '3.55', '3.65', '3.25', '2.29', '2.69', '3.38', '3.23', '3.31', '4.18', '2.83', '3.69', '2.91', '2.63', '3.42']\n",
      "https://www.beeradvocate.com/beer/profile/81/639/?view=beer&sort=&start=450\n",
      "['3.8', '3.15', '3.06', '3.17', '3.53', '5', '2.99', '2.85', '3', '2.35', '3.08', '2.13', '3.15', '3.83', '3.95', '2.98', '3.18', '2.85', '3.29', '3.45', '2.79', '3.38', '3.6', '3.8', '3.28']\n",
      "https://www.beeradvocate.com/beer/profile/81/639/?view=beer&sort=&start=475\n",
      "['3.58', '3.53', '3.2', '3.14', '3.82', '3.03', '2.28', '3.87', '2.87', '3.71', '2.89', '2.4', '2.8', '4.01', '3', '3.59', '3.2', '3.35', '1.99', '3.21', '4.42', '2.57', '2.68', '3.52', '3.23']\n",
      "https://www.beeradvocate.com/beer/profile/81/639/?view=beer&sort=&start=500\n",
      "['4.32', '3.95', '2.86', '1.93', '2.83', '2.36', '3.58', '3.17', '3.9', '3', '3.03', '2.54', '3.26', '3.65', '3.03', '3.03', '3.65', '3.03', '3.65', '1.92', '3.04', '3', '3.49', '3.41', '3.11']\n",
      "https://www.beeradvocate.com/beer/profile/81/639/?view=beer&sort=&start=525\n",
      "['3.31', '2.76', '4.22', '4.2', '3.11', '2.76', '3.36', '3.36', '4.38', '5', '3', '3.93', '4.45', '4.07', '3.46', '3.43', '3.4', '2.59', '3.55', '4.25', '3.5', '3.51', '2.08', '3.06', '1.55']\n",
      "https://www.beeradvocate.com/beer/profile/81/639/?view=beer&sort=&start=550\n",
      "['4.48', '2.95', '2.95', '3.71', '2.69', '2.91', '4.08', '3.57', '3.78', '3.48', '3', '3.83', '2.82', '3.55', '3.83', '3.65', '3.85', '2.6', '4.11', '3.53', '3.26', '3.34', '3.31', '3.1', '4']\n",
      "https://www.beeradvocate.com/beer/profile/81/639/?view=beer&sort=&start=575\n",
      "['3.45', '3.68', '3.39', '2.78', '3.1', '3.35', '3.31', '3.4', '3.13', '3.06', '3.22', '3.56', '3.05', '4.11', '4.28', '4.03', '3.42', '3.11', '1.72', '3.08', '2.74', '3.39', '1.96', '3.36', '3.71']\n",
      "https://www.beeradvocate.com/beer/profile/81/639/?view=beer&sort=&start=600\n",
      "['2.79', '3.1', '2.39', '3.65', '3.3', '3.31', '5', '3.08', '3.8', '3.51', '3.83', '3.68', '3.86', '3.7', '3.45', '3.06', '2.99', '3.09', '3.23', '3.48', '3.82', '3.69', '4.7', '3.8', '3.2']\n",
      "https://www.beeradvocate.com/beer/profile/81/639/?view=beer&sort=&start=625\n",
      "['3.84', '2.56', '3.98', '3.51', '3.86', '3.57', '3.07', '4.3', '2.88', '2.86', '3.45', '3.56', '3.01', '3.93', '3.18', '3.38', '3.83', '3.16', '2.93', '3.31', '4.2', '3.98', '3.3', '3.3', '3.73']\n",
      "https://www.beeradvocate.com/beer/profile/81/639/?view=beer&sort=&start=650\n",
      "['2.53', '3.45', '3.15', '3.5', '1.88', '3.25', '3.4', '2.7', '2.8', '3.18', '3.77', '3.38', '2.75', '3.43', '3.03', '3.12', '4.23', '3.65', '3.46', '4.2', '4', '3.75', '3.6', '3.53', '3.45']\n",
      "https://www.beeradvocate.com/beer/profile/81/639/?view=beer&sort=&start=675\n",
      "['3.46', '3.77', '4', '3.27', '3.43', '3.09', '3.38', '3.22', '3.33', '3.3', '4.4', '3.72', '4.6', '2.67', '3.52', '3.48', '3.5', '3.36', '2.93', '3.35', '2.98', '3.82', '3.65', '2.6', '3.88']\n",
      "https://www.beeradvocate.com/beer/profile/81/639/?view=beer&sort=&start=700\n",
      "['3.68', '3.2', '4.73', '3.88', '3.1', '2.9', '3.56', '3.11', '2.46', '1.19', '3.95', '3.18', '3.28', '2.96', '3.3', '3.74', '3.68', '3.61', '3.26', '4.4', '3.06', '3.12', '3.26', '4.03', '3.21']\n",
      "https://www.beeradvocate.com/beer/profile/81/639/?view=beer&sort=&start=725\n",
      "['3.47', '3.36', '3.78', '2.92', '2.88', '3.57', '4.05', '1.53', '3.12', '2.54', '3.07', '2.65', '4.03', '3.36', '3.43', '3.38', '2.66', '3.13', '3.85', '3.88', '3.95', '3.48', '4.05', '3.02', '3.21']\n"
     ]
    },
    {
     "name": "stdout",
     "output_type": "stream",
     "text": [
      "https://www.beeradvocate.com/beer/profile/81/639/?view=beer&sort=&start=750\n",
      "['3.35', '3.41', '3.28', '4', '2.96', '2.97', '2.25', '3.64', '2.83', '3.31', '3.03', '3.42', '3.36', '3', '3.41', '2.87', '2.96', '3.4', '3.53', '3.97', '3.55', '3.37', '1.62', '2.68', '3.66']\n",
      "https://www.beeradvocate.com/beer/profile/81/639/?view=beer&sort=&start=775\n",
      "['3.71', '3.23', '3.39', '3.34', '3.6', '3.1', '3.23', '2.71', '3.63', '2.45', '3.21', '4', '4.08', '3.15', '3.13', '3.32', '2.53', '3.4', '3.86', '3.03', '3', '2.9', '3.56', '4.08', '3.44']\n",
      "https://www.beeradvocate.com/beer/profile/81/639/?view=beer&sort=&start=800\n",
      "['3.46', '3.48', '3.25', '3.15', '3.08', '3.58', '3.73', '3.26', '4.45', '3.33', '3.58', '3.75', '3.5', '3.21', '3.83', '2.64', '2.64', '4.19', '3.48', '3.73', '3.07', '3.22', '3.32', '2.46', '4.05']\n",
      "https://www.beeradvocate.com/beer/profile/81/639/?view=beer&sort=&start=825\n",
      "['3.77', '2.66', '3.05', '3.1', '3.23', '3.76', '3.9', '3.27', '3.36', '3.98', '3.64', '2.93', '4.2', '4.1', '1.82', '3.18', '3.29', '4.05', '3.15', '3.93', '3.06', '3.5', '4.03', '2.89', '3.35']\n",
      "https://www.beeradvocate.com/beer/profile/81/639/?view=beer&sort=&start=850\n",
      "['3.55', '3.15', '3.1', '3.7', '3.53', '4.27', '4.23', '3.37', '4.83', '3.51', '3.63', '4.03', '3.25', '3.75', '3.5', '3.25', '3.51', '3.85', '4.2', '3.65', '3.53', '2.61', '2.95', '3.33', '3.33']\n",
      "https://www.beeradvocate.com/beer/profile/81/639/?view=beer&sort=&start=875\n",
      "['3.93', '3.42', '2.83', '4.68', '2.68', '3.51', '3.81', '3.53', '3.86', '3.27', '3.83', '3.58', '3.65', '2.95', '3.23', '3.23', '3.26', '3.86', '3.88', '4', '3.2', '3.38', '3.25', '4.16', '3.77']\n",
      "https://www.beeradvocate.com/beer/profile/81/639/?view=beer&sort=&start=900\n",
      "['3.84', '2.88', '3.65', '3.22', '3.65', '3.25', '3.31', '3.9', '2.76', '3.26', '2.48', '3.28', '2.73', '3.86', '3.22', '3.13', '3.58', '2.61', '3.62', '1.95', '2.87', '1.92', '3.57', '3.18', '3.4']\n",
      "https://www.beeradvocate.com/beer/profile/81/639/?view=beer&sort=&start=925\n",
      "['2.9', '4.63', '3.18', '3.31', '4.55', '3.84', '3.54', '1.95', '2.73', '2.28', '2.37', '2.92', '3.42', '3.88', '3.52', '3', '3.62', '3.45', '4.33', '2.73', '3.76', '4.05', '4.03', '3.49', '4.18']\n",
      "https://www.beeradvocate.com/beer/profile/81/639/?view=beer&sort=&start=950\n",
      "['3.46', '2.86', '3.92', '4.1', '3.6', '3.43', '3.11', '2.26', '4.09', '3.91', '4.67', '3.01', '3.73', '2.76', '2.6', '3.34', '3.58', '3.03', '2.83', '3.38', '3.25', '2.93', '4.05', '3.91', '3.43']\n",
      "https://www.beeradvocate.com/beer/profile/81/639/?view=beer&sort=&start=975\n",
      "['3.37', '3.85', '3.88', '2.39', '3.42', '3.3', '4.1', '3.45', '3.75', '4.33', '4.61', '4.28', '3.82', '3.26', '3.98', '2.58', '2.25', '3.35', '3.47', '3.87', '4.17', '3.75', '3.72', '2.95', '3.15']\n",
      "https://www.beeradvocate.com/beer/profile/81/639/?view=beer&sort=&start=1000\n",
      "['3.18', '2.73', '3.35', '2.8', '3.11', '2.16', '3.77', '4.07', '4.55', '3.61', '4.38', '2.56', '3.83', '3.48', '3.76', '3.18', '3.54', '4.03', '3.21', '2.48', '3.72', '2.88', '3.5', '3.57', '2.61']\n",
      "https://www.beeradvocate.com/beer/profile/81/639/?view=beer&sort=&start=1025\n",
      "['3.41', '3.6', '3.18', '2.9', '3.97', '4.31', '2.74', '2.21', '4.41', '3.48', '3.48', '2.26', '3.9', '3.16', '3.15', '3.05', '3.18', '4.3', '3.68', '3.5', '4.08', '1.8', '4.03', '3.25', '2.44']\n",
      "https://www.beeradvocate.com/beer/profile/81/639/?view=beer&sort=&start=1050\n",
      "['3.47', '3.18', '3.01', '1.94', '3.5', '4.13', '2.33', '3.25', '3.55', '3.38', '2.78', '3.98', '3.13', '3.32', '2.49', '3.67', '3.15', '3.3', '2.83', '4.35', '3.35', '3.6', '3.22', '3.78', '3.35']\n",
      "https://www.beeradvocate.com/beer/profile/81/639/?view=beer&sort=&start=1075\n",
      "['4.15', '3.51', '3.37', '4.7', '3.41', '3.33', '4.29', '2.19', '4.8', '2.44', '3.41', '2.93', '3.68', '3.53', '4', '3.06', '3.68', '3.87', '3.5', '4.48', '3.71', '1.73', '3.14', '2.7', '2.96']\n",
      "https://www.beeradvocate.com/beer/profile/81/639/?view=beer&sort=&start=1100\n",
      "['2.59', '3.36', '3.76', '3.33', '2.66', '3.16', '3.08', '3.98', '3.56', '4.28', '3.75', '4.01', '3.58', '4.33', '4.28', '3.75', '3.58', '3.83', '3.05', '4.2', '4.51', '3.13', '3.68', '3', '3.4']\n",
      "https://www.beeradvocate.com/beer/profile/81/639/?view=beer&sort=&start=1125\n",
      "['3.1', '3.03', '3.35', '3.83', '3.45', '3.69', '2.81', '3.11', '3.51', '2.11', '2.79', '3.25', '2.68', '2.56', '2.18', '3.43', '3.9', '3.5', '3.5', '3.43', '3.48', '5', '4.1', '3.33', '2.47']\n",
      "https://www.beeradvocate.com/beer/profile/81/639/?view=beer&sort=&start=1150\n",
      "['2.73', '3.3', '3.83', '3.23', '2.06', '4.4', '4.12', '3.23', '3.5', '3.83', '3.73', '3.6', '3.03', '3.36', '3.65', '4.08', '3', '3.63', '2.24', '3.5', '3.47', '3.02', '3', '2.61', '3.83']\n",
      "https://www.beeradvocate.com/beer/profile/81/639/?view=beer&sort=&start=1175\n",
      "['3.33', '3.03', '2.63', '3.7', '3.03', '3.26', '2.66', '3.6', '2.65', '4.29', '3.76', '4.77', '2.93', '2.78', '4.25', '2.48', '3.2', '3.36', '3.63', '3.75', '3.33', '3.55', '3.25', '3.03', '3.61']\n",
      "https://www.beeradvocate.com/beer/profile/81/639/?view=beer&sort=&start=1200\n",
      "['3.56', '3.08', '3.72', '3.15', '4.35', '3.97', '3.5', '3.4', '3.43', '3.13', '3.98', '3.33', '3.52', '3.48', '3.8', '3.34', '2.93', '2.9', '3.26', '3.7', '3.5', '3.76', '2.88', '3.82', '4.05']\n",
      "https://www.beeradvocate.com/beer/profile/81/639/?view=beer&sort=&start=1225\n",
      "['3', '4.26', '3.67', '3.48', '3.88', '3.3', '3.42', '3.52', '3.82', '3', '3', '2.91', '3.38', '3.28', '3.31', '3.87', '3.34', '3.67', '3.38', '3.92', '2.28', '4.12', '3.31', '3.72', '2.26']\n",
      "https://www.beeradvocate.com/beer/profile/81/639/?view=beer&sort=&start=1250\n",
      "['3.7', '3.5', '2.88', '2.76', '3.1', '3.6', '3.65', '3.37', '2.77', '3.85', '3.92', '3.4', '3.6', '3.62', '3.59', '4.55', '3.57', '3.25', '3.5', '4.27', '3.83', '2.75', '3.38', '4.47', '3.4']\n",
      "https://www.beeradvocate.com/beer/profile/81/639/?view=beer&sort=&start=1275\n",
      "['3.63', '3.28', '2.86', '4', '3.55', '4.8', '3.47', '3.6', '3.33', '3.17', '3.61', '3.8', '3.65', '3.67', '3.31', '4.1', '3.35', '3', '3.61', '4.2', '2.98', '3.42', '4.2', '3.75', '2.73']\n",
      "https://www.beeradvocate.com/beer/profile/81/639/?view=beer&sort=&start=1300\n",
      "['2.91', '3.11', '3.58', '4.01', '3.6', '3.35', '3.8', '2.76', '3.93', '2.83', '3.6', '4.67', '3.33', '3.15', '3.1', '4.12', '4.22', '3.53', '3.93', '3.78', '3.56', '3.83', '3.48', '2.53', '2.55']\n",
      "https://www.beeradvocate.com/beer/profile/81/639/?view=beer&sort=&start=1325\n",
      "['3.85', '1.84', '3.81', '3.13', '3.95', '3.85', '3.25', '3.33', '3.18', '3.74', '3.7', '3.63', '4.17', '2.81', '3.6', '3.35', '3.06', '3.23', '2.16', '3.09', '3.93', '3.98', '3.2', '2.88', '3']\n",
      "https://www.beeradvocate.com/beer/profile/81/639/?view=beer&sort=&start=1350\n",
      "['3.55', '3.52', '3.42', '3', '3.3', '3.45', '2.85', '3.4', '2.66', '3.11', '3.66', '3.35', '2.93', '3.95', '3.8', '2.96', '3.13', '3.66', '3.59', '4.37', '3.97', '2.88', '2.37', '3.35', '2.83']\n",
      "https://www.beeradvocate.com/beer/profile/81/639/?view=beer&sort=&start=1375\n",
      "['3.64', '3.07', '3.11', '2.63', '2.83', '3.54', '3.13', '2.16', '2.83', '3.81', '3.69', '3.9', '3.37', '3.57', '2.68', '3.92', '2.88', '3.12', '2.36', '3.33', '3.08', '3.46', '3.15', '3.8', '3.1']\n",
      "https://www.beeradvocate.com/beer/profile/81/639/?view=beer&sort=&start=1400\n",
      "['4.2', '4.09', '3.04', '3.19', '4', '3.22', '2.58', '3.53', '3.55', '2.68', '3.65', '3.32', '3.8', '3.75', '3.8', '3.2', '3.39', '3.78', '3.05', '3.57', '4.19', '3.72', '2.78', '3.99', '3.88']\n",
      "https://www.beeradvocate.com/beer/profile/81/639/?view=beer&sort=&start=1425\n",
      "['2.98', '2.68', '2.83', '2.89', '3.13', '3.06', '3.03', '3.8', '3.3', '3.3', '3.13', '2.96', '2.77', '1.46', '3.27', '3.23', '4.2', '3.85', '3.5', '3', '3.68', '4.38', '3.38', '1.46', '3.13']\n",
      "https://www.beeradvocate.com/beer/profile/81/639/?view=beer&sort=&start=1450\n",
      "['3.48', '3.13', '3.3', '3.9', '2.73', '2.96', '3.25', '3.69', '3.65', '3.31', '3.15', '2.78', '4.03', '3.65', '3.13', '2.91', '3.8', '2.48', '4.24', '2.93', '3.86', '3.58', '2.55', '2.02', '3.7']\n",
      "https://www.beeradvocate.com/beer/profile/81/639/?view=beer&sort=&start=1475\n",
      "['3.75', '2.99', '2.56', '3.43', '3.1', '1.76', '3.97', '4.68', '3.42', '3.29', '3.73', '2.88', '3.33', '1.75', '3.8', '2.96', '3.24', '3.25', '3.73', '2.43', '4.38', '3.63', '3.38', '3.49', '3.5']\n",
      "https://www.beeradvocate.com/beer/profile/81/639/?view=beer&sort=&start=1500\n",
      "['3.33', '3.38', '2.76', '3.55', '3.25', '3.14', '3.23', '4.09', '3.06', '2.23', '2.66', '3.63', '3.42', '3.1', '3.68', '3.23', '2.58', '3.13', '2.98', '3.86', '3.1', '2.82', '3.2', '3.07', '2.96']\n"
     ]
    },
    {
     "name": "stdout",
     "output_type": "stream",
     "text": [
      "https://www.beeradvocate.com/beer/profile/81/639/?view=beer&sort=&start=1525\n",
      "['3.16', '3.06', '3.85', '3.48', '3.41', '3.68', '3.9', '3.16', '4.4', '2.67', '3.93', '3.43', '2.43', '3.61', '3.41', '3.19', '3.46', '2.93', '3.18', '3.11', '3.83', '3.5', '2.76', '2.54', '3.43']\n",
      "https://www.beeradvocate.com/beer/profile/81/639/?view=beer&sort=&start=1550\n",
      "['2.58', '2.36', '3.08', '2.84', '3.66', '3.23', '3.26', '3.02', '3.06', '3.13', '2.45', '3.23', '3.06', '2.69', '3.08', '3.7', '2.6', '2.18', '3.47', '2.88', '3.9', '3.4', '3.45', '3.38', '3.21']\n",
      "https://www.beeradvocate.com/beer/profile/81/639/?view=beer&sort=&start=1575\n",
      "['4.08', '3.88', '3.13', '2.85', '3.3', '3.43', '4', '3.51', '3.1', '2.44', '3.42', '3.22', '3.09', '3', '2.43', '4.33', '4', '2.78', '3.36', '3.63', '3.23', '3.05', '2.89', '3.13', '3.38']\n",
      "https://www.beeradvocate.com/beer/profile/81/639/?view=beer&sort=&start=1600\n",
      "['3.2', '2.93', '3.62', '2.92', '3.63', '2.98', '3.38', '3.66', '3.83', '3.59', '3.31', '3.45', '3.36', '3.9', '3.73', '2.31', '3.01', '3.21', '3.5', '3.98', '3.33', '2.66', '3.61', '3.35', '3.73']\n",
      "https://www.beeradvocate.com/beer/profile/81/639/?view=beer&sort=&start=1625\n",
      "['3.9', '3.83', '3.06', '2.53', '2.68', '2.9', '2.02', '1.73', '2.53', '3.53', '3.36', '3.03', '2.45', '3.6', '3.5', '2.93', '2.93', '3.18', '3.13', '3.5', '2.33', '3.6', '3.26', '2.65', '3.13']\n"
     ]
    },
    {
     "name": "stderr",
     "output_type": "stream",
     "text": [
      "\r",
      "37it [1:43:00, 290.43s/it]"
     ]
    },
    {
     "name": "stdout",
     "output_type": "stream",
     "text": [
      "https://www.beeradvocate.com/beer/profile/81/639/?view=beer&sort=&start=1650\n",
      "['4.05', '4.88', '3.56', '1.53', '3.88', '3.06', '2.16']\n",
      "https://www.beeradvocate.com/beer/profile/75/667/?view=beer&sort=&start=0\n",
      "['3.96', '4.09', '3.5', '3.81', '3.15', '3.89', '3.49', '3.41', '2.96', '3.5', '4', '3.48', '4.05', '4.45', '3.9', '2.69', '4.05', '3.25', '4', '3.18', '2.13', '3.42', '2.89', '3.31', '3.55']\n",
      "https://www.beeradvocate.com/beer/profile/75/667/?view=beer&sort=&start=25\n",
      "['3.5', '3.86', '3.38', '3.8', '3.43', '4.01', '3.28', '3.27', '3.5', '3.92', '3.5', '3.72', '3.78', '3.25', '3.75', '3', '2.51', '4.5', '4.85', '4.12', '4', '3.58', '3.77', '3.83', '3.36']\n",
      "https://www.beeradvocate.com/beer/profile/75/667/?view=beer&sort=&start=50\n",
      "['4.04', '3.58', '4.27', '4.54', '3.18', '2.97', '3.48', '3.55', '4.24', '3.68', '4.26', '3.15', '3.54', '4.15', '3.34', '3.84', '3.65', '3.48', '3.59', '3.75', '2.71', '1.42', '3.26', '2.49', '3.5']\n",
      "https://www.beeradvocate.com/beer/profile/75/667/?view=beer&sort=&start=75\n",
      "['4.19', '4.2', '3.52', '3.42', '4.37', '3.5', '3.39', '3.35', '3.75', '3.7', '3.42', '4.98', '4.03', '3.77', '4', '3.77', '3.73', '4.28', '3.83', '4', '3.58', '3.14', '3.45', '3.75', '2.89']\n",
      "https://www.beeradvocate.com/beer/profile/75/667/?view=beer&sort=&start=100\n",
      "['3.51', '2.87', '3.31', '3.57', '3.6', '3.61', '1.56', '3.5', '1.84', '3.49', '3.84', '3.63', '3.65', '3.8', '3.56', '3.79', '2.84', '3.83', '3.42', '3.65', '3.48', '3.4', '3.29', '4', '3.68']\n",
      "https://www.beeradvocate.com/beer/profile/75/667/?view=beer&sort=&start=125\n",
      "['3.09', '5', '3.3', '2.73', '3.39', '3.33', '3.67', '3.46', '4.43', '4.25', '3.44', '3.52', '3.38', '3.65', '3.88', '3', '3.05', '3.73', '3.9', '2.92', '3.25', '3.92', '3.85', '3.38', '2.73']\n",
      "https://www.beeradvocate.com/beer/profile/75/667/?view=beer&sort=&start=150\n",
      "['3.94', '3.26', '3.5', '4.24', '3.31', '2.99', '4.53', '3.79', '4', '2.75', '3.56', '2.45', '4.12', '3.17', '3.06', '3.39', '3.85', '3.28', '3.64', '3.02', '3.39', '4', '2.53', '3.63', '2.89']\n",
      "https://www.beeradvocate.com/beer/profile/75/667/?view=beer&sort=&start=175\n",
      "['3.38', '3.99', '4.53', '3.67', '3.43', '3.5', '3.34', '3.85', '3.94', '4.53', '3', '3.3', '3.6', '3.63', '3.06', '3.23', '4', '2.94', '3.82', '1.94', '4.08', '3.39', '3.77', '3', '3.5']\n",
      "https://www.beeradvocate.com/beer/profile/75/667/?view=beer&sort=&start=200\n",
      "['3.25', '2.65', '3.5', '3.25', '3.75', '3.02', '3.75', '3.25', '3', '3.36', '3.69', '3.32', '3.35', '3.38', '4.94', '3.73', '2.19', '3.53', '3.08', '3', '3.85', '3.75', '3.43', '3.48', '3.14']\n",
      "https://www.beeradvocate.com/beer/profile/75/667/?view=beer&sort=&start=225\n",
      "['3.43', '3.38', '3.18', '2.99', '3.61', '3.44', '3.69', '3.31', '3.15', '4.17', '3.6', '1.9', '4.19', '3.32', '2.94', '4.25', '3.4', '3.34', '2.94', '3.25', '3', '3.54', '3.26', '3.67', '2.73']\n",
      "https://www.beeradvocate.com/beer/profile/75/667/?view=beer&sort=&start=250\n",
      "['3.25', '3.62', '2.81', '3.63', '3.08', '3.48', '2.98', '3.5', '3.19', '2.89', '1.6', '3.45', '3.53', '3.88', '3.44', '3.07', '3.38', '1.99', '4.2', '3.35', '3.41', '4.35', '3.6', '2.91', '4.47']\n",
      "https://www.beeradvocate.com/beer/profile/75/667/?view=beer&sort=&start=275\n",
      "['5', '3.05', '3.6', '4.28', '3.47', '3.36', '3.38', '3.53', '2.98', '3.5', '2.77', '5', '3.75', '3.33', '3.24', '3.47', '3.25', '3.45', '3.08', '4.38', '3.18', '3.83', '3.2', '3.49', '3.5']\n",
      "https://www.beeradvocate.com/beer/profile/75/667/?view=beer&sort=&start=300\n",
      "['2.85', '3.55', '3.08', '3.11', '2', '3.38', '3.5', '3.55', '3.71', '3.92', '3.48', '4.35', '3', '2.88', '3.73', '3.45', '2.82', '4.35', '3.31', '3.5', '3.35', '3.43', '3.08', '3.13', '4.4']\n",
      "https://www.beeradvocate.com/beer/profile/75/667/?view=beer&sort=&start=325\n",
      "['3.3', '3.52', '3', '2.88', '3.65', '2.93', '3.41', '2.63', '2.93', '3.6', '3.65', '3.16', '2.81', '3.31', '3.55', '3.58', '2.43', '3.03', '3.65', '2.91', '3.4', '3.03', '3.55', '3.41', '3.45']\n",
      "https://www.beeradvocate.com/beer/profile/75/667/?view=beer&sort=&start=350\n",
      "['3.03', '3.5', '3.53', '3.03', '3.14', '3.43', '2.99', '3.73', '3.44', '3.16', '2.96', '3.21', '2.97', '3.52', '3.2', '3.16', '3.33', '3.85', '4.32', '3.47', '3.27', '3.56', '2.21', '3.56', '3.88']\n",
      "https://www.beeradvocate.com/beer/profile/75/667/?view=beer&sort=&start=375\n",
      "['3.15', '3.38', '2.89', '1.68', '3.62', '3.78', '3.93', '2.58', '3.15', '3.26', '3.51', '3.5', '3.24', '3.92', '3.18', '3.35', '2.6', '3.68', '2.53', '3', '3.4', '2.88', '3.3', '3.18', '3.33']\n",
      "https://www.beeradvocate.com/beer/profile/75/667/?view=beer&sort=&start=400\n",
      "['2.89', '3.04', '3.93', '3.54', '2.83', '3.3', '3.08', '3.27', '3.55', '2.83', '3.62', '3.38', '3.85', '3.33', '2.68', '3.62', '3.8', '3.58', '3.63', '3.88', '3.92', '3.38', '3.28', '3.4', '3.44']\n",
      "https://www.beeradvocate.com/beer/profile/75/667/?view=beer&sort=&start=425\n",
      "['3.17', '3.3', '3.33', '3.63', '3.68', '3.43', '3.2', '3.72', '3.36', '3', '3.5', '3.09', '3.33', '3.48', '3.03', '3.28', '3.58', '4.13', '3.42', '3.32', '3.53', '4.07', '3.68', '3.39', '4.12']\n",
      "https://www.beeradvocate.com/beer/profile/75/667/?view=beer&sort=&start=450\n",
      "['3.9', '3.24', '3.16', '3.36', '3.62', '3.61', '4', '1.18', '3.55', '3.21', '3.11', '3.4', '3.51', '3.48', '3.56', '3.32', '3.15', '3.48', '3.4', '2.7', '3.39', '3.36', '3.43', '3.26', '3.5']\n",
      "https://www.beeradvocate.com/beer/profile/75/667/?view=beer&sort=&start=475\n",
      "['3.3', '3.6', '3.38', '3.21', '3.51', '3.08', '3', '3.65', '3.04', '3.48', '3.29', '3.63', '3.03', '3.73', '3.95', '3.63', '2.67', '3.53', '3.15', '3.53', '4.1', '4.18', '3.5', '3.67', '3.24']\n",
      "https://www.beeradvocate.com/beer/profile/75/667/?view=beer&sort=&start=500\n",
      "['3.82', '3.13', '2.92', '2.96', '3.38', '3.58', '3.6', '4.23', '3.31', '3.06', '3.23', '2.5', '3.51', '3.33', '3.8', '3.27', '3.8', '3.26', '3.35', '3.2', '3.57', '3.46', '3.88', '3.18', '3.3']\n",
      "https://www.beeradvocate.com/beer/profile/75/667/?view=beer&sort=&start=525\n",
      "['3.59', '3.47', '3.5', '3.8', '2.99', '2.88', '3.26', '2.09', '3.7', '3.26', '3.4', '3.59', '5', '3.58', '3.92', '3', '3.98', '3.63', '3.46', '3.48', '3.38', '3.88', '3.06', '3.38', '3.32']\n",
      "https://www.beeradvocate.com/beer/profile/75/667/?view=beer&sort=&start=550\n",
      "['3', '2.56', '3.04', '3.75', '2.18', '2.68', '3.06', '3.61', '3.66', '3.12', '3.52', '3.45', '2.21', '3.7', '3.56', '3.17', '3.63', '3.82', '2.85', '3.35', '3.36', '2.95', '3', '3.23', '3.58']\n",
      "https://www.beeradvocate.com/beer/profile/75/667/?view=beer&sort=&start=575\n",
      "['3.8', '3.62', '3.52', '2.41', '3.41', '3.43', '3.45', '3.1', '3.13', '3.65', '3.45', '3.06', '2.97', '3.53', '3.48', '4.27', '3.53', '3.33', '3.5', '4.03', '4.57', '2.98', '3.8', '3.03', '3.48']\n",
      "https://www.beeradvocate.com/beer/profile/75/667/?view=beer&sort=&start=600\n",
      "['3.8', '2.88', '3.58', '2.77', '3.47', '3.8', '4.02', '3.53', '4.15', '2.9', '3.31', '3.82', '3.13', '3.55', '3.63', '3.73', '3.55', '3.43', '3', '3.23', '3.53', '3.33', '3.6', '3.38', '3.38']\n",
      "https://www.beeradvocate.com/beer/profile/75/667/?view=beer&sort=&start=625\n",
      "['3.48', '3.97', '3.5', '3.23', '3.56', '3.33', '3.56', '3.3', '1.96', '2.9', '2.97', '4.09', '3.83', '3.3', '3.63', '3.51', '2.89', '3.33', '3.67', '3.38', '3.18', '3.71', '3.38', '3.6', '2.98']\n",
      "https://www.beeradvocate.com/beer/profile/75/667/?view=beer&sort=&start=650\n",
      "['2.68', '3.28', '3.2', '2.58', '2.97', '3.11', '4.31', '3.35', '3.03', '3.65', '2.54', '3.95', '2.52', '3.82', '3.33', '3.5', '3.23', '3.58', '2.85', '3.73', '3.53', '4.1', '3.66', '3.2', '3.45']\n",
      "https://www.beeradvocate.com/beer/profile/75/667/?view=beer&sort=&start=675\n",
      "['3.87', '2.98', '3.68', '4.4', '3.1', '2.86', '3.68', '3.63', '3.45', '3.4', '3.92', '3.5', '3.72', '3.7', '2.76', '2.62', '3.32', '3.4', '3', '3.53', '3.03', '3.46', '3.18', '3.33', '2.95']\n",
      "https://www.beeradvocate.com/beer/profile/75/667/?view=beer&sort=&start=700\n",
      "['1.67', '1.96', '3.37', '3.53', '3.66', '4.05', '3.6', '3.58', '3.41', '3.37', '3.53', '2.68', '2.77', '2.86', '3.4', '3.59', '3.43', '3.55', '2.72', '3.47', '2.26', '3.82', '4.45', '3.03', '3.65']\n",
      "https://www.beeradvocate.com/beer/profile/75/667/?view=beer&sort=&start=725\n",
      "['4.05', '2.73', '3.4', '3.76', '2.68', '4.1', '4.01', '3.16', '3.71', '3.35', '3.55', '2.97', '3.18', '3.15', '3.6', '3.23', '3.88', '3.31', '2.88', '3.83', '3.63', '3.5', '3.74', '3.53', '3.55']\n"
     ]
    },
    {
     "name": "stdout",
     "output_type": "stream",
     "text": [
      "https://www.beeradvocate.com/beer/profile/75/667/?view=beer&sort=&start=750\n",
      "['3.38', '3.83', '3.13', '3.64', '2.97', '3.03', '3.63', '3.2', '3.25', '2.84', '3.05', '3.97', '3.08', '3', '3.88', '4.17', '3.78', '3.48', '3.45', '3.72', '3.23', '3.85', '3.11', '3.21', '3.1']\n",
      "https://www.beeradvocate.com/beer/profile/75/667/?view=beer&sort=&start=775\n",
      "['3.68', '3.25', '3.5', '3.28', '3.03', '3.57', '3.84', '3.12', '3.51', '3.46', '3.57', '3.02', '2.83', '2.94', '2.58', '3.74', '3.38', '3.53', '3.13', '3.5', '3.45', '3.43', '3.85', '3.3', '3.07']\n",
      "https://www.beeradvocate.com/beer/profile/75/667/?view=beer&sort=&start=800\n",
      "['3.4', '3.05', '2.3', '3.38', '3.75', '3.78', '4.05', '3.16', '2.91', '3.38', '3.51', '2.95', '3.6', '3.5', '2.82', '3.22', '3.2', '3.05', '3.3', '2.81', '2.83', '2', '3.23', '3.51', '3.47']\n",
      "https://www.beeradvocate.com/beer/profile/75/667/?view=beer&sort=&start=825\n",
      "['3.45', '3.55', '3.35', '3.32', '3.45', '3.13', '2.64', '3.45', '2.58', '3.25', '2.53', '3.2', '3.95', '3.73', '3.6', '3.79', '3.6', '2.46', '2.49', '3.22', '3.83', '3.93', '3.5', '3.3', '3.5']\n",
      "https://www.beeradvocate.com/beer/profile/75/667/?view=beer&sort=&start=850\n",
      "['3.49', '3.35', '2.69', '3.43', '2.18', '4.25', '3.58', '3.63', '3.53', '4.08', '3.97', '4', '3.65', '4.15', '3.7', '3.3', '3.19', '3.04', '4.1', '3.18', '3.55', '3.16', '3.65', '3.18', '3.83']\n",
      "https://www.beeradvocate.com/beer/profile/75/667/?view=beer&sort=&start=875\n",
      "['3.48', '3', '3.21', '3.21', '3.9', '4.25', '3.48', '3.53', '3.35', '3.71', '4.27', '3.85', '3.95', '3.75', '3.71', '3.6', '3.13', '3.9', '2.95', '3.15', '2.98', '3.15', '3.78', '3.28', '4.13']\n",
      "https://www.beeradvocate.com/beer/profile/75/667/?view=beer&sort=&start=900\n",
      "['2.73', '3.31', '3.1', '3.43', '4.05', '4.22', '3.55', '4.3', '3.98', '3.48', '3.13', '3.7', '3.73', '3.58', '2.88', '3.78', '3.53', '2.8', '4', '3.2', '3.46', '3.73', '3.63', '3.86', '3.4']\n",
      "https://www.beeradvocate.com/beer/profile/75/667/?view=beer&sort=&start=925\n",
      "['2.25', '3.78', '3.26', '2.66', '3.5', '3.51', '3.13', '3.65', '3.36', '3.43', '3.47', '3.37', '3.5', '3.1', '3.48', '3.41', '3.67', '3.38', '3.59', '3.13', '2.91', '3.47', '3.51', '4.2', '3.6']\n",
      "https://www.beeradvocate.com/beer/profile/75/667/?view=beer&sort=&start=950\n",
      "['3.48', '3.45', '3.4', '3.77', '3.03', '3.31', '3.5', '3.03', '2.98', '2.95', '3.86', '2.8', '3.63', '3.46', '3.23', '3.35', '2.68', '2.86', '3.9', '3.28', '3.97', '3.53', '2.61', '2.98', '3.17']\n",
      "https://www.beeradvocate.com/beer/profile/75/667/?view=beer&sort=&start=975\n",
      "['2.91', '3.35', '3.2', '3.38', '3.83', '3.45', '2.99', '3.83', '2.79', '3.3', '3.63', '3.21', '3.88', '3.6', '3.51', '2.71', '3.53', '3', '3.93', '3.48', '3.18', '3.23', '3.35', '3.18', '3.66']\n",
      "https://www.beeradvocate.com/beer/profile/75/667/?view=beer&sort=&start=1000\n",
      "['3.15', '2.98', '3.55', '2.68', '3.43', '3.03', '3.35', '2.86', '2.85', '3.78', '3.75', '3.78', '3.13', '3.41', '3.43', '3.53', '3.33', '3.38', '3.33', '2.88', '3.38', '3.38', '3.47', '3', '3.8']\n",
      "https://www.beeradvocate.com/beer/profile/75/667/?view=beer&sort=&start=1025\n",
      "['3.75', '2.98', '2.59', '3.23', '3.25', '2.92', '3.31', '3.13', '3.06', '3.51', '1.63', '3.38', '3.51', '3.93', '3.92', '3', '3.5', '3.88', '3.5', '3.53', '3.83', '3.48', '3', '3.97', '3.83']\n",
      "https://www.beeradvocate.com/beer/profile/75/667/?view=beer&sort=&start=1050\n",
      "['3.06', '3.11', '3.5', '3.36', '3.1', '3.03', '3.06', '2.73', '2.31', '3.5', '3.03', '3.83', '3.8', '3.41', '3.63', '4', '3', '3.32', '3.11', '3.21', '3.49', '3', '3.51', '3.34', '3.46']\n"
     ]
    },
    {
     "name": "stderr",
     "output_type": "stream",
     "text": [
      "\r",
      "38it [1:47:15, 279.81s/it]"
     ]
    },
    {
     "name": "stdout",
     "output_type": "stream",
     "text": [
      "https://www.beeradvocate.com/beer/profile/75/667/?view=beer&sort=&start=1075\n",
      "['3.48', '3.06', '3.66', '3.66', '4', '3.3']\n",
      "https://www.beeradvocate.com/beer/profile/203/637/?view=beer&sort=&start=0\n",
      "['3.54', '4.19', '3.57', '3.38', '4.15', '3.71', '4.01', '3.75', '3.43', '4', '1.8', '3.62', '3.59', '4.04', '3.76', '3.6', '3.54', '3.44', '3.2', '3.59', '2.9', '3.69', '1.44', '4.5', '2.04']\n",
      "https://www.beeradvocate.com/beer/profile/203/637/?view=beer&sort=&start=25\n",
      "['3', '5', '3.6', '3.59', '3.83', '3.6', '3.84', '4.22', '3.53', '3.59', '3.39', '3.92', '3.88', '4.04', '3.49', '3.27', '3.72', '3.49', '3.6', '2.53', '3.59', '3.87', '3.5', '3.05', '2.44']\n",
      "https://www.beeradvocate.com/beer/profile/203/637/?view=beer&sort=&start=50\n",
      "['3.87', '4.35', '3.66', '4.44', '3', '4.16', '4.47', '3.88', '3.51', '3.73', '4.28', '4.19', '3.97', '3.77', '3.77', '3.7', '3.36', '4.05', '4.59', '3.61', '4.21', '3.67', '3.6', '3.66', '4.46']\n",
      "https://www.beeradvocate.com/beer/profile/203/637/?view=beer&sort=&start=75\n",
      "['4.2', '3.1', '4.52', '3.58', '3.68', '3.88', '3.86', '1.85', '2.31', '3.44', '4.05', '1.56', '3.5', '4.07', '3.93', '3.58', '3.67', '3.71', '3.53', '3.13', '3.76', '3.5', '4.32', '3.69', '3.18']\n",
      "https://www.beeradvocate.com/beer/profile/203/637/?view=beer&sort=&start=100\n",
      "['2.14', '4', '3.55', '3.44', '2.44', '2.95', '2.93', '4.29', '2.08', '4.2', '2.82', '2.48', '3.6', '2.5', '4.03', '5', '3.27', '4.13', '2.5', '3.65', '2', '3.6', '3.38', '3.5', '3.5']\n",
      "https://www.beeradvocate.com/beer/profile/203/637/?view=beer&sort=&start=125\n",
      "['3.76', '3.3', '3.5', '3.32', '3.88', '4.25', '3.77', '3.45', '3.47', '3.62', '3.31', '4.56', '4.22', '2.82', '3.31', '3.09', '3.15', '3.6', '3.76', '3.45', '3.27', '4.15', '3.21', '4.5', '3.04']\n",
      "https://www.beeradvocate.com/beer/profile/203/637/?view=beer&sort=&start=150\n",
      "['3.69', '3.67', '3.71', '3.64', '3.6', '3.09', '3.71', '3.58', '3.16', '3.38', '3.26', '3.88', '4.15', '4.1', '3.53', '3.54', '3.56', '3', '4.09', '3.41', '3.81', '3.08', '3.63', '3.75', '3.58']\n",
      "https://www.beeradvocate.com/beer/profile/203/637/?view=beer&sort=&start=175\n",
      "['3.45', '4.01', '3.76', '4.13', '3.86', '3.52', '3.44', '3.9', '3.5', '3.12', '3.52', '3.49', '3.46', '3.64', '3.21', '3.66', '2.3', '3.36', '3.52', '3.21', '3.19', '3.51', '3.96', '3.52', '3.5']\n",
      "https://www.beeradvocate.com/beer/profile/203/637/?view=beer&sort=&start=200\n",
      "['3.8', '3.39', '4.5', '2.78', '2.9', '3.35', '3.41', '3.46', '3.23', '3.77', '4.04', '3.71', '4.14', '4.17', '3.62', '3.58', '4', '3.23', '3.93', '3.46', '3.2', '3.41', '1.85', '3.13', '3.51']\n",
      "https://www.beeradvocate.com/beer/profile/203/637/?view=beer&sort=&start=225\n",
      "['3.52', '4.1', '3.32', '2.81', '4.29', '3.49', '3.61', '3.63', '2.93', '3.16', '4.07', '3.62', '3.73', '3.13', '3.23', '2.01', '3.42', '4.1', '3.28', '2.88', '3.26', '3.61', '2.32', '3.33', '3.61']\n",
      "https://www.beeradvocate.com/beer/profile/203/637/?view=beer&sort=&start=250\n",
      "['3.48', '3.62', '3.75', '3.85', '3.53', '3.53', '3.84', '3.83', '3.49', '3.89', '3.63', '3.84', '3.95', '3', '3.58', '3.4', '2.91', '3.46', '3.36', '3.15', '4.25', '4.3', '3.5', '1.64', '3.68']\n",
      "https://www.beeradvocate.com/beer/profile/203/637/?view=beer&sort=&start=275\n",
      "['3.51', '3.06', '3.46', '3.97', '3.73', '3.33', '3.33', '2.74', '3.4', '4.08', '3.91', '4.6', '3.51', '3.93', '1.72', '2.95', '3.58', '3.67', '2.49', '3.2', '3.48', '3.93', '2.96', '3.31', '3.34']\n",
      "https://www.beeradvocate.com/beer/profile/203/637/?view=beer&sort=&start=300\n",
      "['2.74', '3.59', '3.75', '3.5', '3.45', '2.94', '3.35', '3.9', '3.54', '3.46', '3.65', '4.31', '3.79', '4', '4.04', '2.96', '3.4', '3.41', '3.58', '4', '1.62', '2.8', '3.88', '3.9', '4.15']\n",
      "https://www.beeradvocate.com/beer/profile/203/637/?view=beer&sort=&start=325\n",
      "['3.97', '1.86', '3.7', '3.49', '3.71', '3.31', '4.03', '3.51', '3.68', '3.97', '3.21', '3.27', '3.43', '1.52', '3.11', '3.08', '3.26', '4.09', '3.14', '2.64', '2.53', '3.47', '3.53', '3.65', '2.73']\n",
      "https://www.beeradvocate.com/beer/profile/203/637/?view=beer&sort=&start=350\n",
      "['3.71', '2.34', '3.81', '3.82', '3.58', '4.11', '3.58', '3.7', '3.61', '3.68', '3.58', '3.9', '3.93', '4', '3.7', '4', '4.31', '3.97', '4.6', '3.8', '3.14', '3.12', '3.28', '3.46', '3.09']\n",
      "https://www.beeradvocate.com/beer/profile/203/637/?view=beer&sort=&start=375\n",
      "['3.96', '3.75', '3.68', '3.8', '3.83', '4.05', '4.1', '3.93', '3.56', '3.29', '3.43', '3.94', '3.11', '2.71', '3.09', '3.65', '3.37', '4.12', '3.94', '3.06', '3.56', '3.38', '3.44', '2.37', '3.6']\n",
      "https://www.beeradvocate.com/beer/profile/203/637/?view=beer&sort=&start=400\n",
      "['3.83', '4.15', '2.81', '3.41', '3.17', '4', '3.87', '3.72', '3.8', '3.58', '4.01', '3.16', '3.14', '3.71', '3.7', '4.15', '3.33', '3.57', '3.39', '2.24', '4.21', '3.55', '3.66', '4.15', '3.73']\n",
      "https://www.beeradvocate.com/beer/profile/203/637/?view=beer&sort=&start=425\n",
      "['4.03', '2.58', '4.01', '3.51', '3.04', '3.86', '3.33', '2.49', '4.36', '3.36', '3.09', '2.89', '3.72', '3.53', '3.6', '3.06', '3.86', '3.53', '4.45', '3.46', '2.5', '3.18', '3.06', '3', '3.26']\n",
      "https://www.beeradvocate.com/beer/profile/203/637/?view=beer&sort=&start=450\n",
      "['3.87', '3.1', '2.8', '2.18', '3.57', '3.5', '3.3', '3.64', '3.61', '3.39', '4.46', '3.27', '3.5', '3.86', '3.5', '3.95', '3.53', '3.65', '4.01', '2.79', '3.89', '3.09', '4.03', '3.46', '3.95']\n",
      "https://www.beeradvocate.com/beer/profile/203/637/?view=beer&sort=&start=475\n",
      "['3.98', '2.48', '3.78', '3.76', '1.93', '3.2', '3.68', '4.17', '3.7', '3.32', '3.65', '3.53', '3.88', '3.23', '3.41', '3.75', '3.03', '2.78', '3.83', '2.67', '3.38', '3.61', '4.25', '3.46', '3.9']\n",
      "https://www.beeradvocate.com/beer/profile/203/637/?view=beer&sort=&start=500\n",
      "['3.72', '2.65', '3.51', '3.2', '3.81', '3.38', '3.83', '3.5', '3.6', '3.26', '3.39', '3.41', '3.52', '3.66', '2.29', '2.68', '3.59', '1.97', '3.73', '3.44', '2.33', '3.61', '3.33', '2.99', '3.53']\n",
      "https://www.beeradvocate.com/beer/profile/203/637/?view=beer&sort=&start=525\n",
      "['3.56', '2.35', '3.6', '3.45', '3.53', '3.6', '3.31', '3.46', '3.91', '3.82', '3.78', '3.56', '3.68', '4.01', '3.7', '3.63', '4.5', '3.93', '2.73', '3.45', '4.4', '2.55', '3.54', '2.14', '1.37']\n",
      "https://www.beeradvocate.com/beer/profile/203/637/?view=beer&sort=&start=550\n",
      "['2.88', '3.62', '3.56', '3.33', '4.07', '3.68', '3.95', '4.4', '3.13', '3.65', '3.48', '3.61', '4', '3.59', '3.23', '3.28', '3.63', '3.15', '3.45', '3.96', '2.78', '3.66', '3.33', '3.06', '3.63']\n",
      "https://www.beeradvocate.com/beer/profile/203/637/?view=beer&sort=&start=575\n",
      "['3.78', '4.08', '3.83', '3.52', '3.76', '3.72', '2.98', '4.2', '3.7', '3.79', '3.68', '3.91', '4', '3.75', '4.41', '4.3', '3.4', '3.59', '3.9', '3.64', '3.31', '3.83', '3.85', '3.56', '2.96']\n",
      "https://www.beeradvocate.com/beer/profile/203/637/?view=beer&sort=&start=600\n",
      "['3.63', '3.98', '3.54', '3.03', '3.88', '3.5', '3.62', '1.85', '3.54', '3.31', '3.39', '2.97', '2.73', '2.39', '3.49', '3.99', '4.19', '3.66', '3.92', '3.18', '3.8', '3.87', '3.28', '3', '3.61']\n",
      "https://www.beeradvocate.com/beer/profile/203/637/?view=beer&sort=&start=625\n",
      "['3.8', '3.58', '3.76', '3.5', '3.79', '2.32', '3.38', '3.88', '3.81', '4.12', '3.28', '3.74', '3.6', '3.33', '3.88', '3.4', '4.4', '3.86', '3.13', '3.08', '3.65', '3.26', '3.61', '4', '4.35']\n",
      "https://www.beeradvocate.com/beer/profile/203/637/?view=beer&sort=&start=650\n",
      "['3.79', '3.63', '3.16', '3.7', '3.98', '3.75', '3.56', '1.83', '3.88', '3.88', '4', '2.9', '3.86', '3.72', '2.36', '3.91', '3.2', '3.71', '2.89', '3.75', '3.68', '3.43', '4.92', '3.93', '4.73']\n",
      "https://www.beeradvocate.com/beer/profile/203/637/?view=beer&sort=&start=675\n",
      "['4.18', '3.26', '3.58', '2.98', '1.22', '2.51', '3.36', '4.06', '3.63', '3.24', '3.68', '3.26', '4.03', '4.01', '3.52', '4.1', '3.53', '3.64', '3.45', '3.62', '3.35', '3.25', '3.56', '3.55', '3.81']\n",
      "https://www.beeradvocate.com/beer/profile/203/637/?view=beer&sort=&start=700\n",
      "['3.45', '3.58', '3.78', '3.44', '3.58', '3.41', '3.16', '2.4', '3.68', '2.62', '3.59', '3.26', '3.13', '2.73', '3.83', '3.6', '3.72', '4', '3.12', '2.25', '3.63', '2.74', '1.95', '2.79', '3.33']\n",
      "https://www.beeradvocate.com/beer/profile/203/637/?view=beer&sort=&start=725\n",
      "['2.36', '2.88', '2.81', '3.16', '3.48', '2.74', '3.41', '3.76', '3.42', '3.12', '3.66', '3.58', '3.25', '3.76', '2.15', '3.23', '3.5', '3.36', '4', '3.55', '3.93', '3.35', '3.32', '4.35', '3.15']\n"
     ]
    },
    {
     "name": "stdout",
     "output_type": "stream",
     "text": [
      "https://www.beeradvocate.com/beer/profile/203/637/?view=beer&sort=&start=750\n",
      "['3.8', '3.41', '2.92', '3.33', '3.35', '3.18', '1.95', '2.28', '4.5', '3.71', '3.91', '3.48', '4.25', '3.54', '3.5', '4', '3.83', '3.21', '3.6', '3.7', '3.88', '3.06', '3.93', '3.38', '3.21']\n",
      "https://www.beeradvocate.com/beer/profile/203/637/?view=beer&sort=&start=775\n",
      "['3.68', '3.71', '3.81', '3.75', '3.27', '3.86', '3.8', '2.83', '3.15', '3.33', '2.66', '3.13', '3.51', '3.54', '3.55', '3.11', '3.53', '3.15', '2.91', '3.33', '3.88', '3.88', '3.41', '3.58', '3.9']\n",
      "https://www.beeradvocate.com/beer/profile/203/637/?view=beer&sort=&start=800\n",
      "['4.25', '3.48', '3.75', '3.19', '3.8', '2.33', '2.91', '3.92', '3.26', '3.5', '3.57', '3.83', '3.19', '3.34', '3.3', '3.86', '4', '3.96', '3.68', '3.95', '3.68', '2.93', '2.36', '4.04', '3.3']\n",
      "https://www.beeradvocate.com/beer/profile/203/637/?view=beer&sort=&start=825\n",
      "['3.3', '3.41', '4.02', '2.91', '3.43', '3.13', '2.91', '4', '3.04', '3.35', '4', '3.96', '3.53', '3.68', '2.88', '3.46', '3.58', '3.73', '3.98', '3.36', '3.35', '2.89', '3.7', '3.32', '3.38']\n",
      "https://www.beeradvocate.com/beer/profile/203/637/?view=beer&sort=&start=850\n",
      "['3.92', '3.41', '4.05', '3.63', '3.56', '3.8', '2.05', '3.28', '2.63', '3.33', '4.13', '4.16', '3.46', '4.45', '4', '2.16', '3.39', '3.62', '3.68', '3.5', '3.47', '3.36', '3.16', '1.78', '1.89']\n",
      "https://www.beeradvocate.com/beer/profile/203/637/?view=beer&sort=&start=875\n",
      "['3.5', '3.43', '3.52', '1.96', '3.68', '3.78', '3.83', '3.38', '2.81', '3.5', '3.36', '4.47', '3.6', '3.18', '2.76', '3.98', '3.95', '3.93', '3.93', '2.81', '3.48', '3.39', '3.85', '3.77', '3.43']\n",
      "https://www.beeradvocate.com/beer/profile/203/637/?view=beer&sort=&start=900\n",
      "['3.52', '3.79', '4.38', '3.43', '3.83', '3.27', '2.17', '3.73', '3.06', '3.33', '3.76', '3.15', '3.73', '4.11', '3.06', '5', '2.7', '3.76', '2.51', '2', '3.06', '2.39', '3.57', '3.65', '2.98']\n",
      "https://www.beeradvocate.com/beer/profile/203/637/?view=beer&sort=&start=925\n",
      "['2.49', '3.03', '2.64', '3.48', '3.5', '2.91', '3.62', '3.76', '3.98', '3.1', '2.36', '3.91', '3.15', '4.62', '3.16', '3.15', '4.13', '3.65', '3.8', '3.91', '3.55', '4.05', '3.16', '2.32', '2.53']\n"
     ]
    },
    {
     "name": "stderr",
     "output_type": "stream",
     "text": [
      "\r",
      "39it [1:51:01, 263.72s/it]"
     ]
    },
    {
     "name": "stdout",
     "output_type": "stream",
     "text": [
      "https://www.beeradvocate.com/beer/profile/203/637/?view=beer&sort=&start=950\n",
      "['3.51', '4.48', '3.93', '4.63', '2.86', '3.7', '3.46', '3.98', '4.05', '3.83', '3.12', '2.88', '2.85', '3.85', '4', '3.95', '3.53', '3.78', '3.48', '4.25', '3.36', '4.4', '3.54', '3.51']\n",
      "https://www.beeradvocate.com/beer/profile/75/1321/?view=beer&sort=&start=0\n",
      "['1', '2', '2.93', '4.23', '3', '2.95', '3.21', '3.25', '3.85', '3.76', '2.09', '3.39', '3.26', '3.84', '2.2', '3.39', '3.43', '3.91', '4.1', '4.17', '3.14', '4.59', '3.18', '1.9', '3.07']\n",
      "https://www.beeradvocate.com/beer/profile/75/1321/?view=beer&sort=&start=25\n",
      "['3.09', '4', '2.64', '2.87', '2.87', '3.93', '3.31', '4.03', '3.53', '3.77', '2.29', '2.76', '4.08', '3.05', '2.9', '2.85', '3.39', '3.43', '2.52', '3', '3', '2', '3.05', '4.38', '2.99']\n",
      "https://www.beeradvocate.com/beer/profile/75/1321/?view=beer&sort=&start=50\n",
      "['3.18', '4.21', '3.56', '3.88', '2.17', '3.12', '5', '3.26', '3.04', '3.67', '3.39', '1.79', '4', '4.5', '3.73', '2.74', '4.5', '2.44', '2.86', '3', '2.25', '4.12', '2.14', '2.52', '2.46']\n",
      "https://www.beeradvocate.com/beer/profile/75/1321/?view=beer&sort=&start=75\n",
      "['3.73', '3.04', '3.57', '3.29', '3', '1.79', '3.8', '3.81', '3.59', '3.44', '3.74', '5', '2.89', '3.58', '3.55', '3.21', '2.39', '3.24', '2.37', '3.46', '2.56', '3.69', '2.99', '3.38', '3.41']\n",
      "https://www.beeradvocate.com/beer/profile/75/1321/?view=beer&sort=&start=100\n",
      "['4.16', '2.74', '3.25', '3.23', '4.65', '2.86', '2.97', '1.78', '2.61', '4.4', '2.09', '2.94', '3.84', '3.5', '3.26', '2.64', '2.4', '4.79', '2.59', '2.88', '3.39', '2.59', '2.43', '3.47', '3.55']\n",
      "https://www.beeradvocate.com/beer/profile/75/1321/?view=beer&sort=&start=125\n",
      "['3.78', '2.82', '2.77', '2.22', '2.91', '3.07', '2.56', '4.1', '4.94', '3.75', '4.72', '2.94', '3', '3', '3', '3.64', '2.91', '2.14', '3.13', '3.42', '2.23', '3.41', '2.96', '3.02', '2.16']\n",
      "https://www.beeradvocate.com/beer/profile/75/1321/?view=beer&sort=&start=150\n",
      "['3.71', '1.5', '2.56', '3.53', '3.17', '3.2', '2.6', '3.26', '3.29', '2.95', '2.85', '4.3', '3.19', '2.82', '3.39', '3.52', '2.65', '2.84', '2.71', '3.75', '1.93', '2.44', '3.64', '2.96', '3.6']\n",
      "https://www.beeradvocate.com/beer/profile/75/1321/?view=beer&sort=&start=175\n",
      "['3.1', '1.76', '2.75', '2.44', '3.12', '3.44', '3.46', '2.51', '2.63', '2.65', '1.66', '3.11', '2.67', '2.76', '2.5', '3', '3', '3.12', '1.25', '1.92', '2.6', '1.93', '3.25', '2.9', '3.48']\n",
      "https://www.beeradvocate.com/beer/profile/75/1321/?view=beer&sort=&start=200\n",
      "['2.91', '4', '2.87', '3.15', '2.69', '3.26', '3.02', '2.88', '2.57', '2.98', '3.05', '3.35', '3.22', '2.52', '2.9', '2.57', '2.56', '3.3', '2.97', '2.13', '2.7', '3.75', '3.12', '2.75', '3.16']\n",
      "https://www.beeradvocate.com/beer/profile/75/1321/?view=beer&sort=&start=225\n",
      "['2.33', '2.28', '1.71', '3.1', '2.83', '4.84', '2.72', '2.71', '2.41', '2.25', '2.71', '3.09', '4.08', '2.94', '3.35', '2.88', '4.27', '3.78', '2.92', '2.63', '3.32', '2.13', '3.12', '2.41', '3.03']\n",
      "https://www.beeradvocate.com/beer/profile/75/1321/?view=beer&sort=&start=250\n",
      "['2.91', '3.05', '2.68', '3.35', '2.5', '2.88', '2.2', '2.85', '2.13', '3.08', '3.36', '2.8', '2.65', '2.85', '3.1', '2.3', '2.68', '3.68', '2.76', '2.46', '2.94', '2.72', '2.75', '2.1', '2.85']\n",
      "https://www.beeradvocate.com/beer/profile/75/1321/?view=beer&sort=&start=275\n",
      "['1.74', '3.28', '2.92', '3.02', '2.84', '1.8', '2.88', '2.79', '2.12', '2.83', '3.05', '2.96', '2.88', '3.02', '2.73', '3.45', '2.97', '3.03', '2.89', '2.95', '3.16', '2.88', '3.4', '3.05', '3.06']\n",
      "https://www.beeradvocate.com/beer/profile/75/1321/?view=beer&sort=&start=300\n",
      "['2.88', '2.34', '2', '3.2', '2.85', '3.9', '3', '3.03', '2.93', '3.5', '3', '2.06', '3.46', '1.79', '3', '3.4', '2.55', '2.8', '2.58', '1.88', '3.72', '3.41', '3.2', '2.23', '2.53']\n",
      "https://www.beeradvocate.com/beer/profile/75/1321/?view=beer&sort=&start=325\n",
      "['3.73', '1.4', '1.92', '1.84', '2.88', '3.72', '2.71', '3.13', '1.92', '2.7', '3.64', '3.1', '1.77', '3.46', '2.18', '2.45', '2.98', '1.85', '3.07', '1.88', '2.88', '3.1', '2.92', '1.32', '3.1']\n",
      "https://www.beeradvocate.com/beer/profile/75/1321/?view=beer&sort=&start=350\n",
      "['2.81', '2.81', '2.32', '1.8', '2.71', '1.8', '3.7', '2.18', '2.82', '3.1', '2.78', '1.72', '2.09', '2.36', '2.71', '2.59', '3.45', '3.57', '2.79', '2.88', '3', '2.36', '3', '3.17', '2.8']\n",
      "https://www.beeradvocate.com/beer/profile/75/1321/?view=beer&sort=&start=375\n",
      "['1.98', '2.65', '2.47', '2.5', '3.23', '2.55', '3.13', '3.4', '2.87', '3.23', '2.32', '2.91', '2.23', '3.44', '3.28', '3.85', '2', '3.34', '3.6', '2.75', '3.92', '3.18', '2.89', '4.08', '4']\n",
      "https://www.beeradvocate.com/beer/profile/75/1321/?view=beer&sort=&start=400\n",
      "['2.96', '3.13', '3.65', '3.7', '2.45', '3.1', '2.55', '3.41', '2.5', '2.13', '3.18', '2.87', '3.18', '3.64', '3.58', '3.1', '3.9', '2.54', '2.74', '2.66', '3.07', '3', '3.31', '3.33', '2.97']\n",
      "https://www.beeradvocate.com/beer/profile/75/1321/?view=beer&sort=&start=425\n",
      "['3.03', '2.95', '3.31', '3.86', '3.82', '2.66', '2.93', '3.06', '2.88', '3.2', '3.02', '3.55', '3.33', '2.93', '3.62', '3.22', '4', '3.45', '3.83', '2.9', '2.75', '2.73', '2.29', '2.48', '2.7']\n",
      "https://www.beeradvocate.com/beer/profile/75/1321/?view=beer&sort=&start=450\n",
      "['2.71', '2.4', '3.85', '1.47', '3.16', '1.7', '2.73', '3.12', '3.3', '3.46', '2.97', '3.29', '1.59', '5', '2.8', '3.52', '3.2', '3.48', '3.76', '2.21', '3.07', '2.96', '2.71', '3.53', '3.33']\n",
      "https://www.beeradvocate.com/beer/profile/75/1321/?view=beer&sort=&start=475\n",
      "['2.99', '2.6', '1.97', '2.36', '2.5', '2.98', '3.03', '3.07', '1.99', '2.66', '2.8', '1.33', '1.36', '3.08', '2.73', '3.03', '3.05', '2.9', '2.65', '3.86', '3.28', '2.17', '3.6', '2.65', '2.2']\n",
      "https://www.beeradvocate.com/beer/profile/75/1321/?view=beer&sort=&start=500\n",
      "['3.54', '2.4', '2.5', '2.5', '2.18', '3.5', '3.73', '1.98', '3', '3.35', '3.42', '3.37', '2.43', '3.03', '3.17', '3.65', '3', '2.81', '3.27', '2.68', '3', '3.01', '2.83', '2.98', '2.65']\n",
      "https://www.beeradvocate.com/beer/profile/75/1321/?view=beer&sort=&start=525\n",
      "['2.88', '2.68', '3.75', '2.5', '3.33', '3.23', '2.69', '3', '2.36', '3.31', '3.77', '3.18', '3.56', '1.85', '2.03', '3.47', '2.02', '3.36', '2.73', '4.11', '2.93', '2.52', '3.8', '3.33', '3.12']\n",
      "https://www.beeradvocate.com/beer/profile/75/1321/?view=beer&sort=&start=550\n",
      "['1.73', '3.54', '2.91', '3.4', '1.66', '3.1', '3.35', '3.32', '1.75', '2.97', '3.3', '3.05', '3.4', '2.61', '3.1', '3.45', '3.95', '2.96', '2.83', '3.04', '2.77', '2.06', '3.11', '2.68', '2.83']\n",
      "https://www.beeradvocate.com/beer/profile/75/1321/?view=beer&sort=&start=575\n",
      "['2.83', '3.3', '2.03', '2.46', '2.27', '3.34', '2.53', '3.2', '3.3', '2.26', '2.7', '3.36', '1.85', '1.72', '2.65', '3.18', '2.48', '2.83', '2.61', '3.5', '2.5', '2.8', '2.2', '3.05', '3.29']\n",
      "https://www.beeradvocate.com/beer/profile/75/1321/?view=beer&sort=&start=600\n",
      "['3.15', '3.18', '2.45', '3.01', '2.06', '3.62', '3.12', '3.03', '2.95', '1.8', '1.44', '1.2', '3.08', '1.93', '3.28', '2.57', '3', '3.22', '2.44', '3.01', '4.82', '2.67', '4.15', '3.3', '2.84']\n",
      "https://www.beeradvocate.com/beer/profile/75/1321/?view=beer&sort=&start=625\n",
      "['2.85', '3.38', '3', '3.52', '2.5', '1.28', '3.02', '3.65', '3.61', '1.25', '2.68', '3.21', '2.73', '2.92', '3.17', '2.3', '3.17', '2.97', '2.86', '3.03', '2.4', '3.48', '2.85', '3.8', '2.98']\n",
      "https://www.beeradvocate.com/beer/profile/75/1321/?view=beer&sort=&start=650\n",
      "['3.88', '2.83', '3.14', '2.68', '3.63', '3.18', '2.85', '3.2', '2.83', '2.4', '2.55', '1.28', '3.3', '3.23', '2.17', '2.95', '2.26', '2.73', '2.86', '2.06', '3.18', '2.26', '2.44', '1.3', '3.25']\n"
     ]
    },
    {
     "name": "stderr",
     "output_type": "stream",
     "text": [
      "\r",
      "40it [1:53:44, 233.40s/it]"
     ]
    },
    {
     "name": "stdout",
     "output_type": "stream",
     "text": [
      "https://www.beeradvocate.com/beer/profile/75/1321/?view=beer&sort=&start=675\n",
      "['3.4', '3.13', '3.2', '3.2']\n",
      "https://www.beeradvocate.com/beer/profile/105/580/?view=beer&sort=&start=0\n",
      "['2.85', '2.67', '1.88', '2.95', '4.37', '1.75', '2.63', '2.79', '2.86', '3.09', '5', '3.05', '3.15', '3.22', '2.24', '4.69', '1.82', '2.71', '2.98', '3.41', '3.07', '2.39', '1.44', '3.59', '3.9']\n",
      "https://www.beeradvocate.com/beer/profile/105/580/?view=beer&sort=&start=25\n",
      "['1.54', '2.79', '1.54', '3.74', '5', '2.94', '3.68', '2.68', '2.51', '4.8', '3.14', '2.45', '2.69', '4.27', '3.42', '4.32', '2.65', '2.92', '3.49', '2.92', '5', '3.17', '4.53', '3.09', '3.76']\n",
      "https://www.beeradvocate.com/beer/profile/105/580/?view=beer&sort=&start=50\n",
      "['4.94', '3.04', '3.7', '1.21', '2.21', '2.57', '3.59', '3.7', '2.6', '1.79', '3', '3.67', '3.09', '3.43', '2.6', '2.41', '3.53', '3.59', '3', '3.05', '1.18', '1.78', '3.12', '2.75', '2.8']\n",
      "https://www.beeradvocate.com/beer/profile/105/580/?view=beer&sort=&start=75\n",
      "['2.55', '2.87', '3', '3.12', '2.82', '2.75', '3.71', '3.37', '2.6', '2.75', '2.63', '3.58', '3.31', '2.75', '4.14', '3.26', '1.26', '5', '3.74', '3.95', '3.01', '4.9', '3.5', '3.35', '3.48']\n",
      "https://www.beeradvocate.com/beer/profile/105/580/?view=beer&sort=&start=100\n",
      "['3.78', '4', '2.91', '3.61', '2.68', '2.9', '3.09', '2.31', '2.46', '1.24', '1.12', '2.93', '2.23', '3.25', '2.96', '2.66', '3.94', '2.56', '3.13', '3.17', '3.06', '3.38', '3.75', '3.9', '3.25']\n",
      "https://www.beeradvocate.com/beer/profile/105/580/?view=beer&sort=&start=125\n",
      "['3.14', '3.33', '4.01', '3.13', '2.58', '3.78', '2.94', '3.14', '3.5', '3.17', '4.28', '2.76', '3.44', '3.09', '4.06', '1.25', '3.44', '3.03', '3.15', '1.96', '3.09', '2.68', '3.73', '3.01', '1.85']\n",
      "https://www.beeradvocate.com/beer/profile/105/580/?view=beer&sort=&start=150\n",
      "['4.05', '2.98', '3.11', '2.71', '2.71', '2.61', '4.06', '2.94', '2.75', '1.86', '2.16', '2.38', '3.66', '1.35', '2.78', '3.82', '3.04', '2.5', '3.14', '3.56', '3.45', '4.24', '2.04', '4.37', '4.02']\n",
      "https://www.beeradvocate.com/beer/profile/105/580/?view=beer&sort=&start=175\n",
      "['1.6', '2.47', '3.76', '3.51', '3.84', '1.66', '2.35', '3.92', '3.78', '1.39', '3.74', '3.54', '3.21', '2.75', '4.22', '2.77', '2.17', '2.32', '2.97', '2.42', '2.6', '4.34', '1.08', '2.37', '2.86']\n",
      "https://www.beeradvocate.com/beer/profile/105/580/?view=beer&sort=&start=200\n",
      "['3.98', '3.13', '2.47', '2.72', '1.69', '3.3', '3.15', '1.83', '3.53', '5', '2.96', '3.8', '3.5', '4.07', '4', '1.49', '4.08', '4.77', '1.06', '3.74', '3.5', '3.42', '3.65', '2.68', '1.48']\n",
      "https://www.beeradvocate.com/beer/profile/105/580/?view=beer&sort=&start=225\n",
      "['3.99', '3.32', '3.22', '4.7', '1.32', '2.6', '3.03', '3.4', '5', '2', '3', '3.38', '3.25', '2.9', '3.19', '4.75', '3.75', '3.25', '2.71', '2.9', '3.52', '1.22', '5', '3.29', '3.35']\n",
      "https://www.beeradvocate.com/beer/profile/105/580/?view=beer&sort=&start=250\n",
      "['3.5', '2.75', '3.28', '1', '2.94', '3.5', '2.13', '2.87', '3', '3.02', '2.26', '3.08', '4.53', '2.78', '3.64', '2.5', '2.14', '3.41', '3.1', '2.67', '3', '2.48', '2.32', '2.18', '3.33']\n",
      "https://www.beeradvocate.com/beer/profile/105/580/?view=beer&sort=&start=275\n",
      "['2', '5', '3', '2.77', '3.25', '3.19', '3.22', '3.57', '3.27', '2.42', '2.61', '2.28', '2.25', '4.38', '2.47', '1.66', '2.99', '3.3', '2.52', '3.37', '3.3', '2.82', '3', '3.68', '2.93']\n",
      "https://www.beeradvocate.com/beer/profile/105/580/?view=beer&sort=&start=300\n",
      "['2.53', '3.01', '3', '3.08', '1.93', '3.38', '3.35', '3.48', '3.05', '2.3', '2.98', '2.92', '4.32', '3.34', '3.04', '3', '3.48', '2.72', '3.35', '2.57', '3.56', '2.84', '3.55', '2.69', '2.83']\n",
      "https://www.beeradvocate.com/beer/profile/105/580/?view=beer&sort=&start=325\n",
      "['2.82', '2.63', '2.88', '1.91', '3.1', '3.31', '3.15', '1.06', '3.96', '4.75', '2.85', '4.06', '3.55', '2.71', '1.62', '3', '3.81', '3.1', '3.81', '2.58', '2.83', '2.64', '2.88', '2.89', '4.54']\n",
      "https://www.beeradvocate.com/beer/profile/105/580/?view=beer&sort=&start=350\n",
      "['2.79', '2.21', '3', '3.31', '2.94', '2.53', '2.52', '4.85', '3.25', '2.7', '3.52', '2.68', '2.67', '3.97', '3.85', '2.34', '2.83', '2.46', '3.53', '2.7', '2.2', '2.88', '3', '2.88', '3.37']\n",
      "https://www.beeradvocate.com/beer/profile/105/580/?view=beer&sort=&start=375\n",
      "['2.66', '2.73', '2.95', '4', '2.4', '2.21', '2.9', '4.82', '3.35', '2.71', '2.49', '3.45', '2.25', '3.22', '3.45', '2.47', '3.33', '3.65', '3.09', '2.96', '2.68', '2.4', '2.33', '3.18', '2.98']\n",
      "https://www.beeradvocate.com/beer/profile/105/580/?view=beer&sort=&start=400\n",
      "['2.8', '3.04', '1.58', '2.36', '2.85', '3.3', '3.03', '1.5', '2.71', '3.56', '2.53', '3.04', '3', '2.78', '2.88', '1.83', '2.98', '2', '3.41', '3.28', '3.58', '1.56', '2.2', '2.83', '2.71']\n",
      "https://www.beeradvocate.com/beer/profile/105/580/?view=beer&sort=&start=425\n",
      "['2.5', '1.71', '2.96', '3.06', '2.2', '2.68', '2.82', '3.29', '2.97', '2.85', '2.8', '3.91', '2.61', '2.7', '3.5', '1.83', '2.97', '2.63', '2.88', '3.24', '3', '3.38', '2.74', '2.38', '2.19']\n",
      "https://www.beeradvocate.com/beer/profile/105/580/?view=beer&sort=&start=450\n",
      "['2.7', '2.85', '3.28', '3.2', '3.5', '2.6', '2.6', '5', '2.74', '3', '1.89', '2.36', '2.35', '2.72', '2.81', '2.59', '2.76', '3.49', '2.88', '1.08', '3.53', '2.44', '3.33', '1.58', '2.68']\n",
      "https://www.beeradvocate.com/beer/profile/105/580/?view=beer&sort=&start=475\n",
      "['3.26', '2.1', '2.85', '2.75', '3.11', '4.21', '1.03', '3.22', '2.56', '2.8', '2.95', '2.26', '2.78', '3.48', '3.48', '2.62', '3.06', '3.38', '3.06', '2.26', '3.08', '3.99', '3.9', '3.47', '3.03']\n",
      "https://www.beeradvocate.com/beer/profile/105/580/?view=beer&sort=&start=500\n",
      "['4.33', '2.88', '1.35', '1.34', '2.96', '3.01', '2.56', '2.69', '3.2', '3.05', '2.3', '3', '3.06', '2.79', '2', '3.82', '3.86', '3.48', '3.73', '2.76', '2.57', '4.1', '2.26', '2.9', '3.12']\n",
      "https://www.beeradvocate.com/beer/profile/105/580/?view=beer&sort=&start=525\n",
      "['2.41', '1.31', '2.2', '3.25', '2.13', '2.01', '3.96', '3.45', '3.24', '2.74', '1.06', '3.05', '1.66', '3', '3.03', '4.47', '3.13', '3.25', '3.06', '3.76', '3.33', '3.13', '3.03', '3.3', '3.1']\n",
      "https://www.beeradvocate.com/beer/profile/105/580/?view=beer&sort=&start=550\n",
      "['2.4', '2.44', '2.08', '2.8', '3.08', '2.66', '2.46', '2.92', '2.46', '3.36', '2.65', '3.75', '2.24', '3.62', '3.51', '2.7', '3.11', '4.01', '2.71', '3.21', '2.31', '2.44', '3', '3.18', '3.25']\n",
      "https://www.beeradvocate.com/beer/profile/105/580/?view=beer&sort=&start=575\n",
      "['3.6', '3', '4.25', '3.35', '2.68', '2.88', '2.01', '2.93', '2.19', '3.2', '2.76', '2.55', '2.82', '3.13', '2.85', '3.12', '3.57', '2.66', '3.07', '2.88', '3.5', '3.28', '2.85', '3.1', '1.96']\n",
      "https://www.beeradvocate.com/beer/profile/105/580/?view=beer&sort=&start=600\n",
      "['3.8', '3.5', '3.47', '3.14', '3.93', '2.83', '3.08', '3.01', '2.82', '3.35', '3.08', '3.36', '3.75', '3.82', '2.25', '3.28', '3.16', '3.4', '3.33', '2', '2.77', '2.25', '2.26', '2.15', '2.81']\n",
      "https://www.beeradvocate.com/beer/profile/105/580/?view=beer&sort=&start=625\n",
      "['3.35', '2.8', '2.98', '2.61', '2.91', '2.94', '2.5', '2.24', '3.6', '2.88', '2.78', '3.73', '2.62', '3.28', '1.36', '1.81', '3.27', '2.67', '3.26', '3.66', '3', '3.4', '3.01', '2.98', '3.33']\n",
      "https://www.beeradvocate.com/beer/profile/105/580/?view=beer&sort=&start=650\n",
      "['1.2', '2.15', '3.48', '3.39', '2.94', '2.84', '3.9', '3.34', '4.51', '3.15', '3.85', '2.48', '2.64', '3.1', '3.48', '3.66', '2.93', '3.19', '3.05', '3.16', '2.88', '3.56', '2.53', '3.74', '2.83']\n",
      "https://www.beeradvocate.com/beer/profile/105/580/?view=beer&sort=&start=675\n",
      "['2.83', '3.05', '2.63', '3.86', '3.78', '2.26', '2.78', '2.5', '3.1', '2.78', '3.46', '3.39', '3.17', '3.65', '2.68', '2.84', '2.53', '2.91', '3.74', '2.78', '2.6', '2.93', '3', '2.58', '2.97']\n",
      "https://www.beeradvocate.com/beer/profile/105/580/?view=beer&sort=&start=700\n",
      "['2.88', '3.35', '2.84', '2.87', '3.43', '3.1', '3.14', '3', '2.67', '3.24', '3.84', '4.25', '2.13', '2.51', '1.73', '1.87', '1.26', '2.68', '3.48', '3.35', '2.25', '2.86', '3.5', '2.68', '2.65']\n",
      "https://www.beeradvocate.com/beer/profile/105/580/?view=beer&sort=&start=725\n",
      "['2.04', '3.33', '2.51', '2.9', '2.65', '2.74', '3.2', '2.59', '2.98', '3.1', '3.14', '3.61', '3.17', '3.18', '2.96', '3.16', '3.18', '3.19', '2.78', '2.82', '3.61', '3.08', '4.63', '2.46', '1.38']\n"
     ]
    },
    {
     "name": "stdout",
     "output_type": "stream",
     "text": [
      "https://www.beeradvocate.com/beer/profile/105/580/?view=beer&sort=&start=750\n",
      "['2.76', '3.12', '3.11', '4.04', '1.88', '2.88', '2.01', '2.8', '2.77', '2.27', '3.46', '2.73', '2.65', '2.6', '2.3', '1.12', '2.68', '3.26', '3.28', '4.02', '3.73', '3.8', '4.05', '2.98', '2.86']\n",
      "https://www.beeradvocate.com/beer/profile/105/580/?view=beer&sort=&start=775\n",
      "['3.45', '3.04', '2.86', '3.37', '3.08', '3.31', '2.96', '3.33', '3.61', '3.18', '2.16', '3.13', '4.13', '3.8', '2.56', '3.4', '2.47', '3.13', '2.41', '3.34', '2.98', '3.12', '2.86', '2.55', '2.95']\n",
      "https://www.beeradvocate.com/beer/profile/105/580/?view=beer&sort=&start=800\n",
      "['3', '3.57', '2.97', '2.23', '2.06', '2.78', '2.85', '3.76', '3.2', '3.65', '1.22', '2.98', '2.55', '3.05', '2.93', '3.07', '3', '2.8', '2.01', '2.23', '2.75', '3.31', '1.32', '3.78', '2.16']\n",
      "https://www.beeradvocate.com/beer/profile/105/580/?view=beer&sort=&start=825\n",
      "['3.97', '2.45', '2.96', '2.94', '2.67', '2.79', '2.83', '2.5', '3.37', '4.3', '3.18', '2.82', '3.3', '3.71', '3.6', '2.68', '2.44', '2.49', '1.66', '3.76', '3.7', '2.85', '3.41', '2.55', '3.97']\n",
      "https://www.beeradvocate.com/beer/profile/105/580/?view=beer&sort=&start=850\n",
      "['2.31', '2.09', '1.41', '2.45', '2', '2.49', '1.92', '2.56', '2.76', '2.23', '3.18', '3.88', '3.26', '1.4', '3.4', '2.66', '2.53', '2.48', '3.19', '1', '1.15', '2.51', '4.15', '3.01', '3.12']\n",
      "https://www.beeradvocate.com/beer/profile/105/580/?view=beer&sort=&start=875\n",
      "['2.64', '3.73', '2.2', '2.6', '1.93', '2.43', '2.46', '2.63', '2.98', '2.92', '1.59', '2.7', '3.14', '3.22', '2.9', '2.94', '3.38', '3.86', '3.95', '3.96', '3.03', '2.46', '1.96', '2.58', '3.55']\n",
      "https://www.beeradvocate.com/beer/profile/105/580/?view=beer&sort=&start=900\n",
      "['3.06', '3.65', '2.81', '3.36', '4.24', '2.25', '1.98', '2.83', '1.56', '1.35', '1.67', '2.5', '3.3', '2.76', '1.2', '3.76', '2.98', '1.88', '3.36', '2.85', '2.9', '3.23', '2.48', '2.7', '2.11']\n",
      "https://www.beeradvocate.com/beer/profile/105/580/?view=beer&sort=&start=925\n",
      "['3.45', '2.86', '3.6', '2.72', '2.33', '2.98', '2.18', '3.2', '3.1', '3.3', '3.95', '2.47', '1.9', '2.95', '3.38', '2.81', '2.86', '2.03', '3.5', '2', '3', '2.7', '2.48', '2.64', '4.21']\n",
      "https://www.beeradvocate.com/beer/profile/105/580/?view=beer&sort=&start=950\n",
      "['2.6', '2.93', '2.97', '3.1', '3.25', '2.23', '2.12', '2.05', '3.45', '2.88', '2.98', '2.22', '3.31', '2.08', '2.82', '3.15', '2.28', '3.64', '3.03', '4.46', '2.61', '2.26', '2.31', '2.46', '2.83']\n",
      "https://www.beeradvocate.com/beer/profile/105/580/?view=beer&sort=&start=975\n",
      "['3.5', '2', '1.2', '2.68', '3.01', '2.71', '2.43', '3.03', '2.59', '2.32', '3.33', '1.12', '3.45', '2.5', '2.92', '2.04', '3.01', '3.45', '2.23', '2.18', '2.6', '3.38', '2.5', '3.21', '3.92']\n",
      "https://www.beeradvocate.com/beer/profile/105/580/?view=beer&sort=&start=1000\n",
      "['2.29', '2.9', '1.86', '2.94', '3.2', '3.03', '2.44', '2.97', '2.46', '3.35', '2.77', '2.95', '3.1', '2.25', '2.05', '4.01', '1.9', '2.11', '2.16', '2.22', '1.88', '3.15', '3.7', '3.3', '3.12']\n",
      "https://www.beeradvocate.com/beer/profile/105/580/?view=beer&sort=&start=1025\n",
      "['2.92', '3.12', '2.93', '2.36', '1.73', '3.01', '1.96', '2.3', '2.8', '2.2', '3.1', '3.02', '3.1', '3.31', '2.03', '2.88', '3.7', '3.77', '2.76', '2.66', '3.2', '2.01', '3.07', '3.59', '3.46']\n",
      "https://www.beeradvocate.com/beer/profile/105/580/?view=beer&sort=&start=1050\n",
      "['3.51', '3.55', '3.18', '2.73', '2.8', '4.37', '2.8', '3.03', '3.13', '2.96', '1.25', '3.38', '3.79', '3.72', '2.31', '3.3', '2.4', '3.92', '2.7', '3.15', '2.01', '2.44', '3', '2', '2.4']\n",
      "https://www.beeradvocate.com/beer/profile/105/580/?view=beer&sort=&start=1075\n",
      "['2.55', '3.08', '3.63', '2.5', '3.79', '3.76', '3.28', '3.08', '2.83', '3.2', '1.65', '3.11', '3.25', '2.03', '2.46', '3.16', '1.65', '3', '2.17', '2.75', '2.3', '2.61', '3.3', '2.98', '2.04']\n",
      "https://www.beeradvocate.com/beer/profile/105/580/?view=beer&sort=&start=1100\n",
      "['2.57', '3.5', '3.32', '3.56', '3.35', '2.78', '3.76', '3.28', '3.3', '3.23', '4.22', '3.17', '2.27', '3.2', '2.7', '3.58', '3.23', '3.43', '2.81', '3.16', '3', '3.12', '2.15', '1.26', '2.8']\n",
      "https://www.beeradvocate.com/beer/profile/105/580/?view=beer&sort=&start=1125\n",
      "['3.05', '3.25', '1.64', '2.63', '2.8', '4.13', '3.1', '3.58', '3.73', '3.16', '3.63', '3.23', '2.68', '2.68', '2.4', '3.6', '2.71', '1.28', '3.36', '2.45', '2.32', '2.85', '2.83', '2.81', '3.13']\n",
      "https://www.beeradvocate.com/beer/profile/105/580/?view=beer&sort=&start=1150\n",
      "['3.13', '3.25', '2.56', '2.35', '1.4', '2.24', '2.08', '2.26', '3', '2.47', '2.62', '2.28', '2', '3.86', '3.26', '2.06', '3.45', '3.09', '2.97', '3.37', '3.4', '2.5', '1.8', '2.78', '2.81']\n",
      "https://www.beeradvocate.com/beer/profile/105/580/?view=beer&sort=&start=1175\n",
      "['2', '3.08', '2.98', '2.53', '2.41', '2.3', '4.13', '3.04', '3.47', '2.97', '3', '3.38', '2.96', '3.15', '3.36', '2.26', '2.71', '3.05', '3.37', '2.8', '2.73', '1.98', '2.54', '2.88', '2.28']\n",
      "https://www.beeradvocate.com/beer/profile/105/580/?view=beer&sort=&start=1200\n",
      "['2.55', '1.28', '1.71', '2.71', '2.13', '3.03', '3.8', '3.17', '3.07', '2.6', '1.81', '2.6', '2.73', '3.01', '2.77', '2.05', '3.33', '2.68', '2.21', '2.8', '2.65', '1.68', '3', '2.48', '2.7']\n",
      "https://www.beeradvocate.com/beer/profile/105/580/?view=beer&sort=&start=1225\n",
      "['1.09', '1', '2.85', '2.83', '3.22', '3', '3', '3.05', '3.03', '2.58', '2.8', '3.18', '3.01', '3.2', '3.3', '3.08', '2.7', '3.25', '2.9', '2.73', '3', '1.9', '3.51', '2.7', '3.08']\n"
     ]
    },
    {
     "name": "stderr",
     "output_type": "stream",
     "text": [
      "\r",
      "41it [1:58:44, 253.33s/it]"
     ]
    },
    {
     "name": "stdout",
     "output_type": "stream",
     "text": [
      "https://www.beeradvocate.com/beer/profile/105/580/?view=beer&sort=&start=1250\n",
      "['2.91', '2.52', '3.1', '2.48', '3.75', '3.53', '3.18', '3.48', '2.5', '3.5', '3.11', '2.88', '3.07', '3.2', '2.32', '3.47', '2.93', '3.33', '3.46', '3.77', '3.36', '1.7', '3.35']\n",
      "https://www.beeradvocate.com/beer/profile/664/1275/?view=beer&sort=&start=0\n",
      "['3.95', '3.7', '3.5', '3.62', '4.2', '3.97', '3.3', '3.89', '4.37', '3.64', '3.9', '4.23', '3.75', '3.5', '3.66', '3.83', '3.98', '4', '3.54', '4.05', '3.41', '3.5', '3.94', '3.76', '3']\n",
      "https://www.beeradvocate.com/beer/profile/664/1275/?view=beer&sort=&start=25\n",
      "['3.65', '3.56', '3.89', '4.68', '3.59', '3.52', '4.34', '3.72', '3.26', '4.6', '3.89', '4.14', '3.96', '4', '1.67', '3.68', '4.29', '4.51', '4.98', '4.07', '3.98', '4.71', '4.25', '4.28', '4.46']\n",
      "https://www.beeradvocate.com/beer/profile/664/1275/?view=beer&sort=&start=50\n",
      "['4', '3.88', '3.9', '3.53', '4.59', '4.15', '3.5', '3.88', '3.96', '4.05', '4.41', '5', '4.17', '4.59', '3.2', '4.28', '4.21', '3.32', '3.28', '3.61', '4.07', '3.62', '4', '3.69', '3.51']\n",
      "https://www.beeradvocate.com/beer/profile/664/1275/?view=beer&sort=&start=75\n",
      "['3.76', '3.81', '3.59', '4.28', '4.62', '3.78', '3.08', '3.7', '5', '5', '4.08', '3.77', '3.53', '3.68', '3.34', '2.57', '4', '4.2', '3.43', '3.23', '3.63', '3.7', '3.57', '4.15', '3.88']\n",
      "https://www.beeradvocate.com/beer/profile/664/1275/?view=beer&sort=&start=100\n",
      "['3.65', '3.93', '3.73', '4.34', '4.05', '3.45', '3.75', '4.03', '4.17', '4.03', '4.1', '3.38', '4.23', '4.28', '3.59', '2.85', '2.98', '3.88', '4', '3.15', '4.22', '3.38', '3.63', '4.22', '4.27']\n",
      "https://www.beeradvocate.com/beer/profile/664/1275/?view=beer&sort=&start=125\n",
      "['3.85', '3.88', '3.97', '3.76', '3.6', '3.93', '4.17', '2.96', '3.88', '4.05', '3.65', '3.43', '4.08', '4.56', '3.28', '3.9', '3.95', '3.83', '1.81', '3.97', '3.93', '4', '3.18', '4.65', '3.97']\n",
      "https://www.beeradvocate.com/beer/profile/664/1275/?view=beer&sort=&start=150\n",
      "['4.38', '3.46', '3.88', '3.76', '1.62', '3.31', '3.82', '3.8', '3.7', '3.88', '3.74', '3.88', '4.47', '3.35', '3.98', '4.5', '4.06', '4.17', '4.05', '4.02', '3.07', '3.92', '3.75', '3.6', '2.58']\n",
      "https://www.beeradvocate.com/beer/profile/664/1275/?view=beer&sort=&start=175\n",
      "['4.19', '3.22', '4', '3.19', '3.4', '4.05', '3.36', '3.47', '3.97', '3.71', '3.95', '3.28', '3.85', '3.87', '3.55', '3.75', '3.55', '4', '3.34', '1.62', '4.7', '3.75', '3.74', '3.4', '3.88']\n",
      "https://www.beeradvocate.com/beer/profile/664/1275/?view=beer&sort=&start=200\n",
      "['3.98', '4', '3.74', '4.06', '3.42', '1.7', '3.6', '3.33', '3.55', '4.03', '3.88', '3.68', '4.3', '3.8', '4.2', '4.19', '3.53', '4.52', '3.72', '2.45', '4.87', '4.58', '4.1', '3.9', '4']\n",
      "https://www.beeradvocate.com/beer/profile/664/1275/?view=beer&sort=&start=225\n",
      "['2.86', '3.97', '4.05', '3.35', '3.45', '3.73', '4.06', '4.36', '4.05', '3.38', '3.13', '3.75', '4', '3.73', '4.39', '4.23', '3.8', '3.83', '4.08', '4.25', '3.45', '3.43', '3.53', '3.8', '3.71']\n",
      "https://www.beeradvocate.com/beer/profile/664/1275/?view=beer&sort=&start=250\n",
      "['5', '3.92', '2.94', '2.66', '4.28', '4.03', '3.83', '3.9', '3.96', '4.07', '4.15', '3.48', '4', '4.32', '4', '3.63', '3.9', '2.44', '4.67', '4.47', '3.65', '3.56', '3.91', '3.18', '3.85']\n",
      "https://www.beeradvocate.com/beer/profile/664/1275/?view=beer&sort=&start=275\n",
      "['3.01', '3.95', '3.67', '4.15', '3.5', '4.78', '3.14', '3.44', '4.08', '4.27', '4.59', '4.07', '4.25', '3.01', '3.46', '3.25', '4.15', '4.35', '2.92', '3.45', '4.19', '3.43', '4.3', '4.3', '3.58']\n",
      "https://www.beeradvocate.com/beer/profile/664/1275/?view=beer&sort=&start=300\n",
      "['3.92', '4.32', '3.78', '4.07', '4.28', '3.81', '2.84', '3.93', '3.97', '3.65', '3.33', '3.88', '3.95', '3.91', '4.35', '4.1', '3.7', '3.16', '3.63', '3.52', '3.61', '2.96', '3.75', '3.88', '4']\n",
      "https://www.beeradvocate.com/beer/profile/664/1275/?view=beer&sort=&start=325\n",
      "['4.08', '3.73', '4.2', '4.35', '3.95', '3.85', '3.11', '3.92', '3.58', '3.17', '4.15', '3.95', '3.68', '4', '3.73', '3.47', '3.96', '3.68', '4.08', '4.2', '3.95', '2.95', '3.48', '3.95', '4.47']\n",
      "https://www.beeradvocate.com/beer/profile/664/1275/?view=beer&sort=&start=350\n",
      "['3.97', '4.82', '2.86', '3.68', '3.73', '3.41', '3.26', '2.03', '3.98', '3.96', '3.96', '3.89', '4.25', '3.51', '4.2', '4.82', '3.83', '3.57', '4.21', '4.01', '3.46', '2.11', '4.12', '3.85', '4.17']\n",
      "https://www.beeradvocate.com/beer/profile/664/1275/?view=beer&sort=&start=375\n",
      "['3.58', '3.34', '3.84', '3.83', '4', '3.76', '3.76', '3.73', '3.88', '3.46', '4.27', '3.77', '4', '3.72', '3.7', '3.63', '4.15', '3.42', '4.35', '3.48', '3.5', '3.45', '3.15', '3.65', '3.85']\n",
      "https://www.beeradvocate.com/beer/profile/664/1275/?view=beer&sort=&start=400\n",
      "['4.21', '4.3', '4.87', '3.95', '4.2', '4.07', '4.08', '3.88', '4.2', '3.75', '4.19', '3.47', '3.7', '3.39', '3.87', '4.43', '3.97', '3.83', '4.33', '3.91', '2.88', '4.03', '2.51', '4.57', '4.02']\n",
      "https://www.beeradvocate.com/beer/profile/664/1275/?view=beer&sort=&start=425\n",
      "['3.48', '3.63', '4.05', '3.66', '3.42', '4', '3.75', '3.88', '3.75', '4.02', '4.27', '4.47', '4.47', '4.05', '3.63', '4.15', '3.65', '3.13', '4.28', '3.74', '3.8', '3.3', '4.05', '4.05', '3.96']\n",
      "https://www.beeradvocate.com/beer/profile/664/1275/?view=beer&sort=&start=450\n",
      "['3.3', '4.28', '4.09', '4.08', '4', '3.49', '4.18', '3.9', '4.05', '3.22', '3.75', '4.25', '3.53', '4.2', '4.1', '3.66', '3.63', '4', '4.35', '3.75', '3.88', '3.9', '4.26', '4.42', '3.34']\n",
      "https://www.beeradvocate.com/beer/profile/664/1275/?view=beer&sort=&start=475\n",
      "['4.25', '3.95', '4.3', '3.87', '3.88', '4.28', '3.88', '3.31', '3.66', '3.83', '3.6', '4.37', '4.1', '3.78', '4.57', '4.82', '3.61', '4.1', '4.23', '3.41', '4.12', '3.28', '4.45', '4.09', '3.93']\n"
     ]
    },
    {
     "name": "stderr",
     "output_type": "stream",
     "text": [
      "\r",
      "42it [2:00:45, 213.66s/it]"
     ]
    },
    {
     "name": "stdout",
     "output_type": "stream",
     "text": [
      "https://www.beeradvocate.com/beer/profile/664/1275/?view=beer&sort=&start=500\n",
      "['2.85', '3.23', '2', '3.16', '3.92', '3.06']\n",
      "https://www.beeradvocate.com/beer/profile/3517/20134/?view=beer&sort=&start=0\n",
      "['3.63', '1.3', '3.52', '3.42', '3.75', '3.19', '3.25', '3.43', '3.44', '3.75', '3.33', '2.81', '3.77', '3.55', '2.55', '3.25', '3', '3.12', '3.26', '3.4', '3.53', '3.28', '3.8', '3.23', '3.03']\n",
      "https://www.beeradvocate.com/beer/profile/3517/20134/?view=beer&sort=&start=25\n",
      "['3.33', '3.14', '2.63', '3.68', '3.2', '2.98', '4.03', '3.23', '1.9', '2.52', '2.86', '3.04', '3.03', '3.53', '4.08', '3', '2.9', '2.61', '3.04', '3.23', '3.5', '2.71', '3.38', '3.83', '3.5']\n",
      "https://www.beeradvocate.com/beer/profile/3517/20134/?view=beer&sort=&start=50\n",
      "['3.56', '3.13', '2.74', '2.15', '3.25', '2.48', '2.63', '3.07', '3.11', '3.5', '3.82', '3.64', '2.06', '3.71', '4.1', '3.84', '1', '2.9', '3.53', '3.41', '2.67', '3.54', '3.55', '2.83', '3.14']\n"
     ]
    },
    {
     "name": "stderr",
     "output_type": "stream",
     "text": [
      "\r",
      "43it [2:01:08, 156.48s/it]"
     ]
    },
    {
     "name": "stdout",
     "output_type": "stream",
     "text": [
      "https://www.beeradvocate.com/beer/profile/3517/20134/?view=beer&sort=&start=75\n",
      "['2.94', '2.44', '2.35']\n",
      "https://www.beeradvocate.com/beer/profile/744/3327/?view=beer&sort=&start=0\n",
      "['4.01', '4.13', '4.03', '3.68', '4.18', '3.57', '3.83', '3.64', '3.78', '3.14', '4', '4.27', '4.09', '2.74', '3.29', '4.05', '3.75', '3.79', '3.55', '4.06', '4.08', '3.84', '4.72', '4.13', '3.73']\n",
      "https://www.beeradvocate.com/beer/profile/744/3327/?view=beer&sort=&start=25\n",
      "['3.75', '3.7', '3.54', '3.33', '4.11', '3.97', '4.15', '3.63', '4.16', '3.54', '4.05', '3.97', '3.43', '4.14', '4.2', '3.65', '4.11', '3.83', '4.04', '4.33', '4.95', '4.35', '3.68', '4.12', '4.17']\n",
      "https://www.beeradvocate.com/beer/profile/744/3327/?view=beer&sort=&start=50\n",
      "['4.08', '3.92', '5', '4.42', '4.5', '4', '4.13', '3.8', '4.17', '3.84', '4.21', '3.92', '4.2', '2.88', '4.1', '3.92', '3.92', '3.93', '4.1', '4.4', '4.61', '4.61', '4', '4.1', '4.07']\n",
      "https://www.beeradvocate.com/beer/profile/744/3327/?view=beer&sort=&start=75\n",
      "['4.27', '4.52', '4.3', '4', '3.89', '3', '4.27', '3.93', '2.92', '4.48', '4.3', '4.12', '4.52', '3.95', '3.99', '4.6', '4.22', '4.1', '3.68', '4.12', '3.97', '4.1', '4.2', '4.4', '4.47']\n",
      "https://www.beeradvocate.com/beer/profile/744/3327/?view=beer&sort=&start=100\n",
      "['4.15', '3.03', '3.77', '4.32', '4.16', '4.65', '3.85', '4.02', '3.78', '3.41', '4.52', '4.92', '3.44', '4.42', '3.79', '4.1', '4.2', '4.35', '4.32', '4', '3.66', '4.1', '3.93', '4.22', '4.09']\n",
      "https://www.beeradvocate.com/beer/profile/744/3327/?view=beer&sort=&start=125\n",
      "['4', '4.2', '4.38', '3.03', '3.46', '4.05', '4.07', '4.01', '4.32', '4.04', '4.22', '4.03', '4.07', '4.37', '4.2', '4', '4.3', '4', '4', '4.33', '4.57', '3.8', '3.55', '3.53', '4.61']\n"
     ]
    },
    {
     "name": "stderr",
     "output_type": "stream",
     "text": [
      "\r",
      "44it [2:01:49, 121.81s/it]"
     ]
    },
    {
     "name": "stdout",
     "output_type": "stream",
     "text": [
      "https://www.beeradvocate.com/beer/profile/744/3327/?view=beer&sort=&start=150\n",
      "['4.1', '4.54', '4.5', '4.44', '3.85', '4.47', '4.42', '4.37', '4.1', '4.54', '4.12', '4.08', '4']\n",
      "https://www.beeradvocate.com/beer/profile/470/2137/?view=beer&sort=&start=0\n",
      "['3.5', '3.8', '3.89', '3.82', '3.39', '4.1', '3.67', '4.13', '4.13', '4.1', '4.22', '3.58', '3.61', '3.88', '3.43', '3.93', '3.8', '2.8', '3.59', '3.63', '5', '4.33', '4.03', '3.62', '4.12']\n",
      "https://www.beeradvocate.com/beer/profile/470/2137/?view=beer&sort=&start=25\n",
      "['2.22', '5', '3.27', '4.4', '3.95', '4.71', '3.85', '4.11', '5', '4.24', '3.79', '3.5', '3.98', '3.84', '3.81', '4.07', '3.69', '3.8', '3.23', '3.8', '3.09', '3.74', '3.38', '4.13', '3.71']\n",
      "https://www.beeradvocate.com/beer/profile/470/2137/?view=beer&sort=&start=50\n",
      "['4.55', '3.7', '3.6', '4.05', '2.32', '3.6', '3.74', '4', '3.82', '3.96', '3.61', '3.79', '3.8', '3.63', '4.19', '4.09', '4.22', '3.79', '4.5', '4.1', '3.31', '3.7', '3.75', '3.6', '3.93']\n",
      "https://www.beeradvocate.com/beer/profile/470/2137/?view=beer&sort=&start=75\n",
      "['4.05', '3.97', '3.65', '4.1', '4.18', '3.34', '4.84', '4.5', '3.75', '4.66', '2.69', '4.1', '3.32', '3.68', '3.91', '4.44', '3.77', '3.73', '3.83', '3.67', '3.69', '3.19', '3.43', '3.69', '3.52']\n",
      "https://www.beeradvocate.com/beer/profile/470/2137/?view=beer&sort=&start=100\n",
      "['1.57', '4', '3.96', '3', '2.98', '3.77', '3.02', '3.46', '3.64', '3.72', '3.03', '3.59', '4.24', '3.83', '3.29', '3.51', '3.31', '3.47', '3.51', '3.66', '3.9', '3.74', '3.94', '3.95', '3.52']\n",
      "https://www.beeradvocate.com/beer/profile/470/2137/?view=beer&sort=&start=125\n",
      "['2.87', '3.45', '3.16', '3.64', '3.56', '3.55', '3.91', '3.62', '3.32', '4.68', '2.42', '4.51', '3.99', '3.92', '3.09', '3.76', '3.75', '4.18', '4.01', '4.02', '4.02', '3.9', '3.84', '2.76', '3.58']\n",
      "https://www.beeradvocate.com/beer/profile/470/2137/?view=beer&sort=&start=150\n",
      "['4.34', '3.6', '3.64', '3.34', '3.73', '3.54', '3.17', '3.79', '3.94', '4.11', '3.63', '3.08', '3.56', '3.84', '3.23', '3.79', '3.58', '4.49', '4.36', '4.06', '4.07', '3.89', '3.8', '3.79', '2.53']\n",
      "https://www.beeradvocate.com/beer/profile/470/2137/?view=beer&sort=&start=175\n",
      "['3.93', '3.87', '3.77', '3.92', '3.16', '3.94', '4.1', '4.35', '3.74', '3.91', '3.94', '3.75', '3.69', '4', '3.71', '3.57', '3.45', '4.16', '3.67', '2.77', '3.79', '4.15', '3.31', '3.62', '3.88']\n",
      "https://www.beeradvocate.com/beer/profile/470/2137/?view=beer&sort=&start=200\n",
      "['3.99', '3.58', '4.44', '4.11', '4.14', '3.48', '3.91', '3.35', '3.88', '4.1', '3', '4', '4.09', '3.99', '4.93', '3.5', '2.67', '4', '4.11', '3.16', '3.26', '1.35', '3.99', '3.73', '4.64']\n",
      "https://www.beeradvocate.com/beer/profile/470/2137/?view=beer&sort=&start=225\n",
      "['4.03', '2.94', '3.98', '3.84', '2.83', '1.72', '4.07', '4.2', '3.25', '3.09', '4.47', '2.93', '3.51', '4.23', '3.42', '4.12', '3.75', '3.25', '3.97', '3', '3.69', '3.75', '3.44', '4.25', '4.25']\n",
      "https://www.beeradvocate.com/beer/profile/470/2137/?view=beer&sort=&start=250\n",
      "['3.5', '3', '3.5', '4', '4', '3', '3.5', '3', '3', '3.6', '4', '4', '4.03', '3.25', '3.82', '4.23', '4.44', '3.77', '3.25', '3.89', '3.19', '4.31', '3.66', '3.02', '3.51']\n",
      "https://www.beeradvocate.com/beer/profile/470/2137/?view=beer&sort=&start=275\n",
      "['3.73', '3.78', '4.01', '3.53', '3.42', '3.69', '3.3', '3.75', '3.02', '3.32', '4.45', '3.7', '3.82', '4.16', '3.64', '3.83', '3.79', '4.43', '3.4', '3.43', '2.98', '3.83', '2.79', '3.46', '3.95']\n",
      "https://www.beeradvocate.com/beer/profile/470/2137/?view=beer&sort=&start=300\n",
      "['3.12', '3.5', '3.3', '3.36', '1.29', '3.48', '3.47', '3.42', '3.88', '4.48', '3.62', '4.22', '4.11', '3.46', '4.32', '3.52', '4.12', '3.56', '3.9', '3.59', '3.51', '3.35', '4.09', '4.11', '3.96']\n",
      "https://www.beeradvocate.com/beer/profile/470/2137/?view=beer&sort=&start=325\n",
      "['3.62', '3.07', '3.96', '3.58', '3.5', '3.2', '2.44', '3.08', '3.53', '3.6', '3.68', '3.41', '4.25', '3.21', '3.4', '3.19', '3.24', '3.59', '4.23', '3.88', '3.89', '3.24', '4.12', '3.55', '3.18']\n",
      "https://www.beeradvocate.com/beer/profile/470/2137/?view=beer&sort=&start=350\n",
      "['3.08', '3.85', '4', '3.58', '3.24', '3.51', '4.03', '2.81', '3.68', '3.5', '2.7', '3.09', '3.88', '3.53', '4.03', '3.62', '3.03', '3.9', '3.78', '3.79', '2.91', '2.14', '3.52', '4.18', '4.82']\n",
      "https://www.beeradvocate.com/beer/profile/470/2137/?view=beer&sort=&start=375\n",
      "['4.42', '3.53', '3.98', '3.83', '4.05', '3.75', '3.43', '3.78', '4.48', '3.94', '4.22', '3.41', '1.76', '4.01', '3.45', '3.51', '4', '3.88', '3.53', '3.42', '3.48', '2.31', '3.9', '3.6', '3.29']\n",
      "https://www.beeradvocate.com/beer/profile/470/2137/?view=beer&sort=&start=400\n",
      "['3.61', '3.45', '3.75', '3.16', '3.71', '3.5', '2.77', '3.08', '3.03', '3.08', '3.11', '3.95', '4.12', '3.42', '4.07', '3.95', '3.06', '3.83', '2.73', '3.38', '3.93', '2.95', '3.53', '3.28', '3.41']\n",
      "https://www.beeradvocate.com/beer/profile/470/2137/?view=beer&sort=&start=425\n",
      "['3.65', '3.37', '3', '2.63', '3.33', '3.85', '3.95', '3.13', '3.95', '3.75', '3.47', '3.92', '3.15', '4.02', '3.7', '4.23', '3.8', '3.7', '3.74', '3.53', '3.88', '3.91', '3.24', '3', '4.07']\n",
      "https://www.beeradvocate.com/beer/profile/470/2137/?view=beer&sort=&start=450\n",
      "['3.56', '4.12', '3.33', '3.7', '4', '4.11', '3.47', '3.92', '3.06', '2.24', '3.63', '3', '3.88', '3.53', '3.46', '3.28', '3.38', '3', '3.62', '4', '4.42', '3.88', '3.58', '3.97', '4']\n",
      "https://www.beeradvocate.com/beer/profile/470/2137/?view=beer&sort=&start=475\n",
      "['3.92', '4.47', '3.76', '3.68', '3.6', '3.88', '3.98', '3.43', '3', '3.58', '3.88', '3.6', '3.17', '3.87', '3.2', '3.18', '2.72', '3.56', '3.96', '3.85', '3.65', '3.5', '3.33', '4.04', '3.08']\n",
      "https://www.beeradvocate.com/beer/profile/470/2137/?view=beer&sort=&start=500\n",
      "['3.71', '3.48', '2.53', '3.85', '4', '3.55', '3.18', '3.58', '4', '3.53', '3.23', '3.35', '3.95', '3.53', '3.5', '3.13', '3.95', '3.59', '4.05', '3.68', '2.77', '3.6', '3.62', '3.61', '3.63']\n",
      "https://www.beeradvocate.com/beer/profile/470/2137/?view=beer&sort=&start=525\n",
      "['3.5', '3.48', '3.31', '1.12', '3.28', '3.7', '3.97', '3.48', '4', '3.55', '3.82', '2.79', '3.35', '3.72', '3.27', '2.95', '3.61', '3.7', '3.46', '3.02', '4', '4.3', '3.71', '3.6', '3.6']\n",
      "https://www.beeradvocate.com/beer/profile/470/2137/?view=beer&sort=&start=550\n",
      "['3.86', '2.58', '3.13', '3.34', '3.45', '3.95', '3.73', '4.5', '4.3', '3.41', '3.85', '2.47', '3.07', '4', '3.3', '3.85', '3.6', '3.77', '3.73', '3.51', '3.88', '3.2', '3.77', '3.62', '3.7']\n",
      "https://www.beeradvocate.com/beer/profile/470/2137/?view=beer&sort=&start=575\n",
      "['1.82', '3.03', '3.94', '3.35', '3.33', '3.39', '3.1', '3.82', '3', '3.67', '3.65', '3.98', '4.45', '3.94', '3.7', '3.85', '2.89', '4.12', '3.35', '3.65', '2.7', '3.8', '3.34', '3.62', '4.25']\n",
      "https://www.beeradvocate.com/beer/profile/470/2137/?view=beer&sort=&start=600\n",
      "['3.83', '3.83', '4.38', '4.63', '3.53', '3.5', '2.63', '3.5', '3.75', '4.12', '3.48', '3.65', '3.33', '2.71', '3.72', '3.83', '4.18', '3.7', '4.2', '3.55', '4.18', '4.13', '3.57', '4.67', '4.1']\n",
      "https://www.beeradvocate.com/beer/profile/470/2137/?view=beer&sort=&start=625\n",
      "['3.8', '2.44', '3.48', '3.62', '3.75', '3.03', '3.33', '3.42', '2.21', '3.88', '3.18', '3.99', '3.53', '3.75', '4', '3.68', '3.49', '3.65', '3.8', '3.99', '4.31', '3.79', '3.63', '4.03', '4']\n",
      "https://www.beeradvocate.com/beer/profile/470/2137/?view=beer&sort=&start=650\n",
      "['3.83', '4.12', '3.13', '4.07', '3.85', '3.14', '2.95', '3.94', '3.71', '2.42', '2.11', '3.63', '4', '3.75', '3.06', '3.4', '3.65', '3.71', '4.43', '3.32', '3.2', '3.66', '4.07', '3.66', '3.88']\n",
      "https://www.beeradvocate.com/beer/profile/470/2137/?view=beer&sort=&start=675\n",
      "['3.7', '3.53', '3.75', '3.85', '3.25', '3.43', '3.63', '3.5', '3.6', '2.95', '2.86', '3.12', '3.5', '2.72', '2.84', '3.73', '3.58', '4.03', '3.46', '3.15', '3.15', '4.25', '2.14', '3.7', '2.46']\n",
      "https://www.beeradvocate.com/beer/profile/470/2137/?view=beer&sort=&start=700\n",
      "['3.42', '3.65', '3.23', '3.4', '3.98', '3.56', '4.01', '3.63', '3.47', '3.8', '3.36', '3.28', '4.2', '4.15', '3.57', '3.45', '3.83', '3.73', '4.38', '3.92', '3.99', '3.1', '4.45', '3.88', '3.7']\n",
      "https://www.beeradvocate.com/beer/profile/470/2137/?view=beer&sort=&start=725\n",
      "['3.15', '3.43', '3.7', '4.3', '3.13', '4.42', '3', '3.8', '2.64', '3.93', '4.05', '3.88', '3.01', '2.42', '3.37', '3.68', '2.95', '3.4', '3.61', '3.23', '3.93', '2.57', '3.68', '4.75', '3.66']\n"
     ]
    },
    {
     "name": "stdout",
     "output_type": "stream",
     "text": [
      "https://www.beeradvocate.com/beer/profile/470/2137/?view=beer&sort=&start=750\n",
      "['3.1', '3.23', '3.5', '2.51', '3.75', '3.55', '2.28', '3.6', '3.24', '3.06', '3.96', '3.77', '3.81', '3.5', '3.98', '3.98', '4.3', '3.29', '3.53', '3.97', '3.88', '3.47', '3.9', '3.59', '2.88']\n",
      "https://www.beeradvocate.com/beer/profile/470/2137/?view=beer&sort=&start=775\n",
      "['4', '3.78', '3.68', '3.82', '3.45', '4.1', '3.32', '3.75', '3.33', '3.65', '3.8', '3.8', '3.33', '4.04', '2.62', '3.73', '3.28', '3.23', '3.38', '3.72', '3.62', '4.24', '3.84', '3.68', '3.88']\n",
      "https://www.beeradvocate.com/beer/profile/470/2137/?view=beer&sort=&start=800\n",
      "['3.53', '3.09', '4.23', '3.87', '3.8', '3.8', '3.03', '4.35', '3.57', '3.65', '3.31', '1.93', '3.29', '3.58', '3.39', '3.3', '3.83', '2.92', '3.73', '3.47', '3.53', '4.31', '3.97', '3.68', '4.2']\n",
      "https://www.beeradvocate.com/beer/profile/470/2137/?view=beer&sort=&start=825\n",
      "['2.93', '4.17', '3.73', '3.7', '3.38', '3.51', '3.6', '3.6', '3.44', '3.5', '4', '3.75', '3.49', '4.06', '3.43', '3.43', '3.38', '3.51', '3.68', '3.4', '2.5', '3.7', '3.58', '2.21', '3.8']\n",
      "https://www.beeradvocate.com/beer/profile/470/2137/?view=beer&sort=&start=850\n",
      "['3.58', '3.01', '3.48', '3.5', '3.28', '3.32', '3.12', '4', '3.25', '3.49', '4.12', '3.01', '2.83', '3.4', '3.48', '3.49', '2.81', '3.68', '3.83', '2.85', '3.44', '3', '3.39', '3.65', '3.58']\n",
      "https://www.beeradvocate.com/beer/profile/470/2137/?view=beer&sort=&start=875\n",
      "['3.74', '3.5', '3.6', '3.68', '3.75', '3.11', '3.62', '4.35', '3', '3.53', '3.91', '3.23', '2.98', '2.83', '3.55', '4', '3.39', '3.81', '3.75', '3.63', '3.31', '3.57', '3.74', '3.77', '3.9']\n",
      "https://www.beeradvocate.com/beer/profile/470/2137/?view=beer&sort=&start=900\n",
      "['3.3', '3.23', '3.65', '3.24', '3.7', '3', '3.92', '3.53', '3.28', '3.19', '3.8', '3.63', '3.53', '4.25', '3.7', '3.11', '2.99', '3.88', '3.78', '3.93', '4.3', '2.81', '3.62', '3.75', '4.35']\n",
      "https://www.beeradvocate.com/beer/profile/470/2137/?view=beer&sort=&start=925\n",
      "['4.04', '2.35', '3.94', '2.55', '3.2', '2.26', '3.32', '3.63', '3.38', '3.64', '3.1', '3.31', '4.18', '3.53', '2.86', '4.2', '3.5', '2.88', '3.82', '2.44', '4', '4.2', '4.33', '3.15', '3.46']\n",
      "https://www.beeradvocate.com/beer/profile/470/2137/?view=beer&sort=&start=950\n",
      "['2.99', '4.18', '3.38', '3.5', '3.62', '3.64', '3.72', '3.26', '4.62', '4.03', '3.54', '4.48', '4.8', '3.6', '4.12', '3.78', '3.3', '4.48', '4.05', '4.15', '4.17', '3.75', '3.87', '3.33', '3.83']\n",
      "https://www.beeradvocate.com/beer/profile/470/2137/?view=beer&sort=&start=975\n",
      "['3.87', '3.92', '3.45', '4.49', '4.38', '3.38', '3.62', '3.66', '4.3', '3.42', '3.34', '3.75', '3.63', '3.21', '3.6', '3.4', '3', '3.63', '3.68', '4', '3.57', '2.63', '3.42', '3.63', '3.65']\n",
      "https://www.beeradvocate.com/beer/profile/470/2137/?view=beer&sort=&start=1000\n",
      "['3.68', '3.89', '3.45', '3.08', '3.92', '3.72', '3.72', '3.98', '2.29', '3.48', '2.83', '3.92', '3.65', '4.22', '3.4', '3.23', '3.25', '3.61', '3.98', '3', '3.78', '3.77', '3.01', '4.26', '3.6']\n",
      "https://www.beeradvocate.com/beer/profile/470/2137/?view=beer&sort=&start=1025\n",
      "['4.38', '3.48', '3.5', '3.51', '3.94', '3.62', '3.69', '3.68', '3.27', '2.7', '4.2', '3.9', '3.85', '2.78', '3.38', '3.65', '3.38', '4', '4.2', '3.25', '3.75', '3.52', '3.6', '2.86', '3.38']\n",
      "https://www.beeradvocate.com/beer/profile/470/2137/?view=beer&sort=&start=1050\n",
      "['3.63', '3.64', '4.15', '4', '3.53', '3.88', '3.71', '4.18', '3.53', '3.6', '4.12', '3.73', '3.88', '3.95', '3.65', '3.08', '3.01', '3.82', '3.95', '3.38', '3.47', '4.71', '3.99', '3.85', '4.32']\n",
      "https://www.beeradvocate.com/beer/profile/470/2137/?view=beer&sort=&start=1075\n",
      "['2.41', '3.9', '3.85', '3.89', '3.13', '3.8', '2.78', '4.32', '3.47', '3.42', '3.18', '4', '4.67', '3.27', '3.45', '3.65', '3.36', '3.7', '4.08', '3.16', '3.58', '3.21', '3.5', '4.3', '3.68']\n",
      "https://www.beeradvocate.com/beer/profile/470/2137/?view=beer&sort=&start=1100\n",
      "['4.11', '3.55', '3.63', '3.13', '3.63', '3.53', '3.47', '3.32', '3.17', '4.22', '3.85', '4.05', '3.43', '3.68', '3.15', '3.77', '3.37', '2.73', '3.78', '3.97', '4.03', '3.8', '3.93', '3.76', '3.7']\n",
      "https://www.beeradvocate.com/beer/profile/470/2137/?view=beer&sort=&start=1125\n",
      "['4.24', '3.96', '3.92', '3.59', '2.94', '3.73', '3.42', '3.35', '4.33', '3.85', '3.87', '3.45', '3.61', '3.77', '3.68', '3.57', '3.7', '2.53', '4.7', '3.45', '4.02', '3.65', '3.98', '3.98', '3.46']\n",
      "https://www.beeradvocate.com/beer/profile/470/2137/?view=beer&sort=&start=1150\n",
      "['4.03', '3.65', '3.75', '3.21', '3.78', '4.5', '3.99', '3.55', '3.6', '3.46', '2.74', '3.28', '3.58', '3.59', '2.93', '4.15', '4.42', '4.05', '3.52', '3.68', '3.68', '3.88', '3.63', '4.83', '3.75']\n",
      "https://www.beeradvocate.com/beer/profile/470/2137/?view=beer&sort=&start=1175\n",
      "['3.31', '4.38', '3.7', '3.95', '4.15', '4.1', '3.93', '3.5', '3.35', '3.38', '3.6', '3.94', '3.83', '3.2', '3.16', '4.05', '4.49', '4.32', '3.68', '4.5', '3.46', '4.08', '3.99', '4.08', '3.17']\n",
      "https://www.beeradvocate.com/beer/profile/470/2137/?view=beer&sort=&start=1200\n",
      "['2.75', '4.07', '3.57', '3.68', '3.47', '3.66', '4.12', '3.4', '3.41', '2.73', '2.7', '4.62', '3.65', '3.91', '3.42', '3.2', '3.93', '3.75', '3.56', '3.68', '3.8', '4', '3.53', '3.94', '4.5']\n",
      "https://www.beeradvocate.com/beer/profile/470/2137/?view=beer&sort=&start=1225\n",
      "['3.12', '3.2', '3.01', '3.64', '3.88', '4', '3.98', '3.6', '4.3', '3.1', '4.5', '4.16', '4.52', '4.23', '3.53', '3.43', '3', '2.92', '4.16', '3.33', '3.13', '3.55', '4.11', '3.26', '3.5']\n",
      "https://www.beeradvocate.com/beer/profile/470/2137/?view=beer&sort=&start=1250\n",
      "['3.6', '3.47', '3.75', '4.03', '3.94', '4.35', '4.12', '4.97', '3.91', '4.05', '3.6', '3.68', '4.12', '4.15', '3.73', '3.59', '2.88', '3.58', '2.28', '3.65', '3.36', '2.78', '3.6', '3.53', '4.23']\n",
      "https://www.beeradvocate.com/beer/profile/470/2137/?view=beer&sort=&start=1275\n",
      "['3.67', '4.02', '3.03', '3.98', '3.42', '4.18', '1.6', '3.58', '4.1', '3.17', '3.33', '4.37', '4.35', '3.46', '3.33', '3.48', '3.16', '2.98', '4', '2.53', '3.8', '4', '3.37', '3.58', '3.53']\n",
      "https://www.beeradvocate.com/beer/profile/470/2137/?view=beer&sort=&start=1300\n",
      "['3.36', '2.89', '3.5', '3.73', '4.73', '3.4', '3.53', '3.53', '3', '3.5', '3.93', '4', '3.5', '3.7', '3.39', '3.6', '4.03', '3.73', '3.41', '3.19', '2.53', '4.25', '4.44', '3.64', '3.72']\n",
      "https://www.beeradvocate.com/beer/profile/470/2137/?view=beer&sort=&start=1325\n",
      "['4.06', '4.13', '4.5', '4.42', '3.8', '3.7', '3.26', '3.53', '3.98', '3.73', '3.78', '4.38', '3.38', '4.3', '3.35', '3.43', '4.62', '3.63', '3.34', '3.72', '3.33', '3.31', '3.05', '3.9', '4.1']\n",
      "https://www.beeradvocate.com/beer/profile/470/2137/?view=beer&sort=&start=1350\n",
      "['2.01', '3.83', '3.8', '3.92', '3.8', '3.65', '3.3', '3.63', '3.94', '3.56', '3.3', '3.85', '3.36', '3.33', '3.18', '3.01', '4.65', '3.88', '3.76', '3.61', '3.3', '4.28', '2.46', '3.38', '3.8']\n",
      "https://www.beeradvocate.com/beer/profile/470/2137/?view=beer&sort=&start=1375\n",
      "['3.9', '3.98', '3.72', '3.8', '3.58', '3.37', '3.7', '4.44', '4.19', '4.02', '3.4', '3.78', '3.73', '3.54', '2.15', '2.99', '4.23', '3.91', '3.63', '2.94', '3.53', '2.75', '3.53', '2.66', '3.24']\n",
      "https://www.beeradvocate.com/beer/profile/470/2137/?view=beer&sort=&start=1400\n",
      "['3.47', '4.03', '3.92', '3.57', '4.05', '4.13', '3.82', '4.03', '4.05', '3.83', '3.45', '3', '4.13', '3.26', '3.23', '3.37', '3.5', '3.38', '4.07', '3.47', '3.75', '4.15', '3.75', '3.69', '3.43']\n",
      "https://www.beeradvocate.com/beer/profile/470/2137/?view=beer&sort=&start=1425\n",
      "['3.95', '4.25', '3.83', '3.9', '2.69', '3.7', '2.85', '4.05', '3.58', '3.05', '3.53', '4.13', '4.1', '4.16', '3.35', '3.71', '3.38', '4', '3.2', '3.76', '3.42', '4.44', '4.23', '4.39', '3.65']\n"
     ]
    },
    {
     "name": "stderr",
     "output_type": "stream",
     "text": [
      "\r",
      "45it [2:07:30, 187.72s/it]"
     ]
    },
    {
     "name": "stdout",
     "output_type": "stream",
     "text": [
      "https://www.beeradvocate.com/beer/profile/470/2137/?view=beer&sort=&start=1450\n",
      "['3.53', '3.6', '3.23', '3.6', '3.87', '3.67', '3.25', '2.97', '2.15', '3.23', '3', '3.74', '3.14', '3.68', '3.9', '4.03', '3.4', '3.78', '2.96', '3.65', '2.98', '3.45', '2.22']\n",
      "https://www.beeradvocate.com/beer/profile/741/26368/?view=beer&sort=&start=0\n",
      "['2.77', '3.97', '3.2', '3.14', '2.73', '2', '3.25', '4', '2.73', '2.77', '3.41', '1.23', '2.02', '3.62', '2.51', '2.36', '2.32', '3.1', '2.96', '3.12', '2.17', '3.27', '3.1', '1', '3.24']\n",
      "https://www.beeradvocate.com/beer/profile/741/26368/?view=beer&sort=&start=25\n",
      "['3.86', '3.35', '2.81', '3.18', '2.97', '4.19', '1.84', '2.85', '2.68', '2.3', '2.51', '2.37', '3.85', '3.98', '3.38', '2.08', '2.95', '2', '3.74', '2.52', '2.53', '2.72', '1.74', '1.89', '4.06']\n",
      "https://www.beeradvocate.com/beer/profile/741/26368/?view=beer&sort=&start=50\n",
      "['3.08', '4.13', '3', '2.65', '2.75', '2.55', '4.25', '2.7', '3', '2.58', '3.06', '2.59', '3.25', '1.67', '2.97', '3.12', '1.28', '2.53', '2.98', '2.73', '2.53', '3.69', '3.49', '2.9', '3.15']\n",
      "https://www.beeradvocate.com/beer/profile/741/26368/?view=beer&sort=&start=75\n",
      "['3.29', '2.89', '3.03', '3.13', '2.12', '2.2', '2.9', '1.85', '2', '3.34', '2.31', '2.57', '2.32', '3.64', '2.59', '2.65', '3.71', '3.13', '4.73', '3.48', '1.6', '3', '3.57', '3.46', '2.73']\n",
      "https://www.beeradvocate.com/beer/profile/741/26368/?view=beer&sort=&start=100\n",
      "['3.57', '2.58', '3.38', '2.67', '1.95', '2.7', '3.09', '2.29', '2.66', '3.06', '2.47', '2.42', '2.24', '2.06', '2.12', '2.24', '1.76', '2.58', '2.93', '2.48', '1.56', '2.24', '2.54', '1.98', '2.08']\n",
      "https://www.beeradvocate.com/beer/profile/741/26368/?view=beer&sort=&start=125\n",
      "['3.45', '3.77', '2.9', '2.77', '2.98', '3.5', '2.68', '2.78', '3.36', '1.4', '1.56', '1.71', '3.18', '2.79', '2.08', '2.03', '3', '3.4', '2.53', '2.8', '2.19', '1.92', '2.68', '2.4', '2.97']\n",
      "https://www.beeradvocate.com/beer/profile/741/26368/?view=beer&sort=&start=150\n",
      "['2.36', '3.25', '2.25', '2.61', '2.4', '1.5', '2', '2.15', '3.37', '2.32', '3.23', '2.66', '2.46', '3.07', '3.32', '3.82', '3.32', '2.7', '1.7', '2.98', '3.27', '2.62', '1.66', '3.02', '3.6']\n",
      "https://www.beeradvocate.com/beer/profile/741/26368/?view=beer&sort=&start=175\n",
      "['2.96', '3.3', '2.26', '1', '3.08', '2.77', '2.68', '2.25', '3.25', '4.05', '3.5', '2.69', '2.25', '2.4', '2.42', '3.1', '3.07', '3.77', '2.55', '2.46', '2.83', '3.2', '2.3', '2.6', '2.55']\n"
     ]
    },
    {
     "name": "stderr",
     "output_type": "stream",
     "text": [
      "\r",
      "46it [2:08:22, 147.02s/it]"
     ]
    },
    {
     "name": "stdout",
     "output_type": "stream",
     "text": [
      "https://www.beeradvocate.com/beer/profile/741/26368/?view=beer&sort=&start=200\n",
      "['3.12', '3.13', '3', '3.52', '2.13', '2.41', '3.12', '2.5', '1.59', '2.53', '2.13', '3.93', '1.71', '3.59', '3.42', '3.63']\n",
      "https://www.beeradvocate.com/beer/profile/220/916/?view=beer&sort=&start=0\n",
      "['4.29', '3.52', '3.88', '3.77', '3.28', '3.91', '3.17', '4.2', '3.85', '4.44', '4.02', '3.69', '3.41', '3.87', '4.38', '4.5', '3.71', '4.25', '4.1', '3.81', '3.97', '3.92', '4', '3.91', '3.94']\n",
      "https://www.beeradvocate.com/beer/profile/220/916/?view=beer&sort=&start=25\n",
      "['4.19', '3.93', '2.97', '3.39', '3.99', '4', '4.03', '3.64', '4.11', '4.28', '3.79', '3.87', '3.33', '3.75', '4.25', '4.6', '3.92', '4.18', '4.44', '4.38', '4.96', '4.01', '3.64', '4.5', '3.81']\n",
      "https://www.beeradvocate.com/beer/profile/220/916/?view=beer&sort=&start=50\n",
      "['2.92', '3.88', '4.19', '3.75', '4.06', '3.57', '4', '4.18', '4.34', '3.88', '3.55', '4', '3.94', '4', '3.92', '3.69', '3.75', '3.9', '3.5', '4.99', '2.65', '4', '4.19', '3.53', '3.67']\n",
      "https://www.beeradvocate.com/beer/profile/220/916/?view=beer&sort=&start=75\n",
      "['3.37', '3.96', '3.67', '3.83', '4.06', '3.69', '1.32', '3.55', '3.55', '4', '3.21', '4.25', '3', '4.01', '4.2', '2.4', '3.81', '3.84', '4.42', '4.35', '4.24', '3.92', '3.83', '3.68', '2.3']\n",
      "https://www.beeradvocate.com/beer/profile/220/916/?view=beer&sort=&start=100\n",
      "['4.27', '3.79', '3.53', '4.15', '4', '3.9', '3', '2.98', '3.96', '3.65', '4', '4.43', '3.66', '4', '3.91', '3.62', '4.16', '4.25', '3.83', '3.55', '4', '4.08', '4.06', '3.85', '3.81']\n",
      "https://www.beeradvocate.com/beer/profile/220/916/?view=beer&sort=&start=125\n",
      "['2.82', '4.62', '3.56', '3.85', '3.48', '3.65', '2.86', '3.51', '3.75', '3.99', '3.85', '3.9', '3.61', '4.44', '3.93', '4.51', '1.99', '3.92', '3.98', '4.25', '4.49', '3.97', '4.15', '3.68', '4.24']\n",
      "https://www.beeradvocate.com/beer/profile/220/916/?view=beer&sort=&start=150\n",
      "['3.32', '3.88', '3.75', '4.19', '3.87', '4.33', '3.76', '3.29', '4', '4.08', '3.67', '3.13', '3.91', '3.6', '3.54', '3.88', '3.72', '3.5', '3.9', '4.19', '4.06', '4.1', '3.53', '3.9', '4.37']\n",
      "https://www.beeradvocate.com/beer/profile/220/916/?view=beer&sort=&start=175\n",
      "['3.58', '1.64', '4.45', '4', '4', '4.37', '4.23', '4', '3.18', '4.2', '3.94', '4.1', '3.27', '4.19', '4.24', '4.04', '4', '4.32', '3.95', '1.75', '4.06', '3.82', '4.5', '3.68', '3.58']\n",
      "https://www.beeradvocate.com/beer/profile/220/916/?view=beer&sort=&start=200\n",
      "['3.75', '3.71', '3.94', '4.02', '4.06', '3.88', '4.18', '3.89', '3.77', '3.96', '4.36', '3.73', '1.38', '3.79', '4', '4.12', '3.96', '4.23', '4.01', '3.78', '2.6', '4.09', '4.36', '3.71', '4.07']\n",
      "https://www.beeradvocate.com/beer/profile/220/916/?view=beer&sort=&start=225\n",
      "['4.09', '3.93', '4.03', '3.92', '3.75', '3.98', '4.04', '4.49', '3.52', '4.15', '3.84', '4.19', '2.02', '4.05', '4.12', '4.52', '3.89', '2.93', '3.96', '4.28', '3.64', '3.9', '3.99', '3.92', '3.54']\n",
      "https://www.beeradvocate.com/beer/profile/220/916/?view=beer&sort=&start=250\n",
      "['3.91', '3.79', '3.94', '4.09', '4.71', '3.82', '3.76', '3.92', '4.79', '4.29', '4.15', '3.75', '3.78', '4.06', '3.62', '3.94', '4.12', '3.63', '4.04', '2.5', '3.94', '4.25', '4.17', '4.22', '3.63']\n",
      "https://www.beeradvocate.com/beer/profile/220/916/?view=beer&sort=&start=275\n",
      "['3.79', '3.89', '2.82', '3.94', '3', '3.79', '4.16', '4.5', '4.15', '3.93', '4.1', '3.64', '4.04', '5', '4.04', '3.93', '4.16', '3.85', '3.85', '4.14', '3.83', '4.24', '3.79', '3.79', '3.59']\n",
      "https://www.beeradvocate.com/beer/profile/220/916/?view=beer&sort=&start=300\n",
      "['3.79', '3.93', '3.65', '4.18', '3.84', '4.75', '4.17', '4.13', '3.65', '4.14', '3.25', '3.69', '3.65', '4.32', '4.12', '3.96', '3.91', '4.5', '4.14', '3.67', '4.1', '3.26', '3.77', '3.9', '3.91']\n",
      "https://www.beeradvocate.com/beer/profile/220/916/?view=beer&sort=&start=325\n",
      "['3.02', '4.03', '3.98', '4', '3.83', '4.16', '4.44', '3.66', '4.13', '3.81', '4.08', '3.77', '3.96', '3.93', '3.68', '3.54', '3.65', '4.29', '3.83', '3.49', '3.95', '3.48', '4.33', '3.8', '3.83']\n",
      "https://www.beeradvocate.com/beer/profile/220/916/?view=beer&sort=&start=350\n",
      "['4', '4.25', '3.97', '3.84', '3.99', '4', '4.3', '3.64', '4.37', '3.59', '3.97', '4.25', '2.91', '4.37', '4.75', '3.34', '3.1', '4.02', '3.34', '3.39', '3.6', '2.94', '3.03', '4.23', '3.63']\n",
      "https://www.beeradvocate.com/beer/profile/220/916/?view=beer&sort=&start=375\n",
      "['4.21', '4.06', '3.75', '4.39', '4.21', '4.23', '4.15', '4.42', '3.9', '3.82', '3.99', '2.71', '4.86', '4.06', '4.77', '4.09', '4', '4.06', '3.35', '3.29', '4.48', '3.96', '3.9', '4.75', '3.6']\n",
      "https://www.beeradvocate.com/beer/profile/220/916/?view=beer&sort=&start=400\n",
      "['4.25', '3.79', '4.02', '4', '3.25', '3.75', '5', '4.25', '3.87', '3.83', '3.96', '4.25', '4.05', '3.83', '3.54', '4.5', '4', '3.75', '3.84', '4.35', '3.75', '3.75', '3.99', '3.33', '4.25']\n",
      "https://www.beeradvocate.com/beer/profile/220/916/?view=beer&sort=&start=425\n",
      "['4', '4', '3.5', '4.05', '4.25', '4.5', '4.44', '3.9', '4.02', '5', '3.75', '4.25', '4', '4', '4.3', '2.69', '4.21', '3.8', '3.94', '4.04', '3.99', '4.51', '3.01', '3.68', '3.64']\n",
      "https://www.beeradvocate.com/beer/profile/220/916/?view=beer&sort=&start=450\n",
      "['3.75', '4.07', '4.47', '4.3', '4.05', '3.54', '4.15', '4.09', '3.75', '3.59', '4.47', '3.18', '3.88', '3.81', '3.45', '3.47', '4', '3.88', '3.59', '3.98', '4', '3.8', '4.35', '4.46', '3.68']\n",
      "https://www.beeradvocate.com/beer/profile/220/916/?view=beer&sort=&start=475\n",
      "['4.42', '3.08', '4.04', '4.45', '3.96', '4.67', '4.02', '4.04', '3.83', '4.01', '4.13', '3.83', '4.18', '4.28', '4.17', '3.73', '3.49', '3.96', '3.53', '3.95', '3.79', '3.26', '3.99', '3.93', '4.23']\n",
      "https://www.beeradvocate.com/beer/profile/220/916/?view=beer&sort=&start=500\n",
      "['3.96', '4.16', '4.53', '4.39', '4.03', '3.96', '3.96', '4', '2.97', '3.34', '3.37', '4.42', '4.15', '3.57', '3.42', '2.85', '4', '3.24', '4.23', '4.02', '3.96', '4.09', '4.3', '3.74', '4.04']\n",
      "https://www.beeradvocate.com/beer/profile/220/916/?view=beer&sort=&start=525\n",
      "['3.52', '4.16', '4', '3.7', '3.15', '4', '3.71', '3.58', '3.08', '3.86', '3.94', '4.25', '3.88', '4.48', '4', '3.93', '3.81', '3.35', '4.25', '4', '2.4', '4.37', '3.83', '4.01', '4.02']\n",
      "https://www.beeradvocate.com/beer/profile/220/916/?view=beer&sort=&start=550\n",
      "['3.94', '3.79', '3.92', '3.86', '3.33', '3.81', '2.5', '3.85', '3.51', '3.93', '4.08', '3.84', '4.46', '3.84', '4.11', '3.49', '3.79', '3.75', '2.53', '4.13', '4.2', '3.88', '4.1', '4.27', '4.05']\n",
      "https://www.beeradvocate.com/beer/profile/220/916/?view=beer&sort=&start=575\n",
      "['3.63', '3.61', '3.81', '4.01', '3.42', '5', '4.57', '3.81', '3.85', '3.52', '4.49', '3.63', '3.99', '4.18', '4.47', '4.41', '4.13', '4.45', '3.82', '4.03', '4.24', '3.93', '4.4', '3.72', '4.25']\n",
      "https://www.beeradvocate.com/beer/profile/220/916/?view=beer&sort=&start=600\n",
      "['4.51', '4.31', '3.79', '4.73', '3.39', '3.84', '4.1', '3.92', '3.91', '4.24', '3.83', '4.24', '4.3', '4.32', '4.28', '4.1', '3.8', '3.97', '4.13', '3.9', '4.21', '4.05', '3.87', '3.4', '5']\n",
      "https://www.beeradvocate.com/beer/profile/220/916/?view=beer&sort=&start=625\n",
      "['3.93', '4.36', '3.85', '4.53', '4.03', '3.84', '4.15', '4', '3.74', '4.44', '3.35', '3.54', '4.32', '3.61', '4.03', '3.79', '3.69', '3.84', '3.64', '4.89', '3.74', '4', '3.71', '2.9', '3.9']\n",
      "https://www.beeradvocate.com/beer/profile/220/916/?view=beer&sort=&start=650\n",
      "['3.74', '3.69', '3.79', '4.08', '4.44', '3.5', '3.57', '4.32', '3.66', '3.84', '3.93', '4.28', '3.4', '3.6', '4.47', '4.43', '3.88', '3.24', '4.03', '3.53', '3.98', '3.66', '4.32', '3.94', '4.08']\n",
      "https://www.beeradvocate.com/beer/profile/220/916/?view=beer&sort=&start=675\n",
      "['4.55', '3.96', '3.77', '4.58', '4.2', '3.63', '3.47', '3.08', '3.43', '3.92', '4', '3.8', '4', '4.23', '4.32', '4.38', '3.82', '3.03', '4.12', '4.37', '4.09', '4.85', '4.21', '3.85', '3.77']\n",
      "https://www.beeradvocate.com/beer/profile/220/916/?view=beer&sort=&start=700\n",
      "['3.33', '3.8', '4.17', '3.5', '3.77', '3.68', '4.19', '4', '4', '3.88', '4.12', '4', '3.92', '3.72', '4.35', '3.94', '3.8', '3.58', '4.12', '4.32', '4.1', '4', '3.88', '3.15', '3.4']\n",
      "https://www.beeradvocate.com/beer/profile/220/916/?view=beer&sort=&start=725\n",
      "['4.02', '3.92', '4.2', '3.53', '3.95', '3.7', '4.07', '3.95', '5', '3.68', '4.18', '3.73', '4.3', '4.47', '3.8', '3.83', '4.51', '3.59', '4.12', '4.08', '4.22', '3.7', '3.91', '3.41', '3.95']\n"
     ]
    },
    {
     "name": "stdout",
     "output_type": "stream",
     "text": [
      "https://www.beeradvocate.com/beer/profile/220/916/?view=beer&sort=&start=750\n",
      "['4', '4.27', '4.57', '2.56', '3.76', '3.8', '3.05', '4.42', '3.92', '4.27', '3.63', '4', '4.03', '3.71', '3.7', '4.05', '3.64', '3.68', '3.67', '4.33', '4', '3.92', '4', '4.5', '3.73']\n",
      "https://www.beeradvocate.com/beer/profile/220/916/?view=beer&sort=&start=775\n",
      "['2.32', '3.36', '3.53', '4.27', '3.8', '3.8', '4.09', '4.18', '3.8', '4', '3.85', '4.15', '4.09', '4.1', '4', '4', '3.85', '3.92', '3.67', '3.97', '4.2', '4.6', '3.65', '3.83', '3.2']\n",
      "https://www.beeradvocate.com/beer/profile/220/916/?view=beer&sort=&start=800\n",
      "['3.92', '3.2', '3.7', '3.85', '3.88', '4.03', '4.13', '3.85', '3.96', '3.13', '3.5', '3.8', '3.6', '3.59', '3.88', '4.06', '3.8', '4.2', '3.85', '3.89', '3.27', '3.53', '3.51', '4.5', '3.81']\n",
      "https://www.beeradvocate.com/beer/profile/220/916/?view=beer&sort=&start=825\n",
      "['3.78', '3', '4', '2.79', '4.08', '4', '3.58', '3.58', '3.65', '4.05', '4.12', '3.75', '4', '3.85', '4.42', '3.97', '4', '4.67', '3.65', '3.5', '4', '3.94', '4.32', '3.9', '4.12']\n",
      "https://www.beeradvocate.com/beer/profile/220/916/?view=beer&sort=&start=850\n",
      "['3.76', '4.42', '3.9', '3.83', '3.58', '4.38', '3.92', '3.5', '3.08', '3.2', '4', '4', '3.75', '3.38', '3.82', '3.27', '3.58', '4.59', '4', '2.99', '3.73', '2.87', '3.66', '2.51', '2.92']\n",
      "https://www.beeradvocate.com/beer/profile/220/916/?view=beer&sort=&start=875\n",
      "['4.32', '3.92', '3.57', '3.83', '3.75', '2.61', '2.65', '3.55', '4.35', '4.03', '4.25', '3.58', '3.55', '3.63', '2.16', '3.88', '3.96', '3.85', '3.89', '3.65', '3.57', '3.72', '4.02', '4.23', '3.5']\n",
      "https://www.beeradvocate.com/beer/profile/220/916/?view=beer&sort=&start=900\n",
      "['3.63', '3.58', '4.07', '3.97', '4', '3.6', '4', '4.13', '3.92', '3.72', '4.67', '4.03', '3.9', '4.05', '3.72', '3.78', '4.5', '3.78', '4.05', '4', '4.09', '3.38', '2.91', '4.07', '4']\n",
      "https://www.beeradvocate.com/beer/profile/220/916/?view=beer&sort=&start=925\n",
      "['3.75', '3.66', '4.1', '3.81', '4', '4.05', '4.07', '3.92', '4.23', '4.12', '3.33', '3.63', '4.35', '4.48', '3.98', '3.23', '4.44', '2.56', '3.8', '3.68', '3.97', '3.96', '3.87', '4.07', '4.94']\n",
      "https://www.beeradvocate.com/beer/profile/220/916/?view=beer&sort=&start=950\n",
      "['4.21', '3.87', '4.35', '4.37', '3.97', '3.77', '4.85', '3.5', '3.88', '3.55', '3.4', '4', '4.47', '4.65', '3.65', '4.45', '4.1', '3.7', '3.62', '4.44', '3.52', '2.5', '4.1', '3.82', '4.5']\n",
      "https://www.beeradvocate.com/beer/profile/220/916/?view=beer&sort=&start=975\n",
      "['4.05', '3.87', '4.12', '2.68', '3.58', '3.95', '3.85', '3.58', '4.07', '3.68', '3.65', '3.3', '4.27', '3.95', '4.59', '4.15', '4.31', '4.33', '4.04', '3.52', '3.74', '3.96', '3.85', '3.84', '4.22']\n",
      "https://www.beeradvocate.com/beer/profile/220/916/?view=beer&sort=&start=1000\n",
      "['3.98', '3.68', '3.94', '4.1', '3.2', '4', '3.34', '3.65', '3.45', '3.2', '3.43', '4.02', '3.85', '3.65', '3.96', '3.65', '3.74', '3.03', '3.83', '3.51', '3.87', '3.53', '3.65', '3.43', '3.68']\n",
      "https://www.beeradvocate.com/beer/profile/220/916/?view=beer&sort=&start=1025\n",
      "['3.39', '3.1', '3.98', '4', '3.88', '4.01', '4', '4.52', '4.1', '4.09', '3.65', '3.82', '4.05', '4', '3.9', '4', '2.23', '2.92', '3.83', '4.17', '3.97', '3.22', '3.53', '3.58', '3.44']\n",
      "https://www.beeradvocate.com/beer/profile/220/916/?view=beer&sort=&start=1050\n",
      "['3.83', '3.33', '4.1', '4', '3.97', '3.73', '4.02', '4.07', '3.92', '3.82', '4.45', '3.91', '3.73', '3.95', '3.7', '3.82', '4', '4.47', '3.48', '3.97', '3.45', '3.7', '3.08', '3.93', '3.6']\n",
      "https://www.beeradvocate.com/beer/profile/220/916/?view=beer&sort=&start=1075\n",
      "['4.52', '4.47', '3.82', '4.92', '3.97', '3.95', '3.31', '3.82', '4.05', '3.03', '3.49', '4.15', '3.8', '3.78', '4.35', '4.55', '3.98', '3.32', '4.12', '4.23', '3.68', '4.01', '4.35', '3.87', '4.12']\n",
      "https://www.beeradvocate.com/beer/profile/220/916/?view=beer&sort=&start=1100\n",
      "['4.24', '3.71', '3.92', '3.76', '4.22', '4.36', '4.1', '3.43', '3.46', '3.88', '4.34', '4.09', '4', '4.05', '3.92', '4.13', '4', '2.83', '4.32', '4.25', '4.1', '3.56', '4.15', '3.78', '3.72']\n",
      "https://www.beeradvocate.com/beer/profile/220/916/?view=beer&sort=&start=1125\n",
      "['4.04', '3.8', '4.3', '4.13', '4.13', '3.65', '4.78', '3.2', '4.15', '3.65', '3.45', '3.85', '4.17', '4.42', '3.91', '3.83', '3.85', '4.09', '4.23', '3.77', '3.6', '4.1', '3.92', '4.39', '3.04']\n",
      "https://www.beeradvocate.com/beer/profile/220/916/?view=beer&sort=&start=1150\n",
      "['4.4', '3.47', '4.7', '4', '4', '4', '3.65', '3.63', '4.08', '4.45', '3.86', '4.25', '4.42', '3.77', '3.98', '2.92', '3.92', '3.58', '4.33', '4.36', '3.68', '4.17', '3.63', '4.12', '3.61']\n",
      "https://www.beeradvocate.com/beer/profile/220/916/?view=beer&sort=&start=1175\n",
      "['4.95', '4.32', '4.07', '3.68', '4', '4.1', '4.5', '4.13', '4.35', '3.87', '4.07', '4.1', '4.03', '4.55', '4', '3.98', '3.3', '3.97', '3.68', '3.82', '4.35', '4.05', '4.04', '3.95', '4.03']\n",
      "https://www.beeradvocate.com/beer/profile/220/916/?view=beer&sort=&start=1200\n",
      "['4.57', '3.82', '3.38', '3.85', '3.92', '3.6', '3.44', '3.61', '4.27', '3.98', '4.2', '3.82', '3.88', '3.4', '3.83', '3.53', '3.82', '3.98', '3.56', '4.15', '4.66', '4.44', '4.2', '3.61', '4.03']\n",
      "https://www.beeradvocate.com/beer/profile/220/916/?view=beer&sort=&start=1225\n",
      "['4.55', '4.09', '3.73', '2.98', '4.17', '3.6', '5', '3.45', '3.63', '4.33', '3.9', '3.38', '4.1', '3.83', '4.14', '4.01', '3.8', '4.22', '3.83', '3.68', '3.92', '4.28', '3.7', '4.22', '4.27']\n",
      "https://www.beeradvocate.com/beer/profile/220/916/?view=beer&sort=&start=1250\n",
      "['4.24', '4.13', '3.92', '3.97', '3.88', '4.1', '3.8', '3.51', '4', '4.25', '3.33', '3.58', '4.07', '4.23', '4.1', '4.47', '4.27', '3.98', '4.45', '4.12', '3.77', '3.08', '4.05', '4.05', '4.3']\n",
      "https://www.beeradvocate.com/beer/profile/220/916/?view=beer&sort=&start=1275\n",
      "['3.93', '4.42', '3.92', '4.05', '4', '3.88', '3.82', '3.32', '4.35', '4', '3.64', '3.36', '3.2', '3.9', '2.96', '4.42', '3.75', '4', '3.8', '4.18', '4.05', '3.52', '4.03', '4.57', '3.89']\n",
      "https://www.beeradvocate.com/beer/profile/220/916/?view=beer&sort=&start=1300\n",
      "['3.53', '4', '2.9', '3.61', '3.97', '4.39', '4.1', '2.73', '3.85', '3.95', '3.7', '4.07', '3.88', '3.62', '3.55', '4.09', '3.42', '2.88', '3.98', '4.2', '3.31', '4.15', '4', '3.75', '4.55']\n",
      "https://www.beeradvocate.com/beer/profile/220/916/?view=beer&sort=&start=1325\n",
      "['4.5', '4.07', '3.09', '3.98', '3.9', '3.69', '3.92', '4.13', '3.8', '4.5', '4.5', '3.3', '4.01', '4.57', '4', '3.7', '3.86', '4', '4', '4', '3.88', '3.28', '3.71', '4.12', '3.08']\n",
      "https://www.beeradvocate.com/beer/profile/220/916/?view=beer&sort=&start=1350\n",
      "['3.77', '4.65', '3.54', '4.57', '3.82', '3.79', '2.65', '3.93', '3.6', '4.3', '4.05', '3.86', '4.13', '3.47', '3.74', '3.4', '3.91', '4.1', '3.27', '4.01', '3.78', '4.08', '3.26', '3.55', '3.63']\n",
      "https://www.beeradvocate.com/beer/profile/220/916/?view=beer&sort=&start=1375\n",
      "['3.92', '3.69', '3.42', '3.43', '3.62', '3.53', '3.77', '4.35', '3.9', '3.95', '4.18', '3.76', '4.57', '3.88', '3.92', '3.85', '4.57', '3.83', '4.05', '3.71', '4.47', '3.6', '4.7', '4', '4']\n",
      "https://www.beeradvocate.com/beer/profile/220/916/?view=beer&sort=&start=1400\n",
      "['3.93', '3.63', '3.85', '3.55', '3.95', '4.33', '3.11', '4.12', '3.78', '3.53', '4.1', '3.8', '3.52', '3.17', '3.16', '3.67', '3.36', '4.14', '4.11', '3.61', '3.48', '3.8', '3.6', '3.82', '3.72']\n",
      "https://www.beeradvocate.com/beer/profile/220/916/?view=beer&sort=&start=1425\n",
      "['3.31', '4.1', '3.73', '4.15', '4', '3.85', '3.88', '3.63', '4.13', '3.68', '2.16', '3.73', '3.82', '3.18', '2.69', '4', '3.47', '4.25', '3.95', '4.45', '4.1', '4.45', '3.35', '3.53', '3.88']\n",
      "https://www.beeradvocate.com/beer/profile/220/916/?view=beer&sort=&start=1450\n",
      "['4.32', '4.42', '4.27', '3.97', '3', '3.68', '3.15', '3.66', '3', '4.3', '3.95', '3.92', '3.52', '4.33', '3.75', '3.88', '4.15', '3.88', '3.23', '4.27', '3.55', '4.01', '3.97', '4.23', '3.92']\n",
      "https://www.beeradvocate.com/beer/profile/220/916/?view=beer&sort=&start=1475\n",
      "['4', '3.64', '4.3', '4.45', '3.69', '4.72', '4.22', '3.8', '3.72', '4.12', '4.04', '4.42', '4.16', '2.86', '4.23', '4.32', '4.12', '4.04', '4.1', '4.07', '3.99', '3.5', '2.94', '3.75', '3.95']\n",
      "https://www.beeradvocate.com/beer/profile/220/916/?view=beer&sort=&start=1500\n",
      "['4', '4.14', '3', '2.9', '3.68', '3.85', '3.63', '4.97', '4.18', '3.92', '4.15', '2.61', '3.85', '4.34', '3.65', '3.85', '3.33', '4.1', '4.33', '3.84', '3.97', '3.7', '3.6', '3.95', '3.83']\n"
     ]
    },
    {
     "name": "stdout",
     "output_type": "stream",
     "text": [
      "https://www.beeradvocate.com/beer/profile/220/916/?view=beer&sort=&start=1525\n",
      "['4.2', '3.53', '4.03', '4.1', '3.8', '3.83', '4.05', '2.69', '3.4', '3.92', '4.18', '4.06', '3.92', '3.98', '3.92', '2.94', '4.38', '3.75', '4.08', '4.38', '3.25', '3.53', '4.24', '3.68', '4']\n",
      "https://www.beeradvocate.com/beer/profile/220/916/?view=beer&sort=&start=1550\n",
      "['3.82', '4.15', '3.78', '1.8', '4.22', '4.5', '3.79', '4.35', '4.19', '3.95', '3.85', '4.05', '3.65', '4.05', '4.3', '4', '3.85', '3.5', '4.53', '3.84', '4.1', '4', '3.92', '4.35', '4.1']\n",
      "https://www.beeradvocate.com/beer/profile/220/916/?view=beer&sort=&start=1575\n",
      "['4.34', '4.13', '3.15', '4.23', '4.46', '4.37', '3.88', '3.33', '4.5', '3.53', '4.1', '3.77', '4.95', '3.97', '4.5', '4.3', '4', '4.1', '4.01', '3.88', '4.03', '4.49', '2.43', '4.12', '4.53']\n",
      "https://www.beeradvocate.com/beer/profile/220/916/?view=beer&sort=&start=1600\n",
      "['4.02', '4.12', '4.45', '3.5', '3.58', '3.13', '4.52', '3.7', '4.1', '4.85', '3.88', '3.55', '2.88', '3.88', '4.1', '3.65', '3.88', '4.1', '3.59', '3.5', '3.38', '4.2', '3.95', '4.23', '3.8']\n",
      "https://www.beeradvocate.com/beer/profile/220/916/?view=beer&sort=&start=1625\n",
      "['3.79', '3.71', '3', '4.07', '4.24', '3.72', '3.02', '3', '4.1', '4.15', '3.28', '4.22', '4.15', '3.97', '3.77', '2.54', '2.83', '2.75', '3.65', '4.07', '3.98', '4.22', '3.62', '3.5', '3.38']\n",
      "https://www.beeradvocate.com/beer/profile/220/916/?view=beer&sort=&start=1650\n",
      "['4.82', '3.62', '3', '4.2', '3.88', '3.95', '3.58', '3.63', '3.25', '3.9', '3.44', '3.47', '4', '3.55', '3.23', '3.53', '3.87', '3.83', '3.68', '4', '2.66', '3.8', '3.88', '3.22', '3.1']\n",
      "https://www.beeradvocate.com/beer/profile/220/916/?view=beer&sort=&start=1675\n",
      "['3.68', '3.26', '3.22', '4.2', '3.88', '3.85', '4.2', '4', '3.83', '3.5', '3.13', '4.4', '4.21', '3.75', '3.67', '4.57', '3.45', '3.92', '3.85', '4.12', '4.05', '3.66', '4.09', '4.05', '3.72']\n",
      "https://www.beeradvocate.com/beer/profile/220/916/?view=beer&sort=&start=1700\n",
      "['3.41', '3.73', '3.63', '3.98', '1.99', '3.37', '3.86', '3.13', '4.06', '4', '3.7', '4', '3.5', '4', '4.27', '3.87', '3.83', '3.46', '3.3', '4.13', '3.68', '3.65', '4.03', '4.03', '4.01']\n",
      "https://www.beeradvocate.com/beer/profile/220/916/?view=beer&sort=&start=1725\n",
      "['3.91', '3.11', '4.28', '3.47', '4.3', '3.55', '3.47', '3.56', '3.8', '2.85', '4.12', '3.03', '4.42', '3.53', '3.97', '4', '3.8', '4.1', '3.85', '3.92', '3.5', '4.33', '4.1', '4.3', '3.73']\n",
      "https://www.beeradvocate.com/beer/profile/220/916/?view=beer&sort=&start=1750\n",
      "['3.26', '3.7', '3.29', '4.07', '4.19', '3.88', '3.61', '4.12', '3.57', '4.23', '3.73', '3.1', '4.22', '3.87', '3.65', '3.71', '3.71', '4.25', '3.88', '3.95', '3.77', '3.79', '4.27', '3.18', '3.9']\n",
      "https://www.beeradvocate.com/beer/profile/220/916/?view=beer&sort=&start=1775\n",
      "['3.48', '3.6', '3.72', '3.38', '3.53', '3.73', '4.32', '4.13', '4.35', '4.12', '3.75', '3.88', '3.88', '3.7', '3.45', '4', '2.61', '4.1', '3.65', '3.85', '4.41', '3.96', '3.9', '2.88', '3.06']\n",
      "https://www.beeradvocate.com/beer/profile/220/916/?view=beer&sort=&start=1800\n",
      "['3.92', '4.43', '3.55', '3.89', '4', '3.32', '3.8', '3.8', '3.76', '3.55', '3.25', '3.48', '3.97', '3.65', '4', '4.23', '3.51', '3.82', '3.68', '4', '4.15', '3.62', '3.58', '4.1', '3.25']\n",
      "https://www.beeradvocate.com/beer/profile/220/916/?view=beer&sort=&start=1825\n",
      "['3.7', '4.78', '4.65', '4', '3.94', '3.34', '3.77', '3.48', '3.73', '4.59', '4.18', '3.27', '2.95', '4.15', '3.5', '4.45', '4.2', '3.91', '4.15', '3.48', '4.23', '3.63', '3.16', '3.92', '4']\n",
      "https://www.beeradvocate.com/beer/profile/220/916/?view=beer&sort=&start=1850\n",
      "['3.68', '3.98', '3.8', '3.78', '3.5', '3.25', '3.53', '3.77', '3.55', '3.88', '3.53', '3.65', '3.53', '3.32', '3.37', '3.2', '3.94', '3.65', '3.33', '4.03', '3.5', '4.3', '3.63', '3.68', '3.51']\n",
      "https://www.beeradvocate.com/beer/profile/220/916/?view=beer&sort=&start=1875\n",
      "['4.15', '3.43', '3.94', '4.08', '3.91', '3.7', '3.48', '4.08', '4.23', '3.5', '3.58', '3.46', '3.68', '3.95', '3.37', '4.7', '4.18', '3.48', '4.3', '4.3', '3.97', '4', '3.65', '3.31', '3.82']\n",
      "https://www.beeradvocate.com/beer/profile/220/916/?view=beer&sort=&start=1900\n",
      "['4.1', '2.93', '4', '4.2', '3.88', '3.6', '4', '4.1', '4.32', '4.03', '2.98', '4.12', '2.62', '1.97', '3.58', '3.92', '4.13', '3.75', '4.05', '3.82', '4.12', '4.25', '4.48', '3.78', '4.27']\n"
     ]
    },
    {
     "name": "stderr",
     "output_type": "stream",
     "text": [
      "\r",
      "47it [2:16:00, 240.26s/it]"
     ]
    },
    {
     "name": "stdout",
     "output_type": "stream",
     "text": [
      "https://www.beeradvocate.com/beer/profile/220/916/?view=beer&sort=&start=1925\n",
      "['4.17', '3.53', '3.73', '4.2', '3.15', '4.03', '4.25', '4.68', '4.4', '4.44']\n",
      "https://www.beeradvocate.com/beer/profile/29/472478/?view=beer&sort=&start=0\n",
      "['3.58', '3.01', '4.78', '3.4', '1.48', '3.33', '3.55', '3.85', '3.26', '2.73', '3.53', '4.36', '1.78', '3.25', '5', '2.69', '3.47', '3.73', '4', '3.4', '3.71', '3.52', '2', '3.27', '3.58']\n"
     ]
    },
    {
     "name": "stderr",
     "output_type": "stream",
     "text": [
      "\r",
      "48it [2:16:12, 171.76s/it]"
     ]
    },
    {
     "name": "stdout",
     "output_type": "stream",
     "text": [
      "https://www.beeradvocate.com/beer/profile/29/472478/?view=beer&sort=&start=25\n",
      "['3.29', '2.2', '3.52', '4', '3.01', '2.29', '3.76', '3.43', '4.04', '4.02', '3.5', '3.69', '3.17', '4.65', '4.09', '4.04', '3.84', '3.5', '4.02']\n",
      "https://www.beeradvocate.com/beer/profile/1498/25625/?view=beer&sort=&start=0\n",
      "['3.27', '3.39', '3.04', '2.58', '3.66', '3.68', '3.81', '3.15', '3.39', '3.83', '4.79', '3.09', '4.19', '4.43', '3.72', '4.08', '4.08', '3.67', '4.31', '3.31', '3.48', '3.87', '3.55', '4.09', '3.27']\n",
      "https://www.beeradvocate.com/beer/profile/1498/25625/?view=beer&sort=&start=25\n",
      "['3.56', '2.59', '3.9', '5', '3.85', '3.35', '3.85', '3.73', '2.82', '3.09', '4.23', '3.91', '4.48', '3.38', '3.96', '3.69', '3.99', '3.73', '3.72', '3.24', '4.04', '4.12', '2.18', '3.74', '3.02']\n",
      "https://www.beeradvocate.com/beer/profile/1498/25625/?view=beer&sort=&start=50\n",
      "['3.83', '3.48', '4.95', '4.13', '3.42', '3.77', '4.19', '3.82', '3.71', '3.04', '3.05', '3.4', '3.69', '4.02', '3.29', '4.25', '3.28', '3.6', '4.37', '3.37', '3.25', '3.5', '2.83', '3.97', '3.5']\n",
      "https://www.beeradvocate.com/beer/profile/1498/25625/?view=beer&sort=&start=75\n",
      "['3.51', '1.69', '4.55', '3.5', '4.06', '3.66', '4.24', '3.46', '3.48', '4.2', '4.08', '4.13', '3.29', '4.56', '3.41', '2.65', '3.25', '3.12', '3.34', '4.08', '2.85', '3.96', '3.74', '3.2', '3.45']\n",
      "https://www.beeradvocate.com/beer/profile/1498/25625/?view=beer&sort=&start=100\n",
      "['2.69', '2.74', '3.91', '3.46', '3.47', '3.41', '3.58', '3.2', '2.53', '3.33', '3.77', '2.8', '3.23', '3.76', '4.06', '3.28', '3.5', '2.78', '3', '3.33', '2.06', '3.18', '3.6', '3.95', '4.07']\n"
     ]
    },
    {
     "name": "stderr",
     "output_type": "stream",
     "text": [
      "\r",
      "49it [2:16:47, 130.76s/it]"
     ]
    },
    {
     "name": "stdout",
     "output_type": "stream",
     "text": [
      "https://www.beeradvocate.com/beer/profile/1498/25625/?view=beer&sort=&start=125\n",
      "['2.91', '3.18', '3.25', '3.27', '3.77', '2.64', '3.83', '3.01', '3.63', '3.33', '3.54', '1.18', '3.44', '2.4', '2.82', '3.85', '2.53', '3.26', '3.1', '2.17', '3.12']\n",
      "https://www.beeradvocate.com/beer/profile/1498/3970/?view=beer&sort=&start=0\n",
      "['2.86', '3.31', '3.25', '2.31', '4.08', '2.82', '3.27', '2.25', '3.8', '3.52', '3.77', '4.4', '5', '3.52', '3.6', '3.03', '3.29', '3.34', '3.19', '3', '2.88', '3.56', '3.67', '3.51', '3.44']\n",
      "https://www.beeradvocate.com/beer/profile/1498/3970/?view=beer&sort=&start=25\n",
      "['3.24', '3.26', '3.34', '3.16', '3.03', '3.26', '3.21', '4.04', '3.54', '3.91', '3.12', '3.82', '3.35', '3.74', '3.65', '4.54', '3.42', '3.11', '3.5', '2.65', '3.19', '3.85', '2.93', '3.15', '2']\n",
      "https://www.beeradvocate.com/beer/profile/1498/3970/?view=beer&sort=&start=50\n",
      "['2.37', '3.53', '3.12', '3.41', '3.16', '2.95', '2.78', '2.75', '3.64', '3.83', '3.99', '2.81', '3.49', '2.72', '3.48', '4.25', '3.48', '3.88', '3.52', '3.35', '4', '3.25', '3.54', '3.3', '3.69']\n",
      "https://www.beeradvocate.com/beer/profile/1498/3970/?view=beer&sort=&start=75\n",
      "['2.97', '3.27', '2.93', '3.29', '3.11', '4', '4', '3.35', '4', '3', '1.37', '3.43', '3.58', '3.88', '3.22', '4.03', '4.25', '3.75', '3.25', '2.75', '3.18', '5', '3.9', '3.75', '3']\n",
      "https://www.beeradvocate.com/beer/profile/1498/3970/?view=beer&sort=&start=100\n",
      "['2.58', '3.23', '3.35', '3.98', '3.22', '3.45', '3.47', '3.34', '2.48', '3.21', '4.06', '4.25', '2.84', '2.99', '2.83', '4', '3.37', '2.09', '3.13', '2.05', '3.07', '3.7', '3.67', '2.77', '2.85']\n",
      "https://www.beeradvocate.com/beer/profile/1498/3970/?view=beer&sort=&start=125\n",
      "['2.96', '3.9', '1.97', '3.97', '3.2', '4.16', '1.34', '3.31', '3.43', '2.97', '3.03', '2.58', '3.35', '3.2', '3.36', '3.33', '2.91', '3.38', '3.17', '3.4', '3.2', '3.03', '4.12', '2.73', '2.43']\n",
      "https://www.beeradvocate.com/beer/profile/1498/3970/?view=beer&sort=&start=150\n",
      "['3.74', '3.07', '3.35', '3', '3.53', '2.83', '3.08', '3.28', '2.76', '2.93', '3.03', '2.85', '3.48', '2.43', '3.61', '2.91', '2.7', '3.41', '3.27', '2.97', '4.53', '3.25', '4.43', '3.47', '3.55']\n",
      "https://www.beeradvocate.com/beer/profile/1498/3970/?view=beer&sort=&start=175\n",
      "['3.18', '2.86', '4.23', '2.21', '2.99', '3.38', '3.15', '3.44', '2.28', '1.38', '3', '3.2', '2.86', '3.3', '3.26', '3.15', '4', '4', '3.72', '3', '3.15', '1.94', '3.64', '3.23', '3.97']\n",
      "https://www.beeradvocate.com/beer/profile/1498/3970/?view=beer&sort=&start=200\n",
      "['3.13', '2.83', '4.29', '3.35', '2.62', '3.17', '3.84', '4', '3.43', '2.13', '2.98', '3.9', '1.5', '3.83', '3.63', '4.36', '3.01', '2.88', '2.05', '4.52', '4.11', '4.12', '3.6', '3.7', '3.42']\n",
      "https://www.beeradvocate.com/beer/profile/1498/3970/?view=beer&sort=&start=225\n",
      "['3.68', '3.88', '3.05', '3.26', '2.83', '3.48', '3.25', '3.36', '2.73', '3.38', '3.13', '3', '3.82', '3.21', '3.35', '3.47', '2.5', '2.88', '2.08', '3.62', '2.42', '1.46', '3.26', '3.1', '4.03']\n",
      "https://www.beeradvocate.com/beer/profile/1498/3970/?view=beer&sort=&start=250\n",
      "['2.23', '3.28', '2.76', '3.74', '3.83', '3.11', '3.36', '3.53', '3.86', '3.16', '3.4', '3.35', '2.98', '2.71', '3.05', '3.1', '3.26', '2.75', '3.2', '3.38', '1.94', '4.05', '2.58', '2.77', '2.98']\n",
      "https://www.beeradvocate.com/beer/profile/1498/3970/?view=beer&sort=&start=275\n",
      "['3.27', '3.93', '3.86', '2.56', '3.16', '3.3', '4.18', '4', '3.25', '2.68', '3.13', '3.3', '3.78', '3.3', '4.07', '3.16', '3.72', '3.58', '3.4', '4.07', '3.62', '3.53', '3.6', '3.39', '2.61']\n",
      "https://www.beeradvocate.com/beer/profile/1498/3970/?view=beer&sort=&start=300\n",
      "['3.56', '3.24', '1.31', '3.89', '1.06', '1.81', '2.17', '3.48', '3.72', '3.12', '1.7', '2.26', '1.39', '4.35', '3.93', '3.26', '3.53', '3.42', '3', '3.75', '4.23', '2.81', '2.74', '3.07', '3']\n",
      "https://www.beeradvocate.com/beer/profile/1498/3970/?view=beer&sort=&start=325\n",
      "['2.85', '3.75', '3.53', '2.94', '3', '3.94', '3', '2.72', '2.61', '2.06', '2.74', '3.26', '3.02', '1.94', '3.8', '2.56', '3.43', '3.73', '3.1', '3.71', '2.65', '4.13', '3.15', '2.97', '3.48']\n",
      "https://www.beeradvocate.com/beer/profile/1498/3970/?view=beer&sort=&start=350\n",
      "['3.78', '3.28', '3.26', '3.9', '3.13', '3.58', '2.49', '3.21', '1.61', '4.28', '3.47', '3.8', '2.88', '3.12', '3.85', '2.9', '3.85', '2.62', '3.47', '3.23', '2.6', '3.08', '4.4', '2.75', '2.63']\n",
      "https://www.beeradvocate.com/beer/profile/1498/3970/?view=beer&sort=&start=375\n",
      "['3.78', '3.95', '2.82', '3.85', '4', '2.98', '3.33', '3.42', '3.05', '3.56', '3.88', '2.72', '2.2', '3.28', '3.33', '3.08', '3.14', '3.08', '3.95', '4', '2.65', '3.08', '3.43', '2.03', '2.9']\n",
      "https://www.beeradvocate.com/beer/profile/1498/3970/?view=beer&sort=&start=400\n",
      "['2.65', '2.71', '3.11', '3.82', '2.83', '3.85', '3.1', '2.49', '2.5', '3.02', '2.56', '3.3', '2.35', '3.65', '2.74', '3.35', '2.93', '3.1', '3.4', '3.03', '2.95', '2.81', '2.53', '3.18', '2.44']\n",
      "https://www.beeradvocate.com/beer/profile/1498/3970/?view=beer&sort=&start=425\n",
      "['3.06', '2.03', '3.38', '2.71', '3.16', '3.51', '3.3', '3.03', '3.35', '3.2', '3.05', '1.76', '3.95', '2.54', '2.87', '2.18', '2.78', '3.35', '2.87', '2.54', '3.53', '3.35', '2.85', '2.82', '2.77']\n",
      "https://www.beeradvocate.com/beer/profile/1498/3970/?view=beer&sort=&start=450\n",
      "['3.35', '3.45', '2.25', '2.1', '3.56', '3.97', '2.08', '3.05', '3.1', '3.3', '2.93', '2.72', '3.08', '4.1', '2.98', '2.82', '2.88', '3.63', '3.25', '2.85', '3.46', '2.98', '1.59', '2.46', '2.78']\n",
      "https://www.beeradvocate.com/beer/profile/1498/3970/?view=beer&sort=&start=475\n",
      "['3.45', '3.11', '2.88', '2.91', '3.58', '2.79', '3.35', '2.73', '3.65', '3.35', '3.84', '2.52', '3.58', '2.61', '3.73', '2.42', '3.13', '3.2', '2.43', '1.76', '2.25', '2.33', '2.75', '2.91', '2.85']\n",
      "https://www.beeradvocate.com/beer/profile/1498/3970/?view=beer&sort=&start=500\n",
      "['3.35', '3.18', '2.9', '4', '2.46', '2.59', '3.15', '3.48', '4.07', '3', '3.8', '2.97', '3.47', '2.83', '1.35', '3.71', '3.6', '3.13', '2.11', '2.41', '3.98', '2.73', '3.65', '2.31', '2.7']\n"
     ]
    },
    {
     "name": "stderr",
     "output_type": "stream",
     "text": [
      "\r",
      "50it [2:18:55, 129.80s/it]"
     ]
    },
    {
     "name": "stdout",
     "output_type": "stream",
     "text": [
      "https://www.beeradvocate.com/beer/profile/1498/3970/?view=beer&sort=&start=525\n",
      "['2.66', '2.54', '4.07', '3.48', '3.49', '3.1', '3.33', '2.7', '4.03', '3.85', '2.75', '3.78', '3.9', '3.1', '3.45', '3.03', '2', '4', '3.8']\n",
      "https://www.beeradvocate.com/beer/profile/448/45385/?view=beer&sort=&start=0\n",
      "['3.72', '3.05', '3.49', '3.59', '3.53', '3.85', '2.96', '4.16', '2.66', '3.25', '3.98', '3.51', '4.63', '3.1', '2.65', '3.25', '3.02', '4.4', '3.4', '3.42', '3.25', '3.44', '2.83', '4.25', '3.7']\n",
      "https://www.beeradvocate.com/beer/profile/448/45385/?view=beer&sort=&start=25\n",
      "['3.31', '3.44', '3.33', '2.4', '3.61', '3.6', '2.88', '3.73', '3.74', '4.18', '2.65', '3.85', '3.58', '2.52', '3.57', '3.96', '3.93', '3', '3.95', '4', '4.1', '3.53', '3.53', '3.88', '3.97']\n"
     ]
    },
    {
     "name": "stderr",
     "output_type": "stream",
     "text": [
      "\r",
      "51it [2:19:12, 95.99s/it] "
     ]
    },
    {
     "name": "stdout",
     "output_type": "stream",
     "text": [
      "https://www.beeradvocate.com/beer/profile/448/45385/?view=beer&sort=&start=50\n",
      "[]\n",
      "https://www.beeradvocate.com/beer/profile/3900/4847/?view=beer&sort=&start=0\n",
      "['3.84', '4.95', '4.07', '4.99', '4.34', '5', '4.03', '3.75', '4.12', '3.43', '2.96', '3.89', '3.74', '3.75', '3.77', '3.88', '3.92', '4.11', '4.02', '3.78', '3.59', '3.48', '4.37', '4.02', '3.99']\n",
      "https://www.beeradvocate.com/beer/profile/3900/4847/?view=beer&sort=&start=25\n",
      "['3.42', '3.46', '4.05', '3.95', '3.93', '3.21', '4.16', '4.18', '4.55', '4.15', '3.97', '4.13', '3.9', '2.59', '3.74', '3.97', '4.69', '3.71', '4.06', '4.27', '3.98', '5', '4.11', '3.38', '4.1']\n",
      "https://www.beeradvocate.com/beer/profile/3900/4847/?view=beer&sort=&start=50\n",
      "['4.56', '3.48', '3.91', '3.81', '3.78', '4.5', '4.02', '4.06', '3.85', '3.52', '4.5', '4.13', '4.05', '3.6', '4.25', '4.75', '3.83', '4', '3.8', '3.9', '4.05', '3.95', '3.79', '3.75', '3.76']\n",
      "https://www.beeradvocate.com/beer/profile/3900/4847/?view=beer&sort=&start=75\n",
      "['3.76', '4.26', '4.04', '3.55', '3.95', '3.15', '5', '4.25', '3.69', '3.27', '4.06', '3.64', '4', '4.09', '4.24', '3.7', '4.1', '4.34', '4.17', '3.85', '3.94', '3.88', '3.5', '3.66', '4.05']\n",
      "https://www.beeradvocate.com/beer/profile/3900/4847/?view=beer&sort=&start=100\n",
      "['3.61', '4.06', '4.21', '3.77', '3.55', '3.97', '3.97', '4.46', '3.97', '4.05', '5', '4.24', '3.18', '4.3', '3.29', '3.8', '3.41', '3.88', '4', '3.83', '3.37', '3.83', '3.83', '3.5', '3.73']\n",
      "https://www.beeradvocate.com/beer/profile/3900/4847/?view=beer&sort=&start=125\n",
      "['3.58', '3.76', '3.33', '4.17', '4.07', '3.5', '4.3', '3.93', '3.68', '3.65', '3.8', '3.8', '4', '3.5', '4.1', '3.86', '3.53', '4.55', '3.63', '3.38', '3.8', '4.05', '2.91', '3.82', '3.65']\n",
      "https://www.beeradvocate.com/beer/profile/3900/4847/?view=beer&sort=&start=150\n",
      "['3.98', '3.28', '2.8', '2.97', '3.52', '3.21', '3.91', '4.32', '3.65', '4.02', '3.4', '3.57', '4.46', '4.33', '4.05', '3.62', '4.12', '4.15', '3.65', '3.88', '4', '3.9', '4.2', '4.24', '4']\n",
      "https://www.beeradvocate.com/beer/profile/3900/4847/?view=beer&sort=&start=175\n",
      "['3.6', '3.33', '3.68', '3.57', '3.6', '3.85', '3.53', '3.83', '3.83', '4.35', '3.73', '4', '4.03', '4.48', '3.83', '4.02', '4.13', '4.15', '2.83', '3.63', '3.71', '2.93', '3.88', '3.69', '3.95']\n",
      "https://www.beeradvocate.com/beer/profile/3900/4847/?view=beer&sort=&start=200\n",
      "['3.97', '3.75', '4', '3.33', '4.05', '3.71', '2.56', '4.02', '4.22', '3.65', '3.73', '3.78', '4.18', '3.71', '4.13', '3.86', '3.5', '3.41', '3.85', '3.87', '3.6', '3.6', '4', '4.07', '4.05']\n",
      "https://www.beeradvocate.com/beer/profile/3900/4847/?view=beer&sort=&start=225\n",
      "['3.65', '3.83', '3.12', '4.57', '3.37', '3.68', '3.83', '3.88', '3', '3.8', '3.81', '3.88', '3.5', '4.22', '3.78', '3.47', '3.52', '3', '3.72', '4.52', '3.25', '4.32', '4', '3.52', '3.95']\n",
      "https://www.beeradvocate.com/beer/profile/3900/4847/?view=beer&sort=&start=250\n",
      "['3.58', '3.8', '3.28', '4.6', '3.55', '3.85', '3.58', '1.98', '3.11', '4.72', '4.5', '4.08', '4.1', '3.5', '4.38', '4.27', '3.45', '3.36', '3.51', '3.63', '3.65', '3.13', '3.63', '3.98', '3.85']\n",
      "https://www.beeradvocate.com/beer/profile/3900/4847/?view=beer&sort=&start=275\n",
      "['3.58', '1.62', '3.63', '3.88', '4.3', '3.76', '3.1', '3.58', '3.58', '4.27', '3.7', '4.42', '3.5', '3.85', '3.63', '3.32', '3.62', '4', '3.57', '4', '3.97', '3.71', '3.07', '3.55', '3.66']\n",
      "https://www.beeradvocate.com/beer/profile/3900/4847/?view=beer&sort=&start=300\n",
      "['3.03', '3.57', '4.1', '3.48', '4.22', '3.98', '4.35', '3.52', '4.18', '3.93', '3.91', '4', '2.97', '3.41', '3.24', '3.75', '4.1', '3.57', '3.6', '3.87', '4.03', '3.79', '3.8', '4.22', '4.02']\n",
      "https://www.beeradvocate.com/beer/profile/3900/4847/?view=beer&sort=&start=325\n",
      "['4.27', '3.91', '3.47', '4.3', '3.45', '3.38', '3.82', '3.16', '3.88', '3.77', '3.81', '3.77', '3.6', '4.47', '4.3', '3.85', '3.22', '4.68', '4', '3.62', '3.72', '3.51', '3.45', '3.41', '3.68']\n",
      "https://www.beeradvocate.com/beer/profile/3900/4847/?view=beer&sort=&start=350\n",
      "['3.29', '3.42', '3.36', '4.07', '3.35', '4.42', '3.6', '2.96', '2.72', '2.77', '3.08', '3.17', '3.5', '3.38', '3.78', '3.83', '4.04', '3.8', '4.12', '3.68', '4.2', '4', '4', '2.85', '3.78']\n",
      "https://www.beeradvocate.com/beer/profile/3900/4847/?view=beer&sort=&start=375\n",
      "['3.49', '3.25', '4.29', '3.64', '3.17', '3.95', '3.59', '3.92', '3.95', '3.44', '3.5', '3.2', '3.85', '3.83', '4.07', '2.78', '3.85', '4.05', '4.08', '3.75', '3.05', '3.98', '3.47', '3.3', '3.17']\n",
      "https://www.beeradvocate.com/beer/profile/3900/4847/?view=beer&sort=&start=400\n",
      "['3.67', '3.54', '3.82', '3.73', '2.78', '3.82', '3.05', '4', '3.7', '3.66', '3.38', '3.95', '4.02', '3.72', '3.4', '4.23', '3.83', '4.1', '3.5', '5', '4.24', '4.03', '4.14', '4.22', '4.23']\n",
      "https://www.beeradvocate.com/beer/profile/3900/4847/?view=beer&sort=&start=425\n",
      "['3', '3.23', '3.63', '3.83', '3', '3.43', '3.75', '3.25', '4.05', '4.45', '4.42', '3.98', '4.05', '3.98', '4.08', '3.83', '3.03', '3.31', '2.33', '3.77', '3.81', '3.1', '2.69', '3.7', '3.85']\n"
     ]
    },
    {
     "name": "stderr",
     "output_type": "stream",
     "text": [
      "\r",
      "52it [2:21:01, 100.11s/it]"
     ]
    },
    {
     "name": "stdout",
     "output_type": "stream",
     "text": [
      "https://www.beeradvocate.com/beer/profile/3900/4847/?view=beer&sort=&start=450\n",
      "['4.43', '4.27']\n",
      "https://www.beeradvocate.com/beer/profile/579/22592/?view=beer&sort=&start=0\n",
      "['3.57', '3.68', '4.55', '2.77', '3.67', '3.75', '3.37', '3.14', '4.15', '3.68', '2.84', '2.69', '4.21', '3.82', '2.95', '2.64', '2.38', '4', '4', '3.26', '3.52', '3.84', '3.63', '4.36', '2.95']\n",
      "https://www.beeradvocate.com/beer/profile/579/22592/?view=beer&sort=&start=25\n",
      "['3.88', '3.47', '3.85', '3.63', '2.58', '3.55', '3.97', '3.34', '3.56', '3.48', '3.62', '3.03', '3.52', '4.08', '3.67', '3.83', '3.68', '3.5', '3.12', '3.75', '3.46', '3.47', '4.05', '3.42', '3.98']\n",
      "https://www.beeradvocate.com/beer/profile/579/22592/?view=beer&sort=&start=50\n",
      "['3.94', '3.94', '3.5', '4.54', '4.94', '3.4', '1.58', '3.99', '3.59', '3.56', '3.36', '3.23', '3.65', '3.58', '3.5', '2.83', '3.72', '3.35', '3.38', '4.74', '3.46', '3.49', '3.32', '3.24', '4']\n",
      "https://www.beeradvocate.com/beer/profile/579/22592/?view=beer&sort=&start=75\n",
      "['3.57', '4.6', '3.45', '3.92', '3.59', '3.7', '3.21', '4.54', '4.08', '3.56', '3.4', '3.34', '3.33', '3.82', '3.41', '4.29', '3.42', '3.24', '2.96', '3.97', '3.33', '3.5', '3.09', '3.6', '2.43']\n",
      "https://www.beeradvocate.com/beer/profile/579/22592/?view=beer&sort=&start=100\n",
      "['3.45', '4.37', '4.14', '3.37', '3.15', '3.82', '4.07', '4', '3.02', '3.03', '3.6', '3.57', '3.15', '3.54', '3.13', '3.38', '3.55', '4.08', '3.48', '3.01', '4.59', '3.6', '3.66', '3.59', '3.52']\n",
      "https://www.beeradvocate.com/beer/profile/579/22592/?view=beer&sort=&start=125\n",
      "['3.62', '3.58', '3.62', '3.18', '4.33', '4.12', '4.01', '3.39', '3.68', '3.06', '3.56', '3.75', '3.62', '3.73', '3.99', '3.52', '3.5', '3.5', '3.65', '3.83', '3.73', '3.4', '4.35', '3.65', '4.55']\n",
      "https://www.beeradvocate.com/beer/profile/579/22592/?view=beer&sort=&start=150\n",
      "['4.38', '3.73', '4.15', '3.47', '3.63', '2.88', '3.73', '4.47', '3.76', '3.94', '3.38', '3.29', '3.85', '3.21', '3.05', '3.62', '5', '3.63', '3.58', '3.76', '3.74', '3.66', '2.39', '2.6', '3.41']\n",
      "https://www.beeradvocate.com/beer/profile/579/22592/?view=beer&sort=&start=175\n",
      "['3.5', '3.55', '3.74', '3.34', '3.94', '3.49', '3.69', '2.82', '3.2', '3.41', '3.93', '3.68', '2.27', '4.01', '3.85', '3.54', '2.52', '3.05', '2.99', '3.04', '3.03', '3.27', '3.46', '3.45', '2.5']\n",
      "https://www.beeradvocate.com/beer/profile/579/22592/?view=beer&sort=&start=200\n",
      "['3.04', '2.95', '3.65', '4.22', '3.91', '3.53', '3.82', '3.92', '4', '3.89', '4.56', '3.56', '3.41', '2.84', '3.95', '3', '3.69', '2.46', '4', '4.28', '4.53', '3.77', '4.77', '3.37', '3.5']\n",
      "https://www.beeradvocate.com/beer/profile/579/22592/?view=beer&sort=&start=225\n",
      "['4.31', '3.69', '5', '4.14', '3.27', '3.84', '3', '1.28', '2.76', '3.72', '3.79', '3.16', '3.48', '3.79', '3.5', '3.4', '3.31', '3.68', '2.38', '3.81', '3.41', '3.9', '3.96', '3.24', '3.4']\n",
      "https://www.beeradvocate.com/beer/profile/579/22592/?view=beer&sort=&start=250\n",
      "['4.3', '3.47', '3.6', '3.33', '3.42', '3.67', '2.93', '3.42', '3.44', '3.75', '3.89', '3.84', '3.68', '3.04', '3.51', '3.59', '4.12', '4.81', '3.97', '3.71', '3.31', '3.62', '3.73', '4.05', '3.35']\n",
      "https://www.beeradvocate.com/beer/profile/579/22592/?view=beer&sort=&start=275\n",
      "['3.65', '3.91', '3.74', '4', '3.21', '3.43', '3.44', '4.39', '3.69', '3.12', '3.56', '3.53', '2.9', '3.68', '3.49', '3.52', '3.03', '3.95', '3.81', '3.21', '3.52', '3.78', '3.34', '3.77', '2.37']\n",
      "https://www.beeradvocate.com/beer/profile/579/22592/?view=beer&sort=&start=300\n",
      "['2.82', '3.28', '3.26', '3.84', '3.67', '3.96', '3.69', '3.78', '3.02', '3.2', '4.08', '4.05', '3.65', '3.48', '3.71', '2.74', '3.5', '3.29', '3.59', '3.43', '3.83', '5', '4.5', '2.61', '3.33']\n",
      "https://www.beeradvocate.com/beer/profile/579/22592/?view=beer&sort=&start=325\n",
      "['3.27', '4.34', '3.94', '3.03', '3.74', '3.87', '3.89', '2.88', '3.94', '3.78', '2.74', '3.16', '3.3', '3.62', '4.39', '3.21', '3.63', '4', '3.94', '3.7', '3.94', '3.45', '3.55', '2.98', '3.94']\n",
      "https://www.beeradvocate.com/beer/profile/579/22592/?view=beer&sort=&start=350\n",
      "['3.88', '3.5', '4.5', '3.87', '3.58', '3.46', '3.2', '3.7', '3.5', '3.77', '4.09', '3.5', '4.1', '3.54', '3.88', '3.6', '3.89', '3.88', '3.37', '3.5', '3.33', '3.4', '2.63', '3', '2.65']\n",
      "https://www.beeradvocate.com/beer/profile/579/22592/?view=beer&sort=&start=375\n",
      "['3.65', '2.82', '3.53', '3.95', '3.55', '4.07', '3.62', '4', '3.97', '3.72', '3.77', '3.17', '3.3', '3.7', '4.16', '3.35', '3.85', '2.88', '4.27', '2.76', '3.78', '2.36', '2.92', '3.11', '3']\n"
     ]
    },
    {
     "name": "stderr",
     "output_type": "stream",
     "text": [
      "\r",
      "53it [2:22:42, 100.26s/it]"
     ]
    },
    {
     "name": "stdout",
     "output_type": "stream",
     "text": [
      "https://www.beeradvocate.com/beer/profile/579/22592/?view=beer&sort=&start=400\n",
      "['3.78', '3.8', '3.46', '3.55', '3.6', '4', '2.55', '3.67', '3.02', '3.15', '3.35', '3.19', '3.35', '3.06', '3.18', '3.8', '3.97', '3.85', '3.57']\n",
      "https://www.beeradvocate.com/beer/profile/209/52083/?view=beer&sort=&start=0\n",
      "['3.64', '3', '3.24', '3.42', '3.48', '3.61', '3.4', '3.34', '3.08', '3.79', '3.69', '3.29', '3.61', '3.5', '2.62', '3.52', '3.38', '2.83', '4', '3.12', '4.63', '3.77', '3.15', '3.01', '2.81']\n",
      "https://www.beeradvocate.com/beer/profile/209/52083/?view=beer&sort=&start=25\n",
      "['3.44', '3.18', '3.88', '3.05', '2.42', '3.28', '4.92', '4.51', '3.5', '3.57', '3.7', '3.53', '3.4', '4.01', '3.5', '3.69', '3.61', '3.32', '3.14', '3.73', '3.75', '3.25', '3.73', '3.5', '3.54']\n",
      "https://www.beeradvocate.com/beer/profile/209/52083/?view=beer&sort=&start=50\n",
      "['3.56', '3.63', '3.4', '3.5', '3.21', '4.5', '3.38', '3.27', '3.37', '3.65', '3.36', '2.64', '2.22', '2.48', '3.46', '3.37', '3.39', '3.2', '3.46', '3.55', '3.26', '3.89', '2.77', '2.97', '3.69']\n",
      "https://www.beeradvocate.com/beer/profile/209/52083/?view=beer&sort=&start=75\n",
      "['3.61', '3.48', '3.46', '2.87', '3.88', '2.73', '2.74', '3.16', '3.58', '3.45', '2.97', '3.49', '3.69', '2.99', '3.52', '3.6', '3.56', '3.5', '3.85', '3.06', '3.78', '3.01', '2.71', '3.86', '2.75']\n",
      "https://www.beeradvocate.com/beer/profile/209/52083/?view=beer&sort=&start=100\n",
      "['3.7', '2.61', '3.18', '3.21', '4.03', '2.77', '3.54', '2.67', '3.03', '3.42', '3.46', '3.58', '3.46', '3.75', '3.78', '3.31', '3.63', '3.38', '3.39', '3.21', '3.98', '3.81', '3.88', '3.91', '4.34']\n",
      "https://www.beeradvocate.com/beer/profile/209/52083/?view=beer&sort=&start=125\n",
      "['3.28', '3.68', '2.83', '3.78', '3.93', '3.06', '3.45', '3.08', '2.62', '3.29', '3.23', '3.7', '3.79', '3.23', '3.27', '3.84', '3.61', '3.65', '2.02', '3.48', '3.8', '3.54', '3.44', '3.11', '2.78']\n",
      "https://www.beeradvocate.com/beer/profile/209/52083/?view=beer&sort=&start=150\n",
      "['3.39', '3.33', '4.01', '3.38', '1.79', '3.44', '3.41', '2.4', '3.29', '3.33', '3.72', '3.58', '4.46', '3.38', '3.06', '4.03', '3.79', '3.48', '3.72', '3.83', '3.14', '3.27', '3.02', '3.54', '3.12']\n"
     ]
    },
    {
     "name": "stderr",
     "output_type": "stream",
     "text": [
      "\r",
      "54it [2:23:29, 84.28s/it] "
     ]
    },
    {
     "name": "stdout",
     "output_type": "stream",
     "text": [
      "https://www.beeradvocate.com/beer/profile/209/52083/?view=beer&sort=&start=175\n",
      "['2.52', '3.56']\n",
      "https://www.beeradvocate.com/beer/profile/10272/12719/?view=beer&sort=&start=0\n",
      "['4.09', '3.7', '3.5', '2.69', '3.99', '4.34', '1.63', '4.5', '3.79', '4.08', '4.66', '4.73', '3.52', '3.28', '3.81', '3.69', '3.77', '3.66', '3.25', '4.22', '3.41', '3.61', '2.74', '3.83', '4.44']\n",
      "https://www.beeradvocate.com/beer/profile/10272/12719/?view=beer&sort=&start=25\n",
      "['3.77', '3.91', '4.01', '3.4', '3.92', '3.49', '3.86', '2.92', '3.94', '3.69', '4.42', '4.13', '3.91', '4.34', '3.93', '3.06', '3.88', '3.96', '3.29', '3.46', '3.75', '3.36', '3.08', '4.71', '3.88']\n",
      "https://www.beeradvocate.com/beer/profile/10272/12719/?view=beer&sort=&start=50\n",
      "['3.66', '4.03', '3.6', '4.17', '3.72', '4.27', '3.79', '3.08', '3.7', '2.68', '3.85', '3.75', '3.58', '3.88', '3.82', '4', '3.27', '3.55', '3.61', '4.18', '3.56', '3.47', '3.35', '3.78', '3.36']\n",
      "https://www.beeradvocate.com/beer/profile/10272/12719/?view=beer&sort=&start=75\n",
      "['3.65', '3.61', '3.47', '3.41', '3.76', '2.96', '3.48', '4.8', '3.47', '3.3', '2.88', '3.51', '3.76', '4', '3.7', '3.88', '4.48', '3.99', '4.17', '3.3', '3.22', '4.56', '3.61', '4.17', '3.85']\n",
      "https://www.beeradvocate.com/beer/profile/10272/12719/?view=beer&sort=&start=100\n",
      "['3.33', '2.6', '4.01', '4.07', '4.63', '3.14', '3.85', '3.56', '3.8', '4.26', '4.28', '3.47', '3.75', '3', '3.5', '3.92', '3.75', '4', '3.8', '4.1', '4.67', '4.03', '3.9', '3.82', '3.06']\n",
      "https://www.beeradvocate.com/beer/profile/10272/12719/?view=beer&sort=&start=125\n",
      "['3.16', '3.15', '3.98', '4.05', '4.75', '3.25', '3.56', '3.98', '3.59', '3.28', '3.98', '3.8', '2.4', '3.52', '3.48', '3.2', '3.69', '4.14', '3.93', '3.73', '3.44', '3.58', '3.97', '3.81', '3.23']\n",
      "https://www.beeradvocate.com/beer/profile/10272/12719/?view=beer&sort=&start=150\n",
      "['3.6', '3.38', '3.99', '3.31', '3.42', '3.69', '4.07', '3.69', '3.72', '3.84', '3.14', '2.65', '3.8', '4.21', '2.6', '4.07', '3.4', '3.44', '5', '3.93', '3.89', '3.71', '4.31', '3', '3.82']\n",
      "https://www.beeradvocate.com/beer/profile/10272/12719/?view=beer&sort=&start=175\n",
      "['3.49', '4.11', '3.61', '3.7', '3.79', '3.84', '4.4', '3.69', '3.97', '3.73', '2.02', '2.63', '3.56', '4.37', '3.9', '3.74', '2.61', '3.92', '3.53', '4', '2.68', '3.8', '4.5', '3.8', '3.5']\n",
      "https://www.beeradvocate.com/beer/profile/10272/12719/?view=beer&sort=&start=200\n",
      "['3.96', '3.82', '2.53', '4.35', '3.14', '3.88', '3.68', '3.89', '4.12', '3.93', '3.58', '3.5', '4.2', '3.02', '4', '4.3', '4.6', '3.83', '4', '3.77', '3.91', '4.14', '4.32', '3.8', '3.59']\n",
      "https://www.beeradvocate.com/beer/profile/10272/12719/?view=beer&sort=&start=225\n",
      "['3.62', '3.95', '3.97', '3.7', '4.6', '3.41', '3.95', '4.32', '5', '3.25', '3.58', '3.92', '4.5', '4.2', '4.55', '3.97', '3.88', '3.33', '3.37', '3.85', '3.55', '3.58', '3.58', '3.17', '3.13']\n",
      "https://www.beeradvocate.com/beer/profile/10272/12719/?view=beer&sort=&start=250\n",
      "['4.3', '3.47', '2.71', '3.7', '4.39', '2.2', '3.92', '3.15', '4.03', '4.18', '4.62', '3.83', '3.3', '4.32', '4.62', '4.15', '4.22', '3.47', '3', '3.6', '3.68', '3.58', '3.68', '4.04', '3.67']\n",
      "https://www.beeradvocate.com/beer/profile/10272/12719/?view=beer&sort=&start=275\n",
      "['3.67', '3.97', '3.56', '3.25', '4.25', '3.97', '3.64', '4.04', '3.97', '3.75', '4.2', '4.04', '4.2', '3.39', '4.04', '3.75', '2.95', '3.97', '3.85', '4.05', '4.05', '3.13', '3.9', '3.45', '3.42']\n",
      "https://www.beeradvocate.com/beer/profile/10272/12719/?view=beer&sort=&start=300\n",
      "['3.45', '3.57', '3.85', '4.27', '4.13', '4.77', '3.34', '3.87', '1.46', '3.45', '4.1', '4.45', '3.84', '4.22', '4.42', '4', '4.52', '4.03', '3.53', '4.61', '4.35', '3.73', '3.66', '3.32', '4.15']\n",
      "https://www.beeradvocate.com/beer/profile/10272/12719/?view=beer&sort=&start=325\n",
      "['3.6', '3.73', '4.1', '4.05', '4.08', '3.98', '4.02', '2.97', '4.04', '4.03', '4.02', '4.12', '3.97', '3.92', '4.08', '3.86', '3.8', '3.44', '3.87', '3.65', '4.32', '3.17', '4.38', '4.03', '3.68']\n",
      "https://www.beeradvocate.com/beer/profile/10272/12719/?view=beer&sort=&start=350\n",
      "['3.42', '4.02', '2.4', '2.35', '4.12', '3.37', '3.82', '2.62', '3.37', '3.56', '4.12', '4.42', '4.24', '3.88', '2.38', '1.69', '4.19', '3.92', '3.63', '3.55', '3.75', '4.87', '4.44', '3.5', '3.73']\n",
      "https://www.beeradvocate.com/beer/profile/10272/12719/?view=beer&sort=&start=375\n",
      "['3.83', '3.73', '4', '4.3', '3.85', '3.74', '4.27', '2.06', '4.35', '4.15', '4.24', '2.71', '3.1', '4.02', '4.21', '4.12', '4.74', '2.8', '2.5', '4.59', '3.53', '3.85', '3.85', '4.45', '2.12']\n",
      "https://www.beeradvocate.com/beer/profile/10272/12719/?view=beer&sort=&start=400\n",
      "['3.2', '3.55', '3.45', '3.85', '3.82', '3.78', '3.41', '3.56', '3.19', '3.19', '4.55', '3.64', '4.03', '3.65', '3.35', '4.69', '2.23', '3.87', '3.82', '4.25', '4.9', '4.16', '3.92', '4.22', '3.34']\n",
      "https://www.beeradvocate.com/beer/profile/10272/12719/?view=beer&sort=&start=425\n",
      "['4.11', '3.79', '3.41', '3.94', '4.1', '3.53', '2.14', '4.55', '4.09', '3.6', '3.99', '3.92', '3.11', '3.68', '4.22', '3.73', '3.5', '3.92', '2.23', '3.47', '3.92', '3.77', '3.97', '4.45', '4.04']\n",
      "https://www.beeradvocate.com/beer/profile/10272/12719/?view=beer&sort=&start=450\n",
      "['3.82', '3.87', '2.61', '4', '3.9', '3.24', '3.65', '3.83', '3.4', '3.62', '3.92', '3.97', '4.12', '3.35', '3.78', '4.44', '3.4', '3.78', '3.62', '4.3', '3.63', '2.86', '3.68', '4.1', '4.12']\n",
      "https://www.beeradvocate.com/beer/profile/10272/12719/?view=beer&sort=&start=475\n",
      "['1.68', '3.28', '3.44', '4.37', '4.12', '3.39', '3.7', '3', '3.77', '4.15', '3.99', '4', '3.68', '4.32', '4.1', '3.77', '4.29', '4.03', '3.9', '3.38', '4.47', '4.11', '4.34', '4.22', '3.55']\n",
      "https://www.beeradvocate.com/beer/profile/10272/12719/?view=beer&sort=&start=500\n",
      "['4.35', '3.24', '3.83', '4.59', '4.4', '4', '4.83', '3.8', '4.04', '3.81', '3.53', '4.17', '3.83', '4.28', '3', '4.2', '4.14', '3.52', '3.7', '4.09', '3.57', '4.32', '3.53', '3.87', '3.86']\n",
      "https://www.beeradvocate.com/beer/profile/10272/12719/?view=beer&sort=&start=525\n",
      "['4.23', '3.88', '3.79', '4.1', '3.52', '3.56', '4.1', '4', '3.64', '4', '4.49', '4.21', '2.19', '3.73', '3.23', '3.57', '3.15', '4.03', '4.1', '3.9', '4.07', '3.48', '3.88', '4.22', '4.02']\n",
      "https://www.beeradvocate.com/beer/profile/10272/12719/?view=beer&sort=&start=550\n",
      "['3.93', '4', '4.84', '3.12', '4.05', '3.87', '3.18', '3.74', '4', '2.93', '3.2', '3.78', '3.94', '4.17', '3.65', '4', '3.97', '3.88', '3.83', '3.62', '3.86', '3.77', '4', '3.56', '4.3']\n",
      "https://www.beeradvocate.com/beer/profile/10272/12719/?view=beer&sort=&start=575\n",
      "['4.16', '3.54', '3.04', '3.86', '3.93', '4.09', '3.85', '3.86', '3.37', '3.05', '2.64', '4.02', '2.95', '4', '4.03', '2.18', '3.65', '4.27', '3.78', '3.72', '4.3', '4.48', '3.17', '4.52', '2.9']\n"
     ]
    },
    {
     "name": "stderr",
     "output_type": "stream",
     "text": [
      "\r",
      "55it [2:25:56, 103.06s/it]"
     ]
    },
    {
     "name": "stdout",
     "output_type": "stream",
     "text": [
      "https://www.beeradvocate.com/beer/profile/10272/12719/?view=beer&sort=&start=600\n",
      "['4.2', '4.23', '4.45', '3.52', '4.32', '4.28', '4.25', '4.25', '4.2', '3.98', '4.47', '3.55']\n",
      "https://www.beeradvocate.com/beer/profile/202/656/?view=beer&sort=&start=0\n",
      "['4.8', '4.48', '4.5', '4.35', '4.14', '4.41', '4.1', '4.28', '4.04', '4.46', '4.53', '4.33', '4.43', '4.85', '5', '4.2', '4.63', '4.59', '4', '4.71', '4.58', '4.13', '4.78', '4.46', '3.74']\n",
      "https://www.beeradvocate.com/beer/profile/202/656/?view=beer&sort=&start=25\n",
      "['3.5', '4.43', '4.18', '4.28', '4.25', '4.01', '3.47', '4.69', '4.23', '4.64', '4.01', '4.29', '4.41', '4.19', '4.65', '3.89', '4.3', '4.31', '4.27', '4.49', '4.62', '4.82', '4.32', '4.75', '4.17']\n",
      "https://www.beeradvocate.com/beer/profile/202/656/?view=beer&sort=&start=50\n",
      "['4.26', '3.51', '4.03', '4.07', '4.43', '3.93', '4.69', '4', '3.98', '5', '4.29', '4.11', '4.33', '3.31', '4.35', '4.42', '4.6', '4.6', '4.24', '4.63', '5', '4.66', '4.67', '4.31', '3.77']\n",
      "https://www.beeradvocate.com/beer/profile/202/656/?view=beer&sort=&start=75\n",
      "['4.53', '4.41', '4.6', '4.25', '3.47', '4.24', '3.3', '3.18', '4.81', '4.39', '4.5', '4.75', '3.33', '4.72', '4.31', '4.36', '4.4', '4', '3.39', '4.63', '4.7', '3.94', '3.94', '4.05', '3.26']\n",
      "https://www.beeradvocate.com/beer/profile/202/656/?view=beer&sort=&start=100\n",
      "['4.38', '4.17', '5', '4.09', '4.16', '4.26', '3.53', '3.19', '4.44', '4.54', '4.29', '4.44', '4.19', '4.25', '4.4', '4.21', '4.31', '4.08', '4.36', '4.94', '4.78', '3.96', '4.54', '4.05', '4.38']\n",
      "https://www.beeradvocate.com/beer/profile/202/656/?view=beer&sort=&start=125\n",
      "['4.34', '4.54', '4.25', '4.29', '4.65', '4.28', '3.94', '4.35', '4.49', '4.92', '4.29', '4.38', '4.11', '4.06', '4.12', '4.63', '4.12', '3.98', '3.86', '4.47', '4.3', '3.55', '4.08', '3.56', '4.14']\n",
      "https://www.beeradvocate.com/beer/profile/202/656/?view=beer&sort=&start=150\n",
      "['4.4', '4.28', '4.18', '4.1', '4.12', '4.48', '4.25', '4.69', '4.56', '3.55', '4.34', '4.12', '4.22', '4.18', '4.28', '4', '3.73', '4.19', '4.24', '4.08', '3.92', '4.72', '4.25', '4.7', '4.09']\n",
      "https://www.beeradvocate.com/beer/profile/202/656/?view=beer&sort=&start=175\n",
      "['4.49', '4.71', '4.25', '4.31', '4.62', '4.45', '4.65', '4.35', '4.81', '4.05', '4.46', '4.23', '4', '4.29', '4.66', '3.88', '3.9', '4.75', '3.72', '3.79', '3.65', '4.56', '3.87', '4.35', '4.52']\n",
      "https://www.beeradvocate.com/beer/profile/202/656/?view=beer&sort=&start=200\n",
      "['3.62', '4.9', '4.63', '4.26', '4.15', '4.25', '3.67', '3.5', '5', '4.43', '4', '5', '5', '4.09', '4.1', '4.35', '4.25', '3.75', '4.5', '5', '4.2', '3.75', '4.32', '4.5', '4.27']\n",
      "https://www.beeradvocate.com/beer/profile/202/656/?view=beer&sort=&start=225\n",
      "['4.5', '3.96', '4.5', '4.12', '5', '4.51', '5', '4.31', '4.26', '4.07', '4.01', '3.29', '4.35', '4.27', '4.24', '3.78', '2.05', '4.02', '4.87', '4.6', '3.88', '4.32', '4.86', '4.59', '4.35']\n",
      "https://www.beeradvocate.com/beer/profile/202/656/?view=beer&sort=&start=250\n",
      "['4.52', '4.77', '4.32', '4.76', '5', '4.27', '4.72', '4.03', '4.38', '4.16', '3.58', '4.49', '4.54', '4.41', '4.58', '4', '4.09', '4.73', '4.76', '4.25', '4.94', '3.99', '4.38', '4.16', '4.46']\n",
      "https://www.beeradvocate.com/beer/profile/202/656/?view=beer&sort=&start=275\n",
      "['4.84', '4.12', '4.06', '4.19', '4.51', '3.99', '4.08', '4.84', '4.19', '4.22', '3.37', '4.27', '4.2', '4.2', '4.89', '3.8', '4.26', '4.4', '4.41', '4.31', '4.2', '4.36', '4.84', '3.84', '4.32']\n",
      "https://www.beeradvocate.com/beer/profile/202/656/?view=beer&sort=&start=300\n",
      "['4.21', '4.33', '4.1', '4.5', '4.19', '4.65', '4.35', '4.13', '4.5', '4.53', '4.51', '4.11', '4.08', '4.1', '4.09', '4.19', '3.75', '4.36', '4.36', '4.1', '4.19', '4.34', '4.15', '4.27', '4.3']\n",
      "https://www.beeradvocate.com/beer/profile/202/656/?view=beer&sort=&start=325\n",
      "['4.45', '4.29', '4.05', '4.64', '4.95', '4.29', '4.45', '4.25', '4.71', '4.01', '2.91', '4.35', '4.05', '4.31', '4.27', '4.53', '2.79', '3.37', '4.57', '4.32', '4.15', '4.28', '4.18', '4.07', '4.34']\n",
      "https://www.beeradvocate.com/beer/profile/202/656/?view=beer&sort=&start=350\n",
      "['4.23', '4.3', '4.62', '3.79', '4.42', '4.32', '4.42', '4.32', '4.42', '4.43', '4.22', '4.3', '4.33', '4', '4.3', '4.23', '4.12', '4.67', '4.28', '4.32', '4.06', '4.55', '4.49', '4.78', '4.88']\n",
      "https://www.beeradvocate.com/beer/profile/202/656/?view=beer&sort=&start=375\n",
      "['4.5', '4.5', '3.97', '4.67', '3.8', '4.23', '4.33', '4.16', '4.34', '3.07', '3.8', '4.03', '3.33', '4.47', '3.95', '4.5', '4.33', '4.7', '4.38', '3.9', '4.33', '4.3', '4.72', '4.8', '4.65']\n",
      "https://www.beeradvocate.com/beer/profile/202/656/?view=beer&sort=&start=400\n",
      "['4.31', '4.35', '3.55', '4.1', '4.68', '4.22', '4.03', '3.82', '3.94', '4.1', '4.13', '4.18', '4.2', '4.25', '4.63', '4.47', '4.16', '4.32', '3.45', '4.03', '4.1', '3.94', '4.25', '4.42', '4.75']\n",
      "https://www.beeradvocate.com/beer/profile/202/656/?view=beer&sort=&start=425\n",
      "['4.45', '4.3', '4.18', '4.25', '4.22', '4.16', '4.02', '4.48', '4.85', '4.27', '4.12', '4.45', '4.25', '5', '4.32', '4.2', '3.81', '4.5', '3.76', '4.5', '4.45', '4.15', '4.13', '4.46', '4.42']\n",
      "https://www.beeradvocate.com/beer/profile/202/656/?view=beer&sort=&start=450\n",
      "['4.33', '4.7', '3.88', '4.45', '4.35', '4.2', '4.32', '4.24', '4.33', '4.91', '3.88', '4.68', '4.83', '4.03', '4.33', '4.41', '3.5', '4.15', '4.03', '4.13', '4.23', '4.47', '4.48', '4.65', '3.83']\n",
      "https://www.beeradvocate.com/beer/profile/202/656/?view=beer&sort=&start=475\n",
      "['4.77', '4.67', '4.38', '4.3', '4.36', '3.97', '4.3', '4.2', '4.45', '4.65', '4.42', '4.38', '4.23', '4.2', '4.28', '4', '4.38', '4.13', '4.2', '4.12', '3.95', '4', '4.23', '4.18', '4.83']\n",
      "https://www.beeradvocate.com/beer/profile/202/656/?view=beer&sort=&start=500\n",
      "['4.2', '4.2', '4.62', '4.12', '4', '4.17', '4.55', '4.67', '4.41', '3.97', '4.12', '4.72', '4.42', '3.95', '4', '4.37', '4.13', '4.47', '4.08', '4.35', '4.68', '4.71', '4.83', '4.12', '4.03']\n",
      "https://www.beeradvocate.com/beer/profile/202/656/?view=beer&sort=&start=525\n",
      "['3.78', '4.33', '4.39', '2.06', '4.42', '3.43', '3.92', '4.6', '4', '4.08', '4.47', '4.33', '3.75', '4.36', '4.18', '4.33', '4.87', '4.3', '4.5', '4.13', '5', '4.83', '4.08', '4', '4.3']\n",
      "https://www.beeradvocate.com/beer/profile/202/656/?view=beer&sort=&start=550\n",
      "['3.58', '4.39', '4.44', '4.35', '4', '4.46', '4.2', '4.25', '4.2', '4.15', '4.25', '4.07', '4.25', '4', '4.36', '4.47', '4.26', '4.33', '4.13', '3.7', '3.88', '4.33', '4.8', '4.05', '4.1']\n",
      "https://www.beeradvocate.com/beer/profile/202/656/?view=beer&sort=&start=575\n",
      "['4.38', '4.5', '4.3', '4.6', '4.25', '4.48', '4.35', '3.88', '4.1', '4.41', '4.45', '4.52', '4.97', '4.27', '3.68', '4.37', '4.32', '4.12', '4.27', '4.52', '4.3', '4.47', '4.3', '4.8', '4.35']\n",
      "https://www.beeradvocate.com/beer/profile/202/656/?view=beer&sort=&start=600\n",
      "['4.45', '4.08', '4.67', '4.75', '3.85', '4.02', '4.13', '4.03', '4.35', '4.18', '3.92', '4.48', '4.24', '4.42', '4.55', '4.11', '4.32', '4.1', '4.35', '4.5', '4.22', '3.85', '4.72', '4.2', '4.45']\n",
      "https://www.beeradvocate.com/beer/profile/202/656/?view=beer&sort=&start=625\n",
      "['4.45', '3.52', '3.97', '4.3', '4.41', '4.28', '4.42', '4.27', '3.3', '4.56', '4.23', '3.72', '4.25', '3.9', '4.5', '3.97', '3.51', '3.68', '4.45', '3.7', '4.32', '4.23', '4.23', '3.67', '4.29']\n",
      "https://www.beeradvocate.com/beer/profile/202/656/?view=beer&sort=&start=650\n",
      "['3.74', '4.57', '4.32', '4.03', '4.05', '3.98', '4.2', '4.15', '4.05', '3.98', '4.16', '4.22', '3.79', '2.47', '4.3', '4.25', '4.45', '4.62', '4.28', '4.42', '4.35', '4', '4.07', '4.57', '4.08']\n",
      "https://www.beeradvocate.com/beer/profile/202/656/?view=beer&sort=&start=675\n",
      "['3.7', '4.35', '4.25', '2.6', '4.15', '4.12', '4.05', '4.27', '4.07', '3.9', '4.43', '2.87', '4.35', '5', '4.45', '4.42', '4.23', '3.09', '4.18', '3.87', '4.03', '4.62', '4.35', '4.23', '4.35']\n",
      "https://www.beeradvocate.com/beer/profile/202/656/?view=beer&sort=&start=700\n",
      "['3.85', '4.35', '4.35', '4.2', '3.94', '4.13', '4.2', '3.65', '3.8', '4.15', '4.45', '3.88', '4.21', '3.13', '4.65', '5', '3.83', '4.67', '4.88', '3.97', '4.65', '3.96', '4.08', '4.46', '4.09']\n",
      "https://www.beeradvocate.com/beer/profile/202/656/?view=beer&sort=&start=725\n",
      "['4.38', '4.54', '4.88', '4.42', '4.42', '4.44', '4.32', '4.28', '4.22', '5', '4.04', '4.1', '4.58', '4.6', '4.27', '3.51', '3.3', '4.18', '4.58', '3.9', '3.89', '4.38', '4.18', '4.36', '4.37']\n"
     ]
    },
    {
     "name": "stdout",
     "output_type": "stream",
     "text": [
      "https://www.beeradvocate.com/beer/profile/202/656/?view=beer&sort=&start=750\n",
      "['4.7', '4.25', '4.02', '4.12', '4.41', '4.25', '3.85', '3.65', '4.1', '4.54', '3.94', '4.12', '4.23', '4.01', '4.52', '3.98', '4.43', '4.35', '4', '4.45', '3.7', '4.2', '4.73', '4.35', '4.45']\n",
      "https://www.beeradvocate.com/beer/profile/202/656/?view=beer&sort=&start=775\n",
      "['4.95', '4.38', '4.02', '4.77', '4.85', '4.2', '4.31', '4.27', '4.05', '4.03', '3.9', '4.07', '4.45', '4.35', '3.8', '4.24', '4.23', '4.3', '4.18', '3.73', '4.15', '3.32', '4.08', '4.26', '5']\n",
      "https://www.beeradvocate.com/beer/profile/202/656/?view=beer&sort=&start=800\n",
      "['3.6', '4.57', '4.69', '4.68', '4.17', '3.98', '3.97', '4', '4.03', '4.45', '2.91', '4.72', '4.32', '4.35', '4.35', '4.25', '4.27', '4.62', '4.13', '2.53', '4.05', '3.77', '3.9', '4', '4.07']\n",
      "https://www.beeradvocate.com/beer/profile/202/656/?view=beer&sort=&start=825\n",
      "['3.92', '3.84', '3.85', '2.15', '4.43', '3.84', '3.88', '4.15', '4.41', '4.4', '4.12', '4.37', '3.53', '4.31', '4.68', '4.27', '3.88', '4.78', '4.33', '4.33', '4.38', '4.45', '4.3', '4', '3.92']\n",
      "https://www.beeradvocate.com/beer/profile/202/656/?view=beer&sort=&start=850\n",
      "['4.45', '3.48', '4.25', '4.28', '3.83', '4.65', '4.27', '3.18', '4.23', '4.6', '4.77', '3.87', '3.7', '3.85', '3.8', '3.85', '4.62', '4.03', '3.82', '4.89', '3.93', '4.53', '4.22', '3.83', '3.82']\n",
      "https://www.beeradvocate.com/beer/profile/202/656/?view=beer&sort=&start=875\n",
      "['4.49', '3.56', '4.2', '4.1', '4.18', '3.92', '4', '4.43', '4.75', '4.1', '4.36', '4.17', '3.78', '4.2', '4.05', '4.08', '4.44', '4.43', '4.19', '3.67', '3.98', '4.63', '4.35', '5', '4.15']\n",
      "https://www.beeradvocate.com/beer/profile/202/656/?view=beer&sort=&start=900\n",
      "['4.18', '4.13', '4.35', '4.65', '3.83', '4.15', '3.98', '4.05', '4.5', '4.35', '4.67', '4.3', '3.62', '4.3', '4.23', '4.12', '3.62', '4.72', '4.5', '4.46', '4.41', '4.2', '2.86', '3.94', '4.2']\n",
      "https://www.beeradvocate.com/beer/profile/202/656/?view=beer&sort=&start=925\n",
      "['4.33', '4.1', '4.5', '4.55', '4.77', '3.42', '4.05', '4.62', '4.05', '4.33', '4.16', '4.34', '4.42', '4.18', '4.72', '4.34', '3.91', '4', '4.14', '4.35', '4.2', '4.35', '4.06', '4.77', '4.03']\n",
      "https://www.beeradvocate.com/beer/profile/202/656/?view=beer&sort=&start=950\n",
      "['4.39', '4.6', '4.37', '4.08', '4.3', '4.67', '3.65', '4.28', '4.4', '4.47', '4.04', '4.1', '4.08', '4.31', '4.32', '4.5', '4.53', '3.9', '3.84', '4.44', '4.3', '4.38', '4.54', '4.27', '4.32']\n",
      "https://www.beeradvocate.com/beer/profile/202/656/?view=beer&sort=&start=975\n",
      "['2.68', '4.29', '4', '4.35', '4.11', '4.32', '4.57', '4.38', '4.35', '4.92', '3.9', '4.67', '4.82', '4.85', '4.15', '4.68', '4', '3.43', '3.95', '4.2', '4', '4', '3.83', '4.07', '4.1']\n",
      "https://www.beeradvocate.com/beer/profile/202/656/?view=beer&sort=&start=1000\n",
      "['4', '4.35', '4.08', '4.36', '4.17', '2.64', '4.18', '4.5', '4.57', '4.47', '4.17', '4.4', '4.72', '4.5', '3.25', '3.54', '4.57', '3.98', '4.77', '4.32', '4.21', '4.45', '4.3', '4.03', '4.23']\n",
      "https://www.beeradvocate.com/beer/profile/202/656/?view=beer&sort=&start=1025\n",
      "['4.18', '4', '4.25', '4.57', '4.42', '3.98', '4.3', '4.03', '3.85', '4.2', '4', '4.38', '4.35', '4.66', '4.82', '4.65', '4.2', '4.4', '4.17', '3.7', '4.48', '4.1', '4.28', '4.03', '4.33']\n",
      "https://www.beeradvocate.com/beer/profile/202/656/?view=beer&sort=&start=1050\n",
      "['4', '4.18', '4.7', '3.7', '4.42', '4.2', '4', '4.63', '4.36', '4.12', '4.5', '4.5', '4.03', '4.23', '4.65', '4.71', '3.88', '4.58', '4.19', '4.17', '4.7', '4.5', '4.8', '4.32', '4.03']\n",
      "https://www.beeradvocate.com/beer/profile/202/656/?view=beer&sort=&start=1075\n",
      "['3.7', '4.3', '4.2', '4.38', '4.13', '3.95', '4.77', '3.88', '4.2', '3.58', '4.13', '4.2', '4.88', '4.27', '4.62', '4.35', '3.63', '4.08', '4.68', '4.68', '4.08', '3.78', '4.21', '4.63', '4.83']\n",
      "https://www.beeradvocate.com/beer/profile/202/656/?view=beer&sort=&start=1100\n",
      "['5', '4.41', '3.88', '4.47', '4.2', '4.92', '4.15', '4.18', '3.88', '3.75', '4.88', '4.47', '4.2', '4.14', '4.38', '4.2', '3.6', '3.67', '4.35', '5', '4.34', '4.65', '4.47', '4.5', '4.38']\n",
      "https://www.beeradvocate.com/beer/profile/202/656/?view=beer&sort=&start=1125\n",
      "['3.9', '4.1', '4.15', '3.78', '4.62', '4.85', '4.66', '4', '4.43', '3.63', '4.3', '3.67', '4.5', '4.32', '3.5', '3.87', '3.31', '4.67', '4.11', '4', '3.27', '4.05', '4.35', '4.7', '4.36']\n",
      "https://www.beeradvocate.com/beer/profile/202/656/?view=beer&sort=&start=1150\n",
      "['4.03', '3.78', '3.85', '3.92', '4.05', '3.93', '4.75', '4.12', '4.12', '3.88', '4.76', '4.37', '3.83', '4.43', '3.8', '4.7', '4.23', '4', '4.64', '4.53', '4.33', '4', '3.63', '3.97', '4.6']\n",
      "https://www.beeradvocate.com/beer/profile/202/656/?view=beer&sort=&start=1175\n",
      "['3.4', '4.03', '4.38', '4.1', '4.04', '4.03', '3.95', '3.58', '4.53', '4.55', '4.32', '3.81', '3.83', '3.04', '4.38', '4.13', '3.65', '3.88', '4.12', '4.01', '4.54', '4.68', '4.03', '4.14', '3.6']\n",
      "https://www.beeradvocate.com/beer/profile/202/656/?view=beer&sort=&start=1200\n",
      "['4.15', '3.64', '4.28', '4.04', '4.67', '4.35', '4.23', '4.5', '4.09', '4.06', '4.22', '4.83', '3.8', '4.78', '4.17', '4.26', '4.39', '4.5', '4.25', '4.68', '4.3', '4.08', '3.9', '4.5', '4.62']\n",
      "https://www.beeradvocate.com/beer/profile/202/656/?view=beer&sort=&start=1225\n",
      "['4.53', '4.1', '3.87', '4.47', '3.93', '4.26', '4.45', '4.88', '4.35', '4.47', '3.6', '4.29', '4.07', '3.69', '4.33', '4.88', '4.72', '4.5', '3.93', '3.82', '4.21', '4.3', '4.23', '4.38', '3.7']\n",
      "https://www.beeradvocate.com/beer/profile/202/656/?view=beer&sort=&start=1250\n",
      "['4.24', '4.48', '3.97', '3.82', '3.65', '4.25', '4.31', '4.32', '4.59', '4', '4.5', '5', '4.58', '4.18', '4.33', '4.67', '4.12', '2.36', '4.02', '4.63', '4.77', '4.55', '4.08', '4.11', '4.65']\n",
      "https://www.beeradvocate.com/beer/profile/202/656/?view=beer&sort=&start=1275\n",
      "['4.41', '4.33', '4.35', '4.12', '4.6', '4.03', '4.27', '4.43', '4.1', '4.5', '4.13', '4.75', '4.6', '4.6', '4.27', '4.32', '4.32', '4.38', '4.57', '4.67', '4.5', '4.68', '3.85', '4.16', '3.18']\n",
      "https://www.beeradvocate.com/beer/profile/202/656/?view=beer&sort=&start=1300\n",
      "['3.65', '4.38', '4.47', '3.04', '4.47', '3.8', '5', '2.85', '4.2', '4.3', '4.2', '4.7', '4.72', '4.15', '3.99', '4.51', '3.85', '4.23', '4.37', '4.18', '4.37', '4.2', '2.96', '4.97', '4.35']\n",
      "https://www.beeradvocate.com/beer/profile/202/656/?view=beer&sort=&start=1325\n",
      "['3.93', '4.15', '4.42', '4.63', '4.6', '4.73', '4.18', '4.12', '4.38', '3.88', '4.4', '4', '4.27', '3.21', '4.62', '3.56', '4.12', '4.5', '3.31', '4.02', '4', '4.09', '4.53', '3.66', '4.63']\n",
      "https://www.beeradvocate.com/beer/profile/202/656/?view=beer&sort=&start=1350\n",
      "['4.03', '4.02', '4.3', '4.38', '3.68', '4.45', '3.95', '4.1', '4.45', '4.17', '4.62', '4.38', '4.32', '4.13', '4.47', '4.35', '4.75', '4.53', '4.33', '4.54', '4.87', '4.57', '4.2', '3.42', '4.33']\n",
      "https://www.beeradvocate.com/beer/profile/202/656/?view=beer&sort=&start=1375\n",
      "['4.27', '4.2', '3.2', '4.75', '4', '4.38', '4.35', '4.08', '4.47', '4.17', '4.5', '3.23', '3.77', '4.23', '4.1', '4.08', '4.28', '4.45', '4.65', '4', '4.26', '4.5', '4.82', '4', '4.7']\n"
     ]
    },
    {
     "name": "stderr",
     "output_type": "stream",
     "text": [
      "\r",
      "56it [2:31:28, 171.84s/it]"
     ]
    },
    {
     "name": "stdout",
     "output_type": "stream",
     "text": [
      "https://www.beeradvocate.com/beer/profile/202/656/?view=beer&sort=&start=1400\n",
      "['3.65', '4.24', '4.42', '4.15', '4.2', '4.58', '4.97', '4.23', '4.22', '3.92', '4.2']\n",
      "https://www.beeradvocate.com/beer/profile/10272/106724/?view=beer&sort=&start=0\n",
      "['3.75', '3.65', '3.38', '2.9', '3.6', '3.44', '3.35', '2.42', '3.4', '3.03', '3.52', '3.23', '3.31', '3.53', '3.6', '4.31', '4.06', '3.95', '3.53', '3.75', '4', '3.51', '2.99', '2.85', '3.53']\n"
     ]
    },
    {
     "name": "stderr",
     "output_type": "stream",
     "text": [
      "\r",
      "57it [2:31:40, 123.74s/it]"
     ]
    },
    {
     "name": "stdout",
     "output_type": "stream",
     "text": [
      "https://www.beeradvocate.com/beer/profile/10272/106724/?view=beer&sort=&start=25\n",
      "['3.92', '2.71', '3.31', '3.58', '2.79', '2.88', '2.83', '3.07', '2.75']\n"
     ]
    },
    {
     "name": "stderr",
     "output_type": "stream",
     "text": [
      "\r",
      "58it [2:31:46, 88.37s/it] "
     ]
    },
    {
     "name": "stdout",
     "output_type": "stream",
     "text": [
      "https://www.beeradvocate.com/beer/profile/10272/463658/?view=beer&sort=&start=0\n",
      "['3.99', '3.9', '4.13', '3.81', '3.75', '3.91']\n",
      "https://www.beeradvocate.com/beer/profile/4949/52429/?view=beer&sort=&start=0\n",
      "['3.28', '3.59', '2.35', '3.53', '3', '3.61', '3.62', '3.31', '3.43', '2.77', '3.15', '3.78', '3.64', '3.75', '3.62', '3.77', '3.89', '3.23', '3.72', '3.77', '3.51', '2.31', '3.74', '2.46', '2.53']\n",
      "https://www.beeradvocate.com/beer/profile/4949/52429/?view=beer&sort=&start=25\n",
      "['3.79', '3.8', '3.9', '3.9', '3.58', '3.68', '3.16', '3.48', '4.02', '3.6', '3.09', '2.73', '3.31', '4.97', '4.28', '3.29', '3.64', '3.98', '3.6', '3.37', '2.44', '3.11', '2.5', '3', '3.18']\n",
      "https://www.beeradvocate.com/beer/profile/4949/52429/?view=beer&sort=&start=50\n",
      "['3.67', '3.75', '3.71', '3.93', '2.11', '4', '2.83', '4.5', '3.37', '3.55', '3.55', '4.56', '3.13', '3.18', '3.45', '3.47', '3.53', '3.14', '3.67', '3.52', '3.55', '3.08', '3.92', '4', '3.62']\n",
      "https://www.beeradvocate.com/beer/profile/4949/52429/?view=beer&sort=&start=75\n",
      "['2.81', '4.45', '3.57', '3.58', '3.7', '3.53', '2.58', '3.63', '4.2', '2.84', '3.28', '4.25', '3.35', '4.03', '3', '3.8', '3.73', '3.33', '2.98', '3.8', '3.11', '3.38', '3', '2.3', '3.9']\n",
      "https://www.beeradvocate.com/beer/profile/4949/52429/?view=beer&sort=&start=100\n",
      "['3.33', '3.65', '3.54', '3.9', '4.2', '3.6', '3.3', '3.38', '3.48', '3.62', '3.38', '3.58', '3.77', '3.66', '3.28', '3.32', '2.61', '3.68', '2.8', '2.43', '3.18', '3.35', '3.18', '3.68', '4.07']\n",
      "https://www.beeradvocate.com/beer/profile/4949/52429/?view=beer&sort=&start=125\n",
      "['3.65', '4.21', '4', '3.03', '3.2', '4.11', '3.68', '3.97', '3.7', '3.97', '3.65', '3.65', '2.97', '3.68', '3.63', '3.91', '4.34', '3.58', '3.58', '2.95', '3.48', '3.91', '4', '4.22', '3.98']\n",
      "https://www.beeradvocate.com/beer/profile/4949/52429/?view=beer&sort=&start=150\n",
      "['2.9', '3.38', '3.52', '3.3', '3.91', '3.09', '2.53', '2.86', '3.06', '4.2', '3.1', '4.42', '2.9', '4.62', '4', '3.8', '4.48', '3.44', '3.72', '3.7', '3.62', '3.75', '3.35', '3.87', '2.29']\n",
      "https://www.beeradvocate.com/beer/profile/4949/52429/?view=beer&sort=&start=175\n",
      "['2.41', '4', '4.07', '3.97', '3.6', '3.63', '3.23', '3.74', '3.83', '3.75', '2.79', '4.22', '3.15', '3.53', '3.93', '3.2', '3.13', '3.62', '3.15', '3.6', '3.95', '4.24', '3.45', '3.27', '2.01']\n"
     ]
    },
    {
     "name": "stderr",
     "output_type": "stream",
     "text": [
      "\r",
      "59it [2:32:38, 77.58s/it]"
     ]
    },
    {
     "name": "stdout",
     "output_type": "stream",
     "text": [
      "https://www.beeradvocate.com/beer/profile/4949/52429/?view=beer&sort=&start=200\n",
      "['3.28', '2.58', '3.75', '2.45', '3.28', '3.78', '3', '3.18', '4.17', '3.5', '2.77', '4.21']\n",
      "https://www.beeradvocate.com/beer/profile/628/2197/?view=beer&sort=&start=0\n",
      "['3.25', '1.87', '2.96', '4.38', '2.78', '2.92', '2.94', '2.96', '2.78', '3.02', '3.15', '3.13', '2.69', '2.48', '3.5', '3.11', '3.35', '2.95', '3.3', '2.65', '3', '1.16', '3.68', '2.46', '2.91']\n",
      "https://www.beeradvocate.com/beer/profile/628/2197/?view=beer&sort=&start=25\n",
      "['3.06', '2.23', '3.08', '3.13', '2.33', '4.02', '3.2', '2.68', '3.31', '3', '2.22', '2.09', '1.92', '3.37', '3.38', '2.85', '3.42', '2.68', '3.8', '3.17', '3.47', '3.24', '3.13', '2.8', '3.44']\n",
      "https://www.beeradvocate.com/beer/profile/628/2197/?view=beer&sort=&start=50\n",
      "['2.68', '2.03', '3.56', '2.75', '3.38', '3.61', '4.13', '3.75', '2', '3.57', '3.32', '2.33', '2.3', '2.75', '3.63', '2.98', '1.75', '3.03', '2.94', '2.67', '3.05', '2.7', '3.43', '3.02', '2.58']\n"
     ]
    },
    {
     "name": "stderr",
     "output_type": "stream",
     "text": [
      "\r",
      "60it [2:33:01, 61.06s/it]"
     ]
    },
    {
     "name": "stdout",
     "output_type": "stream",
     "text": [
      "https://www.beeradvocate.com/beer/profile/628/2197/?view=beer&sort=&start=75\n",
      "['1.74', '2.78', '2.56', '3.48', '3.5', '3.87', '3.3', '3.07', '2.8', '3.6']\n",
      "https://www.beeradvocate.com/beer/profile/628/7359/?view=beer&sort=&start=0\n",
      "['2.67', '3.74', '2.52', '2.85', '2.86', '3.3', '3.08', '2.45', '2.59', '3', '3.1', '2.83', '3.18', '2.88', '3.08', '3.05', '3.58', '3.08', '3.1', '2.51', '3.12', '2.6', '2.13', '1.8', '3.3']\n",
      "https://www.beeradvocate.com/beer/profile/628/7359/?view=beer&sort=&start=25\n",
      "['3.11', '2.06', '2.93', '2.66', '3.04', '2.53', '1.45', '3.14', '2.84', '2.88', '2.45', '3.58', '2.73', '2.49', '2.18', '3.35', '2.78', '2.53', '3.53', '3.06', '1.6', '3.07', '2.69', '2.83', '3.09']\n"
     ]
    },
    {
     "name": "stderr",
     "output_type": "stream",
     "text": [
      "\r",
      "61it [2:33:18, 47.84s/it]"
     ]
    },
    {
     "name": "stdout",
     "output_type": "stream",
     "text": [
      "https://www.beeradvocate.com/beer/profile/628/7359/?view=beer&sort=&start=50\n",
      "['2.83', '2.33', '2.66', '3.92', '3.17', '2', '3.29', '2.38', '4.05', '3.32', '2.6', '1.93', '2.46', '3.23', '3.28', '1.98', '1.47', '2.23', '1.99', '2.78', '2.5', '3.18', '2.77']\n",
      "https://www.beeradvocate.com/beer/profile/628/5119/?view=beer&sort=&start=0\n",
      "['2.12', '3.55', '2.46', '3.05', '3.8', '3.15', '3.37', '3.5', '3.33', '3.3', '2.9', '3.1', '2.56', '4.1', '3.57', '3.33', '3.48', '3.45', '4.2', '3.47', '3.62', '2.53', '2.81', '3.59', '1.37']\n",
      "https://www.beeradvocate.com/beer/profile/628/5119/?view=beer&sort=&start=25\n",
      "['2.84', '3.65', '3.65', '3.53', '3.46', '2.48', '3.32', '2.98', '2.4', '3.23', '2.57', '3.58', '4.32', '3.47', '3.41', '3.78', '3.46', '3.45', '3.43', '3.38', '3.13', '3.38', '3.65', '3.07', '2.18']\n",
      "https://www.beeradvocate.com/beer/profile/628/5119/?view=beer&sort=&start=50\n",
      "['3.26', '3.43', '2.98', '3.66', '3.01', '3.7', '3.76', '3.88', '3.57', '3.59', '3.28', '3.06', '3.75', '4.03', '3.57', '3.51', '3.58', '3.33', '3.48', '2.76', '2.98', '3.37', '3.24', '3.06', '2.33']\n"
     ]
    },
    {
     "name": "stderr",
     "output_type": "stream",
     "text": [
      "\r",
      "62it [2:33:40, 40.31s/it]"
     ]
    },
    {
     "name": "stdout",
     "output_type": "stream",
     "text": [
      "https://www.beeradvocate.com/beer/profile/628/5119/?view=beer&sort=&start=75\n",
      "['3.88', '3.31', '4.39']\n",
      "https://www.beeradvocate.com/beer/profile/498/3335/?view=beer&sort=&start=0\n",
      "['3.06', '3.61', '3.2', '3.25', '3.17', '3.75', '1.92', '2.84', '2.9', '5', '3.6', '2.97', '2.71', '2.06', '4.28', '3.5', '4.84', '5', '2.94', '3.43', '5', '1.83', '2.86', '2.83', '2.78']\n",
      "https://www.beeradvocate.com/beer/profile/498/3335/?view=beer&sort=&start=25\n",
      "['2.84', '5', '2', '2.46', '2.25', '2.72', '2.95', '2.61', '1.7', '2.58', '3.15', '3.32', '3.42', '2.6', '3.85', '2.53', '2.85', '2.29', '2.13', '3.2', '2.91', '3.25', '3.04', '2.67', '2.56']\n",
      "https://www.beeradvocate.com/beer/profile/498/3335/?view=beer&sort=&start=50\n",
      "['1.86', '3.84', '3.42', '4.02', '3.75', '2.81', '3.03', '2.16', '2.7', '2.35', '2.03', '2.43', '1.9', '3.1', '2.26', '2.67', '3.07', '1.51', '2.18', '3.75', '2.67', '2.42', '2.73', '2.44', '2.75']\n",
      "https://www.beeradvocate.com/beer/profile/498/3335/?view=beer&sort=&start=75\n",
      "['3.91', '2.48', '3.47', '2.93', '1.72', '2.18', '2.91', '2.91', '3.03', '3.1', '2', '3.03', '2.96', '3.23', '3.73', '3.42', '2.28', '2.95', '2.74', '3.47', '1.92', '3.03', '1.35', '2.5', '3.1']\n"
     ]
    },
    {
     "name": "stderr",
     "output_type": "stream",
     "text": [
      "\r",
      "63it [2:34:09, 36.91s/it]"
     ]
    },
    {
     "name": "stdout",
     "output_type": "stream",
     "text": [
      "https://www.beeradvocate.com/beer/profile/498/3335/?view=beer&sort=&start=100\n",
      "['3.2', '2.37', '2.65', '2.68', '3.15', '2.14', '3.23', '2.98', '3.27', '2.82', '2.63', '2.26', '2.56', '2.21', '1.7', '2.58', '3.35', '2.55', '1.33', '2.28']\n",
      "https://www.beeradvocate.com/beer/profile/83/248/?view=beer&sort=&start=0\n",
      "['3.71', '3.71', '3.48', '3.87', '4.32', '4.08', '4.17', '3.77', '3.76', '3.84', '3.3', '4.22', '3.51', '4.74', '4.1', '4.04', '5', '4.88', '3.75', '4.09', '1.99', '3.95', '3.94', '3.98', '4.4']\n",
      "https://www.beeradvocate.com/beer/profile/83/248/?view=beer&sort=&start=25\n",
      "['3.85', '4.04', '3.99', '4', '3.75', '4.02', '3.84', '4', '4.74', '3.84', '3.93', '3.99', '4.59', '3.84', '4.9', '3.51', '4', '3.77', '3.09', '2.98', '2.47', '3.77', '4.25', '1.8', '3.78']\n",
      "https://www.beeradvocate.com/beer/profile/83/248/?view=beer&sort=&start=50\n",
      "['3.8', '1.61', '3.48', '3.84', '3.98', '3.97', '3.7', '4.94', '3.34', '4.43', '3.5', '3.75', '4', '4', '3.76', '3.31', '3.51', '4.67', '3.98', '4.02', '4.06', '4.03', '4.16', '3.85', '3.87']\n",
      "https://www.beeradvocate.com/beer/profile/83/248/?view=beer&sort=&start=75\n",
      "['3.41', '3.65', '4.06', '4.35', '3.7', '4.52', '3.56', '3.95', '3.92', '3.82', '3.69', '3.63', '4', '3.65', '4.04', '3.64', '3.87', '3.87', '4.19', '4.41', '3.87', '3.9', '3.69', '3.42', '3.92']\n",
      "https://www.beeradvocate.com/beer/profile/83/248/?view=beer&sort=&start=100\n",
      "['3.56', '3.67', '4.38', '3.8', '3.3', '3.23', '4.71', '3.79', '3.67', '3.73', '4.65', '2.73', '4', '4.09', '2.44', '3.94', '3.84', '3.89', '2.68', '3.36', '3.1', '3.94', '3.28', '3.78', '3.87']\n",
      "https://www.beeradvocate.com/beer/profile/83/248/?view=beer&sort=&start=125\n",
      "['4.29', '2.81', '4.07', '4.14', '3.77', '3.59', '3.83', '3.28', '3.57', '4.06', '4.21', '3.94', '4.17', '4.39', '3.74', '4.52', '3.85', '3.58', '3.99', '4.22', '3.86', '4.1', '3.82', '3.31', '4.72']\n",
      "https://www.beeradvocate.com/beer/profile/83/248/?view=beer&sort=&start=150\n",
      "['4.52', '4.65', '3.74', '3.24', '3.85', '4.07', '3.41', '3.85', '3.42', '4.06', '3.93', '3.71', '3.98', '3.56', '3.46', '4.41', '4.74', '4.38', '4.22', '3.5', '3.5', '3.62', '4.76', '3.8', '3.75']\n",
      "https://www.beeradvocate.com/beer/profile/83/248/?view=beer&sort=&start=175\n",
      "['2.99', '4.03', '3.78', '4.13', '4.69', '3.88', '4.11', '4.9', '4.12', '3.59', '3.69', '3.45', '2.9', '3.77', '4.51', '4.06', '2.06', '3.82', '3.26', '4.06', '4.67', '4.7', '2.33', '3.75', '4.34']\n",
      "https://www.beeradvocate.com/beer/profile/83/248/?view=beer&sort=&start=200\n",
      "['3.51', '3.76', '2.23', '3.58', '3.95', '5', '3.57', '3.64', '4.03', '3.5', '3.71', '3.9', '3.06', '4.04', '5', '3.92', '3.86', '4.4', '4.29', '2.96', '4.86', '4.3', '1.73', '3.5', '3.9']\n",
      "https://www.beeradvocate.com/beer/profile/83/248/?view=beer&sort=&start=225\n",
      "['3.54', '4.24', '4', '4.21', '4.25', '4.09', '3', '4.5', '3.5', '3.5', '3.86', '5', '3.63', '4.37', '4', '3.5', '4.5', '4.25', '3.53', '4.44', '4.5', '4', '3.49', '3.8', '4.25']\n",
      "https://www.beeradvocate.com/beer/profile/83/248/?view=beer&sort=&start=250\n",
      "['4.4', '3.9', '3.82', '3.67', '3.85', '4.01', '4.12', '3.71', '3.12', '3.75', '3.94', '4.33', '4.35', '3.81', '4.47', '3.53', '3.68', '3.79', '4.58', '3.42', '3.81', '4.05', '3.68', '3.43', '3.9']\n",
      "https://www.beeradvocate.com/beer/profile/83/248/?view=beer&sort=&start=275\n",
      "['3.7', '3.53', '4.06', '4.79', '3.67', '3.42', '4.4', '3.86', '3.88', '3.49', '4.1', '3.76', '4.81', '4.64', '3.5', '3.95', '3.75', '5', '3.1', '4', '3.75', '3.55', '4.28', '3.66', '4.4']\n",
      "https://www.beeradvocate.com/beer/profile/83/248/?view=beer&sort=&start=300\n",
      "['3.97', '4.18', '4.29', '4.99', '3.61', '3.5', '3.65', '4.03', '3.94', '3.51', '3.49', '3.61', '3.5', '3.75', '4.05', '4.07', '3.92', '3.84', '4.06', '3.65', '4.02', '3.7', '4', '3.55', '3.9']\n",
      "https://www.beeradvocate.com/beer/profile/83/248/?view=beer&sort=&start=325\n",
      "['3.04', '3.88', '3.91', '4.1', '2.74', '3.5', '4.02', '4.9', '3.84', '3.65', '3.78', '3.65', '3.68', '4.6', '3.67', '5', '3.51', '3.63', '3.79', '3.7', '3.71', '3.24', '3.59', '3.94', '3.23']\n",
      "https://www.beeradvocate.com/beer/profile/83/248/?view=beer&sort=&start=350\n",
      "['3.9', '3.56', '3.77', '3.45', '3.85', '3.38', '2.6', '3.59', '3.5', '3.63', '3.83', '3.42', '3.83', '3.95', '3.85', '1.6', '4.17', '4.02', '3.82', '4', '3.62', '3.29', '3.83', '3.7', '3.98']\n",
      "https://www.beeradvocate.com/beer/profile/83/248/?view=beer&sort=&start=375\n",
      "['3.58', '3.3', '3.88', '3.3', '3.95', '4.47', '3.6', '3.58', '4', '3.7', '3.53', '3.53', '4.29', '3', '3.25', '4.14', '3.89', '4.05', '3', '4.17', '4.03', '3.65', '4.14', '3.88', '3.35']\n",
      "https://www.beeradvocate.com/beer/profile/83/248/?view=beer&sort=&start=400\n",
      "['3.96', '3.88', '3.68', '3.16', '3.57', '3.54', '3.56', '4', '3.47', '4.38', '3.72', '2.73', '3.53', '3.17', '3', '3.62', '4.12', '3.89', '3.49', '3.21', '1.4', '3.33', '2.4', '3.85', '3.9']\n",
      "https://www.beeradvocate.com/beer/profile/83/248/?view=beer&sort=&start=425\n",
      "['3.78', '3.09', '3.46', '3.97', '4.03', '4.35', '3.88', '4', '3.31', '3.79', '3.91', '4.03', '3.82', '3.97', '4.29', '4.45', '3.49', '4.2', '3.98', '4.16', '4.03', '4.7', '3.79', '3.7', '3.28']\n",
      "https://www.beeradvocate.com/beer/profile/83/248/?view=beer&sort=&start=450\n",
      "['3.85', '4.5', '4.36', '3.38', '3.77', '4.13', '2.93', '3.62', '3.55', '2.73', '3.72', '3.88', '4.21', '4', '4', '4.32', '3.7', '3.7', '2.92', '3.31', '3.7', '3.58', '3.82', '4.05', '4.22']\n",
      "https://www.beeradvocate.com/beer/profile/83/248/?view=beer&sort=&start=475\n",
      "['3.56', '3.75', '3.43', '3.88', '3.88', '3.67', '4.21', '3.82', '4.02', '3.6', '3.65', '3.9', '3.76', '3.9', '3.38', '3.74', '3.98', '3.77', '3.7', '3.57', '3.37', '3.6', '3.62', '3.6', '4']\n",
      "https://www.beeradvocate.com/beer/profile/83/248/?view=beer&sort=&start=500\n",
      "['3.96', '3.65', '4', '3.74', '3.7', '3.85', '3.15', '3.87', '3.83', '4.23', '4.08', '2.85', '4.3', '3.94', '3.58', '3.98', '4.05', '3.42', '3.48', '3.67', '3.93', '3.48', '4', '3.98', '4.16']\n",
      "https://www.beeradvocate.com/beer/profile/83/248/?view=beer&sort=&start=525\n",
      "['3.73', '3.5', '4.23', '4', '4', '2.48', '3.92', '4.12', '4.05', '3.8', '4.88', '4.06', '3.15', '3.38', '4', '2.66', '4.55', '3.95', '3.43', '4.18', '3.61', '4.9', '4.33', '4.2', '3.65']\n",
      "https://www.beeradvocate.com/beer/profile/83/248/?view=beer&sort=&start=550\n",
      "['3.65', '3.22', '4.17', '4.09', '3.7', '3.25', '3.08', '3.83', '3.91', '3.75', '3.41', '3.08', '4.18', '3.88', '3.33', '3.5', '3.93', '3.2', '3.85', '3.62', '3.06', '3.58', '2.16', '3.42', '3.82']\n",
      "https://www.beeradvocate.com/beer/profile/83/248/?view=beer&sort=&start=575\n",
      "['3.62', '3.83', '3.53', '3.63', '4.1', '3.6', '3.15', '3.85', '3.58', '4.13', '3.95', '4.1', '3.9', '3.95', '3.2', '3.95', '4.35', '3.47', '2.26', '4.42', '4.55', '3.34', '3.28', '3.8', '4.22']\n",
      "https://www.beeradvocate.com/beer/profile/83/248/?view=beer&sort=&start=600\n",
      "['4.3', '4.17', '3.95', '3.93', '3.88', '4.8', '4.05', '4.22', '4.08', '4.3', '3.8', '4.15', '3.94', '4.15', '3.46', '3.32', '3.61', '4', '3.85', '4.1', '4.09', '4.08', '3.92', '3.92', '3.96']\n",
      "https://www.beeradvocate.com/beer/profile/83/248/?view=beer&sort=&start=625\n",
      "['4.18', '3', '4.76', '3.98', '3.44', '4.42', '3.89', '3.81', '4.07', '4.14', '4.1', '3.77', '3.98', '4.43', '4', '4.1', '3.98', '3.92', '3.9', '3.62', '4.09', '3.8', '3.43', '4', '3.34']\n",
      "https://www.beeradvocate.com/beer/profile/83/248/?view=beer&sort=&start=650\n",
      "['3.48', '3.41', '3.95', '3.41', '3.85', '2.77', '3.98', '3.07', '3.75', '3.68', '3.61', '4.47', '4.42', '4.08', '3.72', '3.7', '3.93', '3.91', '3.29', '4.45', '4.13', '3.71', '3.92', '4.75', '4.9']\n",
      "https://www.beeradvocate.com/beer/profile/83/248/?view=beer&sort=&start=675\n",
      "['4.54', '4.06', '4.65', '4.63', '2.63', '4.02', '3.73', '2.83', '3.65', '4.2', '3.65', '4.29', '3.73', '3.45', '3.8', '3.6', '3.22', '3.95', '3.69', '3.88', '2.2', '3.68', '3.86', '3.48', '3.75']\n",
      "https://www.beeradvocate.com/beer/profile/83/248/?view=beer&sort=&start=700\n",
      "['4', '4.41', '4.03', '3.56', '4.47', '3.48', '3.98', '5', '4.33', '3.68', '3.86', '3.98', '4.01', '3.78', '3.09', '3.75', '3.38', '4.03', '3.94', '3.85', '2.16', '4.18', '4.6', '4.1', '3.83']\n",
      "https://www.beeradvocate.com/beer/profile/83/248/?view=beer&sort=&start=725\n",
      "['4.07', '3.65', '3.73', '4.12', '4.01', '3.9', '3.9', '3.62', '3.98', '3.53', '3.6', '3.73', '3.57', '4.1', '3.8', '3.48', '3.48', '3.98', '4.17', '3.93', '3.01', '4.12', '3.73', '3.75', '4.35']\n"
     ]
    },
    {
     "name": "stdout",
     "output_type": "stream",
     "text": [
      "https://www.beeradvocate.com/beer/profile/83/248/?view=beer&sort=&start=750\n",
      "['4', '3', '3.17', '3.98', '2.91', '3.92', '3.6', '4.88', '3.83', '4.4', '4.12', '4.13', '3.83', '3.92', '4.1', '2.52', '4.67', '3.2', '3.66', '3.8', '4.25', '4.5', '3.39', '3.85', '3.73']\n",
      "https://www.beeradvocate.com/beer/profile/83/248/?view=beer&sort=&start=775\n",
      "['3.9', '3.88', '3.77', '3.85', '3.91', '4.02', '4.12', '3.78', '3.82', '3.47', '3.2', '4.07', '3.47', '4.02', '3.98', '4.2', '4.23', '4.1', '4', '3.98', '3.87', '3.9', '3.73', '4.03', '3.97']\n",
      "https://www.beeradvocate.com/beer/profile/83/248/?view=beer&sort=&start=800\n",
      "['4.35', '3.82', '3.44', '4.49', '3.95', '3.95', '3.98', '4.65', '3.77', '3.53', '3.72', '4.25', '3.72', '3.99', '3.64', '4.54', '4.33', '3.47', '4.05', '4.11', '3.92', '3.57', '3.99', '3.08', '3.82']\n",
      "https://www.beeradvocate.com/beer/profile/83/248/?view=beer&sort=&start=825\n",
      "['3.14', '3.82', '3.26', '3.41', '3.75', '3.95', '4.05', '3.9', '4.1', '3.34', '3.4', '4.08', '4.15', '3.71', '3.75', '3.96', '3.95', '4', '3.27', '3.72', '4.1', '4.04', '4.27', '4', '4.35']\n",
      "https://www.beeradvocate.com/beer/profile/83/248/?view=beer&sort=&start=850\n",
      "['3.8', '4.59', '4.94', '3.25', '3.2', '3.84', '3.48', '3.98', '4.21', '4.55', '3.9', '3.53', '3.27', '3.92', '3.83', '3.95', '4.12', '4.85', '3.78', '3.78', '4.28', '4.17', '3.93', '3.81', '4.55']\n",
      "https://www.beeradvocate.com/beer/profile/83/248/?view=beer&sort=&start=875\n",
      "['3.88', '4.1', '3.34', '4.22', '4.19', '3.33', '3.88', '3.95', '4.02', '3.95', '3.08', '3.2', '4.52', '3.18', '3.59', '2.38', '3.85', '3.5', '4.42', '3.92', '3.56', '4.37', '4.1', '3.58', '4.12']\n",
      "https://www.beeradvocate.com/beer/profile/83/248/?view=beer&sort=&start=900\n",
      "['3.78', '3.63', '3.75', '3.78', '3.7', '4', '3.84', '3.79', '3.72', '3.77', '4', '4.13', '4.13', '4.23', '2.56', '4.07', '4.03', '4.37', '3.99', '4.36', '4', '3.63', '4.22', '3.97', '3.42']\n",
      "https://www.beeradvocate.com/beer/profile/83/248/?view=beer&sort=&start=925\n",
      "['4.32', '4', '3.97', '3.4', '3.63', '4.35', '4.17', '3.63', '4.5', '3.73', '4.1', '2.58', '4.35', '3.82', '3.63', '3.88', '3.88', '3.93', '3.5', '3.7', '4.2', '2.74', '3.85', '3.68', '3.93']\n",
      "https://www.beeradvocate.com/beer/profile/83/248/?view=beer&sort=&start=950\n",
      "['4.97', '3.38', '3.82', '3.34', '3.75', '3.8', '4', '3.73', '3.94', '3.9', '4.85', '3.28', '4', '3.8', '3.78', '1.78', '3.95', '3.8', '3.75', '3.87', '4.08', '3.98', '4', '3.88', '3.62']\n",
      "https://www.beeradvocate.com/beer/profile/83/248/?view=beer&sort=&start=975\n",
      "['3.65', '3.53', '3.65', '3.62', '4.03', '3.95', '3.81', '3.72', '4.13', '3.61', '3.56', '3.95', '3.7', '3.67', '3.77', '3.65', '3.91', '4.35', '4.7', '4.27', '4.68', '3.43', '3.95', '3.46', '3.8']\n",
      "https://www.beeradvocate.com/beer/profile/83/248/?view=beer&sort=&start=1000\n",
      "['3.77', '3.68', '4.1', '4.14', '4.57', '2.88', '4.17', '4.32', '3.43', '4.18', '4.12', '3.53', '3.37', '3.7', '2.86', '4.57', '3.2', '3.9', '4.46', '4.17', '4.34', '4.09', '4.2', '4.29', '4.18']\n",
      "https://www.beeradvocate.com/beer/profile/83/248/?view=beer&sort=&start=1025\n",
      "['3.85', '3.48', '3.36', '2.98', '4.1', '4.35', '3.53', '3.8', '3.63', '3.45', '3.6', '3.72', '2.78', '4.25', '3.97', '4.45', '4.55', '3.88', '4.3', '4.1', '3.68', '4.24', '3.88', '3.12', '4.1']\n",
      "https://www.beeradvocate.com/beer/profile/83/248/?view=beer&sort=&start=1050\n",
      "['4.27', '4.84', '3.62', '3.97', '2.41', '3.45', '3.95', '3.8', '3.66', '3.88', '4.8', '4.5', '3.87', '3.66', '3.85', '4.33', '4.33', '5', '3.18', '3.75', '3.82', '4.07', '4.15', '3.46', '3.88']\n",
      "https://www.beeradvocate.com/beer/profile/83/248/?view=beer&sort=&start=1075\n",
      "['4.28', '4.14', '3.36', '3.95', '3.85', '4.25', '4.02', '3.8', '4.66', '3.31', '3.88', '3.33', '3.9', '3.8', '3.67', '4.1', '3.7', '4.03', '4.2', '4.8', '3.84', '3.5', '3.78', '3.93', '3.65']\n",
      "https://www.beeradvocate.com/beer/profile/83/248/?view=beer&sort=&start=1100\n",
      "['3.31', '4.13', '4.15', '3.53', '3.83', '3.95', '4.88', '3.76', '3.88', '3.75', '3.92', '4.12', '1.43', '3.67', '3.45', '4.1', '3.16', '3.4', '3.82', '4.42', '3.93', '3.45', '3.57', '3.8', '4.3']\n",
      "https://www.beeradvocate.com/beer/profile/83/248/?view=beer&sort=&start=1125\n",
      "['3.73', '3.47', '3.88', '4.3', '3.92', '3.8', '3.58', '3.92', '3.85', '3.31', '3.63', '3.77', '3.85', '4.25', '4.48', '3.68', '3.52', '4.02', '3.6', '4.15', '3.85', '4.22', '3.92', '4.14', '4.1']\n",
      "https://www.beeradvocate.com/beer/profile/83/248/?view=beer&sort=&start=1150\n",
      "['3.82', '4.01', '3.68', '3.95', '4.1', '4.32', '3.85', '2.86', '4.75', '4.07', '3.43', '4.1', '4.09', '3.78', '4.07', '4.47', '3.65', '4.08', '4.43', '4.2', '4.45', '3.95', '4.12', '4.56', '4']\n",
      "https://www.beeradvocate.com/beer/profile/83/248/?view=beer&sort=&start=1175\n",
      "['3.8', '3.04', '4.01', '3.47', '4.15', '4.8', '3.75', '2.37', '3.75', '4.03', '3.65', '4.32', '3.7', '3.65', '3.23', '3.83', '3.48', '4.04', '3.51', '4.05', '3.85', '3.53', '4', '4.28', '3.53']\n",
      "https://www.beeradvocate.com/beer/profile/83/248/?view=beer&sort=&start=1200\n",
      "['4.05', '3.68', '3.22', '3.85', '3.53', '3.83', '4.1', '3.56', '3.24', '3.83', '3.63', '4.19', '3.78', '3.21', '4.32', '3.72', '2.9', '4.58', '4', '3.73', '3.4', '3.78', '3.3', '4', '4.4']\n",
      "https://www.beeradvocate.com/beer/profile/83/248/?view=beer&sort=&start=1225\n",
      "['3.98', '3.17', '3.9', '3.3', '3.83', '3.3', '3.5', '2.81', '3.72', '3.58', '3.65', '3.78', '4.1', '3.2', '4.37', '4.25', '3.36', '3.7', '3.83', '4.97', '4.03', '3.78', '4', '4.9', '3.79']\n",
      "https://www.beeradvocate.com/beer/profile/83/248/?view=beer&sort=&start=1250\n",
      "['4', '3.8', '3.87', '3.8', '3.87', '4.29', '2.86', '3.43', '3.84', '4.62', '2.66', '3.48', '3.76', '3.15', '3.42', '4.42', '3.87', '3.73', '3.88', '3.77', '3.2', '3.55', '4.3', '3.88', '4.48']\n",
      "https://www.beeradvocate.com/beer/profile/83/248/?view=beer&sort=&start=1275\n",
      "['3.71', '4.14', '3.92', '2.63', '4.1', '3.28', '1.3', '4.12', '3.5', '4.35', '4.1', '4', '4.06', '3.16', '4', '4.47', '4', '3.53', '3.85', '3.68', '3.97', '3.23', '3.85', '3.92', '3.57']\n",
      "https://www.beeradvocate.com/beer/profile/83/248/?view=beer&sort=&start=1300\n",
      "['2.55', '3.67', '3.66', '3.8', '4.85', '4.5', '3', '3.05', '4.55', '3.9', '3.87', '2.11', '2.57', '3.74', '3.82', '3.1', '3.6', '4.04', '3.91', '3.27', '3.96', '3.5', '3.86', '4', '4.5']\n",
      "https://www.beeradvocate.com/beer/profile/83/248/?view=beer&sort=&start=1325\n",
      "['4.25', '4.16', '3.5', '3.68', '4.62', '4.27', '3.67', '3.39', '4', '3.85', '4.01', '3.68', '3.6', '3.88', '3.85', '3.77', '3.93', '4.03', '3.6', '4.02', '3.6', '3.93', '4.04', '3.72', '4']\n",
      "https://www.beeradvocate.com/beer/profile/83/248/?view=beer&sort=&start=1350\n",
      "['4.15', '3.85', '3.98', '3.5', '4.05', '3.68', '4.75', '4', '4.32', '3.88', '4', '4.23', '4.49', '3.48', '3.93', '4.22', '3.85', '4', '3.02', '3.53', '3.65', '3.72', '2.9', '4.1', '4.13']\n",
      "https://www.beeradvocate.com/beer/profile/83/248/?view=beer&sort=&start=1375\n",
      "['3.55', '3.68', '4.23', '4.12', '4', '3.02', '3.55', '4.45', '3.8', '4.3', '3.91', '4.32', '4', '4.1', '4.4', '4.37', '4', '3', '4.22', '4.21', '2.77', '3.55', '4.8', '4.35', '4.17']\n",
      "https://www.beeradvocate.com/beer/profile/83/248/?view=beer&sort=&start=1400\n",
      "['4.32', '3.51', '4.47', '3.95', '3.93', '3.93', '3.78', '4.2', '4.05', '4', '4.53', '4.25', '4.42', '4.38', '4', '3.83', '3.54', '3.7', '3.94', '4.23', '3.76', '3.98', '4.48', '4.22', '4.3']\n",
      "https://www.beeradvocate.com/beer/profile/83/248/?view=beer&sort=&start=1425\n",
      "['3.5', '3.85', '3.88', '4.38', '4.43', '4.3', '4.27', '3.95', '4.17', '3.8', '4.52', '4.42', '3.9', '4', '3.87', '4.05', '4', '4.25', '4.08', '3.63', '4.07', '4.35', '4.08', '4.05', '3.93']\n",
      "https://www.beeradvocate.com/beer/profile/83/248/?view=beer&sort=&start=1450\n",
      "['4.15', '4.07', '3.93', '3.68', '4.33', '4.22', '4.03', '4.35', '3.63', '4.03', '2.62', '4.07', '4.25', '3.97', '4.3', '4.15', '4.3', '3.48', '4.35', '3.8', '4.1', '3.88', '3.78', '3.61', '3.83']\n",
      "https://www.beeradvocate.com/beer/profile/83/248/?view=beer&sort=&start=1475\n",
      "['4.15', '3.26', '4.07', '3.85', '3.33', '4', '3.8', '4.2', '3.53', '4.33', '4.1', '3.36', '3.71', '4', '2.7', '3.9', '3.91', '4', '3.93', '3.68', '3.74', '3.8', '3.97', '4.15', '3.8']\n",
      "https://www.beeradvocate.com/beer/profile/83/248/?view=beer&sort=&start=1500\n",
      "['4.02', '3.75', '3.52', '4.1', '4.07', '4.44', '3.97', '1.57', '4', '3.53', '4.02', '3.88', '4.51', '4.2', '3.68', '4', '3.4', '3.11', '3.75', '3.93', '3.95', '3.3', '4.16', '4', '3.98']\n"
     ]
    },
    {
     "name": "stdout",
     "output_type": "stream",
     "text": [
      "https://www.beeradvocate.com/beer/profile/83/248/?view=beer&sort=&start=1525\n",
      "['3.68', '4.15', '3.83', '4.2', '4.21', '4.12', '4', '4.02', '3.43', '3.78', '3.58', '4.44', '3.91', '4', '4.27', '4.15', '4.18', '3.88', '4.25', '4.83', '3.63', '4.18', '4.1', '3.82', '4.03']\n",
      "https://www.beeradvocate.com/beer/profile/83/248/?view=beer&sort=&start=1550\n",
      "['3.13', '3.91', '3.9', '3.63', '3.56', '2.91', '3.45', '4.22', '3.92', '3.5', '4.05', '4.23', '4', '4.4', '4.04', '3.75', '4.1', '3.97', '3.68', '4.05', '3.86', '3.86', '3.18', '3.93', '3.36']\n",
      "https://www.beeradvocate.com/beer/profile/83/248/?view=beer&sort=&start=1575\n",
      "['4.72', '2.33', '4.22', '4.06', '3.92', '3.57', '4.08', '3.88', '4.03', '4.07', '3.85', '4.03', '4.82', '3.62', '4.25', '4.28', '4.43', '4.25', '3.87', '4.18', '4.38', '3.8', '3.19', '4.28', '4.32']\n",
      "https://www.beeradvocate.com/beer/profile/83/248/?view=beer&sort=&start=1600\n",
      "['4.47', '3.78', '4.08', '4.45', '4.05', '3.9', '3.97', '4.38', '4.29', '4.01', '3.97', '4.15', '4.6', '4.33', '4.2', '4.12', '3.79', '3.79', '4.32', '4.4', '4.75', '4.38', '3.77', '3.6', '3.71']\n",
      "https://www.beeradvocate.com/beer/profile/83/248/?view=beer&sort=&start=1625\n",
      "['4.7', '4.85', '4', '3.68', '2.02', '4.6', '3.56', '4.05', '4.04', '4.23', '4.95', '4.22', '4.4', '4.35', '3.88', '4.33', '3.45', '4.42', '3.53', '4.1', '3.95', '3.49', '3.78', '4.5', '4.42']\n",
      "https://www.beeradvocate.com/beer/profile/83/248/?view=beer&sort=&start=1650\n",
      "['4.3', '3.9', '3.86', '4.7', '3.31', '4.15', '3.31', '3.96', '4.3', '3.65', '4.35', '4.07', '2.09', '4.72', '4.22', '4.53', '4.09', '3.63', '4.68', '4.03', '3.64', '4.02', '4.46', '4.13', '2.51']\n",
      "https://www.beeradvocate.com/beer/profile/83/248/?view=beer&sort=&start=1675\n",
      "['4.19', '3.78', '3.67', '3.6', '3.95', '3.3', '4.33', '3.8', '3.83', '3.46', '4.11', '4.38', '4.1', '4.21', '3.7', '4.1', '4.02', '4.12', '3.94', '4.3', '4.24', '4.33', '4.38', '3.85', '4.38']\n",
      "https://www.beeradvocate.com/beer/profile/83/248/?view=beer&sort=&start=1700\n",
      "['4.05', '3.41', '3.9', '3.5', '4.08', '4.35', '4.5', '3.83', '4.06', '4.32', '3.78', '4.33', '4.4', '3.52', '3.95', '3.98', '3.88', '3.78', '4.42', '4.63', '3.97', '4.05', '3.95', '3.52', '3.61']\n",
      "https://www.beeradvocate.com/beer/profile/83/248/?view=beer&sort=&start=1725\n",
      "['3.75', '4.07', '4.17', '4.03', '4.47', '3.75', '3.83', '3.47', '2.93', '4.07', '4', '3.63', '4.38', '4.35', '3.12', '4.35', '4.12', '3.1', '2.62', '3.97', '3.8', '4.12', '4.85', '2.13', '3.55']\n",
      "https://www.beeradvocate.com/beer/profile/83/248/?view=beer&sort=&start=1750\n",
      "['3.56', '3.63', '4.38', '4.07', '4', '4.12', '3', '4.02', '4.03', '4.5', '3.9', '4.42', '3.68', '4', '3.43', '4.05', '4.3', '3.3', '3.72', '3.83', '4', '4.47', '3.68', '3.95', '4.63']\n",
      "https://www.beeradvocate.com/beer/profile/83/248/?view=beer&sort=&start=1775\n",
      "['4.23', '4', '4.1', '4.57', '4.1', '3.63', '3.05', '3.58', '4.05', '4.3', '3.76', '3.5', '3.98', '4', '3.95', '3.25', '4.26', '4.32', '4', '4.57', '3.97', '2.86', '3.91', '3.72', '4.12']\n",
      "https://www.beeradvocate.com/beer/profile/83/248/?view=beer&sort=&start=1800\n",
      "['4.32', '4.1', '4.12', '4.58', '4.23', '4.25', '4.12', '4.24', '3.88', '3.7', '4', '4.42', '4.36', '4.45', '4.13', '4.2', '3.85', '4', '4.26', '4.62', '4.13', '4.15', '3.88', '4.4', '4.3']\n",
      "https://www.beeradvocate.com/beer/profile/83/248/?view=beer&sort=&start=1825\n",
      "['4.3', '4.43', '4.08', '4.05', '4.43', '4.08', '3.75', '4', '4.15', '4.4', '3.88', '4.09', '4.45', '4.8', '4.42', '4.83', '4.07', '4.07', '4.23', '4.15', '4.68', '3.8', '3.53', '4.43', '4.14']\n"
     ]
    },
    {
     "name": "stderr",
     "output_type": "stream",
     "text": [
      "\r",
      "64it [2:41:26, 156.87s/it]"
     ]
    },
    {
     "name": "stdout",
     "output_type": "stream",
     "text": [
      "https://www.beeradvocate.com/beer/profile/83/248/?view=beer&sort=&start=1850\n",
      "['4.1', '4.38', '4.2', '4.15', '4.92', '4.42', '4.17', '4.42', '4.2', '4', '3.64', '4.28', '3.38', '4.4', '3.6', '4.66']\n",
      "https://www.beeradvocate.com/beer/profile/81/246/?view=beer&sort=&start=0\n",
      "['3.58', '1.5', '4.8', '1.51', '2.98', '3.36', '2.6', '2.94', '2.6', '3.41', '3.47', '2.68', '2.57', '4.08', '3.12', '1.28', '1', '3.64', '2.65', '2.3', '3.46', '3.28', '2.96', '4.14', '1.06']\n",
      "https://www.beeradvocate.com/beer/profile/81/246/?view=beer&sort=&start=25\n",
      "['3.5', '4', '3.34', '3.5', '3.51', '3.13', '4.14', '2.87', '4.01', '3.1', '3.15', '2.3', '2.78', '2.93', '1.79', '3.94', '3.71', '3.16', '2.6', '1.96', '2.8', '3.5', '3.61', '2.77', '3']\n",
      "https://www.beeradvocate.com/beer/profile/81/246/?view=beer&sort=&start=50\n",
      "['3.5', '2.08', '3.53', '2.46', '4', '3.5', '4.42', '3.56', '3.07', '3.08', '4', '4', '3.13', '4.73', '3.26', '4.33', '1.12', '3.34', '1.32', '3.92', '3.92', '3.44', '2.48', '2.38', '5']\n",
      "https://www.beeradvocate.com/beer/profile/81/246/?view=beer&sort=&start=75\n",
      "['3.24', '3.88', '4.24', '3.02', '1.89', '2.87', '3.68', '2.05', '2.82', '3.9', '2.99', '3.4', '4.89', '3', '2.49', '4.12', '3.06', '3.39', '3.92', '1', '4.09', '2.94', '2.17', '1.88', '3.25']\n",
      "https://www.beeradvocate.com/beer/profile/81/246/?view=beer&sort=&start=100\n",
      "['2.5', '3.5', '3.02', '2.15', '4.14', '2.69', '1.74', '4.09', '4', '2.75', '2.85', '3.99', '1.03', '3.76', '2.21', '2.68', '4.45', '4', '3.28', '2.13', '2.86', '1.9', '3.56', '4.36', '3.6']\n",
      "https://www.beeradvocate.com/beer/profile/81/246/?view=beer&sort=&start=125\n",
      "['2.25', '3', '2.18', '1.82', '4.56', '1.66', '2', '3.56', '2.72', '2.68', '4.02', '2.2', '2.89', '1.56', '3.77', '4.28', '2.94', '2.48', '3.44', '3.39', '1.77', '2.65', '2.78', '2.28', '3.4']\n",
      "https://www.beeradvocate.com/beer/profile/81/246/?view=beer&sort=&start=150\n",
      "['4.07', '3.34', '2.08', '3', '2.76', '2.5', '3.71', '3.13', '3.12', '2.31', '3.59', '2.91', '2.74', '2.76', '1.58', '3.64', '3.6', '1.51', '3.69', '2.83', '3.01', '2.27', '3.37', '3.39', '2.6']\n",
      "https://www.beeradvocate.com/beer/profile/81/246/?view=beer&sort=&start=175\n",
      "['3.21', '1.69', '3.69', '4.74', '2.67', '3.42', '1.65', '1.66', '2.29', '1', '1.86', '1.59', '2.09', '3.87', '2.8', '3.1', '2.95', '2.2', '2.94', '2.75', '3.31', '1.99', '2.17', '1.95', '3.07']\n",
      "https://www.beeradvocate.com/beer/profile/81/246/?view=beer&sort=&start=200\n",
      "['2.63', '3.41', '2.17', '2.35', '2.97', '1.67', '2.75', '3.02', '3.04', '2.69', '3.95', '4.27', '3.14', '3.01', '1.46', '2.32', '2.96', '1.14', '2.75', '2.42', '1.5', '2.9', '2.05', '3.48', '3.56']\n",
      "https://www.beeradvocate.com/beer/profile/81/246/?view=beer&sort=&start=225\n",
      "['3.19', '3.29', '2.38', '3.14', '3.3', '2.74', '1.32', '3.29', '4', '1.78', '3.96', '2.11', '2.54', '3.4', '3.5', '2.87', '1.93', '2.52', '2.83', '3.55', '3.61', '2.96', '3.06', '3.67', '3.32']\n",
      "https://www.beeradvocate.com/beer/profile/81/246/?view=beer&sort=&start=250\n",
      "['3', '2.97', '2.56', '2.55', '3.75', '5', '3', '3.01', '2.09', '3.75', '2.5', '1.5', '2.77', '4.25', '3.75', '3', '4', '3.52', '4.75', '3.11', '2.75', '3', '2.21', '3.85', '3.02']\n",
      "https://www.beeradvocate.com/beer/profile/81/246/?view=beer&sort=&start=275\n",
      "['3.67', '4.01', '1', '3.42', '3.25', '1', '3.35', '2.29', '1.53', '3.72', '2.83', '2.79', '1.43', '3', '2.57', '2.84', '2.41', '2.87', '3.16', '3.3', '3.6', '2.63', '2.57', '2.61', '2.79']\n",
      "https://www.beeradvocate.com/beer/profile/81/246/?view=beer&sort=&start=300\n",
      "['2.3', '2.75', '3.49', '1.53', '2.79', '1.76', '1.46', '5', '3', '3.94', '4', '2.01', '2.73', '3.57', '2.56', '1.13', '3', '2.53', '2.94', '2.4', '4.1', '2.13', '3.15', '3.7', '2']\n",
      "https://www.beeradvocate.com/beer/profile/81/246/?view=beer&sort=&start=325\n",
      "['3.41', '3', '2', '3.71', '2.25', '3.95', '2.27', '3.5', '2.73', '3.93', '2.72', '2.06', '2.26', '2.97', '3.35', '2.53', '2.58', '3.07', '2.68', '3.04', '1', '3.2', '3.13', '3', '2.88']\n",
      "https://www.beeradvocate.com/beer/profile/81/246/?view=beer&sort=&start=350\n",
      "['3.3', '2.5', '3.71', '3.41', '2.56', '3.27', '2.82', '3.4', '5', '3.51', '2.31', '3.07', '1.68', '3.04', '3.01', '1.94', '1.84', '2.5', '2.13', '3.02', '3.37', '3.17', '2.81', '2.46', '2.91']\n",
      "https://www.beeradvocate.com/beer/profile/81/246/?view=beer&sort=&start=375\n",
      "['3.07', '2.43', '3.15', '3.78', '2.28', '1.55', '3.67', '3', '3.52', '4.35', '2.7', '2.53', '2.8', '3.5', '3.58', '3.13', '3.18', '2.45', '2.67', '3.45', '3.88', '2.28', '1.97', '3.14', '2.56']\n",
      "https://www.beeradvocate.com/beer/profile/81/246/?view=beer&sort=&start=400\n",
      "['2.18', '3.01', '3.05', '2.81', '2.13', '2.73', '3.3', '2.79', '2.68', '2.93', '2.75', '2.88', '1.65', '2.76', '2.55', '2.52', '3.42', '1.58', '4.15', '1.41', '3.66', '2.83', '2.03', '2.21', '2.53']\n",
      "https://www.beeradvocate.com/beer/profile/81/246/?view=beer&sort=&start=425\n",
      "['2.88', '2.65', '2.42', '2.84', '2.46', '3.23', '2.53', '2.97', '2.89', '3', '4.35', '3.92', '2.84', '1.47', '2.43', '2.85', '2.5', '3.62', '2.29', '2.4', '2.58', '1.96', '1.43', '1.76', '2.31']\n",
      "https://www.beeradvocate.com/beer/profile/81/246/?view=beer&sort=&start=450\n",
      "['3.08', '1.88', '2.7', '2.55', '2.68', '3.03', '2.93', '2.13', '2.35', '2.36', '2.88', '3.78', '3.06', '2.5', '2.41', '2.68', '2.7', '3', '3.64', '4', '3.13', '2.83', '3.25', '3.22', '2.08']\n",
      "https://www.beeradvocate.com/beer/profile/81/246/?view=beer&sort=&start=475\n",
      "['4.42', '2.76', '2.77', '2.01', '2.2', '2.16', '3.35', '2.83', '2.76', '3.03', '2.58', '2.34', '3', '2.7', '3.42', '1.83', '3.4', '2.56', '1.7', '2.26', '2.98', '2.38', '2.76', '2.75', '2.43']\n",
      "https://www.beeradvocate.com/beer/profile/81/246/?view=beer&sort=&start=500\n",
      "['2.64', '2.65', '2.82', '2.53', '2.65', '3.22', '1.88', '3.3', '3', '3', '1.96', '3', '2.95', '2.75', '2.34', '3.77', '2.15', '1.83', '1.05', '3.14', '3.73', '2.56', '2.49', '2.55', '2.27']\n",
      "https://www.beeradvocate.com/beer/profile/81/246/?view=beer&sort=&start=525\n",
      "['2.16', '1.91', '2', '3.35', '3.37', '2.2', '2.26', '2.93', '2.36', '1.15', '2.72', '2.62', '2.45', '2.26', '2.56', '3.4', '2.18', '2.5', '2.76', '2.6', '2.1', '3.55', '3', '3', '2.42']\n",
      "https://www.beeradvocate.com/beer/profile/81/246/?view=beer&sort=&start=550\n",
      "['3.07', '2.1', '2.83', '2.88', '2.35', '2.86', '2.94', '1.95', '3.55', '2.68', '2.8', '2.6', '2.65', '3.7', '2.08', '3.23', '3.25', '1.22', '3.4', '2.88', '2.16', '3.2', '2.81', '1.48', '2.95']\n",
      "https://www.beeradvocate.com/beer/profile/81/246/?view=beer&sort=&start=575\n",
      "['2.67', '3', '3.12', '2.52', '2.51', '3.05', '3.84', '2.83', '3.26', '3.51', '4.02', '2.98', '2.8', '1.8', '2.79', '2.98', '3.23', '3.65', '3.05', '2.51', '3.55', '2.63', '2.34', '3.6', '2']\n",
      "https://www.beeradvocate.com/beer/profile/81/246/?view=beer&sort=&start=600\n",
      "['3.03', '2.37', '4.34', '3.1', '2.3', '2.65', '1.66', '2.11', '1.21', '3.08', '2.11', '2.25', '2.77', '2.83', '3.81', '2.13', '1.7', '2.78', '1.28', '3.59', '1.63', '4.33', '2.53', '2.41', '3.2']\n",
      "https://www.beeradvocate.com/beer/profile/81/246/?view=beer&sort=&start=625\n",
      "['3.27', '1.41', '1.55', '3.17', '2.42', '2.91', '2.98', '1.21', '1.65', '2.11', '2.85', '2.85', '3.3', '3.11', '3.07', '2.71', '3.1', '2.73', '3.06', '2.1', '3.48', '2.83', '3.39', '3.97', '2.9']\n",
      "https://www.beeradvocate.com/beer/profile/81/246/?view=beer&sort=&start=650\n",
      "['3.15', '3.37', '2.85', '3.2', '2.73', '2.71', '1.85', '2.92', '2.91', '2.95', '3.8', '2.28', '2.59', '2.75', '2.78', '3', '2.38', '1.95', '3.05', '2.97', '3.6', '1.81', '2.5', '1.17', '4.08']\n",
      "https://www.beeradvocate.com/beer/profile/81/246/?view=beer&sort=&start=675\n",
      "['3.45', '2.48', '2.16', '3', '3.45', '3.57', '2.58', '2.41', '3.58', '2.88', '2.63', '2.54', '2.95', '3.15', '2.04', '2.68', '1.93', '1.93', '3.04', '2.2', '2.8', '3.07', '3.48', '3.13', '3.25']\n",
      "https://www.beeradvocate.com/beer/profile/81/246/?view=beer&sort=&start=700\n",
      "['3.13', '3.7', '3.4', '1.88', '2.65', '2.48', '2.45', '1.59', '3.02', '2', '3.5', '2.81', '2.98', '2.15', '2.83', '3', '3.96', '1.68', '3.23', '3.72', '3.57', '3.34', '2.52', '3.37', '2.75']\n",
      "https://www.beeradvocate.com/beer/profile/81/246/?view=beer&sort=&start=725\n",
      "['3', '3.4', '2.78', '2.15', '3.76', '3.28', '2.96', '2.78', '3.2', '2.98', '3.99', '3.52', '3.35', '3.86', '3.05', '2.98', '3.3', '3.45', '3.93', '2.76', '3.16', '3.37', '2.33', '3.3', '2.62']\n"
     ]
    },
    {
     "name": "stdout",
     "output_type": "stream",
     "text": [
      "https://www.beeradvocate.com/beer/profile/81/246/?view=beer&sort=&start=750\n",
      "['3.3', '2.81', '3', '2.98', '2.68', '2.16', '2.85', '2', '3.6', '4.03', '1.21', '4.33', '3.47', '1.98', '2.36', '3.68', '1.71', '2.05', '2.66', '3.35', '2.74', '2.5', '3.44', '2.98', '2.6']\n",
      "https://www.beeradvocate.com/beer/profile/81/246/?view=beer&sort=&start=775\n",
      "['2.42', '2.9', '2.53', '2.26', '3.1', '3.26', '2.8', '3.07', '1.45', '2.06', '3', '2.65', '3', '1.21', '2', '1.38', '2.65', '2.76', '3', '1.79', '3.42', '2.95', '2.7', '1.83', '3.51']\n",
      "https://www.beeradvocate.com/beer/profile/81/246/?view=beer&sort=&start=800\n",
      "['2.63', '2.63', '2', '1.96', '1.41', '1.84', '2.77', '3.32', '3.26', '3.52', '2.55', '2.56', '3.33', '3.21', '3.1', '2.8', '2.97', '3.72', '3.71', '3.64', '3.27', '3.37', '1.49', '3.93', '3.23']\n",
      "https://www.beeradvocate.com/beer/profile/81/246/?view=beer&sort=&start=825\n",
      "['3.67', '3.1', '3.32', '3.78', '2.35', '2.41', '2.05', '2.72', '3.1', '2.88', '2.75', '3.23', '4.57', '2.94', '3.59', '2.5', '2.82', '2.24', '3.08', '2.08', '3.18', '3.3', '3.48', '2.66', '3.17']\n",
      "https://www.beeradvocate.com/beer/profile/81/246/?view=beer&sort=&start=850\n",
      "['2.56', '3.51', '2.46', '3', '2.9', '2.51', '2.92', '3.22', '3.17', '2.97', '2.28', '3.15', '2.82', '2.89', '3.03', '2.83', '1.74', '3.87', '2.24', '3.4', '2.85', '3.95', '3.36', '3.3', '3.03']\n",
      "https://www.beeradvocate.com/beer/profile/81/246/?view=beer&sort=&start=875\n",
      "['2.32', '3.28', '2.78', '3.64', '2.85', '2.6', '2.98', '3.51', '2.56', '2.37', '3.65', '3.36', '2.48', '2.11', '2.9', '2.66', '2.68', '3.2', '1.21', '3.31', '3.15', '2.8', '3.23', '2.57', '3.73']\n",
      "https://www.beeradvocate.com/beer/profile/81/246/?view=beer&sort=&start=900\n",
      "['3.97', '3.3', '3.05', '2.46', '1.34', '3.28', '2.85', '1.36', '2.92', '3.18', '2.47', '2.5', '2.98', '3.18', '3.4', '1.62', '2.28', '2.91', '2.66', '2.25', '1.65', '2.7', '2.95', '2.53', '2.88']\n",
      "https://www.beeradvocate.com/beer/profile/81/246/?view=beer&sort=&start=925\n",
      "['2.86', '3.01', '3.97', '1.29', '3.32', '2.98', '3.47', '2.08', '3.19', '1.4', '2.81', '3.48', '3.03', '3.72', '2.56', '1.59', '3.22', '2.45', '2.29', '2.65', '3.02', '4.24', '2', '3.06', '1.41']\n",
      "https://www.beeradvocate.com/beer/profile/81/246/?view=beer&sort=&start=950\n",
      "['2.75', '2.88', '3.21', '2.68', '2.08', '2.65', '2.53', '1.68', '2.7', '2.98', '2.58', '4.5', '2.3', '3', '4.07', '2.23', '2.62', '3.38', '2.97', '2.72', '3.15', '3.41', '3.08', '3.7', '2.83']\n",
      "https://www.beeradvocate.com/beer/profile/81/246/?view=beer&sort=&start=975\n",
      "['2.67', '2.49', '3.4', '3.48', '2.65', '3.15', '3.1', '2.76', '3.45', '3.18', '2.51', '3.1', '3.15', '2.25', '3.62', '3', '3.6', '1.66', '3', '3.1', '3', '3.4', '2.93', '3.2', '3.61']\n",
      "https://www.beeradvocate.com/beer/profile/81/246/?view=beer&sort=&start=1000\n",
      "['3.22', '3.26', '2.88', '2.02', '3', '3.52', '2.44', '1.75', '2.32', '1.85', '2.85', '2.68', '2.8', '2.7', '2.85', '3.07', '2.77', '2.8', '3.38', '2.58', '2.73', '3.03', '3.23', '3.42', '2.52']\n",
      "https://www.beeradvocate.com/beer/profile/81/246/?view=beer&sort=&start=1025\n",
      "['2.23', '2.82', '3.28', '2.56', '3.69', '2.96', '2.05', '3.73', '1.26', '1.8', '2.58', '1.85', '2.38', '2.88', '2.16', '2.98', '3', '3.95', '2.4', '2.23', '1.97', '2.26', '3.01', '2.3', '4.1']\n",
      "https://www.beeradvocate.com/beer/profile/81/246/?view=beer&sort=&start=1050\n",
      "['2.61', '1.7', '1.88', '3.09', '3.86', '3.2', '4', '3.28', '2.68', '2.46', '2.4', '2.72', '2.85', '3.03', '2.36', '3.95', '3.05', '2.78', '3.04', '1.73', '2.25', '3', '4.42', '3.05', '3.35']\n",
      "https://www.beeradvocate.com/beer/profile/81/246/?view=beer&sort=&start=1075\n",
      "['1.78', '2.83', '2.48', '2.98', '3.5', '3.05', '2.8', '2.23', '2.98', '3.33', '3.13', '1.46', '2.72', '3.42', '3.2', '2.56', '3.08', '2.48', '2.48', '2.45', '3.7', '2.45', '3', '2.31', '2.72']\n",
      "https://www.beeradvocate.com/beer/profile/81/246/?view=beer&sort=&start=1100\n",
      "['2.28', '2.68', '3.2', '2.85', '2.83', '1.88', '2.38', '3.3', '2.8', '2.6', '2.12', '1.89', '2.47', '3', '2.91', '2.83', '2.92', '2.9', '3.3', '3.58', '2.24', '3.31', '2.91', '3.9', '2']\n",
      "https://www.beeradvocate.com/beer/profile/81/246/?view=beer&sort=&start=1125\n",
      "['2.18', '2.51', '2.55', '2.95', '2.21', '3.01', '4.1', '3.86', '2.88', '2.52', '2.5', '2.3', '1.89', '2.82', '2.98', '3.76', '3.06', '2.93', '2.83', '2.85', '2.92', '2.76', '2.47', '3.03', '2.66']\n",
      "https://www.beeradvocate.com/beer/profile/81/246/?view=beer&sort=&start=1150\n",
      "['2.97', '3.5', '3.41', '2.76', '3.55', '2.08', '2.76', '2.88', '2.08', '2.35', '1.95', '3.46', '2.52', '3.17', '2.69', '2.2', '4.25', '3.23', '2.96', '2.53', '2.73', '3.03', '3.1', '2.81', '2.58']\n",
      "https://www.beeradvocate.com/beer/profile/81/246/?view=beer&sort=&start=1175\n",
      "['2.5', '2.98', '2.22', '1.65', '2.41', '2.85', '2.53', '1.85', '3.64', '3.44', '3.7', '2.33', '3.15', '2.93', '2.1', '3.14', '1.73', '1.98', '3.1', '3.03', '2.23', '2.69', '3.03', '2.81', '3.5']\n",
      "https://www.beeradvocate.com/beer/profile/81/246/?view=beer&sort=&start=1200\n",
      "['3.38', '2.97', '1.46', '3', '3.1', '1.58', '2.97', '3.45', '2.03', '3.45', '2.3', '2.65', '2.71', '1.41', '2.21', '2.95', '3.43', '4.33', '2.4', '2.63', '2.2', '3.42', '2.61', '3.1', '2.88']\n",
      "https://www.beeradvocate.com/beer/profile/81/246/?view=beer&sort=&start=1225\n",
      "['1.85', '3.03', '3.17', '3.78', '2.95', '2.71', '2.83', '2.56', '1.78', '3.32', '3.22', '2.28', '3.38', '3.1', '3.28', '2.7', '3.91', '3', '2.97', '3', '2.43', '2.51', '3.1', '3.18', '2.83']\n",
      "https://www.beeradvocate.com/beer/profile/81/246/?view=beer&sort=&start=1250\n",
      "['2.82', '3.36', '3.52', '2.98', '2.51', '2.5', '2.68', '1.23', '3.05', '2.73', '3.18', '2.32', '2.25', '3.11', '3.25', '2.8', '1.85', '3.1', '2.52', '1.75', '2.47', '2.93', '2.83', '3.08', '2.48']\n",
      "https://www.beeradvocate.com/beer/profile/81/246/?view=beer&sort=&start=1275\n",
      "['3.65', '2.28', '3.25', '2.88', '3.09', '2.95', '2.65', '3.09', '3.5', '3.97', '3.33', '2.94', '3.26', '2.72', '2.39', '3.01', '2.23', '2.86', '3.4', '2.93', '3.42', '3.77', '2.8', '3.9', '2.73']\n",
      "https://www.beeradvocate.com/beer/profile/81/246/?view=beer&sort=&start=1300\n",
      "['1.56', '2.84', '2.01', '2.82', '2.96', '2.63', '1.26', '2.35', '1.61', '3.78', '2.68', '3.1', '3.52', '3.05', '4.27', '3.1', '2.91', '2.6', '3.18', '2.38', '2.28', '1.36', '2.83', '1.98', '3.4']\n",
      "https://www.beeradvocate.com/beer/profile/81/246/?view=beer&sort=&start=1325\n",
      "['2.33', '3.58', '2.6', '1.68', '2.93', '2.77', '3.18', '2.01', '3.95', '2.9', '3.24', '2.86', '2.93', '2.71', '2.45', '2', '2.31', '4.15', '2.97', '2.95', '2.84', '2.55', '2.38', '2.97', '3.4']\n",
      "https://www.beeradvocate.com/beer/profile/81/246/?view=beer&sort=&start=1350\n",
      "['2.45', '2.8', '2.26', '2.1', '2.78', '2.58', '2.64', '3.18', '2.24', '2.97', '2.85', '3.23', '2.88', '2.08', '2.6', '2.65', '2.35', '2.42', '1.55', '3.24', '3.37', '1.68', '3.74', '2.78', '2.48']\n",
      "https://www.beeradvocate.com/beer/profile/81/246/?view=beer&sort=&start=1375\n",
      "['2.28', '2.96', '2.55', '2.13', '2.71', '2.85', '1.59', '3.22', '2.41', '3.07', '2.35', '2.65', '2.92', '2.99', '2.9', '3.12', '3', '2.63', '1.48', '3', '2.19', '2.53', '2.02', '3.22', '2.66']\n",
      "https://www.beeradvocate.com/beer/profile/81/246/?view=beer&sort=&start=1400\n",
      "['2.93', '2.7', '2.45', '1.95', '3.27', '3.07', '3', '2', '2.96', '2.08', '2.48', '2.59', '2.23', '3', '2.17', '2.58', '3', '2.2', '2.95', '2.61', '2.96', '2.65', '3.55', '2.74', '2.13']\n",
      "https://www.beeradvocate.com/beer/profile/81/246/?view=beer&sort=&start=1425\n",
      "['1.78', '2.74', '2.66', '2.01', '2.06', '1.83', '3.52', '2.75', '2.61', '1.88', '3.1', '2.51', '1.46', '1.28', '3.28', '2.67', '1.6', '2.7', '2.46', '3.2', '2.68', '2.76', '1.52', '1.81', '2.68']\n",
      "https://www.beeradvocate.com/beer/profile/81/246/?view=beer&sort=&start=1450\n",
      "['2.9', '1.27', '3.15', '3.5', '4.44', '1.79', '3', '2.53', '3.11', '1.71', '3.13', '2.51', '1.29', '2.06', '3.5', '3.63', '3.02', '2.43', '2.85', '1.94', '2.97', '2.68', '2.38', '3.1', '2.9']\n",
      "https://www.beeradvocate.com/beer/profile/81/246/?view=beer&sort=&start=1475\n",
      "['2.43', '2.59', '3', '3.96', '2.7', '2.5', '3.21', '2.15', '3', '4.07', '3.88', '2.55', '1.9', '1.96', '3.35', '1.79', '2.57', '2.53', '1.91', '2.63', '2.8', '2', '2.93', '1.64', '2.68']\n"
     ]
    },
    {
     "name": "stderr",
     "output_type": "stream",
     "text": [
      "\r",
      "65it [2:47:22, 216.55s/it]"
     ]
    },
    {
     "name": "stdout",
     "output_type": "stream",
     "text": [
      "https://www.beeradvocate.com/beer/profile/81/246/?view=beer&sort=&start=1500\n",
      "['2.26', '2.63', '2.41', '2.1', '1.46', '2.24', '2.53', '2.3', '2.53', '2.3', '1.78', '2.53', '3', '2.41']\n",
      "https://www.beeradvocate.com/beer/profile/209/862/?view=beer&sort=&start=0\n",
      "['3.5', '2.95', '3.97', '3.8', '3.5', '3.55', '3.79', '3.52', '3.93', '3.25', '4.76', '3.27', '2.75', '1', '3.97', '3.2', '1.25', '3', '3.7', '3.29', '3.54', '3.57', '4', '3.53', '2.99']\n",
      "https://www.beeradvocate.com/beer/profile/209/862/?view=beer&sort=&start=25\n",
      "['3.48', '3.8', '3.68', '3.5', '3.3', '2.89', '3.08', '3.08', '3.54', '3.24', '3.81', '3.25', '3.3', '4.21', '3', '3', '4.45', '4.16', '3.06', '2.59', '4.06', '2.35', '3.5', '2.92', '3.35']\n",
      "https://www.beeradvocate.com/beer/profile/209/862/?view=beer&sort=&start=50\n",
      "['3.42', '3', '4.82', '2.75', '4.02', '3.54', '3.24', '3.7', '3.34', '1.23', '2.18', '3.94', '3.88', '3.39', '4.24', '1', '2.56', '3.5', '2.87', '2.62', '3.11', '2', '3.6', '3.05', '2.48']\n",
      "https://www.beeradvocate.com/beer/profile/209/862/?view=beer&sort=&start=75\n",
      "['2.78', '3.94', '3.25', '2.77', '3.78', '3.18', '2.79', '2.41', '3.35', '3.43', '3.47', '2.82', '3.39', '4.43', '2.29', '2.5', '3.6', '3.5', '3', '3.69', '3.56', '3.2', '3.09', '2.94', '3.34']\n",
      "https://www.beeradvocate.com/beer/profile/209/862/?view=beer&sort=&start=100\n",
      "['2.62', '4', '3.07', '1.72', '3.06', '3.05', '3.5', '3.33', '2.86', '3.28', '3.15', '3.02', '3.58', '4.18', '3.2', '3.68', '3.63', '3.41', '2.75', '3.04', '3.45', '3.16', '2.1', '3.36', '2.98']\n",
      "https://www.beeradvocate.com/beer/profile/209/862/?view=beer&sort=&start=125\n",
      "['3.67', '3.41', '3.08', '2.93', '2.96', '2.2', '2.32', '3.33', '3.55', '3.31', '3.08', '1.75', '3.83', '3.19', '3.62', '3.02', '3.95', '3.23', '3.86', '3.15', '1.94', '3.47', '2.73', '3.14', '2.8']\n",
      "https://www.beeradvocate.com/beer/profile/209/862/?view=beer&sort=&start=150\n",
      "['3.27', '2.55', '3.29', '2', '3.53', '3.62', '3.48', '3.41', '2.85', '3.27', '3.01', '3.33', '3.13', '3.13', '3.36', '3.83', '3.2', '2.72', '3.08', '2.7', '3.31', '3.62', '4.28', '2.92', '3.85']\n",
      "https://www.beeradvocate.com/beer/profile/209/862/?view=beer&sort=&start=175\n",
      "['2.8', '3.2', '3.16', '2.87', '3.25', '2.68', '3.85', '3.88', '3.2', '4.35', '3.53', '3.43', '2.98', '3.2', '3.36', '2.49', '3.3', '3', '2.88', '3.5', '3.37', '3', '3', '3.11', '2.68']\n",
      "https://www.beeradvocate.com/beer/profile/209/862/?view=beer&sort=&start=200\n",
      "['3.8', '3.08', '3.71', '2.98', '3', '3.16', '3.2', '3.23', '3.94', '3.48', '2.3', '2.85', '3.47', '1.79', '2.05', '2.46', '3.28', '2.23', '3.05', '3.86', '3.4', '2.6', '3.7', '3.75', '2.93']\n",
      "https://www.beeradvocate.com/beer/profile/209/862/?view=beer&sort=&start=225\n",
      "['2.45', '3.43', '3.13', '3.64', '2.48', '2.08', '3.55', '3.18', '3.35', '3.9', '3.6', '3.02', '3.07', '3', '2.4', '3.8', '3.7', '2.87', '2.95', '3.46', '3.8', '4.13', '3.2', '2.7', '3.77']\n",
      "https://www.beeradvocate.com/beer/profile/209/862/?view=beer&sort=&start=250\n",
      "['3.88', '3.23', '3.95', '4', '2.68', '3.38', '3.5', '3.13', '3.59', '3.55', '3.53', '3.48', '3.28', '2.86', '2.98', '3.1', '4.4', '3.51', '3.63', '2.76', '2.4', '3.18', '3.64', '3.1', '3.29']\n",
      "https://www.beeradvocate.com/beer/profile/209/862/?view=beer&sort=&start=275\n",
      "['4.32', '3.71', '3.08', '3.73', '3.87', '3.69', '3.26', '3.65', '3.28', '3.48', '3.86', '3.33', '3.13', '3.9', '4.27', '3.04', '3.29', '3.35', '2.49', '3.38', '2.35', '3.64', '3.72', '3.28', '3.03']\n",
      "https://www.beeradvocate.com/beer/profile/209/862/?view=beer&sort=&start=300\n",
      "['3.45', '3.93', '3.11', '3.6', '3.7', '3.18', '2.7', '3.75', '3.28', '3.65', '3.44', '3.36', '4.6', '3', '3.5', '2.04', '3.58', '3.36', '3.92', '3.9', '3.55', '3.8', '3.51', '3.63', '3.06']\n",
      "https://www.beeradvocate.com/beer/profile/209/862/?view=beer&sort=&start=325\n",
      "['5', '3.62', '3.3', '3.51', '3.68', '3.08', '2.66', '3.82', '3.51', '3', '2.31', '3.33', '2.93', '3.38', '3.36', '3.38', '3.2', '3.7', '3.7', '4.25', '3.57', '3.65', '3.6', '4.33', '2.48']\n",
      "https://www.beeradvocate.com/beer/profile/209/862/?view=beer&sort=&start=350\n",
      "['3.06', '3.53', '3.5', '3.35', '3.15', '2.67', '3.03', '3.43', '2.55', '2.82', '3.03', '3.5', '3.08', '3.38', '3.08', '3.78', '2.97', '3.62', '3.85', '2.88', '2.95', '3.53', '3.7', '3.27', '3.56']\n",
      "https://www.beeradvocate.com/beer/profile/209/862/?view=beer&sort=&start=375\n",
      "['3.06', '3.63', '3.06', '2.95', '3.15', '3.25', '3.23', '3.73', '2.59', '3.36', '3.06', '3.53', '3', '3.33', '3.88', '2.95', '3', '3.64', '2.72', '3.12', '3.41', '3.91', '3.33', '3.4', '3.33']\n",
      "https://www.beeradvocate.com/beer/profile/209/862/?view=beer&sort=&start=400\n",
      "['2.78', '2.64', '3.48', '2.78', '3.37', '3.52', '2.33', '3.33', '3.65', '3.35', '4.48', '3.1', '3.25', '3.5', '3.93', '3.23', '2.91', '2.86', '2.98', '3.35', '3.41', '2.98', '3.31', '3.23', '3.06']\n",
      "https://www.beeradvocate.com/beer/profile/209/862/?view=beer&sort=&start=425\n",
      "['3.15', '3.33', '4.13', '3.7', '3.55', '3.65', '2.36', '3.16', '3.65', '2.75', '3.8', '3.65', '3.43', '3.91', '3.86', '3.68', '3.75', '2.7', '3.5', '2.68', '3.03', '4.2', '2.95', '2.9', '3.1']\n",
      "https://www.beeradvocate.com/beer/profile/209/862/?view=beer&sort=&start=450\n",
      "['3.52', '3.38', '3.26', '3.48', '3.29', '3.38', '1.98', '3.95', '3.93', '3.15', '3.15', '2.8', '3.23', '3.73', '3.42', '2.58', '3.65', '3.25', '2.95', '2.98', '2.9', '3.03', '3.33', '2.96', '2.98']\n",
      "https://www.beeradvocate.com/beer/profile/209/862/?view=beer&sort=&start=475\n",
      "['2.26', '3.6', '2.93', '2.78', '3.23', '3.33', '2.67', '4.23', '3.63', '2.93', '3.8', '3.58', '3.47', '2.63', '3.25', '3.18', '3.03', '2.48', '3.18', '3', '2.78', '2.99', '3.43', '3.15', '3.68']\n",
      "https://www.beeradvocate.com/beer/profile/209/862/?view=beer&sort=&start=500\n",
      "['3.21', '3.47', '3.1', '3.83', '2.88', '3.33', '3.56', '3.35', '3.6', '3.55', '3.25', '3.63', '3.4', '2.59', '2.33', '3.33', '2.4', '4.3', '3.37', '3', '3.53', '3.18', '3.01', '3.7', '3.15']\n",
      "https://www.beeradvocate.com/beer/profile/209/862/?view=beer&sort=&start=525\n",
      "['3.18', '3.96', '2.36', '3.48', '2.91', '3.21', '2.97', '3.53', '3.2', '3.33', '3.9', '4.03', '2.71', '3.2', '1.73', '3.01', '2.18', '3.01', '3.68', '3.6', '3.27', '3', '3.2', '3.13', '3.1']\n",
      "https://www.beeradvocate.com/beer/profile/209/862/?view=beer&sort=&start=550\n",
      "['3.99', '3.53', '3.18', '3.57', '3.74', '3.56', '4.11', '3.34', '2.73', '3.08', '2.7', '3.63', '3.63', '3.5', '3.3', '2.66', '4.13', '3.55', '2.36', '3.77', '3.3', '3.29', '1.5', '3.06', '3.15']\n",
      "https://www.beeradvocate.com/beer/profile/209/862/?view=beer&sort=&start=575\n",
      "['3.26', '3.55', '3.41', '4.08', '3.88', '3.99', '3.48', '2.61', '3.48', '3', '3.1', '2.63', '2.68', '2.68', '3.2', '3.95', '2.23', '2.46', '3.55', '3.45', '3.79', '3.95', '3.6', '1.98', '3.13']\n",
      "https://www.beeradvocate.com/beer/profile/209/862/?view=beer&sort=&start=600\n",
      "['3.37', '2.95', '2.75', '3.39', '3.4', '3.33', '2.9', '1.08', '3.11', '3.55', '3.72', '3.33', '3.85', '3.62', '3.35', '3.39', '3.93', '3.3', '3.78', '4.03', '2.96', '3.33', '3.65', '2.88', '3.78']\n",
      "https://www.beeradvocate.com/beer/profile/209/862/?view=beer&sort=&start=625\n",
      "['3.13', '3.93', '4.23', '2.94', '3.18', '3.5', '2.55', '3.1', '2.96', '2.61', '2.9', '3.2', '2.8', '2.58', '2.41', '3.53', '3.16', '3.03', '3.68', '4', '3.16', '2.83', '3.87', '4', '3.37']\n",
      "https://www.beeradvocate.com/beer/profile/209/862/?view=beer&sort=&start=650\n",
      "['3.25', '2.61', '4.03', '3.3', '4.2', '2.98', '4.18', '2.81', '3.47', '3.3', '2.78', '4', '2.13', '3.79', '2.88', '3.65', '3.5', '3.13', '3.63', '3.36', '2.94', '3.48', '3.68', '3.15', '2.7']\n",
      "https://www.beeradvocate.com/beer/profile/209/862/?view=beer&sort=&start=675\n",
      "['2.68', '3.15', '3.03', '3.13', '3.42', '3.03', '2.93', '3.45', '3.77', '3.88', '3.4', '2.75', '3.07', '2.2', '3.45', '3.18', '3', '3.75', '3.33', '3.33', '2.78', '3.06', '3.1', '3.1', '2.8']\n",
      "https://www.beeradvocate.com/beer/profile/209/862/?view=beer&sort=&start=700\n",
      "['2.86', '3.93', '3.25', '3.5', '4.21', '3.1', '3.83', '3.43', '2.96', '4.14', '3.65', '3.43', '3.58', '3.23', '1.83', '3.27', '3.46', '3.42', '3.27', '3.16', '3.87', '2.85', '3.56', '3.43', '2.95']\n",
      "https://www.beeradvocate.com/beer/profile/209/862/?view=beer&sort=&start=725\n",
      "['3.1', '3.38', '3.06', '3.18', '3.5', '3.9', '3.33', '2.76', '3.03', '2.83', '3.5', '3.26', '3.69', '3.18', '2.06', '3.18', '3.55', '3.42', '3.48', '4.05', '4.1', '3.41', '3', '3.75', '2.5']\n"
     ]
    },
    {
     "name": "stdout",
     "output_type": "stream",
     "text": [
      "https://www.beeradvocate.com/beer/profile/209/862/?view=beer&sort=&start=750\n",
      "['4.18', '3.5', '2.93', '3.47', '3.57', '3.48', '3.4', '3.6', '3.56', '3.6', '3.23', '3.25', '3.7', '4.2', '3.6', '3.03', '3.3', '3.47', '2.83', '4', '3.4', '3.03', '3.27', '3.18', '3.14']\n"
     ]
    },
    {
     "name": "stderr",
     "output_type": "stream",
     "text": [
      "\r",
      "66it [2:50:26, 206.87s/it]"
     ]
    },
    {
     "name": "stdout",
     "output_type": "stream",
     "text": [
      "https://www.beeradvocate.com/beer/profile/209/862/?view=beer&sort=&start=775\n",
      "['3.5', '3.31', '3.2', '3', '4']\n",
      "https://www.beeradvocate.com/beer/profile/76/31425/?view=beer&sort=&start=0\n",
      "['4.02', '3.75', '4.25', '3.72', '3.37', '3.77', '4.2', '4.01', '4', '3.43', '3.52', '3.5', '3.5', '3.81', '3.71', '4', '3.52', '3.78', '3.53', '4.51', '3.72', '3.34', '2.75', '3.15', '3.62']\n",
      "https://www.beeradvocate.com/beer/profile/76/31425/?view=beer&sort=&start=25\n",
      "['4.14', '3.75', '3.45', '3.85', '4.77', '4.15', '4.5', '4.27', '3.69', '3.58', '3.75', '3.74', '3.77', '3.1', '4.5', '4.42', '3.91', '3.73', '3.7', '3.51', '3.79', '4.94', '4.08', '3.93', '3.84']\n",
      "https://www.beeradvocate.com/beer/profile/76/31425/?view=beer&sort=&start=50\n",
      "['4.21', '3.7', '4.46', '3.9', '3.46', '4.08', '3.58', '4.2', '4.15', '3.71', '3.73', '3.88', '3.84', '3.75', '3.97', '4.12', '3.75', '4.3', '4.5', '4.68', '4', '3.51', '3.47', '3.71', '4.39']\n",
      "https://www.beeradvocate.com/beer/profile/76/31425/?view=beer&sort=&start=75\n",
      "['3.69', '3.69', '3.47', '3.53', '3.6', '3.14', '3.57', '4.1', '2.75', '3.92', '3.44', '3.42', '3.74', '4.64', '3.75', '3.89', '3.67', '4.16', '4.17', '3.58', '3.92', '3.65', '3.85', '4.27', '3.97']\n",
      "https://www.beeradvocate.com/beer/profile/76/31425/?view=beer&sort=&start=100\n",
      "['3.38', '3.75', '3.88', '3.77', '3.75', '3.33', '3.57', '3.91', '3.21', '3.12', '3.55', '3.24', '2.8', '3.36', '3.56', '3.43', '3.77', '3.32', '3.23', '3.76', '3.87', '3.82', '4.02', '3.24', '3.62']\n",
      "https://www.beeradvocate.com/beer/profile/76/31425/?view=beer&sort=&start=125\n",
      "['3.53', '3.36', '3.4', '3.6', '3.42', '3.43', '3.22', '3.33', '3.61', '3.95', '3.6', '3.1', '4.92', '3.65', '3.05', '3.92', '3.48', '2.46', '3.67', '2.92', '3.7', '3.5', '4.09', '3.4', '3.47']\n",
      "https://www.beeradvocate.com/beer/profile/76/31425/?view=beer&sort=&start=150\n",
      "['4.27', '3.97', '3.65', '3.79', '3', '3.94', '3.38', '3.73', '3.25', '4.1', '2.76', '3.89', '4.35', '3.65', '4.1', '3.47', '4.45', '3.82', '3.8', '3.43', '3.77', '3.88', '3.67', '4.27', '3.67']\n",
      "https://www.beeradvocate.com/beer/profile/76/31425/?view=beer&sort=&start=175\n",
      "['3.5', '3.95', '3.45', '3.68', '3.65', '3.55', '3.76', '4.47', '3.35', '3', '3.82', '3.27', '4.47', '3.2', '3.71', '4.31', '4.23', '3.29', '3.65', '4.52', '4.16', '4.25', '3.78', '4.12', '4.1']\n",
      "https://www.beeradvocate.com/beer/profile/76/31425/?view=beer&sort=&start=200\n",
      "['4.05', '3.82', '3.32', '3.85', '3.41', '3.19', '4.35', '4.12', '4.16', '4.08', '3.5', '4.09', '3.9', '3.92', '3.66', '4.07', '3.85', '3.85', '3.58', '3.72', '3.88', '3.24', '3.53', '4.1', '2.97']\n",
      "https://www.beeradvocate.com/beer/profile/76/31425/?view=beer&sort=&start=225\n",
      "['3.2', '3.78', '4.75', '4.2', '4.29', '2.98', '3.33', '3.59', '3.72', '3.13', '3.12', '3.8', '3.7', '3.58', '4.1', '3.81', '3.83', '4.15', '4.03', '3.68', '3.58', '3.05', '3.28', '3.48', '3.85']\n",
      "https://www.beeradvocate.com/beer/profile/76/31425/?view=beer&sort=&start=250\n",
      "['2.88', '2.97', '4.14', '4.28', '3.92', '3.65', '3.86', '3.45', '3.47', '3.62', '3.18', '4.76', '3.82', '4.05', '4.1', '3.71', '4.03', '4.03', '4.1', '4.17', '4.45', '4.04', '4.48', '3.6', '4.44']\n"
     ]
    },
    {
     "name": "stderr",
     "output_type": "stream",
     "text": [
      "\r",
      "67it [2:51:35, 165.45s/it]"
     ]
    },
    {
     "name": "stdout",
     "output_type": "stream",
     "text": [
      "https://www.beeradvocate.com/beer/profile/76/31425/?view=beer&sort=&start=275\n",
      "['3.75', '4.28', '2.98', '3.42', '3.53', '3.3', '3.65', '3.57', '4', '3.2', '3.65']\n",
      "https://www.beeradvocate.com/beer/profile/209/754/?view=beer&sort=&start=0\n",
      "['3.81', '4.57', '3.52', '2.78', '3.57', '2.91', '3.43', '3.85', '1.44', '4.83', '3.77', '3.9', '4.04', '3.83', '2.02', '3.9', '3.55', '3.25', '1', '3.88', '2.02', '4.18', '3.22', '3.49', '4.8']\n",
      "https://www.beeradvocate.com/beer/profile/209/754/?view=beer&sort=&start=25\n",
      "['3.75', '3.93', '4.57', '4.47', '3.12', '3.89', '3.35', '4.49', '4', '3.52', '3.95', '4.72', '3.79', '3.71', '2.56', '3.8', '3.85', '2.94', '3.93', '4.05', '5', '4.7', '4.16', '5', '4.33']\n",
      "https://www.beeradvocate.com/beer/profile/209/754/?view=beer&sort=&start=50\n",
      "['4.09', '5', '4.18', '5', '4.08', '3.46', '3.93', '4.18', '3.66', '3.54', '4.08', '4.56', '3.93', '5', '3.89', '3.25', '3.35', '3.84', '1.1', '4.35', '4.26', '4.21', '3.93', '4.94', '4.21']\n",
      "https://www.beeradvocate.com/beer/profile/209/754/?view=beer&sort=&start=75\n",
      "['3.71', '3.54', '3.94', '3.5', '3.98', '4', '3.69', '4.5', '3.59', '4.07', '4.82', '4.77', '3.65', '2.45', '5', '4.43', '4.26', '3.51', '4.13', '3.45', '4.14', '3.59', '4.51', '3.67', '3.87']\n",
      "https://www.beeradvocate.com/beer/profile/209/754/?view=beer&sort=&start=100\n",
      "['4.4', '2.77', '3.6', '3.84', '3.55', '3.92', '3.73', '3.74', '3.53', '3.49', '3.84', '3.88', '3.75', '3.05', '3.55', '3.58', '4.21', '4.53', '5', '3.7', '3.56', '3.68', '3.76', '4.49', '4.83']\n",
      "https://www.beeradvocate.com/beer/profile/209/754/?view=beer&sort=&start=125\n",
      "['3.81', '5', '4.13', '3.81', '3.61', '3.37', '3.55', '3.77', '2.95', '4.5', '4', '3.33', '3.06', '3.61', '4.03', '4.25', '3.71', '3.41', '3.67', '2.92', '4.25', '4.19', '4', '3.91', '4.39']\n",
      "https://www.beeradvocate.com/beer/profile/209/754/?view=beer&sort=&start=150\n",
      "['3.31', '3.05', '3.13', '3.75', '3.83', '2.05', '5', '3.55', '4.21', '2.87', '3.52', '3.82', '3.83', '3.98', '2.99', '3.82', '4.41', '4.83', '3.28', '3.31', '4.15', '4.56', '3.45', '5', '3.82']\n",
      "https://www.beeradvocate.com/beer/profile/209/754/?view=beer&sort=&start=175\n",
      "['3.35', '3.41', '2.57', '2.81', '5', '3.06', '5', '3.93', '3.95', '3.91', '4.09', '3.32', '4.94', '3.77', '3.08', '4.09', '5', '3.5', '3.52', '1.12', '5', '3.46', '3.24', '4.31', '4.6']\n",
      "https://www.beeradvocate.com/beer/profile/209/754/?view=beer&sort=&start=200\n",
      "['3.59', '1.65', '3.66', '3.71', '5', '3.56', '5', '3.58', '3.47', '4.21', '4.05', '3.44', '3.1', '5', '5', '4.78', '2.57', '3.44', '5', '3.23', '4.03', '5', '3.5', '2.05', '3.56']\n",
      "https://www.beeradvocate.com/beer/profile/209/754/?view=beer&sort=&start=225\n",
      "['4.83', '3.35', '3.36', '3.53', '3.76', '3.68', '4.21', '3.56', '4.21', '2.8', '4.05', '4.38', '3.83', '3.65', '4.28', '4.06', '3.39', '3.39', '2.82', '2.26', '3.87', '4.43', '4', '4.15', '4.74']\n",
      "https://www.beeradvocate.com/beer/profile/209/754/?view=beer&sort=&start=250\n",
      "['3.93', '4.01', '5', '5', '4.23', '3.12', '4.37', '2.3', '2.29', '2.83', '3.36', '2.44', '4.5', '3.59', '3.5', '3.7', '3.24', '3.98', '4.64', '4.44', '4.15', '2.61', '3.69', '4.75', '3.29']\n",
      "https://www.beeradvocate.com/beer/profile/209/754/?view=beer&sort=&start=275\n",
      "['3.49', '1.39', '3.89', '2.65', '4.05', '2.9', '3.46', '4.77', '4.08', '3.84', '3.42', '3.46', '4.46', '4.34', '3.67', '3.49', '4', '4.9', '5', '3.4', '3.8', '1.51', '3.87', '3.5', '4.52']\n",
      "https://www.beeradvocate.com/beer/profile/209/754/?view=beer&sort=&start=300\n",
      "['2.9', '3.96', '1.74', '3.81', '2.64', '5', '3.95', '4.5', '4.04', '2.91', '3.94', '3.35', '2.9', '3.55', '3.45', '3.26', '3.95', '3.32', '4.71', '3.33', '3.8', '3.5', '4.07', '4.5', '3.54']\n",
      "https://www.beeradvocate.com/beer/profile/209/754/?view=beer&sort=&start=325\n",
      "['4.36', '4.43', '3.94', '4.06', '3.96', '4.46', '1.67', '4.14', '3', '5', '4.29', '4.28', '4.58', '3.86', '3.35', '3.5', '2.54', '4.12', '4.03', '4.82', '3.88', '3.87', '4.52', '4.5', '3.37']\n",
      "https://www.beeradvocate.com/beer/profile/209/754/?view=beer&sort=&start=350\n",
      "['4.56', '3.82', '3.07', '3.82', '3.04', '4.55', '4.25', '3.16', '4.73', '3.2', '4.73', '3.43', '4.9', '3.96', '4.83', '3.73', '3.59', '3.43', '3.75', '3.33', '4.17', '3.62', '2.64', '3.33', '3.57']\n",
      "https://www.beeradvocate.com/beer/profile/209/754/?view=beer&sort=&start=375\n",
      "['4.09', '3.03', '3.51', '4.49', '5', '2.94', '3.25', '4.19', '3.78', '3.2', '3.77', '3.17', '3.67', '3.7', '4.06', '4.4', '3.33', '3.63', '2.46', '3.06', '4.25', '4.88', '4.46', '3.81', '4.6']\n",
      "https://www.beeradvocate.com/beer/profile/209/754/?view=beer&sort=&start=400\n",
      "['3.39', '3.58', '3.61', '3.66', '4.57', '4.31', '4.58', '1.72', '3.48', '4.24', '3.66', '4.03', '3', '4.5', '5', '2.86', '3.5', '4', '4', '5', '3.48', '5', '3', '3.75', '2.15']\n",
      "https://www.beeradvocate.com/beer/profile/209/754/?view=beer&sort=&start=425\n",
      "['3.5', '3.75', '3.25', '3', '3.5', '4.5', '3.5', '2.5', '2.25', '3.25', '3.75', '4.5', '3.7', '3.75', '3.55', '2.89', '3.44', '4.56', '4.12', '3.4', '3.9', '1.82', '3.93', '3.23', '3.75']\n",
      "https://www.beeradvocate.com/beer/profile/209/754/?view=beer&sort=&start=450\n",
      "['4.35', '2.94', '3.37', '3.86', '3.47', '2.43', '2.95', '2.59', '3.63', '4.07', '3.27', '2.12', '2.65', '4.29', '1.87', '3.39', '1.74', '2.93', '3.63', '2.05', '4.02', '5', '4.06', '2.33', '3.88']\n",
      "https://www.beeradvocate.com/beer/profile/209/754/?view=beer&sort=&start=475\n",
      "['3.53', '3.44', '3.84', '3.62', '4.28', '3.56', '3.59', '3.56', '4.57', '3.33', '3.53', '2.27', '2.8', '2.54', '3.35', '2.97', '1.75', '2.79', '3.29', '3.61', '2.84', '1.18', '4.22', '3.99', '4.85']\n",
      "https://www.beeradvocate.com/beer/profile/209/754/?view=beer&sort=&start=500\n",
      "['3.11', '3.35', '4.19', '3.99', '3.42', '3.55', '3.66', '3.65', '3.5', '4.11', '3.66', '3.5', '4.47', '3.6', '3.83', '3.1', '3.66', '2.73', '3.64', '3.83', '5', '3.42', '2.36', '3.48', '3.3']\n",
      "https://www.beeradvocate.com/beer/profile/209/754/?view=beer&sort=&start=525\n",
      "['3.37', '3.48', '3.32', '2.63', '3.76', '4.75', '3.47', '3.37', '4.03', '3.48', '3.36', '2.92', '2.83', '4.75', '4.94', '3.18', '3.44', '3.3', '3.4', '3.42', '3.36', '3.14', '3.98', '3.85', '3.28']\n",
      "https://www.beeradvocate.com/beer/profile/209/754/?view=beer&sort=&start=550\n",
      "['3.71', '3.4', '3.24', '3.36', '3.58', '3.83', '3', '3.49', '4.72', '3.94', '3.31', '3.62', '3.17', '2.56', '3.51', '3.48', '3.36', '3.38', '4.03', '4.46', '1.35', '2.83', '4.5', '2.86', '4.88']\n",
      "https://www.beeradvocate.com/beer/profile/209/754/?view=beer&sort=&start=575\n",
      "['3.21', '2.82', '3.21', '2.92', '3.45', '3.62', '3.23', '5', '2.93', '3.51', '4.09', '3.84', '3.55', '3.75', '3.9', '3.4', '3.72', '2.98', '4.48', '2.65', '2.01', '4.94', '3.08', '3.01', '3.01']\n",
      "https://www.beeradvocate.com/beer/profile/209/754/?view=beer&sort=&start=600\n",
      "['4.27', '4.43', '3.41', '2.59', '4.83', '3.78', '3.59', '3.41', '2.81', '4.23', '3.48', '2.93', '3.88', '5', '3.56', '3.23', '2.54', '4.8', '2.94', '4.01', '3.06', '3.5', '5', '3.38', '1.65']\n",
      "https://www.beeradvocate.com/beer/profile/209/754/?view=beer&sort=&start=625\n",
      "['2.74', '3.91', '4.12', '3.06', '1.54', '3.91', '4.58', '4.92', '3.03', '3.37', '3.73', '3.89', '3.61', '4.1', '3.64', '2', '2.81', '3.49', '4.06', '3.32', '4.17', '2.97', '2.56', '3.68', '5']\n",
      "https://www.beeradvocate.com/beer/profile/209/754/?view=beer&sort=&start=650\n",
      "['3.35', '2.68', '2.86', '3.4', '3.29', '2.23', '3.93', '3.44', '3.28', '2.6', '3.02', '2.5', '3.18', '1.58', '3.56', '4.71', '3.59', '2.47', '2.15', '4.26', '3.75', '3.1', '3.29', '3.88', '2.76']\n",
      "https://www.beeradvocate.com/beer/profile/209/754/?view=beer&sort=&start=675\n",
      "['3.46', '3.38', '2.66', '3.31', '3.19', '3.36', '4.06', '2.97', '3.06', '2.97', '2.59', '2.93', '3.74', '4.15', '3.47', '3.04', '4.03', '3.19', '2.87', '4.13', '3.45', '3.22', '3.42', '3.83', '3.6']\n",
      "https://www.beeradvocate.com/beer/profile/209/754/?view=beer&sort=&start=700\n",
      "['2.87', '3.79', '4.36', '2.98', '4.5', '2.83', '2.84', '3.44', '2.28', '3.09', '3.79', '3.14', '3.15', '3.34', '3.3', '3.35', '3.46', '3.25', '3.45', '3.69', '2.33', '3.03', '3.94', '2.44', '3.07']\n",
      "https://www.beeradvocate.com/beer/profile/209/754/?view=beer&sort=&start=725\n",
      "['2.5', '3.35', '3.37', '3.59', '3.44', '3.6', '2.23', '3.01', '5', '4.54', '2.84', '3.39', '2.12', '5', '2.99', '2.62', '2.03', '2.97', '3.48', '2.93', '3.69', '3.03', '3.3', '4', '4.73']\n"
     ]
    },
    {
     "name": "stdout",
     "output_type": "stream",
     "text": [
      "https://www.beeradvocate.com/beer/profile/209/754/?view=beer&sort=&start=750\n",
      "['3.12', '2.73', '2.96', '3.09', '2.64', '3.36', '3.76', '3.63', '3.7', '3.43', '3.56', '4.68', '2.67', '2.74', '2.67', '4.04', '3.23', '3.16', '3.48', '3.56', '3.41', '1.42', '3.14', '3.86', '3.1']\n",
      "https://www.beeradvocate.com/beer/profile/209/754/?view=beer&sort=&start=775\n",
      "['3.28', '2.82', '3.26', '3.74', '3.12', '4', '3.08', '3.28', '3.62', '3.71', '3.62', '3.24', '3.07', '2.24', '3.6', '3.41', '4.21', '3.11', '4.31', '3.49', '3.44', '2.48', '3.63', '3.83', '3.49']\n",
      "https://www.beeradvocate.com/beer/profile/209/754/?view=beer&sort=&start=800\n",
      "['3.54', '4', '3.06', '2.93', '2.66', '3.35', '3.32', '3.75', '2.86', '3.28', '3.83', '3.3', '3.27', '3.45', '3.95', '3.26', '3.85', '3.58', '3.02', '3.23', '3.19', '4.12', '3.54', '3.21', '3.58']\n",
      "https://www.beeradvocate.com/beer/profile/209/754/?view=beer&sort=&start=825\n",
      "['3.56', '4.04', '3.63', '3.7', '2.94', '3', '4.49', '2.24', '3.22', '3.58', '3.56', '3.38', '3.33', '2.96', '3.24', '2.98', '2.57', '3.3', '4.06', '3.62', '4.3', '2.85', '3.43', '3.31', '3.86']\n",
      "https://www.beeradvocate.com/beer/profile/209/754/?view=beer&sort=&start=850\n",
      "['4.13', '3.48', '3.66', '4.16', '2.99', '4.88', '3.87', '1.88', '2.68', '2.8', '2.82', '3.16', '2.34', '3.44', '2.64', '3.64', '2.92', '3.8', '3.56', '3.96', '3.29', '3.46', '3.64', '3.58', '3.21']\n",
      "https://www.beeradvocate.com/beer/profile/209/754/?view=beer&sort=&start=875\n",
      "['2.97', '3.37', '1.03', '2.74', '3.37', '3.17', '2.67', '3.85', '3.65', '3.98', '3.22', '3.18', '2.82', '2.82', '2.65', '2.02', '3.63', '3.31', '3.2', '3.82', '2.79', '3.91', '3.78', '4.07', '4.16']\n",
      "https://www.beeradvocate.com/beer/profile/209/754/?view=beer&sort=&start=900\n",
      "['2.17', '3.62', '2.95', '2.95', '3.91', '2.46', '3.96', '2.24', '2.74', '3.39', '5', '3.05', '5', '3.17', '3.25', '2.59', '3.73', '3.23', '3.31', '3.31', '3.73', '3.93', '4.48', '2.44', '3.89']\n",
      "https://www.beeradvocate.com/beer/profile/209/754/?view=beer&sort=&start=925\n",
      "['3.34', '1.9', '3.62', '3.73', '3.69', '3.4', '4.23', '3.32', '3.84', '2.8', '2.88', '4.05', '2.72', '2.95', '4.01', '1.56', '2.94', '2.71', '3.47', '3.54', '4.21', '4.03', '3.33', '3.94', '3.58']\n",
      "https://www.beeradvocate.com/beer/profile/209/754/?view=beer&sort=&start=950\n",
      "['2.98', '3.09', '2.54', '2.94', '3.68', '3.27', '2.71', '3.34', '3.88', '2.1', '2.44', '3.11', '4.01', '3.58', '3.66', '3.13', '4.03', '3.34', '2.54', '4.2', '3.54', '3.98', '2.56', '2.87', '3.14']\n",
      "https://www.beeradvocate.com/beer/profile/209/754/?view=beer&sort=&start=975\n",
      "['2.62', '1.62', '3.41', '3.98', '3.95', '2.81', '3.26', '2.96', '5', '3.72', '3.17', '3.51', '3.83', '3.62', '3.79', '2.74', '4.26', '2.91', '3.22', '3.91', '3.56', '3.37', '3.05', '2.81', '1.23']\n",
      "https://www.beeradvocate.com/beer/profile/209/754/?view=beer&sort=&start=1000\n",
      "['2.52', '3.07', '3.15', '2.42', '3.07', '3.16', '3.27', '3.91', '2.17', '2.86', '2.33', '3.54', '3.22', '3.63', '5', '4.05', '2.91', '3.13', '2.7', '2.54', '3.22', '3.93', '3.3', '2.73', '3.43']\n",
      "https://www.beeradvocate.com/beer/profile/209/754/?view=beer&sort=&start=1025\n",
      "['3.96', '3.71', '4.24', '2.75', '2.57', '2.7', '4.05', '3.38', '3.16', '3.03', '4.51', '3.86', '4.06', '3.04', '4.36', '3.91', '3.41', '3', '3.3', '2.81', '3.3', '3.25', '3.51', '3.23', '2.91']\n",
      "https://www.beeradvocate.com/beer/profile/209/754/?view=beer&sort=&start=1050\n",
      "['2.58', '2.54', '3.42', '2.91', '2.53', '3.45', '3.49', '3.42', '3.17', '4.12', '4.43', '3.93', '4.88', '4.83', '2.84', '3.53', '3.64', '2.59', '3.37', '3.84', '3.15', '4.06', '2.58', '3.63', '3.59']\n",
      "https://www.beeradvocate.com/beer/profile/209/754/?view=beer&sort=&start=1075\n",
      "['3.7', '2.32', '3.91', '3.72', '3.7', '2.69', '3.76', '3.81', '3.22', '2.56', '3.52', '2.72', '3.33', '3.23', '3.67', '3.29', '2.76', '4.11', '3.46', '2.3', '3.33', '3.22', '3.62', '4', '3.26']\n",
      "https://www.beeradvocate.com/beer/profile/209/754/?view=beer&sort=&start=1100\n",
      "['3.32', '1.3', '3.63', '3.16', '3.54', '2.95', '3.5', '3.31', '3.56', '3.72', '3.04', '3.51', '3.28', '3.24', '3.02', '2.4', '3.86', '4.8', '2.35', '3.39', '3.75', '2.8', '2.88', '3.06', '1.56']\n",
      "https://www.beeradvocate.com/beer/profile/209/754/?view=beer&sort=&start=1125\n",
      "['2.02', '3.53', '3.12', '3.92', '3.47', '3.36', '3.71', '4.24', '3.16', '1.98', '1.06', '3.46', '3.06', '2.56', '3.62', '3.21', '3.68', '3.29', '2.67', '3.21', '2.62', '3.23', '2.89', '3.35', '4.41']\n",
      "https://www.beeradvocate.com/beer/profile/209/754/?view=beer&sort=&start=1150\n",
      "['3.41', '3.9', '2.91', '2.78', '3.29', '3.29', '2.98', '1.74', '2.74', '2.44', '4.22', '4.02', '3.44', '4.4', '3.29', '3.25', '1', '3.11', '3.21', '3.44', '3.66', '3.11', '3.21', '3.24', '4.26']\n",
      "https://www.beeradvocate.com/beer/profile/209/754/?view=beer&sort=&start=1175\n",
      "['3.8', '3.69', '4.1', '2.81', '3.52', '3.45', '2.73', '3.04', '3.1', '3.49', '3.81', '2.3', '2.08', '2.12', '3.38', '3.29', '4.5', '3.03', '4.64', '3.24', '3.47', '3.45', '2.93', '3.94', '4.43']\n",
      "https://www.beeradvocate.com/beer/profile/209/754/?view=beer&sort=&start=1200\n",
      "['3.24', '3.01', '2.38', '3.28', '3.05', '4.13', '3.21', '3.33', '3.89', '4.08', '2.07', '2.75', '1.7', '2.82', '3.28', '3.91', '2.34', '3.45', '3.24', '3.19', '4.05', '4.16', '3.39', '2.79', '3.2']\n",
      "https://www.beeradvocate.com/beer/profile/209/754/?view=beer&sort=&start=1225\n",
      "['3.76', '3.34', '3.14', '3.67', '3.58', '3.31', '2.59', '3', '4.09', '3.58', '3.59', '3.58', '3.33', '2.81', '3.76', '2.55', '2.93', '2.28', '3.56', '3.76', '3.11', '2.95', '2.51', '3.42', '3.08']\n",
      "https://www.beeradvocate.com/beer/profile/209/754/?view=beer&sort=&start=1250\n",
      "['4.48', '4.36', '3.63', '3.33', '4.16', '2.19', '3.88', '3.59', '3.18', '2.1', '2.26', '2.62', '1.78', '3.52', '3.51', '3.86', '3.45', '3.02', '3.25', '2.47', '3.28', '3.56', '3.69', '3.34', '1.95']\n",
      "https://www.beeradvocate.com/beer/profile/209/754/?view=beer&sort=&start=1275\n",
      "['3.57', '4.61', '3.89', '3.78', '3.01', '3.6', '3.92', '4.43', '2.35', '3.1', '2.47', '3.23', '2.18', '3.04', '3.49', '3.09', '2.71', '3.3', '2.7', '3.09', '2.65', '2.53', '3.92', '2.91', '1.98']\n",
      "https://www.beeradvocate.com/beer/profile/209/754/?view=beer&sort=&start=1300\n",
      "['3.25', '3.57', '3.51', '3.56', '3.84', '3.61', '3.49', '4.04', '3.21', '2.58', '2.87', '3.54', '3.57', '3.14', '3.91', '3.21', '2.91', '3.99', '3.22', '3.12', '3.26', '3.59', '3.61', '2.95', '3.86']\n",
      "https://www.beeradvocate.com/beer/profile/209/754/?view=beer&sort=&start=1325\n",
      "['3.27', '3.72', '4.11', '2.52', '3.62', '3.2', '3.46', '3.81', '2.84', '2.82', '3.31', '3.41', '4.23', '3.88', '2.61', '2.69', '4.39', '3.45', '2.34', '4.01', '3.32', '3.58', '3.52', '4.24', '2.92']\n",
      "https://www.beeradvocate.com/beer/profile/209/754/?view=beer&sort=&start=1350\n",
      "['4.26', '3.57', '3.48', '3.72', '4.03', '3.5', '3.24', '2.27', '3.06', '3.36', '3.12', '3.26', '3.67', '3.49', '2.5', '2.61', '3.31', '3.23', '3.78', '3.21', '3.41', '3.61', '2.62', '3.9', '2.36']\n",
      "https://www.beeradvocate.com/beer/profile/209/754/?view=beer&sort=&start=1375\n",
      "['3.23', '4.5', '2.04', '4.63', '3.76', '3.86', '4.8', '3.53', '2.47', '2.16', '2.9', '3.81', '4', '3.41', '2.87', '2.86', '2.62', '3.22', '3.18', '3.41', '3.12', '3.02', '2.8', '3.61', '1']\n",
      "https://www.beeradvocate.com/beer/profile/209/754/?view=beer&sort=&start=1400\n",
      "['2.98', '2.34', '3.58', '3.56', '3.33', '3.71', '3.61', '2.14', '3.32', '2.01', '2.53', '3.12', '3.28', '3.58', '2.34', '2.99', '2.92', '4.64', '3.68', '3.34', '3.71', '3.39', '3.89', '3.39', '3.29']\n",
      "https://www.beeradvocate.com/beer/profile/209/754/?view=beer&sort=&start=1425\n",
      "['2.91', '1.72', '4.88', '3.48', '3.47', '3.07', '3.29', '2.83', '3.86', '3.77', '3.5', '3.26', '2.92', '3.51', '4.75', '2.71', '4.26', '3.76', '4.14', '4.5', '3.21', '3.42', '3.87', '3.5', '2.73']\n",
      "https://www.beeradvocate.com/beer/profile/209/754/?view=beer&sort=&start=1450\n",
      "['4.01', '4.71', '3.42', '2.65', '3.41', '2.58', '4.21', '3.48', '3.81', '3.75', '3.04', '3.31', '3.43', '3.36', '3.43', '3.48', '2.69', '3.45', '3.42', '3.38', '3.6', '3.65', '3.55', '3.58', '4.3']\n",
      "https://www.beeradvocate.com/beer/profile/209/754/?view=beer&sort=&start=1475\n",
      "['4.16', '3.14', '3.24', '3.15', '3', '3.45', '3.31', '2.17', '3.37', '3.41', '3.95', '2.94', '2.58', '4.4', '3.95', '4.45', '3.98', '2.54', '3.41', '3.36', '3.72', '4.19', '2.6', '4.03', '2.23']\n"
     ]
    },
    {
     "name": "stdout",
     "output_type": "stream",
     "text": [
      "https://www.beeradvocate.com/beer/profile/209/754/?view=beer&sort=&start=1500\n",
      "['2.67', '3.36', '3.73', '2.93', '2.86', '3.91', '3.68', '2.99', '1.46', '1.86', '3.4', '4.36', '3.53', '3.54', '4.04', '3.92', '4.56', '4.02', '2.38', '3.24', '3.35', '3.91', '3.53', '3.74', '3.66']\n",
      "https://www.beeradvocate.com/beer/profile/209/754/?view=beer&sort=&start=1525\n",
      "['3.49', '3.68', '4.07', '3.66', '3.11', '2.87', '3.44', '3.95', '4.09', '3.01', '3.69', '2.65', '3.31', '2.55', '2.59', '3.33', '2.51', '2.74', '2.31', '3.1', '4.45', '3.53', '3.98', '3.33', '3.53']\n",
      "https://www.beeradvocate.com/beer/profile/209/754/?view=beer&sort=&start=1550\n",
      "['1.94', '3.66', '2.18', '3.13', '3.64', '1.73', '3.67', '2.31', '3.86', '4.03', '3.84', '3.91', '4.48', '3.3', '3.41', '3.89', '3.96', '3.24', '3.56', '3.36', '3.33', '3.42', '3.52', '3.63', '3.24']\n",
      "https://www.beeradvocate.com/beer/profile/209/754/?view=beer&sort=&start=1575\n",
      "['3.17', '3.48', '1.95', '3.28', '3.69', '3', '2.91', '3.44', '4.65', '3.52', '3.81', '3.29', '2.84', '3.84', '3.84', '4.21', '3.25', '2.88', '2.36', '3.51', '3.46', '3.92', '2.5', '3.43', '2.86']\n",
      "https://www.beeradvocate.com/beer/profile/209/754/?view=beer&sort=&start=1600\n",
      "['2.37', '3.68', '2.11', '3.01', '3.39', '3.74', '2.86', '3.13', '3', '3.14', '2.2', '4.07', '3.49', '2.41', '4.76', '1.89', '4.36', '4.42', '2.06', '2.7', '2.92', '3.57', '4.1', '4.73', '4.51']\n",
      "https://www.beeradvocate.com/beer/profile/209/754/?view=beer&sort=&start=1625\n",
      "['4.58', '4.57', '4.03', '3.06', '4.18', '4.23', '3.99', '3.6', '3.96', '4', '3.91', '3.51', '3.72', '3.41', '4.11', '3.48', '5', '4.21', '3.65', '3.24', '3.94', '2.4', '3.74', '4.46', '2.8']\n",
      "https://www.beeradvocate.com/beer/profile/209/754/?view=beer&sort=&start=1650\n",
      "['3.73', '3.08', '3.69', '3.04', '3.06', '3.99', '2.81', '3.56', '3.4', '1.74', '4.55', '4.88', '3.14', '2.93', '4.7', '4.07', '3.86', '3.28', '3.5', '2.67', '3.36', '3.61', '3.66', '4.21', '4.01']\n",
      "https://www.beeradvocate.com/beer/profile/209/754/?view=beer&sort=&start=1675\n",
      "['2.94', '3.22', '3.86', '4.88', '2.39', '3.31', '4.65', '3.59', '3.49', '3.73', '3.93', '3.08', '3.95', '2.16', '4.29', '2.93', '3.63', '4.03', '2.66', '2.75', '4', '2.92', '4.34', '3.32', '2.76']\n",
      "https://www.beeradvocate.com/beer/profile/209/754/?view=beer&sort=&start=1700\n",
      "['3.26', '3.65', '3.48', '5', '3.56', '4.01', '3.41', '3.4', '3.73', '3.65', '2.49', '4.7', '3.58', '3.59', '4.44', '3.54', '3.2', '2.18', '2.76', '3.86', '3.73', '3.28', '3.71', '4.16', '3.32']\n",
      "https://www.beeradvocate.com/beer/profile/209/754/?view=beer&sort=&start=1725\n",
      "['3.94', '2.58', '4.36', '4', '3.29', '3.42', '3.72', '4.11', '3.38', '2.63', '3.38', '2.91', '2.88', '2.3', '4.1', '3.28', '3.39', '3.12', '3.51', '2.8', '3.84', '3.38', '3.51', '2.55', '3.88']\n",
      "https://www.beeradvocate.com/beer/profile/209/754/?view=beer&sort=&start=1750\n",
      "['3.02', '2.43', '2.95', '3.79', '3.98', '4.26', '3.79', '3.59', '3.27', '3.36', '3.81', '4.78', '4.21', '2.35', '4.28', '3.59', '2.62', '4', '4.03', '3.63', '3.49', '4', '3.98', '3.25', '4.63']\n",
      "https://www.beeradvocate.com/beer/profile/209/754/?view=beer&sort=&start=1775\n",
      "['4.26', '4.04', '3.23', '3.83', '3.14', '2.36', '2.8', '3.51', '3.94', '4.43', '3.7', '3.52', '2.92', '3.09', '3.86', '3.39', '4.53', '3.59', '3.71', '3.51', '1.24', '3.3', '1.58', '3.49', '4.06']\n",
      "https://www.beeradvocate.com/beer/profile/209/754/?view=beer&sort=&start=1800\n",
      "['4.51', '4.14', '3.63', '2.34', '4.46', '3.99', '3.53', '4.15', '3.78', '3.68', '4.18', '4.18', '3.85', '3.68', '4.15', '3.24', '3.63', '3.68', '3.59', '3.42', '3.56', '3.24', '3.85', '2.2', '3.91']\n",
      "https://www.beeradvocate.com/beer/profile/209/754/?view=beer&sort=&start=1825\n",
      "['3.94', '4.01', '2.77', '4.01', '3.69', '4', '3.26', '2.59', '3.29', '3.38', '2.54', '3.19', '4.7', '4.78', '4.46', '2.7', '4.08', '3.35', '4.45', '3.36', '3.73', '3.26', '4.04', '3.68', '3.56']\n",
      "https://www.beeradvocate.com/beer/profile/209/754/?view=beer&sort=&start=1850\n",
      "['2.75', '3.94', '3.68', '4.06', '4.35', '3.51', '3.44', '4.33', '2.15', '3.22', '1.53', '3.33', '2.38', '3.47', '3.14', '3.75', '3.31', '3.8', '4.47', '4.11', '4.56', '4.31', '2', '3.04', '2.72']\n",
      "https://www.beeradvocate.com/beer/profile/209/754/?view=beer&sort=&start=1875\n",
      "['3.71', '1.99', '4.16', '3.06', '4.09', '3.4', '3.38', '3.61', '4.47', '2.91', '2.72', '1.92', '4.13', '4.18', '4.03', '3.27', '3.78', '3.09', '4.17', '3.79', '3.1', '3.36', '3.71', '3.44', '3.54']\n",
      "https://www.beeradvocate.com/beer/profile/209/754/?view=beer&sort=&start=1900\n",
      "['4.35', '3.61', '3.54', '4.71', '3.48', '4.02', '2.97', '2.93', '3.51', '3.46', '4.88', '3.65', '3.81', '3.75', '4.39', '3.44', '3.7', '3.96', '3.66', '3.96', '2.45', '2.75', '3.66', '4.37', '3.46']\n",
      "https://www.beeradvocate.com/beer/profile/209/754/?view=beer&sort=&start=1925\n",
      "['4', '3.5', '4.18', '2.45', '2.3', '3.77', '3.92', '3.52', '2.09', '3.95', '3.51', '3.57', '3.73', '3.46', '3.6', '3.73', '3.98', '3.65', '2.8', '2.82', '3.78', '2.96', '2.51', '2.49', '3.47']\n",
      "https://www.beeradvocate.com/beer/profile/209/754/?view=beer&sort=&start=1950\n",
      "['2.78', '3.18', '3.68', '3.04', '3.44', '3.36', '3.4', '4.65', '2.04', '3.93', '4.15', '4.16', '4.33', '3.57', '3.81', '3.94', '3.43', '4.16', '2.46', '3.59', '3.76', '3.98', '3.61', '4.23', '3.59']\n",
      "https://www.beeradvocate.com/beer/profile/209/754/?view=beer&sort=&start=1975\n",
      "['4.68', '3.2', '2.26', '2.65', '3.79', '3.17', '2.86', '4.36', '3.96', '3.95', '4.08', '3.83', '4.28', '2.86', '3.09', '4.38', '3.31', '3.41', '3.92', '3.76', '3.81', '3.91', '2.71', '3.49', '3.53']\n",
      "https://www.beeradvocate.com/beer/profile/209/754/?view=beer&sort=&start=2000\n",
      "['3.33', '3.26', '3.97', '4.56', '3.54', '3.38', '3.55', '2.02', '3.08', '3.81', '1.66', '3.43', '3.86', '1.5', '3.14', '4.13', '4.88', '2.46', '4.11', '2.54', '3.03', '3.61', '4.29', '4.08', '4.07']\n",
      "https://www.beeradvocate.com/beer/profile/209/754/?view=beer&sort=&start=2025\n",
      "['3.38', '3.54', '3.63', '4.1', '3.06', '2.25', '3.6', '3.3', '3.26', '4.16', '3.66', '2.82', '3.88', '2.11', '2.98', '4.71', '3.53', '3.39', '2.74', '3.48', '3.53', '3.79', '3.6', '3.33', '3.83']\n",
      "https://www.beeradvocate.com/beer/profile/209/754/?view=beer&sort=&start=2050\n",
      "['3.16', '2.96', '2.05', '4.38', '3.76', '3.51', '4.04', '2.96', '3.56', '2.93', '3.56', '3.03', '3.51', '3.51', '3.41', '3.34', '4.5', '3.16', '3.02', '3', '2.59', '3', '3.04', '2.32', '3.41']\n",
      "https://www.beeradvocate.com/beer/profile/209/754/?view=beer&sort=&start=2075\n",
      "['3.43', '4.15', '4.06', '4.14', '3.87', '3.03', '3.26', '3', '3.37', '3.12', '4.51', '3.93', '3.31', '3.56', '3.86', '3.98', '3.21', '2.41', '2.72', '4.15', '2.84', '3.14', '3.44', '2.83', '3.79']\n",
      "https://www.beeradvocate.com/beer/profile/209/754/?view=beer&sort=&start=2100\n",
      "['3.75', '3.34', '3.69', '4.11', '4.48', '2.83', '3.59', '3.8', '1', '2.96', '2.87', '3.74', '2.18', '3.7', '4.27', '3.61', '2.35', '2', '3.54', '3.91', '5', '2.59', '3', '3.2', '2.85']\n",
      "https://www.beeradvocate.com/beer/profile/209/754/?view=beer&sort=&start=2125\n",
      "['2.83', '2.85', '3.98', '1.42', '4', '4.07', '3.31', '4.13', '3.31', '3.18', '3.95', '4.08', '3.27', '1.93', '4.03', '3.31', '4.26', '3.06', '4.05', '4.33', '3.56', '1.77', '4.56', '3.71', '3.71']\n",
      "https://www.beeradvocate.com/beer/profile/209/754/?view=beer&sort=&start=2150\n",
      "['3.5', '3.83', '3.38', '3.09', '3.38', '3.21', '4.76', '3.67', '3.9', '3.53', '3.31', '3.56', '2.38', '3.82', '4.2', '3.08', '4.02', '4.13', '4.18', '3.99', '3.86', '2.88', '4.23', '3.48', '2.31']\n",
      "https://www.beeradvocate.com/beer/profile/209/754/?view=beer&sort=&start=2175\n",
      "['3.59', '3.18', '3.43', '3.51', '3.55', '3.48', '4.26', '3.49', '3.14', '3.93', '3.72', '4.31', '4.42', '2.96', '3.7', '4.36', '3.71', '3.81', '4.01', '3.56', '4.1', '3.46', '2.95', '3.3', '3.84']\n",
      "https://www.beeradvocate.com/beer/profile/209/754/?view=beer&sort=&start=2200\n",
      "['2.39', '4.63', '3.8', '2.02', '4.24', '1.92', '3.41', '3.9', '2.96', '3.59', '3.48', '3.63', '2.74', '3.8', '4.43', '4.14', '3.73', '2.97', '2.39', '3.94', '3.54', '3.11', '3.96', '4.14', '2.95']\n",
      "https://www.beeradvocate.com/beer/profile/209/754/?view=beer&sort=&start=2225\n",
      "['3.57', '4.28', '2.62', '3.43', '4.23', '3.79', '2.78', '3.4', '3.72', '3.85', '3.06', '2.08', '3.61', '3.08', '3.13', '3.06', '4.18', '3.66', '3.59', '3.78', '3.65', '2.72', '3.97', '3.62', '3.15']\n"
     ]
    },
    {
     "name": "stdout",
     "output_type": "stream",
     "text": [
      "https://www.beeradvocate.com/beer/profile/209/754/?view=beer&sort=&start=2250\n",
      "['3.6', '3.8', '4.01', '3.38', '2.18', '2.36', '3.13', '3', '3.16', '4.01', '2.53', '3.52', '4.04', '3.99', '3.96', '2.49', '3.54', '2.99', '3', '3.91', '3.22', '4.31', '3.55', '4.68', '3.93']\n",
      "https://www.beeradvocate.com/beer/profile/209/754/?view=beer&sort=&start=2275\n",
      "['3.61', '4.61', '4.29', '3.41', '3.52', '3.71', '4.31', '4.04', '3.95', '3.83', '3.27', '3.41', '2.19', '4.7', '4.03', '3.59', '4.42', '3.86', '3.54', '3.91', '3.08', '4.5', '3.38', '3.61', '2.71']\n",
      "https://www.beeradvocate.com/beer/profile/209/754/?view=beer&sort=&start=2300\n",
      "['5', '4', '3.24', '3.47', '4.23', '3.66', '2.88', '4.56', '3.41', '2.75', '3.81', '4.06', '3.61', '1.42', '2.89', '3.86', '2.46', '3.74', '2.9', '3.59', '3.57', '3.56', '3.41', '3.86', '4.03']\n",
      "https://www.beeradvocate.com/beer/profile/209/754/?view=beer&sort=&start=2325\n",
      "['4.11', '3.65', '3.86', '3.99', '4.38', '3.61', '2.8', '3.26', '3.21', '3.96', '3.51', '3.77', '3.91', '4.11', '3.91', '3.79', '3.75', '3.27', '2.21', '4.41', '3.68', '3.8', '4.46', '3.63', '3.44']\n",
      "https://www.beeradvocate.com/beer/profile/209/754/?view=beer&sort=&start=2350\n",
      "['4.38', '3.68', '3.01', '3.81', '3.27', '3.71', '3.91', '3.39', '3.2', '4.04', '4.58', '4.76', '3.83', '4.51', '4.03', '3.13', '4.21', '4.32', '4.31', '4.06', '4.38', '3.83', '4.03', '3.79', '4.1']\n",
      "https://www.beeradvocate.com/beer/profile/209/754/?view=beer&sort=&start=2375\n",
      "['2.91', '4', '3.18', '4.15', '2.74', '5', '4.04', '4', '3.8', '3.82', '2.4', '2.93', '3.71', '4.63', '2.68', '3.64', '3.67', '3.59', '3.06', '1.36', '4.16', '4.46', '1.47', '4', '3.48']\n"
     ]
    },
    {
     "name": "stderr",
     "output_type": "stream",
     "text": [
      "\r",
      "68it [3:01:00, 285.30s/it]"
     ]
    },
    {
     "name": "stdout",
     "output_type": "stream",
     "text": [
      "https://www.beeradvocate.com/beer/profile/209/754/?view=beer&sort=&start=2400\n",
      "['4.22', '3.2']\n",
      "https://www.beeradvocate.com/beer/profile/506/1426/?view=beer&sort=&start=0\n",
      "['3.9', '3.75', '3.52', '2.99', '3.59', '4.33', '4.02', '4.15', '3.67', '3.1', '3.79', '3.68', '4.18', '3.36', '3.62', '2.21', '3.57', '4', '3.03', '3', '3.89', '3.69', '2.84', '4.35', '2.83']\n",
      "https://www.beeradvocate.com/beer/profile/506/1426/?view=beer&sort=&start=25\n",
      "['4', '3.33', '3.41', '3', '3.23', '2.29', '3.17', '3.67', '2.64', '3.58', '3.77', '3.7', '3.24', '3.08', '3.05', '3.25', '3.04', '3.87', '3.34', '4.04', '3.29', '3.76', '3.12', '3', '3.7']\n",
      "https://www.beeradvocate.com/beer/profile/506/1426/?view=beer&sort=&start=50\n",
      "['4', '2.14', '3.33', '3.34', '4.1', '2.65', '1.59', '3.2', '3.37', '3.11', '3.01', '3.49', '3.34', '3', '3.43', '5', '4.39', '3.5', '3.01', '2.48', '2.32', '2.61', '4.32', '3', '3.3']\n",
      "https://www.beeradvocate.com/beer/profile/506/1426/?view=beer&sort=&start=75\n",
      "['4.42', '3.39', '3', '3.99', '3.62', '1.96', '3.52', '2.74', '2.68', '2.5', '4', '4.37', '3.79', '4.4', '3.18', '3.75', '2.44', '3.17', '3.66', '3.25', '3.56', '2.83', '3.01', '3.21', '4']\n",
      "https://www.beeradvocate.com/beer/profile/506/1426/?view=beer&sort=&start=100\n",
      "['3', '3.07', '3.03', '3.56', '4.25', '3.75', '3.2', '3.5', '3', '3.24', '3.29', '2.74', '3', '2.49', '3.35', '2.72', '3.75', '3.11', '3.18', '3.62', '2.24', '3.77', '3.56', '1.67', '3.68']\n",
      "https://www.beeradvocate.com/beer/profile/506/1426/?view=beer&sort=&start=125\n",
      "['3.3', '3.38', '3.14', '2.99', '3.34', '3.29', '2.87', '3.12', '2.16', '3.4', '3.13', '2.75', '3.47', '3.57', '3.2', '3.12', '3.23', '2.32', '3.37', '2.58', '3', '2.23', '2', '3.11', '2.88']\n",
      "https://www.beeradvocate.com/beer/profile/506/1426/?view=beer&sort=&start=150\n",
      "['3', '3.08', '3.15', '2.83', '2.81', '2.61', '2.5', '3', '2.9', '3.1', '3.34', '3.02', '2.71', '3.05', '2.96', '2.54', '3.1', '2.3', '3.1', '4', '2.76', '2.91', '3.08', '3.28', '3.7']\n",
      "https://www.beeradvocate.com/beer/profile/506/1426/?view=beer&sort=&start=175\n",
      "['3.04', '3.47', '3', '2.88', '2.51', '3.33', '3.18', '3.38', '3.34', '1.98', '3.63', '2.93', '2.11', '3.08', '3.03', '3.56', '2.88', '2.91', '2.88', '1.05', '2.93', '3.16', '1.99', '3.2', '3.18']\n",
      "https://www.beeradvocate.com/beer/profile/506/1426/?view=beer&sort=&start=200\n",
      "['2.52', '3.29', '3.73', '2.96', '2.92', '2.72', '3.06', '3.27', '3.1', '2.76', '3.2', '3.04', '3.15', '4', '2.51', '4', '3.32', '1.12', '3.1', '3.22', '2.98', '3.46', '2.88', '3.55', '2.98']\n",
      "https://www.beeradvocate.com/beer/profile/506/1426/?view=beer&sort=&start=225\n",
      "['3.2', '2.71', '3.2', '3.08', '3.28', '2.7', '3.7', '2.72', '3.37', '3.45', '3.21', '4', '3.24', '3.54', '3.38', '2.78', '3.33', '2.04', '3.6', '3.62', '2.79', '3', '3.12', '2.81', '3.6']\n",
      "https://www.beeradvocate.com/beer/profile/506/1426/?view=beer&sort=&start=250\n",
      "['2.83', '4.01', '2.8', '4.68', '2.5', '2.85', '4.27', '3.35', '3.8', '3.35', '3.23', '3.47', '3.23', '3.82', '3.45', '4.47', '2.56', '2.7', '2.61', '3.58', '3.35', '3.5', '3.1', '3.82', '2.06']\n",
      "https://www.beeradvocate.com/beer/profile/506/1426/?view=beer&sort=&start=275\n",
      "['2.59', '1.68', '2.14', '3.08', '4.43', '3.38', '2.69', '3.76', '3.4', '3.26', '3.57', '3.03', '3.63', '2.14', '3.12', '1.93', '2.28', '3.3', '3.71', '2.52', '3', '3.33', '3.12', '3.33', '3.57']\n",
      "https://www.beeradvocate.com/beer/profile/506/1426/?view=beer&sort=&start=300\n",
      "['3.15', '3.28', '3.68', '3.15', '2.61', '3.8', '3.46', '3.52', '3.34', '3.47', '3.15', '3.36', '3.25', '3.31', '2.77', '3.18', '2.66', '2.84', '3.15', '3.48', '3.53', '3.16', '3.15', '4.45', '3.13']\n",
      "https://www.beeradvocate.com/beer/profile/506/1426/?view=beer&sort=&start=325\n",
      "['3.31', '2.86', '3.23', '3.71', '3.8', '3.75', '3.47', '1.96', '3.47', '3.23', '3.3', '2.63', '3.69', '3.31', '2.5', '2.19', '2.27', '2.65', '2.65', '1.83', '2.96', '2.7', '2.02', '3.28', '3.95']\n",
      "https://www.beeradvocate.com/beer/profile/506/1426/?view=beer&sort=&start=350\n",
      "['2.9', '3', '2.82', '3.04', '4.1', '2.93', '1.52', '2.75', '3.4', '3.8', '3.33', '3.88', '2.09', '4.1', '3.56', '3.03', '3.11', '2.76', '3.23', '3.63', '3.07', '2.88', '2.68', '1.54', '3.27']\n",
      "https://www.beeradvocate.com/beer/profile/506/1426/?view=beer&sort=&start=375\n",
      "['3.52', '2.7', '2.78', '1.8', '3', '2.97', '4.4', '3.4', '4.4', '3.72', '3.08', '3.95', '3.6', '2.4', '3.29', '3.13', '1.84', '1.84', '2.97', '3.23', '3.36', '3.8', '2.83', '2.87', '3.33']\n",
      "https://www.beeradvocate.com/beer/profile/506/1426/?view=beer&sort=&start=400\n",
      "['2.91', '2.98', '4.18', '3.8', '3.23', '3.56', '3.57', '3.18', '3.33', '3.33', '3.15', '2.6', '3.52', '2.78', '3.03', '3', '3.43', '2.96', '3.11', '2.53', '3.17', '2.9', '2.8', '2.9', '3.23']\n",
      "https://www.beeradvocate.com/beer/profile/506/1426/?view=beer&sort=&start=425\n",
      "['3.18', '3.3', '2.53', '2.76', '2.88', '3.37', '3.25', '3.35', '2.9', '3.36', '3.16', '2.76', '2.7', '2.49', '3.54', '2.8', '2.67', '3.33', '3.1', '3.43', '3.44', '3.34', '3.06', '2.85', '3.57']\n",
      "https://www.beeradvocate.com/beer/profile/506/1426/?view=beer&sort=&start=450\n",
      "['2.03', '3.41', '2.98', '4', '2.66', '2.62', '3.06', '2.59', '3.51', '2.95', '1.73', '3.52', '3.25', '3', '2.53', '3.28', '3', '3.2', '3', '3.8', '2.38', '3.47', '3.33', '3.83', '3.25']\n",
      "https://www.beeradvocate.com/beer/profile/506/1426/?view=beer&sort=&start=475\n",
      "['3', '3.75', '2.91', '3.95', '3.03', '3.55', '3.51', '2.84', '2.82', '3.58', '3.31', '3.8', '3.03', '3.03', '2.86', '2.33', '2.55', '3.23', '3.05', '3.33', '3.68', '3.86', '3.17', '2.36', '2.85']\n",
      "https://www.beeradvocate.com/beer/profile/506/1426/?view=beer&sort=&start=500\n",
      "['3.23', '2.36', '2.53', '3.36', '3.76', '3.18', '3.2', '2.58', '2.68', '2.46', '3.85', '1.91', '2.91', '2.88', '4.15', '2.96', '4', '3.28', '2.71', '2.08', '3.4', '3.25', '3.5', '4.3', '2.96']\n",
      "https://www.beeradvocate.com/beer/profile/506/1426/?view=beer&sort=&start=525\n",
      "['3.3', '3.24', '3.2', '3.23', '2.7', '3.6', '3.68', '2.95', '1.73', '3.92', '2.61', '2.91', '3.01', '3.22', '3.88', '3', '3.23', '3.05', '2.73', '3.13', '2.64', '2.91', '4.4', '3.72', '3.2']\n",
      "https://www.beeradvocate.com/beer/profile/506/1426/?view=beer&sort=&start=550\n",
      "['2.16', '2.34', '2.96', '2.5', '3.12', '3.45', '3.67', '2.49', '2.82', '3.83', '3.38', '2.66', '3.65', '3.3', '2.95', '2.89', '2.04', '3.67', '3.7', '3.51', '3.17', '3.45', '3.36', '3.15', '3.33']\n",
      "https://www.beeradvocate.com/beer/profile/506/1426/?view=beer&sort=&start=575\n",
      "['3.48', '2.91', '3.06', '3.08', '3.38', '2.98', '2.6', '3.35', '3.56', '3.24', '3.6', '3.68', '2.49', '2.61', '3.33', '3.33', '1.72', '2.83', '2.89', '2.98', '3.51', '3', '2.65', '3.63', '3.43']\n",
      "https://www.beeradvocate.com/beer/profile/506/1426/?view=beer&sort=&start=600\n",
      "['2.39', '2.87', '3.19', '3.08', '1.8', '1.71', '2.8', '3.45', '3.11', '3.32', '3.23', '2.58', '3.82', '3.18', '2.56', '2.66', '3.95', '4.22', '2.98', '2.61', '3.06', '2.91', '4.52', '2.58', '2.95']\n",
      "https://www.beeradvocate.com/beer/profile/506/1426/?view=beer&sort=&start=625\n",
      "['2.83', '3.27', '3.95', '2.98', '3.35', '3.87', '4.02', '3.91', '2.61', '2.59', '3.36', '2.18', '3.11', '2.8', '3.63', '3.25', '1.89', '3.25', '3.63', '3.35', '2.93', '2.88', '2.23', '1.76', '1.08']\n",
      "https://www.beeradvocate.com/beer/profile/506/1426/?view=beer&sort=&start=650\n",
      "['3.13', '2.3', '2.16', '3.88', '2.78', '2.9', '3.03', '2.25', '2.9', '3.8', '2.93', '3.4', '3.51', '3.35', '3.59', '3.14', '3.28', '3.09', '2.94', '3.08', '2.84', '3.03', '3.3', '2.3', '3.05']\n",
      "https://www.beeradvocate.com/beer/profile/506/1426/?view=beer&sort=&start=675\n",
      "['3.78', '2.63', '1.83', '3.83', '3.54', '3.38', '2.88', '1.24', '1.68', '3.22', '2.28', '2.62', '3.88', '3.01', '3.24', '3.63', '3.41', '3.47', '2.67', '4.6', '3.58', '1.4', '3.2', '3.8', '3.45']\n"
     ]
    },
    {
     "name": "stderr",
     "output_type": "stream",
     "text": [
      "\r",
      "69it [3:03:48, 250.20s/it]"
     ]
    },
    {
     "name": "stdout",
     "output_type": "stream",
     "text": [
      "https://www.beeradvocate.com/beer/profile/506/1426/?view=beer&sort=&start=700\n",
      "['3.68', '2.76', '3.26', '3.5', '2.8', '3.2', '3.25', '3.6', '3.28', '3.19', '3.57', '3.69', '3.3', '3.76']\n",
      "https://www.beeradvocate.com/beer/profile/71/222/?view=beer&sort=&start=0\n",
      "['4.12', '4.47', '3.97', '4.02', '4.28', '3.94', '3.2', '4.07', '4.16', '4.05', '4.4', '3.98', '3.93', '3.87', '4', '3.82', '3.64', '4.27', '3.41', '2.2', '4.1', '3.5', '4.11', '4.07', '3.79']\n",
      "https://www.beeradvocate.com/beer/profile/71/222/?view=beer&sort=&start=25\n",
      "['3.78', '3.28', '3.99', '3.65', '2.52', '3.84', '4.5', '3.81', '3.31', '3.35', '3.71', '3.81', '4.73', '4.24', '3.41', '3.87', '4.42', '3.94', '3.21', '4.05', '3.81', '3.88', '3.88', '3.99', '3.68']\n",
      "https://www.beeradvocate.com/beer/profile/71/222/?view=beer&sort=&start=50\n",
      "['4.08', '3.62', '4.8', '3.06', '3.76', '2.99', '5', '4.58', '1.71', '4.4', '3.74', '3.44', '4.19', '3.24', '3.99', '3.98', '5', '4.47', '4.51', '4.47', '3.1', '3.61', '4.14', '3.84', '3.06']\n",
      "https://www.beeradvocate.com/beer/profile/71/222/?view=beer&sort=&start=75\n",
      "['3.14', '3.55', '4.13', '4.31', '4.03', '4.17', '3.9', '4.21', '3.51', '4', '3.98', '4.19', '4', '3.75', '4.44', '4.14', '3.81', '3.74', '3.85', '4.09', '4.49', '4.03', '4.32', '3.5', '3.92']\n",
      "https://www.beeradvocate.com/beer/profile/71/222/?view=beer&sort=&start=100\n",
      "['3.18', '3.12', '4', '3.65', '2.75', '4.05', '3.51', '4', '3.7', '4.04', '3.93', '3.79', '2.78', '4.12', '4.84', '3.68', '4.15', '3.47', '4.8', '4.75', '3.93', '3.54', '3.17', '3.68', '3.8']\n",
      "https://www.beeradvocate.com/beer/profile/71/222/?view=beer&sort=&start=125\n",
      "['3.59', '4', '4', '4.25', '4.25', '4.5', '4.25', '3.85', '3.25', '3.48', '4.75', '3.96', '4.03', '3.34', '3.5', '3.93', '4.25', '4.25', '4.24', '3.68', '4.55', '3.79', '3.37', '3.78', '3.82']\n",
      "https://www.beeradvocate.com/beer/profile/71/222/?view=beer&sort=&start=150\n",
      "['4', '3.78', '3.96', '4.4', '3.76', '4.43', '4.23', '3.98', '3.83', '3.74', '3.72', '4.13', '4', '3.75', '4.63', '3.97', '4.8', '4', '3.84', '3.71', '3.84', '3.9', '1.11', '3.99', '3.47']\n",
      "https://www.beeradvocate.com/beer/profile/71/222/?view=beer&sort=&start=175\n",
      "['4.69', '4.03', '3.93', '3.91', '4.07', '2.97', '3.52', '4.17', '3.49', '4.23', '4.05', '4', '3.75', '3.78', '3.61', '3.71', '4.05', '4.16', '4.29', '4.32', '3.98', '4.7', '4.55', '4.17', '3.88']\n",
      "https://www.beeradvocate.com/beer/profile/71/222/?view=beer&sort=&start=200\n",
      "['3.75', '4.21', '4.15', '4.35', '3.78', '3.87', '3.88', '3.78', '3.82', '4.45', '3.49', '4.12', '3.94', '3.48', '3.75', '3.87', '4.07', '4.29', '4', '4.2', '4.85', '4.15', '3.92', '4.13', '3.85']\n",
      "https://www.beeradvocate.com/beer/profile/71/222/?view=beer&sort=&start=225\n",
      "['3.21', '3.85', '3.6', '4.17', '3.13', '4.33', '2.71', '4.25', '3.83', '4.35', '3.47', '3.68', '3.7', '4.3', '4.5', '4.53', '4.3', '4', '3.83', '4.35', '3.93', '4.13', '3.71', '3.08', '4.17']\n",
      "https://www.beeradvocate.com/beer/profile/71/222/?view=beer&sort=&start=250\n",
      "['4.21', '3.11', '4', '3.58', '4.38', '3.73', '3.73', '4.2', '4.37', '4.5', '4.72', '3.38', '3.4', '3.83', '4.34', '4.08', '4.32', '3.68', '4.07', '4', '4.1', '4.15', '3.57', '4.05', '4.07']\n",
      "https://www.beeradvocate.com/beer/profile/71/222/?view=beer&sort=&start=275\n",
      "['4.08', '3.8', '3.8', '3.79', '2.95', '3.5', '3.68', '3.06', '4.02', '3.48', '3.88', '4.42', '2.88', '3.88', '2.18', '2.9', '4.25', '4.18', '4.27', '3.96', '3.88', '3.15', '3.85', '4.05', '4.3']\n",
      "https://www.beeradvocate.com/beer/profile/71/222/?view=beer&sort=&start=300\n",
      "['4.18', '3.63', '4.23', '3.88', '3.5', '3.4', '4.12', '3.96', '3.65', '3.68', '4.18', '3.99', '4.32', '4.22', '3.5', '3.9', '3.54', '3.35', '3.77', '3.7', '3.41', '4.7', '2.7', '3.97', '4.13']\n",
      "https://www.beeradvocate.com/beer/profile/71/222/?view=beer&sort=&start=325\n",
      "['4.03', '3.7', '4.18', '4.17', '3.83', '3.95', '4.05', '4.21', '4.42', '4.5', '4.3', '4.2', '4.55', '4', '3.72', '4', '3.71', '4.18', '4.3', '3.92', '4.08', '4.08', '3.83', '3.4', '3.88']\n",
      "https://www.beeradvocate.com/beer/profile/71/222/?view=beer&sort=&start=350\n",
      "['3.68', '4.35', '3.94', '3.56', '4.42', '3.78', '3.91', '4.13', '4.27', '4.47', '4.1', '4.15', '3.75', '3.93', '3.12', '3.32', '3.98', '4.27', '4', '4.1', '4.1', '3.28', '4.3', '3.9', '3.94']\n",
      "https://www.beeradvocate.com/beer/profile/71/222/?view=beer&sort=&start=375\n",
      "['3.65', '3.42', '3.85', '4', '3.66', '4.17', '4.08', '4.3', '4.22', '4.04', '3.11', '4.1', '3.55', '3.53', '3.95', '3.68', '3.4', '3.96', '3.91', '3.58', '3.66', '3.66', '4', '4.13', '3.13']\n",
      "https://www.beeradvocate.com/beer/profile/71/222/?view=beer&sort=&start=400\n",
      "['3.21', '3.65', '3.95', '4.3', '4.15', '4.42', '3.63', '3.5', '3.45', '4.23', '4.1', '4.24', '4.22', '4', '4.2', '3.53', '4.7', '4.08', '4', '2.69', '3.5', '3.13', '4', '3.97', '3.83']\n",
      "https://www.beeradvocate.com/beer/profile/71/222/?view=beer&sort=&start=425\n",
      "['4.26', '3.8', '4.13', '4.5', '4.03', '3.68', '3.8', '4.22', '3.92', '3.9', '4.22', '4.2', '3.53', '3.7', '3.98', '4.18', '4.85', '4.1', '3.82', '3.57', '3.8', '4.15', '3.9', '3.7', '4.15']\n",
      "https://www.beeradvocate.com/beer/profile/71/222/?view=beer&sort=&start=450\n",
      "['4.1', '4.13', '4.18', '4.2', '3.88', '3.38', '4.45', '4.18', '4', '4.15', '4.1', '4.45', '3.9', '4.15', '4.12', '3.75', '4.18', '3.92', '4.15', '4.28', '3.8', '3.85', '2.6', '3.7', '4.22']\n",
      "https://www.beeradvocate.com/beer/profile/71/222/?view=beer&sort=&start=475\n",
      "['3.98', '3.48', '4.15', '3.89', '3.73', '3.93', '4.17', '3.65', '3.98', '4.2', '4.3', '3.38', '4', '4.49', '3.85', '4.15', '2.98', '4.2', '4.1', '4.13', '4.44', '4.18', '4.25', '4.22', '3.93']\n",
      "https://www.beeradvocate.com/beer/profile/71/222/?view=beer&sort=&start=500\n",
      "['3.63', '4.04', '4.18', '3.68', '3.05', '4.5', '4.15', '4.22', '4.2', '4.32', '4.04', '3.98', '4.3', '3.98', '3.93', '4.11', '4.52', '3.5', '3.8', '4', '4.2', '3.75', '4.1', '4.05', '4.72']\n",
      "https://www.beeradvocate.com/beer/profile/71/222/?view=beer&sort=&start=525\n",
      "['4.26', '3.8', '3.65', '4.23', '4.05', '4.42', '3.94', '4.05', '3.23', '2.76', '3.95', '3.86', '4.52', '3.24', '3.85', '4.27', '4', '4.47', '3.6', '3.82', '4.13', '4.22', '3.98', '4.02', '4.85']\n",
      "https://www.beeradvocate.com/beer/profile/71/222/?view=beer&sort=&start=550\n",
      "['3.1', '4.27', '3.13', '3.85', '3.23', '4.32', '4.25', '4', '4.18', '4.4', '3.13', '3.67', '3.87', '3.28', '2.99', '4.42', '4.1', '4.01', '3.85', '4.05', '3.97', '3.68', '4', '4.18', '4.27']\n",
      "https://www.beeradvocate.com/beer/profile/71/222/?view=beer&sort=&start=575\n",
      "['1.35', '4.67', '3.38', '3.51', '4.2', '4', '3.93', '4.82', '2.72', '4.27', '4.22', '5', '4.1', '3.6', '3.6', '3.45', '3.78', '3.88', '3.58', '4', '3.15', '3.32', '4.47', '3.98', '4.33']\n",
      "https://www.beeradvocate.com/beer/profile/71/222/?view=beer&sort=&start=600\n",
      "['4.1', '3.23', '4.42', '3.87', '4', '4.45', '4.13', '3.85', '3.22', '2.67', '4.1', '4.23', '3.81', '4.1', '4.27', '2.63', '4', '4.1', '4.42', '4', '4.01', '4.7', '4.65', '3.12', '4.07']\n",
      "https://www.beeradvocate.com/beer/profile/71/222/?view=beer&sort=&start=625\n",
      "['4.14', '4.3', '3.8', '4.28', '4.2', '4', '3.95', '4', '4.07', '4.18', '4', '3.7', '3.4', '3.53', '3.78', '3.66', '4.2', '4', '4.15', '3.48', '4.55', '4.16', '4.52', '4', '3.34']\n",
      "https://www.beeradvocate.com/beer/profile/71/222/?view=beer&sort=&start=650\n",
      "['3.65', '3.47', '3.88', '3.87', '4.57', '4.38', '4.1', '4.15', '4.18', '4.2', '4.48', '3.98', '3.33', '4.22', '4.18', '4.02', '3.68', '3.73', '3.8', '4.01', '3.95', '3.56', '3.95', '3.92', '4.5']\n",
      "https://www.beeradvocate.com/beer/profile/71/222/?view=beer&sort=&start=675\n",
      "['4.42', '4.04', '3.18', '4.65', '4', '3.85', '4.44', '4.18', '4.3', '1.74', '3.53', '3.3', '4.02', '4.42', '3.95', '3.5', '4.15', '3.85', '3.36', '3.73', '4.14', '3.63', '4.18', '4.65', '3.53']\n",
      "https://www.beeradvocate.com/beer/profile/71/222/?view=beer&sort=&start=700\n",
      "['3.65', '3.69', '4.35', '4.15', '4.17', '3.53', '3.65', '4.08', '3.95', '4.42', '3.93', '3.98', '3.73', '4.02', '4', '4.42', '4.15', '3.33', '4.1', '4.05', '4.2', '4.22', '4.37', '3.9', '4.25']\n",
      "https://www.beeradvocate.com/beer/profile/71/222/?view=beer&sort=&start=725\n",
      "['3.67', '3.88', '4', '4.37', '4.13', '4.4', '4.3', '3.9', '4.2', '4.47', '3.96', '3.83', '4.32', '3.9', '4.5', '4.16', '4.1', '3.85', '4.13', '2.92', '4.45', '3.68', '4.02', '3.8', '3.35']\n"
     ]
    },
    {
     "name": "stdout",
     "output_type": "stream",
     "text": [
      "https://www.beeradvocate.com/beer/profile/71/222/?view=beer&sort=&start=750\n",
      "['4.42', '4.3', '4', '3.98', '3.81', '4.01', '3.48', '3.27', '3.5', '4.07', '4.25', '4.18', '3.9', '3.62', '3.58', '4', '4.5', '4.5', '3.92', '3.95', '4.38', '3.9', '3.83', '3.88', '4.05']\n",
      "https://www.beeradvocate.com/beer/profile/71/222/?view=beer&sort=&start=775\n",
      "['3.5', '3.4', '4.4', '3.78', '3.88', '4.33', '4.12', '3.68', '4.08', '4', '3.63', '2.76', '4.09', '4.22', '4.21', '3.82', '3.79', '3.93', '4.35', '4.05', '3.33', '4.08', '4.11', '3.92', '4.07']\n",
      "https://www.beeradvocate.com/beer/profile/71/222/?view=beer&sort=&start=800\n",
      "['3.18', '3.58', '4.07', '4.03', '3.58', '3.68', '4.08', '3.18', '3.43', '4.13', '3.58', '3.68', '4.38', '4.31', '3.82', '4.25', '3.74', '3.44', '3.95', '4.03', '3.83', '3.88', '4.35', '4.27', '4.37']\n",
      "https://www.beeradvocate.com/beer/profile/71/222/?view=beer&sort=&start=825\n",
      "['4.32', '3.88', '3.8', '3.66', '4.32', '4.1', '3.3', '4.35', '3.87', '3.87', '4.29', '3.87', '3.53', '4.08', '4.05', '3.82', '3.56', '4.13', '4.16', '3.88', '3.29', '4.13', '3.8', '4.62', '3.85']\n",
      "https://www.beeradvocate.com/beer/profile/71/222/?view=beer&sort=&start=850\n",
      "['4.12', '3.98', '4', '4.23', '3.91', '3.52', '4.38', '4.12', '3.8', '3.8', '4', '3.68', '2.91', '4.28', '3.52', '4', '4.1', '3.92', '3.06', '3.88', '3.8', '4.2', '4.33', '4.02', '4.2']\n",
      "https://www.beeradvocate.com/beer/profile/71/222/?view=beer&sort=&start=875\n",
      "['4.07', '3.7', '3.38', '3.86', '4.09', '3.86', '4', '3.03', '4.37', '3.8', '4.73', '4.13', '4.18', '3.82', '2.43', '2.95', '3.65', '2.78', '3.95', '4.8', '4.3', '4.27', '3.98', '4.43', '4']\n",
      "https://www.beeradvocate.com/beer/profile/71/222/?view=beer&sort=&start=900\n",
      "['3.7', '3.85', '4.2', '3.98', '4.22', '3.95', '3.18', '3.91', '3.88', '4.1', '3.5', '4.13', '4.12', '3.97', '4.26', '3.7', '3.28', '4.23', '4.45', '3.88', '3.88', '3.56', '4.3', '4.4', '3.39']\n",
      "https://www.beeradvocate.com/beer/profile/71/222/?view=beer&sort=&start=925\n",
      "['3.11', '3.06', '3.33', '4.3', '3.7', '3.65', '3.98', '3.85', '3.06', '4.95', '4.1', '3.83', '3.95', '3.9', '4.23', '4.1', '4.58', '2.58', '3.85', '4', '4', '4', '3.79', '4.77', '3.31']\n",
      "https://www.beeradvocate.com/beer/profile/71/222/?view=beer&sort=&start=950\n",
      "['4.1', '4.2', '3.88', '4.15', '3.23', '3.88', '4', '3.7', '4.04', '3.6', '4.13', '3.9', '4.01', '4', '4.3', '4.05', '4.25', '4', '4.52', '4.25', '3.87', '4.39', '4.35', '4.04', '3.96']\n",
      "https://www.beeradvocate.com/beer/profile/71/222/?view=beer&sort=&start=975\n",
      "['4.3', '3.7', '4.13', '3.94', '2.89', '4.07', '4.69', '4.35', '3.85', '4.12', '4.2', '4.2', '4.2', '4.77', '3.62', '4.07', '2.95', '3.3', '4.13', '3.99', '4.37', '4.87', '4.7', '3.72', '3.88']\n",
      "https://www.beeradvocate.com/beer/profile/71/222/?view=beer&sort=&start=1000\n",
      "['3.85', '5', '4.33', '4.38', '3', '4.15', '4', '3.65', '3.75', '3.88', '4.67', '3.38', '3.83', '4.8', '4.14', '4.13', '3.65', '4.03', '4.41', '4.47', '4.15', '4', '4.2', '4.1', '4.72']\n",
      "https://www.beeradvocate.com/beer/profile/71/222/?view=beer&sort=&start=1025\n",
      "['4.73', '3.61', '4.41', '4.38', '3.56', '3.9', '4.77', '4.52', '4.25', '4.49', '4.6', '4.12', '4.23', '4.35', '3.8', '4.33', '3.68', '3.7', '4.13', '3.86', '4.3', '4.48', '4.1', '4.17', '3.63']\n",
      "https://www.beeradvocate.com/beer/profile/71/222/?view=beer&sort=&start=1050\n",
      "['4.2', '3.91', '4.28', '3.77', '4.47', '4.38', '3.29', '3.88', '3.93', '3.98', '4.33', '3.73', '4', '3.68', '3.58', '3.9', '4.42', '3.9', '4.4', '4.6', '3.78', '3.5', '4.05', '3.31', '4.35']\n",
      "https://www.beeradvocate.com/beer/profile/71/222/?view=beer&sort=&start=1075\n",
      "['4.05', '3.7', '4', '4.05', '4.52', '3.95', '4.1', '3.8', '4.97', '3.58', '3.89', '4.5', '3.79', '3.82', '4.85', '3.93', '4.48', '4.35', '3.36', '4.17', '3.98', '3.8', '4.12', '3.65', '4']\n",
      "https://www.beeradvocate.com/beer/profile/71/222/?view=beer&sort=&start=1100\n",
      "['4.1', '3.18', '3.6', '4.65', '3.97', '4.39', '4.3', '4.13', '4.3', '4.5', '3.7', '4.5', '4.33', '3.68', '4.31', '4.1', '4.33', '3.76', '3.8', '4.05', '3.44', '4.5', '4.1', '4.85', '4']\n"
     ]
    },
    {
     "name": "stderr",
     "output_type": "stream",
     "text": [
      "\r",
      "70it [3:08:13, 254.61s/it]"
     ]
    },
    {
     "name": "stdout",
     "output_type": "stream",
     "text": [
      "https://www.beeradvocate.com/beer/profile/71/222/?view=beer&sort=&start=1125\n",
      "[]\n",
      "https://www.beeradvocate.com/beer/profile/180/12738/?view=beer&sort=&start=0\n",
      "['3.91', '4.14', '3.79', '3.92', '4', '3.74', '4.4', '4.07', '3.77', '3.52', '3.78', '3.88', '3.18', '3.25', '3.77', '4.08', '3.97', '3.84', '3.78', '4.66', '3.64', '3.75', '3.81', '4.27', '4.08']\n",
      "https://www.beeradvocate.com/beer/profile/180/12738/?view=beer&sort=&start=25\n",
      "['4.41', '3.87', '3.38', '4.92', '3.94', '3.91', '3.68', '3.22', '3.28', '3.92', '3.34', '2.69', '4.65', '3.07', '4.05', '3.48', '3.68', '2.67', '3.26', '3.75', '2.9', '3.97', '3.47', '3.95', '3.48']\n",
      "https://www.beeradvocate.com/beer/profile/180/12738/?view=beer&sort=&start=50\n",
      "['3.62', '3.2', '2.7', '3.94', '3.5', '3.85', '3.75', '2.21', '3.59', '3.5', '3.53', '3.2', '3.97', '3.92', '4', '3.97', '3.83', '3.88', '3.27', '3.7', '3.5', '2.9', '1.98', '2.42', '3.24']\n",
      "https://www.beeradvocate.com/beer/profile/180/12738/?view=beer&sort=&start=75\n",
      "['4.17', '2.51', '3.73', '2.38', '3.15', '3.26', '2.56', '3.77', '3.82', '3.52', '3.82', '3.02', '4.22', '4', '3.65', '3.56', '4.39', '3.74', '4.57', '4.03', '3.98', '3.65', '3.59', '2.45', '3.92']\n",
      "https://www.beeradvocate.com/beer/profile/180/12738/?view=beer&sort=&start=100\n",
      "['3.57', '3.35', '3.95', '3.74', '3.42', '3.38', '3.71', '4.1', '3.67', '3.5', '1.93', '3.5', '3.79', '3.7', '4.03', '3.05', '2.65', '3.32', '2.89', '2.7', '3.64', '3.61', '2.48', '2.25', '2']\n",
      "https://www.beeradvocate.com/beer/profile/180/12738/?view=beer&sort=&start=125\n",
      "['2.6', '2.72', '4.07', '3.35', '3.8', '3.75', '4', '2.71', '4.47', '4.12', '2.03', '4', '3.94', '3.3', '3.55', '3.92', '4', '4.55', '2.9', '3.19', '4.06', '4.36', '3.57', '4.19', '3.62']\n",
      "https://www.beeradvocate.com/beer/profile/180/12738/?view=beer&sort=&start=150\n",
      "['3.05', '3.28', '3.15', '3.04', '3.55', '3.08', '3.17', '3.33', '3.27', '3.25', '4.01', '4.45', '3.17', '3.28', '3.23', '3.9', '3.52', '3.13', '4.55', '3.54', '2.91', '1.53', '3.72', '3.06', '3.85']\n",
      "https://www.beeradvocate.com/beer/profile/180/12738/?view=beer&sort=&start=175\n",
      "['2.98', '2', '3.77', '2.75', '3.57', '2.91', '3.78', '3.62', '3.15', '4.1', '2.93', '2.94', '3.69', '2.96', '3.43', '4.29', '3.77', '3.92', '3.6', '3.03', '2.73', '3.16', '3.38', '3.28', '3.38']\n"
     ]
    },
    {
     "name": "stderr",
     "output_type": "stream",
     "text": [
      "\r",
      "71it [3:09:05, 193.90s/it]"
     ]
    },
    {
     "name": "stdout",
     "output_type": "stream",
     "text": [
      "https://www.beeradvocate.com/beer/profile/180/12738/?view=beer&sort=&start=200\n",
      "['3.88', '2.56', '3.5', '3.6', '1.76']\n"
     ]
    },
    {
     "name": "stderr",
     "output_type": "stream",
     "text": [
      "\r",
      "72it [3:09:11, 137.42s/it]"
     ]
    },
    {
     "name": "stdout",
     "output_type": "stream",
     "text": [
      "https://www.beeradvocate.com/beer/profile/783/15615/?view=beer&sort=&start=0\n",
      "['3.5', '2.33', '2.32', '2.2', '2.43', '2.15', '3.2', '2.26', '2.14', '2.79', '2.18', '2.43', '2.25', '3.46', '3.33', '3.48']\n",
      "https://www.beeradvocate.com/beer/profile/783/2400/?view=beer&sort=&start=0\n",
      "['3', '3.23', '2.83', '2.83', '2.71', '2.5', '3.27', '3.33', '3.23', '3.7', '1.96', '1.58', '2.19', '1.8', '1.86', '2.81', '2.82', '2.33', '2.88', '3.53', '2.53', '3.26', '2.36', '2.75', '3.5']\n",
      "https://www.beeradvocate.com/beer/profile/783/2400/?view=beer&sort=&start=25\n",
      "['2.9', '2.46', '3.5', '3.63', '3', '3.68', '2.39', '2.29', '3.74', '3.03', '2.56', '2.73', '3.25', '2.82', '2.83', '2.91', '2.75', '2.36', '2.88', '2.61', '2.41', '2.04', '2.83', '2.26', '3.38']\n",
      "https://www.beeradvocate.com/beer/profile/783/2400/?view=beer&sort=&start=50\n",
      "['1.76', '3.05', '2.69', '3.3', '2.97', '3.23', '3.83', '3.42', '3.75', '1.66', '3.35', '2.4', '1.88', '1.77', '3.47', '2.51', '2.75', '2.35', '1.55', '2.21', '3.19', '2.98', '2.76', '3.32', '2.6']\n"
     ]
    },
    {
     "name": "stderr",
     "output_type": "stream",
     "text": [
      "\r",
      "73it [3:09:34, 103.07s/it]"
     ]
    },
    {
     "name": "stdout",
     "output_type": "stream",
     "text": [
      "https://www.beeradvocate.com/beer/profile/783/2400/?view=beer&sort=&start=75\n",
      "['3.65', '3.72', '3.58', '3.18', '2.13', '3.55', '2.5', '3.18', '2.84', '2.68', '2.91', '3.7']\n",
      "https://www.beeradvocate.com/beer/profile/4949/14687/?view=beer&sort=&start=0\n",
      "['2.89', '3.28', '2.93', '3.51', '3.07', '3.68', '3.11', '2.88', '3', '3.5', '4.36', '2.73', '3.1', '4', '2.26', '3.68', '3.15', '2.04', '3.79', '4.55', '4.51', '3.23', '1.64', '3.03', '2.51']\n",
      "https://www.beeradvocate.com/beer/profile/4949/14687/?view=beer&sort=&start=25\n",
      "['2.98', '3.37', '2.68', '3.28', '3.7', '1.72', '3.25', '3.94', '3.71', '3.09', '4', '3.16', '3.09', '1.57', '2.81', '3.19', '2.54', '1.75', '3.75', '2.85', '2.89', '3.04', '1.96', '2.91', '2.47']\n",
      "https://www.beeradvocate.com/beer/profile/4949/14687/?view=beer&sort=&start=50\n",
      "['3', '2.69', '3.68', '2.03', '2.59', '3.39', '2.46', '2.53', '2.68', '3.57', '2.55', '3.08', '2.28', '3.07', '2.8', '2.3', '2.56', '3.06', '2.88', '3.55', '3.69', '3.17', '2.83', '4.42', '1.94']\n",
      "https://www.beeradvocate.com/beer/profile/4949/14687/?view=beer&sort=&start=75\n",
      "['2.48', '2.36', '2.43', '3.2', '3.2', '2.23', '2.53', '2.88', '2.18', '2.71', '2.31', '3.11', '2.45', '2.58', '2.1', '2.32', '2.99', '2.31', '2', '4.05', '2.58', '2.59', '3.13', '3.34', '4.03']\n",
      "https://www.beeradvocate.com/beer/profile/4949/14687/?view=beer&sort=&start=100\n",
      "['2.8', '3.79', '3.12', '3.19', '3.15', '4.15', '1.67', '3.28', '3.1', '3.2', '2.14', '3.03', '3.13', '2.83', '3.15', '2.99', '2.16', '1.87', '2.53', '2.49', '2.71', '3.26', '2.35', '2.18', '3.61']\n",
      "https://www.beeradvocate.com/beer/profile/4949/14687/?view=beer&sort=&start=125\n",
      "['3.13', '2.29', '2.63', '3.45', '3.2', '3.4', '3.06', '3.2', '3.3', '2.38', '2.06', '3.36', '2.88', '3.43', '2.97', '2.79', '2', '2', '3.33', '2.68', '2.48', '2.74', '3', '3.15', '3.13']\n",
      "https://www.beeradvocate.com/beer/profile/4949/14687/?view=beer&sort=&start=150\n",
      "['2.9', '2.89', '3.16', '3.71', '2.05', '3.14', '3.12', '3.3', '3.62', '3.35', '2.64', '2.96', '2.62', '1.53', '3.28', '2.69', '3.38', '3.57', '3', '3.27', '2.83', '2.83', '2.63', '2.26', '3.03']\n",
      "https://www.beeradvocate.com/beer/profile/4949/14687/?view=beer&sort=&start=175\n",
      "['2.41', '2.88', '2.85', '3.11', '3.42', '3.09', '2.6', '2.76', '1.59', '2.36', '2.3', '2.9', '3.18', '2.73', '2.75', '3.45', '3.13', '3.13', '3.35', '3.8', '3.63', '2.26', '2.86', '2.36', '2.3']\n",
      "https://www.beeradvocate.com/beer/profile/4949/14687/?view=beer&sort=&start=200\n",
      "['2.43', '1.83', '3.1', '2.43', '2.83', '3.05', '3.33', '3.32', '2.71', '2.62', '2.64', '3.88', '3.07', '2.78', '2.68', '2.84', '3.08', '2.78', '2.68', '3.63', '3.14', '2.71', '2.94', '2.57', '3.25']\n",
      "https://www.beeradvocate.com/beer/profile/4949/14687/?view=beer&sort=&start=225\n",
      "['2.3', '1.73', '2.99', '2.45', '2.79', '2.43', '2.79', '3.95', '3.85', '2.18', '2.8', '2.11', '2.98', '2.92', '1.65', '2.83', '2.9', '3', '3', '3', '2.8', '2.68', '1.82', '2.86', '3.41']\n"
     ]
    },
    {
     "name": "stderr",
     "output_type": "stream",
     "text": [
      "\r",
      "74it [3:10:37, 91.21s/it] "
     ]
    },
    {
     "name": "stdout",
     "output_type": "stream",
     "text": [
      "https://www.beeradvocate.com/beer/profile/4949/14687/?view=beer&sort=&start=250\n",
      "['2.95']\n",
      "https://www.beeradvocate.com/beer/profile/167/442/?view=beer&sort=&start=0\n",
      "['3.67', '3.64', '3.34', '3.82', '3.6', '3.49', '3.85', '4', '3.55', '2.78', '3.68', '4.49', '3.83', '4.25', '4', '3.78', '3.53', '3.83', '3.19', '4', '3.68', '3.15', '3.67', '3.02', '3.65']\n"
     ]
    },
    {
     "name": "stderr",
     "output_type": "stream",
     "text": [
      "\r",
      "75it [3:10:49, 67.40s/it]"
     ]
    },
    {
     "name": "stdout",
     "output_type": "stream",
     "text": [
      "https://www.beeradvocate.com/beer/profile/167/442/?view=beer&sort=&start=25\n",
      "['4.15', '4.05', '4.05', '4.13', '4.17', '4', '4.45', '3.43', '3.95', '3.43', '3.77', '3.83', '3.75', '3.7', '3.7', '4', '3.92', '3.8', '2.88', '3.55', '3.23', '3.85', '2.44']\n",
      "https://www.beeradvocate.com/beer/profile/703/2434/?view=beer&sort=&start=0\n",
      "['4.01', '4.65', '3.98', '3.52', '4.04', '4.22', '4.28', '4.94', '3.67', '3.76', '3.77', '5', '3.74', '3.26', '3.72', '3.96', '3.83', '4', '3.73', '3.14', '3.34', '3.06', '3.46', '3.94', '3.5']\n",
      "https://www.beeradvocate.com/beer/profile/703/2434/?view=beer&sort=&start=25\n",
      "['3.72', '3.65', '3.52', '3.79', '4', '3.81', '3.71', '3.75', '4.42', '3.21', '2.98', '4.84', '3.47', '3.96', '4.14', '4.09', '3', '3.79', '4.24', '3.74', '3.48', '3.61', '3.75', '3.68', '3.77']\n",
      "https://www.beeradvocate.com/beer/profile/703/2434/?view=beer&sort=&start=50\n",
      "['3.39', '3.62', '3.79', '2.55', '3', '3.21', '3.98', '4.56', '3.35', '2.89', '3.28', '3.59', '3.27', '3.56', '4.62', '3.18', '3.8', '3.68', '3.98', '5', '3.53', '4.09', '3.45', '3.44', '3.06']\n",
      "https://www.beeradvocate.com/beer/profile/703/2434/?view=beer&sort=&start=75\n",
      "['4.3', '3.04', '3', '3.22', '4.01', '2.38', '4.06', '3.78', '4', '4.17', '4.35', '3.61', '4.18', '4.22', '4.09', '3.4', '3.64', '3.92', '4.18', '5', '3.12', '3.52', '5', '4.65', '3.82']\n",
      "https://www.beeradvocate.com/beer/profile/703/2434/?view=beer&sort=&start=100\n",
      "['3.5', '2.15', '3.49', '3.71', '3.29', '4.16', '3.67', '3.26', '3.43', '4', '2.75', '3.2', '3.5', '3.75', '3', '4.25', '3', '3.9', '4', '2.63', '4.25', '3.61', '3.39', '4.58', '3.58']\n",
      "https://www.beeradvocate.com/beer/profile/703/2434/?view=beer&sort=&start=125\n",
      "['3.49', '3.9', '3.45', '3.74', '3.47', '3.52', '3.13', '2.83', '3.79', '3.53', '3.44', '3.35', '3', '3.76', '3.95', '3.3', '3.96', '4.58', '4.23', '3.08', '3.12', '3.24', '2.98', '4.12', '3.59']\n",
      "https://www.beeradvocate.com/beer/profile/703/2434/?view=beer&sort=&start=150\n",
      "['3.54', '3.27', '3.17', '3.72', '3.25', '3.94', '4.26', '3.18', '4.15', '3.15', '2.85', '4.27', '2.53', '3.8', '3.54', '3.83', '5', '3.58', '2.79', '3.67', '3.46', '3.53', '3.18', '3', '3.58']\n",
      "https://www.beeradvocate.com/beer/profile/703/2434/?view=beer&sort=&start=175\n",
      "['3.6', '3.71', '3.57', '2.91', '4', '3.9', '3.35', '3.33', '4', '3.2', '3.48', '3.24', '4', '4.55', '3.27', '3.48', '3.16', '3.35', '3.6', '3.03', '3.17', '2.63', '3.03', '4.2', '3.58']\n",
      "https://www.beeradvocate.com/beer/profile/703/2434/?view=beer&sort=&start=200\n",
      "['3.72', '3.53', '3.46', '3.95', '3.15', '3.08', '3.35', '3.34', '3.11', '3', '3.22', '3.45', '3.38', '4', '3.75', '3.98', '3.98', '3.44', '3.44', '3.48', '4.6', '3.21', '3.04', '2.73', '2.9']\n",
      "https://www.beeradvocate.com/beer/profile/703/2434/?view=beer&sort=&start=225\n",
      "['3.66', '3.61', '2.85', '3.08', '2.83', '2.72', '3.03', '2.3', '3.08', '3.49', '3.68', '3.43', '3.14', '2.49', '3.61', '3.11', '3.33', '3.13', '2.7', '3.21', '3.58', '4.35', '2.42', '3.08', '3.18']\n",
      "https://www.beeradvocate.com/beer/profile/703/2434/?view=beer&sort=&start=250\n",
      "['2.98', '3.38', '3.58', '3', '3.84', '2.66', '3.35', '3.63', '2.05', '2.81', '2.78', '3.23', '3.03', '3.75', '2.95', '3.01', '3.09', '3.11', '3.03', '3.44', '3.91', '2.89', '3.83', '3.97', '2.92']\n",
      "https://www.beeradvocate.com/beer/profile/703/2434/?view=beer&sort=&start=275\n",
      "['3.56', '3.23', '3.71', '3.95', '2.28', '3.49', '3.58', '3.08', '4.3', '4.08', '2.9', '3.07', '2.83', '3.21', '3.03', '3.99', '3.04', '3.48', '3.92', '2.56', '3.3', '4.38', '3.08', '3.39', '3.75']\n",
      "https://www.beeradvocate.com/beer/profile/703/2434/?view=beer&sort=&start=300\n",
      "['3.38', '2.88', '3.68', '3.66', '3.43', '3.28', '3.72', '3.31', '3.43', '3.55', '3.6', '3.76', '2.94', '2.35', '3.18', '3.53', '3.53', '3.9', '3.42', '3.85', '3.58', '3.49', '4.37', '3.74', '2.97']\n",
      "https://www.beeradvocate.com/beer/profile/703/2434/?view=beer&sort=&start=325\n",
      "['3.42', '3.33', '3.45', '4.03', '3.28', '3.68', '4.68', '3.01', '3.56', '3.56', '3.17', '3.4', '3.45', '3.48', '4.26', '3.71', '3.68', '3.35', '2.71', '3.2', '3.83', '3.21', '4', '4.08', '2.85']\n",
      "https://www.beeradvocate.com/beer/profile/703/2434/?view=beer&sort=&start=350\n",
      "['3.45', '4.05', '3.34', '3.15', '2.88', '3.93', '3.53', '3.39', '3.37', '3.46', '3.3', '2.94', '3.56', '3.53', '3.16', '3.26', '3.67', '1.92', '4.32', '3.38', '3.08', '3.43', '3.48', '2.77', '3.31']\n",
      "https://www.beeradvocate.com/beer/profile/703/2434/?view=beer&sort=&start=375\n",
      "['2.26', '3.04', '3.8', '3.48', '3.65', '3.63', '3.26', '3.29', '4.33', '3.03', '2.94', '3.51', '3.48', '3.68', '3.15', '4.1', '3.68', '2.8', '2.88', '3.41', '3.25', '2.98', '3.33', '3', '3.63']\n",
      "https://www.beeradvocate.com/beer/profile/703/2434/?view=beer&sort=&start=400\n",
      "['3.53', '2.99', '3.02', '3.06', '3.63', '3.5', '3.6', '3.35', '3', '3.63', '3.35', '4.1', '3.07', '4.08', '4.13', '3.6', '3.33', '3.6', '3.23', '3.48', '3.65', '4.17', '3.48', '3.2', '3.42']\n",
      "https://www.beeradvocate.com/beer/profile/703/2434/?view=beer&sort=&start=425\n",
      "['3.33', '3.68', '3.73', '3.88', '2.83', '4.35', '3.54', '3.5', '3.03', '2.68', '3.88', '3.3', '3.39', '2.37', '2.44', '2.76', '3.24', '3.92', '4.05', '3.4', '3.71', '3.44', '4', '4.03', '3.06']\n",
      "https://www.beeradvocate.com/beer/profile/703/2434/?view=beer&sort=&start=450\n",
      "['3.39', '3.03', '3.28', '3.63', '4', '3.19', '3.78', '3.96', '3.64', '2.88', '3.08', '2.33', '3.15', '3.08', '3.38', '3.03', '2.91', '3.74', '3.39', '3.78', '3.27', '3.4', '3.36', '3.36', '2.91']\n",
      "https://www.beeradvocate.com/beer/profile/703/2434/?view=beer&sort=&start=475\n",
      "['3.52', '2.74', '3.71', '2.26', '3.88', '3.2', '3.45', '3.53', '3.31', '3.56', '2.65', '3.28', '3.31', '3.71', '3.4', '3.01', '3.48', '3.68', '3.18', '3.74', '3.43', '3', '3.42', '3.75', '3.04']\n",
      "https://www.beeradvocate.com/beer/profile/703/2434/?view=beer&sort=&start=500\n",
      "['3.18', '3.71', '2.65', '3.45', '3.18', '3.92', '2.3', '2.46', '2.95', '3.37', '3.43', '2.85', '3.3', '3.22', '3.38', '3.52', '3.65', '3.33', '3.51', '3.98', '3.18', '2.15', '2.48', '3.25', '3.46']\n",
      "https://www.beeradvocate.com/beer/profile/703/2434/?view=beer&sort=&start=525\n",
      "['4.18', '3.87', '3.75', '3.46', '2.88', '3.53', '3.35', '3.28', '3.36', '2.85', '2.62', '4.15', '3.79', '4.5', '3.98', '3.63', '3.95', '3.93', '2.53', '2.63', '3.97', '3.2', '3.82', '3', '3.93']\n",
      "https://www.beeradvocate.com/beer/profile/703/2434/?view=beer&sort=&start=550\n",
      "['2.9', '3.18', '3.66', '2.73', '2.42', '3.5', '4.26', '3.28', '3.85', '3.37', '4.07', '2.05', '2.81', '2.74', '3.66', '2.76', '2.96', '3.75', '4.1', '3.98', '3.06', '3.92', '3.9', '3.98', '3.53']\n",
      "https://www.beeradvocate.com/beer/profile/703/2434/?view=beer&sort=&start=575\n",
      "['3.23', '3.54', '3.63', '3.71', '3.41', '3.8', '2.98', '3.16', '4.12', '3.22', '3.3', '3.08', '3.83', '2.19', '3.18', '3.01', '3.45', '3.67', '3.03', '2.71', '3.6', '3.74', '3.83', '3.82', '3.41']\n",
      "https://www.beeradvocate.com/beer/profile/703/2434/?view=beer&sort=&start=600\n",
      "['4.4', '2.53', '3.8', '3.28', '3.09', '2.43', '2.85', '3.35', '3.21', '3.58', '2.71', '3.5', '3.89', '2.48', '3.21', '3.75', '3.16', '3', '3.55', '3.3', '3.5', '3.56', '3.18', '3.08', '3.84']\n",
      "https://www.beeradvocate.com/beer/profile/703/2434/?view=beer&sort=&start=625\n",
      "['3.3', '4.3', '3.28', '4.01', '3.06', '4.12', '2.71', '3.04', '3.53', '2.96', '3.85', '4', '2.85', '2.83', '2.79', '3.64', '3.31', '3.63', '3.53', '3.68', '3.69', '3.33', '3.36', '3.81', '3.5']\n",
      "https://www.beeradvocate.com/beer/profile/703/2434/?view=beer&sort=&start=650\n",
      "['3.31', '3.58', '3.28', '3.14', '3.26', '3.76', '2.95', '4.47', '3.36', '2.39', '3.84', '3.98', '3.23', '2.71', '4.01', '3.63', '3.21', '2.81', '3.81', '3.13', '3.83', '2.68', '4.3', '2.83', '3.8']\n",
      "https://www.beeradvocate.com/beer/profile/703/2434/?view=beer&sort=&start=675\n",
      "['2.29', '3.45', '4.09', '3.15', '2.98', '4.05', '3.16', '4.08', '3.88', '4.85', '4.56', '4.25', '2.74', '3.98', '2.75', '2.94', '3.6', '3.45', '3.1', '3.93', '3.03', '3.99', '3.86', '3.58', '3.25']\n",
      "https://www.beeradvocate.com/beer/profile/703/2434/?view=beer&sort=&start=700\n",
      "['3.53', '3.95', '4.08', '3.33', '2.24', '3.71', '3.21', '2.03', '3.52', '3.45', '3.68', '3.11', '3.03', '3.63', '3.21', '3.14', '3.5', '2.51', '3.25', '3.48', '3.7', '3.23', '3.86', '3.63', '3.95']\n",
      "https://www.beeradvocate.com/beer/profile/703/2434/?view=beer&sort=&start=725\n",
      "['3.75', '3.55', '3.8', '3.71', '4.06', '3.36', '3.12', '2.54', '3.46', '3.71', '4', '3.53', '3.93', '2.87', '4.07', '3.83', '2.8', '4.22', '3.13', '3.88', '3.83', '2.96', '3.87', '3.57', '3.41']\n"
     ]
    },
    {
     "name": "stdout",
     "output_type": "stream",
     "text": [
      "https://www.beeradvocate.com/beer/profile/703/2434/?view=beer&sort=&start=750\n",
      "['3.53', '3.03', '3', '3.65', '3.88', '3.58', '3.63', '3.69', '4.03', '3.97', '3.23', '3.51', '3.33', '2.74', '3.65', '3.75', '3.38', '3.41', '3.46', '3.75', '3.13', '3.65', '3.67', '3.93', '3.43']\n",
      "https://www.beeradvocate.com/beer/profile/703/2434/?view=beer&sort=&start=775\n",
      "['3.31', '3.05', '4.07', '3.23', '4.05', '4.18', '3.69', '2.18', '4', '3.75', '3.76', '3.28', '2.96', '3.36', '3.68', '3.09', '3.18', '2.25', '3.28', '3.35', '2.03', '3.55', '3.43', '4.35', '3.16']\n",
      "https://www.beeradvocate.com/beer/profile/703/2434/?view=beer&sort=&start=800\n",
      "['3.56', '1.91', '3.36', '3.68', '3.85', '3.8', '4.25', '3.83', '4', '3.48', '2.35', '3.58', '2.86', '2.7', '3.75', '2.73', '3.3', '3.43', '3.2', '3.53', '3.57', '3.58', '3.22', '4.19', '3.36']\n"
     ]
    },
    {
     "name": "stderr",
     "output_type": "stream",
     "text": [
      "\r",
      "76it [3:14:06, 106.09s/it]"
     ]
    },
    {
     "name": "stdout",
     "output_type": "stream",
     "text": [
      "https://www.beeradvocate.com/beer/profile/703/2434/?view=beer&sort=&start=825\n",
      "['3.75', '3.98', '4.15', '4.03', '4.25', '2.7', '3.4', '4.03', '4', '3.58', '3.2', '4']\n",
      "https://www.beeradvocate.com/beer/profile/703/11485/?view=beer&sort=&start=0\n",
      "['3.13', '4.44', '3.96', '4.19', '3.18', '3.32', '4.5', '3.35', '3.84', '3.54', '3.87', '3.69', '3', '3.87', '4.8', '2.5', '4.5', '3.9', '3.56', '3.48', '3.6', '3.52', '3.53', '3.22', '3.39']\n",
      "https://www.beeradvocate.com/beer/profile/703/11485/?view=beer&sort=&start=25\n",
      "['3.82', '3.62', '3.74', '3.59', '3.62', '3.51', '3.66', '3.84', '3.29', '4', '3.5', '3.8', '3.7', '4.03', '3.63', '4.45', '3.6', '3.36', '3.79', '3.64', '3.3', '3.98', '3.6', '3.95', '3.56']\n",
      "https://www.beeradvocate.com/beer/profile/703/11485/?view=beer&sort=&start=50\n",
      "['3.27', '3.7', '3.65', '3.02', '4', '4', '3.3', '2.75', '4', '3.21', '3.75', '3.91', '4.23', '3.6', '3.5', '3.32', '3.4', '3.83', '3.5', '3.65', '3.75', '3.1', '3.8', '4.97', '3.85']\n",
      "https://www.beeradvocate.com/beer/profile/703/11485/?view=beer&sort=&start=75\n",
      "['4.25', '3.55', '3.54', '3.62', '3.69', '3.35', '3.68', '3.5', '3.58', '3.77', '4.13', '3.59', '3.75', '3.86', '3.6', '3.52', '3.46', '4.04', '3.58', '3.72', '3.63', '3.88', '3.43', '2.73', '3.8']\n",
      "https://www.beeradvocate.com/beer/profile/703/11485/?view=beer&sort=&start=100\n",
      "['3.79', '3.91', '3.19', '3.7', '4', '3.68', '4.52', '2.41', '4.42', '3.58', '3.11', '3.5', '3.67', '3.58', '4', '3.92', '3.37', '3.38', '4.23', '3.5', '3.4', '2.65', '3.28', '3.15', '3.45']\n",
      "https://www.beeradvocate.com/beer/profile/703/11485/?view=beer&sort=&start=125\n",
      "['3.46', '4', '3.28', '3.97', '4', '3.73', '3.83', '3.46', '4.12', '2.64', '3.16', '3.6', '3.92', '4.05', '3.75', '3.6', '3.8', '3.2', '4', '3.7', '3.03', '3.7', '3.43', '3.95', '3.88']\n",
      "https://www.beeradvocate.com/beer/profile/703/11485/?view=beer&sort=&start=150\n",
      "['3.92', '2.36', '3.36', '4.3', '1.46', '3.65', '3.71', '3.36', '3.83', '2.4', '3.41', '3.31', '3.3', '3.85', '3.21', '3.73', '3.83', '2.93', '3.33', '3.13', '3.52', '3.73', '3.48', '4', '3.97']\n",
      "https://www.beeradvocate.com/beer/profile/703/11485/?view=beer&sort=&start=175\n",
      "['3.63', '3.91', '4.23', '4.01', '3.68', '4.03', '3.86', '4.02', '3.78', '4.38', '3.16', '3.77', '3.92', '4', '3.75', '3.16', '4.35', '3.86', '2.65', '3.26', '3.77', '4.45', '3.48', '3.7', '3.88']\n",
      "https://www.beeradvocate.com/beer/profile/703/11485/?view=beer&sort=&start=200\n",
      "['3.47', '3.32', '3.4', '3.15', '3.53', '3.63', '3.63', '3.6', '3.53', '3.58', '3', '3.65', '3', '3.95', '3.63', '3.98', '4.08', '3.4', '3.6', '3.78', '4', '3.2', '3.97', '3.99', '3.7']\n",
      "https://www.beeradvocate.com/beer/profile/703/11485/?view=beer&sort=&start=225\n",
      "['3.91', '2.06', '2.93', '3.71', '4.17', '3.65', '3.24', '3.53', '3.95', '3.5', '3.87', '3.03', '3.35', '3.24', '3.23', '3.98', '3.6', '3.68', '3.26', '3.48', '3.86', '3.65', '3.35', '3.31', '2.46']\n",
      "https://www.beeradvocate.com/beer/profile/703/11485/?view=beer&sort=&start=250\n",
      "['3.42', '3.6', '3.83', '3.85', '3.5', '3.53', '3.67', '3.66', '3.59', '4.35', '3.23', '3.55', '3.46', '3.91', '3.56', '3.01', '3.34', '3.54', '4.11', '2.8', '2.99', '3.06', '3.63', '3.97', '3.76']\n",
      "https://www.beeradvocate.com/beer/profile/703/11485/?view=beer&sort=&start=275\n",
      "['4.35', '3.76', '3.41', '4.02', '3.46', '3.5', '3.85', '3.6', '3.32', '3.83', '2.98', '3.23', '2.96', '3.5', '3.88', '3.98', '2.84', '4.4', '3.97', '3.75', '4.28', '3.66', '2.85', '4.17', '3.56']\n",
      "https://www.beeradvocate.com/beer/profile/703/11485/?view=beer&sort=&start=300\n",
      "['3.15', '3.48', '2.71', '3.73', '2.74', '4.32', '4.06', '3.85', '3.02', '3.46', '3.21', '3', '3.22', '2.78', '3.38', '3.88', '3.4', '3.68', '3.83', '3.45', '3.7', '3.85', '3.67', '4.05', '3.68']\n"
     ]
    },
    {
     "name": "stderr",
     "output_type": "stream",
     "text": [
      "\r",
      "77it [3:15:27, 98.70s/it] "
     ]
    },
    {
     "name": "stdout",
     "output_type": "stream",
     "text": [
      "https://www.beeradvocate.com/beer/profile/703/11485/?view=beer&sort=&start=325\n",
      "['3.58', '3.78', '3.95', '3.62', '3.58']\n",
      "https://www.beeradvocate.com/beer/profile/57/1907/?view=beer&sort=&start=0\n",
      "['1.59', '2.58', '1', '2.95', '2.82', '2.99', '2.1', '3.82', '2.5', '2.58', '1.5', '3.28', '3.53', '3.79', '2.94', '1.63', '3.98', '2.39', '2.56', '2.3', '2.52', '2.33', '2.58', '3.64', '2.12']\n",
      "https://www.beeradvocate.com/beer/profile/57/1907/?view=beer&sort=&start=25\n",
      "['3.43', '3.72', '1.68', '4.08', '2.23', '4', '3.99', '3', '1.99', '3.03', '4.75', '3', '3.02', '1.98', '3.31', '2.25', '2.34', '1.66', '3.9', '2.5', '3.53', '1.5', '3', '3.74', '3.58']\n",
      "https://www.beeradvocate.com/beer/profile/57/1907/?view=beer&sort=&start=50\n",
      "['1.77', '1.48', '2.87', '2.75', '2.36', '3.2', '3.91', '3.04', '2.28', '2.75', '2.75', '2.68', '2', '1.84', '3', '2.36', '2.75', '3.66', '3.31', '2.03', '3.85', '2.91', '4.1', '2.46', '1.7']\n",
      "https://www.beeradvocate.com/beer/profile/57/1907/?view=beer&sort=&start=75\n",
      "['1.77', '2.71', '2.05', '2.75', '2.93', '4', '2.94', '3.49', '3.43', '4.04', '2.79', '3.2', '2.46', '2.61', '2.64', '2.96', '2.08', '3.13', '1.65', '1.7', '1.94', '2', '2.98', '2.24', '1.89']\n",
      "https://www.beeradvocate.com/beer/profile/57/1907/?view=beer&sort=&start=100\n",
      "['3', '2.56', '1.37', '3.44', '2.16', '2', '3.64', '2.95', '3.58', '3.36', '2.19', '3.27', '3.5', '2.94', '2.8', '2.1', '3.17', '3.3', '1.75', '2.14', '2.51', '2.74', '3', '2.28', '2.72']\n",
      "https://www.beeradvocate.com/beer/profile/57/1907/?view=beer&sort=&start=125\n",
      "['2.2', '2.8', '2.11', '2.6', '2.75', '2.69', '3.75', '1', '3.25', '1.63', '3.25', '3.25', '2.61', '2.26', '3.65', '3.54', '2.02', '2.75', '3.24', '2.53', '3.18', '2.18', '2.47', '2.97', '2']\n",
      "https://www.beeradvocate.com/beer/profile/57/1907/?view=beer&sort=&start=150\n",
      "['2.05', '2.58', '2.89', '1.51', '3.27', '2.23', '3.46', '3', '1.93', '2.54', '3.39', '4.26', '1.78', '2.94', '2.33', '1.92', '2.68', '2.41', '3.47', '2.33', '3.2', '1.73', '1.17', '2.54', '1.85']\n",
      "https://www.beeradvocate.com/beer/profile/57/1907/?view=beer&sort=&start=175\n",
      "['2.27', '2.83', '2.62', '2.5', '3.42', '2.67', '3.97', '2.85', '3', '2.73', '1.89', '2.8', '2.63', '3.23', '3.41', '2.83', '3.28', '1.65', '2.35', '1.56', '1.29', '2.71', '2.61', '2.02', '2.41']\n",
      "https://www.beeradvocate.com/beer/profile/57/1907/?view=beer&sort=&start=200\n",
      "['3.42', '2.53', '2.73', '2.41', '2.41', '3', '2.71', '2.73', '2.68', '2.61', '2.33', '2.72', '2.36', '3.2', '3.35', '2.9', '2.33', '3.06', '2.55', '2.21', '2.08', '2.11', '2.23', '2.95', '2.73']\n",
      "https://www.beeradvocate.com/beer/profile/57/1907/?view=beer&sort=&start=225\n",
      "['3.05', '2.43', '2.63', '3.5', '2.47', '2.48', '2.57', '1.97', '2.81', '3.03', '1.68', '2.36', '3', '1.61', '2.79', '2.79', '1.83', '1.81', '1.08', '2.92', '1.05', '2.94', '2.91', '2.51', '2.88']\n",
      "https://www.beeradvocate.com/beer/profile/57/1907/?view=beer&sort=&start=250\n",
      "['1.83', '2.77', '2.8', '2.56', '3.21', '2.29', '2.35', '2.9', '2.8', '3.2', '3.52', '3.03', '2.55', '5', '2.96', '2.76', '2.68', '2.75', '3', '3', '2.83', '3.58', '2.83', '2.05', '2.66']\n",
      "https://www.beeradvocate.com/beer/profile/57/1907/?view=beer&sort=&start=275\n",
      "['2.01', '2.53', '2.91', '2.3', '2.3', '2.53', '2.85', '2.94', '2.56', '1', '2.5', '2.89', '2.7', '3', '1.46', '3', '3.7', '2.89', '2.17', '2.82', '2.2', '2.98', '2.81', '2.98', '2.85']\n",
      "https://www.beeradvocate.com/beer/profile/57/1907/?view=beer&sort=&start=300\n",
      "['3.13', '2.65', '3.65', '2.46', '2.95', '1.83', '2.03', '2.95', '2.28', '1.46', '2.88', '2.55', '2.94', '2.46', '2.82', '2.91', '2.45', '4.4', '2.95', '3.53', '3.46', '3.15', '3.05', '2.3', '2.03']\n",
      "https://www.beeradvocate.com/beer/profile/57/1907/?view=beer&sort=&start=325\n",
      "['2.85', '1.5', '3', '2.97', '3.16', '2.63', '1.5', '3.04', '2.91', '2.7', '2.51', '2.83', '2.95', '2.98', '2.66', '2.8', '1.93', '2.9', '2.73', '2.62', '2.71', '2.97', '2.59', '2.48', '2.47']\n",
      "https://www.beeradvocate.com/beer/profile/57/1907/?view=beer&sort=&start=350\n",
      "['2.82', '2.73', '2.86', '2.76', '3.05', '2.73', '2.08', '2.1', '2.26', '2.2', '2.66', '2.78', '2.86', '2.6', '2.65', '3.33', '2', '2.83', '2.61', '2.7', '2.12', '3.85', '2.08', '2.65', '3.97']\n",
      "https://www.beeradvocate.com/beer/profile/57/1907/?view=beer&sort=&start=375\n",
      "['3.58', '1.55', '2.95', '2', '2.98', '3.22', '2.25', '2.48', '2.98', '2.45', '2.15', '2.53', '3.05', '2.83', '2.63', '2.63', '2.45', '2.71', '3.15', '2.8', '3.02', '1.65', '1.84', '2.77', '2.89']\n",
      "https://www.beeradvocate.com/beer/profile/57/1907/?view=beer&sort=&start=400\n",
      "['2.85', '2.6', '2.53', '3.43', '2.75', '3.21', '1.9', '2.48', '1.92', '3.08', '1.76', '2.3', '2.85', '3.3', '4.72', '3', '4.62', '1.72', '3.06', '2.62', '3.03', '2.8', '1.76', '2.15', '3.18']\n",
      "https://www.beeradvocate.com/beer/profile/57/1907/?view=beer&sort=&start=425\n",
      "['3.25', '3.35', '1.9', '2.76', '3.41', '3.35', '3.01', '1.78', '3.77', '2.77', '2', '2.85', '3.2', '3.55', '2.92', '2.3', '2.25', '2.1', '2.68', '2.62', '2.56', '3.61', '2.82', '2.25', '3.46']\n",
      "https://www.beeradvocate.com/beer/profile/57/1907/?view=beer&sort=&start=450\n",
      "['2.75', '2.76', '3.2', '2.94', '2.97', '2.75', '3.42', '3.2', '2.56', '4.08', '2.21', '4.03', '2.3', '2.97', '3.08', '2.3', '2.54', '4.23', '2.76', '2.28', '2', '2.58', '2.52', '2.13', '2.86']\n",
      "https://www.beeradvocate.com/beer/profile/57/1907/?view=beer&sort=&start=475\n",
      "['3.25', '2.34', '2.75', '3.18', '2.75', '3.08', '3.03', '3.32', '2.92', '2.69', '2.66', '1.95', '1.91', '2.95', '3.28', '2.46', '2.82', '2.32', '1.23', '2.73', '2.55', '2.22', '2.88', '2.98', '3.15']\n",
      "https://www.beeradvocate.com/beer/profile/57/1907/?view=beer&sort=&start=500\n",
      "['2.68', '2.91', '3.01', '2.42', '2.68', '3.07', '2.5', '2.73', '2.68', '2.1', '2.65', '3', '2.88', '2.38', '3', '2.3', '2.26', '2.58', '2.6', '3.18', '3.05', '2.86', '1.93', '2.06', '2.83']\n",
      "https://www.beeradvocate.com/beer/profile/57/1907/?view=beer&sort=&start=525\n",
      "['3.05', '3.2', '1.78', '3.05', '2.3', '2.16', '3.3', '2.81', '2.18', '1.68', '3.63', '2.65', '2.81', '3.2', '2.31', '2.81', '4.09', '2.85', '2.96', '2.8', '3.23', '2.93', '2.92', '2.96', '2.41']\n",
      "https://www.beeradvocate.com/beer/profile/57/1907/?view=beer&sort=&start=550\n",
      "['4', '3', '3.01', '4.07', '3.06', '1.58', '2.85', '3.6', '2.6', '2.33', '3.6', '2.35', '2.4', '2.63', '2.57', '2.6', '3.2', '2.95', '2.46', '3.7', '2.45', '2.41', '3.14', '3.43', '2.77']\n",
      "https://www.beeradvocate.com/beer/profile/57/1907/?view=beer&sort=&start=575\n",
      "['2.12', '3.2', '2.75', '4.27', '2.83', '2.27', '1.61', '3.11', '2.9', '2.91', '3.24', '3.25', '2.95', '2.17', '2.6', '2.85', '2.82', '2.83', '2.55', '3.55', '2.38', '2.1', '3.68', '2.98', '2.93']\n",
      "https://www.beeradvocate.com/beer/profile/57/1907/?view=beer&sort=&start=600\n",
      "['3.35', '2.36', '2.53', '2.91', '3.7', '2.2', '2.63', '2.23', '2.38', '2.88', '2.7', '1.98', '3.25', '3.12', '2.64', '2.8', '1.47', '2.62', '1', '2.68', '2.7', '3.14', '3', '2.49', '2.63']\n",
      "https://www.beeradvocate.com/beer/profile/57/1907/?view=beer&sort=&start=625\n",
      "['1.94', '2.43', '2.76', '3.08', '2.97', '2.27', '2.5', '2.73', '2.34', '2.62', '2.18', '2.5', '2.85', '2.98', '3.65', '3.1', '2.2', '2.6', '3.59', '2.8', '2.95', '3.84', '3.1', '3.75', '4']\n"
     ]
    },
    {
     "name": "stderr",
     "output_type": "stream",
     "text": [
      "\r",
      "78it [3:18:03, 116.01s/it]"
     ]
    },
    {
     "name": "stdout",
     "output_type": "stream",
     "text": [
      "https://www.beeradvocate.com/beer/profile/57/1907/?view=beer&sort=&start=650\n",
      "['3.05', '2.27', '2.57', '2.94', '2.32', '2.5', '2.95', '2.78', '3.47', '2.91', '2.65', '3.62', '3.48', '2.7']\n"
     ]
    },
    {
     "name": "stderr",
     "output_type": "stream",
     "text": [
      "\r",
      "79it [3:18:09, 82.94s/it] "
     ]
    },
    {
     "name": "stdout",
     "output_type": "stream",
     "text": [
      "https://www.beeradvocate.com/beer/profile/63/431606/?view=beer&sort=&start=0\n",
      "['3.8', '3', '3.14', '3.87', '4', '3.53', '3.69', '3.77', '3.58', '3.1', '3.94', '3.88', '3.78', '3.74', '3.9', '3.6', '3.88']\n",
      "https://www.beeradvocate.com/beer/profile/63/195/?view=beer&sort=&start=0\n",
      "['3.5', '3.77', '3.69', '4.1', '4', '3.88', '3.92', '3.29', '4', '3.85', '3.96', '2.34', '3.79', '4.16', '3.96', '4.1', '3.26', '3.85', '3.53', '3.99', '3.88', '1.47', '2.68', '3.63', '4.15']\n",
      "https://www.beeradvocate.com/beer/profile/63/195/?view=beer&sort=&start=25\n",
      "['3.94', '3.59', '4.88', '3.44', '3.71', '3.52', '3.93', '4.45', '3.57', '4.27', '4.35', '4.3', '3.77', '3.9', '3.56', '4.05', '3.48', '3.77', '4.18', '4.16', '2.74', '4.25', '3.59', '4', '4.12']\n",
      "https://www.beeradvocate.com/beer/profile/63/195/?view=beer&sort=&start=50\n",
      "['3.9', '4.04', '3.78', '4.33', '3.98', '3.83', '4.02', '3.96', '4.04', '3.83', '3.48', '3.7', '4.59', '3.08', '3.81', '3.6', '4.18', '4.39', '4.15', '4.28', '4.59', '4.48', '4.4', '3.9', '4.48']\n",
      "https://www.beeradvocate.com/beer/profile/63/195/?view=beer&sort=&start=75\n",
      "['3.43', '4.13', '4.29', '4.47', '3.01', '3.93', '4.4', '3.59', '3.82', '3.58', '3.71', '3.52', '3.99', '3.52', '3.67', '3.9', '3.91', '3.85', '3.98', '3.96', '4.63', '4.34', '4', '4.08', '3.99']\n",
      "https://www.beeradvocate.com/beer/profile/63/195/?view=beer&sort=&start=100\n",
      "['3.84', '3.27', '3.97', '3.22', '3.94', '3.95', '3.59', '3.08', '4.28', '3.67', '4.11', '4.42', '3.84', '3.65', '3.81', '3.7', '4.29', '2.89', '4.19', '3.94', '4.16', '4.07', '3.95', '3.62', '4.25']\n",
      "https://www.beeradvocate.com/beer/profile/63/195/?view=beer&sort=&start=125\n",
      "['3.5', '3.67', '3.5', '3.75', '4.88', '4', '4.29', '3.22', '4.01', '3.74', '3.75', '3.58', '3.71', '3.97', '4', '3.25', '3.69', '4.1', '4.25', '3.9', '3.95', '4', '3.9', '4', '4']\n",
      "https://www.beeradvocate.com/beer/profile/63/195/?view=beer&sort=&start=150\n",
      "['3.62', '4.23', '3.92', '3.39', '4.03', '3.94', '3.77', '3.92', '4.51', '3.99', '4.19', '3.81', '3.76', '4.89', '4.03', '4.6', '3.63', '3.67', '3.41', '4.48', '4', '3.93', '4.02', '4.02', '4.13']\n",
      "https://www.beeradvocate.com/beer/profile/63/195/?view=beer&sort=&start=175\n",
      "['3.63', '3.4', '4.13', '3.63', '4', '4.44', '4.03', '1.5', '3.75', '3.75', '3.7', '3.84', '3.91', '4.05', '4.25', '5', '4', '3.42', '5', '4.4', '4', '3.65', '4.5', '4.04', '3.95']\n",
      "https://www.beeradvocate.com/beer/profile/63/195/?view=beer&sort=&start=200\n",
      "['3.6', '3.75', '5', '4.5', '3.96', '3.65', '3.5', '3.32', '3.8', '4.64', '4.31', '3.19', '3.75', '3.79', '4.68', '4.26', '3.51', '3.77', '3.5', '4.01', '3.98', '3.8', '4.31', '4.15', '4.03']\n",
      "https://www.beeradvocate.com/beer/profile/63/195/?view=beer&sort=&start=225\n",
      "['3.95', '4.46', '4.15', '3.73', '3.61', '3.7', '2.93', '3.99', '4.49', '4', '4.05', '3.99', '4.06', '3.83', '3.71', '3.87', '3.83', '4.31', '4.24', '4.28', '3.86', '3.88', '3.94', '2.61', '3.34']\n",
      "https://www.beeradvocate.com/beer/profile/63/195/?view=beer&sort=&start=250\n",
      "['4.24', '3.61', '4.58', '4', '4.1', '3.96', '3.87', '4.38', '3.79', '4.01', '3.57', '4.6', '3.58', '3.7', '3.75', '2.82', '4.51', '4.11', '3.22', '3.81', '3.64', '4', '3.63', '4.12', '4.15']\n",
      "https://www.beeradvocate.com/beer/profile/63/195/?view=beer&sort=&start=275\n",
      "['3.59', '4', '4.14', '3.84', '3.57', '4.14', '3.99', '3.21', '3.83', '4.19', '3.98', '4.33', '3.77', '4.89', '4.25', '4', '4.07', '3.58', '3.92', '3.93', '4.09', '4.13', '3.64', '4', '4.05']\n",
      "https://www.beeradvocate.com/beer/profile/63/195/?view=beer&sort=&start=300\n",
      "['4.59', '4.24', '3.72', '4.04', '4.52', '4.79', '4.87', '4.08', '4', '4.38', '4.06', '3.97', '3.84', '4.11', '4.01', '3.94', '3.67', '3.98', '3.58', '4.26', '4.07', '4.24', '2.8', '3.5', '4.19']\n",
      "https://www.beeradvocate.com/beer/profile/63/195/?view=beer&sort=&start=325\n",
      "['3.81', '4.28', '3.49', '3.5', '4.45', '4.22', '4.13', '4.05', '3.68', '4', '3.58', '4.08', '5', '4.1', '3.5', '3.97', '4.41', '3.47', '4.1', '4.35', '4.21', '4.11', '3.51', '3.63', '3.8']\n",
      "https://www.beeradvocate.com/beer/profile/63/195/?view=beer&sort=&start=350\n",
      "['4', '4.18', '4.3', '4.08', '3.2', '4.33', '4.29', '4.13', '4.55', '4.08', '4.1', '4.05', '3.68', '4.05', '4.12', '3.54', '3.92', '4.3', '4.62', '4.25', '4.05', '4.35', '3.81', '4.38', '4.52']\n",
      "https://www.beeradvocate.com/beer/profile/63/195/?view=beer&sort=&start=375\n",
      "['3.1', '4.2', '3.76', '4.39', '4.01', '4.13', '4.08', '3.88', '4.13', '3.53', '3.76', '3.58', '3.84', '4', '4.3', '4.18', '3.88', '3.97', '3.97', '3.92', '3.66', '3.76', '3.53', '3.95', '4.27']\n",
      "https://www.beeradvocate.com/beer/profile/63/195/?view=beer&sort=&start=400\n",
      "['3.61', '3.8', '3.97', '4.2', '4', '2.56', '3.91', '4', '3.68', '3.78', '3.92', '4.35', '3.53', '3.88', '4.38', '3.83', '3.58', '3.88', '4', '4.15', '4.33', '3.9', '4', '3.95', '3.8']\n",
      "https://www.beeradvocate.com/beer/profile/63/195/?view=beer&sort=&start=425\n",
      "['4.07', '3.25', '3.58', '4.08', '4', '3.3', '4.35', '2.39', '3.76', '4.12', '3.95', '4.58', '4.15', '3.1', '4.3', '4.17', '2.48', '4', '3.55', '4.55', '3.7', '4.15', '3.9', '4.07', '4.1']\n",
      "https://www.beeradvocate.com/beer/profile/63/195/?view=beer&sort=&start=450\n",
      "['3.45', '4.42', '3.79', '4.52', '3.91', '4.14', '4.07', '4.75', '3.48', '3.8', '4.05', '4.09', '3.5', '3.83', '3.25', '4.75', '4.18', '4.09', '3.97', '3.58', '3.53', '4', '3.8', '3.96', '3.88']\n",
      "https://www.beeradvocate.com/beer/profile/63/195/?view=beer&sort=&start=475\n",
      "['4.53', '3.93', '4.08', '4.12', '3.6', '4', '3.91', '3.58', '4.23', '3.86', '3.93', '4', '3.68', '4.08', '4', '3.97', '4.5', '3.92', '4.18', '3.16', '3.97', '3.68', '3.4', '3.41', '3.95']\n",
      "https://www.beeradvocate.com/beer/profile/63/195/?view=beer&sort=&start=500\n",
      "['3.92', '3.99', '4.35', '4.24', '3.77', '3.78', '3.83', '3.32', '4', '3.83', '4.1', '3.98', '3.55', '4.35', '3.83', '4.35', '3.4', '3.86', '3.83', '3.78', '4.66', '3.18', '3.83', '4.1', '4.03']\n",
      "https://www.beeradvocate.com/beer/profile/63/195/?view=beer&sort=&start=525\n",
      "['3.6', '4.03', '3.61', '4.2', '3.88', '3.68', '3.78', '3.56', '3.98', '4.07', '3.72', '3.92', '3.77', '3.63', '3.72', '3.92', '3.64', '4.47', '3.6', '3.87', '3.83', '4.04', '2.91', '4.2', '4.14']\n",
      "https://www.beeradvocate.com/beer/profile/63/195/?view=beer&sort=&start=550\n",
      "['3.81', '4.02', '3.27', '4.58', '4.15', '3.56', '3.75', '3.51', '3.2', '3.67', '4', '3.95', '4.02', '3.98', '3.85', '4.6', '4.1', '3.92', '3.48', '4.43', '4', '3.68', '3.65', '4', '4.14']\n",
      "https://www.beeradvocate.com/beer/profile/63/195/?view=beer&sort=&start=575\n",
      "['3.61', '3.99', '3.93', '4.1', '3.97', '4.72', '4.3', '4', '4.05', '4.13', '3.45', '3.7', '3.73', '3.85', '4.05', '4.17', '3.85', '3.88', '4', '3.57', '3.6', '3.66', '3.82', '3.95', '4']\n",
      "https://www.beeradvocate.com/beer/profile/63/195/?view=beer&sort=&start=600\n",
      "['3.6', '3.67', '3.13', '3.33', '3.83', '4.05', '3.94', '4.2', '3.95', '4.1', '4', '3.83', '3.39', '4.2', '4.58', '4.04', '3.5', '3.13', '4.35', '4.08', '4.3', '4.05', '3.48', '3.4', '4.13']\n",
      "https://www.beeradvocate.com/beer/profile/63/195/?view=beer&sort=&start=625\n",
      "['4.4', '4.15', '3.88', '4.13', '3.7', '4.4', '4.23', '3.38', '3.1', '3.6', '4.02', '4.3', '3.55', '3.62', '3.33', '4.07', '4.1', '3.81', '4.51', '4.12', '3.8', '3.46', '3.9', '4.22', '3.66']\n",
      "https://www.beeradvocate.com/beer/profile/63/195/?view=beer&sort=&start=650\n",
      "['3.8', '3.56', '4.27', '3.99', '4.32', '3.41', '4.03', '3.6', '3.93', '3.88', '3.98', '4.13', '4.4', '4.08', '4.44', '3.57', '4.3', '3.9', '4.43', '4.36', '3.68', '4.33', '3.88', '3.78', '3.98']\n",
      "https://www.beeradvocate.com/beer/profile/63/195/?view=beer&sort=&start=675\n",
      "['4.55', '4.3', '2.56', '3.6', '3.33', '3.13', '3.7', '3.68', '3.83', '4', '4', '3.93', '3.38', '4.35', '3.62', '3.31', '4.17', '4.1', '4.55', '4.34', '4.25', '4.1', '4.1', '3.98', '4']\n",
      "https://www.beeradvocate.com/beer/profile/63/195/?view=beer&sort=&start=700\n",
      "['4.45', '4.07', '3.93', '3.95', '4.13', '3.21', '3.53', '4.27', '4.19', '3.83', '3.78', '3.67', '3.78', '4.37', '4', '4.11', '3.98', '3.52', '3.83', '4', '3.78', '4.2', '3.92', '3.05', '3.83']\n",
      "https://www.beeradvocate.com/beer/profile/63/195/?view=beer&sort=&start=725\n",
      "['4.46', '3.6', '3.91', '4.1', '3.88', '3.94', '4.2', '4.01', '3.98', '3.54', '3.74', '4.13', '3.9', '3.14', '3.18', '3.5', '3.88', '4.45', '4.77', '4.1', '3.6', '3.35', '4.25', '4.02', '3.5']\n"
     ]
    },
    {
     "name": "stdout",
     "output_type": "stream",
     "text": [
      "https://www.beeradvocate.com/beer/profile/63/195/?view=beer&sort=&start=750\n",
      "['4', '4.05', '4.5', '4.6', '4.45', '3.88', '4.3', '3.76', '3.81', '3.71', '3.92', '3.5', '4.07', '4.52', '4.1', '4.13', '3.55', '4.03', '4.21', '3.42', '3.98', '3.99', '3.92', '4', '3.54']\n",
      "https://www.beeradvocate.com/beer/profile/63/195/?view=beer&sort=&start=775\n",
      "['3.92', '4.52', '4.2', '4.25', '4.1', '4.15', '4.64', '4.37', '4.3', '4.28', '3.95', '4.05', '4.3', '4.45', '4.06', '4.7', '3.63', '4.45', '3.87', '4.11', '3.5', '4.03', '4.02', '3.85', '4.01']\n",
      "https://www.beeradvocate.com/beer/profile/63/195/?view=beer&sort=&start=800\n",
      "['3.95', '4.3', '3.12', '4.13', '3.95', '4.3', '4.2', '4', '3.64', '4.07', '3.66', '3.56', '3.6', '3.6', '3.41', '3.5', '3.53', '4.3', '3.99', '3.85', '3.82', '3.8', '3.78', '4.03', '3.88']\n",
      "https://www.beeradvocate.com/beer/profile/63/195/?view=beer&sort=&start=825\n",
      "['4.32', '3.85', '3.63', '4.42', '3.95', '3.58', '4', '3.91', '3.42', '3.93', '3.53', '3.28', '4.35', '4.1', '4.13', '4.13', '4.2', '4.03', '3.8', '4.17', '4', '4.43', '3.55', '3.28', '3.83']\n",
      "https://www.beeradvocate.com/beer/profile/63/195/?view=beer&sort=&start=850\n",
      "['3.85', '3.62', '4.2', '4.47', '3.06', '3.87', '3.5', '4.11', '3.96', '4.1', '4.15', '3.9', '3.93', '3.37', '4.4', '3.6', '3.5', '4', '3.25', '4.23', '4.07', '3.87', '4', '4.1', '4.3']\n",
      "https://www.beeradvocate.com/beer/profile/63/195/?view=beer&sort=&start=875\n",
      "['4.37', '4.05', '3.53', '4.03', '3.88', '3.97', '3.9', '3.48', '3.82', '3.98', '4.3', '4.66', '4.32', '3.75', '4', '3.53', '3.77', '4.27', '3.83', '3.85', '4', '3.73', '3.77', '4.3', '4.1']\n",
      "https://www.beeradvocate.com/beer/profile/63/195/?view=beer&sort=&start=900\n",
      "['4.2', '4.37', '3.43', '3.95', '3.78', '3.92', '3.37', '3.25', '3.7', '4.5', '4.1', '3.92', '4.14', '3.42', '3.77', '4.02', '3.98', '4.17', '4.3', '4.09', '4.17', '3.6', '3.8', '3.88', '3.82']\n",
      "https://www.beeradvocate.com/beer/profile/63/195/?view=beer&sort=&start=925\n",
      "['3.33', '3.95', '4.87', '4.08', '4.2', '4.35', '4.37', '3.65', '3.48', '3.16', '4.42', '4.2', '4', '4.31', '4.23', '3.75', '3.8', '3.8', '4', '3.98', '4.42', '3.86', '4.42', '3.85', '4.25']\n",
      "https://www.beeradvocate.com/beer/profile/63/195/?view=beer&sort=&start=950\n",
      "['3.83', '4.12', '3.82', '4.4', '3.98', '3.56', '4.35', '4.1', '4.35', '4.27', '3.75', '4.37', '3.68', '3.73', '4.08', '3.4', '4.05', '4.12', '4.17', '2.68', '4.15', '4.17', '3.7', '4.07', '4.4']\n",
      "https://www.beeradvocate.com/beer/profile/63/195/?view=beer&sort=&start=975\n",
      "['3.93', '4.35', '4.3', '4', '4', '3.66', '3.95', '4.37', '3.88', '4.1', '3.38', '3.85', '4.3', '3.52', '5', '3.72', '4.04', '3.33', '4.27', '4.37', '3.45', '3.21', '4.52', '4.08', '2.71']\n",
      "https://www.beeradvocate.com/beer/profile/63/195/?view=beer&sort=&start=1000\n",
      "['3.35', '4.2', '3.29', '4.05', '4.05', '3.7', '4.2', '3.26', '3.92', '3.53', '4.42', '3.93', '3.92', '3.83', '3.85', '3.85', '3.98', '4.07', '3.68', '4.74', '3.68', '3.97', '3.18', '3.92', '3.62']\n",
      "https://www.beeradvocate.com/beer/profile/63/195/?view=beer&sort=&start=1025\n",
      "['4.02', '3.8', '3.6', '4.02', '3.38', '4.12', '3.88', '4.15', '4.25', '4', '4.3', '3.67', '3.88', '4.32', '4.3', '4.03', '3.85', '3.79', '2.81', '3.27', '4.05', '4.18', '4.42', '4.67', '3.67']\n"
     ]
    },
    {
     "name": "stderr",
     "output_type": "stream",
     "text": [
      "\r",
      "80it [3:22:19, 133.11s/it]"
     ]
    },
    {
     "name": "stdout",
     "output_type": "stream",
     "text": [
      "https://www.beeradvocate.com/beer/profile/63/195/?view=beer&sort=&start=1050\n",
      "['4', '4']\n",
      "https://www.beeradvocate.com/beer/profile/63/60330/?view=beer&sort=&start=0\n",
      "['4.5', '4.08', '4.05', '4.34', '4.43', '4.37', '4', '3.59', '4.47', '4.25', '4.21', '4.37', '4.02', '4.5', '4.28', '4.18', '4.58', '4.41', '4.28', '3.65', '4.13', '4.08', '4.03', '4.39', '4.04']\n",
      "https://www.beeradvocate.com/beer/profile/63/60330/?view=beer&sort=&start=25\n",
      "['4.11', '3', '4.86', '3.89', '3.26', '4.3', '3.88', '4.23', '4.21', '4.05', '3.96', '3.94', '4.14', '3.82', '4.24', '3.89', '4.28', '4.27', '4.59', '4.15', '4', '4.25', '4.11', '3.53', '3.5']\n",
      "https://www.beeradvocate.com/beer/profile/63/60330/?view=beer&sort=&start=50\n",
      "['4.17', '4.05', '4', '4.41', '3.8', '3.94', '4.5', '3.43', '4.13', '4.58', '3.39', '4.75', '4.06', '4.35', '3.78', '4.07', '4.13', '3.93', '3.66', '3.89', '3.95', '4.29', '3.83', '2.91', '4.8']\n",
      "https://www.beeradvocate.com/beer/profile/63/60330/?view=beer&sort=&start=75\n",
      "['4.65', '3.99', '4.94', '3.31', '4.1', '3.81', '3.48', '4.18', '4.06', '4.81', '4.35', '4.15', '4.29', '4.55', '4.43', '4.12', '4.15', '4.21', '3.93', '4.19', '4.35', '4.13', '4.81', '4.6', '4.69']\n",
      "https://www.beeradvocate.com/beer/profile/63/60330/?view=beer&sort=&start=100\n",
      "['4.33', '3.73', '4.61', '4.12', '3.71', '4.46', '4.1', '4.62', '3.58', '4.24', '3.71', '4.4', '4.3', '4.02', '4.85', '4.8', '4.52', '4.34', '4.67', '4.23', '4.37', '4.23', '4.48', '4.25', '3.32']\n",
      "https://www.beeradvocate.com/beer/profile/63/60330/?view=beer&sort=&start=125\n",
      "['4.24', '4.44', '4.48', '4.02', '4.56', '4.08', '4.12', '4.26', '5', '4.6', '4.16', '4.23', '4.71', '4.5', '4.62', '4.59', '4.6', '4.54', '4.23', '4.34', '4', '4.81', '4.09', '4.2', '4.68']\n",
      "https://www.beeradvocate.com/beer/profile/63/60330/?view=beer&sort=&start=150\n",
      "['4.44', '3.94', '4.43', '4.23', '4.45', '4.56', '4.17', '3.45', '4.06', '4.03', '4.7', '4.19', '4.42', '4.19', '3.75', '1.87', '3.75', '4.27', '1.72', '4.12', '4.27', '4.29', '4.48', '4.93', '4.17']\n",
      "https://www.beeradvocate.com/beer/profile/63/60330/?view=beer&sort=&start=175\n",
      "['4.21', '4.44', '4.08', '4.06', '4.83', '4.19', '4.05', '3.43', '4.1', '4.39', '4.1', '4', '4.64', '4.74', '4.42', '4.24', '4.37', '4.41', '4', '3.53', '3', '3.39', '4.17', '4.77', '4.1']\n",
      "https://www.beeradvocate.com/beer/profile/63/60330/?view=beer&sort=&start=200\n",
      "['4.35', '3.97', '4.58', '4.61', '4.74', '4.4', '4.45', '4.19', '4.25', '3.97', '4.31', '4.49', '4.73', '4', '4.56', '4.98', '4.23', '4.24', '4.25', '4.1', '4.43', '3.88', '4.54', '4.25', '4.05']\n",
      "https://www.beeradvocate.com/beer/profile/63/60330/?view=beer&sort=&start=225\n",
      "['4.61', '3.85', '4.05', '4.32', '4', '3.88', '4.26', '4.18', '4.45', '4.31', '4.71', '4.22', '4.5', '4.2', '3.91', '4.55', '4.71', '4.06', '4.26', '3.52', '4.75', '4.71', '4.36', '3.99', '4.15']\n",
      "https://www.beeradvocate.com/beer/profile/63/60330/?view=beer&sort=&start=250\n",
      "['4.27', '3.77', '4.01', '4.15', '3.97', '4.27', '4.27', '4.43', '4.37', '4.75', '4.37', '4.59', '4.07', '4.38', '4.53', '4.58', '4.5', '3.92', '3.67', '4.41', '4.18', '4.31', '4.49', '4.75', '4.46']\n",
      "https://www.beeradvocate.com/beer/profile/63/60330/?view=beer&sort=&start=275\n",
      "['4.2', '5', '5', '4.14', '4.15', '3.78', '3.66', '4', '4.63', '4.5', '4.51', '4.48', '4.34', '3.94', '4.35', '4.08', '4.56', '4.61', '4.41', '4.83', '3.98', '4.56', '4.22', '4.08', '3.28']\n",
      "https://www.beeradvocate.com/beer/profile/63/60330/?view=beer&sort=&start=300\n",
      "['3.79', '3.25', '3.99', '4.51', '4.4', '4.29', '4.36', '4.23', '4.44', '4.24', '4.29', '3.99', '4.37', '4.14', '4.54', '4.26', '4.12', '4.19', '3.99', '4.59', '4.59', '4.25', '4.25', '3.98', '4.7']\n",
      "https://www.beeradvocate.com/beer/profile/63/60330/?view=beer&sort=&start=325\n",
      "['4.45', '4.36', '4.52', '4.25', '4.41', '4.31', '4.37', '4.16', '4.59', '4.45', '4.32', '4.09', '4.12', '4.25', '4.4', '4.25', '4.21', '3.38', '4', '4.34', '4.23', '4.24', '3.61', '4.29', '4.49']\n",
      "https://www.beeradvocate.com/beer/profile/63/60330/?view=beer&sort=&start=350\n",
      "['3.29', '4.13', '4.59', '4.9', '4.43', '2.46', '4.16', '4.62', '4.5', '3', '4.12', '4.06', '4.29', '3.5', '4', '3.75', '4.19', '4.3', '4.5', '4.86', '3.83', '4.66', '4.15', '4.58', '3.96']\n",
      "https://www.beeradvocate.com/beer/profile/63/60330/?view=beer&sort=&start=375\n",
      "['4.52', '4.64', '4.55', '4.33', '4.56', '4.27', '3.49', '3.98', '4', '4.4', '4.42', '4.55', '4.31', '3.78', '5', '5', '3.22', '4.29', '3.95', '4.75', '4.45', '4.19', '4.63', '3.23', '4.2']\n",
      "https://www.beeradvocate.com/beer/profile/63/60330/?view=beer&sort=&start=400\n",
      "['4.74', '4.6', '4.03', '4.25', '4.24', '3.97', '4.08', '4.49', '4.41', '4.29', '4.87', '3.94', '4.34', '3.96', '4.91', '4.82', '4.09', '4.04', '4.08', '4.75', '3.03', '3.83', '4', '3.83', '4.9']\n",
      "https://www.beeradvocate.com/beer/profile/63/60330/?view=beer&sort=&start=425\n",
      "['4.54', '4.68', '4.16', '4.28', '4.72', '4.24', '3.83', '4.03', '1.8', '4.35', '4.5', '4.16', '3.91', '4.29', '3.82', '3.84', '3.8', '2.72', '4.05', '4.28', '4.33', '4.73', '4', '1.38', '4.5']\n",
      "https://www.beeradvocate.com/beer/profile/63/60330/?view=beer&sort=&start=450\n",
      "['4.5', '4.45', '4.5', '4.4', '4.33', '3.98', '3.57', '4.05', '4.24', '4.75', '4.67', '3.43', '4.68', '4.79', '3.78', '4.55', '4.2', '4.81', '2.72', '4.33', '4.12', '4.31', '4.18', '4.46', '4.64']\n",
      "https://www.beeradvocate.com/beer/profile/63/60330/?view=beer&sort=&start=475\n",
      "['4.66', '4.46', '4.36', '4.57', '4.89', '4.51', '3.7', '4.78', '4.13', '4.22', '4.06', '4.5', '4.32', '4.41', '4.46', '2.68', '5', '3.96', '4.19', '4.5', '4.3', '4.03', '4.2', '4', '4.5']\n",
      "https://www.beeradvocate.com/beer/profile/63/60330/?view=beer&sort=&start=500\n",
      "['4', '4.66', '4.5', '3.75', '3.62', '2.63', '3.71', '4.75', '3.99', '3.66', '4.6', '4.2', '3.59', '4.25', '4.4', '4.11', '4.46', '4.14', '4.25', '4.87', '4.5', '4.16', '3.75', '4.5', '4']\n",
      "https://www.beeradvocate.com/beer/profile/63/60330/?view=beer&sort=&start=525\n",
      "['5', '4.92', '4.06', '4.25', '4.32', '4', '4.25', '4.02', '4.25', '4.24', '4.19', '4.26', '4.25', '4.62', '4.3', '4.8', '4.22', '4.59', '3.8', '3.97', '3.11', '4.25', '4.5', '4.25', '4.35']\n",
      "https://www.beeradvocate.com/beer/profile/63/60330/?view=beer&sort=&start=550\n",
      "['5', '4.47', '4.58', '4.26', '3.31', '4.03', '3.75', '4.09', '4.22', '4.47', '4.16', '4.43', '4.09', '4.03', '4.45', '4.99', '4.02', '4.54', '3.63', '4.19', '4.7', '3.91', '4.51', '2.86', '3.99']\n",
      "https://www.beeradvocate.com/beer/profile/63/60330/?view=beer&sort=&start=575\n",
      "['4.01', '4.28', '3.59', '4.2', '4.13', '4.36', '3.91', '3.74', '4.73', '4.57', '4.25', '3.25', '4.47', '3.85', '4.18', '3.77', '4', '4.06', '4.41', '4.64', '4.38', '4.18', '4.31', '4.79', '4.5']\n",
      "https://www.beeradvocate.com/beer/profile/63/60330/?view=beer&sort=&start=600\n",
      "['4.34', '4.25', '3.62', '4.36', '4.5', '4.14', '4.3', '4.1', '4.01', '4.34', '4', '4.59', '4.15', '4.43', '4.17', '3.91', '4.28', '4.17', '4.08', '4.3', '4.24', '4.87', '4.19', '4.3', '4.37']\n",
      "https://www.beeradvocate.com/beer/profile/63/60330/?view=beer&sort=&start=625\n",
      "['4.39', '3.11', '4', '3.85', '4.99', '5', '4.23', '4.31', '3.63', '4.48', '4.03', '4.14', '4.4', '3.83', '4.63', '3.59', '4.34', '4.48', '3.62', '4.75', '4.62', '4.21', '4.15', '4.06', '3.44']\n",
      "https://www.beeradvocate.com/beer/profile/63/60330/?view=beer&sort=&start=650\n",
      "['4.88', '3.81', '4.59', '4.75', '3.9', '4.21', '4.23', '3.94', '4.58', '4.17', '4.85', '4.43', '4.51', '4.25', '4', '3.62', '4', '4.3', '3.93', '4.34', '3.86', '4.32', '4.46', '3.59', '4.71']\n",
      "https://www.beeradvocate.com/beer/profile/63/60330/?view=beer&sort=&start=675\n",
      "['4.02', '4.26', '4.3', '3.9', '4.09', '4.09', '4.3', '4.7', '4.81', '4.44', '3.84', '4.71', '4.36', '3.87', '4.34', '3.76', '3.54', '4.71', '3.72', '4.14', '4.04', '3.84', '4.47', '4.06', '4.34']\n",
      "https://www.beeradvocate.com/beer/profile/63/60330/?view=beer&sort=&start=700\n",
      "['4.23', '3.56', '4.03', '4.84', '4.32', '4.65', '4.14', '4.21', '4.12', '4.5', '4', '4.55', '4.4', '3.93', '4.24', '4.05', '4.21', '4.31', '4.31', '4.21', '3.74', '4.31', '4.18', '4.21', '4.48']\n",
      "https://www.beeradvocate.com/beer/profile/63/60330/?view=beer&sort=&start=725\n",
      "['3.86', '4.05', '3.74', '4.13', '3.42', '4.05', '4.37', '4.14', '4.03', '4.19', '4.35', '4.33', '3.7', '4.61', '4.26', '4.31', '3.69', '4.29', '4.44', '3.73', '4', '3.32', '3.99', '4.09', '4.45']\n"
     ]
    },
    {
     "name": "stdout",
     "output_type": "stream",
     "text": [
      "https://www.beeradvocate.com/beer/profile/63/60330/?view=beer&sort=&start=750\n",
      "['4.15', '4.27', '3.96', '4.32', '4.25', '4.25', '4.19', '3.91', '4.14', '4.19', '4.45', '4.12', '4.44', '4.18', '4.36', '4.39', '3.81', '4.1', '4.11', '4.31', '4.71', '4.44', '3.99', '4.06', '4.5']\n",
      "https://www.beeradvocate.com/beer/profile/63/60330/?view=beer&sort=&start=775\n",
      "['4.17', '3.71', '4.41', '4.31', '3.84', '4.21', '3.57', '3.92', '4.28', '3.9', '3.96', '3.93', '4.13', '3.95', '4.24', '3.64', '3.93', '3.74', '3.7', '4.43', '4', '4.33', '3.84', '4.41', '4.11']\n",
      "https://www.beeradvocate.com/beer/profile/63/60330/?view=beer&sort=&start=800\n",
      "['3.93', '4.19', '4.2', '3.77', '4.27', '3.79', '3.85', '4.31', '4.31', '4.15', '3.72', '3.29', '3.78', '4.03', '4.24', '3.24', '4.02', '3.73', '3.32', '3.75', '3.81', '3.9', '2.93', '3.74', '4.48']\n"
     ]
    },
    {
     "name": "stderr",
     "output_type": "stream",
     "text": [
      "\r",
      "81it [3:25:41, 153.58s/it]"
     ]
    },
    {
     "name": "stdout",
     "output_type": "stream",
     "text": [
      "https://www.beeradvocate.com/beer/profile/63/60330/?view=beer&sort=&start=825\n",
      "['3.55', '3.88', '2.76', '3.35', '4.17', '4.32', '4.32', '4.12']\n",
      "https://www.beeradvocate.com/beer/profile/726/2831/?view=beer&sort=&start=0\n",
      "['3.83', '4.07', '4.26', '3.07', '2.84', '3.69', '3.73', '2.48', '3', '3.65', '3.66', '3.23', '3.43', '3.51', '2.54', '3.83', '3.28', '3.71', '3', '2.16', '3.35', '2.79', '1.11', '3.86', '3.31']\n",
      "https://www.beeradvocate.com/beer/profile/726/2831/?view=beer&sort=&start=25\n",
      "['3.81', '3', '4', '4.05', '2.98', '3.75', '3.84', '3.52', '3.51', '3.07', '2.95', '3.4', '3.53', '3.07', '3.83', '4.07', '3.33', '3.03', '3.05', '2.51', '2.36', '2.96', '3.88', '2.75', '3.77']\n",
      "https://www.beeradvocate.com/beer/profile/726/2831/?view=beer&sort=&start=50\n",
      "['2.32', '3.55', '4.25', '3.23', '3.26', '3.39', '2.71', '2.12', '3', '2.94', '4', '3', '3.6', '2.63', '3.3', '3.95', '3.85', '4.63', '4.03', '3.5', '2.65', '3.12', '3.75', '3.53', '3.87']\n",
      "https://www.beeradvocate.com/beer/profile/726/2831/?view=beer&sort=&start=75\n",
      "['3.41', '3.28', '3.51', '4.6', '3', '3.35', '2.57', '3.58', '3.5', '2.75', '2.53', '2.51', '3.65', '3.45', '3.41', '3.16', '2.58', '3.9', '2.83', '2.7', '3.56', '2.7', '3.33', '2.55', '3.3']\n",
      "https://www.beeradvocate.com/beer/profile/726/2831/?view=beer&sort=&start=100\n",
      "['3.3', '3', '3.6', '3.6', '3.11', '3', '3.47', '3.21', '3.78', '2.93', '3.47', '3.46', '3.78', '4.15', '3.06', '3.4', '3.2', '2.71', '2.58', '3.5', '2.56', '2.73', '3.68', '3.32', '2.94']\n",
      "https://www.beeradvocate.com/beer/profile/726/2831/?view=beer&sort=&start=125\n",
      "['3.36', '3.35', '3.62', '3.87', '3.45', '3.8', '2.76', '3.56', '2.82', '3.57', '4.1', '3.56', '3.36', '3.95', '3.77', '3.25', '3.58', '3.63', '2.73', '3.8', '3.97', '2.8', '3.37', '2.69', '2.34']\n",
      "https://www.beeradvocate.com/beer/profile/726/2831/?view=beer&sort=&start=150\n",
      "['3.08', '3.01', '3.77', '3.15', '3.48', '2.9', '3.67', '3.3', '3.86', '2.98', '3.42', '3.25', '3.26', '2.94', '2.91', '3.5', '3.6', '3.54', '2.91', '3.12', '4.1', '3.63', '3.82', '3.18', '3.66']\n",
      "https://www.beeradvocate.com/beer/profile/726/2831/?view=beer&sort=&start=175\n",
      "['3.2', '3.28', '3.75', '3.58', '3.88', '2.24', '2.96', '2.87', '4.07', '3.28', '3.78', '3.09', '4.2', '3.48', '3.33', '3.91', '3.1', '3.98', '3.5', '3.63', '3.5', '3.2', '3.03', '2.68', '2.31']\n",
      "https://www.beeradvocate.com/beer/profile/726/2831/?view=beer&sort=&start=200\n",
      "['2.85', '3.63', '3.3', '2.35', '3.31', '2.89', '3.56', '3.68', '3.77', '2.81', '3.9', '3.1', '3.65', '2.8', '3.97', '2.89', '3.4', '3.47', '3.63', '3.8', '2.88', '3.23', '3.13', '2.75', '2.3']\n",
      "https://www.beeradvocate.com/beer/profile/726/2831/?view=beer&sort=&start=225\n",
      "['4.6', '3.4', '3.75', '3.53', '3.36', '2.77', '3.85', '3.25', '3.68', '3.75', '3.33', '3.18', '3.17', '3.02', '3.71', '3.28', '3.36', '3.56', '3.72', '4.07', '2.68', '2.92', '3.23', '3.55', '3.63']\n",
      "https://www.beeradvocate.com/beer/profile/726/2831/?view=beer&sort=&start=250\n",
      "['3.95', '3.91', '3.8', '3.1', '2.75', '3.33', '3.03', '2.97', '2.68', '3.68', '2.83', '2.6', '3.85', '2.7', '3.69', '3.38', '3.18', '2.81', '2.8', '3.76', '3.38', '2.87', '3.12', '2.41', '2.65']\n",
      "https://www.beeradvocate.com/beer/profile/726/2831/?view=beer&sort=&start=275\n",
      "['2.95', '3.63', '3.3', '3.52', '3.13', '3.48', '3.15', '2.6', '3.85', '3.61', '2.66', '3.09', '3.2', '3', '3.81', '3.95', '3.38', '2.83', '3.45', '3.13', '3.78', '3.47', '3.09', '2.88', '4']\n",
      "https://www.beeradvocate.com/beer/profile/726/2831/?view=beer&sort=&start=300\n",
      "['3.78', '3.93', '3.41', '2.83', '2.5', '3.35', '3.74', '2.83', '1.11', '2.61', '2.48', '3.63', '2.97', '3.45', '2.3', '4.12', '3.2', '3.48', '3.1', '4.68', '3.8', '3.8', '3.65', '3.1', '3.13']\n",
      "https://www.beeradvocate.com/beer/profile/726/2831/?view=beer&sort=&start=325\n",
      "['3.16', '3.46', '3.56', '3.1', '3.55', '3.62', '3.38', '3.5', '3.48', '3.53', '2.58', '3.68', '3.15', '3.11', '4.6', '3.18', '3.85', '3.43', '2.81', '4.35', '2.96', '2.95', '4.29', '3', '3.18']\n"
     ]
    },
    {
     "name": "stderr",
     "output_type": "stream",
     "text": [
      "\r",
      "82it [3:27:07, 133.45s/it]"
     ]
    },
    {
     "name": "stdout",
     "output_type": "stream",
     "text": [
      "https://www.beeradvocate.com/beer/profile/726/2831/?view=beer&sort=&start=350\n",
      "['3.38', '4.07', '3.46', '3.81', '3.46', '3.42', '3.71', '3.5', '3.79', '3.62', '3.19', '3.47', '3.73', '3.63']\n"
     ]
    },
    {
     "name": "stderr",
     "output_type": "stream",
     "text": [
      "\r",
      "83it [3:27:13, 95.07s/it] "
     ]
    },
    {
     "name": "stdout",
     "output_type": "stream",
     "text": [
      "https://www.beeradvocate.com/beer/profile/304/159270/?view=beer&sort=&start=0\n",
      "['3.38', '2.79']\n"
     ]
    },
    {
     "name": "stderr",
     "output_type": "stream",
     "text": [
      "\r",
      "84it [3:27:18, 68.24s/it]"
     ]
    },
    {
     "name": "stdout",
     "output_type": "stream",
     "text": [
      "https://www.beeradvocate.com/beer/profile/304/201010/?view=beer&sort=&start=0\n",
      "['3.77', '3.6', '3.46', '4.39', '3.34']\n",
      "https://www.beeradvocate.com/beer/profile/75/232/?view=beer&sort=&start=0\n",
      "['1.73', '2.98', '2.07', '2.08', '2.42', '3.87', '2.16', '3.19', '2.12', '2.25', '4.76', '2.71', '2.31', '1.98', '3.16', '1.92', '3.19', '3.04', '2.08', '2.32', '2.16', '3.27', '2.34', '2.53', '3.18']\n",
      "https://www.beeradvocate.com/beer/profile/75/232/?view=beer&sort=&start=25\n",
      "['2.2', '2.29', '3.78', '5', '2.94', '2', '3.19', '2.1', '3.52', '2.92', '2.42', '3.38', '3', '2.57', '2', '2.34', '5', '2.27', '2.59', '3.81', '1.48', '2.5', '1.51', '4.6', '1.9']\n",
      "https://www.beeradvocate.com/beer/profile/75/232/?view=beer&sort=&start=50\n",
      "['2.61', '2.74', '1.84', '2.72', '3.1', '2.76', '3.32', '2.32', '3.38', '2.56', '2.59', '2.22', '2.9', '2.15', '1.73', '1.93', '2.86', '2.78', '1.7', '1.67', '2.16', '2.5', '2.25', '2.46', '2.28']\n",
      "https://www.beeradvocate.com/beer/profile/75/232/?view=beer&sort=&start=75\n",
      "['2.95', '2.96', '2.22', '2.26', '2.58', '2.9', '2.5', '2.43', '1.6', '2.15', '4.76', '2.72', '1.64', '1.37', '2.94', '2.85', '3.92', '2.71', '3.17', '2.09', '1', '2.88', '1.03', '2.6', '2.2']\n",
      "https://www.beeradvocate.com/beer/profile/75/232/?view=beer&sort=&start=100\n",
      "['2.66', '3.1', '2.86', '2.59', '2.4', '2.16', '1.99', '2.31', '1.42', '3.37', '2.28', '3', '3.05', '2.05', '3', '2.67', '2.57', '2.46', '1.67', '2.25', '2.93', '1.99', '3.05', '2.19', '2.44']\n",
      "https://www.beeradvocate.com/beer/profile/75/232/?view=beer&sort=&start=125\n",
      "['2.18', '2.41', '1.82', '4.03', '2.47', '1', '2.45', '3.14', '2.8', '1.52', '1.49', '2.62', '1.27', '2.47', '1.53', '1.06', '2.19', '2.2', '1.78', '1.63', '3.09', '2.33', '1.86', '2.8', '1.21']\n",
      "https://www.beeradvocate.com/beer/profile/75/232/?view=beer&sort=&start=150\n",
      "['1.93', '2.18', '1.09', '1', '1.63', '2', '2.42', '2', '4.86', '1.27', '3.09', '1', '2.91', '2.78', '2.27', '1.77', '2.5', '4.1', '1.53', '3.25', '2.76', '2.5', '3.41', '2.91', '2.67']\n",
      "https://www.beeradvocate.com/beer/profile/75/232/?view=beer&sort=&start=175\n",
      "['2.56', '3', '1.99', '2.35', '2.22', '3.76', '3.05', '1.95', '2.57', '3.13', '2.11', '1.47', '2.92', '1.77', '1.25', '2.72', '1.34', '1.94', '2.43', '2.42', '4.07', '1.02', '1', '4', '2.38']\n",
      "https://www.beeradvocate.com/beer/profile/75/232/?view=beer&sort=&start=200\n",
      "['3.43', '1.91', '1.84', '3', '2.72', '1.3', '3.16', '3.24', '1.84', '2.15', '2.11', '3.07', '2', '2.15', '1.81', '1', '1.96', '2.24', '3.83', '3.79', '2', '2.25', '2.58', '2.49', '1.83']\n",
      "https://www.beeradvocate.com/beer/profile/75/232/?view=beer&sort=&start=225\n",
      "['3', '4', '1.5', '4.06', '2.25', '2', '1.75', '2.2', '2', '1.72', '1', '3.25', '5', '2.75', '2.16', '2.06', '3.1', '2.24', '1', '2.84', '1.62', '2.25', '2.54', '2.92', '1.61']\n",
      "https://www.beeradvocate.com/beer/profile/75/232/?view=beer&sort=&start=250\n",
      "['2.5', '1.33', '1.85', '3.16', '3.18', '4.44', '2.41', '3.34', '4.33', '2.85', '1.78', '1.44', '2.24', '2.35', '3.9', '2.46', '2.16', '4.97', '3.2', '3.97', '2.19', '3.25', '1.91', '3.34', '2.07']\n",
      "https://www.beeradvocate.com/beer/profile/75/232/?view=beer&sort=&start=275\n",
      "['2.52', '2.6', '2.8', '2.62', '1.68', '3.45', '1', '2', '2.57', '3.08', '2.77', '1.62', '2.23', '1.26', '1', '2.38', '4.38', '3.21', '1.62', '4', '1.39', '2.08', '2.45', '2.89', '2.87']\n",
      "https://www.beeradvocate.com/beer/profile/75/232/?view=beer&sort=&start=300\n",
      "['1.27', '2.4', '2.85', '2.19', '2.11', '1.83', '1.81', '1.32', '2.83', '3.08', '2.35', '2.84', '5', '2.67', '2.76', '1.43', '1.76', '1', '3.59', '1.24', '1.59', '1', '3.07', '4.66', '3.1']\n",
      "https://www.beeradvocate.com/beer/profile/75/232/?view=beer&sort=&start=325\n",
      "['2.55', '2.12', '3.34', '1.91', '2.67', '2.16', '3.54', '1.21', '1.15', '2.38', '2.98', '3.21', '2.22', '2.13', '2', '1.71', '2.84', '2.73', '2.5', '1.53', '3.02', '3.53', '2.02', '2', '2']\n",
      "https://www.beeradvocate.com/beer/profile/75/232/?view=beer&sort=&start=350\n",
      "['2.2', '1.66', '3.65', '2.85', '1.41', '4.27', '1.56', '3.03', '1.69', '1.54', '2.38', '1.52', '1.81', '2.64', '2.3', '2.13', '5', '1.18', '2.16', '2.22', '1.98', '1.73', '2.22', '1.5', '2.08']\n",
      "https://www.beeradvocate.com/beer/profile/75/232/?view=beer&sort=&start=375\n",
      "['2.13', '2.1', '1.98', '1.85', '2', '2.01', '2.5', '2.34', '2.28', '2.1', '2.73', '2.15', '2.33', '2.33', '3.13', '2.03', '1.36', '1.58', '2.33', '3.1', '1.15', '1.82', '1.55', '3.7', '3.23']\n",
      "https://www.beeradvocate.com/beer/profile/75/232/?view=beer&sort=&start=400\n",
      "['3.35', '2.41', '1.88', '2.41', '1.94', '3.3', '2.5', '1.27', '1.76', '2.56', '3.2', '1.03', '1.23', '2.68', '2.3', '2.25', '2.17', '2.08', '2.08', '1.51', '1', '1.11', '2.96', '1.48', '2.5']\n",
      "https://www.beeradvocate.com/beer/profile/75/232/?view=beer&sort=&start=425\n",
      "['1.71', '2.13', '2.99', '1.53', '2.75', '2.67', '1.66', '2.56', '1.85', '1', '2.48', '1.91', '1.94', '2.74', '2.53', '1.26', '2.48', '3.51', '2.01', '2.75', '2.05', '1.38', '2.9', '1.53', '2.33']\n",
      "https://www.beeradvocate.com/beer/profile/75/232/?view=beer&sort=&start=450\n",
      "['1.17', '1', '1.81', '1.9', '3.26', '2.45', '1.81', '2.5', '2', '2.17', '2.42', '1.63', '2.38', '2.55', '1.81', '1.95', '1.8', '1.05', '2.8', '2.76', '1.96', '1.38', '1.68', '2.44', '2.16']\n",
      "https://www.beeradvocate.com/beer/profile/75/232/?view=beer&sort=&start=475\n",
      "['2.14', '1.99', '2.76', '1.93', '1.93', '3.55', '2.49', '2.6', '2.23', '1.7', '2.56', '2', '1.98', '1.62', '2', '2.88', '3.08', '2.64', '2.92', '1.28', '1.33', '1.81', '2', '3.36', '2.3']\n",
      "https://www.beeradvocate.com/beer/profile/75/232/?view=beer&sort=&start=500\n",
      "['2.05', '1.63', '2.5', '2.2', '2.85', '2.97', '1.99', '2.91', '2.08', '2.2', '2', '1.81', '2.2', '1.8', '1.93', '3.23', '1.7', '1.32', '2.4', '2.38', '1.85', '2.46', '3.25', '3.26', '1.81']\n",
      "https://www.beeradvocate.com/beer/profile/75/232/?view=beer&sort=&start=525\n",
      "['1.58', '2.27', '2.43', '3.4', '2.35', '1.23', '1.6', '2.33', '2.4', '1.35', '1.78', '1.55', '1.77', '2.45', '1.5', '2.65', '1.89', '3.65', '2.83', '4.18', '4.54', '2.28', '1', '3.17', '2']\n",
      "https://www.beeradvocate.com/beer/profile/75/232/?view=beer&sort=&start=550\n",
      "['2.25', '1.58', '2.93', '2.22', '1.58', '1.78', '1.75', '2.2', '1.91', '1.95', '2.25', '1.81', '2.3', '3.34', '1.06', '2.53', '1.76', '2.4', '1.54', '2.7', '2.7', '1.42', '1.95', '2.19', '2.05']\n",
      "https://www.beeradvocate.com/beer/profile/75/232/?view=beer&sort=&start=575\n",
      "['1.6', '1.7', '1.84', '1.06', '2.3', '2.1', '1.48', '1.81', '2.33', '2.07', '2.15', '2', '2.32', '2.1', '1.82', '1.28', '3.3', '3.1', '2.2', '1.88', '1.9', '1.7', '2.32', '2.4', '2.3']\n",
      "https://www.beeradvocate.com/beer/profile/75/232/?view=beer&sort=&start=600\n",
      "['2.38', '1.86', '1.86', '1', '2.18', '4.01', '1.59', '1.96', '2.13', '3.11', '1.58', '3.05', '1.91', '2.29', '2.17', '1.56', '2.42', '1.73', '1.45', '1.6', '3.51', '1.93', '1.98', '2.46', '2.09']\n",
      "https://www.beeradvocate.com/beer/profile/75/232/?view=beer&sort=&start=625\n",
      "['2.26', '3.76', '2', '2.7', '2.1', '3.46', '4', '2.33', '1.3', '2', '1.65', '2.18', '1.68', '1.65', '2.25', '3.23', '2.6', '2.35', '1.57', '2.38', '3.15', '2.77', '2.45', '1.77', '3.14']\n",
      "https://www.beeradvocate.com/beer/profile/75/232/?view=beer&sort=&start=650\n",
      "['3.5', '2.2', '2.2', '1.96', '1.78', '2.03', '1.83', '1.43', '2.2', '2.38', '2.3', '1.58', '1.4', '1.6', '2.2', '1.66', '2.06', '2.21', '2', '2.71', '2.06', '4.53', '3.21', '1.73', '2.74']\n",
      "https://www.beeradvocate.com/beer/profile/75/232/?view=beer&sort=&start=675\n",
      "['1.85', '2.45', '1.73', '1', '1', '3.83', '1.9', '2.14', '2.14', '2.7', '2.61', '2.12', '2.07', '2.01', '2.45', '3.01', '2.07', '1.66', '1.97', '1.88', '1', '2', '2.53', '2.94', '1.56']\n",
      "https://www.beeradvocate.com/beer/profile/75/232/?view=beer&sort=&start=700\n",
      "['2.6', '2.99', '2.25', '1.65', '1.44', '3.42', '1.91', '2.08', '2.2', '2.15', '2.45', '2', '2.08', '2.27', '2.14', '2.3', '2', '2.55', '1.19', '2.4', '2.13', '2.19', '2.38', '3.45', '3.38']\n",
      "https://www.beeradvocate.com/beer/profile/75/232/?view=beer&sort=&start=725\n",
      "['2.43', '3.83', '2.03', '2.18', '1.57', '1.4', '2.97', '1.53', '3.22', '3', '1.03', '2.5', '1.98', '2.03', '2.66', '3.04', '2.55', '2.45', '2.69', '2.48', '2.15', '2.2', '2.5', '2.68', '3.32']\n",
      "https://www.beeradvocate.com/beer/profile/75/232/?view=beer&sort=&start=750\n",
      "['2.01', '1.81', '2.43', '2.74', '2.33', '2.71', '3.05', '1.86', '2.05', '3.2', '3.35', '2.78', '2.19', '3.53', '1.56', '1.81', '1.8', '1.52', '2.91', '2.68', '2.36', '3.3', '1.98', '2.56', '1.67']\n"
     ]
    },
    {
     "name": "stdout",
     "output_type": "stream",
     "text": [
      "https://www.beeradvocate.com/beer/profile/75/232/?view=beer&sort=&start=775\n",
      "['2.17', '1.26', '2.03', '1', '2.41', '3.02', '1.2', '1.39', '2.18', '2.05', '5', '1.36', '2.31', '1.53', '1.28', '1.83', '3.7', '1.95', '2.18', '1.9', '2.2', '2.06', '2', '2.51', '1.91']\n",
      "https://www.beeradvocate.com/beer/profile/75/232/?view=beer&sort=&start=800\n",
      "['2.3', '1.85', '2.87', '2.31', '2.33', '2.63', '2.36', '2.48', '2', '3.87', '2.53', '2.2', '1.6', '1', '4.02', '1.43', '4.8', '1.1', '3.08', '2.99', '3.27', '1.71', '2.03', '1.03', '1.77']\n",
      "https://www.beeradvocate.com/beer/profile/75/232/?view=beer&sort=&start=825\n",
      "['2.06', '1.58', '1.78', '2', '1', '1.9', '2.6', '1.63', '1.26', '3.15', '2.51', '1.78', '1.78', '2.12', '2.15', '2.2', '1.96', '1.53', '1.93', '2.81', '2.73', '2.45', '2.3', '2.59', '2.47']\n",
      "https://www.beeradvocate.com/beer/profile/75/232/?view=beer&sort=&start=850\n",
      "['1.28', '2.91', '1.48', '2.13', '2.1', '2.71', '2.35', '1.54', '2', '2', '1.86', '2.15', '1.55', '1.93', '2.16', '3.2', '1.7', '1', '2.22', '1.51', '3.1', '3.18', '3.08', '1.76', '1.63']\n",
      "https://www.beeradvocate.com/beer/profile/75/232/?view=beer&sort=&start=875\n",
      "['2.5', '2.43', '3.22', '2.56', '2.45', '1.2', '2.8', '2.6', '1.98', '2.83', '1.53', '2.99', '1.51', '3.1', '2', '2.58', '2.14', '2.01', '1.45', '2.74', '2.1', '2.02', '2.7', '1.68', '3.1']\n",
      "https://www.beeradvocate.com/beer/profile/75/232/?view=beer&sort=&start=900\n",
      "['2.93', '1.76', '3.14', '2.26', '2.2', '1.85', '1.8', '2.28', '1.92', '1.53', '1.56', '2.08', '2.4', '3.47', '1.2', '1.34', '2.43', '1.96', '2', '1.85', '1.46', '1.98', '2.88', '3.37', '1.79']\n",
      "https://www.beeradvocate.com/beer/profile/75/232/?view=beer&sort=&start=925\n",
      "['1.93', '1.3', '1.71', '1.75', '2.45', '2.8', '2.17', '2.23', '2.63', '2', '2.5', '2.04', '2.76', '1.65', '2.12', '2.45', '2.08', '1.28', '2.05', '1.53', '2.64', '1.31', '2.7', '2.82', '1.93']\n",
      "https://www.beeradvocate.com/beer/profile/75/232/?view=beer&sort=&start=950\n",
      "['3.68', '3.8', '2.45', '2.66', '1.76', '4.22', '2.7', '2.45', '2.5', '2.04', '3', '2.31', '2.68', '2.48', '1.91', '2.26', '1', '1.8', '1.15', '2.83', '1.41', '2.55', '1.99', '2.66', '3.14']\n",
      "https://www.beeradvocate.com/beer/profile/75/232/?view=beer&sort=&start=975\n",
      "['2.69', '2.84', '1.5', '3.57', '2.31', '1.44', '1.95', '2.7', '2.23', '2.38', '2.23', '1.68', '2.51', '1.76', '1.89', '1.95', '1.68', '2.08', '2.03', '2.25', '1.77', '2.35', '1.75', '2.27', '1.93']\n",
      "https://www.beeradvocate.com/beer/profile/75/232/?view=beer&sort=&start=1000\n",
      "['2.03', '3.33', '1.18', '4.68', '1.62', '1.9', '2.75', '1.91', '3.4', '1.98', '2.37', '1.38', '2.83', '2.67', '2.93', '1.18', '1.54', '3.34', '2.37', '2.4', '2.4', '2.15', '1.23', '1.08', '1.38']\n",
      "https://www.beeradvocate.com/beer/profile/75/232/?view=beer&sort=&start=1025\n",
      "['2.28', '2.1', '2.6', '1.53', '2.25', '2.43', '2.4', '2', '2.56', '3.04', '3.28', '2.55', '2.65', '1.45', '2.4', '2.61', '3.62', '2.43', '2.12', '2.93', '2.98', '1.4', '2.07', '3.07', '1.6']\n",
      "https://www.beeradvocate.com/beer/profile/75/232/?view=beer&sort=&start=1050\n",
      "['3', '1', '2.88', '2.48', '1.78', '1.65', '1.31', '2.2', '1.93', '2.03', '1.81', '2.1', '3.25', '2.36', '3.38', '2.2', '2.7', '1.98', '1.45', '3.08', '2.28', '1.08', '2.19', '2.23', '2.18']\n",
      "https://www.beeradvocate.com/beer/profile/75/232/?view=beer&sort=&start=1075\n",
      "['2.09', '2.43', '1.18', '3.65', '2.38', '2', '2.88', '4.18', '2.83', '2.38', '1.13', '1.46', '2.08', '2.11', '3.1', '1.56', '2.46', '1.3', '1.68', '1.73', '1.72', '1.9', '2.14', '2.73', '1.2']\n",
      "https://www.beeradvocate.com/beer/profile/75/232/?view=beer&sort=&start=1100\n",
      "['2.2', '2.47', '2.13', '2.28', '3.75', '1.78', '1', '1.9', '2.4', '2.15', '1.35', '1.59', '2.03', '1.75', '1.65', '1.93', '2.5', '1.48', '2.48', '2.63', '2.57', '2.01', '2.03', '2.63', '1.56']\n",
      "https://www.beeradvocate.com/beer/profile/75/232/?view=beer&sort=&start=1125\n",
      "['1.61', '2.78', '1.83', '1.05', '2.83', '2.03', '1.22', '2.5', '2.21', '1.27', '1.83', '2.45', '1.83', '2.63', '2.6', '2.8', '2.57', '2.54', '3.85', '1.26', '1.27', '1.65', '1.63', '2.44', '1.71']\n",
      "https://www.beeradvocate.com/beer/profile/75/232/?view=beer&sort=&start=1150\n",
      "['2.13', '2.91', '2.16', '2.02', '3.15', '2.3', '1.32', '1', '2.18', '1.28', '1.87', '1.43', '2.65', '2.9', '2.05', '2.42', '2', '1.19', '1.86', '1.63', '1.42', '1.11', '2.07', '1.4', '2']\n",
      "https://www.beeradvocate.com/beer/profile/75/232/?view=beer&sort=&start=1175\n",
      "['2.1', '1.18', '3.13', '2.65', '2.34', '2.23', '1.16', '1.96', '1.28', '2.65', '4.23', '2.7', '2.4', '1.78', '2.4', '1.65', '2.2', '2.9', '2.08', '2.33', '1.5', '1.66', '1.46', '1.29', '3.3']\n",
      "https://www.beeradvocate.com/beer/profile/75/232/?view=beer&sort=&start=1200\n",
      "['1.98', '1.63', '2.35', '1.46', '1.9', '2.37', '2.21', '3.19', '1.12', '2.73', '2.85', '2.63', '1.13', '1.82', '2.68', '1.13', '2.08', '1.3', '1.58', '2.07', '2.1', '2.68', '1.6', '1.53', '1']\n",
      "https://www.beeradvocate.com/beer/profile/75/232/?view=beer&sort=&start=1225\n",
      "['2.96', '1.79', '2.23', '1.48', '1.88', '2.27', '1.83', '2.13', '2.7', '2.6', '2.2', '2.7', '2.48', '2.23', '1.95', '1.32', '2.38', '1.6', '2', '1.64', '2.23', '3.44', '1.7', '3.5', '1.88']\n",
      "https://www.beeradvocate.com/beer/profile/75/232/?view=beer&sort=&start=1250\n",
      "['1.99', '2.19', '1.2', '2.88', '1.86', '2.4', '1.41', '1.74', '2.18', '1.6', '1.88', '1.5', '1.37', '1', '1.49', '2.01', '1.58', '1.79', '2.6', '1.82', '3.53', '1.63', '1.73', '1.33', '1.59']\n",
      "https://www.beeradvocate.com/beer/profile/75/232/?view=beer&sort=&start=1275\n",
      "['1.3', '2.33', '1', '2.23', '2.05', '2.01', '1.47', '2.03', '2.29', '2', '2.35', '2.12', '2.18', '1.88', '1.06', '2.2', '2.15', '1.9', '1.85', '2.69', '1.88', '2.45', '2.03', '1.11', '1.3']\n",
      "https://www.beeradvocate.com/beer/profile/75/232/?view=beer&sort=&start=1300\n",
      "['1.18', '2.78', '2.7', '2.25', '2.82', '2.88', '3.42', '2.35', '1.15', '1.62', '3.13', '2.5', '1.78', '1.76', '3.37', '2.58', '1.9', '2.6', '2.68', '3.07', '1.9', '1.98', '2.92', '1.77', '1.96']\n"
     ]
    },
    {
     "name": "stderr",
     "output_type": "stream",
     "text": [
      "\r",
      "85it [3:32:33, 142.09s/it]"
     ]
    },
    {
     "name": "stdout",
     "output_type": "stream",
     "text": [
      "https://www.beeradvocate.com/beer/profile/75/232/?view=beer&sort=&start=1325\n",
      "['1.87', '2.6', '1.5', '2', '1.3', '2']\n",
      "https://www.beeradvocate.com/beer/profile/75/233/?view=beer&sort=&start=0\n",
      "['2.59', '1.68', '2.66', '3', '1', '1.03', '1.65', '2.88', '2.9', '2.36', '2', '4.75', '1.96', '3.59', '2.59', '3.6', '2.79', '1', '3.09', '2.25', '1.92', '2.53', '2.43', '2.4', '2.18']\n",
      "https://www.beeradvocate.com/beer/profile/75/233/?view=beer&sort=&start=25\n",
      "['1.88', '2', '2.48', '1.99', '3.3', '3', '2', '2.46', '1.77', '2.96', '1.88', '2.5', '1', '3.2', '1.3', '2.3', '2.43', '3', '1.65', '2.54', '1', '1.43', '2.19', '2.19', '2.22']\n",
      "https://www.beeradvocate.com/beer/profile/75/233/?view=beer&sort=&start=50\n",
      "['2.35', '1.56', '2.62', '2.27', '3.75', '3', '3.35', '1', '1.75', '2', '4.24', '3.93', '3.15', '1.28', '2.69', '1', '4.84', '2.04', '3.49', '2.1', '1.44', '1.52', '1.84', '2.25', '1.95']\n",
      "https://www.beeradvocate.com/beer/profile/75/233/?view=beer&sort=&start=75\n",
      "['4', '2.37', '1.25', '2.12', '2.75', '2.47', '2.94', '1.7', '2.05', '2.18', '2.87', '2.49', '1.74', '2.16', '2.18', '4.5', '3.04', '1.57', '1.47', '3.02', '1.84', '2.15', '1.09', '1.96', '1.16']\n",
      "https://www.beeradvocate.com/beer/profile/75/233/?view=beer&sort=&start=100\n",
      "['1.7', '1.86', '1.68', '1.33', '2.41', '1.4', '1.56', '1.62', '1.78', '1.86', '1.59', '2.66', '1.6', '1.99', '3.68', '1.53', '2.65', '3.72', '1.53', '1.58', '1.7', '1.66', '2.48', '2.61', '1.76']\n",
      "https://www.beeradvocate.com/beer/profile/75/233/?view=beer&sort=&start=125\n",
      "['1.42', '1.33', '1.16', '1', '1.48', '2.25', '1.38', '1.03', '1.6', '1.83', '1.05', '3.78', '3.38', '2.23', '1.85', '2', '1.71', '1.7', '2.76', '2', '1.89', '2.07', '3', '1.98', '1.59']\n",
      "https://www.beeradvocate.com/beer/profile/75/233/?view=beer&sort=&start=150\n",
      "['1.83', '1.8', '1.5', '1.5', '1.58', '2', '2.09', '1.57', '1.62', '1.53', '3.59', '4', '1.28', '1.15', '1.52', '1', '1', '1.34', '2.56', '1.11', '1.55', '1.4', '1', '1.3', '1.65']\n",
      "https://www.beeradvocate.com/beer/profile/75/233/?view=beer&sort=&start=175\n",
      "['1', '1.5', '3.2', '1.97', '1.51', '1.5', '1.21', '1.43', '1.06', '1.2', '1.64', '1.34', '1', '2.3', '2.15', '1.08', '1.75', '3.26', '1.13', '2.3', '1.35', '1.77', '1.22', '2.45', '1.93']\n",
      "https://www.beeradvocate.com/beer/profile/75/233/?view=beer&sort=&start=200\n",
      "['1.52', '1', '1.95', '1.58', '2.83', '2.67', '1.59', '1.63', '2.3', '3.25', '2.55', '1.15', '1.06', '2.55', '1', '1.8', '1.12', '1.53', '1.03', '1.93', '2.22', '1.89', '1.76', '2.9', '1.87']\n",
      "https://www.beeradvocate.com/beer/profile/75/233/?view=beer&sort=&start=225\n",
      "['1.8', '1.55', '1.37', '1.21', '3.05', '2.55', '2.3', '2.58', '1.8', '1.93', '1.18', '1.38', '1.73', '3.22', '2.36', '1.53', '1.63', '3.33', '1.36', '1.73', '1.94', '1.47', '1.4', '1.87', '1.84']\n",
      "https://www.beeradvocate.com/beer/profile/75/233/?view=beer&sort=&start=250\n",
      "['2.95', '1.76', '2.18', '1.73', '3.9', '1.86', '2.21', '1.78', '1.81', '1', '1', '1.21', '1.62', '1.28', '2.15', '2.18', '1', '2.4', '1.55', '2.56', '1.3', '1.2', '1.43', '2.45', '1.75']\n",
      "https://www.beeradvocate.com/beer/profile/75/233/?view=beer&sort=&start=275\n",
      "['1.58', '1.5', '2.11', '1', '1.68', '1.48', '2.43', '1.6', '2.23', '1.6', '2.6', '1.03', '1.56', '1.36', '2.05', '1.08', '1.78', '1.88', '1.9', '1.27', '2.65', '2.75', '3.1', '3', '1.53']\n",
      "https://www.beeradvocate.com/beer/profile/75/233/?view=beer&sort=&start=300\n",
      "['2.3', '1.73', '1.28', '1.8', '1.67', '1.53', '1.51', '1', '1.58', '1.2', '1.46', '1.45', '1.21', '1', '1.12', '1', '1.61', '1.9', '1.53', '1.57', '1.98', '1.77', '1.6', '3.02', '1.42']\n",
      "https://www.beeradvocate.com/beer/profile/75/233/?view=beer&sort=&start=325\n",
      "['1.53', '3.02', '1.43', '2.38', '1.8', '1.63', '1.45', '1.97', '2.85', '2.6', '1.63', '2.3', '1.6', '1.2', '1.38', '1.32', '1.11', '1.95', '1.35', '1.77', '1.7', '1.85', '2', '1.98', '1.31']\n",
      "https://www.beeradvocate.com/beer/profile/75/233/?view=beer&sort=&start=350\n",
      "['2.4', '1.48', '2', '1.89', '2.15', '3.91', '1.06', '1.38', '1.11', '1', '1.85', '1.13', '2.93', '1.42', '1.67', '2.99', '1.98', '1.45', '1.63', '1.32', '1.37', '1.33', '1.2', '2.35', '1.03']\n",
      "https://www.beeradvocate.com/beer/profile/75/233/?view=beer&sort=&start=375\n",
      "['1.73', '1.35', '1', '1', '2', '1.55', '1', '1.4', '1.12', '1.63', '1.47', '1.05', '1.11', '1.76', '2.89', '1', '1.2', '1.5', '1.86', '1.26', '1.05', '1.3', '1.67', '1.3', '1.28']\n",
      "https://www.beeradvocate.com/beer/profile/75/233/?view=beer&sort=&start=400\n",
      "['1.15', '1.1', '2.33', '1.16', '1.67', '1.2', '1.33', '1.19', '1.53', '1.55', '1.6', '1.5', '1.88', '1.65', '1.25', '2', '1', '1.45', '1.85', '1.5', '1', '1.1', '2.03', '2.05', '1.49']\n"
     ]
    },
    {
     "name": "stderr",
     "output_type": "stream",
     "text": [
      "\r",
      "86it [3:34:16, 130.45s/it]"
     ]
    },
    {
     "name": "stdout",
     "output_type": "stream",
     "text": [
      "https://www.beeradvocate.com/beer/profile/75/233/?view=beer&sort=&start=425\n",
      "['1.62', '1.5', '1', '1.96', '1.28']\n",
      "https://www.beeradvocate.com/beer/profile/721/2270/?view=beer&sort=&start=0\n",
      "['4', '2.55', '2.22', '3.09', '3.75', '3.77', '3.17', '3.24', '2.96', '3.18', '3.24', '2.33', '3.03', '3.94', '3.52', '4.16', '3.93', '3.49', '2.81', '3.75', '3.11', '2.75', '1.88', '3.61', '2.83']\n",
      "https://www.beeradvocate.com/beer/profile/721/2270/?view=beer&sort=&start=25\n",
      "['2.75', '5', '4.5', '2.85', '2.66', '3', '3.09', '3.62', '3.88', '3.08', '2.32', '4', '3.25', '4', '4.41', '3.76', '3.94', '2.88', '3.14', '3.49', '3.58', '3.17', '3.15', '3', '3.71']\n",
      "https://www.beeradvocate.com/beer/profile/721/2270/?view=beer&sort=&start=50\n",
      "['2.89', '3.27', '3.25', '2.39', '1.83', '3.13', '2.34', '2.26', '3.18', '3.24', '3.88', '3.09', '2.98', '2.15', '2.58', '3.87', '3.2', '3.01', '3.49', '4.19', '2.92', '4.05', '2.37', '2.51', '3.39']\n",
      "https://www.beeradvocate.com/beer/profile/721/2270/?view=beer&sort=&start=75\n",
      "['1.52', '3.09', '3.12', '4.23', '3.4', '3.15', '4.1', '2.61', '2.94', '2.99', '2.11', '2.97', '1.94', '2.63', '2.6', '2.96', '3.08', '3.5', '3.79', '2.72', '3.02', '2.56', '2.5', '2.94', '3.39']\n",
      "https://www.beeradvocate.com/beer/profile/721/2270/?view=beer&sort=&start=100\n",
      "['3.03', '3.4', '3.65', '2.99', '2.78', '2.22', '3.75', '3.45', '3.83', '3.1', '3.25', '2.85', '2.83', '3.49', '3.19', '3.42', '3.35', '3.27', '2.64', '2.94', '3.72', '3.09', '2.66', '2.65', '2.68']\n",
      "https://www.beeradvocate.com/beer/profile/721/2270/?view=beer&sort=&start=125\n",
      "['3.24', '3.02', '3.25', '3.23', '3.09', '3.17', '2.9', '2.98', '2.75', '3.27', '2.28', '2.73', '4.12', '1.06', '3.05', '3.25', '3.35', '2.87', '4.43', '2.28', '2.41', '2.73', '3.3', '3.18', '3.33']\n",
      "https://www.beeradvocate.com/beer/profile/721/2270/?view=beer&sort=&start=150\n",
      "['2.28', '2.73', '4', '2.96', '1.51', '3.58', '3.45', '3.9', '3.05', '4.07', '2.97', '2.09', '3.45', '3.08', '3', '3', '3.82', '3.41', '3.95', '3.52', '3.8', '3.03', '2.05', '2.73', '2.58']\n",
      "https://www.beeradvocate.com/beer/profile/721/2270/?view=beer&sort=&start=175\n",
      "['2.76', '2.91', '3.72', '2.56', '1.88', '3.13', '2.77', '2.89', '3.25', '3.03', '3.2', '3.1', '2.68', '3.18', '2.68', '2.32', '2.8', '2.91', '3.43', '3.17', '1.98', '3', '3.03', '2.08', '3.3']\n",
      "https://www.beeradvocate.com/beer/profile/721/2270/?view=beer&sort=&start=200\n",
      "['2.88', '2.93', '3.3', '2.79', '2.76', '2.88', '3.43', '3.41', '3.28', '2.88', '2.75', '2.81', '3.42', '3.4', '2.86', '2.4', '3.45', '3', '3.77', '3.69', '3.38', '3.15', '3.1', '2.39', '2.13']\n",
      "https://www.beeradvocate.com/beer/profile/721/2270/?view=beer&sort=&start=225\n",
      "['2.76', '2.44', '3.53', '2.61', '3.5', '3.13', '3.6', '3', '3.02', '2.51', '3.02', '3.28', '1.43', '3.9', '2.85', '3.47', '3.4', '3.32', '1.55', '1.23', '3.2', '3.5', '2.26', '2.81', '3.21']\n",
      "https://www.beeradvocate.com/beer/profile/721/2270/?view=beer&sort=&start=250\n",
      "['3.26', '3.72', '3.42', '3.25', '3.48', '3.7', '3.5', '3.73', '3.31', '3.75', '3.07', '2.58', '3.2', '3.45', '3.92', '3.13', '3.6', '2.63', '3.13', '3.48', '2.53', '3.37', '3.06', '2.94', '1.9']\n",
      "https://www.beeradvocate.com/beer/profile/721/2270/?view=beer&sort=&start=275\n",
      "['1.58', '3.26', '3.56', '2.72', '2.65', '2.68', '3.01', '3.14', '3.1', '3.65', '3.53', '3.2', '3.38', '2.61', '2.83', '3.1', '3.58', '2.26', '1.86', '2.61', '2.71', '2.86', '3.65', '4.15', '3.43']\n",
      "https://www.beeradvocate.com/beer/profile/721/2270/?view=beer&sort=&start=300\n",
      "['3.4', '3.3', '3.18', '3.48', '2.88', '2.35', '2.95', '3.31', '2.98', '3.05', '2.68', '3.77', '1.11', '3.74', '3.05', '3.22', '2.38', '3.05', '2.83', '3.79', '2.95', '2.11', '2.26', '2.63', '2.85']\n",
      "https://www.beeradvocate.com/beer/profile/721/2270/?view=beer&sort=&start=325\n",
      "['2.7', '2.97', '3.15', '3.33', '3.17', '3.92', '4.23', '3.1', '3.55', '2.88', '3.16', '3.74', '3.77', '2.99', '3.18', '2.81', '3.57', '2.76', '3.68', '3.3', '3.33', '3.38', '3.03', '2.65', '2.98']\n",
      "https://www.beeradvocate.com/beer/profile/721/2270/?view=beer&sort=&start=350\n",
      "['3.06', '3.38', '2.93', '2.51', '3.03', '2.63', '3.44', '2.74', '3.07', '1.76', '3.23', '3.08', '3', '3.36', '2.83', '3.37', '3.46', '3.11', '3.27', '3.89', '3.32', '3.47', '3.6', '3', '3.4']\n",
      "https://www.beeradvocate.com/beer/profile/721/2270/?view=beer&sort=&start=375\n",
      "['3.45', '2.71', '2.95', '3.33', '2.75', '1.73', '2.13', '2.8', '4.36', '3.03', '2.8', '2.66', '2.88', '2.76', '2.83', '2.53', '3.08', '3.88', '3.26', '3.16', '3.04', '3.13', '2.5', '3.18', '2.6']\n",
      "https://www.beeradvocate.com/beer/profile/721/2270/?view=beer&sort=&start=400\n",
      "['3.3', '3.06', '2.41', '3.28', '1.85', '2.64', '3.17', '2.59', '2.73', '2.29', '2.2', '3.43', '3.03', '3.13', '3.71', '3.78', '2.15', '3', '3.45', '2.55', '3.58', '2.33', '2.76', '3.6', '4.02']\n",
      "https://www.beeradvocate.com/beer/profile/721/2270/?view=beer&sort=&start=425\n",
      "['3.87', '3.19', '2.6', '2.93', '3.6', '2.87', '2.1', '3.46', '3.13', '2.78', '3', '3.38', '3.57', '3.3', '2.8', '3.46', '3.13', '2.71', '3.23', '3.98', '2', '2.39', '2.92', '3.5', '2.72']\n",
      "https://www.beeradvocate.com/beer/profile/721/2270/?view=beer&sort=&start=450\n",
      "['4.57', '3', '3.05', '3.76', '3.11', '2.02', '3.4', '3.85', '3.98', '3.35', '2.71', '2.03', '2.95', '2.12', '3.45', '3.38', '2.96', '3.45', '3.36', '3.5', '3.18', '2.63', '2.93', '2.73', '3.25']\n",
      "https://www.beeradvocate.com/beer/profile/721/2270/?view=beer&sort=&start=475\n",
      "['2.8', '3.3', '2.59', '3', '3.48', '3.53', '2.43', '3.35', '3.33', '2.8', '3.18', '2.6', '1.44', '2.85', '2.98', '1.86', '2.4', '2.51', '2.96', '3.34', '3.13', '3.24', '3.78', '3.48', '2.18']\n",
      "https://www.beeradvocate.com/beer/profile/721/2270/?view=beer&sort=&start=500\n",
      "['2.83', '2', '3.47', '1.86', '3.68', '3', '3.1', '2.85', '2.57', '2.81', '2.43', '2.41', '3.62', '2.78', '2.4', '2.45', '3.01', '4.29', '2.6', '3.75', '3.45', '2.88', '3.1', '2.4', '2.33']\n",
      "https://www.beeradvocate.com/beer/profile/721/2270/?view=beer&sort=&start=525\n",
      "['2.8', '2.26', '2.79', '2.85', '2.28', '2.51', '2.46', '2.45', '2.35', '3.92', '3.5', '1.62', '3.48', '3.45', '3.18', '3.5', '3.1', '3.3', '2.56', '2.81', '2.82', '3.35', '2.88', '2.63', '3.06']\n"
     ]
    },
    {
     "name": "stderr",
     "output_type": "stream",
     "text": [
      "\r",
      "87it [3:36:28, 130.96s/it]"
     ]
    },
    {
     "name": "stdout",
     "output_type": "stream",
     "text": [
      "https://www.beeradvocate.com/beer/profile/721/2270/?view=beer&sort=&start=550\n",
      "['1.53', '2.42', '3.13', '2.87', '2.53', '2.46', '3.8', '2.46', '2.76', '2.5', '4.52', '3.6', '3.4']\n",
      "https://www.beeradvocate.com/beer/profile/272/750/?view=beer&sort=&start=0\n",
      "['2.38', '4.71', '4.26', '1.9', '5', '2.91', '2.97', '3.25', '1.99', '3.52', '2.27', '3.18', '5', '3.16', '2.3', '3.22', '2.71', '3.5', '3.46', '3.38', '2.57', '3.12', '2.28', '3.81', '2.75']\n",
      "https://www.beeradvocate.com/beer/profile/272/750/?view=beer&sort=&start=25\n",
      "['2.8', '3.95', '4.93', '2.87', '2.15', '1.4', '3.48', '2.9', '2.96', '3.25', '2.36', '3.75', '2.5', '3.24', '3.71', '2.76', '2.99', '3.34', '3.59', '3.42', '2.61', '3.11', '3.25', '2.33', '2.86']\n",
      "https://www.beeradvocate.com/beer/profile/272/750/?view=beer&sort=&start=50\n",
      "['2.92', '2.96', '2.95', '3.97', '2.84', '2.59', '2.79', '3.23', '2.85', '3.35', '3.69', '2.93', '2.3', '2.78', '2.26', '1.86', '1.21', '3.83', '3.08', '4.2', '2.78', '3', '4.06', '2.93', '3.5']\n",
      "https://www.beeradvocate.com/beer/profile/272/750/?view=beer&sort=&start=75\n",
      "['3.36', '3.33', '3.6', '3.73', '2.79', '3.7', '2.16', '2.13', '3.15', '3.03', '2.63', '3.11', '2.26', '2.13', '3.08', '2.68', '3.23', '2.21', '3.45', '2.45', '1.8', '3.23', '2.5', '2.52', '3.7']\n",
      "https://www.beeradvocate.com/beer/profile/272/750/?view=beer&sort=&start=100\n",
      "['3.14', '1.97', '2.72', '1.76', '1.15', '1.71', '2.36', '1.31', '3.37', '3.7', '4.19', '3.55', '2.18', '2.35', '3.4', '3.77', '2.27', '3.25', '2.8', '2.98', '3.19', '2.89', '3.18', '2.86', '3.73']\n",
      "https://www.beeradvocate.com/beer/profile/272/750/?view=beer&sort=&start=125\n",
      "['2.53', '3.2', '2.15', '3.42', '2.75', '2.18', '3.15', '3.18', '3.43', '2.9', '3.08', '3.77', '2.65', '2.77', '2.75', '2.15', '2.33', '2.08', '1.06', '4.1', '3.24', '2.38', '3', '2.32', '3.57']\n",
      "https://www.beeradvocate.com/beer/profile/272/750/?view=beer&sort=&start=150\n",
      "['4.09', '1.77', '3.13', '3', '3.1', '2.18', '2.19', '2.06', '1.9', '2.5', '2.53', '3.43', '3.8', '2.65', '2.38', '3', '2.08', '2.86', '2.62', '3.3', '2.2', '3.36', '2.46', '1.36', '4.07']\n"
     ]
    },
    {
     "name": "stderr",
     "output_type": "stream",
     "text": [
      "\r",
      "88it [3:37:15, 105.76s/it]"
     ]
    },
    {
     "name": "stdout",
     "output_type": "stream",
     "text": [
      "https://www.beeradvocate.com/beer/profile/272/750/?view=beer&sort=&start=175\n",
      "['3.3', '2.16', '3.11', '2.11', '1.97', '2.01', '3.13', '2.63', '3.18', '2.09', '2.85', '3.38', '1.23', '1.06', '3.8']\n"
     ]
    },
    {
     "name": "stderr",
     "output_type": "stream",
     "text": [
      "\r",
      "89it [3:37:21, 75.77s/it] "
     ]
    },
    {
     "name": "stdout",
     "output_type": "stream",
     "text": [
      "https://www.beeradvocate.com/beer/profile/23680/61914/?view=beer&sort=&start=0\n",
      "['3.57', '3.37', '4.18', '3.91', '3.85', '3.31', '3.53', '3.44', '2.93', '4', '3.69']\n",
      "https://www.beeradvocate.com/beer/profile/613/1641/?view=beer&sort=&start=0\n",
      "['3.59', '3.47', '4.1', '4.26', '3.8', '3.34', '3.5', '3.48', '2.65', '3.34', '3.62', '3.49', '3.75', '3.83', '3.99', '3.72', '3.51', '3.75', '3.1', '3.99', '3.55', '4.94', '3.51', '3.85', '4.07']\n",
      "https://www.beeradvocate.com/beer/profile/613/1641/?view=beer&sort=&start=25\n",
      "['4.24', '4.21', '3.5', '4.35', '3.13', '4.02', '3.07', '4', '3.66', '2.5', '3.63', '3.6', '3.3', '3.41', '4.05', '4', '4.77', '1.92', '5', '5', '3.96', '2.23', '4.07', '3.75', '3.26']\n",
      "https://www.beeradvocate.com/beer/profile/613/1641/?view=beer&sort=&start=50\n",
      "['3.56', '3.75', '3.35', '3.22', '4', '3.59', '3.62', '3.84', '4.18', '3.49', '3.15', '3.37', '3.69', '3.65', '3.71', '4.25', '4.53', '3.59', '4.69', '3.25', '3.48', '3.79', '3.71', '4.18', '3.93']\n",
      "https://www.beeradvocate.com/beer/profile/613/1641/?view=beer&sort=&start=75\n",
      "['3', '3.32', '3.59', '4.11', '3.91', '3.44', '4.75', '3.13', '3.69', '4.23', '3.53', '3.5', '3.03', '3.78', '5', '4.66', '3.12', '5', '3.78', '3.66', '3.82', '3.46', '3.67', '3.89', '2.99']\n",
      "https://www.beeradvocate.com/beer/profile/613/1641/?view=beer&sort=&start=100\n",
      "['4.56', '4.09', '3.79', '3.85', '3.44', '3.08', '3.94', '3.03', '3.98', '2.94', '3.38', '4.5', '3.47', '3.54', '3.48', '3.53', '4.05', '3.44', '4.84', '3.66', '3.27', '3.57', '4.27', '3.51', '3.24']\n",
      "https://www.beeradvocate.com/beer/profile/613/1641/?view=beer&sort=&start=125\n",
      "['4.45', '3.04', '3.79', '3.49', '3.6', '4.21', '3.29', '3.67', '4.33', '2.96', '3.6', '4.06', '3.12', '2.83', '4.59', '4.13', '3.81', '3.75', '3.81', '3.68', '3.59', '2.77', '2.97', '3.74', '2.96']\n",
      "https://www.beeradvocate.com/beer/profile/613/1641/?view=beer&sort=&start=150\n",
      "['4.02', '3.24', '3.77', '4', '3.07', '3.69', '3.76', '3.79', '4', '3.24', '3.42', '3.62', '3.87', '3.32', '3.84', '3.56', '4.51', '3.42', '3.5', '2.85', '2.28', '2.75', '3.68', '2.64', '3.95']\n",
      "https://www.beeradvocate.com/beer/profile/613/1641/?view=beer&sort=&start=175\n",
      "['3.65', '4', '3.06', '3.87', '2', '3.25', '3.5', '3.33', '3.81', '3.1', '3.71', '4.25', '3.84', '1.95', '3.64', '2.52', '3.45', '4.07', '3.3', '3.79', '2.84', '3.91', '3.7', '3.03', '3.46']\n",
      "https://www.beeradvocate.com/beer/profile/613/1641/?view=beer&sort=&start=200\n",
      "['4.17', '2.9', '3.25', '4.5', '3.6', '1.69', '3.69', '4.74', '3.89', '3.43', '4.5', '2.59', '3.35', '4.11', '3.95', '2.98', '4.04', '3.47', '3.59', '5', '3.83', '4.4', '2.59', '3.25', '4.4']\n",
      "https://www.beeradvocate.com/beer/profile/613/1641/?view=beer&sort=&start=225\n",
      "['2.75', '4.35', '1.7', '4.02', '2.81', '4.06', '3', '2.78', '2.95', '3.49', '3.07', '3.91', '3.52', '2.89', '4.71', '3.89', '3.7', '3.29', '3.91', '3.5', '2.81', '3.73', '3.42', '2.23', '3.16']\n",
      "https://www.beeradvocate.com/beer/profile/613/1641/?view=beer&sort=&start=250\n",
      "['3.17', '3.28', '3.68', '4', '4.15', '3.65', '3.8', '3.55', '3.48', '4.08', '4.01', '3.92', '3.33', '3.39', '3.39', '4', '3.94', '3.13', '3.76', '3.11', '3.51', '3.7', '3.53', '3.8', '3.01']\n",
      "https://www.beeradvocate.com/beer/profile/613/1641/?view=beer&sort=&start=275\n",
      "['3.8', '3.67', '3.47', '3.5', '4.23', '2.62', '2.73', '3.02', '3.65', '3.31', '3.52', '4.65', '3.22', '3.94', '4', '3.23', '3.33', '3.24', '3.24', '3.42', '3.23', '3.08', '4.15', '2.88', '3.5']\n",
      "https://www.beeradvocate.com/beer/profile/613/1641/?view=beer&sort=&start=300\n",
      "['4.2', '3.74', '4', '3.7', '3.5', '3.83', '4.06', '2.26', '2.58', '3.94', '3.41', '3.82', '3.85', '3.85', '3.75', '3.16', '2.82', '3.14', '4.35', '3.82', '3.83', '3.97', '3.68', '3.26', '3.03']\n",
      "https://www.beeradvocate.com/beer/profile/613/1641/?view=beer&sort=&start=325\n",
      "['3.26', '3.78', '3.11', '3.68', '3.33', '3.23', '3.2', '3.04', '4.24', '3.35', '3.5', '3.72', '3.31', '2.68', '4.05', '3.3', '4.13', '3.97', '3.98', '4.3', '3.37', '2.55', '3.8', '3.97', '3.97']\n",
      "https://www.beeradvocate.com/beer/profile/613/1641/?view=beer&sort=&start=350\n",
      "['2.95', '3.75', '3.49', '2.6', '3.98', '3.31', '3.67', '2.8', '3', '3.43', '3.74', '3.69', '3.6', '3.97', '3.26', '2.17', '3.65', '4.05', '4.4', '3.18', '3.32', '3.55', '2.9', '3.04', '3.48']\n",
      "https://www.beeradvocate.com/beer/profile/613/1641/?view=beer&sort=&start=375\n",
      "['3.6', '3.38', '3.14', '3.08', '2.66', '3.56', '2.81', '3.43', '3.33', '3.3', '3.85', '3.63', '3.15', '3.46', '4', '3.7', '3.83', '4.57', '2.2', '4.09', '3.85', '3.56', '3.82', '2.75', '3.53']\n",
      "https://www.beeradvocate.com/beer/profile/613/1641/?view=beer&sort=&start=400\n",
      "['3.85', '3.75', '3.1', '3.23', '3.72', '3.85', '3.3', '3.78', '3.76', '3.43', '2.61', '3.8', '3.63', '3.83', '3.84', '3.87', '3.65', '3.98', '4.83', '3.35', '4.38', '3.51', '4.15', '2.33', '3.88']\n",
      "https://www.beeradvocate.com/beer/profile/613/1641/?view=beer&sort=&start=425\n",
      "['3.33', '3.72', '4.03', '3.89', '2.94', '3.38', '3.75', '3.55', '3.75', '3.35', '3.38', '3.18', '4.02', '2.84', '3.96', '3.36', '3.98', '3.34', '3.25', '3.63', '3.18', '3.83', '3.53', '3.18', '3.72']\n",
      "https://www.beeradvocate.com/beer/profile/613/1641/?view=beer&sort=&start=450\n",
      "['4.34', '3.51', '2.84', '3.43', '3.7', '3.97', '4.1', '3.83', '4.21', '3.47', '3.63', '4.76', '3.29', '4.1', '3.94', '2.82', '3.75', '4.33', '3.22', '4.33', '3.65', '3.81', '3.81', '3.53', '3.54']\n",
      "https://www.beeradvocate.com/beer/profile/613/1641/?view=beer&sort=&start=475\n",
      "['3.28', '3.73', '3.85', '3.35', '2.76', '3.43', '2.8', '3.95', '3.3', '3.56', '3.98', '4.43', '4.6', '2.91', '3.08', '3.79', '2.76', '3.8', '3.93', '3.45', '3.42', '3.63', '3.5', '3.65', '3.21']\n",
      "https://www.beeradvocate.com/beer/profile/613/1641/?view=beer&sort=&start=500\n",
      "['2.99', '3.9', '3.53', '3.3', '3.77', '3.65', '3.37', '3.6', '4', '3.2', '4.08', '3.08', '3.36', '4', '3.54', '3.5', '3.38', '2.98', '3.1', '3.32', '4.17', '4.65', '3.55', '3.89', '3.68']\n",
      "https://www.beeradvocate.com/beer/profile/613/1641/?view=beer&sort=&start=525\n",
      "['3.08', '3.44', '4.26', '3.6', '3.32', '3.32', '3', '3.82', '3.24', '3.26', '1.6', '3.58', '3.38', '3.55', '3.99', '2.73', '2.29', '3.29', '3.22', '4.42', '3.67', '4.05', '3.5', '3.03', '3.23']\n",
      "https://www.beeradvocate.com/beer/profile/613/1641/?view=beer&sort=&start=550\n",
      "['2.71', '3.37', '2.95', '3.45', '2.45', '3.96', '4', '2.94', '3.72', '3.67', '2.11', '3.96', '3.58', '3.9', '2.79', '3.82', '3.53', '3.42', '3.45', '3.52', '3.58', '3.82', '3.88', '3.77', '1.96']\n",
      "https://www.beeradvocate.com/beer/profile/613/1641/?view=beer&sort=&start=575\n",
      "['3.3', '3', '2.75', '2.88', '3.87', '3.29', '3.98', '3.75', '4.2', '3.61', '3.5', '3.08', '3.7', '3.74', '3.89', '3.95', '3.67', '2.53', '3.66', '3.73', '3.72', '2.81', '3.4', '3.73', '3']\n",
      "https://www.beeradvocate.com/beer/profile/613/1641/?view=beer&sort=&start=600\n",
      "['3.4', '3.63', '4.65', '3.53', '3.55', '3.78', '3.78', '3.81', '2.8', '3.07', '4.1', '3.5', '3.65', '3.88', '3.01', '4.38', '3.13', '3.2', '3.63', '2.8', '3.62', '2.8', '3.15', '3.85', '3.83']\n",
      "https://www.beeradvocate.com/beer/profile/613/1641/?view=beer&sort=&start=625\n",
      "['3.33', '3.2', '3.58', '4.07', '3.45', '4.1', '3.47', '3.35', '2.98', '3.88', '3.66', '2.93', '3.49', '3.68', '2.55', '2.3', '3.2', '3.1', '4.38', '3', '3.38', '3.4', '2.92', '3.56', '2.86']\n",
      "https://www.beeradvocate.com/beer/profile/613/1641/?view=beer&sort=&start=650\n",
      "['3.51', '2.88', '3.5', '3.95', '3.57', '2.47', '3.55', '3.5', '4.05', '2.93', '3.56', '3.41', '3.4', '2.76', '2.86', '3.42', '4', '3.83', '3.17', '3.85', '3.93', '2.14', '4.06', '3.6', '4']\n",
      "https://www.beeradvocate.com/beer/profile/613/1641/?view=beer&sort=&start=675\n",
      "['2.5', '3.17', '2.66', '3.85', '3.76', '2.64', '3.69', '3.88', '3.93', '2.57', '3.75', '4.77', '3.75', '4.13', '3.58', '2.96', '2.53', '3.18', '3.4', '2.86', '4.43', '3.71', '3.33', '2.74', '2.06']\n",
      "https://www.beeradvocate.com/beer/profile/613/1641/?view=beer&sort=&start=700\n",
      "['3.35', '3.8', '3.58', '2.51', '3.73', '3.6', '3', '3.97', '3.12', '3.04', '3.44', '3.78', '3.95', '1.66', '3.65', '3.76', '2.23', '3.16', '4.24', '3.28', '3.7', '3.98', '2.83', '3.92', '3.53']\n",
      "https://www.beeradvocate.com/beer/profile/613/1641/?view=beer&sort=&start=725\n",
      "['3.15', '3.67', '3', '3.6', '3.1', '3.38', '4.3', '3.95', '3.5', '3.27', '3.7', '4', '3.35', '4', '3.96', '3.88', '3.83', '3.15', '3.65', '4', '2.83', '3.26', '4.33', '3.85', '3.37']\n"
     ]
    },
    {
     "name": "stdout",
     "output_type": "stream",
     "text": [
      "https://www.beeradvocate.com/beer/profile/613/1641/?view=beer&sort=&start=750\n",
      "['3.69', '4.43', '2.58', '3.63', '3.61', '4.21', '3.73', '3.6', '3.48', '3.63', '4.13', '2.56', '3.33', '3.28', '3.13', '3.73', '3.58', '4.03', '3.27', '3.93', '2.75', '3.83', '3.06', '3.41', '3.47']\n",
      "https://www.beeradvocate.com/beer/profile/613/1641/?view=beer&sort=&start=775\n",
      "['3.51', '3.54', '4', '3.48', '3.61', '3.95', '2.94', '4.2', '3.7', '3.62', '3.06', '4.08', '3.45', '4.03', '4.03', '2.03', '3.41', '3.18', '3.45', '3.37', '3.15', '3.08', '3.68', '3.38', '2.31']\n",
      "https://www.beeradvocate.com/beer/profile/613/1641/?view=beer&sort=&start=800\n",
      "['3.13', '2.33', '2.5', '3.23', '3.79', '3.82', '3.8', '3.83', '3.46', '3', '3.9', '3.06', '3.03', '2.51', '3.76', '2.97', '3.02', '2.64', '3.05', '3.33', '3.28', '2.83', '3.05', '3.48', '3.23']\n",
      "https://www.beeradvocate.com/beer/profile/613/1641/?view=beer&sort=&start=825\n",
      "['3.66', '3.35', '3.32', '2.1', '3.72', '3.58', '3.4', '3.01', '3.47', '3.92', '2.81', '3.87', '3.65', '4.5', '4.1', '3', '4.65', '3.02', '3.6', '3.62', '3.85', '3.3', '3.36', '3.53', '3.16']\n",
      "https://www.beeradvocate.com/beer/profile/613/1641/?view=beer&sort=&start=850\n",
      "['4.45', '4.25', '3.77', '2.45', '3.45', '3.23', '4', '4.3', '2.88', '3.44', '3.05', '4.3', '3.2', '3.78', '3.9', '4.45', '3.68', '3.5', '3.55', '3.95', '3.5', '3.85', '3.38', '3.42', '4.6']\n"
     ]
    },
    {
     "name": "stderr",
     "output_type": "stream",
     "text": [
      "\r",
      "90it [3:40:49, 115.58s/it]"
     ]
    },
    {
     "name": "stdout",
     "output_type": "stream",
     "text": [
      "https://www.beeradvocate.com/beer/profile/613/1641/?view=beer&sort=&start=875\n",
      "['4.73', '3.33', '3.94', '4.45', '3.7', '4.48', '3.77', '2.25', '3.5', '3', '3.9', '4.11', '3.5', '3.74', '3.85', '3.85', '3.89', '4.22', '4.1', '3.12', '3.95', '3.93', '3.1']\n",
      "https://www.beeradvocate.com/beer/profile/32/2435/?view=beer&sort=&start=0\n",
      "['1.32', '2.73', '3.09', '3.05', '2.24', '3.4', '4.75', '4', '3.88', '2.66', '3.09', '2.52', '2.62', '2.4', '3.4', '4', '2.46', '3.98', '2.41', '2.5', '2.9', '4.74', '1.72', '2.82', '2.75']\n",
      "https://www.beeradvocate.com/beer/profile/32/2435/?view=beer&sort=&start=25\n",
      "['3.28', '3.22', '3.44', '3.5', '2.78', '2.62', '2.03', '2.26', '3.4', '3.36', '5', '3.78', '2.83', '2.72', '3', '3.62', '3.22', '3.49', '2.69', '3.13', '1.89', '3.5', '3.44', '3.01', '2.56']\n",
      "https://www.beeradvocate.com/beer/profile/32/2435/?view=beer&sort=&start=50\n",
      "['2.86', '3', '2.97', '2.95', '1.28', '2.55', '3.25', '5', '2.77', '4.72', '3.36', '1.9', '2.14', '3.04', '3.85', '2.58', '3.44', '1.91', '3.49', '3.75', '2.44', '2.98', '2.52', '2.7', '2.88']\n",
      "https://www.beeradvocate.com/beer/profile/32/2435/?view=beer&sort=&start=75\n",
      "['1.93', '3.77', '2.55', '1.56', '1', '1.69', '3.33', '3.6', '1.41', '2.91', '3.22', '3.2', '3.75', '1.93', '2.73', '3.2', '2.67', '3.32', '4.53', '2.75', '3.05', '2.8', '3.27', '4.03', '2.92']\n",
      "https://www.beeradvocate.com/beer/profile/32/2435/?view=beer&sort=&start=100\n",
      "['3.95', '2.96', '2.07', '2.05', '1.8', '3.59', '4', '1.51', '3.75', '3.74', '3.77', '4.32', '3.84', '3.47', '2.85', '2.93', '3', '4.42', '2.21', '3.73', '2.85', '3.06', '3.08', '2.56', '3.25']\n",
      "https://www.beeradvocate.com/beer/profile/32/2435/?view=beer&sort=&start=125\n",
      "['4.75', '3.25', '4', '2.25', '3.16', '2.58', '3', '3', '2.25', '1.5', '3.18', '2.9', '2.71', '3.87', '1', '2.3', '2.11', '2.58', '3.17', '3.2', '1', '2.24', '3.07', '2.73', '2.08']\n",
      "https://www.beeradvocate.com/beer/profile/32/2435/?view=beer&sort=&start=150\n",
      "['2.39', '1.68', '3.62', '2.68', '3.02', '3.3', '2.07', '1.52', '2.96', '2.21', '2.43', '3.08', '3.06', '2.27', '3.48', '1.35', '2.03', '4.25', '3.13', '3.6', '3.05', '3.34', '2.71', '1.15', '2.97']\n",
      "https://www.beeradvocate.com/beer/profile/32/2435/?view=beer&sort=&start=175\n",
      "['1.03', '2.38', '1.99', '2.5', '1.61', '4', '2.61', '1.97', '1.49', '4.35', '3.3', '1.12', '1.96', '2.8', '3', '3.65', '1.54', '1.88', '1.12', '2.3', '1.06', '1.49', '1', '1', '1.16']\n",
      "https://www.beeradvocate.com/beer/profile/32/2435/?view=beer&sort=&start=200\n",
      "['1', '2.25', '2.53', '2.86', '1.12', '1.5', '2.33', '2.48', '1.51', '2.1', '2.35', '3.4', '3.8', '2.78', '2.98', '3.32', '2.28', '2.7', '2.63', '3.83', '2.46', '2.63', '3.15', '1.94', '2.5']\n",
      "https://www.beeradvocate.com/beer/profile/32/2435/?view=beer&sort=&start=225\n",
      "['2.45', '4.44', '3.41', '3.42', '1.19', '2.96', '3.12', '2.88', '1.8', '2.16', '2.68', '2.06', '2.59', '3.22', '2.92', '1.85', '2.88', '2.27', '1.92', '2.13', '3.43', '2.8', '4.3', '2.83', '2.48']\n",
      "https://www.beeradvocate.com/beer/profile/32/2435/?view=beer&sort=&start=250\n",
      "['2.59', '2.11', '3', '2.83', '3.67', '3', '3.38', '2.84', '2.77', '3.3', '2.73', '2.86', '2.73', '2.82', '2.82', '2.43', '3.35', '3', '3', '3.67', '2.79', '3.47', '2.6', '2.4', '1.83']\n",
      "https://www.beeradvocate.com/beer/profile/32/2435/?view=beer&sort=&start=275\n",
      "['2.16', '3.76', '3.35', '2.81', '3.77', '2.94', '3.13', '2.7', '3.41', '1.58', '2.63', '3.13', '2.67', '2.49', '2.76', '1.71', '3.03', '2.93', '3.7', '3.7', '2.52', '2.52', '3.89', '3.27', '1.25']\n",
      "https://www.beeradvocate.com/beer/profile/32/2435/?view=beer&sort=&start=300\n",
      "['1.4', '1.55', '2.75', '3.3', '1.6', '2.95', '4.51', '2.91', '2.45', '2.54', '3.7', '3.78', '2.95', '4.6', '3.44', '2.8', '2.33', '2.43', '2.73', '3.82', '2.82', '2.78', '2.33', '3.1', '2.93']\n",
      "https://www.beeradvocate.com/beer/profile/32/2435/?view=beer&sort=&start=325\n",
      "['3.14', '3.23', '3.08', '3.73', '2.17', '4.82', '2.92', '3.06', '2.98', '3.13', '3.82', '2.65', '4.15', '3.4', '2.4', '2', '3.22', '3.29', '2.65', '1.68', '2.75', '3.02', '2.33', '2.61', '2.76']\n",
      "https://www.beeradvocate.com/beer/profile/32/2435/?view=beer&sort=&start=350\n",
      "['2.92', '2', '2.63', '2.61', '3.45', '1.48', '3.8', '2.65', '1.71', '2.93', '3.95', '2.43', '3.95', '2.35', '2.98', '2.49', '2.44', '2.03', '2.02', '3.21', '3.11', '2.66', '3.45', '3.51', '3.6']\n",
      "https://www.beeradvocate.com/beer/profile/32/2435/?view=beer&sort=&start=375\n",
      "['3.13', '2.58', '3.1', '4.16', '3.9', '2.3', '2.92', '3.2', '2.98', '2.53', '3.68', '2.71', '1.83', '3.15', '2.88', '3.13', '3.3', '3.2', '3.1', '3.47', '3.2', '2.98', '2.88', '2.97', '4.6']\n",
      "https://www.beeradvocate.com/beer/profile/32/2435/?view=beer&sort=&start=400\n",
      "['3.73', '3.21', '2.39', '2.48', '3', '5', '3.37', '3.58', '2.65', '3.38', '2.38', '3.35', '2.9', '2.97', '2.27', '2.38', '2.96', '3.28', '2.75', '2.32', '2.5', '3.35', '3.07', '3.48', '2.63']\n",
      "https://www.beeradvocate.com/beer/profile/32/2435/?view=beer&sort=&start=425\n",
      "['3.7', '3.4', '3.15', '3.01', '2.55', '2.81', '4.09', '2.18', '2.03', '3.3', '1.39', '3', '3.35', '2.83', '3.75', '2.95', '3.15', '3.07', '2.93', '3.07', '1.91', '2.95', '2.46', '3.98', '3.13']\n",
      "https://www.beeradvocate.com/beer/profile/32/2435/?view=beer&sort=&start=450\n",
      "['2.63', '3.45', '3.13', '3.73', '2.12', '2.35', '2.53', '3.15', '2.77', '3.2', '2.71', '2.8', '2.67', '3.25', '3.15', '3.19', '2.56', '3.7', '2.05', '3', '2.25', '2.98', '3.55', '2.22', '4.1']\n",
      "https://www.beeradvocate.com/beer/profile/32/2435/?view=beer&sort=&start=475\n",
      "['1.51', '3.2', '2.25', '2.79', '2.58', '2.63', '1.66', '2.65', '4.55', '3.94', '3.09', '1.76', '2.96', '2.88', '2.1', '3.14', '2.93', '2.76', '3.07', '2.7', '2.18', '2.7', '2.56', '2.37', '3']\n",
      "https://www.beeradvocate.com/beer/profile/32/2435/?view=beer&sort=&start=500\n",
      "['2', '3.08', '3.08', '3.38', '2.85', '3.18', '3', '2.63', '2.18', '3.22', '3.4', '3.1', '2.58', '2.45', '2.26', '2.98', '2.28', '2.82', '2.28', '2.45', '3.3', '3.16', '3.43', '3.5', '3.15']\n",
      "https://www.beeradvocate.com/beer/profile/32/2435/?view=beer&sort=&start=525\n",
      "['1', '2.68', '3.13', '3.2', '2.93', '3.42', '3.03', '3', '2.53', '3.2', '3.52', '2.59', '2.46', '2.1', '2.88', '3.47', '2.64', '1.96', '2.5', '3.08', '2.77', '2.91', '2.68', '3.2', '3.33']\n",
      "https://www.beeradvocate.com/beer/profile/32/2435/?view=beer&sort=&start=550\n",
      "['2.76', '2.73', '2.38', '2.26', '2.73', '2.83', '3.45', '2.6', '3.77', '2.44', '3.57', '3.42', '3', '3.76', '3.23', '4', '2.92', '2.95', '2.71', '2.7', '3.42', '2.88', '2.22', '3.03', '2.22']\n",
      "https://www.beeradvocate.com/beer/profile/32/2435/?view=beer&sort=&start=575\n",
      "['3.71', '3.32', '3.03', '2.38', '3.26', '2.91', '2.18', '3.05', '3.03', '3', '3.34', '2.54', '3.13', '3.43', '3.56', '2.75', '2.5', '3.38', '2.73', '2.4', '2.8', '3.4', '3.88', '2.6', '3.3']\n",
      "https://www.beeradvocate.com/beer/profile/32/2435/?view=beer&sort=&start=600\n",
      "['3.52', '3.12', '3.2', '2.53', '3.16', '2.41', '2.08', '2.63', '2.56', '1.54', '2.26', '2.32', '4.44', '2.55', '3.2', '2.6', '3.02', '2.59', '2.82', '3.07', '2.35', '2.7', '3.3', '3.08', '2.7']\n",
      "https://www.beeradvocate.com/beer/profile/32/2435/?view=beer&sort=&start=625\n",
      "['3.3', '3.62', '2.73', '2.97', '2.9', '4.06', '3.03', '2.28', '2.68', '3.03', '3.72', '3.25', '3.85', '2.78', '1.78', '2.47', '3', '3.13', '2.65', '2.86', '1.5', '2.45', '3.03', '2.53', '3.55']\n",
      "https://www.beeradvocate.com/beer/profile/32/2435/?view=beer&sort=&start=650\n",
      "['1.61', '3.17', '2.88', '2.6', '3.25', '2.73', '2.5', '3.12', '3.5', '2.88', '3.53', '4.3', '3.33', '3.07', '1.9', '3.41', '2.61', '2.88', '3.68', '2.91', '3.5', '3.08', '2.03', '2.73', '2.46']\n",
      "https://www.beeradvocate.com/beer/profile/32/2435/?view=beer&sort=&start=675\n",
      "['2.71', '2.65', '3.1', '3.65', '3', '2.46', '3.03', '1.18', '2.88', '3.4', '2.5', '2.43', '4.4', '2.8', '2.83', '2.88', '2.63', '3.25', '3.95', '3.5', '2.88', '2.85', '2.35', '3.82', '3.15']\n",
      "https://www.beeradvocate.com/beer/profile/32/2435/?view=beer&sort=&start=700\n",
      "['3.07', '3', '1.93', '3.1', '3.3', '1.35', '2.85', '2.68', '3.46', '2.51', '3.57', '2.85', '1.88', '2.01', '3.1', '3.53', '3.42', '2.66', '3.9', '2.8', '2.39', '3', '1.59', '2.78', '2.85']\n",
      "https://www.beeradvocate.com/beer/profile/32/2435/?view=beer&sort=&start=725\n",
      "['3.18', '1.4', '2.65', '3', '3', '2.75', '2.75', '2.7', '2.66', '2.75', '3.03', '4.37', '3.3', '3', '2.5', '3.25', '1.53', '2.8', '2.43', '1.94', '2.58', '3.08', '3.37', '2.75', '3.65']\n"
     ]
    },
    {
     "name": "stderr",
     "output_type": "stream",
     "text": [
      "\r",
      "91it [3:43:48, 134.57s/it]"
     ]
    },
    {
     "name": "stdout",
     "output_type": "stream",
     "text": [
      "https://www.beeradvocate.com/beer/profile/32/2435/?view=beer&sort=&start=750\n",
      "['3.27', '2.33', '2.11', '2.3', '3.58', '2.42', '3.15', '3.01', '3.52', '2.62', '3.01']\n",
      "https://www.beeradvocate.com/beer/profile/498/1422/?view=beer&sort=&start=0\n",
      "['5', '2.44', '2.55', '3.33', '3.15', '3.68', '1.61', '1.36', '4.08', '3.07', '3.25', '2.37', '2.74', '3.07', '1.46', '3.2', '3.27', '3.68', '3.06', '3', '3', '3.48', '2.95', '3.76', '3.48']\n",
      "https://www.beeradvocate.com/beer/profile/498/1422/?view=beer&sort=&start=25\n",
      "['2.94', '3.24', '3.46', '3.02', '2.7', '3.69', '3.2', '2.56', '4', '3.53', '2.95', '2.85', '2.56', '2.68', '2.65', '2.58', '2.93', '3', '2.58', '2.06', '3.38', '3.11', '2.81', '3.73', '1.46']\n",
      "https://www.beeradvocate.com/beer/profile/498/1422/?view=beer&sort=&start=50\n",
      "['1.59', '2.59', '3.06', '2.58', '3.3', '3.71', '2.63', '2.95', '3.05', '3.27', '3.42', '2.94', '3.36', '2.68', '3.26', '2.72', '2.22', '2.69', '4', '3.42', '3.2', '3.26', '2.66', '3.46', '2.98']\n",
      "https://www.beeradvocate.com/beer/profile/498/1422/?view=beer&sort=&start=75\n",
      "['3.45', '2.68', '3.65', '3.84', '3.27', '2.99', '3.6', '3.08', '3.24', '1.71', '3.22', '4', '3.07', '3.32', '3.27', '3.08', '3.18', '4.1', '3.35', '2.83', '3.13', '2.33', '2.88', '3.6', '3.18']\n",
      "https://www.beeradvocate.com/beer/profile/498/1422/?view=beer&sort=&start=100\n",
      "['3.17', '2.77', '3.41', '2.93', '3.98', '3.13', '3.15', '2.65', '2.26', '3.15', '3.81', '3.15', '3.19', '2.03', '4.3', '3.05', '2.21', '2.28', '3', '1.68', '2.18', '2.53', '2.11', '3.05', '2.41']\n",
      "https://www.beeradvocate.com/beer/profile/498/1422/?view=beer&sort=&start=125\n",
      "['3.63', '3.22', '2.98', '2.77', '2.83', '3.22', '3.38', '3.32', '3.48', '2.85', '2.88', '3.19', '2.29', '3.53', '3.08', '3.32', '3.61', '2.86', '3.2', '3.88', '3.73', '3.01', '2.63', '2.52', '2.4']\n",
      "https://www.beeradvocate.com/beer/profile/498/1422/?view=beer&sort=&start=150\n",
      "['3.8', '3.4', '2.8', '2.83', '3.33', '1.98', '2.75', '3.48', '3.48', '3.56', '3.26', '3.73', '4', '3.16', '3.12', '3.31', '2.53', '2.95', '2.81', '3.38', '3.25', '1.15', '3.12', '2.82', '1.49']\n",
      "https://www.beeradvocate.com/beer/profile/498/1422/?view=beer&sort=&start=175\n",
      "['3.3', '3.86', '2.92', '3.33', '2.95', '2.49', '2.54', '3.02', '3.8', '2.74', '3.1', '3.83', '3.35', '3.98', '3.36', '3.88', '2.76', '3.66', '2.5', '2.87', '3.5', '3.22', '1.8', '3.4', '3.5']\n",
      "https://www.beeradvocate.com/beer/profile/498/1422/?view=beer&sort=&start=200\n",
      "['3.28', '3.3', '3.51', '2.34', '3.04', '2.1', '2.87', '3', '2.93', '2.06', '2.94', '3.78', '2.24', '2.23', '2.52', '3.18', '3.11', '2.28', '3.63', '2.53', '2.46', '3.4', '3.11', '3.12', '3.45']\n",
      "https://www.beeradvocate.com/beer/profile/498/1422/?view=beer&sort=&start=225\n",
      "['3.16', '2.23', '2.83', '1.57', '3.13', '2.56', '3.53', '3.36', '2.4', '2.2', '2.97', '2.3', '2.26', '2.71', '3.19', '3.02', '2.94', '3.01', '2.59', '3.97', '2.26', '3', '3.92', '4', '3.45']\n"
     ]
    },
    {
     "name": "stderr",
     "output_type": "stream",
     "text": [
      "\r",
      "92it [3:44:51, 112.99s/it]"
     ]
    },
    {
     "name": "stdout",
     "output_type": "stream",
     "text": [
      "https://www.beeradvocate.com/beer/profile/498/1422/?view=beer&sort=&start=250\n",
      "['3.08', '3.5', '2.75', '1.99', '3.4', '3.73']\n",
      "https://www.beeradvocate.com/beer/profile/11034/47565/?view=beer&sort=&start=0\n",
      "['1.56', '2.55', '2.01', '4.42', '4.06', '1.48', '4.08', '3.38', '2.15', '2.79', '3.02', '2.79', '2.5', '2.79', '2.84', '3.5', '1.06', '2.76', '3.12', '5', '1.34', '1', '1.06', '1.73', '1.45']\n",
      "https://www.beeradvocate.com/beer/profile/11034/47565/?view=beer&sort=&start=25\n",
      "['2.5', '2.5', '2.02', '1.59', '1.84', '3.1', '1.95', '2.56', '1.23', '3.9', '2.28', '3.77', '2.02', '2.07', '1', '2.55', '2.58', '2.43', '3.87', '3.15', '3.2', '2.4', '2.7', '2.6', '2.9']\n"
     ]
    },
    {
     "name": "stderr",
     "output_type": "stream",
     "text": [
      "\r",
      "93it [3:45:09, 84.42s/it] "
     ]
    },
    {
     "name": "stdout",
     "output_type": "stream",
     "text": [
      "https://www.beeradvocate.com/beer/profile/11034/47565/?view=beer&sort=&start=50\n",
      "['2.84', '2.93', '2.78', '2.72', '3.2', '2.74', '1.5', '1.52', '1.5', '3.08', '2.66', '2.5', '3.55', '3.15', '3.15', '3.25', '2.25', '2.98', '3.52', '3.65', '3.38', '3.41', '3.15']\n",
      "https://www.beeradvocate.com/beer/profile/401/4695/?view=beer&sort=&start=0\n",
      "['3.2', '3.7', '4.06', '3.29', '3.21', '3.12', '3.8', '1', '4.41', '3.04', '3.55', '3.19', '3.15', '3.47', '3', '2.61', '2.73', '3.57', '3.77', '2.47', '3.58', '1', '3.13', '3.33', '2.82']\n",
      "https://www.beeradvocate.com/beer/profile/401/4695/?view=beer&sort=&start=25\n",
      "['2.42', '2.96', '3.95', '2.75', '3.79', '3.1', '2.94', '1.62', '3.65', '3', '3.74', '3.25', '3.6', '2.06', '4.08', '3', '3.17', '3.75', '2.5', '3.67', '3', '3.75', '3.75', '3.18', '2.75']\n",
      "https://www.beeradvocate.com/beer/profile/401/4695/?view=beer&sort=&start=50\n",
      "['3.11', '3.03', '2.12', '3', '3.22', '2.96', '2.98', '3.94', '3.11', '3.5', '2.7', '2.88', '2.73', '2.63', '2.01', '3.1', '3.33', '4.08', '3.13', '2.97', '3.35', '3.46', '3.13', '3.01', '3']\n",
      "https://www.beeradvocate.com/beer/profile/401/4695/?view=beer&sort=&start=75\n",
      "['3.18', '1.51', '3.23', '3.13', '2.97', '3.53', '3.15', '3.61', '3.48', '2.83', '3.53', '3.48', '3.03', '3.2', '3.55', '3.85', '3.89', '3.72', '3.25', '2.66', '3.04', '3.35', '2.7', '3.08', '3.91']\n",
      "https://www.beeradvocate.com/beer/profile/401/4695/?view=beer&sort=&start=100\n",
      "['2.41', '3.47', '3.23', '3.42', '2.61', '2.28', '3.55', '3.03', '3', '2.38', '2.6', '2.88', '1.84', '1.85', '2.94', '2.86', '3.28', '2.4', '3.4', '2.43', '3.42', '3.66', '3.43', '3.47', '3.25']\n",
      "https://www.beeradvocate.com/beer/profile/401/4695/?view=beer&sort=&start=125\n",
      "['3.36', '3.42', '2.06', '3.98', '3.35', '2.66', '3.34', '2.56', '3.38', '2.81', '2.88', '3.75', '2.58', '4', '2.65', '3.13', '2.43', '1.68', '3.83', '2.55', '3.1', '2.08', '3.52', '3.2', '2.95']\n",
      "https://www.beeradvocate.com/beer/profile/401/4695/?view=beer&sort=&start=150\n",
      "['3.57', '3.05', '3.62', '2.83', '3.13', '3.25', '2.47', '3.68', '3.52', '2.79', '3.32', '3.03', '3.3', '2.58', '2.73', '3.54', '3.31', '3.2', '3.1', '3.38', '4.07', '2.63', '2.92', '3.41', '3']\n",
      "https://www.beeradvocate.com/beer/profile/401/4695/?view=beer&sort=&start=175\n",
      "['3.48', '3.12', '2.78', '3.98', '2.06', '3.5', '2.29', '2.91', '3.24', '4', '2.96', '3.43', '2.36', '3.14', '3.53', '3.95', '2.23', '2.41', '2.72', '3.16', '2.26', '2.35', '3.5', '3.36', '2.66']\n"
     ]
    },
    {
     "name": "stderr",
     "output_type": "stream",
     "text": [
      "\r",
      "94it [3:46:01, 74.91s/it]"
     ]
    },
    {
     "name": "stdout",
     "output_type": "stream",
     "text": [
      "https://www.beeradvocate.com/beer/profile/401/4695/?view=beer&sort=&start=200\n",
      "['2.37', '2.71', '3.77', '1.26', '3.26', '3', '2.57', '3', '3.08', '3.95', '3.45', '3.4', '3', '2.47', '2.95']\n",
      "https://www.beeradvocate.com/beer/profile/716/2779/?view=beer&sort=&start=0\n",
      "['4.25', '4.26', '3.94', '3.29', '3.89', '4', '3.4', '4', '3.8', '3.58', '3.84', '3.08', '2.96', '3.22', '3.64', '4.06', '3.61', '4.28', '3.6', '4.17', '3.28', '3.08', '3.71', '2.88', '2.97']\n",
      "https://www.beeradvocate.com/beer/profile/716/2779/?view=beer&sort=&start=25\n",
      "['4.48', '5', '4', '2.96', '3.06', '3.61', '3.82', '2.66', '3.11', '2.75', '2.75', '4.83', '2.24', '3.19', '2.79', '3.53', '3.19', '4.47', '3.03', '3.71', '3.15', '3.16', '2.8', '3', '3']\n",
      "https://www.beeradvocate.com/beer/profile/716/2779/?view=beer&sort=&start=50\n",
      "['3.08', '5', '2.88', '2.83', '3.33', '3.29', '3.93', '3.76', '3.29', '2.98', '2.93', '2.25', '2.27', '2.89', '3.51', '2.76', '3', '3.23', '3.27', '3.09', '1.87', '3.29', '3.58', '1.03', '4.31']\n",
      "https://www.beeradvocate.com/beer/profile/716/2779/?view=beer&sort=&start=75\n",
      "['2.75', '3.27', '3.44', '3.07', '3.71', '3.13', '2.98', '2.1', '2.74', '3.14', '3.46', '2.74', '2.7', '2.09', '1.84', '2.32', '4.28', '2.91', '3.18', '2.57', '2.09', '2.67', '3.5', '3.82', '2.6']\n",
      "https://www.beeradvocate.com/beer/profile/716/2779/?view=beer&sort=&start=100\n",
      "['1.09', '2.18', '3.25', '2.78', '2.22', '2.59', '2.36', '3.02', '2.68', '2.84', '2.65', '2.28', '2.77', '2.86', '5', '3.34', '3.57', '2.73', '1.9', '2.63', '3.21', '2.96', '2.76', '2.67', '4.33']\n",
      "https://www.beeradvocate.com/beer/profile/716/2779/?view=beer&sort=&start=125\n",
      "['2.79', '3.03', '2.96', '3.38', '2.66', '2.28', '2.88', '3.35', '2.5', '2.7', '2.62', '3.02', '3.12', '2.96', '4.37', '3.35', '3.5', '3.5', '3.68', '2.5', '2.25', '2.3', '2.5', '2.4', '3.34']\n",
      "https://www.beeradvocate.com/beer/profile/716/2779/?view=beer&sort=&start=150\n",
      "['3.49', '2.8', '3.75', '4.88', '1.22', '3.03', '3.63', '2.66', '2.7', '3.44', '3', '2.21', '3.5', '2.6', '3.83', '3.09', '2.68', '3.1', '3.39', '2.59', '3.01', '3.4', '3.75', '2.29', '2.74']\n",
      "https://www.beeradvocate.com/beer/profile/716/2779/?view=beer&sort=&start=175\n",
      "['3.49', '1.51', '2.58', '2.34', '3.61', '2.33', '2.5', '2.53', '3.7', '2.54', '2.94', '2.55', '3.37', '2.89', '2.51', '2.55', '1.58', '2.88', '2.82', '2.84', '2.93', '1.96', '2.8', '3.16', '3.25']\n",
      "https://www.beeradvocate.com/beer/profile/716/2779/?view=beer&sort=&start=200\n",
      "['1.53', '2.28', '2.78', '2.5', '2.59', '2.58', '2.55', '2.18', '3.51', '3.95', '3.05', '2.55', '2.38', '2.33', '2.66', '2.68', '3.14', '3.5', '2.79', '2.58', '2.41', '3.65', '3.11', '2.62', '3.08']\n",
      "https://www.beeradvocate.com/beer/profile/716/2779/?view=beer&sort=&start=225\n",
      "['3.21', '1.9', '2.61', '2.67', '2.73', '3.13', '3.64', '2.26', '2.06', '3', '2.5', '2.79', '2.43', '2.98', '3.35', '3.55', '2.08', '4.2', '2.19', '2.03', '3.68', '2.11', '3.03', '2.16', '2.91']\n",
      "https://www.beeradvocate.com/beer/profile/716/2779/?view=beer&sort=&start=250\n",
      "['2.56', '2.43', '3', '2.21', '2.56', '3', '2.38', '3.4', '2.92', '3.43', '2.22', '3.71', '1.96', '2.03', '2.45', '2.41', '2.65', '1.8', '3.42', '3.07', '3.15', '3.89', '2.72', '3.3', '2.85']\n",
      "https://www.beeradvocate.com/beer/profile/716/2779/?view=beer&sort=&start=275\n",
      "['3.35', '3.33', '2.93', '2.88', '2.85', '2.15', '2.73', '1.9', '3.55', '3.33', '1.98', '2.8', '2.84', '2.76', '1.77', '2.41', '3.46', '2.26', '2.06', '2.8', '2.9', '2.25', '2.88', '3.25', '2.05']\n",
      "https://www.beeradvocate.com/beer/profile/716/2779/?view=beer&sort=&start=300\n",
      "['2.43', '2.66', '2.2', '2.53', '2.11', '2.65', '3.77', '2.46', '3.29', '2.63', '2.74', '2.48', '3.3', '3.36', '2.91', '2.35', '2.78', '3.05', '3.25', '2.5', '3.48', '1.84', '2.4', '2.11', '2.8']\n",
      "https://www.beeradvocate.com/beer/profile/716/2779/?view=beer&sort=&start=325\n",
      "['3.22', '2.76', '2.1', '3.36', '2.63', '2.88', '2.8', '2.9', '2.45', '2.63', '3.55', '2.82', '2.95', '2.53', '2.43', '2.45', '2.93', '2.67', '3.3', '2.94', '2.58', '2.54', '3.1', '3.02', '2.71']\n",
      "https://www.beeradvocate.com/beer/profile/716/2779/?view=beer&sort=&start=350\n",
      "['2.99', '3.33', '2.3', '2.65', '1.47', '3.23', '2.76', '2.9', '2.88', '2.01', '2.58', '2.41', '2.6', '2.88', '3.05', '2.23', '2.38', '2.23', '3.56', '2.04', '1.86', '2.38', '2.16', '2.59', '2.71']\n",
      "https://www.beeradvocate.com/beer/profile/716/2779/?view=beer&sort=&start=375\n",
      "['2.59', '2.09', '1.91', '3.58', '3.72', '3', '3.33', '2.85', '3.87', '2.39', '2.33', '2.13', '2.95', '2.06', '2.48', '2.57', '3.04', '3.11', '3', '2.2', '3.01', '2.2', '2', '2.71', '2.72']\n",
      "https://www.beeradvocate.com/beer/profile/716/2779/?view=beer&sort=&start=400\n",
      "['3', '2.3', '3.25', '2.5', '3.03', '2.49', '2.48', '3.2', '1.53', '2.08', '2.57', '2.75', '3.76', '2.48', '2.05', '2.52', '1.81', '3.3', '3.18', '2.63', '2.2', '1.61', '1.5', '2.36', '2.5']\n",
      "https://www.beeradvocate.com/beer/profile/716/2779/?view=beer&sort=&start=425\n",
      "['2.59', '2.98', '3.92', '2.17', '1.15', '3.17', '2.63', '2.81', '2.36', '2.54', '1.7', '2.57', '2.48', '2.88', '2.74', '3.16', '2.34', '2.87', '3.5', '2.58', '2.35', '2.51', '2.58', '2.28', '2.63']\n",
      "https://www.beeradvocate.com/beer/profile/716/2779/?view=beer&sort=&start=450\n",
      "['4.3', '2.53', '3.33', '3.17', '1.91', '2.8', '2.69', '2.5', '2', '1.71', '2', '2.95', '2.68', '2.28', '2.5', '3.1', '3.1', '2.23', '3', '2.71', '3.1', '2.38', '2.66', '1.85', '2.3']\n",
      "https://www.beeradvocate.com/beer/profile/716/2779/?view=beer&sort=&start=475\n",
      "['3.15', '2.25', '2.16', '3.57', '3.08', '3.33', '2.78', '2.83', '1.71', '1.88', '3.2', '2.15', '3.65', '2.98', '2.73', '2.47', '2.1', '3.26', '2.81', '2.41', '1.74', '2.75', '3.8', '2.16', '2.63']\n",
      "https://www.beeradvocate.com/beer/profile/716/2779/?view=beer&sort=&start=500\n",
      "['3.08', '3.75', '1.63', '2.94', '2.54', '2.28', '2.65', '2.59', '2.52', '2.38', '2.98', '2.88', '2.92', '1.88', '3.6', '2.43', '3.15', '2.62', '1.23', '3.15', '3', '3', '3', '2.1', '2.95']\n",
      "https://www.beeradvocate.com/beer/profile/716/2779/?view=beer&sort=&start=525\n",
      "['3.4', '2.2', '2.38', '3.09', '3.4', '2.8', '2.43', '3', '2.42', '2.22', '2.96', '2.48', '1.81', '2.67', '2.42', '2.5', '2.2', '2.7', '2.08', '2.95', '2.48', '2.56', '2.67', '2.68', '2.66']\n",
      "https://www.beeradvocate.com/beer/profile/716/2779/?view=beer&sort=&start=550\n",
      "['1.88', '1.78', '2.15', '2.83', '3.23', '2.73', '2.06', '3.2', '3.48', '3.7', '2.61', '2.45', '2.18', '2.28', '2.86', '2.48', '2.83', '2.43', '2.3', '3.13', '2.8', '2.41', '3.09', '3.15', '3.36']\n"
     ]
    },
    {
     "name": "stderr",
     "output_type": "stream",
     "text": [
      "\r",
      "95it [3:48:20, 94.15s/it]"
     ]
    },
    {
     "name": "stdout",
     "output_type": "stream",
     "text": [
      "https://www.beeradvocate.com/beer/profile/716/2779/?view=beer&sort=&start=575\n",
      "['2.21', '3.92', '3.48', '2.2', '3', '2.82', '3.25', '2.2', '3.05', '2.67', '2.1', '2.97', '3.1', '2.28']\n",
      "https://www.beeradvocate.com/beer/profile/9262/16764/?view=beer&sort=&start=0\n",
      "['3.25', '3.26', '2.26', '3.45', '2.75', '3.2', '4', '3.1', '3.27', '3.69', '3.77', '3.39', '2.81', '2.86', '3.49', '3.49', '3', '3.75', '3.33', '3.24', '3.48', '2.71', '3.06', '3.52', '3.11']\n"
     ]
    },
    {
     "name": "stderr",
     "output_type": "stream",
     "text": [
      "96it [3:48:32, 142.84s/it]"
     ]
    },
    {
     "name": "stdout",
     "output_type": "stream",
     "text": [
      "https://www.beeradvocate.com/beer/profile/9262/16764/?view=beer&sort=&start=25\n",
      "['3.58', '3.23', '2.71', '3.41', '3.78', '3.33', '3.53', '2.02', '3.1', '3.53', '3.46', '3.2', '3.21', '2.56', '3.4', '3.31', '3.11', '3.23', '3.53', '3.62', '3', '3.38', '3.03', '3.73']\n"
     ]
    },
    {
     "name": "stderr",
     "output_type": "stream",
     "text": [
      "\n"
     ]
    }
   ],
   "source": [
    "rate, reviews, avg_user =webstite_scrape_p3 (temp1.pro_link, temp1.number_of_reviews)"
   ]
  },
  {
   "cell_type": "code",
   "execution_count": 24,
   "metadata": {},
   "outputs": [
    {
     "name": "stdout",
     "output_type": "stream",
     "text": [
      "[2328, 2328, 2328]\n"
     ]
    }
   ],
   "source": [
    "print([len(i) for i in [rate, reviews, avg_user]])"
   ]
  },
  {
   "cell_type": "code",
   "execution_count": 175,
   "metadata": {},
   "outputs": [],
   "source": [
    "temp2 = pd.DataFrame(list(zip(rate, reviews, avg_user )), columns = ['detail_rating', 'reviews', 'avg_per_user'])"
   ]
  },
  {
   "cell_type": "code",
   "execution_count": 176,
   "metadata": {},
   "outputs": [],
   "source": [
    "#temp2.to_csv('temp2.csv', index = False)"
   ]
  },
  {
   "cell_type": "code",
   "execution_count": 177,
   "metadata": {},
   "outputs": [
    {
     "data": {
      "text/html": [
       "<div>\n",
       "<style scoped>\n",
       "    .dataframe tbody tr th:only-of-type {\n",
       "        vertical-align: middle;\n",
       "    }\n",
       "\n",
       "    .dataframe tbody tr th {\n",
       "        vertical-align: top;\n",
       "    }\n",
       "\n",
       "    .dataframe thead th {\n",
       "        text-align: right;\n",
       "    }\n",
       "</style>\n",
       "<table border=\"1\" class=\"dataframe\">\n",
       "  <thead>\n",
       "    <tr style=\"text-align: right;\">\n",
       "      <th></th>\n",
       "      <th>detail_rating</th>\n",
       "      <th>reviews</th>\n",
       "      <th>avg_per_user</th>\n",
       "    </tr>\n",
       "  </thead>\n",
       "  <tbody>\n",
       "    <tr>\n",
       "      <th>0</th>\n",
       "      <td>[look: 3.75 | smell: 3.25 | taste: 3.5 | feel:...</td>\n",
       "      <td>[\\n\\n\\n\\n\\n\\n\\nHome\\n\\n\\n\\nAbout Us\\nAdvertise...</td>\n",
       "      <td>[3.38, 3.83, 3.44, 2.44, 2.55, 2.55, 1.35, 3.2...</td>\n",
       "    </tr>\n",
       "    <tr>\n",
       "      <th>1</th>\n",
       "      <td>[Jan 12, 2014, Nov 25, 2013, Sep 22, 2013, Jun...</td>\n",
       "      <td>[\\n\\n\\n\\n\\n\\n\\nHome\\n\\n\\n\\nAbout Us\\nAdvertise...</td>\n",
       "      <td>[2.94, 2.06, 3.31, 2.11, 3.56, 2.53, 3.05, 2.7...</td>\n",
       "    </tr>\n",
       "    <tr>\n",
       "      <th>2</th>\n",
       "      <td>[Jul 04, 2011, Jun 19, 2011, May 23, 2011, May...</td>\n",
       "      <td>[\\n\\n\\n\\n\\n\\n\\nHome\\n\\n\\n\\nAbout Us\\nAdvertise...</td>\n",
       "      <td>[2.55, 2.55, 3.25, 2.44, 2.11, 2.71, 2.24, 3.4...</td>\n",
       "    </tr>\n",
       "    <tr>\n",
       "      <th>3</th>\n",
       "      <td>[Apr 28, 2010, Apr 02, 2010, Feb 05, 2010, Jan...</td>\n",
       "      <td>[\\n\\n\\n\\n\\n\\n\\nHome\\n\\n\\n\\nAbout Us\\nAdvertise...</td>\n",
       "      <td>[2.12, 3.05, 2.53, 2.61, 2.58, 4, 2.29, 2.95, ...</td>\n",
       "    </tr>\n",
       "    <tr>\n",
       "      <th>4</th>\n",
       "      <td>[Feb 11, 2008, Dec 16, 2007, Dec 11, 2007, Sep...</td>\n",
       "      <td>[\\n\\n\\n\\n\\n\\n\\nHome\\n\\n\\n\\nAbout Us\\nAdvertise...</td>\n",
       "      <td>[3, 3.03, 3.15, 1.48, 2.57, 2.16, 3.68, 2.98, ...</td>\n",
       "    </tr>\n",
       "    <tr>\n",
       "      <th>...</th>\n",
       "      <td>...</td>\n",
       "      <td>...</td>\n",
       "      <td>...</td>\n",
       "    </tr>\n",
       "    <tr>\n",
       "      <th>2323</th>\n",
       "      <td>[Dec 12, 2004, Dec 08, 2004, Nov 16, 2004, Nov...</td>\n",
       "      <td>[\\n\\n\\n\\n\\n\\n\\nHome\\n\\n\\n\\nAbout Us\\nAdvertise...</td>\n",
       "      <td>[3.4, 2.2, 2.38, 3.09, 3.4, 2.8, 2.43, 3, 2.42...</td>\n",
       "    </tr>\n",
       "    <tr>\n",
       "      <th>2324</th>\n",
       "      <td>[Jan 25, 2004, Dec 30, 2003, Dec 25, 2003, Dec...</td>\n",
       "      <td>[\\n\\n\\n\\n\\n\\n\\nHome\\n\\n\\n\\nAbout Us\\nAdvertise...</td>\n",
       "      <td>[1.88, 1.78, 2.15, 2.83, 3.23, 2.73, 2.06, 3.2...</td>\n",
       "    </tr>\n",
       "    <tr>\n",
       "      <th>2325</th>\n",
       "      <td>[look: 3 | smell: 2 | taste: 2 | feel: 2.5 | o...</td>\n",
       "      <td>[\\n\\n\\n\\n\\n\\n\\nHome\\n\\n\\n\\nAbout Us\\nAdvertise...</td>\n",
       "      <td>[2.21, 3.92, 3.48, 2.2, 3, 2.82, 3.25, 2.2, 3....</td>\n",
       "    </tr>\n",
       "    <tr>\n",
       "      <th>2326</th>\n",
       "      <td>[look: 3.25 | smell: 3.25 | taste: 3.25 | feel...</td>\n",
       "      <td>[\\n\\n\\n\\n\\n\\n\\nHome\\n\\n\\n\\nAbout Us\\nAdvertise...</td>\n",
       "      <td>[3.25, 3.26, 2.26, 3.45, 2.75, 3.2, 4, 3.1, 3....</td>\n",
       "    </tr>\n",
       "    <tr>\n",
       "      <th>2327</th>\n",
       "      <td>[look: 4 | smell: 3.5 | taste: 3.5 | feel: 4 |...</td>\n",
       "      <td>[\\n\\n\\n\\n\\n\\n\\nHome\\n\\n\\n\\nAbout Us\\nAdvertise...</td>\n",
       "      <td>[3.58, 3.23, 2.71, 3.41, 3.78, 3.33, 3.53, 2.0...</td>\n",
       "    </tr>\n",
       "  </tbody>\n",
       "</table>\n",
       "<p>2328 rows × 3 columns</p>\n",
       "</div>"
      ],
      "text/plain": [
       "                                          detail_rating  \\\n",
       "0     [look: 3.75 | smell: 3.25 | taste: 3.5 | feel:...   \n",
       "1     [Jan 12, 2014, Nov 25, 2013, Sep 22, 2013, Jun...   \n",
       "2     [Jul 04, 2011, Jun 19, 2011, May 23, 2011, May...   \n",
       "3     [Apr 28, 2010, Apr 02, 2010, Feb 05, 2010, Jan...   \n",
       "4     [Feb 11, 2008, Dec 16, 2007, Dec 11, 2007, Sep...   \n",
       "...                                                 ...   \n",
       "2323  [Dec 12, 2004, Dec 08, 2004, Nov 16, 2004, Nov...   \n",
       "2324  [Jan 25, 2004, Dec 30, 2003, Dec 25, 2003, Dec...   \n",
       "2325  [look: 3 | smell: 2 | taste: 2 | feel: 2.5 | o...   \n",
       "2326  [look: 3.25 | smell: 3.25 | taste: 3.25 | feel...   \n",
       "2327  [look: 4 | smell: 3.5 | taste: 3.5 | feel: 4 |...   \n",
       "\n",
       "                                                reviews  \\\n",
       "0     [\\n\\n\\n\\n\\n\\n\\nHome\\n\\n\\n\\nAbout Us\\nAdvertise...   \n",
       "1     [\\n\\n\\n\\n\\n\\n\\nHome\\n\\n\\n\\nAbout Us\\nAdvertise...   \n",
       "2     [\\n\\n\\n\\n\\n\\n\\nHome\\n\\n\\n\\nAbout Us\\nAdvertise...   \n",
       "3     [\\n\\n\\n\\n\\n\\n\\nHome\\n\\n\\n\\nAbout Us\\nAdvertise...   \n",
       "4     [\\n\\n\\n\\n\\n\\n\\nHome\\n\\n\\n\\nAbout Us\\nAdvertise...   \n",
       "...                                                 ...   \n",
       "2323  [\\n\\n\\n\\n\\n\\n\\nHome\\n\\n\\n\\nAbout Us\\nAdvertise...   \n",
       "2324  [\\n\\n\\n\\n\\n\\n\\nHome\\n\\n\\n\\nAbout Us\\nAdvertise...   \n",
       "2325  [\\n\\n\\n\\n\\n\\n\\nHome\\n\\n\\n\\nAbout Us\\nAdvertise...   \n",
       "2326  [\\n\\n\\n\\n\\n\\n\\nHome\\n\\n\\n\\nAbout Us\\nAdvertise...   \n",
       "2327  [\\n\\n\\n\\n\\n\\n\\nHome\\n\\n\\n\\nAbout Us\\nAdvertise...   \n",
       "\n",
       "                                           avg_per_user  \n",
       "0     [3.38, 3.83, 3.44, 2.44, 2.55, 2.55, 1.35, 3.2...  \n",
       "1     [2.94, 2.06, 3.31, 2.11, 3.56, 2.53, 3.05, 2.7...  \n",
       "2     [2.55, 2.55, 3.25, 2.44, 2.11, 2.71, 2.24, 3.4...  \n",
       "3     [2.12, 3.05, 2.53, 2.61, 2.58, 4, 2.29, 2.95, ...  \n",
       "4     [3, 3.03, 3.15, 1.48, 2.57, 2.16, 3.68, 2.98, ...  \n",
       "...                                                 ...  \n",
       "2323  [3.4, 2.2, 2.38, 3.09, 3.4, 2.8, 2.43, 3, 2.42...  \n",
       "2324  [1.88, 1.78, 2.15, 2.83, 3.23, 2.73, 2.06, 3.2...  \n",
       "2325  [2.21, 3.92, 3.48, 2.2, 3, 2.82, 3.25, 2.2, 3....  \n",
       "2326  [3.25, 3.26, 2.26, 3.45, 2.75, 3.2, 4, 3.1, 3....  \n",
       "2327  [3.58, 3.23, 2.71, 3.41, 3.78, 3.33, 3.53, 2.0...  \n",
       "\n",
       "[2328 rows x 3 columns]"
      ]
     },
     "execution_count": 177,
     "metadata": {},
     "output_type": "execute_result"
    }
   ],
   "source": [
    "temp2"
   ]
  },
  {
   "cell_type": "code",
   "execution_count": 178,
   "metadata": {},
   "outputs": [
    {
     "name": "stdout",
     "output_type": "stream",
     "text": [
      "2328 2328\n"
     ]
    }
   ],
   "source": [
    "name=[]\n",
    "mnf =[]\n",
    "\n",
    "for mnf_i,beer, link, i in zip(temp1.mnf, temp1.beer, temp1.pro_link, temp1.number_of_reviews): \n",
    "    for pages_i in range(0,int(i)+1,25): #site shows 25 resulst/page)\n",
    "        new_url = link+'?view=beer&sort=&start=%d'%(pages_i)\n",
    "        name.append(beer)\n",
    "        mnf.append(mnf_i)\n",
    "print(len(name), len(mnf))"
   ]
  },
  {
   "cell_type": "code",
   "execution_count": 191,
   "metadata": {},
   "outputs": [
    {
     "data": {
      "text/plain": [
       "1"
      ]
     },
     "execution_count": 191,
     "metadata": {},
     "output_type": "execute_result"
    }
   ],
   "source": [
    "len(mnf[6])"
   ]
  },
  {
   "cell_type": "code",
   "execution_count": 180,
   "metadata": {},
   "outputs": [],
   "source": [
    "temp2['name'] =name\n",
    "temp2['mnf']=mnf"
   ]
  },
  {
   "cell_type": "code",
   "execution_count": 181,
   "metadata": {},
   "outputs": [],
   "source": [
    "def text_cleaning (beerreview):\n",
    "    text =[]\n",
    "    for review in tqdm(beerreview):   \n",
    "        clean_rev = [i.replace(\"\\n\",\"\") for i in review[0].split(\"\\xa0\") if len(i)>0]\n",
    "        clean_rev2 =[ re.findall(r'rDev(.*)',i) for i in clean_rev if len(re.findall(r'rDev(.*)',i))>0]\n",
    "        text.append(clean_rev2)\n",
    "    return text"
   ]
  },
  {
   "cell_type": "code",
   "execution_count": 182,
   "metadata": {},
   "outputs": [],
   "source": [
    "def final_clean (text):\n",
    "    patt=\"overall:\\s*\\d\\.?\\d?\\d?\"\n",
    "    clean = [re.findall(patt+\"(.*)\",i)[0] for i in text if len(re.findall(patt+\"(.*)\",i))>0]\n",
    "    return clean"
   ]
  },
  {
   "cell_type": "code",
   "execution_count": 183,
   "metadata": {},
   "outputs": [
    {
     "name": "stderr",
     "output_type": "stream",
     "text": [
      "100%|██████████| 2328/2328 [00:00<00:00, 5935.95it/s]\n"
     ]
    }
   ],
   "source": [
    "temp2['clean_text'] = text_cleaning(reviews)\n",
    "temp2['rm_nested_ls'] = temp2['clean_text'].apply(lambda x: [i for m in x for i in m])\n",
    "temp2['text_reviews'] = temp2['rm_nested_ls'].apply(final_clean)"
   ]
  },
  {
   "cell_type": "code",
   "execution_count": 184,
   "metadata": {},
   "outputs": [],
   "source": [
    "temp2.drop(['reviews','clean_text','rm_nested_ls'], axis = 1, inplace = True)"
   ]
  },
  {
   "cell_type": "code",
   "execution_count": 152,
   "metadata": {},
   "outputs": [
    {
     "data": {
      "text/plain": [
       "0          Yanjing Beer\n",
       "1          Yanjing Beer\n",
       "2          Yanjing Beer\n",
       "3          Yanjing Beer\n",
       "4          Yanjing Beer\n",
       "             ...       \n",
       "2323    Asahi Super Dry\n",
       "2324    Asahi Super Dry\n",
       "2325    Asahi Super Dry\n",
       "2326       Reserva 1925\n",
       "2327       Reserva 1925\n",
       "Name: name, Length: 2328, dtype: object"
      ]
     },
     "execution_count": 152,
     "metadata": {},
     "output_type": "execute_result"
    }
   ],
   "source": [
    "temp2.name"
   ]
  },
  {
   "cell_type": "code",
   "execution_count": 197,
   "metadata": {
    "scrolled": false
   },
   "outputs": [],
   "source": [
    "temp2.mnf =temp2.mnf.apply(lambda x: x[0] if len(x)==1 else x)"
   ]
  },
  {
   "cell_type": "code",
   "execution_count": 198,
   "metadata": {},
   "outputs": [
    {
     "name": "stdout",
     "output_type": "stream",
     "text": [
      "<class 'pandas.core.frame.DataFrame'>\n",
      "RangeIndex: 2328 entries, 0 to 2327\n",
      "Data columns (total 5 columns):\n",
      " #   Column         Non-Null Count  Dtype \n",
      "---  ------         --------------  ----- \n",
      " 0   detail_rating  2328 non-null   object\n",
      " 1   avg_per_user   2328 non-null   object\n",
      " 2   name           2328 non-null   object\n",
      " 3   mnf            2328 non-null   object\n",
      " 4   text_reviews   2328 non-null   object\n",
      "dtypes: object(5)\n",
      "memory usage: 91.1+ KB\n"
     ]
    }
   ],
   "source": [
    "temp2.info()"
   ]
  },
  {
   "cell_type": "code",
   "execution_count": 199,
   "metadata": {},
   "outputs": [],
   "source": [
    "temp2['comb'] = temp2.mnf +temp2.name"
   ]
  },
  {
   "cell_type": "code",
   "execution_count": 200,
   "metadata": {},
   "outputs": [],
   "source": [
    "dt = temp2.groupby('comb').sum()"
   ]
  },
  {
   "cell_type": "code",
   "execution_count": 201,
   "metadata": {},
   "outputs": [],
   "source": [
    "dt.reset_index(inplace = True)"
   ]
  },
  {
   "cell_type": "code",
   "execution_count": 202,
   "metadata": {},
   "outputs": [
    {
     "name": "stdout",
     "output_type": "stream",
     "text": [
      "<class 'pandas.core.frame.DataFrame'>\n",
      "RangeIndex: 96 entries, 0 to 95\n",
      "Data columns (total 6 columns):\n",
      " #   Column         Non-Null Count  Dtype \n",
      "---  ------         --------------  ----- \n",
      " 0   comb           96 non-null     object\n",
      " 1   detail_rating  96 non-null     object\n",
      " 2   avg_per_user   96 non-null     object\n",
      " 3   name           96 non-null     object\n",
      " 4   mnf            96 non-null     object\n",
      " 5   text_reviews   96 non-null     object\n",
      "dtypes: object(6)\n",
      "memory usage: 4.6+ KB\n"
     ]
    }
   ],
   "source": [
    "dt.info()"
   ]
  },
  {
   "cell_type": "code",
   "execution_count": 203,
   "metadata": {},
   "outputs": [
    {
     "data": {
      "text/html": [
       "<div>\n",
       "<style scoped>\n",
       "    .dataframe tbody tr th:only-of-type {\n",
       "        vertical-align: middle;\n",
       "    }\n",
       "\n",
       "    .dataframe tbody tr th {\n",
       "        vertical-align: top;\n",
       "    }\n",
       "\n",
       "    .dataframe thead th {\n",
       "        text-align: right;\n",
       "    }\n",
       "</style>\n",
       "<table border=\"1\" class=\"dataframe\">\n",
       "  <thead>\n",
       "    <tr style=\"text-align: right;\">\n",
       "      <th></th>\n",
       "      <th>mnf</th>\n",
       "      <th>style</th>\n",
       "      <th>alc</th>\n",
       "      <th>ratings</th>\n",
       "      <th>avg_rating</th>\n",
       "      <th>number_of_reviews</th>\n",
       "      <th>pro_link</th>\n",
       "      <th>beer</th>\n",
       "      <th>comb</th>\n",
       "    </tr>\n",
       "  </thead>\n",
       "  <tbody>\n",
       "    <tr>\n",
       "      <th>0</th>\n",
       "      <td>Beijing Yanjing Beer Group Corporation</td>\n",
       "      <td>[Lager - European Pale]</td>\n",
       "      <td>[4.7%]</td>\n",
       "      <td>[250]</td>\n",
       "      <td>[2.57]</td>\n",
       "      <td>140</td>\n",
       "      <td>/beer/profile/713/2124/</td>\n",
       "      <td>Yanjing Beer</td>\n",
       "      <td>Beijing Yanjing Beer Group CorporationYanjing ...</td>\n",
       "    </tr>\n",
       "    <tr>\n",
       "      <th>1</th>\n",
       "      <td>[Wychwood Brewery Company Ltd]</td>\n",
       "      <td>[Bitter - English]</td>\n",
       "      <td>[4.5%]</td>\n",
       "      <td>[0]</td>\n",
       "      <td>[0]</td>\n",
       "      <td>0</td>\n",
       "      <td>/beer/profile/160/508425/</td>\n",
       "      <td>Hobgoblin Ruby 4.5%</td>\n",
       "      <td>Wychwood Brewery Company LtdHobgoblin Ruby 4.5%</td>\n",
       "    </tr>\n",
       "    <tr>\n",
       "      <th>2</th>\n",
       "      <td>Widmer Brothers Brewing Company</td>\n",
       "      <td>[Pale Ale - American]</td>\n",
       "      <td>[5.8%]</td>\n",
       "      <td>[645]</td>\n",
       "      <td>[3.36]</td>\n",
       "      <td>128</td>\n",
       "      <td>/beer/profile/8/80302/</td>\n",
       "      <td>Omission Pale Ale (Gluten-Free)</td>\n",
       "      <td>Widmer Brothers Brewing CompanyOmission Pale A...</td>\n",
       "    </tr>\n",
       "    <tr>\n",
       "      <th>3</th>\n",
       "      <td>Brouwerij Westmalle</td>\n",
       "      <td>[Tripel]</td>\n",
       "      <td>[9.5%]</td>\n",
       "      <td>[4,782]</td>\n",
       "      <td>[4.33]</td>\n",
       "      <td>1822</td>\n",
       "      <td>/beer/profile/208/646/</td>\n",
       "      <td>Westmalle Trappist Tripel</td>\n",
       "      <td>Brouwerij WestmalleWestmalle Trappist Tripel</td>\n",
       "    </tr>\n",
       "    <tr>\n",
       "      <th>4</th>\n",
       "      <td>Wernesgrüner Brauerei AG</td>\n",
       "      <td>[Pilsner - German]</td>\n",
       "      <td>[4.9%]</td>\n",
       "      <td>[437]</td>\n",
       "      <td>[3.44]</td>\n",
       "      <td>220</td>\n",
       "      <td>/beer/profile/3966/8653/</td>\n",
       "      <td>Wernesgruner</td>\n",
       "      <td>Wernesgrüner Brauerei AGWernesgruner</td>\n",
       "    </tr>\n",
       "    <tr>\n",
       "      <th>...</th>\n",
       "      <td>...</td>\n",
       "      <td>...</td>\n",
       "      <td>...</td>\n",
       "      <td>...</td>\n",
       "      <td>...</td>\n",
       "      <td>...</td>\n",
       "      <td>...</td>\n",
       "      <td>...</td>\n",
       "      <td>...</td>\n",
       "    </tr>\n",
       "    <tr>\n",
       "      <th>91</th>\n",
       "      <td>Swinkels Family Brewers</td>\n",
       "      <td>[Lager - European Pale]</td>\n",
       "      <td>[5%]</td>\n",
       "      <td>[481]</td>\n",
       "      <td>[3.02]</td>\n",
       "      <td>256</td>\n",
       "      <td>/beer/profile/498/1422/</td>\n",
       "      <td>Bavaria Beer</td>\n",
       "      <td>Swinkels Family BrewersBavaria Beer</td>\n",
       "    </tr>\n",
       "    <tr>\n",
       "      <th>92</th>\n",
       "      <td>Bard's Tale Beer Company</td>\n",
       "      <td>[Lager - Adjunct]</td>\n",
       "      <td>[4.6%]</td>\n",
       "      <td>[136]</td>\n",
       "      <td>[2.4]</td>\n",
       "      <td>73</td>\n",
       "      <td>/beer/profile/11034/47565/</td>\n",
       "      <td>Bard's Gold</td>\n",
       "      <td>Bard's Tale Beer CompanyBard's Gold</td>\n",
       "    </tr>\n",
       "    <tr>\n",
       "      <th>93</th>\n",
       "      <td>Baltika Breweries</td>\n",
       "      <td>[Lager - European / Dortmunder Export]</td>\n",
       "      <td>[5.4%]</td>\n",
       "      <td>[467]</td>\n",
       "      <td>[3.09]</td>\n",
       "      <td>215</td>\n",
       "      <td>/beer/profile/401/4695/</td>\n",
       "      <td>Baltika #7 Export</td>\n",
       "      <td>Baltika BreweriesBaltika #7 Export</td>\n",
       "    </tr>\n",
       "    <tr>\n",
       "      <th>94</th>\n",
       "      <td>Asahi Breweries Ltd</td>\n",
       "      <td>[Lager - Japanese Rice]</td>\n",
       "      <td>[5%]</td>\n",
       "      <td>[1,718]</td>\n",
       "      <td>[2.77]</td>\n",
       "      <td>589</td>\n",
       "      <td>/beer/profile/716/2779/</td>\n",
       "      <td>Asahi Super Dry</td>\n",
       "      <td>Asahi Breweries LtdAsahi Super Dry</td>\n",
       "    </tr>\n",
       "    <tr>\n",
       "      <th>95</th>\n",
       "      <td>Grupo Cervezas Alhambra, SL</td>\n",
       "      <td>[Lager - European Strong]</td>\n",
       "      <td>[6.4%]</td>\n",
       "      <td>[181]</td>\n",
       "      <td>[3.32]</td>\n",
       "      <td>49</td>\n",
       "      <td>/beer/profile/9262/16764/</td>\n",
       "      <td>Reserva 1925</td>\n",
       "      <td>Grupo Cervezas Alhambra, SLReserva 1925</td>\n",
       "    </tr>\n",
       "  </tbody>\n",
       "</table>\n",
       "<p>96 rows × 9 columns</p>\n",
       "</div>"
      ],
      "text/plain": [
       "                                       mnf  \\\n",
       "0   Beijing Yanjing Beer Group Corporation   \n",
       "1           [Wychwood Brewery Company Ltd]   \n",
       "2          Widmer Brothers Brewing Company   \n",
       "3                      Brouwerij Westmalle   \n",
       "4                 Wernesgrüner Brauerei AG   \n",
       "..                                     ...   \n",
       "91                 Swinkels Family Brewers   \n",
       "92                Bard's Tale Beer Company   \n",
       "93                       Baltika Breweries   \n",
       "94                     Asahi Breweries Ltd   \n",
       "95             Grupo Cervezas Alhambra, SL   \n",
       "\n",
       "                                     style     alc  ratings avg_rating  \\\n",
       "0                  [Lager - European Pale]  [4.7%]    [250]     [2.57]   \n",
       "1                       [Bitter - English]  [4.5%]      [0]        [0]   \n",
       "2                    [Pale Ale - American]  [5.8%]    [645]     [3.36]   \n",
       "3                                 [Tripel]  [9.5%]  [4,782]     [4.33]   \n",
       "4                       [Pilsner - German]  [4.9%]    [437]     [3.44]   \n",
       "..                                     ...     ...      ...        ...   \n",
       "91                 [Lager - European Pale]    [5%]    [481]     [3.02]   \n",
       "92                       [Lager - Adjunct]  [4.6%]    [136]      [2.4]   \n",
       "93  [Lager - European / Dortmunder Export]  [5.4%]    [467]     [3.09]   \n",
       "94                 [Lager - Japanese Rice]    [5%]  [1,718]     [2.77]   \n",
       "95               [Lager - European Strong]  [6.4%]    [181]     [3.32]   \n",
       "\n",
       "   number_of_reviews                    pro_link  \\\n",
       "0                140     /beer/profile/713/2124/   \n",
       "1                  0   /beer/profile/160/508425/   \n",
       "2                128      /beer/profile/8/80302/   \n",
       "3               1822      /beer/profile/208/646/   \n",
       "4                220    /beer/profile/3966/8653/   \n",
       "..               ...                         ...   \n",
       "91               256     /beer/profile/498/1422/   \n",
       "92                73  /beer/profile/11034/47565/   \n",
       "93               215     /beer/profile/401/4695/   \n",
       "94               589     /beer/profile/716/2779/   \n",
       "95                49   /beer/profile/9262/16764/   \n",
       "\n",
       "                               beer  \\\n",
       "0                      Yanjing Beer   \n",
       "1               Hobgoblin Ruby 4.5%   \n",
       "2   Omission Pale Ale (Gluten-Free)   \n",
       "3         Westmalle Trappist Tripel   \n",
       "4                      Wernesgruner   \n",
       "..                              ...   \n",
       "91                     Bavaria Beer   \n",
       "92                      Bard's Gold   \n",
       "93                Baltika #7 Export   \n",
       "94                  Asahi Super Dry   \n",
       "95                     Reserva 1925   \n",
       "\n",
       "                                                 comb  \n",
       "0   Beijing Yanjing Beer Group CorporationYanjing ...  \n",
       "1     Wychwood Brewery Company LtdHobgoblin Ruby 4.5%  \n",
       "2   Widmer Brothers Brewing CompanyOmission Pale A...  \n",
       "3        Brouwerij WestmalleWestmalle Trappist Tripel  \n",
       "4                Wernesgrüner Brauerei AGWernesgruner  \n",
       "..                                                ...  \n",
       "91                Swinkels Family BrewersBavaria Beer  \n",
       "92                Bard's Tale Beer CompanyBard's Gold  \n",
       "93                 Baltika BreweriesBaltika #7 Export  \n",
       "94                 Asahi Breweries LtdAsahi Super Dry  \n",
       "95            Grupo Cervezas Alhambra, SLReserva 1925  \n",
       "\n",
       "[96 rows x 9 columns]"
      ]
     },
     "execution_count": 203,
     "metadata": {},
     "output_type": "execute_result"
    }
   ],
   "source": [
    "temp1"
   ]
  },
  {
   "cell_type": "code",
   "execution_count": 204,
   "metadata": {},
   "outputs": [],
   "source": [
    "df3_rv_outsidecan = temp1.merge(dt, on = 'comb')"
   ]
  },
  {
   "cell_type": "code",
   "execution_count": 205,
   "metadata": {},
   "outputs": [],
   "source": [
    "df3_rv_outsidecan.to_csv('f3_outsideca.csv', index= False)"
   ]
  },
  {
   "cell_type": "code",
   "execution_count": 208,
   "metadata": {},
   "outputs": [
    {
     "data": {
      "text/html": [
       "<div>\n",
       "<style scoped>\n",
       "    .dataframe tbody tr th:only-of-type {\n",
       "        vertical-align: middle;\n",
       "    }\n",
       "\n",
       "    .dataframe tbody tr th {\n",
       "        vertical-align: top;\n",
       "    }\n",
       "\n",
       "    .dataframe thead th {\n",
       "        text-align: right;\n",
       "    }\n",
       "</style>\n",
       "<table border=\"1\" class=\"dataframe\">\n",
       "  <thead>\n",
       "    <tr style=\"text-align: right;\">\n",
       "      <th></th>\n",
       "      <th>mnf_x</th>\n",
       "      <th>style</th>\n",
       "      <th>alc</th>\n",
       "      <th>ratings</th>\n",
       "      <th>avg_rating</th>\n",
       "      <th>number_of_reviews</th>\n",
       "      <th>pro_link</th>\n",
       "      <th>beer</th>\n",
       "      <th>comb</th>\n",
       "      <th>detail_rating</th>\n",
       "      <th>avg_per_user</th>\n",
       "      <th>name</th>\n",
       "      <th>mnf_y</th>\n",
       "      <th>text_reviews</th>\n",
       "    </tr>\n",
       "  </thead>\n",
       "  <tbody>\n",
       "    <tr>\n",
       "      <th>0</th>\n",
       "      <td>Beijing Yanjing Beer Group Corporation</td>\n",
       "      <td>[Lager - European Pale]</td>\n",
       "      <td>[4.7%]</td>\n",
       "      <td>[250]</td>\n",
       "      <td>[2.57]</td>\n",
       "      <td>140</td>\n",
       "      <td>/beer/profile/713/2124/</td>\n",
       "      <td>Yanjing Beer</td>\n",
       "      <td>Beijing Yanjing Beer Group CorporationYanjing ...</td>\n",
       "      <td>[look: 3.75 | smell: 3.25 | taste: 3.5 | feel:...</td>\n",
       "      <td>[3.38, 3.83, 3.44, 2.44, 2.55, 2.55, 1.35, 3.2...</td>\n",
       "      <td>Yanjing BeerYanjing BeerYanjing BeerYanjing Be...</td>\n",
       "      <td>Beijing Yanjing Beer Group CorporationBeijing ...</td>\n",
       "      <td>[12oz bottle from Brewers Haven. Very pale gol...</td>\n",
       "    </tr>\n",
       "    <tr>\n",
       "      <th>1</th>\n",
       "      <td>[Wychwood Brewery Company Ltd]</td>\n",
       "      <td>[Bitter - English]</td>\n",
       "      <td>[4.5%]</td>\n",
       "      <td>[0]</td>\n",
       "      <td>[0]</td>\n",
       "      <td>0</td>\n",
       "      <td>/beer/profile/160/508425/</td>\n",
       "      <td>Hobgoblin Ruby 4.5%</td>\n",
       "      <td>Wychwood Brewery Company LtdHobgoblin Ruby 4.5%</td>\n",
       "      <td>[]</td>\n",
       "      <td>[]</td>\n",
       "      <td>Hobgoblin Ruby 4.5%</td>\n",
       "      <td>Wychwood Brewery Company Ltd</td>\n",
       "      <td>[]</td>\n",
       "    </tr>\n",
       "    <tr>\n",
       "      <th>2</th>\n",
       "      <td>Widmer Brothers Brewing Company</td>\n",
       "      <td>[Pale Ale - American]</td>\n",
       "      <td>[5.8%]</td>\n",
       "      <td>[645]</td>\n",
       "      <td>[3.36]</td>\n",
       "      <td>128</td>\n",
       "      <td>/beer/profile/8/80302/</td>\n",
       "      <td>Omission Pale Ale (Gluten-Free)</td>\n",
       "      <td>Widmer Brothers Brewing CompanyOmission Pale A...</td>\n",
       "      <td>[look: 3.5 | smell: 3.75 | taste: 3.75 | feel:...</td>\n",
       "      <td>[3.81, 3.23, 3.36, 3.3, 3.4, 2.6, 3.47, 3.34, ...</td>\n",
       "      <td>Omission Pale Ale (Gluten-Free)Omission Pale A...</td>\n",
       "      <td>Widmer Brothers Brewing CompanyWidmer Brothers...</td>\n",
       "      <td>[From the bottle it pours a surprising amber a...</td>\n",
       "    </tr>\n",
       "    <tr>\n",
       "      <th>3</th>\n",
       "      <td>Brouwerij Westmalle</td>\n",
       "      <td>[Tripel]</td>\n",
       "      <td>[9.5%]</td>\n",
       "      <td>[4,782]</td>\n",
       "      <td>[4.33]</td>\n",
       "      <td>1822</td>\n",
       "      <td>/beer/profile/208/646/</td>\n",
       "      <td>Westmalle Trappist Tripel</td>\n",
       "      <td>Brouwerij WestmalleWestmalle Trappist Tripel</td>\n",
       "      <td>[look: 4 | smell: 4.25 | taste: 4.5 | feel: 4 ...</td>\n",
       "      <td>[4.31, 4.27, 4.33, 3.43, 4.59, 4.38, 4.38, 4.0...</td>\n",
       "      <td>Westmalle Trappist TripelWestmalle Trappist Tr...</td>\n",
       "      <td>Brouwerij WestmalleBrouwerij WestmalleBrouweri...</td>\n",
       "      <td>[Westmalle Trappist 'Tripel' @ 9.5% , served f...</td>\n",
       "    </tr>\n",
       "    <tr>\n",
       "      <th>4</th>\n",
       "      <td>Wernesgrüner Brauerei AG</td>\n",
       "      <td>[Pilsner - German]</td>\n",
       "      <td>[4.9%]</td>\n",
       "      <td>[437]</td>\n",
       "      <td>[3.44]</td>\n",
       "      <td>220</td>\n",
       "      <td>/beer/profile/3966/8653/</td>\n",
       "      <td>Wernesgruner</td>\n",
       "      <td>Wernesgrüner Brauerei AGWernesgruner</td>\n",
       "      <td>[look: 3.25 | smell: 3.25 | taste: 3.5 | feel:...</td>\n",
       "      <td>[3.33, 3.92, 4.18, 4.36, 4.14, 3.43, 4.03, 3.3...</td>\n",
       "      <td>WernesgrunerWernesgrunerWernesgrunerWernesgrun...</td>\n",
       "      <td>Wernesgrüner Brauerei AGWernesgrüner Brauerei ...</td>\n",
       "      <td>[Pours a crystal golden color with a pure whit...</td>\n",
       "    </tr>\n",
       "    <tr>\n",
       "      <th>...</th>\n",
       "      <td>...</td>\n",
       "      <td>...</td>\n",
       "      <td>...</td>\n",
       "      <td>...</td>\n",
       "      <td>...</td>\n",
       "      <td>...</td>\n",
       "      <td>...</td>\n",
       "      <td>...</td>\n",
       "      <td>...</td>\n",
       "      <td>...</td>\n",
       "      <td>...</td>\n",
       "      <td>...</td>\n",
       "      <td>...</td>\n",
       "      <td>...</td>\n",
       "    </tr>\n",
       "    <tr>\n",
       "      <th>91</th>\n",
       "      <td>Swinkels Family Brewers</td>\n",
       "      <td>[Lager - European Pale]</td>\n",
       "      <td>[5%]</td>\n",
       "      <td>[481]</td>\n",
       "      <td>[3.02]</td>\n",
       "      <td>256</td>\n",
       "      <td>/beer/profile/498/1422/</td>\n",
       "      <td>Bavaria Beer</td>\n",
       "      <td>Swinkels Family BrewersBavaria Beer</td>\n",
       "      <td>[look: 5 | smell: 5 | taste: 5 | feel: 5 | ove...</td>\n",
       "      <td>[5, 2.44, 2.55, 3.33, 3.15, 3.68, 1.61, 1.36, ...</td>\n",
       "      <td>Bavaria BeerBavaria BeerBavaria BeerBavaria Be...</td>\n",
       "      <td>Swinkels Family BrewersSwinkels Family Brewers...</td>\n",
       "      <td>[Look this costs one pound a 500 ml bottle in ...</td>\n",
       "    </tr>\n",
       "    <tr>\n",
       "      <th>92</th>\n",
       "      <td>Bard's Tale Beer Company</td>\n",
       "      <td>[Lager - Adjunct]</td>\n",
       "      <td>[4.6%]</td>\n",
       "      <td>[136]</td>\n",
       "      <td>[2.4]</td>\n",
       "      <td>73</td>\n",
       "      <td>/beer/profile/11034/47565/</td>\n",
       "      <td>Bard's Gold</td>\n",
       "      <td>Bard's Tale Beer CompanyBard's Gold</td>\n",
       "      <td>[look: 1.5 | smell: 1.75 | taste: 1.5 | feel: ...</td>\n",
       "      <td>[1.56, 2.55, 2.01, 4.42, 4.06, 1.48, 4.08, 3.3...</td>\n",
       "      <td>Bard's GoldBard's GoldBard's Gold</td>\n",
       "      <td>Bard's Tale Beer CompanyBard's Tale Beer Compa...</td>\n",
       "      <td>[DATE: March 28, 2020.... OCCASION: two weeks ...</td>\n",
       "    </tr>\n",
       "    <tr>\n",
       "      <th>93</th>\n",
       "      <td>Baltika Breweries</td>\n",
       "      <td>[Lager - European / Dortmunder Export]</td>\n",
       "      <td>[5.4%]</td>\n",
       "      <td>[467]</td>\n",
       "      <td>[3.09]</td>\n",
       "      <td>215</td>\n",
       "      <td>/beer/profile/401/4695/</td>\n",
       "      <td>Baltika #7 Export</td>\n",
       "      <td>Baltika BreweriesBaltika #7 Export</td>\n",
       "      <td>[look: 4 | smell: 3.25 | taste: 3 | feel: 3.25...</td>\n",
       "      <td>[3.2, 3.7, 4.06, 3.29, 3.21, 3.12, 3.8, 1, 4.4...</td>\n",
       "      <td>Baltika #7 ExportBaltika #7 ExportBaltika #7 E...</td>\n",
       "      <td>Baltika BreweriesBaltika BreweriesBaltika Brew...</td>\n",
       "      <td>[15.89oz green bottle produced 28 08 19 BB 28 ...</td>\n",
       "    </tr>\n",
       "    <tr>\n",
       "      <th>94</th>\n",
       "      <td>Asahi Breweries Ltd</td>\n",
       "      <td>[Lager - Japanese Rice]</td>\n",
       "      <td>[5%]</td>\n",
       "      <td>[1,718]</td>\n",
       "      <td>[2.77]</td>\n",
       "      <td>589</td>\n",
       "      <td>/beer/profile/716/2779/</td>\n",
       "      <td>Asahi Super Dry</td>\n",
       "      <td>Asahi Breweries LtdAsahi Super Dry</td>\n",
       "      <td>[look: 4.75 | smell: 4 | taste: 4.25 | feel: 4...</td>\n",
       "      <td>[4.25, 4.26, 3.94, 3.29, 3.89, 4, 3.4, 4, 3.8,...</td>\n",
       "      <td>Asahi Super DryAsahi Super DryAsahi Super DryA...</td>\n",
       "      <td>Asahi Breweries LtdAsahi Breweries LtdAsahi Br...</td>\n",
       "      <td>[When i picked this up i didnt think much of i...</td>\n",
       "    </tr>\n",
       "    <tr>\n",
       "      <th>95</th>\n",
       "      <td>Grupo Cervezas Alhambra, SL</td>\n",
       "      <td>[Lager - European Strong]</td>\n",
       "      <td>[6.4%]</td>\n",
       "      <td>[181]</td>\n",
       "      <td>[3.32]</td>\n",
       "      <td>49</td>\n",
       "      <td>/beer/profile/9262/16764/</td>\n",
       "      <td>Reserva 1925</td>\n",
       "      <td>Grupo Cervezas Alhambra, SLReserva 1925</td>\n",
       "      <td>[look: 3.25 | smell: 3.25 | taste: 3.25 | feel...</td>\n",
       "      <td>[3.25, 3.26, 2.26, 3.45, 2.75, 3.2, 4, 3.1, 3....</td>\n",
       "      <td>Reserva 1925Reserva 1925</td>\n",
       "      <td>Grupo Cervezas Alhambra, SLGrupo Cervezas Alha...</td>\n",
       "      <td>[Bottled in a big 700ml bomber bottle and purc...</td>\n",
       "    </tr>\n",
       "  </tbody>\n",
       "</table>\n",
       "<p>96 rows × 14 columns</p>\n",
       "</div>"
      ],
      "text/plain": [
       "                                     mnf_x  \\\n",
       "0   Beijing Yanjing Beer Group Corporation   \n",
       "1           [Wychwood Brewery Company Ltd]   \n",
       "2          Widmer Brothers Brewing Company   \n",
       "3                      Brouwerij Westmalle   \n",
       "4                 Wernesgrüner Brauerei AG   \n",
       "..                                     ...   \n",
       "91                 Swinkels Family Brewers   \n",
       "92                Bard's Tale Beer Company   \n",
       "93                       Baltika Breweries   \n",
       "94                     Asahi Breweries Ltd   \n",
       "95             Grupo Cervezas Alhambra, SL   \n",
       "\n",
       "                                     style     alc  ratings avg_rating  \\\n",
       "0                  [Lager - European Pale]  [4.7%]    [250]     [2.57]   \n",
       "1                       [Bitter - English]  [4.5%]      [0]        [0]   \n",
       "2                    [Pale Ale - American]  [5.8%]    [645]     [3.36]   \n",
       "3                                 [Tripel]  [9.5%]  [4,782]     [4.33]   \n",
       "4                       [Pilsner - German]  [4.9%]    [437]     [3.44]   \n",
       "..                                     ...     ...      ...        ...   \n",
       "91                 [Lager - European Pale]    [5%]    [481]     [3.02]   \n",
       "92                       [Lager - Adjunct]  [4.6%]    [136]      [2.4]   \n",
       "93  [Lager - European / Dortmunder Export]  [5.4%]    [467]     [3.09]   \n",
       "94                 [Lager - Japanese Rice]    [5%]  [1,718]     [2.77]   \n",
       "95               [Lager - European Strong]  [6.4%]    [181]     [3.32]   \n",
       "\n",
       "   number_of_reviews                    pro_link  \\\n",
       "0                140     /beer/profile/713/2124/   \n",
       "1                  0   /beer/profile/160/508425/   \n",
       "2                128      /beer/profile/8/80302/   \n",
       "3               1822      /beer/profile/208/646/   \n",
       "4                220    /beer/profile/3966/8653/   \n",
       "..               ...                         ...   \n",
       "91               256     /beer/profile/498/1422/   \n",
       "92                73  /beer/profile/11034/47565/   \n",
       "93               215     /beer/profile/401/4695/   \n",
       "94               589     /beer/profile/716/2779/   \n",
       "95                49   /beer/profile/9262/16764/   \n",
       "\n",
       "                               beer  \\\n",
       "0                      Yanjing Beer   \n",
       "1               Hobgoblin Ruby 4.5%   \n",
       "2   Omission Pale Ale (Gluten-Free)   \n",
       "3         Westmalle Trappist Tripel   \n",
       "4                      Wernesgruner   \n",
       "..                              ...   \n",
       "91                     Bavaria Beer   \n",
       "92                      Bard's Gold   \n",
       "93                Baltika #7 Export   \n",
       "94                  Asahi Super Dry   \n",
       "95                     Reserva 1925   \n",
       "\n",
       "                                                 comb  \\\n",
       "0   Beijing Yanjing Beer Group CorporationYanjing ...   \n",
       "1     Wychwood Brewery Company LtdHobgoblin Ruby 4.5%   \n",
       "2   Widmer Brothers Brewing CompanyOmission Pale A...   \n",
       "3        Brouwerij WestmalleWestmalle Trappist Tripel   \n",
       "4                Wernesgrüner Brauerei AGWernesgruner   \n",
       "..                                                ...   \n",
       "91                Swinkels Family BrewersBavaria Beer   \n",
       "92                Bard's Tale Beer CompanyBard's Gold   \n",
       "93                 Baltika BreweriesBaltika #7 Export   \n",
       "94                 Asahi Breweries LtdAsahi Super Dry   \n",
       "95            Grupo Cervezas Alhambra, SLReserva 1925   \n",
       "\n",
       "                                        detail_rating  \\\n",
       "0   [look: 3.75 | smell: 3.25 | taste: 3.5 | feel:...   \n",
       "1                                                  []   \n",
       "2   [look: 3.5 | smell: 3.75 | taste: 3.75 | feel:...   \n",
       "3   [look: 4 | smell: 4.25 | taste: 4.5 | feel: 4 ...   \n",
       "4   [look: 3.25 | smell: 3.25 | taste: 3.5 | feel:...   \n",
       "..                                                ...   \n",
       "91  [look: 5 | smell: 5 | taste: 5 | feel: 5 | ove...   \n",
       "92  [look: 1.5 | smell: 1.75 | taste: 1.5 | feel: ...   \n",
       "93  [look: 4 | smell: 3.25 | taste: 3 | feel: 3.25...   \n",
       "94  [look: 4.75 | smell: 4 | taste: 4.25 | feel: 4...   \n",
       "95  [look: 3.25 | smell: 3.25 | taste: 3.25 | feel...   \n",
       "\n",
       "                                         avg_per_user  \\\n",
       "0   [3.38, 3.83, 3.44, 2.44, 2.55, 2.55, 1.35, 3.2...   \n",
       "1                                                  []   \n",
       "2   [3.81, 3.23, 3.36, 3.3, 3.4, 2.6, 3.47, 3.34, ...   \n",
       "3   [4.31, 4.27, 4.33, 3.43, 4.59, 4.38, 4.38, 4.0...   \n",
       "4   [3.33, 3.92, 4.18, 4.36, 4.14, 3.43, 4.03, 3.3...   \n",
       "..                                                ...   \n",
       "91  [5, 2.44, 2.55, 3.33, 3.15, 3.68, 1.61, 1.36, ...   \n",
       "92  [1.56, 2.55, 2.01, 4.42, 4.06, 1.48, 4.08, 3.3...   \n",
       "93  [3.2, 3.7, 4.06, 3.29, 3.21, 3.12, 3.8, 1, 4.4...   \n",
       "94  [4.25, 4.26, 3.94, 3.29, 3.89, 4, 3.4, 4, 3.8,...   \n",
       "95  [3.25, 3.26, 2.26, 3.45, 2.75, 3.2, 4, 3.1, 3....   \n",
       "\n",
       "                                                 name  \\\n",
       "0   Yanjing BeerYanjing BeerYanjing BeerYanjing Be...   \n",
       "1                                 Hobgoblin Ruby 4.5%   \n",
       "2   Omission Pale Ale (Gluten-Free)Omission Pale A...   \n",
       "3   Westmalle Trappist TripelWestmalle Trappist Tr...   \n",
       "4   WernesgrunerWernesgrunerWernesgrunerWernesgrun...   \n",
       "..                                                ...   \n",
       "91  Bavaria BeerBavaria BeerBavaria BeerBavaria Be...   \n",
       "92                  Bard's GoldBard's GoldBard's Gold   \n",
       "93  Baltika #7 ExportBaltika #7 ExportBaltika #7 E...   \n",
       "94  Asahi Super DryAsahi Super DryAsahi Super DryA...   \n",
       "95                           Reserva 1925Reserva 1925   \n",
       "\n",
       "                                                mnf_y  \\\n",
       "0   Beijing Yanjing Beer Group CorporationBeijing ...   \n",
       "1                        Wychwood Brewery Company Ltd   \n",
       "2   Widmer Brothers Brewing CompanyWidmer Brothers...   \n",
       "3   Brouwerij WestmalleBrouwerij WestmalleBrouweri...   \n",
       "4   Wernesgrüner Brauerei AGWernesgrüner Brauerei ...   \n",
       "..                                                ...   \n",
       "91  Swinkels Family BrewersSwinkels Family Brewers...   \n",
       "92  Bard's Tale Beer CompanyBard's Tale Beer Compa...   \n",
       "93  Baltika BreweriesBaltika BreweriesBaltika Brew...   \n",
       "94  Asahi Breweries LtdAsahi Breweries LtdAsahi Br...   \n",
       "95  Grupo Cervezas Alhambra, SLGrupo Cervezas Alha...   \n",
       "\n",
       "                                         text_reviews  \n",
       "0   [12oz bottle from Brewers Haven. Very pale gol...  \n",
       "1                                                  []  \n",
       "2   [From the bottle it pours a surprising amber a...  \n",
       "3   [Westmalle Trappist 'Tripel' @ 9.5% , served f...  \n",
       "4   [Pours a crystal golden color with a pure whit...  \n",
       "..                                                ...  \n",
       "91  [Look this costs one pound a 500 ml bottle in ...  \n",
       "92  [DATE: March 28, 2020.... OCCASION: two weeks ...  \n",
       "93  [15.89oz green bottle produced 28 08 19 BB 28 ...  \n",
       "94  [When i picked this up i didnt think much of i...  \n",
       "95  [Bottled in a big 700ml bomber bottle and purc...  \n",
       "\n",
       "[96 rows x 14 columns]"
      ]
     },
     "execution_count": 208,
     "metadata": {},
     "output_type": "execute_result"
    }
   ],
   "source": [
    "df3_rv_outsidecan"
   ]
  },
  {
   "cell_type": "code",
   "execution_count": null,
   "metadata": {},
   "outputs": [],
   "source": []
  }
 ],
 "metadata": {
  "kernelspec": {
   "display_name": "Python 3",
   "language": "python",
   "name": "python3"
  },
  "language_info": {
   "codemirror_mode": {
    "name": "ipython",
    "version": 3
   },
   "file_extension": ".py",
   "mimetype": "text/x-python",
   "name": "python",
   "nbconvert_exporter": "python",
   "pygments_lexer": "ipython3",
   "version": "3.8.2"
  }
 },
 "nbformat": 4,
 "nbformat_minor": 4
}
