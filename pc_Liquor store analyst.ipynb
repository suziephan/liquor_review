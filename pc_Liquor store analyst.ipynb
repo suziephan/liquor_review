{
 "cells": [
  {
   "cell_type": "markdown",
   "metadata": {},
   "source": [
    "# Scape BC liquor store"
   ]
  },
  {
   "cell_type": "code",
   "execution_count": 12,
   "metadata": {},
   "outputs": [],
   "source": [
    "import requests\n",
    "from bs4 import BeautifulSoup\n",
    "import lxml.html"
   ]
  },
  {
   "cell_type": "code",
   "execution_count": 13,
   "metadata": {},
   "outputs": [],
   "source": [
    "from selenium import webdriver\n",
    "import time\n",
    "import pandas as pd\n",
    "import re"
   ]
  },
  {
   "cell_type": "code",
   "execution_count": 14,
   "metadata": {},
   "outputs": [],
   "source": [
    "from tqdm import tqdm\n",
    "#for i in tqdm(range(10000)):"
   ]
  },
  {
   "cell_type": "code",
   "execution_count": 5,
   "metadata": {},
   "outputs": [],
   "source": [
    "def find_tags(var,begin,end):\n",
    "    driver = webdriver.Chrome('/home/sam/Downloads/chromedriver')\n",
    "    price =[]\n",
    "    name=[]\n",
    "    page =[]\n",
    "    country =[]\n",
    "    sku_link = []\n",
    "    for pagenum in tqdm(range(begin,end)):\n",
    "        driver.get('https://www.bcliquorstores.com/product-catalogue?category=%s&sort=name.raw:asc&page=%d' %(var,pagenum))\n",
    "        driver.execute_script(\"window.scrollTo(0, document.body.scrollHeight);\")\n",
    "        time.sleep(5)\n",
    "        page_source = driver.page_source\n",
    "        soup = BeautifulSoup(page_source,'html.parser')\n",
    "        name_i = [i.get_text() for i in soup.find_all('h3', class_ = \"product-name\")]\n",
    "        country_i = [i.get_text() for i in soup.find_all('span', class_ = \"country-code\")]\n",
    "        sku_link_i = [i.get('href') for i in soup.find_all('a')][118:214:4]\n",
    "        price_i= [i.get_text() for i in soup.find_all('div', class_ = \"product-price\")]\n",
    "        #append to the final list\n",
    "        name.append(name_i)\n",
    "        country.append(country_i)\n",
    "        sku_link.append(sku_link_i)\n",
    "        price.append(price_i)\n",
    "    print([len(i) for i in [name, country, sku_link, price]])\n",
    "    return name, country, sku_link, price"
   ]
  },
  {
   "cell_type": "code",
   "execution_count": 6,
   "metadata": {},
   "outputs": [],
   "source": [
    "#name, country, sku_link, price= find_tags('beer',1,22)"
   ]
  },
  {
   "cell_type": "code",
   "execution_count": 7,
   "metadata": {},
   "outputs": [],
   "source": [
    "#name = [ i for m in name for i in m]\n",
    "#country = [ i for m in country for i in m]\n",
    "#sku_link= [ i for m in sku_link for i in m]\n",
    "#price= [ i for m in price for i in m]"
   ]
  },
  {
   "cell_type": "code",
   "execution_count": 8,
   "metadata": {},
   "outputs": [],
   "source": [
    "#print([len(i) for i in [name, country, sku_link, price]])"
   ]
  },
  {
   "cell_type": "code",
   "execution_count": 9,
   "metadata": {},
   "outputs": [],
   "source": [
    "#sku_link = sku_link[:-4]"
   ]
  },
  {
   "cell_type": "code",
   "execution_count": 10,
   "metadata": {},
   "outputs": [],
   "source": [
    "#df = pd.DataFrame({\"name\": name, \"country\":country, \"price\": price, \"sku_link\": sku_link})"
   ]
  },
  {
   "cell_type": "code",
   "execution_count": 11,
   "metadata": {},
   "outputs": [],
   "source": [
    "#df.to_csv('bcstores.csv', index=False)"
   ]
  },
  {
   "cell_type": "code",
   "execution_count": 32,
   "metadata": {},
   "outputs": [],
   "source": [
    "df = pd.read_csv('bcstores.csv')"
   ]
  },
  {
   "cell_type": "code",
   "execution_count": 33,
   "metadata": {},
   "outputs": [
    {
     "data": {
      "text/html": [
       "<div>\n",
       "<style scoped>\n",
       "    .dataframe tbody tr th:only-of-type {\n",
       "        vertical-align: middle;\n",
       "    }\n",
       "\n",
       "    .dataframe tbody tr th {\n",
       "        vertical-align: top;\n",
       "    }\n",
       "\n",
       "    .dataframe thead th {\n",
       "        text-align: right;\n",
       "    }\n",
       "</style>\n",
       "<table border=\"1\" class=\"dataframe\">\n",
       "  <thead>\n",
       "    <tr style=\"text-align: right;\">\n",
       "      <th></th>\n",
       "      <th>name</th>\n",
       "      <th>country</th>\n",
       "      <th>price</th>\n",
       "      <th>sku_link</th>\n",
       "      <th>style</th>\n",
       "      <th>alc</th>\n",
       "      <th>beer_type</th>\n",
       "      <th>desc</th>\n",
       "    </tr>\n",
       "  </thead>\n",
       "  <tbody>\n",
       "    <tr>\n",
       "      <th>0</th>\n",
       "      <td>33 ACRES OF LIFE LAGER</td>\n",
       "      <td>Canada</td>\n",
       "      <td>$12.29</td>\n",
       "      <td>/product/772335</td>\n",
       "      <td>California Common Or Steam</td>\n",
       "      <td>4.8%</td>\n",
       "      <td>Domestic Beer - BC Craft Beer</td>\n",
       "      <td>1848, West Coast convictions of resourcefulnes...</td>\n",
       "    </tr>\n",
       "    <tr>\n",
       "      <th>1</th>\n",
       "      <td>33 ACRES OF NIRVANA 6 PACK</td>\n",
       "      <td>Canada</td>\n",
       "      <td>$13.49</td>\n",
       "      <td>/product/880930</td>\n",
       "      <td>India Pale Ale</td>\n",
       "      <td>7%</td>\n",
       "      <td>Domestic Beer - BC Craft Beer</td>\n",
       "      <td>33 Acres is one of Vancouver’s most well-loved...</td>\n",
       "    </tr>\n",
       "    <tr>\n",
       "      <th>2</th>\n",
       "      <td>33 ACRES OF OCEAN PALE ALE</td>\n",
       "      <td>Canada</td>\n",
       "      <td>$12.29</td>\n",
       "      <td>/product/837591</td>\n",
       "      <td>Pale Ale</td>\n",
       "      <td>5.6%</td>\n",
       "      <td>Domestic Beer - BC Craft Beer</td>\n",
       "      <td>A full flavoured beer integrated with a distin...</td>\n",
       "    </tr>\n",
       "    <tr>\n",
       "      <th>3</th>\n",
       "      <td>33 ACRES OF SUNSHINE BLANCHE</td>\n",
       "      <td>Canada</td>\n",
       "      <td>$12.29</td>\n",
       "      <td>/product/90837</td>\n",
       "      <td>Wheat</td>\n",
       "      <td>5%</td>\n",
       "      <td>Domestic Beer - BC Craft Beer</td>\n",
       "      <td>Thanks to summers' launching acclaims, this ro...</td>\n",
       "    </tr>\n",
       "    <tr>\n",
       "      <th>4</th>\n",
       "      <td>33 ACRES OF SUNSHINE CAN</td>\n",
       "      <td>Canada</td>\n",
       "      <td>$21.99</td>\n",
       "      <td>/product/23859</td>\n",
       "      <td>Wheat</td>\n",
       "      <td>5%</td>\n",
       "      <td>Domestic Beer - BC Craft Beer</td>\n",
       "      <td>no info</td>\n",
       "    </tr>\n",
       "  </tbody>\n",
       "</table>\n",
       "</div>"
      ],
      "text/plain": [
       "                           name country   price         sku_link  \\\n",
       "0        33 ACRES OF LIFE LAGER  Canada  $12.29  /product/772335   \n",
       "1    33 ACRES OF NIRVANA 6 PACK  Canada  $13.49  /product/880930   \n",
       "2    33 ACRES OF OCEAN PALE ALE  Canada  $12.29  /product/837591   \n",
       "3  33 ACRES OF SUNSHINE BLANCHE  Canada  $12.29   /product/90837   \n",
       "4      33 ACRES OF SUNSHINE CAN  Canada  $21.99   /product/23859   \n",
       "\n",
       "                        style   alc                      beer_type  \\\n",
       "0  California Common Or Steam  4.8%  Domestic Beer - BC Craft Beer   \n",
       "1              India Pale Ale    7%  Domestic Beer - BC Craft Beer   \n",
       "2                    Pale Ale  5.6%  Domestic Beer - BC Craft Beer   \n",
       "3                       Wheat    5%  Domestic Beer - BC Craft Beer   \n",
       "4                       Wheat    5%  Domestic Beer - BC Craft Beer   \n",
       "\n",
       "                                                desc  \n",
       "0  1848, West Coast convictions of resourcefulnes...  \n",
       "1  33 Acres is one of Vancouver’s most well-loved...  \n",
       "2  A full flavoured beer integrated with a distin...  \n",
       "3  Thanks to summers' launching acclaims, this ro...  \n",
       "4                                            no info  "
      ]
     },
     "execution_count": 33,
     "metadata": {},
     "output_type": "execute_result"
    }
   ],
   "source": [
    "df.head()"
   ]
  },
  {
   "cell_type": "markdown",
   "metadata": {},
   "source": [
    "alc = [i.get_text() for i in soup.find_all('span', attrs={\"data-bind\": \"text: _source.alcoholPercentage + '%'\" })][0]\n",
    "style = [i.get_text() for i in soup.find_all('span', attrs={\"data-bind\": \"text: _source.style\" })][0]\n",
    "beer_type = [i.get_text() for i in soup.find_all('span', attrs={\"data-bind\": \"text: $root.FormatProductType($data._source)\" })][0]"
   ]
  },
  {
   "cell_type": "code",
   "execution_count": 9,
   "metadata": {},
   "outputs": [],
   "source": [
    "def product_details(links):\n",
    "    alc = []\n",
    "    style = []\n",
    "    beer_type =[]\n",
    "    desc = []\n",
    "    driver = webdriver.Chrome('/home/suzie/Downloads/chromedriver')\n",
    "    for sku in tqdm(links):\n",
    "        driver.get('https://www.bcliquorstores.com%s' %(sku))\n",
    "        time.sleep(5)\n",
    "        page_source = driver.page_source\n",
    "        soup = BeautifulSoup(page_source,'html.parser')\n",
    "        alc_i = [i.get_text() for i in soup.find_all('span', attrs={\"data-bind\": \"text: _source.alcoholPercentage + '%'\" })]\n",
    "        #style_i = [i.get_text() for i in soup.find_all('span', attrs={\"data-bind\": \"text: _source.style\" })]\n",
    "        #beer_type_i = [i.get_text() for i in soup.find_all('span', attrs={\"data-bind\": \"text: $root.FormatProductType($data._source)\" })]\n",
    "        #desc_i = [i.get_text() for i in soup.find_all('span', attrs={\"data-bind\": \"text: _source.tastingDescription\" })]\n",
    "        alc.append(alc_i)\n",
    "        #style.append(style_i)\n",
    "        #beer_type.append(beer_type_i)\n",
    "        #desc.append(desc_i)\n",
    "    #print([len(i) for i in [alc, style, beer_type, desc]])\n",
    "    return alc\n",
    "    \n",
    "        "
   ]
  },
  {
   "cell_type": "code",
   "execution_count": 10,
   "metadata": {},
   "outputs": [
    {
     "name": "stderr",
     "output_type": "stream",
     "text": [
      "100%|██████████| 500/500 [47:22<00:00,  5.68s/it]\n"
     ]
    }
   ],
   "source": [
    "alc=product_details(df.sku_link)"
   ]
  },
  {
   "cell_type": "code",
   "execution_count": 11,
   "metadata": {},
   "outputs": [
    {
     "data": {
      "text/plain": [
       "[['4.8%', '4.8%'],\n",
       " ['7%', '7%'],\n",
       " ['5.6%', '5.6%'],\n",
       " ['5%', '5%'],\n",
       " ['5%', '5%'],\n",
       " ['5%', '5%'],\n",
       " ['5%', '5%'],\n",
       " ['6.4%', '6.4%'],\n",
       " ['5%', '5%'],\n",
       " ['5%', '5%'],\n",
       " ['5.6%', '5.6%'],\n",
       " ['5.6%', '5.6%'],\n",
       " ['5.6%', '5.6%'],\n",
       " ['5.6%', '5.6%'],\n",
       " ['5.4%', '5.4%'],\n",
       " ['4.7%', '4.7%'],\n",
       " ['7%', '7%'],\n",
       " ['7%', '7%'],\n",
       " ['5%', '5%'],\n",
       " ['4.7%', '4.7%'],\n",
       " ['5%', '5%'],\n",
       " ['6.7%', '6.7%'],\n",
       " ['5%', '5%'],\n",
       " ['5%', '5%'],\n",
       " ['5.4%', '5.4%'],\n",
       " ['5.45%', '5.45%'],\n",
       " ['5%', '5%'],\n",
       " ['5%', '5%'],\n",
       " ['4.8%', '4.8%'],\n",
       " ['5.4%', '5.4%'],\n",
       " ['4.5%', '4.5%'],\n",
       " ['5%', '5%'],\n",
       " ['5.5%', '5.5%'],\n",
       " ['5%', '5%'],\n",
       " ['5%', '5%'],\n",
       " ['5%', '5%'],\n",
       " ['5.5%', '5.5%'],\n",
       " ['5.5%', '5.5%'],\n",
       " ['5%', '5%'],\n",
       " ['5%', '5%'],\n",
       " ['5%', '5%'],\n",
       " ['4.8%', '4.8%'],\n",
       " ['5.5%', '5.5%'],\n",
       " ['5.2%', '5.2%'],\n",
       " ['5%', '5%'],\n",
       " ['5%', '5%'],\n",
       " ['5%', '5%'],\n",
       " ['7%', '7%'],\n",
       " ['6%', '6%'],\n",
       " ['5%', '5%'],\n",
       " ['5.2%', '5.2%'],\n",
       " ['4%', '4%'],\n",
       " ['0.5%', '0.5%'],\n",
       " ['5%', '5%'],\n",
       " ['4%', '4%'],\n",
       " ['3.8%', '3.8%'],\n",
       " ['5%', '5%'],\n",
       " ['5%', '5%'],\n",
       " ['5%', '5%'],\n",
       " ['5%', '5%'],\n",
       " ['3.7%', '3.7%'],\n",
       " ['4.6%', '4.6%'],\n",
       " ['4.6%', '4.6%'],\n",
       " ['4.6%', '4.6%'],\n",
       " ['4.6%', '4.6%'],\n",
       " ['4.6%', '4.6%'],\n",
       " ['4.6%', '4.6%'],\n",
       " ['3.4%', '3.4%'],\n",
       " ['4.6%', '4.6%'],\n",
       " ['5%', '5%'],\n",
       " ['5%', '5%'],\n",
       " ['5%', '5%'],\n",
       " ['4.5%', '4.5%'],\n",
       " ['7.5%', '7.5%'],\n",
       " ['6%', '6%'],\n",
       " ['5.9%', '5.9%'],\n",
       " ['5%', '5%'],\n",
       " ['4.5%', '4.5%'],\n",
       " ['6.4%', '6.4%'],\n",
       " ['5%', '5%'],\n",
       " ['4%', '4%'],\n",
       " ['4.6%', '4.6%'],\n",
       " ['7%', '7%'],\n",
       " ['7%', '7%'],\n",
       " ['7%', '7%'],\n",
       " ['6.8%', '6.8%'],\n",
       " ['5%', '5%'],\n",
       " ['5.7%', '5.7%'],\n",
       " ['5.3%', '5.3%'],\n",
       " ['5.3%', '5.3%'],\n",
       " ['5.4%', '5.4%'],\n",
       " ['5%', '5%'],\n",
       " ['5%', '5%'],\n",
       " ['8%', '8%'],\n",
       " ['5%', '5%'],\n",
       " ['5%', '5%'],\n",
       " ['4.5%', '4.5%'],\n",
       " ['5.4%', '5.4%'],\n",
       " ['5%', '5%'],\n",
       " ['6.4%', '6.4%'],\n",
       " ['6.5%', '6.5%'],\n",
       " ['5%', '5%'],\n",
       " ['6.4%', '6.4%'],\n",
       " ['5.4%', '5.4%'],\n",
       " ['7%', '7%'],\n",
       " ['7%', '7%'],\n",
       " ['5.5%', '5.5%'],\n",
       " ['4.1%', '4.1%'],\n",
       " ['6.3%', '6.3%'],\n",
       " ['7%', '7%'],\n",
       " ['4.9%', '4.9%'],\n",
       " ['4.7%', '4.7%'],\n",
       " ['4.5%', '4.5%'],\n",
       " ['5.5%', '5.5%'],\n",
       " ['5%', '5%'],\n",
       " ['4.5%', '4.5%'],\n",
       " ['5.5%', '5.5%'],\n",
       " ['5.3%', '5.3%'],\n",
       " ['4.3%', '4.3%'],\n",
       " ['6.5%', '6.5%'],\n",
       " ['6.5%', '6.5%'],\n",
       " ['4.8%', '4.8%'],\n",
       " ['5%', '5%'],\n",
       " ['5%', '5%'],\n",
       " ['5%', '5%'],\n",
       " ['4.2%', '4.2%'],\n",
       " ['4.2%', '4.2%'],\n",
       " ['4.2%', '4.2%'],\n",
       " ['5.5%', '5.5%'],\n",
       " ['5%', '5%'],\n",
       " ['0%', '0%'],\n",
       " ['5%', '5%'],\n",
       " ['5%', '5%'],\n",
       " ['5%', '5%'],\n",
       " ['5%', '5%'],\n",
       " ['5%', '5%'],\n",
       " ['5%', '5%'],\n",
       " ['5%', '5%'],\n",
       " ['5%', '5%'],\n",
       " ['0.15%', '0.15%'],\n",
       " ['7%', '7%'],\n",
       " ['7.5%', '7.5%'],\n",
       " ['5.2%', '5.2%'],\n",
       " ['6%', '6%'],\n",
       " ['5.4%', '5.4%'],\n",
       " ['8%', '8%'],\n",
       " ['5%', '5%'],\n",
       " ['5%', '5%'],\n",
       " ['5.3%', '5.3%'],\n",
       " ['5.1%', '5.1%'],\n",
       " ['6.3%', '6.3%'],\n",
       " ['5.3%', '5.3%'],\n",
       " ['4.8%', '4.8%'],\n",
       " ['6.1%', '6.1%'],\n",
       " ['6.6%', '6.6%'],\n",
       " ['4.6%', '4.6%'],\n",
       " ['4.5%', '4.5%'],\n",
       " ['0.1%', '0.1%'],\n",
       " ['8%', '8%'],\n",
       " ['4.9%', '4.9%'],\n",
       " ['4.3%', '4.3%'],\n",
       " ['5%', '5%'],\n",
       " ['4.4%', '4.4%'],\n",
       " ['5.5%', '5.5%'],\n",
       " ['4.9%', '4.9%'],\n",
       " ['5%', '5%'],\n",
       " ['5%', '5%'],\n",
       " ['0.5%', '0.5%'],\n",
       " ['4.5%', '4.5%'],\n",
       " ['5%', '5%'],\n",
       " ['4.5%', '4.5%'],\n",
       " ['5%', '5%'],\n",
       " ['5%', '5%'],\n",
       " ['4%', '4%'],\n",
       " ['4%', '4%'],\n",
       " ['4%', '4%'],\n",
       " ['4%', '4%'],\n",
       " ['4%', '4%'],\n",
       " ['4%', '4%'],\n",
       " ['4%', '4%'],\n",
       " ['4%', '4%'],\n",
       " ['4%', '4%'],\n",
       " ['4%', '4%'],\n",
       " ['5%', '5%'],\n",
       " ['5%', '5%'],\n",
       " ['5%', '5%'],\n",
       " ['5%', '5%'],\n",
       " ['5%', '5%'],\n",
       " ['5%', '5%'],\n",
       " ['5%', '5%'],\n",
       " ['5%', '5%'],\n",
       " ['5%', '5%'],\n",
       " ['5%', '5%'],\n",
       " ['5%', '5%'],\n",
       " ['5%', '5%'],\n",
       " ['5%', '5%'],\n",
       " ['0.1%', '0.1%'],\n",
       " ['0.01%', '0.01%'],\n",
       " ['4.7%', '4.7%'],\n",
       " ['4.7%', '4.7%'],\n",
       " ['5%', '5%'],\n",
       " ['6%', '6%'],\n",
       " ['5%', '5%'],\n",
       " ['5%', '5%'],\n",
       " ['5%', '5%'],\n",
       " ['5%', '5%'],\n",
       " ['5%', '5%'],\n",
       " ['5%', '5%'],\n",
       " ['5%', '5%'],\n",
       " ['5%', '5%'],\n",
       " ['5%', '5%'],\n",
       " ['5%', '5%'],\n",
       " ['5%', '5%'],\n",
       " ['4.8%', '4.8%'],\n",
       " ['5%', '5%'],\n",
       " ['5%', '5%'],\n",
       " ['4%', '4%'],\n",
       " ['6.1%', '6.1%'],\n",
       " ['6.1%', '6.1%'],\n",
       " ['5.7%', '5.7%'],\n",
       " ['5.1%', '5.1%'],\n",
       " ['6.6%', '6.6%'],\n",
       " ['6%', '6%'],\n",
       " ['5.2%', '5.2%'],\n",
       " ['5.5%', '5.5%'],\n",
       " ['6.5%', '6.5%'],\n",
       " ['6.5%', '6.5%'],\n",
       " ['5.2%', '5.2%'],\n",
       " ['5%', '5%'],\n",
       " ['5.2%', '5.2%'],\n",
       " ['9%', '9%'],\n",
       " ['5.2%', '5.2%'],\n",
       " ['5%', '5%'],\n",
       " ['8%', '8%'],\n",
       " ['4%', '4%'],\n",
       " ['4%', '4%'],\n",
       " ['4%', '4%'],\n",
       " ['5.5%', '5.5%'],\n",
       " ['4.2%', '4.2%'],\n",
       " ['4.6%', '4.6%'],\n",
       " ['4.6%', '4.6%'],\n",
       " ['4.7%', '4.7%'],\n",
       " ['4.7%', '4.7%'],\n",
       " ['4.7%', '4.7%'],\n",
       " ['4.7%', '4.7%'],\n",
       " ['4.7%', '4.7%'],\n",
       " ['4%', '4%'],\n",
       " ['4%', '4%'],\n",
       " ['4.4%', '4.4%'],\n",
       " ['8%', '8%'],\n",
       " ['5%', '5%'],\n",
       " ['5%', '5%'],\n",
       " ['5%', '5%'],\n",
       " ['5%', '5%'],\n",
       " ['5%', '5%'],\n",
       " ['5%', '5%'],\n",
       " ['5%', '5%'],\n",
       " ['5%', '5%'],\n",
       " ['4%', '4%'],\n",
       " ['4%', '4%'],\n",
       " ['4%', '4%'],\n",
       " ['4%', '4%'],\n",
       " ['4%', '4%'],\n",
       " ['4%', '4%'],\n",
       " ['5.65%', '5.65%'],\n",
       " ['5.65%', '5.65%'],\n",
       " ['5%', '5%'],\n",
       " ['5%', '5%'],\n",
       " ['5%', '5%'],\n",
       " ['3%', '3%'],\n",
       " ['4.9%', '4.9%'],\n",
       " ['5%', '5%'],\n",
       " ['5.5%', '5.5%'],\n",
       " ['3.5%', '3.5%'],\n",
       " ['5%', '5%'],\n",
       " ['5%', '5%'],\n",
       " ['5.2%', '5.2%'],\n",
       " ['4.5%', '4.5%'],\n",
       " ['6%', '6%'],\n",
       " ['5.2%', '5.2%'],\n",
       " ['5.3%', '5.3%'],\n",
       " ['6%', '6%'],\n",
       " ['5%', '5%'],\n",
       " ['5%', '5%'],\n",
       " ['4.5%', '4.5%'],\n",
       " ['6%', '6%'],\n",
       " ['5.2%', '5.2%'],\n",
       " ['5.2%', '5.2%'],\n",
       " ['5%', '5%'],\n",
       " ['6.5%', '6.5%'],\n",
       " ['5%', '5%'],\n",
       " ['5%', '5%'],\n",
       " ['5%', '5%'],\n",
       " ['5%', '5%'],\n",
       " ['5%', '5%'],\n",
       " ['8.5%', '8.5%'],\n",
       " ['4.8%', '4.8%'],\n",
       " ['5%', '5%'],\n",
       " ['5%', '5%'],\n",
       " ['5%', '5%'],\n",
       " ['6.5%', '6.5%'],\n",
       " ['4.9%', '4.9%'],\n",
       " ['5%', '5%'],\n",
       " ['5.5%', '5.5%'],\n",
       " ['5.5%', '5.5%'],\n",
       " ['5.5%', '5.5%'],\n",
       " ['5.5%', '5.5%'],\n",
       " ['5.5%', '5.5%'],\n",
       " ['8%', '8%'],\n",
       " ['6.4%', '6.4%'],\n",
       " ['5%', '5%'],\n",
       " ['5%', '5%'],\n",
       " ['5%', '5%'],\n",
       " ['4.6%', '4.6%'],\n",
       " ['4.8%', '4.8%'],\n",
       " ['5%', '5%'],\n",
       " ['5%', '5%'],\n",
       " ['5%', '5%'],\n",
       " ['5%', '5%'],\n",
       " ['5%', '5%'],\n",
       " ['7.2%', '7.2%'],\n",
       " ['7.5%', '7.5%'],\n",
       " ['5%', '5%'],\n",
       " ['9.2%', '9.2%'],\n",
       " ['5.5%', '5.5%'],\n",
       " ['3.5%', '3.5%'],\n",
       " ['5.8%', '5.8%'],\n",
       " ['4.9%', '4.9%'],\n",
       " ['6.3%', '6.3%'],\n",
       " ['5.3%', '5.3%'],\n",
       " ['5.5%', '5.5%'],\n",
       " ['6%', '6%'],\n",
       " ['5.1%', '5.1%'],\n",
       " ['5.2%', '5.2%'],\n",
       " ['5%', '5%'],\n",
       " ['6.5%', '6.5%'],\n",
       " ['5.5%', '5.5%'],\n",
       " ['5%', '5%'],\n",
       " ['5%', '5%'],\n",
       " ['6.2%', '6.2%'],\n",
       " ['5%', '5%'],\n",
       " ['5%', '5%'],\n",
       " ['6.5%', '6.5%'],\n",
       " ['5%', '5%'],\n",
       " ['6.5%', '6.5%'],\n",
       " ['6.5%', '6.5%'],\n",
       " ['5%', '5%'],\n",
       " ['5%', '5%'],\n",
       " ['4.7%', '4.7%'],\n",
       " ['6.5%', '6.5%'],\n",
       " ['4.4%', '4.4%'],\n",
       " ['4.4%', '4.4%'],\n",
       " ['4.8%', '4.8%'],\n",
       " ['5.5%', '5.5%'],\n",
       " ['5.2%', '5.2%'],\n",
       " ['4.8%', '4.8%'],\n",
       " ['6.25%', '6.25%'],\n",
       " ['5%', '5%'],\n",
       " ['6.5%', '6.5%'],\n",
       " ['5%', '5%'],\n",
       " ['5%', '5%'],\n",
       " ['0.5%', '0.5%'],\n",
       " ['5%', '5%'],\n",
       " ['5.2%', '5.2%'],\n",
       " ['6.3%', '6.3%'],\n",
       " ['5%', '5%'],\n",
       " ['6.5%', '6.5%'],\n",
       " ['5.1%', '5.1%'],\n",
       " ['6.3%', '6.3%'],\n",
       " ['6.3%', '6.3%'],\n",
       " ['4%', '4%'],\n",
       " ['5.2%', '5.2%'],\n",
       " ['4%', '4%'],\n",
       " ['6.5%', '6.5%'],\n",
       " ['5.5%', '5.5%'],\n",
       " ['5%', '5%'],\n",
       " ['5.2%', '5.2%'],\n",
       " ['5%', '5%'],\n",
       " ['5%', '5%'],\n",
       " ['5%', '5%'],\n",
       " ['5.4%', '5.4%'],\n",
       " ['5%', '5%'],\n",
       " ['5.2%', '5.2%'],\n",
       " ['5.6%', '5.6%'],\n",
       " ['5%', '5%'],\n",
       " ['5%', '5%'],\n",
       " ['4%', '4%'],\n",
       " ['4%', '4%'],\n",
       " ['5%', '5%'],\n",
       " ['5%', '5%'],\n",
       " ['5.5%', '5.5%'],\n",
       " ['5.3%', '5.3%'],\n",
       " ['5%', '5%'],\n",
       " ['5%', '5%'],\n",
       " ['5%', '5%'],\n",
       " ['4.5%', '4.5%'],\n",
       " ['8%', '8%'],\n",
       " ['10.5%', '10.5%'],\n",
       " ['5.1%', '5.1%'],\n",
       " ['5%', '5%'],\n",
       " ['4.4%', '4.4%'],\n",
       " ['4%', '4%'],\n",
       " ['5.2%', '5.2%'],\n",
       " ['5%', '5%'],\n",
       " ['6.8%', '6.8%'],\n",
       " ['5.2%', '5.2%'],\n",
       " ['5.4%', '5.4%'],\n",
       " ['5%', '5%'],\n",
       " ['5%', '5%'],\n",
       " ['6.7%', '6.7%'],\n",
       " ['5%', '5%'],\n",
       " ['4.8%', '4.8%'],\n",
       " ['4.8%', '4.8%'],\n",
       " ['5.5%', '5.5%'],\n",
       " ['5%', '5%'],\n",
       " ['6%', '6%'],\n",
       " ['5%', '5%'],\n",
       " ['5.2%', '5.2%'],\n",
       " ['5%', '5%'],\n",
       " ['5%', '5%'],\n",
       " ['6.5%', '6.5%'],\n",
       " ['6%', '6%'],\n",
       " ['5.5%', '5.5%'],\n",
       " ['5%', '5%'],\n",
       " ['5%', '5%'],\n",
       " ['5%', '5%'],\n",
       " ['5%', '5%'],\n",
       " ['5.2%', '5.2%'],\n",
       " ['5%', '5%'],\n",
       " ['5%', '5%'],\n",
       " ['5%', '5%'],\n",
       " ['5.2%', '5.2%'],\n",
       " ['5.2%', '5.2%'],\n",
       " ['2.5%', '2.5%'],\n",
       " ['5%', '5%'],\n",
       " ['2.5%', '2.5%'],\n",
       " ['11%', '11%'],\n",
       " ['4.5%', '4.5%'],\n",
       " ['4.5%', '4.5%'],\n",
       " ['4.2%', '4.2%'],\n",
       " ['4%', '4%'],\n",
       " ['5.5%', '5.5%'],\n",
       " ['8%', '8%'],\n",
       " ['4.9%', '4.9%'],\n",
       " ['4.9%', '4.9%'],\n",
       " ['4.9%', '4.9%'],\n",
       " ['4.9%', '4.9%'],\n",
       " ['4.9%', '4.9%'],\n",
       " ['5%', '5%'],\n",
       " ['5%', '5%'],\n",
       " ['6%', '6%'],\n",
       " ['5%', '5%'],\n",
       " ['5.5%', '5.5%'],\n",
       " ['5%', '5%'],\n",
       " ['5%', '5%'],\n",
       " ['5%', '5%'],\n",
       " ['4.8%', '4.8%'],\n",
       " ['5%', '5%'],\n",
       " ['5%', '5%'],\n",
       " ['5%', '5%'],\n",
       " ['4.5%', '4.5%'],\n",
       " ['5.5%', '5.5%'],\n",
       " ['4.6%', '4.6%'],\n",
       " ['5.5%', '5.5%'],\n",
       " ['7%', '7%'],\n",
       " ['5.93%', '5.93%'],\n",
       " ['5.2%', '5.2%'],\n",
       " ['5.3%', '5.3%'],\n",
       " ['8%', '8%'],\n",
       " ['9%', '9%'],\n",
       " ['7%', '7%'],\n",
       " ['10.5%', '10.5%'],\n",
       " ['5.3%', '5.3%'],\n",
       " ['6%', '6%'],\n",
       " ['5.5%', '5.5%'],\n",
       " ['5.4%', '5.4%'],\n",
       " ['9.5%', '9.5%'],\n",
       " ['5%', '5%'],\n",
       " ['5.5%', '5.5%'],\n",
       " ['4.8%', '4.8%'],\n",
       " ['0.1%', '0.1%'],\n",
       " ['4.8%', '4.8%'],\n",
       " ['4.8%', '4.8%'],\n",
       " ['5%', '5%'],\n",
       " ['5%', '5%'],\n",
       " ['4.9%', '4.9%'],\n",
       " ['9.5%', '9.5%'],\n",
       " ['5%', '5%'],\n",
       " ['5%', '5%'],\n",
       " ['5%', '5%'],\n",
       " ['4.8%', '4.8%'],\n",
       " ['4%', '4%'],\n",
       " ['5%', '5%'],\n",
       " ['5.8%', '5.8%'],\n",
       " ['4.5%', '4.5%'],\n",
       " ['5%', '5%'],\n",
       " ['5.2%', '5.2%'],\n",
       " ['6.5%', '6.5%'],\n",
       " ['6.8%', '6.8%'],\n",
       " ['5.2%', '5.2%']]"
      ]
     },
     "execution_count": 11,
     "metadata": {},
     "output_type": "execute_result"
    }
   ],
   "source": [
    "alc"
   ]
  },
  {
   "cell_type": "code",
   "execution_count": 22,
   "metadata": {},
   "outputs": [
    {
     "data": {
      "text/plain": [
       "500"
      ]
     },
     "execution_count": 22,
     "metadata": {},
     "output_type": "execute_result"
    }
   ],
   "source": [
    "alc1 = alc[0::2]\n",
    "len(alc1)"
   ]
  },
  {
   "cell_type": "code",
   "execution_count": 13,
   "metadata": {},
   "outputs": [],
   "source": [
    "import csv"
   ]
  },
  {
   "cell_type": "code",
   "execution_count": 15,
   "metadata": {},
   "outputs": [],
   "source": [
    "dt_alc = pd.DataFrame({\"alc\":alc})"
   ]
  },
  {
   "cell_type": "code",
   "execution_count": 16,
   "metadata": {},
   "outputs": [],
   "source": [
    "dt_alc.to_csv('alc.csv', index= False)"
   ]
  },
  {
   "cell_type": "code",
   "execution_count": 17,
   "metadata": {},
   "outputs": [
    {
     "data": {
      "text/html": [
       "<div>\n",
       "<style scoped>\n",
       "    .dataframe tbody tr th:only-of-type {\n",
       "        vertical-align: middle;\n",
       "    }\n",
       "\n",
       "    .dataframe tbody tr th {\n",
       "        vertical-align: top;\n",
       "    }\n",
       "\n",
       "    .dataframe thead th {\n",
       "        text-align: right;\n",
       "    }\n",
       "</style>\n",
       "<table border=\"1\" class=\"dataframe\">\n",
       "  <thead>\n",
       "    <tr style=\"text-align: right;\">\n",
       "      <th></th>\n",
       "      <th>alc</th>\n",
       "    </tr>\n",
       "  </thead>\n",
       "  <tbody>\n",
       "    <tr>\n",
       "      <th>0</th>\n",
       "      <td>[4.8%, 4.8%]</td>\n",
       "    </tr>\n",
       "    <tr>\n",
       "      <th>1</th>\n",
       "      <td>[7%, 7%]</td>\n",
       "    </tr>\n",
       "    <tr>\n",
       "      <th>2</th>\n",
       "      <td>[5.6%, 5.6%]</td>\n",
       "    </tr>\n",
       "    <tr>\n",
       "      <th>3</th>\n",
       "      <td>[5%, 5%]</td>\n",
       "    </tr>\n",
       "    <tr>\n",
       "      <th>4</th>\n",
       "      <td>[5%, 5%]</td>\n",
       "    </tr>\n",
       "  </tbody>\n",
       "</table>\n",
       "</div>"
      ],
      "text/plain": [
       "            alc\n",
       "0  [4.8%, 4.8%]\n",
       "1      [7%, 7%]\n",
       "2  [5.6%, 5.6%]\n",
       "3      [5%, 5%]\n",
       "4      [5%, 5%]"
      ]
     },
     "execution_count": 17,
     "metadata": {},
     "output_type": "execute_result"
    }
   ],
   "source": [
    "dt_alc.head()"
   ]
  },
  {
   "cell_type": "code",
   "execution_count": 25,
   "metadata": {},
   "outputs": [],
   "source": [
    "style1 = [i for m in style for i in m]\n",
    "style2= style1[0::2]"
   ]
  },
  {
   "cell_type": "code",
   "execution_count": 37,
   "metadata": {},
   "outputs": [
    {
     "data": {
      "text/plain": [
       "488"
      ]
     },
     "execution_count": 37,
     "metadata": {},
     "output_type": "execute_result"
    }
   ],
   "source": [
    "len(style2)"
   ]
  },
  {
   "cell_type": "code",
   "execution_count": 27,
   "metadata": {},
   "outputs": [
    {
     "data": {
      "text/plain": [
       "500"
      ]
     },
     "execution_count": 27,
     "metadata": {},
     "output_type": "execute_result"
    }
   ],
   "source": [
    "beer_type1 = [i for m in beer_type for i in m]\n",
    "beer_type2= beer_type1[0::2]\n",
    "len(beer_type2)"
   ]
  },
  {
   "cell_type": "code",
   "execution_count": 42,
   "metadata": {},
   "outputs": [],
   "source": [
    "df.to_csv('bcstores.csv', index=False)"
   ]
  },
  {
   "cell_type": "code",
   "execution_count": 28,
   "metadata": {},
   "outputs": [],
   "source": [
    "desc1 = [i for m in desc for i in m]\n"
   ]
  },
  {
   "cell_type": "code",
   "execution_count": 35,
   "metadata": {},
   "outputs": [
    {
     "data": {
      "text/plain": [
       "500"
      ]
     },
     "execution_count": 35,
     "metadata": {},
     "output_type": "execute_result"
    }
   ],
   "source": [
    "len(desc)"
   ]
  },
  {
   "cell_type": "code",
   "execution_count": 38,
   "metadata": {},
   "outputs": [],
   "source": [
    "df['style']=style\n",
    "df['alc'] =alc1\n",
    "df['beer_type']= beer_type2\n",
    "df['desc']=desc"
   ]
  },
  {
   "cell_type": "code",
   "execution_count": 22,
   "metadata": {},
   "outputs": [],
   "source": [
    "alc1 = [i for m in alc for i in m]\n",
    "alc2= alc1[0::2]"
   ]
  },
  {
   "cell_type": "code",
   "execution_count": 43,
   "metadata": {},
   "outputs": [],
   "source": [
    "df = pd.read_csv('bcstores.csv')"
   ]
  },
  {
   "cell_type": "code",
   "execution_count": 34,
   "metadata": {},
   "outputs": [],
   "source": [
    "df['style'] =df['style'].apply(lambda x: x[2:int(len(x)/2)-2])"
   ]
  },
  {
   "cell_type": "code",
   "execution_count": 35,
   "metadata": {},
   "outputs": [],
   "source": [
    "df['desc'] =df['desc'].apply(lambda x: x[2:int(len(x)/2)-2])"
   ]
  },
  {
   "cell_type": "code",
   "execution_count": 39,
   "metadata": {},
   "outputs": [],
   "source": [
    "df.loc[df['style']=='','style']='no info'"
   ]
  },
  {
   "cell_type": "code",
   "execution_count": 40,
   "metadata": {},
   "outputs": [],
   "source": [
    "df.loc[df['desc']=='','desc']='no info'"
   ]
  },
  {
   "cell_type": "code",
   "execution_count": 46,
   "metadata": {},
   "outputs": [
    {
     "data": {
      "text/html": [
       "<div>\n",
       "<style scoped>\n",
       "    .dataframe tbody tr th:only-of-type {\n",
       "        vertical-align: middle;\n",
       "    }\n",
       "\n",
       "    .dataframe tbody tr th {\n",
       "        vertical-align: top;\n",
       "    }\n",
       "\n",
       "    .dataframe thead th {\n",
       "        text-align: right;\n",
       "    }\n",
       "</style>\n",
       "<table border=\"1\" class=\"dataframe\">\n",
       "  <thead>\n",
       "    <tr style=\"text-align: right;\">\n",
       "      <th></th>\n",
       "      <th>name</th>\n",
       "      <th>country</th>\n",
       "      <th>price</th>\n",
       "      <th>sku_link</th>\n",
       "      <th>style</th>\n",
       "      <th>alc</th>\n",
       "      <th>beer_type</th>\n",
       "      <th>desc</th>\n",
       "    </tr>\n",
       "  </thead>\n",
       "  <tbody>\n",
       "    <tr>\n",
       "      <th>0</th>\n",
       "      <td>33 ACRES OF LIFE LAGER</td>\n",
       "      <td>Canada</td>\n",
       "      <td>$12.29</td>\n",
       "      <td>/product/772335</td>\n",
       "      <td>California Common Or Steam</td>\n",
       "      <td>4.8%</td>\n",
       "      <td>Domestic Beer - BC Craft Beer</td>\n",
       "      <td>1848, West Coast convictions of resourcefulnes...</td>\n",
       "    </tr>\n",
       "    <tr>\n",
       "      <th>1</th>\n",
       "      <td>33 ACRES OF NIRVANA 6 PACK</td>\n",
       "      <td>Canada</td>\n",
       "      <td>$13.49</td>\n",
       "      <td>/product/880930</td>\n",
       "      <td>India Pale Ale</td>\n",
       "      <td>7%</td>\n",
       "      <td>Domestic Beer - BC Craft Beer</td>\n",
       "      <td>33 Acres is one of Vancouver’s most well-loved...</td>\n",
       "    </tr>\n",
       "    <tr>\n",
       "      <th>2</th>\n",
       "      <td>33 ACRES OF OCEAN PALE ALE</td>\n",
       "      <td>Canada</td>\n",
       "      <td>$12.29</td>\n",
       "      <td>/product/837591</td>\n",
       "      <td>Pale Ale</td>\n",
       "      <td>5.6%</td>\n",
       "      <td>Domestic Beer - BC Craft Beer</td>\n",
       "      <td>A full flavoured beer integrated with a distin...</td>\n",
       "    </tr>\n",
       "    <tr>\n",
       "      <th>3</th>\n",
       "      <td>33 ACRES OF SUNSHINE BLANCHE</td>\n",
       "      <td>Canada</td>\n",
       "      <td>$12.29</td>\n",
       "      <td>/product/90837</td>\n",
       "      <td>Wheat</td>\n",
       "      <td>5%</td>\n",
       "      <td>Domestic Beer - BC Craft Beer</td>\n",
       "      <td>Thanks to summers' launching acclaims, this ro...</td>\n",
       "    </tr>\n",
       "    <tr>\n",
       "      <th>4</th>\n",
       "      <td>33 ACRES OF SUNSHINE CAN</td>\n",
       "      <td>Canada</td>\n",
       "      <td>$21.99</td>\n",
       "      <td>/product/23859</td>\n",
       "      <td>Wheat</td>\n",
       "      <td>5%</td>\n",
       "      <td>Domestic Beer - BC Craft Beer</td>\n",
       "      <td>no info</td>\n",
       "    </tr>\n",
       "  </tbody>\n",
       "</table>\n",
       "</div>"
      ],
      "text/plain": [
       "                           name country   price         sku_link  \\\n",
       "0        33 ACRES OF LIFE LAGER  Canada  $12.29  /product/772335   \n",
       "1    33 ACRES OF NIRVANA 6 PACK  Canada  $13.49  /product/880930   \n",
       "2    33 ACRES OF OCEAN PALE ALE  Canada  $12.29  /product/837591   \n",
       "3  33 ACRES OF SUNSHINE BLANCHE  Canada  $12.29   /product/90837   \n",
       "4      33 ACRES OF SUNSHINE CAN  Canada  $21.99   /product/23859   \n",
       "\n",
       "                        style   alc                      beer_type  \\\n",
       "0  California Common Or Steam  4.8%  Domestic Beer - BC Craft Beer   \n",
       "1              India Pale Ale    7%  Domestic Beer - BC Craft Beer   \n",
       "2                    Pale Ale  5.6%  Domestic Beer - BC Craft Beer   \n",
       "3                       Wheat    5%  Domestic Beer - BC Craft Beer   \n",
       "4                       Wheat    5%  Domestic Beer - BC Craft Beer   \n",
       "\n",
       "                                                desc  \n",
       "0  1848, West Coast convictions of resourcefulnes...  \n",
       "1  33 Acres is one of Vancouver’s most well-loved...  \n",
       "2  A full flavoured beer integrated with a distin...  \n",
       "3  Thanks to summers' launching acclaims, this ro...  \n",
       "4                                            no info  "
      ]
     },
     "execution_count": 46,
     "metadata": {},
     "output_type": "execute_result"
    }
   ],
   "source": [
    "df.head()"
   ]
  },
  {
   "cell_type": "code",
   "execution_count": 48,
   "metadata": {},
   "outputs": [
    {
     "data": {
      "text/plain": [
       "array(['Domestic Beer - BC Craft Beer',\n",
       "       'Domestic Beer - National Domestic Beer', 'Import Beer',\n",
       "       'Domestic Beer - Outside of BC Beer', 'De-Alcoholized Beer'],\n",
       "      dtype=object)"
      ]
     },
     "execution_count": 48,
     "metadata": {},
     "output_type": "execute_result"
    }
   ],
   "source": [
    "df.beer_type.unique()"
   ]
  },
  {
   "cell_type": "markdown",
   "metadata": {},
   "source": [
    "# BEER ADVOCATE RATING"
   ]
  },
  {
   "cell_type": "code",
   "execution_count": null,
   "metadata": {},
   "outputs": [],
   "source": [
    "def product_details(links):\n",
    "    alc = []\n",
    "    style = []\n",
    "    beer_type =[]\n",
    "    desc = []\n",
    "    driver = webdriver.Chrome('/home/suzie/Downloads/chromedriver')\n",
    "    for sku in tqdm(links):\n",
    "        driver.get('https://www.bcliquorstores.com%s' %(sku))\n",
    "        time.sleep(5)\n",
    "        page_source = driver.page_source\n",
    "        soup = BeautifulSoup(page_source,'html.parser')\n",
    "        alc_i = [i.get_text() for i in soup.find_all('span', attrs={\"data-bind\": \"text: _source.alcoholPercentage + '%'\" })]\n",
    "        #style_i = [i.get_text() for i in soup.find_all('span', attrs={\"data-bind\": \"text: _source.style\" })]\n",
    "        #beer_type_i = [i.get_text() for i in soup.find_all('span', attrs={\"data-bind\": \"text: $root.FormatProductType($data._source)\" })]\n",
    "        #desc_i = [i.get_text() for i in soup.find_all('span', attrs={\"data-bind\": \"text: _source.tastingDescription\" })]\n",
    "        alc.append(alc_i)\n",
    "        #style.append(style_i)\n",
    "        #beer_type.append(beer_type_i)\n",
    "        #desc.append(desc_i)\n",
    "    #print([len(i) for i in [alc, style, beer_type, desc]])\n",
    "    return alc"
   ]
  },
  {
   "cell_type": "code",
   "execution_count": 20,
   "metadata": {},
   "outputs": [],
   "source": [
    "page = requests.get(\"https://www.beeradvocate.com/beer/top-rated/ca/bc/\")\n",
    "soup = BeautifulSoup(page.text,'html.parser')"
   ]
  },
  {
   "cell_type": "code",
   "execution_count": 22,
   "metadata": {},
   "outputs": [],
   "source": [
    "name = [i.get_text() for i in soup.find_all('b')][2::3]\n",
    "mnf = [i.get_text() for i in soup.find_all('a')][109::3]\n",
    "style = [i.get_text() for i in soup.find_all('a')][110::3]\n"
   ]
  },
  {
   "cell_type": "code",
   "execution_count": 98,
   "metadata": {},
   "outputs": [],
   "source": [
    "import re"
   ]
  },
  {
   "cell_type": "code",
   "execution_count": 135,
   "metadata": {},
   "outputs": [],
   "source": [
    "alc_text =[i.get_text() for i in soup.find_all('span')]\n",
    "alc = [re.findall(r'\\d+\\.\\d+%$',i) for i in alc_text]\n",
    "alc = [ i for m in alc for i in m]"
   ]
  },
  {
   "cell_type": "code",
   "execution_count": 117,
   "metadata": {},
   "outputs": [],
   "source": [
    "ratings = [i.get_text() for i in soup.find_all('b')][3::3]\n",
    "avg = [i.get_text() for i in soup.find_all('b')][4::3]\n"
   ]
  },
  {
   "cell_type": "code",
   "execution_count": 118,
   "metadata": {},
   "outputs": [
    {
     "name": "stdout",
     "output_type": "stream",
     "text": [
      "<generator object <genexpr> at 0x7fc16bb8a580>\n"
     ]
    },
    {
     "data": {
      "text/plain": [
       "[None]"
      ]
     },
     "execution_count": 118,
     "metadata": {},
     "output_type": "execute_result"
    }
   ],
   "source": [
    "[print (len(i) for i in [name, mnf, style, alc, ratings, avg])]"
   ]
  },
  {
   "cell_type": "code",
   "execution_count": 136,
   "metadata": {},
   "outputs": [
    {
     "name": "stdout",
     "output_type": "stream",
     "text": [
      "102\n",
      "112\n",
      "112\n",
      "100\n",
      "102\n",
      "101\n"
     ]
    }
   ],
   "source": [
    "for i in [name, mnf, style, alc, ratings, avg]:\n",
    "    print(len(i))"
   ]
  },
  {
   "cell_type": "code",
   "execution_count": 152,
   "metadata": {},
   "outputs": [
    {
     "data": {
      "text/plain": [
       "100"
      ]
     },
     "execution_count": 152,
     "metadata": {},
     "output_type": "execute_result"
    }
   ],
   "source": [
    "rev_link = [i.get('href') for i in soup.find_all('a')][108::3][:-12]\n",
    "len(rev_link)"
   ]
  },
  {
   "cell_type": "code",
   "execution_count": 154,
   "metadata": {},
   "outputs": [],
   "source": [
    "beer_rev =pd.DataFrame({'name': name[:-2], 'mnf': mnf[:-12],'style': style[:-12], 'alc': alc, 'ratings':ratings[:-2], 'avg': avg[:-1], 'rev_link':rev_link})"
   ]
  },
  {
   "cell_type": "code",
   "execution_count": 105,
   "metadata": {},
   "outputs": [],
   "source": [
    "#beer_rev.rev_link= beer_rev.rev_link.apply(lambda x: 'https://www.beeradvocate.com'+x)\n"
   ]
  },
  {
   "cell_type": "code",
   "execution_count": 106,
   "metadata": {},
   "outputs": [],
   "source": [
    "#beer_rev.ratings = beer_rev.ratings.apply(lambda x: int(x.replace(\",\",\"\")))"
   ]
  },
  {
   "cell_type": "code",
   "execution_count": 22,
   "metadata": {},
   "outputs": [],
   "source": [
    "#beer_rev.to_csv(\"beer review.csv\", index = False)"
   ]
  },
  {
   "cell_type": "code",
   "execution_count": 19,
   "metadata": {},
   "outputs": [],
   "source": [
    "beer_rev = pd.read_csv(\"beer review.csv\")"
   ]
  },
  {
   "cell_type": "code",
   "execution_count": 20,
   "metadata": {},
   "outputs": [
    {
     "data": {
      "text/html": [
       "<div>\n",
       "<style scoped>\n",
       "    .dataframe tbody tr th:only-of-type {\n",
       "        vertical-align: middle;\n",
       "    }\n",
       "\n",
       "    .dataframe tbody tr th {\n",
       "        vertical-align: top;\n",
       "    }\n",
       "\n",
       "    .dataframe thead th {\n",
       "        text-align: right;\n",
       "    }\n",
       "</style>\n",
       "<table border=\"1\" class=\"dataframe\">\n",
       "  <thead>\n",
       "    <tr style=\"text-align: right;\">\n",
       "      <th></th>\n",
       "      <th>name</th>\n",
       "      <th>mnf</th>\n",
       "      <th>style</th>\n",
       "      <th>alc</th>\n",
       "      <th>ratings</th>\n",
       "      <th>avg</th>\n",
       "      <th>rev_link</th>\n",
       "    </tr>\n",
       "  </thead>\n",
       "  <tbody>\n",
       "    <tr>\n",
       "      <th>0</th>\n",
       "      <td>Nectarous</td>\n",
       "      <td>Four Winds Brewing Co.</td>\n",
       "      <td>Wild Ale</td>\n",
       "      <td>5.50%</td>\n",
       "      <td>123</td>\n",
       "      <td>4.45</td>\n",
       "      <td>https://www.beeradvocate.com/beer/profile/3218...</td>\n",
       "    </tr>\n",
       "    <tr>\n",
       "      <th>1</th>\n",
       "      <td>Sartori Harvest IPA</td>\n",
       "      <td>Driftwood Brewery</td>\n",
       "      <td>IPA - American</td>\n",
       "      <td>7.00%</td>\n",
       "      <td>117</td>\n",
       "      <td>4.40</td>\n",
       "      <td>https://www.beeradvocate.com/beer/profile/1885...</td>\n",
       "    </tr>\n",
       "    <tr>\n",
       "      <th>2</th>\n",
       "      <td>Fat Tug IPA</td>\n",
       "      <td>Driftwood Brewery</td>\n",
       "      <td>IPA - American</td>\n",
       "      <td>7.00%</td>\n",
       "      <td>718</td>\n",
       "      <td>4.27</td>\n",
       "      <td>https://www.beeradvocate.com/beer/profile/1885...</td>\n",
       "    </tr>\n",
       "    <tr>\n",
       "      <th>3</th>\n",
       "      <td>Red Racer IPA (India Pale Ale)</td>\n",
       "      <td>Central City Brewers + Distillers</td>\n",
       "      <td>IPA - American</td>\n",
       "      <td>6.50%</td>\n",
       "      <td>1136</td>\n",
       "      <td>4.25</td>\n",
       "      <td>https://www.beeradvocate.com/beer/profile/1032...</td>\n",
       "    </tr>\n",
       "    <tr>\n",
       "      <th>4</th>\n",
       "      <td>Singularity</td>\n",
       "      <td>Driftwood Brewery</td>\n",
       "      <td>Stout - Russian Imperial</td>\n",
       "      <td>10.60%</td>\n",
       "      <td>180</td>\n",
       "      <td>4.28</td>\n",
       "      <td>https://www.beeradvocate.com/beer/profile/1885...</td>\n",
       "    </tr>\n",
       "  </tbody>\n",
       "</table>\n",
       "</div>"
      ],
      "text/plain": [
       "                             name                                mnf  \\\n",
       "0                       Nectarous             Four Winds Brewing Co.   \n",
       "1             Sartori Harvest IPA                  Driftwood Brewery   \n",
       "2                     Fat Tug IPA                  Driftwood Brewery   \n",
       "3  Red Racer IPA (India Pale Ale)  Central City Brewers + Distillers   \n",
       "4                     Singularity                  Driftwood Brewery   \n",
       "\n",
       "                      style     alc  ratings   avg  \\\n",
       "0                  Wild Ale   5.50%      123  4.45   \n",
       "1            IPA - American   7.00%      117  4.40   \n",
       "2            IPA - American   7.00%      718  4.27   \n",
       "3            IPA - American   6.50%     1136  4.25   \n",
       "4  Stout - Russian Imperial  10.60%      180  4.28   \n",
       "\n",
       "                                            rev_link  \n",
       "0  https://www.beeradvocate.com/beer/profile/3218...  \n",
       "1  https://www.beeradvocate.com/beer/profile/1885...  \n",
       "2  https://www.beeradvocate.com/beer/profile/1885...  \n",
       "3  https://www.beeradvocate.com/beer/profile/1032...  \n",
       "4  https://www.beeradvocate.com/beer/profile/1885...  "
      ]
     },
     "execution_count": 20,
     "metadata": {},
     "output_type": "execute_result"
    }
   ],
   "source": [
    "beer_rev.head()"
   ]
  },
  {
   "cell_type": "code",
   "execution_count": 25,
   "metadata": {},
   "outputs": [],
   "source": [
    "page1= requests.get('https://www.beeradvocate.com/beer/profile/32184/124777/?view=beer&sort=&start=0')\n",
    "soup1 = BeautifulSoup(page1.text, 'html.parser')"
   ]
  },
  {
   "cell_type": "code",
   "execution_count": 26,
   "metadata": {},
   "outputs": [
    {
     "data": {
      "text/plain": [
       "['\\nNotes:\\nIn the pursuit of sour, peach and nectarine play lead, while galaxy hops lend notes of citrus and passionfruit.\\n\\nMade with Pilsner, Munich, and acidulated malt, Galaxy hops, Brett Trois, Lactobacillus and Belgian yeast.\\t']"
      ]
     },
     "execution_count": 26,
     "metadata": {},
     "output_type": "execute_result"
    }
   ],
   "source": [
    "comp_desc = [i.get_text() for i in soup1.find_all('div', attrs ={\"style\":\"clear:both; margin:0; padding:0px 20px; font-size:1.05em;\"})]\n",
    "comp_desc"
   ]
  },
  {
   "cell_type": "code",
   "execution_count": 27,
   "metadata": {},
   "outputs": [],
   "source": [
    "number_of_rev = [re.findall(r' Reviews: (\\d+)', m) for m in [i.get_text() for i in soup1.find_all('b')]]\n",
    "number_of_rev =[ int(i) for m in number_of_rev for i in m][0]"
   ]
  },
  {
   "cell_type": "code",
   "execution_count": 28,
   "metadata": {
    "scrolled": true
   },
   "outputs": [],
   "source": [
    "rev = [i.get('href') for i in soup1.find_all('a')]"
   ]
  },
  {
   "cell_type": "code",
   "execution_count": 29,
   "metadata": {},
   "outputs": [],
   "source": [
    "def basic_beer (beer_link):\n",
    "    comp_desc =[]\n",
    "    number_of_rev =[]\n",
    "    for link in tqdm(beer_link):\n",
    "    \n",
    "        page= requests.get(link)\n",
    "        soup = BeautifulSoup(page.text, 'html.parser')\n",
    "        comp_desc_i = [i.get_text() for i in soup.find_all('div', attrs ={\"style\":\"clear:both; margin:0; padding:0px 20px; font-size:1.05em;\"})]\n",
    "        \n",
    "        list_of_rev = [re.findall(r' Reviews: (\\d+)', m) for m in [i.get_text() for i in soup.find_all('b')]]\n",
    "        number_of_rev_i =[ int(i) for m in list_of_rev for i in m][0]\n",
    "        \n",
    "        comp_desc.append(comp_desc_i)\n",
    "        number_of_rev.append(number_of_rev_i)\n",
    "        \n",
    "    return comp_desc, number_of_rev\n",
    "    "
   ]
  },
  {
   "cell_type": "code",
   "execution_count": 34,
   "metadata": {},
   "outputs": [],
   "source": [
    "rate = [ i.get_text() for i in soup1.find_all('span', class_ = \"muted\")][3::3]"
   ]
  },
  {
   "cell_type": "code",
   "execution_count": 31,
   "metadata": {},
   "outputs": [
    {
     "data": {
      "text/plain": [
       "293"
      ]
     },
     "execution_count": 31,
     "metadata": {},
     "output_type": "execute_result"
    }
   ],
   "source": [
    "reviews = [i.get_text() for i in soup1.find_all('br')]\n",
    "len(reviews[17:])"
   ]
  },
  {
   "cell_type": "code",
   "execution_count": 35,
   "metadata": {},
   "outputs": [
    {
     "data": {
      "text/plain": [
       "'\\n Reviews: 35\\n|  Ratings: 123\\n| Log in to view all ratings and sort\\n'"
      ]
     },
     "execution_count": 35,
     "metadata": {},
     "output_type": "execute_result"
    }
   ],
   "source": [
    "[i.get_text() for i in soup1.find_all('div')][81]"
   ]
  },
  {
   "cell_type": "code",
   "execution_count": 1,
   "metadata": {},
   "outputs": [],
   "source": [
    "def review_scrape (beer_link, number_of_ratings):\n",
    "    reviews=[]\n",
    "    rate =[]\n",
    "    driver = webdriver.Chrome('/home/sam/Downloads/chromedriver')\n",
    "    \n",
    "    for pages_i in range(0,int(number_of_ratings),25): #site shows 25 resulst/page)\n",
    "        url = beer_link+'?view=beer&sort=&start=%d'%(pages_i)\n",
    "        driver.get(url)\n",
    "        driver.find_element_by_name(\"login\").send_keys('suzie102')\n",
    "        driver.find_element_by_name(\"password\").send_keys('Beer@addiction102')\n",
    "        driver.find_element_by_class_name(\"button primary\").click()\n",
    "        page_source = driver.page_source\n",
    "        soup = BeautifulSoup(page_source,'html.parser')\n",
    "       \n",
    "        #payload = {'login':'suzie102', 'password':'Beer@addiction102'}\n",
    "        #page1 = session.post(\"https://www.beeradvocate.com/community/login/login\", data=payload) \n",
    "        \n",
    "        #page1= session.get(url)\n",
    "        #page_n = urllib.request.Request(url)\n",
    "        #html = urllib.request.urlopen(page_n).read()\n",
    "        #time.sleep(3)\n",
    "        #soup1 = lxml.html.fromstring(page1.text)\n",
    "        \n",
    "        #rate_i = soup1.xpath('//span[@class = \"muted\"]/text()')\n",
    "        rate_i = [ i.get_text() for i in soup.find_all('span', class_ = \"muted\")]\n",
    "        reviews_i = [ i.get_text() for i in soup.find_all('div')]\n",
    "        print(url)\n",
    "        #reviews_i = soup1.xpath('//div/text()')\n",
    "        reviews.append(reviews_i)\n",
    "        print(len(reviews))\n",
    "        rate.append(rate_i)\n",
    "    return rate,reviews\n"
   ]
  },
  {
   "cell_type": "code",
   "execution_count": 225,
   "metadata": {},
   "outputs": [
    {
     "name": "stdout",
     "output_type": "stream",
     "text": [
      "https://www.beeradvocate.com/beer/profile/32184/124777/\n"
     ]
    }
   ],
   "source": [
    "beer_link = beer_rev.rev_link[0]\n",
    "print(beer_link)"
   ]
  },
  {
   "cell_type": "code",
   "execution_count": 226,
   "metadata": {},
   "outputs": [
    {
     "ename": "ElementNotInteractableException",
     "evalue": "Message: element not interactable\n  (Session info: chrome=83.0.4103.116)\n",
     "output_type": "error",
     "traceback": [
      "\u001b[0;31m---------------------------------------------------------------------------\u001b[0m",
      "\u001b[0;31mElementNotInteractableException\u001b[0m           Traceback (most recent call last)",
      "\u001b[0;32m<ipython-input-226-1d0adc7747ab>\u001b[0m in \u001b[0;36m<module>\u001b[0;34m\u001b[0m\n\u001b[0;32m----> 1\u001b[0;31m \u001b[0mrate\u001b[0m\u001b[0;34m,\u001b[0m\u001b[0mreviews\u001b[0m \u001b[0;34m=\u001b[0m \u001b[0mreview_scrape\u001b[0m \u001b[0;34m(\u001b[0m\u001b[0mbeer_link\u001b[0m\u001b[0;34m,\u001b[0m \u001b[0mbeer_rev\u001b[0m\u001b[0;34m.\u001b[0m\u001b[0mratings\u001b[0m\u001b[0;34m[\u001b[0m\u001b[0;36m0\u001b[0m\u001b[0;34m]\u001b[0m\u001b[0;34m)\u001b[0m\u001b[0;34m\u001b[0m\u001b[0;34m\u001b[0m\u001b[0m\n\u001b[0m",
      "\u001b[0;32m<ipython-input-224-16668654c561>\u001b[0m in \u001b[0;36mreview_scrape\u001b[0;34m(beer_link, number_of_ratings)\u001b[0m\n\u001b[1;32m      7\u001b[0m         \u001b[0murl\u001b[0m \u001b[0;34m=\u001b[0m \u001b[0mbeer_link\u001b[0m\u001b[0;34m+\u001b[0m\u001b[0;34m'?view=beer&sort=&start=%d'\u001b[0m\u001b[0;34m%\u001b[0m\u001b[0;34m(\u001b[0m\u001b[0mpages_i\u001b[0m\u001b[0;34m)\u001b[0m\u001b[0;34m\u001b[0m\u001b[0;34m\u001b[0m\u001b[0m\n\u001b[1;32m      8\u001b[0m         \u001b[0mdriver\u001b[0m\u001b[0;34m.\u001b[0m\u001b[0mget\u001b[0m\u001b[0;34m(\u001b[0m\u001b[0murl\u001b[0m\u001b[0;34m)\u001b[0m\u001b[0;34m\u001b[0m\u001b[0;34m\u001b[0m\u001b[0m\n\u001b[0;32m----> 9\u001b[0;31m         \u001b[0mdriver\u001b[0m\u001b[0;34m.\u001b[0m\u001b[0mfind_element_by_name\u001b[0m\u001b[0;34m(\u001b[0m\u001b[0;34m\"login\"\u001b[0m\u001b[0;34m)\u001b[0m\u001b[0;34m.\u001b[0m\u001b[0msend_keys\u001b[0m\u001b[0;34m(\u001b[0m\u001b[0;34m'suzie102'\u001b[0m\u001b[0;34m)\u001b[0m\u001b[0;34m\u001b[0m\u001b[0;34m\u001b[0m\u001b[0m\n\u001b[0m\u001b[1;32m     10\u001b[0m         \u001b[0mdriver\u001b[0m\u001b[0;34m.\u001b[0m\u001b[0mfind_element_by_name\u001b[0m\u001b[0;34m(\u001b[0m\u001b[0;34m\"password\"\u001b[0m\u001b[0;34m)\u001b[0m\u001b[0;34m.\u001b[0m\u001b[0msend_keys\u001b[0m\u001b[0;34m(\u001b[0m\u001b[0;34m'Beer@addiction102'\u001b[0m\u001b[0;34m)\u001b[0m\u001b[0;34m\u001b[0m\u001b[0;34m\u001b[0m\u001b[0m\n\u001b[1;32m     11\u001b[0m         \u001b[0mdriver\u001b[0m\u001b[0;34m.\u001b[0m\u001b[0mfind_element_by_class_name\u001b[0m\u001b[0;34m(\u001b[0m\u001b[0;34m\"button primary\"\u001b[0m\u001b[0;34m)\u001b[0m\u001b[0;34m.\u001b[0m\u001b[0mclick\u001b[0m\u001b[0;34m(\u001b[0m\u001b[0;34m)\u001b[0m\u001b[0;34m\u001b[0m\u001b[0;34m\u001b[0m\u001b[0m\n",
      "\u001b[0;32m~/.local/lib/python3.8/site-packages/selenium/webdriver/remote/webelement.py\u001b[0m in \u001b[0;36msend_keys\u001b[0;34m(self, *value)\u001b[0m\n\u001b[1;32m    475\u001b[0m                 \u001b[0mvalue\u001b[0m \u001b[0;34m=\u001b[0m \u001b[0mself\u001b[0m\u001b[0;34m.\u001b[0m\u001b[0m_upload\u001b[0m\u001b[0;34m(\u001b[0m\u001b[0mlocal_file\u001b[0m\u001b[0;34m)\u001b[0m\u001b[0;34m\u001b[0m\u001b[0;34m\u001b[0m\u001b[0m\n\u001b[1;32m    476\u001b[0m \u001b[0;34m\u001b[0m\u001b[0m\n\u001b[0;32m--> 477\u001b[0;31m         self._execute(Command.SEND_KEYS_TO_ELEMENT,\n\u001b[0m\u001b[1;32m    478\u001b[0m                       {'text': \"\".join(keys_to_typing(value)),\n\u001b[1;32m    479\u001b[0m                        'value': keys_to_typing(value)})\n",
      "\u001b[0;32m~/.local/lib/python3.8/site-packages/selenium/webdriver/remote/webelement.py\u001b[0m in \u001b[0;36m_execute\u001b[0;34m(self, command, params)\u001b[0m\n\u001b[1;32m    631\u001b[0m             \u001b[0mparams\u001b[0m \u001b[0;34m=\u001b[0m \u001b[0;34m{\u001b[0m\u001b[0;34m}\u001b[0m\u001b[0;34m\u001b[0m\u001b[0;34m\u001b[0m\u001b[0m\n\u001b[1;32m    632\u001b[0m         \u001b[0mparams\u001b[0m\u001b[0;34m[\u001b[0m\u001b[0;34m'id'\u001b[0m\u001b[0;34m]\u001b[0m \u001b[0;34m=\u001b[0m \u001b[0mself\u001b[0m\u001b[0;34m.\u001b[0m\u001b[0m_id\u001b[0m\u001b[0;34m\u001b[0m\u001b[0;34m\u001b[0m\u001b[0m\n\u001b[0;32m--> 633\u001b[0;31m         \u001b[0;32mreturn\u001b[0m \u001b[0mself\u001b[0m\u001b[0;34m.\u001b[0m\u001b[0m_parent\u001b[0m\u001b[0;34m.\u001b[0m\u001b[0mexecute\u001b[0m\u001b[0;34m(\u001b[0m\u001b[0mcommand\u001b[0m\u001b[0;34m,\u001b[0m \u001b[0mparams\u001b[0m\u001b[0;34m)\u001b[0m\u001b[0;34m\u001b[0m\u001b[0;34m\u001b[0m\u001b[0m\n\u001b[0m\u001b[1;32m    634\u001b[0m \u001b[0;34m\u001b[0m\u001b[0m\n\u001b[1;32m    635\u001b[0m     \u001b[0;32mdef\u001b[0m \u001b[0mfind_element\u001b[0m\u001b[0;34m(\u001b[0m\u001b[0mself\u001b[0m\u001b[0;34m,\u001b[0m \u001b[0mby\u001b[0m\u001b[0;34m=\u001b[0m\u001b[0mBy\u001b[0m\u001b[0;34m.\u001b[0m\u001b[0mID\u001b[0m\u001b[0;34m,\u001b[0m \u001b[0mvalue\u001b[0m\u001b[0;34m=\u001b[0m\u001b[0;32mNone\u001b[0m\u001b[0;34m)\u001b[0m\u001b[0;34m:\u001b[0m\u001b[0;34m\u001b[0m\u001b[0;34m\u001b[0m\u001b[0m\n",
      "\u001b[0;32m~/.local/lib/python3.8/site-packages/selenium/webdriver/remote/webdriver.py\u001b[0m in \u001b[0;36mexecute\u001b[0;34m(self, driver_command, params)\u001b[0m\n\u001b[1;32m    319\u001b[0m         \u001b[0mresponse\u001b[0m \u001b[0;34m=\u001b[0m \u001b[0mself\u001b[0m\u001b[0;34m.\u001b[0m\u001b[0mcommand_executor\u001b[0m\u001b[0;34m.\u001b[0m\u001b[0mexecute\u001b[0m\u001b[0;34m(\u001b[0m\u001b[0mdriver_command\u001b[0m\u001b[0;34m,\u001b[0m \u001b[0mparams\u001b[0m\u001b[0;34m)\u001b[0m\u001b[0;34m\u001b[0m\u001b[0;34m\u001b[0m\u001b[0m\n\u001b[1;32m    320\u001b[0m         \u001b[0;32mif\u001b[0m \u001b[0mresponse\u001b[0m\u001b[0;34m:\u001b[0m\u001b[0;34m\u001b[0m\u001b[0;34m\u001b[0m\u001b[0m\n\u001b[0;32m--> 321\u001b[0;31m             \u001b[0mself\u001b[0m\u001b[0;34m.\u001b[0m\u001b[0merror_handler\u001b[0m\u001b[0;34m.\u001b[0m\u001b[0mcheck_response\u001b[0m\u001b[0;34m(\u001b[0m\u001b[0mresponse\u001b[0m\u001b[0;34m)\u001b[0m\u001b[0;34m\u001b[0m\u001b[0;34m\u001b[0m\u001b[0m\n\u001b[0m\u001b[1;32m    322\u001b[0m             response['value'] = self._unwrap_value(\n\u001b[1;32m    323\u001b[0m                 response.get('value', None))\n",
      "\u001b[0;32m~/.local/lib/python3.8/site-packages/selenium/webdriver/remote/errorhandler.py\u001b[0m in \u001b[0;36mcheck_response\u001b[0;34m(self, response)\u001b[0m\n\u001b[1;32m    240\u001b[0m                 \u001b[0malert_text\u001b[0m \u001b[0;34m=\u001b[0m \u001b[0mvalue\u001b[0m\u001b[0;34m[\u001b[0m\u001b[0;34m'alert'\u001b[0m\u001b[0;34m]\u001b[0m\u001b[0;34m.\u001b[0m\u001b[0mget\u001b[0m\u001b[0;34m(\u001b[0m\u001b[0;34m'text'\u001b[0m\u001b[0;34m)\u001b[0m\u001b[0;34m\u001b[0m\u001b[0;34m\u001b[0m\u001b[0m\n\u001b[1;32m    241\u001b[0m             \u001b[0;32mraise\u001b[0m \u001b[0mexception_class\u001b[0m\u001b[0;34m(\u001b[0m\u001b[0mmessage\u001b[0m\u001b[0;34m,\u001b[0m \u001b[0mscreen\u001b[0m\u001b[0;34m,\u001b[0m \u001b[0mstacktrace\u001b[0m\u001b[0;34m,\u001b[0m \u001b[0malert_text\u001b[0m\u001b[0;34m)\u001b[0m\u001b[0;34m\u001b[0m\u001b[0;34m\u001b[0m\u001b[0m\n\u001b[0;32m--> 242\u001b[0;31m         \u001b[0;32mraise\u001b[0m \u001b[0mexception_class\u001b[0m\u001b[0;34m(\u001b[0m\u001b[0mmessage\u001b[0m\u001b[0;34m,\u001b[0m \u001b[0mscreen\u001b[0m\u001b[0;34m,\u001b[0m \u001b[0mstacktrace\u001b[0m\u001b[0;34m)\u001b[0m\u001b[0;34m\u001b[0m\u001b[0;34m\u001b[0m\u001b[0m\n\u001b[0m\u001b[1;32m    243\u001b[0m \u001b[0;34m\u001b[0m\u001b[0m\n\u001b[1;32m    244\u001b[0m     \u001b[0;32mdef\u001b[0m \u001b[0m_value_or_default\u001b[0m\u001b[0;34m(\u001b[0m\u001b[0mself\u001b[0m\u001b[0;34m,\u001b[0m \u001b[0mobj\u001b[0m\u001b[0;34m,\u001b[0m \u001b[0mkey\u001b[0m\u001b[0;34m,\u001b[0m \u001b[0mdefault\u001b[0m\u001b[0;34m)\u001b[0m\u001b[0;34m:\u001b[0m\u001b[0;34m\u001b[0m\u001b[0;34m\u001b[0m\u001b[0m\n",
      "\u001b[0;31mElementNotInteractableException\u001b[0m: Message: element not interactable\n  (Session info: chrome=83.0.4103.116)\n"
     ]
    }
   ],
   "source": [
    "rate,reviews = review_scrape (beer_link, beer_rev.ratings[0])"
   ]
  },
  {
   "cell_type": "code",
   "execution_count": 207,
   "metadata": {},
   "outputs": [],
   "source": [
    "def download( url):\n",
    "    print('Downloading:', url)\n",
    "    req = urllib.request.Request(url)\n",
    "    html = urllib.request.urlopen(req).read()\n",
    "    return html\n",
    "    "
   ]
  },
  {
   "cell_type": "code",
   "execution_count": 231,
   "metadata": {},
   "outputs": [],
   "source": [
    "def review_scrape (beer_link, number_of_ratings):\n",
    "    reviews=[]\n",
    "    rate =[]\n",
    "    for pages_i in range(0,int(number_of_ratings),25): #site shows 25 resulst/page)\n",
    "        session = requests.Session()\n",
    "        payload = {'login':'suzie102', 'password':'Beer@addiction102'}\n",
    "        page1 = session.post(\"https://www.beeradvocate.com/community/login/login\", data=payload) \n",
    "        url = beer_link+'?view=beer&sort=&start=%d'%(pages_i)\n",
    "        print(url)\n",
    "        encoded_data = urllib.parse.urlencode(payload)\n",
    "        request = urllib.request.Request(url)\n",
    "        html = urllib.request.urlopen(request).read()\n",
    "\n",
    "    return html"
   ]
  },
  {
   "cell_type": "code",
   "execution_count": 242,
   "metadata": {},
   "outputs": [],
   "source": [
    "#html = review_scrape (beer_link, beer_rev.ratings[0])"
   ]
  },
  {
   "cell_type": "markdown",
   "metadata": {},
   "source": [
    "driver.get(\"https://my.moneydashboard.com/\") \n",
    "\\n\n",
    "\n",
    "loginPageEmail = WebDriverWait(driver, 5).until(EC.element_to_be_clickable((By.XPATH,'//form[@name=\"vm.registerForm\"]//div[@class=\"inputs\"]//input[@name=\"email\"]'))) \n",
    "loginPageEmail.send_keys(email) loginPagepassword = WebDriverWait(driver, 5).until(EC.element_to_be_clickable((By.XPATH,'//form[@name=\"vm.registerForm\"]//div[@class=\"inputs\"]//input[@name=\"password\"]'))) \n",
    "loginPagepassword.send_keys(password)"
   ]
  },
  {
   "cell_type": "code",
   "execution_count": 18,
   "metadata": {},
   "outputs": [],
   "source": [
    "from selenium import webdriver\n",
    "from selenium.webdriver.common.by import By\n",
    "from selenium.webdriver.support.ui import WebDriverWait\n",
    "from selenium.webdriver.support import expected_conditions as EC"
   ]
  },
  {
   "cell_type": "code",
   "execution_count": 86,
   "metadata": {},
   "outputs": [],
   "source": [
    "def webstite_scrape_p2 (beer_link, number_of_ratings):\n",
    "\n",
    "    driver = webdriver.Chrome('/home/sam/Downloads/chromedriver')\n",
    "    url = 'https://www.beeradvocate.com/community/login/'\n",
    "    driver.get(url)\n",
    "    \n",
    "    loginelement = WebDriverWait(driver, 20).until(EC.element_to_be_clickable((By.XPATH, '//form[@class=\"xenForm formOverlay\"]//dd//input[@name =\"login\"]')))\n",
    "    loginelement.send_keys('suzie102')\n",
    "\n",
    "    pwelement = WebDriverWait(driver, 20).until(EC.element_to_be_clickable((By.XPATH, '//form[@class=\"xenForm formOverlay\"]//dl[@class =\"ctrlUnit\"]//dd//ul//li[@id = \"ctrl_pageLogin_registered_Disabler\"]//input[@name =\"password\"]')))\n",
    "    pwelement.send_keys('Beer@addiction102')\n",
    "\n",
    "    page_click = WebDriverWait(driver, 20).until(EC.element_to_be_clickable((By.XPATH, '//form[@class=\"xenForm formOverlay\"]//dl[@class =\"ctrlUnit submitUnit\"]//dd//input[@type =\"submit\"]')))\n",
    "    page_click.click()\n",
    "\n",
    "    rate = []\n",
    "    reviews =[]\n",
    "    avg_user =[]\n",
    "    for link, i in zip(beer_link, number_of_ratings): \n",
    "        for pages_i in range(0,int(i),25): #site shows 25 resulst/page)\n",
    "            new_url = link+'?view=beer&sort=&start=%d'%(pages_i)\n",
    "            print(new_url)\n",
    "            driver.get(new_url)\n",
    "            check_box = WebDriverWait(driver,20).until(EC.element_to_be_clickable((By.XPATH, '//form[@style=\"display:inline;margin:0;padding:0;\"]//input[@type = \"checkbox\"]')))\n",
    "            check_box.click()\n",
    "            time.sleep(5)\n",
    "            page_source = driver.page_source\n",
    "    \n",
    "            soup = BeautifulSoup(page_source,'html.parser')\n",
    "        \n",
    "            rate_i = [ i.get_text() for i in soup.find_all('span', class_ = \"muted\")][8::3]\n",
    "            rate.append(rate_i)\n",
    "            \n",
    "            reviews_i = [ i.get_text() for i in soup.find_all('div')]\n",
    "            reviews.append(reviews_i)\n",
    "            \n",
    "            avg_i = [i.get_text() for i in soup.find_all('span', class_= \"BAscore_norm\")]\n",
    "            avg_user.append(avg_i)\n",
    "    return rate, reviews, avg_user"
   ]
  },
  {
   "cell_type": "code",
   "execution_count": 93,
   "metadata": {},
   "outputs": [
    {
     "data": {
      "text/plain": [
       "0     https://www.beeradvocate.com/beer/profile/3218...\n",
       "1     https://www.beeradvocate.com/beer/profile/1885...\n",
       "2     https://www.beeradvocate.com/beer/profile/1885...\n",
       "3     https://www.beeradvocate.com/beer/profile/1032...\n",
       "4     https://www.beeradvocate.com/beer/profile/1885...\n",
       "                            ...                        \n",
       "95    https://www.beeradvocate.com/beer/profile/4355...\n",
       "96    https://www.beeradvocate.com/beer/profile/3807...\n",
       "97    https://www.beeradvocate.com/beer/profile/780/...\n",
       "98    https://www.beeradvocate.com/beer/profile/2594...\n",
       "99    https://www.beeradvocate.com/beer/profile/2808...\n",
       "Name: rev_link, Length: 100, dtype: object"
      ]
     },
     "execution_count": 93,
     "metadata": {},
     "output_type": "execute_result"
    }
   ],
   "source": [
    "beer_link = beer_rev.rev_link\n",
    "beer_link"
   ]
  },
  {
   "cell_type": "code",
   "execution_count": 94,
   "metadata": {},
   "outputs": [
    {
     "data": {
      "text/plain": [
       "0      123\n",
       "1      117\n",
       "2      718\n",
       "3     1136\n",
       "4      180\n",
       "      ... \n",
       "95      13\n",
       "96      50\n",
       "97      17\n",
       "98     151\n",
       "99      56\n",
       "Name: ratings, Length: 100, dtype: int64"
      ]
     },
     "execution_count": 94,
     "metadata": {},
     "output_type": "execute_result"
    }
   ],
   "source": [
    "number_of_ratings = beer_rev.ratings\n",
    "number_of_ratings"
   ]
  },
  {
   "cell_type": "code",
   "execution_count": 95,
   "metadata": {},
   "outputs": [
    {
     "name": "stdout",
     "output_type": "stream",
     "text": [
      "https://www.beeradvocate.com/beer/profile/32184/124777/?view=beer&sort=&start=0\n",
      "https://www.beeradvocate.com/beer/profile/32184/124777/?view=beer&sort=&start=25\n",
      "https://www.beeradvocate.com/beer/profile/32184/124777/?view=beer&sort=&start=50\n",
      "https://www.beeradvocate.com/beer/profile/32184/124777/?view=beer&sort=&start=75\n",
      "https://www.beeradvocate.com/beer/profile/32184/124777/?view=beer&sort=&start=100\n",
      "https://www.beeradvocate.com/beer/profile/18858/53309/?view=beer&sort=&start=0\n",
      "https://www.beeradvocate.com/beer/profile/18858/53309/?view=beer&sort=&start=25\n",
      "https://www.beeradvocate.com/beer/profile/18858/53309/?view=beer&sort=&start=50\n",
      "https://www.beeradvocate.com/beer/profile/18858/53309/?view=beer&sort=&start=75\n",
      "https://www.beeradvocate.com/beer/profile/18858/53309/?view=beer&sort=&start=100\n",
      "https://www.beeradvocate.com/beer/profile/18858/62911/?view=beer&sort=&start=0\n",
      "https://www.beeradvocate.com/beer/profile/18858/62911/?view=beer&sort=&start=25\n",
      "https://www.beeradvocate.com/beer/profile/18858/62911/?view=beer&sort=&start=50\n",
      "https://www.beeradvocate.com/beer/profile/18858/62911/?view=beer&sort=&start=75\n",
      "https://www.beeradvocate.com/beer/profile/18858/62911/?view=beer&sort=&start=100\n",
      "https://www.beeradvocate.com/beer/profile/18858/62911/?view=beer&sort=&start=125\n",
      "https://www.beeradvocate.com/beer/profile/18858/62911/?view=beer&sort=&start=150\n",
      "https://www.beeradvocate.com/beer/profile/18858/62911/?view=beer&sort=&start=175\n",
      "https://www.beeradvocate.com/beer/profile/18858/62911/?view=beer&sort=&start=200\n",
      "https://www.beeradvocate.com/beer/profile/18858/62911/?view=beer&sort=&start=225\n",
      "https://www.beeradvocate.com/beer/profile/18858/62911/?view=beer&sort=&start=250\n",
      "https://www.beeradvocate.com/beer/profile/18858/62911/?view=beer&sort=&start=275\n",
      "https://www.beeradvocate.com/beer/profile/18858/62911/?view=beer&sort=&start=300\n",
      "https://www.beeradvocate.com/beer/profile/18858/62911/?view=beer&sort=&start=325\n",
      "https://www.beeradvocate.com/beer/profile/18858/62911/?view=beer&sort=&start=350\n",
      "https://www.beeradvocate.com/beer/profile/18858/62911/?view=beer&sort=&start=375\n",
      "https://www.beeradvocate.com/beer/profile/18858/62911/?view=beer&sort=&start=400\n",
      "https://www.beeradvocate.com/beer/profile/18858/62911/?view=beer&sort=&start=425\n",
      "https://www.beeradvocate.com/beer/profile/18858/62911/?view=beer&sort=&start=450\n",
      "https://www.beeradvocate.com/beer/profile/18858/62911/?view=beer&sort=&start=475\n",
      "https://www.beeradvocate.com/beer/profile/18858/62911/?view=beer&sort=&start=500\n",
      "https://www.beeradvocate.com/beer/profile/18858/62911/?view=beer&sort=&start=525\n",
      "https://www.beeradvocate.com/beer/profile/18858/62911/?view=beer&sort=&start=550\n",
      "https://www.beeradvocate.com/beer/profile/18858/62911/?view=beer&sort=&start=575\n",
      "https://www.beeradvocate.com/beer/profile/18858/62911/?view=beer&sort=&start=600\n",
      "https://www.beeradvocate.com/beer/profile/18858/62911/?view=beer&sort=&start=625\n",
      "https://www.beeradvocate.com/beer/profile/18858/62911/?view=beer&sort=&start=650\n",
      "https://www.beeradvocate.com/beer/profile/18858/62911/?view=beer&sort=&start=675\n",
      "https://www.beeradvocate.com/beer/profile/18858/62911/?view=beer&sort=&start=700\n",
      "https://www.beeradvocate.com/beer/profile/10321/49058/?view=beer&sort=&start=0\n",
      "https://www.beeradvocate.com/beer/profile/10321/49058/?view=beer&sort=&start=25\n",
      "https://www.beeradvocate.com/beer/profile/10321/49058/?view=beer&sort=&start=50\n",
      "https://www.beeradvocate.com/beer/profile/10321/49058/?view=beer&sort=&start=75\n",
      "https://www.beeradvocate.com/beer/profile/10321/49058/?view=beer&sort=&start=100\n",
      "https://www.beeradvocate.com/beer/profile/10321/49058/?view=beer&sort=&start=125\n",
      "https://www.beeradvocate.com/beer/profile/10321/49058/?view=beer&sort=&start=150\n",
      "https://www.beeradvocate.com/beer/profile/10321/49058/?view=beer&sort=&start=175\n",
      "https://www.beeradvocate.com/beer/profile/10321/49058/?view=beer&sort=&start=200\n",
      "https://www.beeradvocate.com/beer/profile/10321/49058/?view=beer&sort=&start=225\n",
      "https://www.beeradvocate.com/beer/profile/10321/49058/?view=beer&sort=&start=250\n",
      "https://www.beeradvocate.com/beer/profile/10321/49058/?view=beer&sort=&start=275\n",
      "https://www.beeradvocate.com/beer/profile/10321/49058/?view=beer&sort=&start=300\n",
      "https://www.beeradvocate.com/beer/profile/10321/49058/?view=beer&sort=&start=325\n",
      "https://www.beeradvocate.com/beer/profile/10321/49058/?view=beer&sort=&start=350\n",
      "https://www.beeradvocate.com/beer/profile/10321/49058/?view=beer&sort=&start=375\n",
      "https://www.beeradvocate.com/beer/profile/10321/49058/?view=beer&sort=&start=400\n",
      "https://www.beeradvocate.com/beer/profile/10321/49058/?view=beer&sort=&start=425\n",
      "https://www.beeradvocate.com/beer/profile/10321/49058/?view=beer&sort=&start=450\n",
      "https://www.beeradvocate.com/beer/profile/10321/49058/?view=beer&sort=&start=475\n",
      "https://www.beeradvocate.com/beer/profile/10321/49058/?view=beer&sort=&start=500\n",
      "https://www.beeradvocate.com/beer/profile/10321/49058/?view=beer&sort=&start=525\n",
      "https://www.beeradvocate.com/beer/profile/10321/49058/?view=beer&sort=&start=550\n",
      "https://www.beeradvocate.com/beer/profile/10321/49058/?view=beer&sort=&start=575\n",
      "https://www.beeradvocate.com/beer/profile/10321/49058/?view=beer&sort=&start=600\n",
      "https://www.beeradvocate.com/beer/profile/10321/49058/?view=beer&sort=&start=625\n",
      "https://www.beeradvocate.com/beer/profile/10321/49058/?view=beer&sort=&start=650\n",
      "https://www.beeradvocate.com/beer/profile/10321/49058/?view=beer&sort=&start=675\n",
      "https://www.beeradvocate.com/beer/profile/10321/49058/?view=beer&sort=&start=700\n",
      "https://www.beeradvocate.com/beer/profile/10321/49058/?view=beer&sort=&start=725\n",
      "https://www.beeradvocate.com/beer/profile/10321/49058/?view=beer&sort=&start=750\n",
      "https://www.beeradvocate.com/beer/profile/10321/49058/?view=beer&sort=&start=775\n",
      "https://www.beeradvocate.com/beer/profile/10321/49058/?view=beer&sort=&start=800\n",
      "https://www.beeradvocate.com/beer/profile/10321/49058/?view=beer&sort=&start=825\n",
      "https://www.beeradvocate.com/beer/profile/10321/49058/?view=beer&sort=&start=850\n",
      "https://www.beeradvocate.com/beer/profile/10321/49058/?view=beer&sort=&start=875\n",
      "https://www.beeradvocate.com/beer/profile/10321/49058/?view=beer&sort=&start=900\n",
      "https://www.beeradvocate.com/beer/profile/10321/49058/?view=beer&sort=&start=925\n",
      "https://www.beeradvocate.com/beer/profile/10321/49058/?view=beer&sort=&start=950\n",
      "https://www.beeradvocate.com/beer/profile/10321/49058/?view=beer&sort=&start=975\n",
      "https://www.beeradvocate.com/beer/profile/10321/49058/?view=beer&sort=&start=1000\n",
      "https://www.beeradvocate.com/beer/profile/10321/49058/?view=beer&sort=&start=1025\n",
      "https://www.beeradvocate.com/beer/profile/10321/49058/?view=beer&sort=&start=1050\n",
      "https://www.beeradvocate.com/beer/profile/10321/49058/?view=beer&sort=&start=1075\n",
      "https://www.beeradvocate.com/beer/profile/10321/49058/?view=beer&sort=&start=1100\n",
      "https://www.beeradvocate.com/beer/profile/10321/49058/?view=beer&sort=&start=1125\n",
      "https://www.beeradvocate.com/beer/profile/18858/65392/?view=beer&sort=&start=0\n",
      "https://www.beeradvocate.com/beer/profile/18858/65392/?view=beer&sort=&start=25\n",
      "https://www.beeradvocate.com/beer/profile/18858/65392/?view=beer&sort=&start=50\n",
      "https://www.beeradvocate.com/beer/profile/18858/65392/?view=beer&sort=&start=75\n",
      "https://www.beeradvocate.com/beer/profile/18858/65392/?view=beer&sort=&start=100\n",
      "https://www.beeradvocate.com/beer/profile/18858/65392/?view=beer&sort=&start=125\n",
      "https://www.beeradvocate.com/beer/profile/18858/65392/?view=beer&sort=&start=150\n",
      "https://www.beeradvocate.com/beer/profile/18858/65392/?view=beer&sort=&start=175\n",
      "https://www.beeradvocate.com/beer/profile/18858/186239/?view=beer&sort=&start=0\n",
      "https://www.beeradvocate.com/beer/profile/18858/186239/?view=beer&sort=&start=25\n",
      "https://www.beeradvocate.com/beer/profile/18858/186239/?view=beer&sort=&start=50\n",
      "https://www.beeradvocate.com/beer/profile/18858/186239/?view=beer&sort=&start=75\n",
      "https://www.beeradvocate.com/beer/profile/18858/56157/?view=beer&sort=&start=0\n",
      "https://www.beeradvocate.com/beer/profile/18858/56157/?view=beer&sort=&start=25\n",
      "https://www.beeradvocate.com/beer/profile/18858/56157/?view=beer&sort=&start=50\n",
      "https://www.beeradvocate.com/beer/profile/18858/56157/?view=beer&sort=&start=75\n",
      "https://www.beeradvocate.com/beer/profile/18858/56157/?view=beer&sort=&start=100\n"
     ]
    },
    {
     "name": "stdout",
     "output_type": "stream",
     "text": [
      "https://www.beeradvocate.com/beer/profile/18858/56157/?view=beer&sort=&start=125\n",
      "https://www.beeradvocate.com/beer/profile/32184/114582/?view=beer&sort=&start=0\n",
      "https://www.beeradvocate.com/beer/profile/32184/114582/?view=beer&sort=&start=25\n",
      "https://www.beeradvocate.com/beer/profile/32184/114582/?view=beer&sort=&start=50\n",
      "https://www.beeradvocate.com/beer/profile/32184/114582/?view=beer&sort=&start=75\n",
      "https://www.beeradvocate.com/beer/profile/32184/114582/?view=beer&sort=&start=100\n",
      "https://www.beeradvocate.com/beer/profile/32184/114582/?view=beer&sort=&start=125\n",
      "https://www.beeradvocate.com/beer/profile/10321/66444/?view=beer&sort=&start=0\n",
      "https://www.beeradvocate.com/beer/profile/10321/66444/?view=beer&sort=&start=25\n",
      "https://www.beeradvocate.com/beer/profile/10321/66444/?view=beer&sort=&start=50\n",
      "https://www.beeradvocate.com/beer/profile/10321/66444/?view=beer&sort=&start=75\n",
      "https://www.beeradvocate.com/beer/profile/10321/66444/?view=beer&sort=&start=100\n",
      "https://www.beeradvocate.com/beer/profile/10321/66444/?view=beer&sort=&start=125\n",
      "https://www.beeradvocate.com/beer/profile/10321/66444/?view=beer&sort=&start=150\n",
      "https://www.beeradvocate.com/beer/profile/10321/66444/?view=beer&sort=&start=175\n",
      "https://www.beeradvocate.com/beer/profile/18858/75390/?view=beer&sort=&start=0\n",
      "https://www.beeradvocate.com/beer/profile/18858/75390/?view=beer&sort=&start=25\n",
      "https://www.beeradvocate.com/beer/profile/18858/75390/?view=beer&sort=&start=50\n",
      "https://www.beeradvocate.com/beer/profile/43553/265429/?view=beer&sort=&start=0\n",
      "https://www.beeradvocate.com/beer/profile/43553/265429/?view=beer&sort=&start=25\n",
      "https://www.beeradvocate.com/beer/profile/18858/46815/?view=beer&sort=&start=0\n",
      "https://www.beeradvocate.com/beer/profile/18858/46815/?view=beer&sort=&start=25\n",
      "https://www.beeradvocate.com/beer/profile/18858/46815/?view=beer&sort=&start=50\n",
      "https://www.beeradvocate.com/beer/profile/18858/46815/?view=beer&sort=&start=75\n",
      "https://www.beeradvocate.com/beer/profile/18858/46815/?view=beer&sort=&start=100\n",
      "https://www.beeradvocate.com/beer/profile/18858/46815/?view=beer&sort=&start=125\n",
      "https://www.beeradvocate.com/beer/profile/10321/52943/?view=beer&sort=&start=0\n",
      "https://www.beeradvocate.com/beer/profile/10321/52943/?view=beer&sort=&start=25\n",
      "https://www.beeradvocate.com/beer/profile/10321/52943/?view=beer&sort=&start=50\n",
      "https://www.beeradvocate.com/beer/profile/10321/52943/?view=beer&sort=&start=75\n",
      "https://www.beeradvocate.com/beer/profile/10321/52943/?view=beer&sort=&start=100\n",
      "https://www.beeradvocate.com/beer/profile/10321/52943/?view=beer&sort=&start=125\n",
      "https://www.beeradvocate.com/beer/profile/10321/52943/?view=beer&sort=&start=150\n",
      "https://www.beeradvocate.com/beer/profile/29378/93511/?view=beer&sort=&start=0\n",
      "https://www.beeradvocate.com/beer/profile/29378/93511/?view=beer&sort=&start=25\n",
      "https://www.beeradvocate.com/beer/profile/29378/93511/?view=beer&sort=&start=50\n",
      "https://www.beeradvocate.com/beer/profile/3449/251901/?view=beer&sort=&start=0\n",
      "https://www.beeradvocate.com/beer/profile/3449/251901/?view=beer&sort=&start=25\n",
      "https://www.beeradvocate.com/beer/profile/3449/251901/?view=beer&sort=&start=50\n",
      "https://www.beeradvocate.com/beer/profile/3449/251901/?view=beer&sort=&start=75\n",
      "https://www.beeradvocate.com/beer/profile/3449/251901/?view=beer&sort=&start=100\n",
      "https://www.beeradvocate.com/beer/profile/32184/160184/?view=beer&sort=&start=0\n",
      "https://www.beeradvocate.com/beer/profile/32184/160184/?view=beer&sort=&start=25\n",
      "https://www.beeradvocate.com/beer/profile/18858/72267/?view=beer&sort=&start=0\n",
      "https://www.beeradvocate.com/beer/profile/18858/72267/?view=beer&sort=&start=25\n",
      "https://www.beeradvocate.com/beer/profile/18858/72267/?view=beer&sort=&start=50\n",
      "https://www.beeradvocate.com/beer/profile/18858/72267/?view=beer&sort=&start=75\n",
      "https://www.beeradvocate.com/beer/profile/35919/132274/?view=beer&sort=&start=0\n",
      "https://www.beeradvocate.com/beer/profile/35919/132274/?view=beer&sort=&start=25\n",
      "https://www.beeradvocate.com/beer/profile/35919/132274/?view=beer&sort=&start=50\n",
      "https://www.beeradvocate.com/beer/profile/35919/132274/?view=beer&sort=&start=75\n",
      "https://www.beeradvocate.com/beer/profile/4568/16211/?view=beer&sort=&start=0\n",
      "https://www.beeradvocate.com/beer/profile/4568/16211/?view=beer&sort=&start=25\n",
      "https://www.beeradvocate.com/beer/profile/4568/16211/?view=beer&sort=&start=50\n",
      "https://www.beeradvocate.com/beer/profile/11977/44763/?view=beer&sort=&start=0\n",
      "https://www.beeradvocate.com/beer/profile/11977/44763/?view=beer&sort=&start=25\n",
      "https://www.beeradvocate.com/beer/profile/11977/44763/?view=beer&sort=&start=50\n",
      "https://www.beeradvocate.com/beer/profile/11977/44763/?view=beer&sort=&start=75\n",
      "https://www.beeradvocate.com/beer/profile/11977/44763/?view=beer&sort=&start=100\n",
      "https://www.beeradvocate.com/beer/profile/11977/44763/?view=beer&sort=&start=125\n",
      "https://www.beeradvocate.com/beer/profile/11977/44763/?view=beer&sort=&start=150\n",
      "https://www.beeradvocate.com/beer/profile/11977/44763/?view=beer&sort=&start=175\n",
      "https://www.beeradvocate.com/beer/profile/11977/44763/?view=beer&sort=&start=200\n",
      "https://www.beeradvocate.com/beer/profile/18858/46769/?view=beer&sort=&start=0\n",
      "https://www.beeradvocate.com/beer/profile/18858/46769/?view=beer&sort=&start=25\n",
      "https://www.beeradvocate.com/beer/profile/18858/46769/?view=beer&sort=&start=50\n",
      "https://www.beeradvocate.com/beer/profile/18858/46769/?view=beer&sort=&start=75\n",
      "https://www.beeradvocate.com/beer/profile/18858/46769/?view=beer&sort=&start=100\n",
      "https://www.beeradvocate.com/beer/profile/32184/142498/?view=beer&sort=&start=0\n",
      "https://www.beeradvocate.com/beer/profile/32184/142498/?view=beer&sort=&start=25\n",
      "https://www.beeradvocate.com/beer/profile/32184/118461/?view=beer&sort=&start=0\n",
      "https://www.beeradvocate.com/beer/profile/32184/118461/?view=beer&sort=&start=25\n",
      "https://www.beeradvocate.com/beer/profile/32184/118461/?view=beer&sort=&start=50\n",
      "https://www.beeradvocate.com/beer/profile/32184/97080/?view=beer&sort=&start=0\n",
      "https://www.beeradvocate.com/beer/profile/32184/97080/?view=beer&sort=&start=25\n",
      "https://www.beeradvocate.com/beer/profile/32184/97080/?view=beer&sort=&start=50\n",
      "https://www.beeradvocate.com/beer/profile/32184/97080/?view=beer&sort=&start=75\n",
      "https://www.beeradvocate.com/beer/profile/43553/206638/?view=beer&sort=&start=0\n",
      "https://www.beeradvocate.com/beer/profile/43553/206638/?view=beer&sort=&start=25\n",
      "https://www.beeradvocate.com/beer/profile/2385/77793/?view=beer&sort=&start=0\n",
      "https://www.beeradvocate.com/beer/profile/2385/77793/?view=beer&sort=&start=25\n",
      "https://www.beeradvocate.com/beer/profile/32184/106316/?view=beer&sort=&start=0\n",
      "https://www.beeradvocate.com/beer/profile/32184/106316/?view=beer&sort=&start=25\n",
      "https://www.beeradvocate.com/beer/profile/2385/79399/?view=beer&sort=&start=0\n",
      "https://www.beeradvocate.com/beer/profile/2385/79399/?view=beer&sort=&start=25\n",
      "https://www.beeradvocate.com/beer/profile/2385/79399/?view=beer&sort=&start=50\n",
      "https://www.beeradvocate.com/beer/profile/2385/79399/?view=beer&sort=&start=75\n",
      "https://www.beeradvocate.com/beer/profile/2385/79399/?view=beer&sort=&start=100\n",
      "https://www.beeradvocate.com/beer/profile/2385/79399/?view=beer&sort=&start=125\n",
      "https://www.beeradvocate.com/beer/profile/50933/312524/?view=beer&sort=&start=0\n",
      "https://www.beeradvocate.com/beer/profile/43553/332467/?view=beer&sort=&start=0\n",
      "https://www.beeradvocate.com/beer/profile/2675/90961/?view=beer&sort=&start=0\n",
      "https://www.beeradvocate.com/beer/profile/2675/90961/?view=beer&sort=&start=25\n",
      "https://www.beeradvocate.com/beer/profile/2675/90961/?view=beer&sort=&start=50\n",
      "https://www.beeradvocate.com/beer/profile/2675/65337/?view=beer&sort=&start=0\n",
      "https://www.beeradvocate.com/beer/profile/2675/65337/?view=beer&sort=&start=25\n",
      "https://www.beeradvocate.com/beer/profile/2675/65337/?view=beer&sort=&start=50\n",
      "https://www.beeradvocate.com/beer/profile/3445/73604/?view=beer&sort=&start=0\n",
      "https://www.beeradvocate.com/beer/profile/3445/73604/?view=beer&sort=&start=25\n",
      "https://www.beeradvocate.com/beer/profile/35919/193023/?view=beer&sort=&start=0\n",
      "https://www.beeradvocate.com/beer/profile/35919/193023/?view=beer&sort=&start=25\n",
      "https://www.beeradvocate.com/beer/profile/35919/258435/?view=beer&sort=&start=0\n",
      "https://www.beeradvocate.com/beer/profile/35919/258435/?view=beer&sort=&start=25\n"
     ]
    },
    {
     "name": "stdout",
     "output_type": "stream",
     "text": [
      "https://www.beeradvocate.com/beer/profile/49780/293278/?view=beer&sort=&start=0\n",
      "https://www.beeradvocate.com/beer/profile/49780/293278/?view=beer&sort=&start=25\n",
      "https://www.beeradvocate.com/beer/profile/11977/77012/?view=beer&sort=&start=0\n",
      "https://www.beeradvocate.com/beer/profile/11977/77012/?view=beer&sort=&start=25\n",
      "https://www.beeradvocate.com/beer/profile/11977/77012/?view=beer&sort=&start=50\n",
      "https://www.beeradvocate.com/beer/profile/11977/77012/?view=beer&sort=&start=75\n",
      "https://www.beeradvocate.com/beer/profile/11977/77012/?view=beer&sort=&start=100\n",
      "https://www.beeradvocate.com/beer/profile/2675/21164/?view=beer&sort=&start=0\n",
      "https://www.beeradvocate.com/beer/profile/2675/21164/?view=beer&sort=&start=25\n",
      "https://www.beeradvocate.com/beer/profile/2675/21164/?view=beer&sort=&start=50\n",
      "https://www.beeradvocate.com/beer/profile/2675/21164/?view=beer&sort=&start=75\n",
      "https://www.beeradvocate.com/beer/profile/2675/21164/?view=beer&sort=&start=100\n",
      "https://www.beeradvocate.com/beer/profile/2675/21164/?view=beer&sort=&start=125\n",
      "https://www.beeradvocate.com/beer/profile/2675/21164/?view=beer&sort=&start=150\n",
      "https://www.beeradvocate.com/beer/profile/2675/21164/?view=beer&sort=&start=175\n",
      "https://www.beeradvocate.com/beer/profile/2675/21164/?view=beer&sort=&start=200\n",
      "https://www.beeradvocate.com/beer/profile/2675/21164/?view=beer&sort=&start=225\n",
      "https://www.beeradvocate.com/beer/profile/2675/21164/?view=beer&sort=&start=250\n",
      "https://www.beeradvocate.com/beer/profile/2385/96190/?view=beer&sort=&start=0\n",
      "https://www.beeradvocate.com/beer/profile/2385/96190/?view=beer&sort=&start=25\n",
      "https://www.beeradvocate.com/beer/profile/2385/96190/?view=beer&sort=&start=50\n",
      "https://www.beeradvocate.com/beer/profile/3445/16766/?view=beer&sort=&start=0\n",
      "https://www.beeradvocate.com/beer/profile/3445/16766/?view=beer&sort=&start=25\n",
      "https://www.beeradvocate.com/beer/profile/43553/277927/?view=beer&sort=&start=0\n",
      "https://www.beeradvocate.com/beer/profile/18858/145084/?view=beer&sort=&start=0\n",
      "https://www.beeradvocate.com/beer/profile/18858/145084/?view=beer&sort=&start=25\n",
      "https://www.beeradvocate.com/beer/profile/18858/145084/?view=beer&sort=&start=50\n",
      "https://www.beeradvocate.com/beer/profile/43553/307515/?view=beer&sort=&start=0\n",
      "https://www.beeradvocate.com/beer/profile/32889/111454/?view=beer&sort=&start=0\n",
      "https://www.beeradvocate.com/beer/profile/32889/111454/?view=beer&sort=&start=25\n",
      "https://www.beeradvocate.com/beer/profile/32184/233797/?view=beer&sort=&start=0\n",
      "https://www.beeradvocate.com/beer/profile/32184/233797/?view=beer&sort=&start=25\n",
      "https://www.beeradvocate.com/beer/profile/32184/178624/?view=beer&sort=&start=0\n",
      "https://www.beeradvocate.com/beer/profile/25428/73356/?view=beer&sort=&start=0\n",
      "https://www.beeradvocate.com/beer/profile/25428/73356/?view=beer&sort=&start=25\n",
      "https://www.beeradvocate.com/beer/profile/25428/73356/?view=beer&sort=&start=50\n",
      "https://www.beeradvocate.com/beer/profile/32184/253110/?view=beer&sort=&start=0\n",
      "https://www.beeradvocate.com/beer/profile/32184/162292/?view=beer&sort=&start=0\n",
      "https://www.beeradvocate.com/beer/profile/32184/162292/?view=beer&sort=&start=25\n",
      "https://www.beeradvocate.com/beer/profile/10321/26380/?view=beer&sort=&start=0\n",
      "https://www.beeradvocate.com/beer/profile/10321/26380/?view=beer&sort=&start=25\n",
      "https://www.beeradvocate.com/beer/profile/10321/26380/?view=beer&sort=&start=50\n",
      "https://www.beeradvocate.com/beer/profile/10321/26380/?view=beer&sort=&start=75\n",
      "https://www.beeradvocate.com/beer/profile/10321/26380/?view=beer&sort=&start=100\n",
      "https://www.beeradvocate.com/beer/profile/10321/26380/?view=beer&sort=&start=125\n",
      "https://www.beeradvocate.com/beer/profile/10321/26380/?view=beer&sort=&start=150\n",
      "https://www.beeradvocate.com/beer/profile/11977/65145/?view=beer&sort=&start=0\n",
      "https://www.beeradvocate.com/beer/profile/11977/65145/?view=beer&sort=&start=25\n",
      "https://www.beeradvocate.com/beer/profile/11977/65145/?view=beer&sort=&start=50\n",
      "https://www.beeradvocate.com/beer/profile/11977/65145/?view=beer&sort=&start=75\n",
      "https://www.beeradvocate.com/beer/profile/11977/65145/?view=beer&sort=&start=100\n",
      "https://www.beeradvocate.com/beer/profile/11977/65145/?view=beer&sort=&start=125\n",
      "https://www.beeradvocate.com/beer/profile/11977/65145/?view=beer&sort=&start=150\n",
      "https://www.beeradvocate.com/beer/profile/18858/46708/?view=beer&sort=&start=0\n",
      "https://www.beeradvocate.com/beer/profile/18858/46708/?view=beer&sort=&start=25\n",
      "https://www.beeradvocate.com/beer/profile/18858/46708/?view=beer&sort=&start=50\n",
      "https://www.beeradvocate.com/beer/profile/18858/46708/?view=beer&sort=&start=75\n",
      "https://www.beeradvocate.com/beer/profile/18858/46708/?view=beer&sort=&start=100\n",
      "https://www.beeradvocate.com/beer/profile/18858/46708/?view=beer&sort=&start=125\n",
      "https://www.beeradvocate.com/beer/profile/18858/46708/?view=beer&sort=&start=150\n",
      "https://www.beeradvocate.com/beer/profile/18858/46708/?view=beer&sort=&start=175\n",
      "https://www.beeradvocate.com/beer/profile/43154/250105/?view=beer&sort=&start=0\n",
      "https://www.beeradvocate.com/beer/profile/43154/260501/?view=beer&sort=&start=0\n",
      "https://www.beeradvocate.com/beer/profile/4045/57213/?view=beer&sort=&start=0\n",
      "https://www.beeradvocate.com/beer/profile/4045/57213/?view=beer&sort=&start=25\n",
      "https://www.beeradvocate.com/beer/profile/4045/57213/?view=beer&sort=&start=50\n",
      "https://www.beeradvocate.com/beer/profile/4045/57213/?view=beer&sort=&start=75\n",
      "https://www.beeradvocate.com/beer/profile/4045/57213/?view=beer&sort=&start=100\n",
      "https://www.beeradvocate.com/beer/profile/10321/148272/?view=beer&sort=&start=0\n",
      "https://www.beeradvocate.com/beer/profile/10321/148272/?view=beer&sort=&start=25\n",
      "https://www.beeradvocate.com/beer/profile/10321/148272/?view=beer&sort=&start=50\n",
      "https://www.beeradvocate.com/beer/profile/10321/148272/?view=beer&sort=&start=75\n",
      "https://www.beeradvocate.com/beer/profile/29378/190633/?view=beer&sort=&start=0\n",
      "https://www.beeradvocate.com/beer/profile/29378/190633/?view=beer&sort=&start=25\n",
      "https://www.beeradvocate.com/beer/profile/50933/311267/?view=beer&sort=&start=0\n",
      "https://www.beeradvocate.com/beer/profile/29378/88708/?view=beer&sort=&start=0\n",
      "https://www.beeradvocate.com/beer/profile/29378/88708/?view=beer&sort=&start=25\n",
      "https://www.beeradvocate.com/beer/profile/29378/88708/?view=beer&sort=&start=50\n",
      "https://www.beeradvocate.com/beer/profile/50933/311268/?view=beer&sort=&start=0\n",
      "https://www.beeradvocate.com/beer/profile/2675/40768/?view=beer&sort=&start=0\n",
      "https://www.beeradvocate.com/beer/profile/2675/40768/?view=beer&sort=&start=25\n",
      "https://www.beeradvocate.com/beer/profile/29378/159921/?view=beer&sort=&start=0\n",
      "https://www.beeradvocate.com/beer/profile/29378/159921/?view=beer&sort=&start=25\n",
      "https://www.beeradvocate.com/beer/profile/33013/115159/?view=beer&sort=&start=0\n",
      "https://www.beeradvocate.com/beer/profile/10321/118317/?view=beer&sort=&start=0\n",
      "https://www.beeradvocate.com/beer/profile/10321/118317/?view=beer&sort=&start=25\n",
      "https://www.beeradvocate.com/beer/profile/10321/118317/?view=beer&sort=&start=50\n",
      "https://www.beeradvocate.com/beer/profile/10321/118317/?view=beer&sort=&start=75\n",
      "https://www.beeradvocate.com/beer/profile/10321/118317/?view=beer&sort=&start=100\n",
      "https://www.beeradvocate.com/beer/profile/10321/118317/?view=beer&sort=&start=125\n",
      "https://www.beeradvocate.com/beer/profile/10321/118317/?view=beer&sort=&start=150\n",
      "https://www.beeradvocate.com/beer/profile/29378/85697/?view=beer&sort=&start=0\n",
      "https://www.beeradvocate.com/beer/profile/29378/85697/?view=beer&sort=&start=25\n",
      "https://www.beeradvocate.com/beer/profile/29378/85697/?view=beer&sort=&start=50\n",
      "https://www.beeradvocate.com/beer/profile/23326/177478/?view=beer&sort=&start=0\n",
      "https://www.beeradvocate.com/beer/profile/492/1401/?view=beer&sort=&start=0\n",
      "https://www.beeradvocate.com/beer/profile/492/1401/?view=beer&sort=&start=25\n",
      "https://www.beeradvocate.com/beer/profile/492/1401/?view=beer&sort=&start=50\n",
      "https://www.beeradvocate.com/beer/profile/492/1401/?view=beer&sort=&start=75\n",
      "https://www.beeradvocate.com/beer/profile/30578/165141/?view=beer&sort=&start=0\n",
      "https://www.beeradvocate.com/beer/profile/29378/87230/?view=beer&sort=&start=0\n",
      "https://www.beeradvocate.com/beer/profile/29378/87230/?view=beer&sort=&start=25\n",
      "https://www.beeradvocate.com/beer/profile/29378/87230/?view=beer&sort=&start=50\n"
     ]
    },
    {
     "name": "stdout",
     "output_type": "stream",
     "text": [
      "https://www.beeradvocate.com/beer/profile/29378/87230/?view=beer&sort=&start=75\n",
      "https://www.beeradvocate.com/beer/profile/29378/87230/?view=beer&sort=&start=100\n",
      "https://www.beeradvocate.com/beer/profile/29378/87230/?view=beer&sort=&start=125\n",
      "https://www.beeradvocate.com/beer/profile/29378/87230/?view=beer&sort=&start=150\n",
      "https://www.beeradvocate.com/beer/profile/29378/87230/?view=beer&sort=&start=175\n",
      "https://www.beeradvocate.com/beer/profile/29378/87230/?view=beer&sort=&start=200\n",
      "https://www.beeradvocate.com/beer/profile/29378/87230/?view=beer&sort=&start=225\n",
      "https://www.beeradvocate.com/beer/profile/29378/87230/?view=beer&sort=&start=250\n",
      "https://www.beeradvocate.com/beer/profile/29378/87230/?view=beer&sort=&start=275\n",
      "https://www.beeradvocate.com/beer/profile/35134/143813/?view=beer&sort=&start=0\n",
      "https://www.beeradvocate.com/beer/profile/35134/143813/?view=beer&sort=&start=25\n",
      "https://www.beeradvocate.com/beer/profile/32184/101282/?view=beer&sort=&start=0\n",
      "https://www.beeradvocate.com/beer/profile/32184/101282/?view=beer&sort=&start=25\n",
      "https://www.beeradvocate.com/beer/profile/43154/256674/?view=beer&sort=&start=0\n",
      "https://www.beeradvocate.com/beer/profile/29378/106791/?view=beer&sort=&start=0\n",
      "https://www.beeradvocate.com/beer/profile/29378/106791/?view=beer&sort=&start=25\n",
      "https://www.beeradvocate.com/beer/profile/29378/106791/?view=beer&sort=&start=50\n",
      "https://www.beeradvocate.com/beer/profile/29378/106791/?view=beer&sort=&start=75\n",
      "https://www.beeradvocate.com/beer/profile/32184/115900/?view=beer&sort=&start=0\n",
      "https://www.beeradvocate.com/beer/profile/32184/115900/?view=beer&sort=&start=25\n",
      "https://www.beeradvocate.com/beer/profile/4045/165532/?view=beer&sort=&start=0\n",
      "https://www.beeradvocate.com/beer/profile/4045/165532/?view=beer&sort=&start=25\n",
      "https://www.beeradvocate.com/beer/profile/18858/47230/?view=beer&sort=&start=0\n",
      "https://www.beeradvocate.com/beer/profile/18858/47230/?view=beer&sort=&start=25\n",
      "https://www.beeradvocate.com/beer/profile/18858/47230/?view=beer&sort=&start=50\n",
      "https://www.beeradvocate.com/beer/profile/18858/47230/?view=beer&sort=&start=75\n",
      "https://www.beeradvocate.com/beer/profile/18858/47230/?view=beer&sort=&start=100\n",
      "https://www.beeradvocate.com/beer/profile/18858/47230/?view=beer&sort=&start=125\n",
      "https://www.beeradvocate.com/beer/profile/23326/184914/?view=beer&sort=&start=0\n",
      "https://www.beeradvocate.com/beer/profile/33013/105598/?view=beer&sort=&start=0\n",
      "https://www.beeradvocate.com/beer/profile/33013/105598/?view=beer&sort=&start=25\n",
      "https://www.beeradvocate.com/beer/profile/43154/265439/?view=beer&sort=&start=0\n",
      "https://www.beeradvocate.com/beer/profile/32889/117215/?view=beer&sort=&start=0\n",
      "https://www.beeradvocate.com/beer/profile/32889/117215/?view=beer&sort=&start=25\n",
      "https://www.beeradvocate.com/beer/profile/32184/227752/?view=beer&sort=&start=0\n",
      "https://www.beeradvocate.com/beer/profile/32184/227752/?view=beer&sort=&start=25\n",
      "https://www.beeradvocate.com/beer/profile/35919/253483/?view=beer&sort=&start=0\n",
      "https://www.beeradvocate.com/beer/profile/38227/238653/?view=beer&sort=&start=0\n",
      "https://www.beeradvocate.com/beer/profile/18858/86261/?view=beer&sort=&start=0\n",
      "https://www.beeradvocate.com/beer/profile/18858/86261/?view=beer&sort=&start=25\n",
      "https://www.beeradvocate.com/beer/profile/2675/49710/?view=beer&sort=&start=0\n",
      "https://www.beeradvocate.com/beer/profile/2675/49710/?view=beer&sort=&start=25\n",
      "https://www.beeradvocate.com/beer/profile/43154/253480/?view=beer&sort=&start=0\n",
      "https://www.beeradvocate.com/beer/profile/43154/253480/?view=beer&sort=&start=25\n",
      "https://www.beeradvocate.com/beer/profile/10321/82139/?view=beer&sort=&start=0\n",
      "https://www.beeradvocate.com/beer/profile/10321/82139/?view=beer&sort=&start=25\n",
      "https://www.beeradvocate.com/beer/profile/10321/82139/?view=beer&sort=&start=50\n",
      "https://www.beeradvocate.com/beer/profile/2385/5991/?view=beer&sort=&start=0\n",
      "https://www.beeradvocate.com/beer/profile/2385/5991/?view=beer&sort=&start=25\n",
      "https://www.beeradvocate.com/beer/profile/2385/5991/?view=beer&sort=&start=50\n",
      "https://www.beeradvocate.com/beer/profile/35134/146699/?view=beer&sort=&start=0\n",
      "https://www.beeradvocate.com/beer/profile/35134/146699/?view=beer&sort=&start=25\n",
      "https://www.beeradvocate.com/beer/profile/10321/200197/?view=beer&sort=&start=0\n",
      "https://www.beeradvocate.com/beer/profile/4045/79262/?view=beer&sort=&start=0\n",
      "https://www.beeradvocate.com/beer/profile/32889/103017/?view=beer&sort=&start=0\n",
      "https://www.beeradvocate.com/beer/profile/11977/25179/?view=beer&sort=&start=0\n",
      "https://www.beeradvocate.com/beer/profile/11977/25179/?view=beer&sort=&start=25\n",
      "https://www.beeradvocate.com/beer/profile/11977/25179/?view=beer&sort=&start=50\n",
      "https://www.beeradvocate.com/beer/profile/32184/103294/?view=beer&sort=&start=0\n",
      "https://www.beeradvocate.com/beer/profile/32184/103294/?view=beer&sort=&start=25\n",
      "https://www.beeradvocate.com/beer/profile/32184/103294/?view=beer&sort=&start=50\n",
      "https://www.beeradvocate.com/beer/profile/1250/24594/?view=beer&sort=&start=0\n",
      "https://www.beeradvocate.com/beer/profile/1250/24594/?view=beer&sort=&start=25\n",
      "https://www.beeradvocate.com/beer/profile/43553/295230/?view=beer&sort=&start=0\n",
      "https://www.beeradvocate.com/beer/profile/38070/150570/?view=beer&sort=&start=0\n",
      "https://www.beeradvocate.com/beer/profile/38070/150570/?view=beer&sort=&start=25\n",
      "https://www.beeradvocate.com/beer/profile/780/9983/?view=beer&sort=&start=0\n",
      "https://www.beeradvocate.com/beer/profile/2594/46572/?view=beer&sort=&start=0\n",
      "https://www.beeradvocate.com/beer/profile/2594/46572/?view=beer&sort=&start=25\n",
      "https://www.beeradvocate.com/beer/profile/2594/46572/?view=beer&sort=&start=50\n",
      "https://www.beeradvocate.com/beer/profile/2594/46572/?view=beer&sort=&start=75\n",
      "https://www.beeradvocate.com/beer/profile/2594/46572/?view=beer&sort=&start=100\n",
      "https://www.beeradvocate.com/beer/profile/2594/46572/?view=beer&sort=&start=125\n",
      "https://www.beeradvocate.com/beer/profile/2594/46572/?view=beer&sort=&start=150\n",
      "https://www.beeradvocate.com/beer/profile/28086/77943/?view=beer&sort=&start=0\n",
      "https://www.beeradvocate.com/beer/profile/28086/77943/?view=beer&sort=&start=25\n",
      "https://www.beeradvocate.com/beer/profile/28086/77943/?view=beer&sort=&start=50\n"
     ]
    }
   ],
   "source": [
    "rate, reviews, avg_user = webstite_scrape_p2 (beer_link, number_of_ratings)"
   ]
  },
  {
   "cell_type": "code",
   "execution_count": 96,
   "metadata": {},
   "outputs": [],
   "source": [
    "beer_p2 = pd.DataFrame({'rate': rate, 'reviews': reviews, 'avg_user_rev':avg_user })"
   ]
  },
  {
   "cell_type": "code",
   "execution_count": 116,
   "metadata": {},
   "outputs": [],
   "source": [
    "#beer_p2.to_csv(\"user_reviews.csv\", index= False)"
   ]
  },
  {
   "cell_type": "code",
   "execution_count": 117,
   "metadata": {},
   "outputs": [
    {
     "data": {
      "text/html": [
       "<div>\n",
       "<style scoped>\n",
       "    .dataframe tbody tr th:only-of-type {\n",
       "        vertical-align: middle;\n",
       "    }\n",
       "\n",
       "    .dataframe tbody tr th {\n",
       "        vertical-align: top;\n",
       "    }\n",
       "\n",
       "    .dataframe thead th {\n",
       "        text-align: right;\n",
       "    }\n",
       "</style>\n",
       "<table border=\"1\" class=\"dataframe\">\n",
       "  <thead>\n",
       "    <tr style=\"text-align: right;\">\n",
       "      <th></th>\n",
       "      <th>rate</th>\n",
       "      <th>reviews</th>\n",
       "      <th>avg_user_rev</th>\n",
       "      <th>beers</th>\n",
       "    </tr>\n",
       "  </thead>\n",
       "  <tbody>\n",
       "    <tr>\n",
       "      <th>0</th>\n",
       "      <td>[look: 4.5 | smell: 4.75 | taste: 4.25 | feel:...</td>\n",
       "      <td>[\\n\\n\\n\\n\\n\\n\\nHome\\n\\n\\n\\nAbout Us\\nAdvertise...</td>\n",
       "      <td>[4.36, 4.31, 4.6, 4.2, 5, 3.4, 3.9, 4.54, 4.46...</td>\n",
       "      <td>Nectarous</td>\n",
       "    </tr>\n",
       "    <tr>\n",
       "      <th>1</th>\n",
       "      <td>[look: 4.5 | smell: 4.75 | taste: 4.25 | feel:...</td>\n",
       "      <td>[\\n\\n\\n\\n\\n\\n\\nHome\\n\\n\\n\\nAbout Us\\nAdvertise...</td>\n",
       "      <td>[4.36, 4.2, 5, 3.4, 3.9, 4.54, 4.21, 4.99, 4.2...</td>\n",
       "      <td>Nectarous</td>\n",
       "    </tr>\n",
       "    <tr>\n",
       "      <th>2</th>\n",
       "      <td>[look: 4.5 | smell: 4.75 | taste: 4.25 | feel:...</td>\n",
       "      <td>[\\n\\n\\n\\n\\n\\n\\nHome\\n\\n\\n\\nAbout Us\\nAdvertise...</td>\n",
       "      <td>[4.36, 4.31, 4.6, 4.2, 5, 3.4, 3.9, 4.54, 4.46...</td>\n",
       "      <td>Nectarous</td>\n",
       "    </tr>\n",
       "    <tr>\n",
       "      <th>3</th>\n",
       "      <td>[look: 4.5 | smell: 4.75 | taste: 4.25 | feel:...</td>\n",
       "      <td>[\\n\\n\\n\\n\\n\\n\\nHome\\n\\n\\n\\nAbout Us\\nAdvertise...</td>\n",
       "      <td>[4.36, 4.2, 5, 3.4, 3.9, 4.54, 4.21, 4.99, 4.2...</td>\n",
       "      <td>Nectarous</td>\n",
       "    </tr>\n",
       "    <tr>\n",
       "      <th>4</th>\n",
       "      <td>[look: 4.5 | smell: 4.75 | taste: 4.25 | feel:...</td>\n",
       "      <td>[\\n\\n\\n\\n\\n\\n\\nHome\\n\\n\\n\\nAbout Us\\nAdvertise...</td>\n",
       "      <td>[4.36, 4.31, 4.6, 4.2, 5, 3.4, 3.9, 4.54, 4.46...</td>\n",
       "      <td>Nectarous</td>\n",
       "    </tr>\n",
       "  </tbody>\n",
       "</table>\n",
       "</div>"
      ],
      "text/plain": [
       "                                                rate  \\\n",
       "0  [look: 4.5 | smell: 4.75 | taste: 4.25 | feel:...   \n",
       "1  [look: 4.5 | smell: 4.75 | taste: 4.25 | feel:...   \n",
       "2  [look: 4.5 | smell: 4.75 | taste: 4.25 | feel:...   \n",
       "3  [look: 4.5 | smell: 4.75 | taste: 4.25 | feel:...   \n",
       "4  [look: 4.5 | smell: 4.75 | taste: 4.25 | feel:...   \n",
       "\n",
       "                                             reviews  \\\n",
       "0  [\\n\\n\\n\\n\\n\\n\\nHome\\n\\n\\n\\nAbout Us\\nAdvertise...   \n",
       "1  [\\n\\n\\n\\n\\n\\n\\nHome\\n\\n\\n\\nAbout Us\\nAdvertise...   \n",
       "2  [\\n\\n\\n\\n\\n\\n\\nHome\\n\\n\\n\\nAbout Us\\nAdvertise...   \n",
       "3  [\\n\\n\\n\\n\\n\\n\\nHome\\n\\n\\n\\nAbout Us\\nAdvertise...   \n",
       "4  [\\n\\n\\n\\n\\n\\n\\nHome\\n\\n\\n\\nAbout Us\\nAdvertise...   \n",
       "\n",
       "                                        avg_user_rev      beers  \n",
       "0  [4.36, 4.31, 4.6, 4.2, 5, 3.4, 3.9, 4.54, 4.46...  Nectarous  \n",
       "1  [4.36, 4.2, 5, 3.4, 3.9, 4.54, 4.21, 4.99, 4.2...  Nectarous  \n",
       "2  [4.36, 4.31, 4.6, 4.2, 5, 3.4, 3.9, 4.54, 4.46...  Nectarous  \n",
       "3  [4.36, 4.2, 5, 3.4, 3.9, 4.54, 4.21, 4.99, 4.2...  Nectarous  \n",
       "4  [4.36, 4.31, 4.6, 4.2, 5, 3.4, 3.9, 4.54, 4.46...  Nectarous  "
      ]
     },
     "execution_count": 117,
     "metadata": {},
     "output_type": "execute_result"
    }
   ],
   "source": [
    "beer_p2.head()"
   ]
  },
  {
   "cell_type": "code",
   "execution_count": 105,
   "metadata": {},
   "outputs": [
    {
     "data": {
      "text/plain": [
       "['look: 4.5 | smell: 4.75 | taste: 4.25 | feel: 4 | overall: 4.25',\n",
       " 'look: 4.25 | smell: 4.5 | taste: 4.25 | feel: 4.25 | overall: 4.25',\n",
       " 'look: 4.5 | smell: 4.5 | taste: 4.75 | feel: 4.5 | overall: 4.5',\n",
       " 'look: 4 | smell: 4.5 | taste: 4 | feel: 4.25 | overall: 4.25',\n",
       " 'look: 5 | smell: 5 | taste: 5 | feel: 5 | overall: 5',\n",
       " 'look: 3 | smell: 3 | taste: 4 | feel: 3 | overall: 3',\n",
       " 'look: 4 | smell: 4 | taste: 4 | feel: 3 | overall: 4',\n",
       " 'look: 4.5 | smell: 4.75 | taste: 4.5 | feel: 4.25 | overall: 4.5',\n",
       " 'look: 4.25 | smell: 4.5 | taste: 4.5 | feel: 4.25 | overall: 4.5',\n",
       " 'look: 4 | smell: 4.25 | taste: 4.25 | feel: 4 | overall: 4.25',\n",
       " 'look: 4.25 | smell: 4.75 | taste: 4.75 | feel: 4.5 | overall: 4.75',\n",
       " 'look: 4.5 | smell: 4.5 | taste: 4.5 | feel: 4.5 | overall: 4.5',\n",
       " 'look: 4 | smell: 4.75 | taste: 4.5 | feel: 4.75 | overall: 4.5',\n",
       " 'look: 4.75 | smell: 4.5 | taste: 4.75 | feel: 4.5 | overall: 4.75',\n",
       " 'look: 4 | smell: 4 | taste: 4 | feel: 4 | overall: 4',\n",
       " 'look: 4.25 | smell: 4.25 | taste: 4.25 | feel: 4.25 | overall: 4.25',\n",
       " 'look: 4 | smell: 4.5 | taste: 4.5 | feel: 4.25 | overall: 4.25',\n",
       " 'look: 5 | smell: 4.5 | taste: 5 | feel: 4.5 | overall: 4.5',\n",
       " 'look: 3.75 | smell: 3.75 | taste: 4 | feel: 3.75 | overall: 3.75',\n",
       " 'look: 4.5 | smell: 4.5 | taste: 4.5 | feel: 4.5 | overall: 4.5',\n",
       " 'look: 3.75 | smell: 3.75 | taste: 3.75 | feel: 3.75 | overall: 3.75',\n",
       " 'look: 4.75 | smell: 4.5 | taste: 5 | feel: 4.5 | overall: 4.75',\n",
       " 'look: 4.5 | smell: 4 | taste: 4.25 | feel: 4.25 | overall: 4',\n",
       " 'look: 4 | smell: 4 | taste: 4.25 | feel: 4.25 | overall: 4.25',\n",
       " 'look: 4 | smell: 4 | taste: 4 | feel: 4 | overall: 4',\n",
       " 'Signed in as']"
      ]
     },
     "execution_count": 105,
     "metadata": {},
     "output_type": "execute_result"
    }
   ],
   "source": [
    "beer_p2.rate[0]"
   ]
  },
  {
   "cell_type": "code",
   "execution_count": 113,
   "metadata": {},
   "outputs": [
    {
     "name": "stdout",
     "output_type": "stream",
     "text": [
      "385\n"
     ]
    }
   ],
   "source": [
    "beers=[]\n",
    "\n",
    "for beer, link, i in zip(beer_rev.name, beer_link, number_of_ratings): \n",
    "    for pages_i in range(0,int(i),25): #site shows 25 resulst/page)\n",
    "        new_url = link+'?view=beer&sort=&start=%d'%(pages_i)\n",
    "        beers.append(beer)\n",
    "print(len(beers))"
   ]
  },
  {
   "cell_type": "code",
   "execution_count": 115,
   "metadata": {},
   "outputs": [],
   "source": [
    "beer_p2['beers']= beers"
   ]
  },
  {
   "cell_type": "code",
   "execution_count": 120,
   "metadata": {},
   "outputs": [
    {
     "data": {
      "text/plain": [
       "246"
      ]
     },
     "execution_count": 120,
     "metadata": {},
     "output_type": "execute_result"
    }
   ],
   "source": [
    "len(beer_p2.reviews[0])"
   ]
  },
  {
   "cell_type": "code",
   "execution_count": 133,
   "metadata": {},
   "outputs": [
    {
     "data": {
      "text/plain": [
       "32"
      ]
     },
     "execution_count": 133,
     "metadata": {},
     "output_type": "execute_result"
    }
   ],
   "source": [
    "clean_rev.index('first ← prev |\\xa01-25\\xa0|\\xa026-50\\xa0|\\xa051-75\\xa0 | next → last')"
   ]
  },
  {
   "cell_type": "code",
   "execution_count": 197,
   "metadata": {},
   "outputs": [
    {
     "name": "stdout",
     "output_type": "stream",
     "text": [
      "<class 'pandas.core.frame.DataFrame'>\n",
      "RangeIndex: 385 entries, 0 to 384\n",
      "Data columns (total 4 columns):\n",
      " #   Column        Non-Null Count  Dtype \n",
      "---  ------        --------------  ----- \n",
      " 0   rate          385 non-null    object\n",
      " 1   reviews       385 non-null    object\n",
      " 2   avg_user_rev  385 non-null    object\n",
      " 3   beers         385 non-null    object\n",
      "dtypes: object(4)\n",
      "memory usage: 12.2+ KB\n"
     ]
    }
   ],
   "source": [
    "beer_p2.info()"
   ]
  },
  {
   "cell_type": "code",
   "execution_count": 201,
   "metadata": {},
   "outputs": [],
   "source": [
    "def text_cleaning (beerreview):\n",
    "    text =[]\n",
    "    for review in tqdm(beerreview):   \n",
    "        clean_rev = [i.replace(\"\\n\",\"\") for i in review[0].split(\"\\xa0\") if len(i)>0]\n",
    "        clean_rev2 =[ re.findall(r'rDev(.*)',i) for i in clean_rev if len(re.findall(r'rDev(.*)',i))>0]\n",
    "        text.append(clean_rev2)\n",
    "    return text"
   ]
  },
  {
   "cell_type": "code",
   "execution_count": 204,
   "metadata": {},
   "outputs": [
    {
     "name": "stderr",
     "output_type": "stream",
     "text": [
      "100%|██████████| 385/385 [00:00<00:00, 8752.34it/s]\n"
     ]
    }
   ],
   "source": [
    "beer_p2['clean_text'] = text_cleaning(beer_p2.reviews)"
   ]
  },
  {
   "cell_type": "code",
   "execution_count": 264,
   "metadata": {},
   "outputs": [
    {
     "data": {
      "text/plain": [
       "\" -2%look: 4.5 | smell: 4.75 | taste: 4.25 | feel: 4 | overall: 4.25Poured from the can into a teku glass. No visible can dating, or smudged.Absolutley blooming and frothy large but controlled bleach white head. Excellent staying power, like a bold IPA, and a gleaming bright white appearance. Light touches of soapy lacing, while sitting on a shiny opaque but not hazy lemon yellow that's in the goldilocks range, not too dark or light .. Just looking right.. Very great looking brew.The aroma is gang busters. A giant whiff of tropical fruit, soft acidity and a rush that makes your head go places. Giant amounts of passion fruit, hints even key lime and a touch of pie crust sugar crumble. Tropical guava, mango, you name it… you can get lost here. Touches even creamy notes of vanilla strangely in the mix. I am afraid to even drink this because I am convinced this can't be topped and it wont be better at this point… har har..The palate is still quite enjoyable, but seems only a slight let down from the nose, which is understandable. A very ight body, supportive enough, but missing a bit of edge to push this wild into exceptional territory. Still the palate hits solidly with good tropical guava, passion fruit, and mango flavors. Real light bodied and comes off more mimosa and slightly flat champagne in feel, but gives excellent fruit character to the palate. Doesn't quite hint of souring, strangely, as it seems to have really mellowed out in acidity and funk, but in a nice way.I am pretty certain that this is quite a few months old in the can, but seeing that this is so highly rated there was no way I could pass it up for trying. It holds up real impressively, I'd be curious if some of the dry hopping would be more evident for a fresher beer to try. Definitely want to be having this again in the future, and that bouquet is just exquisite!!Aug 16, 2020\""
      ]
     },
     "execution_count": 264,
     "metadata": {},
     "output_type": "execute_result"
    }
   ],
   "source": [
    "text =beer_p2['clean_text'][0][1]\n",
    "text[0]"
   ]
  },
  {
   "cell_type": "code",
   "execution_count": 218,
   "metadata": {},
   "outputs": [],
   "source": [
    "clean = [re.findall(r'\\s*-\\d\\.?\\d?%look: \\d\\.?\\d?% | smell: \\d\\.?\\d+? | taste: \\d\\.?\\d+?| feel: \\d\\.?\\d+? | overall: \\d\\.?\\d+?(\\.*)',i[0]) \n",
    "         for i in beer_p2['clean_text'][0] ]"
   ]
  },
  {
   "cell_type": "code",
   "execution_count": 250,
   "metadata": {},
   "outputs": [
    {
     "data": {
      "text/plain": [
       "['', '', '']"
      ]
     },
     "execution_count": 250,
     "metadata": {},
     "output_type": "execute_result"
    }
   ],
   "source": [
    "re.findall(r'\\s*-\\d\\.?\\d?%look: \\d\\.?\\d?% | smell: \\d\\.?\\d+? | taste: \\d\\.?\\d+?| feel: \\d\\.?\\d+? | overall: \\d\\.?\\d+?(\\.*)',text[0])"
   ]
  },
  {
   "cell_type": "code",
   "execution_count": 302,
   "metadata": {},
   "outputs": [
    {
     "data": {
      "text/plain": [
       "[\" feel: 4 | overall: 4.25Poured from the can into a teku glass. No visible can dating, or smudged.Absolutley blooming and frothy large but controlled bleach white head. Excellent staying power, like a bold IPA, and a gleaming bright white appearance. Light touches of soapy lacing, while sitting on a shiny opaque but not hazy lemon yellow that's in the goldilocks range, not too dark or light .. Just looking right.. Very great looking brew.The aroma is gang busters. A giant whiff of tropical fruit, soft acidity and a rush that makes your head go places. Giant amounts of passion fruit, hints even key lime and a touch of pie crust sugar crumble. Tropical guava, mango, you name it… you can get lost here. Touches even creamy notes of vanilla strangely in the mix. I am afraid to even drink this because I am convinced this can't be topped and it wont be better at this point… har har..The palate is still quite enjoyable, but seems only a slight let down from the nose, which is understandable. A very ight body, supportive enough, but missing a bit of edge to push this wild into exceptional territory. Still the palate hits solidly with good tropical guava, passion fruit, and mango flavors. Real light bodied and comes off more mimosa and slightly flat champagne in feel, but gives excellent fruit character to the palate. Doesn't quite hint of souring, strangely, as it seems to have really mellowed out in acidity and funk, but in a nice way.I am pretty certain that this is quite a few months old in the can, but seeing that this is so highly rated there was no way I could pass it up for trying. It holds up real impressively, I'd be curious if some of the dry hopping would be more evident for a fresher beer to try. Definitely want to be having this again in the future, and that bouquet is just exquisite!!Aug 16, 2020\"]"
      ]
     },
     "execution_count": 302,
     "metadata": {},
     "output_type": "execute_result"
    }
   ],
   "source": [
    "re.findall(patt1+patt2+patt3+\"(.*)\",text[0])"
   ]
  },
  {
   "cell_type": "code",
   "execution_count": 303,
   "metadata": {},
   "outputs": [],
   "source": [
    "text = \"red 45.7 \""
   ]
  },
  {
   "cell_type": "code",
   "execution_count": 306,
   "metadata": {},
   "outputs": [
    {
     "data": {
      "text/plain": [
       "[]"
      ]
     },
     "execution_count": 306,
     "metadata": {},
     "output_type": "execute_result"
    }
   ],
   "source": [
    "re.findall(\"red (.*)\",text[0])"
   ]
  },
  {
   "cell_type": "code",
   "execution_count": null,
   "metadata": {},
   "outputs": [],
   "source": []
  },
  {
   "cell_type": "code",
   "execution_count": 281,
   "metadata": {},
   "outputs": [],
   "source": [
    "patt1=\"\\s*%look:\\s*\\d\\.?\\d+?\\s*\\|\""
   ]
  },
  {
   "cell_type": "code",
   "execution_count": 282,
   "metadata": {},
   "outputs": [],
   "source": [
    "patt2=\"\\s*smell:\\s*\\d\\.?\\d+?\\s*\\|\""
   ]
  },
  {
   "cell_type": "code",
   "execution_count": 283,
   "metadata": {},
   "outputs": [],
   "source": [
    "patt3=\"\\s*taste:\\s*\\d\\.?\\d+?\\s*\\|\""
   ]
  },
  {
   "cell_type": "code",
   "execution_count": 300,
   "metadata": {},
   "outputs": [],
   "source": [
    "patt4=\"\\s*feel:\\s\\d[\\.]?*\""
   ]
  },
  {
   "cell_type": "code",
   "execution_count": 298,
   "metadata": {},
   "outputs": [],
   "source": [
    "patt5=\"\\s*overall:\\s*\\d[\\.]?\\d+?\""
   ]
  },
  {
   "cell_type": "code",
   "execution_count": 291,
   "metadata": {},
   "outputs": [
    {
     "ename": "SyntaxError",
     "evalue": "invalid syntax (<ipython-input-291-58f8e9031629>, line 1)",
     "output_type": "error",
     "traceback": [
      "\u001b[0;36m  File \u001b[0;32m\"<ipython-input-291-58f8e9031629>\"\u001b[0;36m, line \u001b[0;32m1\u001b[0m\n\u001b[0;31m    patt = look: \\d\\.?\\d+?\\s\\|\\ssmell: \\d\\.?\\d+?\\s\\|\\staste: \\d\\.?\\d+?\\s\\|\\sfeel: \\d\\.?\\d+?\\s\\|\\s*overall:\u001b[0m\n\u001b[0m               ^\u001b[0m\n\u001b[0;31mSyntaxError\u001b[0m\u001b[0;31m:\u001b[0m invalid syntax\n"
     ]
    }
   ],
   "source": [
    "patt = look: \\d\\.?\\d+?\\s\\|\\ssmell: \\d\\.?\\d+?\\s\\|\\staste: \\d\\.?\\d+?\\s\\|\\sfeel: \\d\\.?\\d+?\\s\\|\\s*overall:"
   ]
  },
  {
   "cell_type": "code",
   "execution_count": null,
   "metadata": {},
   "outputs": [],
   "source": []
  },
  {
   "cell_type": "code",
   "execution_count": null,
   "metadata": {},
   "outputs": [],
   "source": []
  }
 ],
 "metadata": {
  "kernelspec": {
   "display_name": "Python 3",
   "language": "python",
   "name": "python3"
  },
  "language_info": {
   "codemirror_mode": {
    "name": "ipython",
    "version": 3
   },
   "file_extension": ".py",
   "mimetype": "text/x-python",
   "name": "python",
   "nbconvert_exporter": "python",
   "pygments_lexer": "ipython3",
   "version": "3.8.2"
  }
 },
 "nbformat": 4,
 "nbformat_minor": 2
}
